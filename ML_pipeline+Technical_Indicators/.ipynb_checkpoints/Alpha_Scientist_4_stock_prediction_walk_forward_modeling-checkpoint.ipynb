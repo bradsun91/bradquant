{
 "cells": [
  {
   "cell_type": "markdown",
   "metadata": {},
   "source": [
    "https://github.com/convergenceIM/alpha-scientist/blob/master/content/04_Walk_Forward_Modeling.ipynb"
   ]
  },
  {
   "cell_type": "markdown",
   "metadata": {},
   "source": [
    "# Key Takeaways\n",
    "\n",
    "- Traditional methods of validation and cross-validation are problematic for time series prediction problems\n",
    "- The solution is to use a \"walk-forward\" approach which incorporates new information as it becomes available.\n",
    "- This approach gives us a more realistic view of how effective our model would truly have been in the past, and helps to avoid the overfitting trap.\n",
    "- It's often important to exclude data which is too far in the past using a rolling window."
   ]
  },
  {
   "cell_type": "markdown",
   "metadata": {},
   "source": [
    "# Introduction\n",
    "\n",
    "This is the fourth post in my series on transforming data into alpha. If you haven't yet see the framework overview, feature engineering guide, or feature_selection_guide, please take a minute to read those first. This post will build on the framework and philosophy presented there.\n",
    "\n",
    "This post is going to delve into the mechanics of walk-forward modeling which is, in my view, the most robust way to train and apply machine learning models in inherently sequential domains like finance. If you'd like to replicate and experiment with the below code, you can download the source notebook for this post by right-clicking on the below button and choosing \"save link as\""
   ]
  },
  {
   "cell_type": "markdown",
   "metadata": {},
   "source": [
    "The domain of market prediction presents several unique challenges for machine learning practitioners which do not exist in spam detection, natural language processing, image recognition, or other common areas of machine learning success, including:\n",
    "\n",
    "- Low signal-to-noise ratio\n",
    "- Non-stationarity (aka regime switching)\n",
    "- Market adaptation (aka reflexivity)\n",
    "\n",
    "The combination of these challenges make it difficult to train and tune models which generalize to the future, where it really matters. This, in my view, has led many to conclude that markets cannot be predicted with machine learning techniques.\n",
    "\n",
    "This is a flawed conclusion. Instead, we should conclude that it's imperative to follow a modeling process which (1) avoids the trap of overfitting models to noise, (2) takes into account the sequential dimension of time series data, and (3) allows us to get an accurate view about how various models would have performed in the past given the information we would have had at that time.\n",
    "\n",
    "\"But wait!\" I hear you saying, \"Overfitting is not unique to market prediction!\". True, but the commonly used techniques of train-test split and cross-validation each have major flaws when applied to an inherently sequential set of financial time series data.\n",
    "\n",
    "The overriding objective of the methods described here is to overcome the issues inherent in traditional cross validation approachs."
   ]
  },
  {
   "cell_type": "markdown",
   "metadata": {},
   "source": [
    "## Issues with typical approaches\n",
    "\n",
    "Train-Test Split: One frequently recommended approach in finance ML tutorials is to split the data (commonly, by time) and to train on the first chunk of data and test out-of-sample on the second. This is not wrong per se, but creates two problems:\n",
    "\n",
    "Only a fraction of data can be used to generate out-of-sample performance of the model. If you split 80/20, then you only get results for 2 of every 10 years of data. Yuck.\n",
    "\n",
    "You're implicitly biased towards the most recent period. Since we're likely going to use the older data to train and newer data to test (for good reason...) you are implicitly searching for a model which was in favor during the most recent couple of years. Maybe last year is a good approximation for next year, but maybe it's not. Maybe 2008 would hold some important lessons for us to evaluate, but these would be lost to us.\n",
    "\n",
    "You might consider train/test split with random (or non-random) sampling but this creates other fairly obvious issues with peeking into the future.\n",
    "\n",
    "Cross Validation: In normal ML usage, cross-validation methods, such as the K-fold cross validation, provide an elegant way to have our digital cake and eat it too. However, with inherently sequential datasets, it's really not kosher to train a model on 2016 and 2018 to predict 2017.\n",
    "\n",
    "Another common method, leave one out cross-validation, creates even more extreme peeking into the future. These issues are especially intolerable if your model predicts values multiple bars in the future, which results in your models being trained on data which significantly overlaps with your test data - a subtle but deadly form of data spillover.\n",
    "\n",
    "## The Solution: Walk-forward Train/Test\n",
    "But we are not stuck with either of these problematic approaches. The better - and I think much more intuitive - approach is to simulate models in a \"walk-forward\" sequence, periodically re-training the model to incorporate all data available at that point in time.\n",
    "\n",
    "The below picture is worth at least 1000 words. Say we have six years of data to train + test. At the end of the first year (T=1) we could have built model M1, which was trained on the first year's data (the grey bar). After the 5th year, we could use up to five years of data to train model M5."
   ]
  },
  {
   "cell_type": "markdown",
   "metadata": {},
   "source": [
    "# Getting Started\n",
    "\n",
    "As in prior posts, we'll begin by fetching some real stock price data and then generating from it a synthetic dataset which will make it easier to follow the principles of this tutorial. Please refer to the previous post Feature Selection for further explanation of the reasoning and mechanics of creating synthetic data."
   ]
  },
  {
   "cell_type": "code",
   "execution_count": 3,
   "metadata": {},
   "outputs": [],
   "source": [
    "import pandas as pd, numpy as np\n",
    "import matplotlib.pyplot as plt\n",
    "from datetime import datetime\n",
    "\n",
    "%matplotlib inline"
   ]
  },
  {
   "cell_type": "code",
   "execution_count": 6,
   "metadata": {},
   "outputs": [],
   "source": [
    "location = \"C:/Users/workspace/brad_public_workspace_on_win/SH_tongliang/data/commodities_data/12_28_commodities_daily/\" \n",
    "j = \"j9000_d.csv\"\n",
    "jm = \"jm000_d.csv\""
   ]
  },
  {
   "cell_type": "code",
   "execution_count": 7,
   "metadata": {},
   "outputs": [],
   "source": [
    "j_df = pd.read_csv(location+j, engine=\"python\", header=None)\n",
    "jm_df = pd.read_csv(location+jm, engine='python', header=None)\n",
    "j_df.columns = ['date', 'open', 'high', 'low', 'close', 'volume', 'holdings']\n",
    "jm_df.columns = ['date', 'open', 'high', 'low', 'close', 'volume', 'holdings']\n",
    "\n",
    "jm_df_cols = jm_df[['date', 'open', 'high', 'low', 'close', 'volume']]\n",
    "j_df_cols = j_df[['date', 'open', 'high', 'low', 'close', 'volume']]\n",
    "\n",
    "jm_df_cols['symbol'] = 'jm'\n",
    "j_df_cols['symbol'] = 'j'\n",
    "\n",
    "jm_df_cols['date'] = pd.to_datetime(jm_df_cols['date'])\n",
    "j_df_cols['date'] = pd.to_datetime(j_df_cols['date'])\n",
    "\n",
    "jm_df_cols = jm_df_cols.set_index(['date','symbol'])\n",
    "j_df_cols = j_df_cols.set_index(['date', 'symbol'])\n",
    "\n",
    "prices = pd.concat([jm_df_cols, j_df_cols]).sort_index()"
   ]
  },
  {
   "cell_type": "code",
   "execution_count": 8,
   "metadata": {},
   "outputs": [
    {
     "data": {
      "text/html": [
       "<div>\n",
       "<style scoped>\n",
       "    .dataframe tbody tr th:only-of-type {\n",
       "        vertical-align: middle;\n",
       "    }\n",
       "\n",
       "    .dataframe tbody tr th {\n",
       "        vertical-align: top;\n",
       "    }\n",
       "\n",
       "    .dataframe thead th {\n",
       "        text-align: right;\n",
       "    }\n",
       "</style>\n",
       "<table border=\"1\" class=\"dataframe\">\n",
       "  <thead>\n",
       "    <tr style=\"text-align: right;\">\n",
       "      <th></th>\n",
       "      <th></th>\n",
       "      <th>open</th>\n",
       "      <th>high</th>\n",
       "      <th>low</th>\n",
       "      <th>close</th>\n",
       "      <th>volume</th>\n",
       "    </tr>\n",
       "    <tr>\n",
       "      <th>date</th>\n",
       "      <th>symbol</th>\n",
       "      <th></th>\n",
       "      <th></th>\n",
       "      <th></th>\n",
       "      <th></th>\n",
       "      <th></th>\n",
       "    </tr>\n",
       "  </thead>\n",
       "  <tbody>\n",
       "    <tr>\n",
       "      <th>2011-04-15</th>\n",
       "      <th>j</th>\n",
       "      <td>2275.0</td>\n",
       "      <td>2285.0</td>\n",
       "      <td>2228.0</td>\n",
       "      <td>2250.0</td>\n",
       "      <td>58080</td>\n",
       "    </tr>\n",
       "    <tr>\n",
       "      <th>2011-04-18</th>\n",
       "      <th>j</th>\n",
       "      <td>2239.0</td>\n",
       "      <td>2389.0</td>\n",
       "      <td>2237.0</td>\n",
       "      <td>2382.0</td>\n",
       "      <td>133636</td>\n",
       "    </tr>\n",
       "    <tr>\n",
       "      <th>2011-04-19</th>\n",
       "      <th>j</th>\n",
       "      <td>2371.0</td>\n",
       "      <td>2385.0</td>\n",
       "      <td>2321.0</td>\n",
       "      <td>2337.0</td>\n",
       "      <td>205268</td>\n",
       "    </tr>\n",
       "    <tr>\n",
       "      <th>2011-04-20</th>\n",
       "      <th>j</th>\n",
       "      <td>2353.0</td>\n",
       "      <td>2396.0</td>\n",
       "      <td>2329.0</td>\n",
       "      <td>2344.0</td>\n",
       "      <td>176032</td>\n",
       "    </tr>\n",
       "    <tr>\n",
       "      <th>2011-04-21</th>\n",
       "      <th>j</th>\n",
       "      <td>2359.0</td>\n",
       "      <td>2364.0</td>\n",
       "      <td>2324.0</td>\n",
       "      <td>2336.0</td>\n",
       "      <td>97806</td>\n",
       "    </tr>\n",
       "  </tbody>\n",
       "</table>\n",
       "</div>"
      ],
      "text/plain": [
       "                     open    high     low   close  volume\n",
       "date       symbol                                        \n",
       "2011-04-15 j       2275.0  2285.0  2228.0  2250.0   58080\n",
       "2011-04-18 j       2239.0  2389.0  2237.0  2382.0  133636\n",
       "2011-04-19 j       2371.0  2385.0  2321.0  2337.0  205268\n",
       "2011-04-20 j       2353.0  2396.0  2329.0  2344.0  176032\n",
       "2011-04-21 j       2359.0  2364.0  2324.0  2336.0   97806"
      ]
     },
     "execution_count": 8,
     "metadata": {},
     "output_type": "execute_result"
    }
   ],
   "source": [
    "prices.head()"
   ]
  },
  {
   "cell_type": "markdown",
   "metadata": {},
   "source": [
    "Similar to the previous post, we will generate some random data to serve as features and then derive an outcome (response) variable from the features (to ensure that our made-up features will have ability to partially predict the target variable).\n",
    "\n",
    "However, this go around we'll add two non-random patterns to the data. First, we will add some amount of \"memory\" (autoregression) to the white noise with a short function called add_memory(). This will make the data somewhat less random and more similar to actual markets - which I think we can all agree is not a purely gaussian random walk...\n",
    "\n",
    "Second, we'll add trend to the importance of each feature to the target variable to simulate the reality that various features - and the market factors they represent - move in and out of favor over time (aka \"regime shift\").\n",
    "\n",
    "- Feature f01 is becoming more important\n",
    "- Feature f02 is becoming less important\n",
    "- Feature f03 is oscillating between very important and unimportant (using a sine wave pattern)\n",
    "- Feature f04 is not changing"
   ]
  },
  {
   "cell_type": "code",
   "execution_count": 9,
   "metadata": {},
   "outputs": [],
   "source": [
    "num_obs = prices.close.count()"
   ]
  },
  {
   "cell_type": "code",
   "execution_count": 11,
   "metadata": {},
   "outputs": [],
   "source": [
    "def add_memory(s,n_days=50,memory_strength=0.1):\n",
    "    ''' adds autoregressive behavior to series of data'''\n",
    "    add_ewm = lambda x: (1-memory_strength)*x + memory_strength*x.ewm(n_days).mean()\n",
    "    out = s.groupby(level='symbol').apply(add_ewm)\n",
    "    return out"
   ]
  },
  {
   "cell_type": "code",
   "execution_count": 12,
   "metadata": {},
   "outputs": [],
   "source": [
    "# generate feature data\n",
    "f01 = pd.Series(np.random.randn(num_obs),index=prices.index)\n",
    "f01 = add_memory(f01,10,0.1)\n",
    "f02 = pd.Series(np.random.randn(num_obs),index=prices.index)\n",
    "f02 = add_memory(f02,10,0.1)\n",
    "f03 = pd.Series(np.random.randn(num_obs),index=prices.index)\n",
    "f03 = add_memory(f03,10,0.1)\n",
    "f04 = pd.Series(np.random.randn(num_obs),index=prices.index)\n",
    "f04 = f04 # no memory\n",
    "\n",
    "## now, create response variable such that it is related to features\n",
    "# f01 becomes increasingly important, \n",
    "# f02 becomes decreasingly important,\n",
    "# f03 oscillates in importance, \n",
    "# f04 is stationary, finally a noise component is added\n",
    "\n",
    "outcome =   f01 * np.linspace(0.5,1.5,num_obs) + \\\n",
    "            f02 * np.linspace(1.5,0.5,num_obs) + \\\n",
    "            f03 * pd.Series(np.sin(2*np.pi*np.linspace(0,1,num_obs)*2)+1,index=f03.index) + \\\n",
    "            f04 + \\\n",
    "            np.random.randn(num_obs) * 3 \n",
    "outcome.name = 'outcome'"
   ]
  },
  {
   "cell_type": "markdown",
   "metadata": {},
   "source": [
    "So, we've now got four features which contain random and non-random elements, and we have an outcome target variable which can be partially explained by these features.\n",
    "\n",
    "Let's run a quick linear model to verify that this worked as expected:"
   ]
  },
  {
   "cell_type": "code",
   "execution_count": 23,
   "metadata": {},
   "outputs": [
    {
     "name": "stdout",
     "output_type": "stream",
     "text": [
      "RSQ: 0.2540012985103063\n",
      "Regression Coefficients: [0.95286619 0.95166488 0.98430239 0.97170466]\n"
     ]
    }
   ],
   "source": [
    "from sklearn.linear_model import LinearRegression\n",
    "model = LinearRegression()\n",
    "features = pd.concat([f01,f02,f03,f04],axis=1)\n",
    "features.columns = ['f01','f02','f03','f04']\n",
    "model.fit(X=features,y=outcome)\n",
    "print('RSQ: '+str(model.score(X=features,y=outcome)))\n",
    "print('Regression Coefficients: '+str(model.coef_))"
   ]
  },
  {
   "cell_type": "markdown",
   "metadata": {},
   "source": [
    "Indeed. A simple, linear model run on the entire dataset shows a remarkable (for this domain) RSQ of >0.25 and approximately equal coefficients for each of the features, suggesting that they're all contributing strongly to the model.\n",
    "\n",
    "However, this overlooks the very important reality that our data is non-stationary and what matters is how the model will generalize to future, unseen data.\n",
    "\n",
    "To illustrate, I'll re-run the same model after splitting the data into train/test sets, with the first 80% used to train and the last 20% used to test."
   ]
  },
  {
   "cell_type": "code",
   "execution_count": 24,
   "metadata": {},
   "outputs": [
    {
     "name": "stdout",
     "output_type": "stream",
     "text": [
      "RSQ in sample: 0.2647388580552873\n",
      "RSQ out of sample: 0.18748725712416026\n",
      "Regression Coefficients: [0.84319378 1.05329115 1.16708358 0.92337944]\n"
     ]
    }
   ],
   "source": [
    "split_point = int(0.80*len(outcome))\n",
    "\n",
    "X_train = features.iloc[:split_point,:] \n",
    "y_train = outcome.iloc[:split_point] \n",
    "X_test = features.iloc[split_point:,:] \n",
    "y_test = outcome.iloc[split_point:] \n",
    "\n",
    "model = LinearRegression()\n",
    "model.fit(X=X_train,y=y_train)\n",
    "\n",
    "print('RSQ in sample: '+str(model.score(X=X_train,y=y_train)))\n",
    "print('RSQ out of sample: '+str(model.score(X=X_test,y=y_test)))\n",
    "print('Regression Coefficients: '+str(model.coef_))"
   ]
  },
  {
   "cell_type": "markdown",
   "metadata": {},
   "source": [
    "## A Better Approach\n",
    "\n",
    "Here, the results tell a different story. We see that the model's RSQ on the unseen test data degraded to only about half of the value on the training data. Even if we were still satisfied with the degraded RSQ value, we would carry concern that perhaps the next period of time the models would degrade even further.\n",
    "\n",
    "This is where our walk-forward process comes in."
   ]
  },
  {
   "cell_type": "markdown",
   "metadata": {},
   "source": [
    "Here, I'll outline the basic design pattern for a robust approach to walk-forward modeling. This is simplified. In real-world usage, we'd likely add many enhancements but this will illustrate the concept."
   ]
  },
  {
   "cell_type": "markdown",
   "metadata": {},
   "source": [
    "## Training models"
   ]
  },
  {
   "cell_type": "markdown",
   "metadata": {},
   "source": [
    "The first step of the walk-forward approach is to train our model using only the data available at any given point in time. Theoretically, we have new data every bar so could retrain the model daily if we wished. However, for simplicity we'll retrain much less frequently - at the end of each calendar year.\n",
    "\n",
    "We'll first create a list of timestamps for all end-of-year dates in our dataset. These will become our days on which to retrain models. Then, on each of the recalculation dates, we'll follow a simple procedure:\n",
    "\n",
    "- slice out only the data which has happened up until that point\n",
    "- train a model with that data\n",
    "- save a copy of that fitted model object in a pandas Series called models which is indexed by the recalculation date.\n",
    "\n",
    "We could just as easily have used a dict or other data structure, but I find that pandas Series works well for this purpose. Pandas is not just for numbers, after all..."
   ]
  },
  {
   "cell_type": "code",
   "execution_count": 25,
   "metadata": {},
   "outputs": [
    {
     "name": "stdout",
     "output_type": "stream",
     "text": [
      "Training on the first 53 records, through 2011-06-30 00:00:00\n",
      "Training on the first 118 records, through 2011-09-30 00:00:00\n",
      "Training on the first 178 records, through 2011-12-30 00:00:00\n",
      "Training on the first 236 records, through 2012-03-30 00:00:00\n",
      "Training on the first 295 records, through 2012-06-29 00:00:00\n",
      "Training on the first 360 records, through 2012-09-28 00:00:00\n",
      "Training on the first 421 records, through 2012-12-31 00:00:00\n",
      "Training on the first 483 records, through 2013-03-29 00:00:00\n",
      "Training on the first 597 records, through 2013-06-28 00:00:00\n",
      "Training on the first 725 records, through 2013-09-30 00:00:00\n",
      "Training on the first 847 records, through 2013-12-31 00:00:00\n",
      "Training on the first 963 records, through 2014-03-31 00:00:00\n",
      "Training on the first 1085 records, through 2014-06-30 00:00:00\n",
      "Training on the first 1215 records, through 2014-09-30 00:00:00\n",
      "Training on the first 1337 records, through 2014-12-31 00:00:00\n",
      "Training on the first 1451 records, through 2015-03-31 00:00:00\n",
      "Training on the first 1575 records, through 2015-06-30 00:00:00\n",
      "Training on the first 1703 records, through 2015-09-30 00:00:00\n",
      "Training on the first 1825 records, through 2015-12-31 00:00:00\n",
      "Training on the first 1943 records, through 2016-03-31 00:00:00\n",
      "Training on the first 2065 records, through 2016-06-30 00:00:00\n",
      "Training on the first 2193 records, through 2016-09-30 00:00:00\n",
      "Training on the first 2313 records, through 2016-12-30 00:00:00\n",
      "Training on the first 2431 records, through 2017-03-31 00:00:00\n",
      "Training on the first 2551 records, through 2017-06-30 00:00:00\n",
      "Training on the first 2681 records, through 2017-09-29 00:00:00\n",
      "Training on the first 2801 records, through 2017-12-29 00:00:00\n",
      "Training on the first 2919 records, through 2018-03-30 00:00:00\n",
      "Training on the first 3039 records, through 2018-06-29 00:00:00\n",
      "Training on the first 3167 records, through 2018-09-28 00:00:00\n"
     ]
    }
   ],
   "source": [
    "recalc_dates = features.resample('Q',level='date').mean().index.values[:-1]\n",
    "#print('recalc_dates:')\n",
    "#print(recalc_dates)\n",
    "#print()\n",
    "\n",
    "models = pd.Series(index=recalc_dates)\n",
    "for date in recalc_dates:\n",
    "    X_train = features.xs(slice(None,date),level='date',drop_level=False)\n",
    "    y_train = outcome.xs(slice(None,date),level='date',drop_level=False)\n",
    "    model = LinearRegression()\n",
    "    model.fit(X_train,y_train)\n",
    "    models.loc[date] = model\n",
    "    \n",
    "    \n",
    "    print(\"Training on the first {} records, through {}\"\\\n",
    "          .format(len(y_train),y_train.index.get_level_values('date').max()))\n",
    "    #print(\"Coefficients: {}\".format((model.coef_)))\n",
    "    #print()"
   ]
  },
  {
   "cell_type": "markdown",
   "metadata": {},
   "source": [
    "To visualize how the model is changing over time, I'll create a simple plotting function of coefficients:"
   ]
  },
  {
   "cell_type": "code",
   "execution_count": 26,
   "metadata": {},
   "outputs": [
    {
     "name": "stderr",
     "output_type": "stream",
     "text": [
      "C:\\Users\\Brad Sun\\Anaconda3\\lib\\site-packages\\ipykernel_launcher.py:6: FutureWarning: Sorting because non-concatenation axis is not aligned. A future version\n",
      "of pandas will change to not sort by default.\n",
      "\n",
      "To accept the future behavior, pass 'sort=False'.\n",
      "\n",
      "To retain the current behavior and silence the warning, pass 'sort=True'.\n",
      "\n",
      "  \n"
     ]
    },
    {
     "data": {
      "text/plain": [
       "<matplotlib.axes._subplots.AxesSubplot at 0x1ad4d102748>"
      ]
     },
     "execution_count": 26,
     "metadata": {},
     "output_type": "execute_result"
    },
    {
     "data": {
      "image/png": "[encoded data removed]",
      "text/plain": [
       "<Figure size 432x288 with 1 Axes>"
      ]
     },
     "metadata": {
      "needs_background": "light"
     },
     "output_type": "display_data"
    }
   ],
   "source": [
    "def extract_coefs(models):\n",
    "    coefs = pd.DataFrame()\n",
    "    for i,model in enumerate(models):\n",
    "        model_coefs = pd.Series(model.coef_,index=['f01','f02','f03','f04']) #extract coefficients for model\n",
    "        model_coefs.name = models.index[i] # name it with the recalc date\n",
    "        coefs = pd.concat([coefs,model_coefs],axis=1)\n",
    "    return coefs.T\n",
    "extract_coefs(models).plot(title='Coefficients for Expanding Window Model')"
   ]
  },
  {
   "cell_type": "markdown",
   "metadata": {},
   "source": [
    "Notice a few things about how the model's coefficients change over time:\n",
    "\n",
    "- The first feature gets increasing weight as it becomes a more important explanatory factor in the target variable,\n",
    "- the second feature does just the opposite, as it should,\n",
    "- the third feature oscillates before converging on a relatively lower endpoint, and\n",
    "- the fourth feature is mostly unchanged\n",
    "\n",
    "But, in a world of constantly shifting regimes, we can do better.\n",
    "\n",
    "We know that, by the end fo the dataset, f01 is actually much superior to f02 however they end at about equal weights. This is because in our final model building instance, we are using all of our data to train, and this entire set of data correctly shows that on average f02 is as useful as f01, ignoring that f02's best days are long past."
   ]
  },
  {
   "cell_type": "code",
   "execution_count": 27,
   "metadata": {},
   "outputs": [
    {
     "name": "stdout",
     "output_type": "stream",
     "text": [
      "Training on the most recent 53 records\n",
      "Training on the most recent 64 records\n",
      "Training on the most recent 60 records\n",
      "Training on the most recent 58 records\n",
      "Training on the most recent 59 records\n",
      "Training on the most recent 65 records\n",
      "Training on the most recent 61 records\n",
      "Training on the most recent 63 records\n",
      "Training on the most recent 114 records\n",
      "Training on the most recent 126 records\n",
      "Training on the most recent 122 records\n",
      "Training on the most recent 118 records\n",
      "Training on the most recent 122 records\n",
      "Training on the most recent 128 records\n",
      "Training on the most recent 122 records\n",
      "Training on the most recent 116 records\n",
      "Training on the most recent 124 records\n",
      "Training on the most recent 126 records\n",
      "Training on the most recent 122 records\n",
      "Training on the most recent 118 records\n",
      "Training on the most recent 122 records\n",
      "Training on the most recent 126 records\n",
      "Training on the most recent 120 records\n",
      "Training on the most recent 118 records\n",
      "Training on the most recent 120 records\n",
      "Training on the most recent 130 records\n",
      "Training on the most recent 120 records\n",
      "Training on the most recent 118 records\n",
      "Training on the most recent 120 records\n",
      "Training on the most recent 128 records\n"
     ]
    },
    {
     "name": "stderr",
     "output_type": "stream",
     "text": [
      "C:\\Users\\Brad Sun\\Anaconda3\\lib\\site-packages\\ipykernel_launcher.py:6: FutureWarning: Sorting because non-concatenation axis is not aligned. A future version\n",
      "of pandas will change to not sort by default.\n",
      "\n",
      "To accept the future behavior, pass 'sort=False'.\n",
      "\n",
      "To retain the current behavior and silence the warning, pass 'sort=True'.\n",
      "\n",
      "  \n"
     ]
    },
    {
     "data": {
      "text/plain": [
       "<matplotlib.axes._subplots.AxesSubplot at 0x1ad4d22b6d8>"
      ]
     },
     "execution_count": 27,
     "metadata": {},
     "output_type": "execute_result"
    },
    {
     "data": {
      "image/png": "[encoded data removed]",
      "text/plain": [
       "<Figure size 432x288 with 1 Axes>"
      ]
     },
     "metadata": {
      "needs_background": "light"
     },
     "output_type": "display_data"
    }
   ],
   "source": [
    "recalc_dates = features.resample('Q',level='date').mean().index.values[:-1]\n",
    "\n",
    "models = pd.Series(index=recalc_dates)\n",
    "for date in recalc_dates:\n",
    "    X_train = features.xs(slice(date-pd.Timedelta('90 days'),date),level='date',drop_level=False)\n",
    "    y_train = outcome.xs(slice(date-pd.Timedelta('90 days'),date),level='date',drop_level=False)\n",
    "    model = LinearRegression()\n",
    "    model.fit(X_train,y_train)\n",
    "    models.loc[date] = model\n",
    "    \n",
    "    print(\"Training on the most recent {} records\".format(len(y_train)))\n",
    "    #print(\"Coefficients: {}\".format((model.coef_)))\n",
    "    \n",
    "extract_coefs(models).plot(title='Coefficients for Rolling Window Model')"
   ]
  },
  {
   "cell_type": "markdown",
   "metadata": {},
   "source": [
    "This approach of only considering the 90 days' data prior to each model re-training has had a big impact. We now see that f01 has overtaken f02 in significance by the end of the time period, as we'd hope. The on-again, off-again feature f03 has risen and fallen in prominence over time, again just as we'd hope."
   ]
  },
  {
   "cell_type": "markdown",
   "metadata": {},
   "source": [
    "## Using models"
   ]
  },
  {
   "cell_type": "markdown",
   "metadata": {},
   "source": [
    "The second stage of the process is using these walk-forward models. The process is similar and equally simple.\n",
    "\n",
    "First, we create two arrays, begin_dates and end_dates, which contain the dates on which each model is used. For instance, for the first model (i=0), we will apply this model to features beginning on the date we trained the model (recalc_date) until the day the next model is trained. The end_dates array therefore drops the 0th element and appends to the end a far-off date (in the year 2099).\n",
    "\n",
    "We can equally easily use this pattern to apply the models to true out of sample features. As long as it's not later than the year 2099, we'll simply apply the latest and greatest model we have."
   ]
  },
  {
   "cell_type": "code",
   "execution_count": 28,
   "metadata": {},
   "outputs": [
    {
     "data": {
      "text/plain": [
       "(3287,)"
      ]
     },
     "execution_count": 28,
     "metadata": {},
     "output_type": "execute_result"
    }
   ],
   "source": [
    "begin_dates = models.index\n",
    "end_dates = models.index[1:].append(pd.to_datetime(['2099-12-31']))\n",
    "\n",
    "predictions = pd.Series(index=features.index)\n",
    "\n",
    "for i,model in enumerate(models): #loop thru each models object in collection\n",
    "    X = features.xs(slice(begin_dates[i],end_dates[i]),level='date',drop_level=False)\n",
    "    p = pd.Series(model.predict(X),index=X.index)\n",
    "    predictions.loc[X.index] = p\n",
    "\n",
    "predictions.shape"
   ]
  },
  {
   "cell_type": "markdown",
   "metadata": {},
   "source": [
    "So, this looped through each of the models we had trained at various points in time and, for each, used that model to predict the period of time until the next model became available. It runs!\n",
    "\n",
    "Now we can confirm that the rolling model is, in fact, better than the \"expanding\" model by making predictions with each and comparing to truth."
   ]
  },
  {
   "cell_type": "code",
   "execution_count": 29,
   "metadata": {},
   "outputs": [],
   "source": [
    "models_expanding_window = pd.Series(index=recalc_dates)\n",
    "for date in recalc_dates:\n",
    "    X_train = features.xs(slice(None,date),level='date',drop_level=False)\n",
    "    y_train = outcome.xs(slice(None,date),level='date',drop_level=False)\n",
    "    model = LinearRegression()\n",
    "    model.fit(X_train,y_train)\n",
    "    models_expanding_window.loc[date] = model\n",
    "    \n",
    "models_rolling_window = pd.Series(index=recalc_dates)\n",
    "for date in recalc_dates:\n",
    "    X_train = features.xs(slice(date-pd.Timedelta('90 days'),date),level='date',drop_level=False)\n",
    "    y_train = outcome.xs(slice(date-pd.Timedelta('90 days'),date),level='date',drop_level=False)\n",
    "    model = LinearRegression()\n",
    "    model.fit(X_train,y_train)\n",
    "    models_rolling_window.loc[date] = model\n",
    "    \n",
    "begin_dates = models.index\n",
    "end_dates = models.index[1:].append(pd.to_datetime(['2099-12-31']))\n",
    "\n",
    "predictions_expanding_window = pd.Series(index=features.index)\n",
    "for i,model in enumerate(models_expanding_window): #loop thru each models object in collection\n",
    "    X = features.xs(slice(begin_dates[i],end_dates[i]),level='date',drop_level=False)\n",
    "    p = pd.Series(model.predict(X),index=X.index)\n",
    "    predictions_expanding_window.loc[X.index] = p\n",
    "    \n",
    "predictions_rolling_window = pd.Series(index=features.index)\n",
    "for i,model in enumerate(models_rolling_window): #loop thru each models object in collection\n",
    "    X = features.xs(slice(begin_dates[i],end_dates[i]),level='date',drop_level=False)\n",
    "    p = pd.Series(model.predict(X),index=X.index)\n",
    "    predictions_rolling_window.loc[X.index] = p"
   ]
  },
  {
   "cell_type": "code",
   "execution_count": 30,
   "metadata": {},
   "outputs": [
    {
     "name": "stdout",
     "output_type": "stream",
     "text": [
      "Expanding Window RSQ: 0.244\n",
      "Rolling Window RSQ: 0.253\n"
     ]
    }
   ],
   "source": [
    "from sklearn.metrics import r2_score\n",
    "\n",
    "common_idx = outcome.dropna().index.intersection(predictions_expanding_window.dropna().index)\n",
    "rsq_expanding = r2_score(y_true = outcome[common_idx],y_pred=predictions_expanding_window[common_idx])\n",
    "rsq_rolling = r2_score(y_true = outcome[common_idx],y_pred=predictions_rolling_window[common_idx])\n",
    "\n",
    "print(\"Expanding Window RSQ: {}\".format(round(rsq_expanding,3)))\n",
    "print(\"Rolling Window RSQ: {}\".format(round(rsq_rolling,3)))"
   ]
  },
  {
   "cell_type": "markdown",
   "metadata": {},
   "source": [
    "Great! All of that work added about 3 points to the RSQ, which is certainly worth the effort."
   ]
  },
  {
   "cell_type": "markdown",
   "metadata": {},
   "source": [
    "## Avoiding complexity"
   ]
  },
  {
   "cell_type": "markdown",
   "metadata": {},
   "source": [
    "The value of this walk-forward methodology is greatest when it helps you to avoid the scourge of overfitting. The linear regression model used up to this point is relatively resistant to overfit, since it has few parameters.\n",
    "\n",
    "Let's say that, instead of a simple linear regression, we used the much more overfit-prone DecisionTree, which has tendency to \"memorize the past\" rather than to recognize patterns in it."
   ]
  },
  {
   "cell_type": "code",
   "execution_count": 31,
   "metadata": {},
   "outputs": [
    {
     "name": "stdout",
     "output_type": "stream",
     "text": [
      "RSQ in sample: 0.179\n",
      "RSQ out of sample: 0.046\n"
     ]
    }
   ],
   "source": [
    "from sklearn.tree import DecisionTreeRegressor\n",
    "\n",
    "split_point = int(0.80*len(outcome))\n",
    "\n",
    "X_train = features.iloc[:split_point,:] \n",
    "y_train = outcome.iloc[:split_point] \n",
    "X_test = features.iloc[split_point:,:] \n",
    "y_test = outcome.iloc[split_point:] \n",
    "\n",
    "model = DecisionTreeRegressor(max_depth=3)\n",
    "model.fit(X=X_train,y=y_train)\n",
    "\n",
    "print('RSQ in sample: '+str(round(model.score(X=X_train,y=y_train),3)))\n",
    "print('RSQ out of sample: '+str(round(model.score(X=X_test,y=y_test),3)))"
   ]
  },
  {
   "cell_type": "markdown",
   "metadata": {},
   "source": [
    "This leads to overfit disaster! Now, we'll do the same with our walk-forward framework:"
   ]
  },
  {
   "cell_type": "code",
   "execution_count": 32,
   "metadata": {},
   "outputs": [
    {
     "name": "stdout",
     "output_type": "stream",
     "text": [
      "RSQ out of sample (rolling): 0.074\n"
     ]
    }
   ],
   "source": [
    "recalc_dates = features.resample('Q',level='date').mean().index.values[:-1]\n",
    "\n",
    "models_rolling_window = pd.Series(index=recalc_dates)\n",
    "for date in recalc_dates:\n",
    "    X_train = features.xs(slice(date-pd.Timedelta('365 days'),date),level='date',drop_level=False)\n",
    "    y_train = outcome.xs(slice(date-pd.Timedelta('365 days'),date),level='date',drop_level=False)\n",
    "    model = DecisionTreeRegressor(max_depth=3)\n",
    "    model.fit(X_train,y_train)\n",
    "    models_rolling_window.loc[date] = model\n",
    "    \n",
    "predictions_rolling_window = pd.Series(index=features.index)\n",
    "for i,model in enumerate(models_rolling_window): #loop thru each models object in collection\n",
    "    X = features.xs(slice(begin_dates[i],end_dates[i]),level='date',drop_level=False)\n",
    "    p = pd.Series(model.predict(X),index=X.index)\n",
    "    predictions_rolling_window.loc[X.index] = p\n",
    "\n",
    "common_idx = y_test.dropna().index.intersection(predictions_rolling_window.dropna().index)\n",
    "rsq_rolling = r2_score(y_true = y_test[common_idx],y_pred=predictions_rolling_window[common_idx])\n",
    "print(\"RSQ out of sample (rolling): {}\".format(round(rsq_rolling,3)))"
   ]
  },
  {
   "cell_type": "markdown",
   "metadata": {},
   "source": [
    "Much, much better. While the RSQ result ain't great (and actually worse than the linear regression model), that's much preferred to being fooled by an extraordinarily overfitted result like above. We could have guessed that DecisionTree would be a silly model type to try in this situation but it illustrates the point."
   ]
  },
  {
   "cell_type": "markdown",
   "metadata": {},
   "source": [
    "## Summary"
   ]
  },
  {
   "cell_type": "markdown",
   "metadata": {},
   "source": [
    "That, in a nutshell, is the walk-forward modeling framework. The key points to keep in mind are:\n",
    "\n",
    "- Traditional methods of validation and cross-validation are problematic for time series prediction problems\n",
    "- The solution is to use a \"walk-forward\" approach which incorporates new information as it becomes available.\n",
    "- This approach gives us a more realistic view of how effective our model would truly have been in the past, and helps to avoid the overfitting trap.\n",
    "- In addition to excluding any future data from the training process, it's often important to exclude data which is too far in the past.\n",
    "\n",
    "In the next post of this series, I will present a framework for scoring and comparing models which is more complete and useful than generic machine learning methods."
   ]
  },
  {
   "cell_type": "markdown",
   "metadata": {},
   "source": [
    "# One last thing..."
   ]
  },
  {
   "cell_type": "markdown",
   "metadata": {},
   "source": [
    "If you've found this post useful, please follow @data2alpha on twitter and forward to a friend or colleague who may also find this topic interesting."
   ]
  }
 ],
 "metadata": {
  "hide_input": false,
  "kernelspec": {
   "display_name": "Python 3",
   "language": "python",
   "name": "python3"
  },
  "language_info": {
   "codemirror_mode": {
    "name": "ipython",
    "version": 3
   },
   "file_extension": ".py",
   "mimetype": "text/x-python",
   "name": "python",
   "nbconvert_exporter": "python",
   "pygments_lexer": "ipython3",
   "version": "3.6.10"
  },
  "nav_menu": {},
  "toc": {
   "navigate_menu": true,
   "number_sections": true,
   "sideBar": true,
   "threshold": 6,
   "toc_cell": false,
   "toc_section_display": "block",
   "toc_window_display": true
  }
 },
 "nbformat": 4,
 "nbformat_minor": 2
}
