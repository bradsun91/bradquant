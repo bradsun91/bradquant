{
 "cells": [
  {
   "cell_type": "code",
   "execution_count": 1,
   "metadata": {},
   "outputs": [],
   "source": [
    "import pandas as pd, numpy as np\n",
    "import csv\n",
    "import matplotlib.pyplot as plt\n",
    "import seaborn as sns\n",
    "sns.set(style = 'darkgrid')\n",
    "\n",
    "%matplotlib inline"
   ]
  },
  {
   "cell_type": "code",
   "execution_count": 2,
   "metadata": {},
   "outputs": [],
   "source": [
    "df = pd.read_csv(\"上证指数_日线_MACD920.csv\")"
   ]
  },
  {
   "cell_type": "code",
   "execution_count": 4,
   "metadata": {},
   "outputs": [
    {
     "data": {
      "text/html": [
       "<div>\n",
       "<style scoped>\n",
       "    .dataframe tbody tr th:only-of-type {\n",
       "        vertical-align: middle;\n",
       "    }\n",
       "\n",
       "    .dataframe tbody tr th {\n",
       "        vertical-align: top;\n",
       "    }\n",
       "\n",
       "    .dataframe thead th {\n",
       "        text-align: right;\n",
       "    }\n",
       "</style>\n",
       "<table border=\"1\" class=\"dataframe\">\n",
       "  <thead>\n",
       "    <tr style=\"text-align: right;\">\n",
       "      <th></th>\n",
       "      <th>排名</th>\n",
       "      <th>参数组</th>\n",
       "      <th>总盈利率</th>\n",
       "      <th>平均盈亏</th>\n",
       "      <th>胜率</th>\n",
       "      <th>交易次数</th>\n",
       "      <th>平均盈利/平均亏损</th>\n",
       "      <th>平均盈利/最大回撤</th>\n",
       "      <th>权益最大回撤</th>\n",
       "      <th>权益最大回撤比</th>\n",
       "      <th>总盈利率/权益最大回撤比</th>\n",
       "      <th>损益最大回撤</th>\n",
       "      <th>损益最大回撤比</th>\n",
       "      <th>年化单利收益率</th>\n",
       "      <th>年化复利收益率</th>\n",
       "      <th>最大持续盈利次数</th>\n",
       "      <th>最大持续亏损次数</th>\n",
       "      <th>夏普比率</th>\n",
       "      <th>平均盈利比例</th>\n",
       "      <th>Unnamed: 19</th>\n",
       "    </tr>\n",
       "  </thead>\n",
       "  <tbody>\n",
       "    <tr>\n",
       "      <th>0</th>\n",
       "      <td>1</td>\n",
       "      <td>[1,\\t 91,\\t 31,\\t 0,\\t 0,\\t 0]</td>\n",
       "      <td>0.0604</td>\n",
       "      <td>2333.42</td>\n",
       "      <td>33.98%</td>\n",
       "      <td>259</td>\n",
       "      <td>3.76</td>\n",
       "      <td>0.10</td>\n",
       "      <td>140925</td>\n",
       "      <td>1.35%</td>\n",
       "      <td>4.48</td>\n",
       "      <td>112520</td>\n",
       "      <td>1.08%</td>\n",
       "      <td>0.30%</td>\n",
       "      <td>0.29%</td>\n",
       "      <td>5</td>\n",
       "      <td>20</td>\n",
       "      <td>-35.48</td>\n",
       "      <td>1.03%</td>\n",
       "      <td>NaN</td>\n",
       "    </tr>\n",
       "    <tr>\n",
       "      <th>1</th>\n",
       "      <td>2</td>\n",
       "      <td>[1,\\t 91,\\t 43,\\t 0,\\t 0,\\t 0]</td>\n",
       "      <td>0.0600</td>\n",
       "      <td>2803.09</td>\n",
       "      <td>35.51%</td>\n",
       "      <td>214</td>\n",
       "      <td>3.66</td>\n",
       "      <td>0.10</td>\n",
       "      <td>162226</td>\n",
       "      <td>1.55%</td>\n",
       "      <td>3.86</td>\n",
       "      <td>136535</td>\n",
       "      <td>1.31%</td>\n",
       "      <td>0.30%</td>\n",
       "      <td>0.29%</td>\n",
       "      <td>4</td>\n",
       "      <td>16</td>\n",
       "      <td>-30.58</td>\n",
       "      <td>1.28%</td>\n",
       "      <td>NaN</td>\n",
       "    </tr>\n",
       "    <tr>\n",
       "      <th>2</th>\n",
       "      <td>3</td>\n",
       "      <td>[1,\\t 81,\\t 37,\\t 0,\\t 0,\\t 0]</td>\n",
       "      <td>0.0591</td>\n",
       "      <td>2328.60</td>\n",
       "      <td>35.04%</td>\n",
       "      <td>254</td>\n",
       "      <td>3.65</td>\n",
       "      <td>0.10</td>\n",
       "      <td>139838</td>\n",
       "      <td>1.34%</td>\n",
       "      <td>4.42</td>\n",
       "      <td>91570</td>\n",
       "      <td>0.88%</td>\n",
       "      <td>0.29%</td>\n",
       "      <td>0.29%</td>\n",
       "      <td>5</td>\n",
       "      <td>20</td>\n",
       "      <td>-36.75</td>\n",
       "      <td>1.01%</td>\n",
       "      <td>1.0</td>\n",
       "    </tr>\n",
       "    <tr>\n",
       "      <th>3</th>\n",
       "      <td>4</td>\n",
       "      <td>[17,\\t 21,\\t 7,\\t 0,\\t 0,\\t 0]</td>\n",
       "      <td>0.0587</td>\n",
       "      <td>3333.85</td>\n",
       "      <td>42.05%</td>\n",
       "      <td>176</td>\n",
       "      <td>2.45</td>\n",
       "      <td>0.10</td>\n",
       "      <td>180862</td>\n",
       "      <td>1.74%</td>\n",
       "      <td>3.38</td>\n",
       "      <td>146235</td>\n",
       "      <td>1.41%</td>\n",
       "      <td>0.29%</td>\n",
       "      <td>0.28%</td>\n",
       "      <td>6</td>\n",
       "      <td>8</td>\n",
       "      <td>-25.09</td>\n",
       "      <td>1.53%</td>\n",
       "      <td>NaN</td>\n",
       "    </tr>\n",
       "    <tr>\n",
       "      <th>4</th>\n",
       "      <td>5</td>\n",
       "      <td>[5,\\t 71,\\t 55,\\t 0,\\t 0,\\t 0]</td>\n",
       "      <td>0.0584</td>\n",
       "      <td>5728.28</td>\n",
       "      <td>34.31%</td>\n",
       "      <td>102</td>\n",
       "      <td>4.31</td>\n",
       "      <td>0.17</td>\n",
       "      <td>178335</td>\n",
       "      <td>1.71%</td>\n",
       "      <td>3.41</td>\n",
       "      <td>153440</td>\n",
       "      <td>1.48%</td>\n",
       "      <td>0.29%</td>\n",
       "      <td>0.28%</td>\n",
       "      <td>6</td>\n",
       "      <td>9</td>\n",
       "      <td>-18.11</td>\n",
       "      <td>2.70%</td>\n",
       "      <td>NaN</td>\n",
       "    </tr>\n",
       "  </tbody>\n",
       "</table>\n",
       "</div>"
      ],
      "text/plain": [
       "   排名                             参数组    总盈利率     平均盈亏      胜率  交易次数  \\\n",
       "0   1  [1,\\t 91,\\t 31,\\t 0,\\t 0,\\t 0]  0.0604  2333.42  33.98%   259   \n",
       "1   2  [1,\\t 91,\\t 43,\\t 0,\\t 0,\\t 0]  0.0600  2803.09  35.51%   214   \n",
       "2   3  [1,\\t 81,\\t 37,\\t 0,\\t 0,\\t 0]  0.0591  2328.60  35.04%   254   \n",
       "3   4  [17,\\t 21,\\t 7,\\t 0,\\t 0,\\t 0]  0.0587  3333.85  42.05%   176   \n",
       "4   5  [5,\\t 71,\\t 55,\\t 0,\\t 0,\\t 0]  0.0584  5728.28  34.31%   102   \n",
       "\n",
       "   平均盈利/平均亏损  平均盈利/最大回撤  权益最大回撤 权益最大回撤比  总盈利率/权益最大回撤比  损益最大回撤 损益最大回撤比 年化单利收益率  \\\n",
       "0       3.76       0.10  140925   1.35%          4.48  112520   1.08%   0.30%   \n",
       "1       3.66       0.10  162226   1.55%          3.86  136535   1.31%   0.30%   \n",
       "2       3.65       0.10  139838   1.34%          4.42   91570   0.88%   0.29%   \n",
       "3       2.45       0.10  180862   1.74%          3.38  146235   1.41%   0.29%   \n",
       "4       4.31       0.17  178335   1.71%          3.41  153440   1.48%   0.29%   \n",
       "\n",
       "  年化复利收益率  最大持续盈利次数  最大持续亏损次数   夏普比率 平均盈利比例  Unnamed: 19  \n",
       "0   0.29%         5        20 -35.48  1.03%          NaN  \n",
       "1   0.29%         4        16 -30.58  1.28%          NaN  \n",
       "2   0.29%         5        20 -36.75  1.01%          1.0  \n",
       "3   0.28%         6         8 -25.09  1.53%          NaN  \n",
       "4   0.28%         6         9 -18.11  2.70%          NaN  "
      ]
     },
     "execution_count": 4,
     "metadata": {},
     "output_type": "execute_result"
    }
   ],
   "source": [
    "df.head()"
   ]
  },
  {
   "cell_type": "code",
   "execution_count": 5,
   "metadata": {},
   "outputs": [],
   "source": [
    "y = df['总盈利率']\n",
    "x1 = df['胜率']\n",
    "x2 = df['平均盈利/平均亏损']"
   ]
  },
  {
   "cell_type": "code",
   "execution_count": 12,
   "metadata": {},
   "outputs": [
    {
     "data": {
      "text/plain": [
       "Text(0, 0.5, 'avg returns/loss')"
      ]
     },
     "execution_count": 12,
     "metadata": {},
     "output_type": "execute_result"
    },
    {
     "data": {
      "image/png": "[encoded data removed]",
      "text/plain": [
       "<Figure size 1296x720 with 1 Axes>"
      ]
     },
     "metadata": {
      "needs_background": "light"
     },
     "output_type": "display_data"
    }
   ],
   "source": [
    "plt.figure(figsize=(18,10))\n",
    "plt.scatter(y, x2)\n",
    "plt.xlabel('total returns');\n",
    "plt.ylabel('avg returns/loss')"
   ]
  },
  {
   "cell_type": "code",
   "execution_count": null,
   "metadata": {},
   "outputs": [],
   "source": []
  }
 ],
 "metadata": {
  "kernelspec": {
   "display_name": "Python 3",
   "language": "python",
   "name": "python3"
  },
  "language_info": {
   "codemirror_mode": {
    "name": "ipython",
    "version": 3
   },
   "file_extension": ".py",
   "mimetype": "text/x-python",
   "name": "python",
   "nbconvert_exporter": "python",
   "pygments_lexer": "ipython3",
   "version": "3.5.6"
  }
 },
 "nbformat": 4,
 "nbformat_minor": 2
}
