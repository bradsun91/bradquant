{
 "cells": [
  {
   "cell_type": "code",
   "execution_count": 6,
   "metadata": {},
   "outputs": [],
   "source": [
    "import pandas as pd\n",
    "import numpy as np\n",
    "import psycopg2\n",
    "\n",
    "%matplotlib inline"
   ]
  },
  {
   "cell_type": "markdown",
   "metadata": {},
   "source": [
    "# Calculate Asset Volatility"
   ]
  },
  {
   "cell_type": "code",
   "execution_count": 39,
   "metadata": {},
   "outputs": [],
   "source": [
    "frequency = \"_1d\"\n",
    "file_suffix = 'u18z18' + frequency\n",
    "time = \"11/29 morning signal: \"\n",
    "\n",
    "def all_assts_from_sql(asst1, asst2, asst3, asst4, asst5, asst6, sql_limit_num):\n",
    "    conn = psycopg2.connect(database=\"bitmexdata\", user=\"postgres\", password=\"tongKen123\", host=\"128.199.97.202\", port=\"5432\")\n",
    "    asset1 = \"SELECT time, close from {} order by id desc limit {}\".format(asst1, sql_limit_num)\n",
    "    asset2 = \"SELECT time, close from {} order by id desc limit {}\".format(asst2, sql_limit_num)\n",
    "    asset3 = \"SELECT time, close from {} order by id desc limit {}\".format(asst3, sql_limit_num)\n",
    "    asset4 = \"SELECT time, close from {} order by id desc limit {}\".format(asst4, sql_limit_num)\n",
    "    asset5 = \"SELECT time, close from {} order by id desc limit {}\".format(asst5, sql_limit_num)\n",
    "    asset6 = \"SELECT time, close from {} order by id desc limit {}\".format(asst6, sql_limit_num)\n",
    "\n",
    "    df1 = pd.read_sql(asset1, con=conn)\n",
    "    df2 = pd.read_sql(asset2, con=conn)\n",
    "    df3 = pd.read_sql(asset3, con=conn)\n",
    "    df4 = pd.read_sql(asset4, con=conn)\n",
    "    df5 = pd.read_sql(asset5, con=conn)\n",
    "    df6 = pd.read_sql(asset6, con=conn)\n",
    "    conn.close()\n",
    "    return df1, df2, df3, df4, df5, df6"
   ]
  },
  {
   "cell_type": "code",
   "execution_count": 11,
   "metadata": {},
   "outputs": [],
   "source": [
    "ada, bch, eos, eth, ltc, trx = all_assts_from_sql(\"ada\"+file_suffix, \n",
    "                                                  \"bch\"+file_suffix, \n",
    "                                                  \"eos\"+file_suffix,\n",
    "                                                  \"eth\"+file_suffix, \n",
    "                                                  \"ltc\"+file_suffix, \n",
    "                                                  \"trx\"+file_suffix,\n",
    "                                                   1000)\n",
    "\n",
    "ada.sort_values('time', inplace=True)\n",
    "eth.sort_values('time', inplace=True)\n",
    "bch.sort_values('time', inplace=True)\n",
    "ltc.sort_values('time', inplace=True)\n",
    "eos.sort_values('time', inplace=True)\n",
    "trx.sort_values('time', inplace=True)\n",
    "\n",
    "ada_pct = ada['close'].pct_change()\n",
    "eth_pct = eth['close'].pct_change()\n",
    "bch_pct = bch['close'].pct_change()\n",
    "ltc_pct = ltc['close'].pct_change()\n",
    "eos_pct = eos['close'].pct_change()\n",
    "trx_pct = trx['close'].pct_change()\n",
    "\n",
    "ada_max_vol = ada_pct.max()\n",
    "eth_max_vol = eth_pct.max()\n",
    "bch_max_vol = bch_pct.max()\n",
    "ltc_max_vol = ltc_pct.max()\n",
    "eos_max_vol = eos_pct.max()\n",
    "trx_max_vol = trx_pct.max()\n",
    "\n",
    "print (\"ADA 最大杠杆不应超过： \", 1/ada_max_vol, \"倍\")\n",
    "print (\"ETH 最大杠杆不应超过： \", 1/eth_max_vol, \"倍\")\n",
    "print (\"BCH 最大杠杆不应超过： \", 1/bch_max_vol, \"倍\")\n",
    "print (\"LTC 最大杠杆不应超过： \", 1/ltc_max_vol, \"倍\")\n",
    "print (\"EOS 最大杠杆不应超过： \", 1/eos_max_vol, \"倍\")\n",
    "print (\"TRX 最大杠杆不应超过： \", 1/trx_max_vol, \"倍\")"
   ]
  },
  {
   "cell_type": "code",
   "execution_count": 28,
   "metadata": {},
   "outputs": [
    {
     "name": "stdout",
     "output_type": "stream",
     "text": [
      "ADA 最大杠杆不应超过：  7.057142857142852 倍\n",
      "ETH 最大杠杆不应超过：  7.909589041095887 倍\n",
      "BCH 最大杠杆不应超过：  5.298850574712644 倍\n",
      "LTC 最大杠杆不应超过：  12.882352941176444 倍\n",
      "EOS 最大杠杆不应超过：  4.591447368421051 倍\n",
      "TRX 最大杠杆不应超过：  5.784313725490198 倍\n"
     ]
    }
   ],
   "source": []
  },
  {
   "cell_type": "code",
   "execution_count": 51,
   "metadata": {},
   "outputs": [],
   "source": [
    "# 手动更新实时价格：\n",
    "ADA_live_price = 0.00000983\n",
    "ETH_live_price = 0.02880\n",
    "BCH_live_price = 0.0443\n",
    "LTC_live_price = 0.00809\n",
    "EOS_live_price = 0.0007706\n",
    "TRX_live_price = 0.00000352\n",
    "\n",
    "ADA_signal = 1 \n",
    "ETH_signal = -1\n",
    "BCH_signal = 1\n",
    "LTC_signal = -1\n",
    "EOS_signal = 1\n",
    "TRX_signal = -1\n",
    "\n",
    "ADA_leverage = 1  \n",
    "ETH_leverage = 1  \n",
    "BCH_leverage = 1  \n",
    "LTC_leverage = 1  \n",
    "EOS_leverage = 1  \n",
    "TRX_leverage = 1  "
   ]
  },
  {
   "cell_type": "code",
   "execution_count": 60,
   "metadata": {},
   "outputs": [],
   "source": [
    "# 定义资金和杠杆规模：\n",
    "total_capital = 4         # 单位：XBT\n",
    "capital_utility = 0.05    # 每个策略不超过的总资金百分比 %\n",
    "            # 杠杆率\n",
    "# position_number = 6       # 目标资产数量 "
   ]
  },
  {
   "cell_type": "code",
   "execution_count": 61,
   "metadata": {},
   "outputs": [],
   "source": [
    "def execution_instruction(ADA_live_price, ADA_signal, ADA_leverage,\n",
    "                          ETH_live_price, ETH_signal, ETH_leverage,\n",
    "                          BCH_live_price, BCH_signal, BCH_leverage,\n",
    "                          LTC_live_price, LTC_signal, LTC_leverage,\n",
    "                          EOS_live_price, EOS_signal, EOS_leverage,\n",
    "                          TRX_live_price, TRX_signal, TRX_leverage,\n",
    "                          total_capital, capital_utility, \n",
    "                          leverage = 1):\n",
    "    each_allocation = total_capital*capital_utility\n",
    "    ada_size = ADA_signal*each_allocation/ADA_live_price*ADA_leverage\n",
    "    eth_size = ETH_signal*each_allocation/ETH_live_price*ETH_leverage\n",
    "    bch_size = BCH_signal*each_allocation/BCH_live_price*BCH_leverage\n",
    "    ltc_size = LTC_signal*each_allocation/LTC_live_price*LTC_leverage\n",
    "    eos_size = EOS_signal*each_allocation/EOS_live_price*EOS_leverage\n",
    "    trx_size = TRX_signal*each_allocation/TRX_live_price*TRX_leverage\n",
    "    \n",
    "    return ada_size, eth_size, bch_size, ltc_size, eos_size, trx_size"
   ]
  },
  {
   "cell_type": "code",
   "execution_count": 62,
   "metadata": {},
   "outputs": [],
   "source": [
    "ada_size, eth_size, bch_size, ltc_size, eos_size, trx_size = execution_instruction(ADA_live_price, ADA_signal, ADA_leverage,\n",
    "                                                                                  ETH_live_price, ETH_signal, ETH_leverage,\n",
    "                                                                                  BCH_live_price, BCH_signal, BCH_leverage,\n",
    "                                                                                  LTC_live_price, LTC_signal, LTC_leverage,\n",
    "                                                                                  EOS_live_price, EOS_signal, EOS_leverage,\n",
    "                                                                                  TRX_live_price, TRX_signal, TRX_leverage,\n",
    "                                                                                  total_capital, capital_utility, \n",
    "                                                                                  leverage = 1)"
   ]
  },
  {
   "cell_type": "code",
   "execution_count": 63,
   "metadata": {},
   "outputs": [
    {
     "name": "stdout",
     "output_type": "stream",
     "text": [
      "交易指令: 11/29 morning signal:  ADA: 20345 , 单位：个\n",
      "交易指令: 11/29 morning signal:  ETH: -6 , 单位：个\n",
      "交易指令: 11/29 morning signal:  BCH: 4 , 单位：个\n",
      "交易指令: 11/29 morning signal:  LTC: -24 , 单位：个\n",
      "交易指令: 11/29 morning signal:  EOS: 259 , 单位：个\n",
      "交易指令: 11/29 morning signal:  TRX: -56818 , 单位：个\n"
     ]
    }
   ],
   "source": [
    "print (\"交易指令: \"+ time, \"ADA:\", int(ada_size), \", 单位：个\")\n",
    "print (\"交易指令: \"+ time, \"ETH:\", int(eth_size), \", 单位：个\")\n",
    "print (\"交易指令: \"+ time, \"BCH:\", int(bch_size), \", 单位：个\")\n",
    "print (\"交易指令: \"+ time, \"LTC:\", int(ltc_size), \", 单位：个\")\n",
    "print (\"交易指令: \"+ time, \"EOS:\", int(eos_size), \", 单位：个\")\n",
    "print (\"交易指令: \"+ time, \"TRX:\", int(trx_size), \", 单位：个\")"
   ]
  },
  {
   "cell_type": "code",
   "execution_count": 57,
   "metadata": {},
   "outputs": [
    {
     "data": {
      "text/plain": [
       "56"
      ]
     },
     "execution_count": 57,
     "metadata": {},
     "output_type": "execute_result"
    }
   ],
   "source": [
    "#EOS:\n",
    "129-73"
   ]
  },
  {
   "cell_type": "code",
   "execution_count": 64,
   "metadata": {},
   "outputs": [
    {
     "data": {
      "text/plain": [
       "0.021986159999999998"
      ]
     },
     "execution_count": 64,
     "metadata": {},
     "output_type": "execute_result"
    }
   ],
   "source": [
    "3.9261*0.0056"
   ]
  },
  {
   "cell_type": "code",
   "execution_count": null,
   "metadata": {},
   "outputs": [],
   "source": []
  }
 ],
 "metadata": {
  "hide_input": false,
  "kernelspec": {
   "display_name": "Python 3",
   "language": "python",
   "name": "python3"
  },
  "language_info": {
   "codemirror_mode": {
    "name": "ipython",
    "version": 3
   },
   "file_extension": ".py",
   "mimetype": "text/x-python",
   "name": "python",
   "nbconvert_exporter": "python",
   "pygments_lexer": "ipython3",
   "version": "3.7.0"
  },
  "nav_menu": {},
  "toc": {
   "navigate_menu": true,
   "number_sections": true,
   "sideBar": true,
   "threshold": 6,
   "toc_cell": false,
   "toc_section_display": "block",
   "toc_window_display": false
  }
 },
 "nbformat": 4,
 "nbformat_minor": 2
}
