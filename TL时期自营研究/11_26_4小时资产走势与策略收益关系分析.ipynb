{
 "cells": [
  {
   "cell_type": "code",
   "execution_count": 1,
   "metadata": {},
   "outputs": [],
   "source": [
    "import pandas as pd, numpy as np\n",
    "from datetime import datetime, timedelta\n",
    "import matplotlib.pyplot as plt\n",
    "import time\n",
    "import csv\n",
    "\n",
    "%matplotlib inline"
   ]
  },
  {
   "cell_type": "code",
   "execution_count": 3,
   "metadata": {},
   "outputs": [],
   "source": [
    "location = \"C:/Users/workspace/brad_public_workspace_on_win/SH_tongliang/data/11_24_bitmex分钟线_multiplied/bitmex分钟线1124/\"\n",
    "\n",
    "ada_df = pd.read_csv(location+\"11_24_4hr_ada.csv\", engine=\"python\")\n",
    "trx_df = pd.read_csv(location+\"11_24_4hr_trx.csv\", engine=\"python\")\n",
    "bch_df = pd.read_csv(location+\"11_24_4hr_bch.csv\", engine=\"python\")\n",
    "eos_df = pd.read_csv(location+\"11_24_4hr_eos.csv\", engine=\"python\")\n",
    "eth_df = pd.read_csv(location+\"11_24_4hr_eth.csv\", engine=\"python\")\n",
    "ltc_df = pd.read_csv(location+\"11_24_4hr_ltc.csv\", engine=\"python\")\n",
    "xrp_df = pd.read_csv(location+\"11_24_4hr_xrp.csv\", engine=\"python\")\n",
    "btc_df = pd.read_csv(location+\"11_24_4hr_btc.csv\", engine=\"python\")"
   ]
  },
  {
   "cell_type": "code",
   "execution_count": 5,
   "metadata": {},
   "outputs": [],
   "source": [
    "def delete_unnamed(df):\n",
    "    del df['Unnamed: 0']\n",
    "    return df"
   ]
  },
  {
   "cell_type": "code",
   "execution_count": 118,
   "metadata": {
    "collapsed": true
   },
   "outputs": [
    {
     "ename": "KeyError",
     "evalue": "'Unnamed: 0'",
     "output_type": "error",
     "traceback": [
      "\u001b[1;31m---------------------------------------------------------------------------\u001b[0m",
      "\u001b[1;31mKeyError\u001b[0m                                  Traceback (most recent call last)",
      "\u001b[1;32m~\\Anaconda3\\lib\\site-packages\\pandas\\core\\indexes\\base.py\u001b[0m in \u001b[0;36mget_loc\u001b[1;34m(self, key, method, tolerance)\u001b[0m\n\u001b[0;32m   3077\u001b[0m             \u001b[1;32mtry\u001b[0m\u001b[1;33m:\u001b[0m\u001b[1;33m\u001b[0m\u001b[0m\n\u001b[1;32m-> 3078\u001b[1;33m                 \u001b[1;32mreturn\u001b[0m \u001b[0mself\u001b[0m\u001b[1;33m.\u001b[0m\u001b[0m_engine\u001b[0m\u001b[1;33m.\u001b[0m\u001b[0mget_loc\u001b[0m\u001b[1;33m(\u001b[0m\u001b[0mkey\u001b[0m\u001b[1;33m)\u001b[0m\u001b[1;33m\u001b[0m\u001b[0m\n\u001b[0m\u001b[0;32m   3079\u001b[0m             \u001b[1;32mexcept\u001b[0m \u001b[0mKeyError\u001b[0m\u001b[1;33m:\u001b[0m\u001b[1;33m\u001b[0m\u001b[0m\n",
      "\u001b[1;32mpandas\\_libs\\index.pyx\u001b[0m in \u001b[0;36mpandas._libs.index.IndexEngine.get_loc\u001b[1;34m()\u001b[0m\n",
      "\u001b[1;32mpandas\\_libs\\index.pyx\u001b[0m in \u001b[0;36mpandas._libs.index.IndexEngine.get_loc\u001b[1;34m()\u001b[0m\n",
      "\u001b[1;32mpandas\\_libs\\hashtable_class_helper.pxi\u001b[0m in \u001b[0;36mpandas._libs.hashtable.PyObjectHashTable.get_item\u001b[1;34m()\u001b[0m\n",
      "\u001b[1;32mpandas\\_libs\\hashtable_class_helper.pxi\u001b[0m in \u001b[0;36mpandas._libs.hashtable.PyObjectHashTable.get_item\u001b[1;34m()\u001b[0m\n",
      "\u001b[1;31mKeyError\u001b[0m: 'Unnamed: 0'",
      "\nDuring handling of the above exception, another exception occurred:\n",
      "\u001b[1;31mKeyError\u001b[0m                                  Traceback (most recent call last)",
      "\u001b[1;32m<ipython-input-118-b451a8eae4bf>\u001b[0m in \u001b[0;36m<module>\u001b[1;34m()\u001b[0m\n\u001b[1;32m----> 1\u001b[1;33m \u001b[0mada_df\u001b[0m \u001b[1;33m=\u001b[0m \u001b[0mdelete_unnamed\u001b[0m\u001b[1;33m(\u001b[0m\u001b[0mada_df\u001b[0m\u001b[1;33m)\u001b[0m\u001b[1;33m\u001b[0m\u001b[0m\n\u001b[0m\u001b[0;32m      2\u001b[0m \u001b[0mtrx_df\u001b[0m \u001b[1;33m=\u001b[0m \u001b[0mdelete_unnamed\u001b[0m\u001b[1;33m(\u001b[0m\u001b[0mtrx_df\u001b[0m\u001b[1;33m)\u001b[0m\u001b[1;33m\u001b[0m\u001b[0m\n\u001b[0;32m      3\u001b[0m \u001b[0mbch_df\u001b[0m \u001b[1;33m=\u001b[0m \u001b[0mdelete_unnamed\u001b[0m\u001b[1;33m(\u001b[0m\u001b[0mbch_df\u001b[0m\u001b[1;33m)\u001b[0m\u001b[1;33m\u001b[0m\u001b[0m\n\u001b[0;32m      4\u001b[0m \u001b[0meos_df\u001b[0m \u001b[1;33m=\u001b[0m \u001b[0mdelete_unnamed\u001b[0m\u001b[1;33m(\u001b[0m\u001b[0meos_df\u001b[0m\u001b[1;33m)\u001b[0m\u001b[1;33m\u001b[0m\u001b[0m\n\u001b[0;32m      5\u001b[0m \u001b[0meth_df\u001b[0m \u001b[1;33m=\u001b[0m \u001b[0mdelete_unnamed\u001b[0m\u001b[1;33m(\u001b[0m\u001b[0meth_df\u001b[0m\u001b[1;33m)\u001b[0m\u001b[1;33m\u001b[0m\u001b[0m\n",
      "\u001b[1;32m<ipython-input-5-2a7a3b31ac78>\u001b[0m in \u001b[0;36mdelete_unnamed\u001b[1;34m(df)\u001b[0m\n\u001b[0;32m      1\u001b[0m \u001b[1;32mdef\u001b[0m \u001b[0mdelete_unnamed\u001b[0m\u001b[1;33m(\u001b[0m\u001b[0mdf\u001b[0m\u001b[1;33m)\u001b[0m\u001b[1;33m:\u001b[0m\u001b[1;33m\u001b[0m\u001b[0m\n\u001b[1;32m----> 2\u001b[1;33m     \u001b[1;32mdel\u001b[0m \u001b[0mdf\u001b[0m\u001b[1;33m[\u001b[0m\u001b[1;34m'Unnamed: 0'\u001b[0m\u001b[1;33m]\u001b[0m\u001b[1;33m\u001b[0m\u001b[0m\n\u001b[0m\u001b[0;32m      3\u001b[0m     \u001b[1;32mreturn\u001b[0m \u001b[0mdf\u001b[0m\u001b[1;33m\u001b[0m\u001b[0m\n",
      "\u001b[1;32m~\\Anaconda3\\lib\\site-packages\\pandas\\core\\generic.py\u001b[0m in \u001b[0;36m__delitem__\u001b[1;34m(self, key)\u001b[0m\n\u001b[0;32m   2741\u001b[0m             \u001b[1;31m# there was no match, this call should raise the appropriate\u001b[0m\u001b[1;33m\u001b[0m\u001b[1;33m\u001b[0m\u001b[0m\n\u001b[0;32m   2742\u001b[0m             \u001b[1;31m# exception:\u001b[0m\u001b[1;33m\u001b[0m\u001b[1;33m\u001b[0m\u001b[0m\n\u001b[1;32m-> 2743\u001b[1;33m             \u001b[0mself\u001b[0m\u001b[1;33m.\u001b[0m\u001b[0m_data\u001b[0m\u001b[1;33m.\u001b[0m\u001b[0mdelete\u001b[0m\u001b[1;33m(\u001b[0m\u001b[0mkey\u001b[0m\u001b[1;33m)\u001b[0m\u001b[1;33m\u001b[0m\u001b[0m\n\u001b[0m\u001b[0;32m   2744\u001b[0m \u001b[1;33m\u001b[0m\u001b[0m\n\u001b[0;32m   2745\u001b[0m         \u001b[1;31m# delete from the caches\u001b[0m\u001b[1;33m\u001b[0m\u001b[1;33m\u001b[0m\u001b[0m\n",
      "\u001b[1;32m~\\Anaconda3\\lib\\site-packages\\pandas\\core\\internals.py\u001b[0m in \u001b[0;36mdelete\u001b[1;34m(self, item)\u001b[0m\n\u001b[0;32m   4172\u001b[0m         \u001b[0mDelete\u001b[0m \u001b[0mselected\u001b[0m \u001b[0mitem\u001b[0m \u001b[1;33m(\u001b[0m\u001b[0mitems\u001b[0m \u001b[1;32mif\u001b[0m \u001b[0mnon\u001b[0m\u001b[1;33m-\u001b[0m\u001b[0munique\u001b[0m\u001b[1;33m)\u001b[0m \u001b[1;32min\u001b[0m\u001b[1;33m-\u001b[0m\u001b[0mplace\u001b[0m\u001b[1;33m.\u001b[0m\u001b[1;33m\u001b[0m\u001b[0m\n\u001b[0;32m   4173\u001b[0m         \"\"\"\n\u001b[1;32m-> 4174\u001b[1;33m         \u001b[0mindexer\u001b[0m \u001b[1;33m=\u001b[0m \u001b[0mself\u001b[0m\u001b[1;33m.\u001b[0m\u001b[0mitems\u001b[0m\u001b[1;33m.\u001b[0m\u001b[0mget_loc\u001b[0m\u001b[1;33m(\u001b[0m\u001b[0mitem\u001b[0m\u001b[1;33m)\u001b[0m\u001b[1;33m\u001b[0m\u001b[0m\n\u001b[0m\u001b[0;32m   4175\u001b[0m \u001b[1;33m\u001b[0m\u001b[0m\n\u001b[0;32m   4176\u001b[0m         \u001b[0mis_deleted\u001b[0m \u001b[1;33m=\u001b[0m \u001b[0mnp\u001b[0m\u001b[1;33m.\u001b[0m\u001b[0mzeros\u001b[0m\u001b[1;33m(\u001b[0m\u001b[0mself\u001b[0m\u001b[1;33m.\u001b[0m\u001b[0mshape\u001b[0m\u001b[1;33m[\u001b[0m\u001b[1;36m0\u001b[0m\u001b[1;33m]\u001b[0m\u001b[1;33m,\u001b[0m \u001b[0mdtype\u001b[0m\u001b[1;33m=\u001b[0m\u001b[0mnp\u001b[0m\u001b[1;33m.\u001b[0m\u001b[0mbool_\u001b[0m\u001b[1;33m)\u001b[0m\u001b[1;33m\u001b[0m\u001b[0m\n",
      "\u001b[1;32m~\\Anaconda3\\lib\\site-packages\\pandas\\core\\indexes\\base.py\u001b[0m in \u001b[0;36mget_loc\u001b[1;34m(self, key, method, tolerance)\u001b[0m\n\u001b[0;32m   3078\u001b[0m                 \u001b[1;32mreturn\u001b[0m \u001b[0mself\u001b[0m\u001b[1;33m.\u001b[0m\u001b[0m_engine\u001b[0m\u001b[1;33m.\u001b[0m\u001b[0mget_loc\u001b[0m\u001b[1;33m(\u001b[0m\u001b[0mkey\u001b[0m\u001b[1;33m)\u001b[0m\u001b[1;33m\u001b[0m\u001b[0m\n\u001b[0;32m   3079\u001b[0m             \u001b[1;32mexcept\u001b[0m \u001b[0mKeyError\u001b[0m\u001b[1;33m:\u001b[0m\u001b[1;33m\u001b[0m\u001b[0m\n\u001b[1;32m-> 3080\u001b[1;33m                 \u001b[1;32mreturn\u001b[0m \u001b[0mself\u001b[0m\u001b[1;33m.\u001b[0m\u001b[0m_engine\u001b[0m\u001b[1;33m.\u001b[0m\u001b[0mget_loc\u001b[0m\u001b[1;33m(\u001b[0m\u001b[0mself\u001b[0m\u001b[1;33m.\u001b[0m\u001b[0m_maybe_cast_indexer\u001b[0m\u001b[1;33m(\u001b[0m\u001b[0mkey\u001b[0m\u001b[1;33m)\u001b[0m\u001b[1;33m)\u001b[0m\u001b[1;33m\u001b[0m\u001b[0m\n\u001b[0m\u001b[0;32m   3081\u001b[0m \u001b[1;33m\u001b[0m\u001b[0m\n\u001b[0;32m   3082\u001b[0m         \u001b[0mindexer\u001b[0m \u001b[1;33m=\u001b[0m \u001b[0mself\u001b[0m\u001b[1;33m.\u001b[0m\u001b[0mget_indexer\u001b[0m\u001b[1;33m(\u001b[0m\u001b[1;33m[\u001b[0m\u001b[0mkey\u001b[0m\u001b[1;33m]\u001b[0m\u001b[1;33m,\u001b[0m \u001b[0mmethod\u001b[0m\u001b[1;33m=\u001b[0m\u001b[0mmethod\u001b[0m\u001b[1;33m,\u001b[0m \u001b[0mtolerance\u001b[0m\u001b[1;33m=\u001b[0m\u001b[0mtolerance\u001b[0m\u001b[1;33m)\u001b[0m\u001b[1;33m\u001b[0m\u001b[0m\n",
      "\u001b[1;32mpandas\\_libs\\index.pyx\u001b[0m in \u001b[0;36mpandas._libs.index.IndexEngine.get_loc\u001b[1;34m()\u001b[0m\n",
      "\u001b[1;32mpandas\\_libs\\index.pyx\u001b[0m in \u001b[0;36mpandas._libs.index.IndexEngine.get_loc\u001b[1;34m()\u001b[0m\n",
      "\u001b[1;32mpandas\\_libs\\hashtable_class_helper.pxi\u001b[0m in \u001b[0;36mpandas._libs.hashtable.PyObjectHashTable.get_item\u001b[1;34m()\u001b[0m\n",
      "\u001b[1;32mpandas\\_libs\\hashtable_class_helper.pxi\u001b[0m in \u001b[0;36mpandas._libs.hashtable.PyObjectHashTable.get_item\u001b[1;34m()\u001b[0m\n",
      "\u001b[1;31mKeyError\u001b[0m: 'Unnamed: 0'"
     ]
    }
   ],
   "source": [
    "ada_df = delete_unnamed(ada_df)\n",
    "trx_df = delete_unnamed(trx_df)\n",
    "bch_df = delete_unnamed(bch_df)\n",
    "eos_df = delete_unnamed(eos_df)\n",
    "eth_df = delete_unnamed(eth_df)\n",
    "ltc_df = delete_unnamed(ltc_df)\n",
    "xrp_df = delete_unnamed(xrp_df)\n",
    "btc_df = delete_unnamed(btc_df)"
   ]
  },
  {
   "cell_type": "markdown",
   "metadata": {},
   "source": [
    "# 分析一：两两对冲策略偏离性风险"
   ]
  },
  {
   "cell_type": "code",
   "execution_count": null,
   "metadata": {},
   "outputs": [],
   "source": []
  },
  {
   "cell_type": "code",
   "execution_count": null,
   "metadata": {},
   "outputs": [],
   "source": []
  },
  {
   "cell_type": "code",
   "execution_count": null,
   "metadata": {},
   "outputs": [],
   "source": []
  },
  {
   "cell_type": "code",
   "execution_count": null,
   "metadata": {},
   "outputs": [],
   "source": []
  },
  {
   "cell_type": "markdown",
   "metadata": {},
   "source": [
    "# 分析二：回测部分时段走平原因"
   ]
  },
  {
   "cell_type": "code",
   "execution_count": 114,
   "metadata": {},
   "outputs": [],
   "source": [
    "df = ada_df\n",
    "time_col = \"time\"\n",
    "start_ts = \"2018-09-28 00:00:00\"\n",
    "end_ts = \"2018-11-02 00:00:00\"\n",
    "\n",
    "\n",
    "def all_period_stddev(df, time_col, backtest_start):\n",
    "    close = df['close'][df[time_col]>=backtest_start].pct_change()\n",
    "    stddev = close.std()\n",
    "    return stddev\n",
    "\n",
    "\n",
    "def specific_period_stddev(df, time_col, start_ts, end_ts):\n",
    "    close = df['close'][(df[time_col]>start_ts) & (df[time_col]<end_ts) ].pct_change()\n",
    "    stddev = close.std()\n",
    "    return stddev\n",
    "\n",
    "\n",
    "# def relative_volatility(all_period_std, specific_period_std):\n",
    "#     \"\"\"\n",
    "#     This \"relative_volatility\" measures how volatile a specific period of price series is compared to that of all period. \n",
    "#     \"\"\"\n",
    "#     relative_vol = specific_period_std/all_period_std\n",
    "#     print (str((relative_vol)*100)[:5]+\"%\")\n",
    "    \n",
    "    \n",
    "def relative_volatility_all_in_one(asst, df, time_col, start_ts, end_ts, backtest_start):\n",
    "    \"\"\"\n",
    "    This \"relative_volatility\" measures how volatile a specific period of price series is compared to that of all period. \n",
    "    \"\"\"\n",
    "    specifc_vol = specific_period_stddev(df, time_col, start_ts, end_ts)\n",
    "    all_vol = all_period_stddev(df, time_col, backtest_start)\n",
    "    relative_vol = specifc_vol/all_vol\n",
    "    print (\"==============================\")\n",
    "    print (asst)\n",
    "    print (str((relative_vol)*100)[:5]+\"%\")\n",
    "    \n",
    "    \n",
    "def relative_volatility_val(asst, df, time_col, start_ts, end_ts, backtest_start):\n",
    "    \"\"\"\n",
    "    This \"relative_volatility\" measures how volatile a specific period of price series is compared to that of all period. \n",
    "    \"\"\"\n",
    "    specifc_vol = specific_period_stddev(df, time_col, start_ts, end_ts)\n",
    "    all_vol = all_period_stddev(df, time_col, backtest_start)\n",
    "    relative_vol = specifc_vol/all_vol\n",
    "    return relative_vol"
   ]
  },
  {
   "cell_type": "markdown",
   "metadata": {},
   "source": [
    "## 走平不赚钱时价格波动率(9-28-2018 to 11-02-2018)和整个回测时段价格波动率对比："
   ]
  },
  {
   "cell_type": "code",
   "execution_count": 115,
   "metadata": {},
   "outputs": [
    {
     "name": "stdout",
     "output_type": "stream",
     "text": [
      "==============================\n",
      "ada\n",
      "74.90%\n",
      "==============================\n",
      "bch\n",
      "46.37%\n",
      "==============================\n",
      "trx\n",
      "85.09%\n",
      "==============================\n",
      "ltc\n",
      "80.47%\n",
      "==============================\n",
      "eos\n",
      "53.62%\n",
      "==============================\n",
      "eth\n",
      "71.93%\n",
      "==============================\n",
      "==============================\n",
      "avg_relative_volatility_ratio 68.73%\n"
     ]
    }
   ],
   "source": [
    "# df = ada_df\n",
    "time_col = \"time\"\n",
    "start_ts = \"2018-09-28 00:00:00\"\n",
    "end_ts = \"2018-11-02 00:00:00\"\n",
    "backtest_start = \"2018-06-29 00:00:00\"\n",
    "\n",
    "relative_volatility_all_in_one(\"ada\", ada_df, time_col, start_ts, end_ts, backtest_start)\n",
    "relative_volatility_all_in_one(\"bch\", bch_df, time_col, start_ts, end_ts, backtest_start)\n",
    "relative_volatility_all_in_one(\"trx\", trx_df, time_col, start_ts, end_ts, backtest_start)\n",
    "relative_volatility_all_in_one(\"ltc\", ltc_df, time_col, start_ts, end_ts, backtest_start)\n",
    "relative_volatility_all_in_one(\"eos\", eos_df, time_col, start_ts, end_ts, backtest_start)\n",
    "relative_volatility_all_in_one(\"eth\", eth_df, time_col, start_ts, end_ts, backtest_start)\n",
    "\n",
    "ada_rel_vol = relative_volatility_val(\"ada\", ada_df, time_col, start_ts, end_ts, backtest_start)\n",
    "bch_rel_vol = relative_volatility_val(\"bch\", bch_df, time_col, start_ts, end_ts, backtest_start)\n",
    "trx_rel_vol = relative_volatility_val(\"trx\", trx_df, time_col, start_ts, end_ts, backtest_start)\n",
    "ltc_rel_vol = relative_volatility_val(\"ltc\", ltc_df, time_col, start_ts, end_ts, backtest_start)\n",
    "eos_rel_vol = relative_volatility_val(\"eos\", eos_df, time_col, start_ts, end_ts, backtest_start)\n",
    "eth_rel_vol = relative_volatility_val(\"eth\", eth_df, time_col, start_ts, end_ts, backtest_start)\n",
    "avg_rel_vol= (ada_rel_vol+bch_rel_vol+trx_rel_vol+ltc_rel_vol+eos_rel_vol+eth_rel_vol)/6\n",
    "\n",
    "print (\"==============================\")\n",
    "print (\"==============================\")\n",
    "print (\"avg_relative_volatility_ratio\", str(avg_rel_vol*100)[:5]+\"%\")"
   ]
  },
  {
   "cell_type": "markdown",
   "metadata": {},
   "source": [
    "## 赚钱时期一(6/29-8/16)的价格波动率和整个回测时段价格波动率对比"
   ]
  },
  {
   "cell_type": "code",
   "execution_count": 116,
   "metadata": {},
   "outputs": [
    {
     "name": "stdout",
     "output_type": "stream",
     "text": [
      "==============================\n",
      "ada\n",
      "99.96%\n",
      "==============================\n",
      "bch\n",
      "56.86%\n",
      "==============================\n",
      "trx\n",
      "92.30%\n",
      "==============================\n",
      "ltc\n",
      "91.65%\n",
      "==============================\n",
      "eos\n",
      "104.1%\n",
      "==============================\n",
      "eth\n",
      "80.96%\n",
      "==============================\n",
      "==============================\n",
      "avg_relative_volatility_ratio 87.65%\n"
     ]
    }
   ],
   "source": [
    "start_ts = \"2018-06-29 00:00:00\"\n",
    "end_ts = \"2018-08-16 00:00:00\"\n",
    "\n",
    "relative_volatility_all_in_one(\"ada\", ada_df, time_col, start_ts, end_ts, backtest_start)\n",
    "relative_volatility_all_in_one(\"bch\", bch_df, time_col, start_ts, end_ts, backtest_start)\n",
    "relative_volatility_all_in_one(\"trx\", trx_df, time_col, start_ts, end_ts, backtest_start)\n",
    "relative_volatility_all_in_one(\"ltc\", ltc_df, time_col, start_ts, end_ts, backtest_start)\n",
    "relative_volatility_all_in_one(\"eos\", eos_df, time_col, start_ts, end_ts, backtest_start)\n",
    "relative_volatility_all_in_one(\"eth\", eth_df, time_col, start_ts, end_ts, backtest_start)\n",
    "\n",
    "ada_rel_vol = relative_volatility_val(\"ada\", ada_df, time_col, start_ts, end_ts, backtest_start)\n",
    "bch_rel_vol = relative_volatility_val(\"bch\", bch_df, time_col, start_ts, end_ts, backtest_start)\n",
    "trx_rel_vol = relative_volatility_val(\"trx\", trx_df, time_col, start_ts, end_ts, backtest_start)\n",
    "ltc_rel_vol = relative_volatility_val(\"ltc\", ltc_df, time_col, start_ts, end_ts, backtest_start)\n",
    "eos_rel_vol = relative_volatility_val(\"eos\", eos_df, time_col, start_ts, end_ts, backtest_start)\n",
    "eth_rel_vol = relative_volatility_val(\"eth\", eth_df, time_col, start_ts, end_ts, backtest_start)\n",
    "avg_rel_vol= (ada_rel_vol+bch_rel_vol+trx_rel_vol+ltc_rel_vol+eos_rel_vol+eth_rel_vol)/6\n",
    "avg_rel_vol\n",
    "print (\"==============================\")\n",
    "print (\"==============================\")\n",
    "print (\"avg_relative_volatility_ratio\", str(avg_rel_vol*100)[:5]+\"%\")"
   ]
  },
  {
   "cell_type": "markdown",
   "metadata": {},
   "source": [
    "## 赚钱时期三(9/21-9/25)的价格波动率和整个回测时段价格波动率对比"
   ]
  },
  {
   "cell_type": "code",
   "execution_count": 120,
   "metadata": {},
   "outputs": [
    {
     "name": "stdout",
     "output_type": "stream",
     "text": [
      "==============================\n",
      "ada\n",
      "193.9%\n",
      "==============================\n",
      "bch\n",
      "93.89%\n",
      "==============================\n",
      "trx\n",
      "224.4%\n",
      "==============================\n",
      "ltc\n",
      "180.0%\n",
      "==============================\n",
      "eos\n",
      "161.3%\n",
      "==============================\n",
      "eth\n",
      "205.8%\n",
      "==============================\n",
      "==============================\n",
      "avg_relative_volatility_ratio 176.5%\n"
     ]
    }
   ],
   "source": [
    "start_ts = \"2018-09-21 00:00:00\"\n",
    "end_ts = \"2018-09-25 00:00:00\"\n",
    "\n",
    "relative_volatility_all_in_one(\"ada\", ada_df, time_col, start_ts, end_ts, backtest_start)\n",
    "relative_volatility_all_in_one(\"bch\", bch_df, time_col, start_ts, end_ts, backtest_start)\n",
    "relative_volatility_all_in_one(\"trx\", trx_df, time_col, start_ts, end_ts, backtest_start)\n",
    "relative_volatility_all_in_one(\"ltc\", ltc_df, time_col, start_ts, end_ts, backtest_start)\n",
    "relative_volatility_all_in_one(\"eos\", eos_df, time_col, start_ts, end_ts, backtest_start)\n",
    "relative_volatility_all_in_one(\"eth\", eth_df, time_col, start_ts, end_ts, backtest_start)\n",
    "\n",
    "ada_rel_vol = relative_volatility_val(\"ada\", ada_df, time_col, start_ts, end_ts, backtest_start)\n",
    "bch_rel_vol = relative_volatility_val(\"bch\", bch_df, time_col, start_ts, end_ts, backtest_start)\n",
    "trx_rel_vol = relative_volatility_val(\"trx\", trx_df, time_col, start_ts, end_ts, backtest_start)\n",
    "ltc_rel_vol = relative_volatility_val(\"ltc\", ltc_df, time_col, start_ts, end_ts, backtest_start)\n",
    "eos_rel_vol = relative_volatility_val(\"eos\", eos_df, time_col, start_ts, end_ts, backtest_start)\n",
    "eth_rel_vol = relative_volatility_val(\"eth\", eth_df, time_col, start_ts, end_ts, backtest_start)\n",
    "avg_rel_vol= (ada_rel_vol+bch_rel_vol+trx_rel_vol+ltc_rel_vol+eos_rel_vol+eth_rel_vol)/6\n",
    "avg_rel_vol\n",
    "print (\"==============================\")\n",
    "print (\"==============================\")\n",
    "print (\"avg_relative_volatility_ratio\", str(avg_rel_vol*100)[:5]+\"%\")"
   ]
  },
  {
   "cell_type": "markdown",
   "metadata": {},
   "source": [
    "## 赚钱时期三(11/14-11/24)的价格波动率和整个回测时段价格波动率对比"
   ]
  },
  {
   "cell_type": "code",
   "execution_count": 119,
   "metadata": {},
   "outputs": [
    {
     "name": "stdout",
     "output_type": "stream",
     "text": [
      "==============================\n",
      "ada\n",
      "94.57%\n",
      "==============================\n",
      "bch\n",
      "272.6%\n",
      "==============================\n",
      "trx\n",
      "111.8%\n",
      "==============================\n",
      "ltc\n",
      "95.81%\n",
      "==============================\n",
      "eos\n",
      "96.94%\n",
      "==============================\n",
      "eth\n",
      "103.9%\n",
      "==============================\n",
      "==============================\n",
      "avg_relative_volatility_ratio 129.2%\n"
     ]
    }
   ],
   "source": [
    "start_ts = \"2018-11-14 00:00:00\"\n",
    "end_ts = \"2018-11-24 00:00:00\"\n",
    "\n",
    "relative_volatility_all_in_one(\"ada\", ada_df, time_col, start_ts, end_ts, backtest_start)\n",
    "relative_volatility_all_in_one(\"bch\", bch_df, time_col, start_ts, end_ts, backtest_start)\n",
    "relative_volatility_all_in_one(\"trx\", trx_df, time_col, start_ts, end_ts, backtest_start)\n",
    "relative_volatility_all_in_one(\"ltc\", ltc_df, time_col, start_ts, end_ts, backtest_start)\n",
    "relative_volatility_all_in_one(\"eos\", eos_df, time_col, start_ts, end_ts, backtest_start)\n",
    "relative_volatility_all_in_one(\"eth\", eth_df, time_col, start_ts, end_ts, backtest_start)\n",
    "\n",
    "ada_rel_vol = relative_volatility_val(\"ada\", ada_df, time_col, start_ts, end_ts, backtest_start)\n",
    "bch_rel_vol = relative_volatility_val(\"bch\", bch_df, time_col, start_ts, end_ts, backtest_start)\n",
    "trx_rel_vol = relative_volatility_val(\"trx\", trx_df, time_col, start_ts, end_ts, backtest_start)\n",
    "ltc_rel_vol = relative_volatility_val(\"ltc\", ltc_df, time_col, start_ts, end_ts, backtest_start)\n",
    "eos_rel_vol = relative_volatility_val(\"eos\", eos_df, time_col, start_ts, end_ts, backtest_start)\n",
    "eth_rel_vol = relative_volatility_val(\"eth\", eth_df, time_col, start_ts, end_ts, backtest_start)\n",
    "avg_rel_vol= (ada_rel_vol+bch_rel_vol+trx_rel_vol+ltc_rel_vol+eos_rel_vol+eth_rel_vol)/6\n",
    "avg_rel_vol\n",
    "print (\"==============================\")\n",
    "print (\"==============================\")\n",
    "print (\"avg_relative_volatility_ratio\", str(avg_rel_vol*100)[:5]+\"%\")"
   ]
  },
  {
   "cell_type": "code",
   "execution_count": null,
   "metadata": {},
   "outputs": [],
   "source": []
  },
  {
   "cell_type": "code",
   "execution_count": null,
   "metadata": {},
   "outputs": [],
   "source": []
  },
  {
   "cell_type": "markdown",
   "metadata": {},
   "source": [
    "# 分析三：回测时期多头不赚钱空头赚钱的原因"
   ]
  },
  {
   "cell_type": "code",
   "execution_count": 101,
   "metadata": {},
   "outputs": [],
   "source": [
    "def return_analysis(asst, df, time_col, backtest_start):\n",
    "    close = df['close'][df[time_col]>=backtest_start]\n",
    "    close_start = close.values[0]\n",
    "    close_end = close.values[-1]\n",
    "    avg_daily_return = np.mean(close.pct_change())\n",
    "    total_return = close_end/close_start - 1\n",
    "    print (asst)\n",
    "    print (\"avg_daily_return: \", avg_daily_return)\n",
    "    print (\"total_return: \", total_return)\n",
    "    print (\"=============================================\")"
   ]
  },
  {
   "cell_type": "code",
   "execution_count": 104,
   "metadata": {},
   "outputs": [
    {
     "name": "stdout",
     "output_type": "stream",
     "text": [
      "ada\n",
      "avg_daily_return:  -0.0007073363288827819\n",
      "total_return:  -0.5249643366619116\n",
      "=============================================\n",
      "eth\n",
      "avg_daily_return:  -0.000985795217863391\n",
      "total_return:  -0.6098036485169196\n",
      "=============================================\n",
      "bch\n",
      "avg_daily_return:  -0.0007433045821839179\n",
      "total_return:  -0.5884917175239756\n",
      "=============================================\n",
      "ltc\n",
      "avg_daily_return:  -0.0005882461890809978\n",
      "total_return:  -0.4394171779141105\n",
      "=============================================\n",
      "eos\n",
      "avg_daily_return:  -0.0003822458312288239\n",
      "total_return:  -0.356045162302023\n",
      "=============================================\n",
      "trx\n",
      "avg_daily_return:  -0.0006294343200917069\n",
      "total_return:  -0.4951923076923077\n",
      "=============================================\n"
     ]
    }
   ],
   "source": [
    "return_analysis('ada', ada_df, time_col, backtest_start)\n",
    "return_analysis('eth', eth_df, time_col, backtest_start)\n",
    "return_analysis('bch', bch_df, time_col, backtest_start)\n",
    "return_analysis('ltc', ltc_df, time_col, backtest_start)\n",
    "return_analysis('eos', eos_df, time_col, backtest_start)\n",
    "return_analysis('trx', trx_df, time_col, backtest_start)"
   ]
  },
  {
   "cell_type": "code",
   "execution_count": null,
   "metadata": {},
   "outputs": [],
   "source": []
  },
  {
   "cell_type": "code",
   "execution_count": null,
   "metadata": {},
   "outputs": [],
   "source": []
  },
  {
   "cell_type": "code",
   "execution_count": null,
   "metadata": {},
   "outputs": [],
   "source": []
  },
  {
   "cell_type": "code",
   "execution_count": null,
   "metadata": {},
   "outputs": [],
   "source": []
  },
  {
   "cell_type": "code",
   "execution_count": null,
   "metadata": {},
   "outputs": [],
   "source": []
  },
  {
   "cell_type": "code",
   "execution_count": null,
   "metadata": {},
   "outputs": [],
   "source": []
  }
 ],
 "metadata": {
  "hide_input": false,
  "kernelspec": {
   "display_name": "Python 3",
   "language": "python",
   "name": "python3"
  },
  "language_info": {
   "codemirror_mode": {
    "name": "ipython",
    "version": 3
   },
   "file_extension": ".py",
   "mimetype": "text/x-python",
   "name": "python",
   "nbconvert_exporter": "python",
   "pygments_lexer": "ipython3",
   "version": "3.7.0"
  },
  "nav_menu": {},
  "toc": {
   "navigate_menu": true,
   "number_sections": true,
   "sideBar": true,
   "threshold": 6,
   "toc_cell": false,
   "toc_section_display": "block",
   "toc_window_display": true
  }
 },
 "nbformat": 4,
 "nbformat_minor": 2
}
