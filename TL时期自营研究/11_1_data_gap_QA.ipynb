{
 "cells": [
  {
   "cell_type": "code",
   "execution_count": 1,
   "metadata": {
    "collapsed": true
   },
   "outputs": [],
   "source": [
    "import pandas as pd, numpy as np\n",
    "import matplotlib.pyplot as plt"
   ]
  },
  {
   "cell_type": "code",
   "execution_count": 3,
   "metadata": {},
   "outputs": [],
   "source": [
    "data_location = \"C:/Users/workspace/SH_tongliang/database/bitmex_1min/bitmex_1min/\"\n",
    "file1 = \"ethz18_1m.csv\"\n",
    "file2 = \"bchz18_1m.csv\"\n",
    "file3 = \"adaz18_1m.csv\"\n",
    "file4 = \"eosz18_1m.csv\"\n",
    "file5 = \"ltcz18_1m.csv\"\n",
    "file6 = \"trxz18_1m.csv\"\n",
    "file7 = \"xbtusd_1m.csv\"\n",
    "file8 = \"xbtusd_1m.csv\"\n",
    "file9 = \"xrpz18_1m.csv\"\n",
    "\n",
    "df1 = pd.read_csv(data_location + file1)\n",
    "df2 = pd.read_csv(data_location + file2)\n",
    "df3 = pd.read_csv(data_location + file3)\n",
    "df4 = pd.read_csv(data_location + file4)\n",
    "df5 = pd.read_csv(data_location + file5)\n",
    "df6 = pd.read_csv(data_location + file6)\n",
    "df7 = pd.read_csv(data_location + file7)\n",
    "df8 = pd.read_csv(data_location + file8)\n",
    "df9 = pd.read_csv(data_location + file9)"
   ]
  },
  {
   "cell_type": "code",
   "execution_count": 4,
   "metadata": {
    "collapsed": true
   },
   "outputs": [],
   "source": [
    "# Step 1：Laad csv file and preprocess: T/5T/15T/30T/H/2H/4H/D/W/M\n",
    "def preprocess(data_location, file):\n",
    "    df = pd.read_csv(data_location + file)\n",
    "    df.columns = ['time', 'open', 'high', 'low', 'close', 'volume']\n",
    "    df.index = pd.DatetimeIndex(df['time'])\n",
    "    return df\n",
    "\n",
    "# Step 2：转变数据周期：\n",
    "def resample(df, period):\n",
    "    convrted_df = df.resample(period).last()\n",
    "    convrted_df['open'] = df['open'].resample(period).first()\n",
    "    convrted_df['high'] = df['high'].resample(period).max()\n",
    "    convrted_df['low'] = df['low'].resample(period).min()\n",
    "    convrted_df['close'] = df['close'].resample(period).last()\n",
    "    convrted_df['volume'] = df['volume'].resample(period).sum()\n",
    "    # Keep rows with at least 5 non-NaN values\n",
    "    convrted_df.dropna(thresh=5, inplace=True)\n",
    "    convrted_df.index = convrted_df['time']\n",
    "    convrted_df['time'] = pd.DatetimeIndex(convrted_df['time'])\n",
    "    return convrted_df"
   ]
  },
  {
   "cell_type": "code",
   "execution_count": 5,
   "metadata": {
    "collapsed": true
   },
   "outputs": [],
   "source": [
    "period = 'H'\n",
    "\n",
    "df1 = preprocess(data_location, file1)\n",
    "convrted_df1 = resample(df1, period)\n",
    "\n",
    "df2 = preprocess(data_location, file2)\n",
    "convrted_df2 = resample(df2, period)\n",
    "\n",
    "df3 = preprocess(data_location, file3)\n",
    "convrted_df3 = resample(df3, period)\n",
    "\n",
    "df4 = preprocess(data_location, file4)\n",
    "convrted_df4 = resample(df4, period)\n",
    "\n",
    "df5 = preprocess(data_location, file5)\n",
    "convrted_df5 = resample(df5, period)\n",
    "\n",
    "df6 = preprocess(data_location, file6)\n",
    "convrted_df6 = resample(df6, period)\n",
    "\n",
    "df7 = preprocess(data_location, file7)\n",
    "convrted_df7 = resample(df7, period)\n",
    "\n",
    "df8 = preprocess(data_location, file8)\n",
    "convrted_df8 = resample(df8, period)\n",
    "\n",
    "df9 = preprocess(data_location, file9)\n",
    "convrted_df9 = resample(df9, period)"
   ]
  },
  {
   "cell_type": "code",
   "execution_count": 9,
   "metadata": {
    "collapsed": true
   },
   "outputs": [],
   "source": [
    "file1h = \"ethz18_1h.csv\"\n",
    "file2h = \"bchz18_1h.csv\"\n",
    "file3h = \"adaz18_1h.csv\"\n",
    "file4h = \"eosz18_1h.csv\"\n",
    "file5h = \"ltcz18_1h.csv\"\n",
    "file6h = \"trxz18_1h.csv\"\n",
    "file7h = \"xbtusd_1h.csv\"\n",
    "file8h = \"xbtusd_1h.csv\"\n",
    "file9h = \"xrpz18_1h.csv\""
   ]
  },
  {
   "cell_type": "code",
   "execution_count": 10,
   "metadata": {
    "collapsed": true
   },
   "outputs": [],
   "source": [
    "data_location_hr = \"C:/Users/workspace/SH_tongliang/database/\""
   ]
  },
  {
   "cell_type": "code",
   "execution_count": 11,
   "metadata": {},
   "outputs": [],
   "source": [
    "convrted_df1.to_csv(data_location_hr + file1h)\n",
    "convrted_df2.to_csv(data_location_hr + file2h)\n",
    "convrted_df3.to_csv(data_location_hr + file3h)\n",
    "convrted_df4.to_csv(data_location_hr + file4h)\n",
    "convrted_df5.to_csv(data_location_hr + file5h)\n",
    "convrted_df6.to_csv(data_location_hr + file6h)\n",
    "convrted_df7.to_csv(data_location_hr + file7h)\n",
    "convrted_df8.to_csv(data_location_hr + file8h)\n",
    "convrted_df9.to_csv(data_location_hr + file9h)"
   ]
  }
 ],
 "metadata": {
  "anaconda-cloud": {},
  "hide_input": false,
  "kernelspec": {
   "display_name": "Python 3",
   "language": "python",
   "name": "python3"
  },
  "language_info": {
   "codemirror_mode": {
    "name": "ipython",
    "version": 3
   },
   "file_extension": ".py",
   "mimetype": "text/x-python",
   "name": "python",
   "nbconvert_exporter": "python",
   "pygments_lexer": "ipython3",
   "version": "3.7.0"
  },
  "nav_menu": {},
  "toc": {
   "navigate_menu": true,
   "number_sections": true,
   "sideBar": true,
   "threshold": 6,
   "toc_cell": false,
   "toc_section_display": "block",
   "toc_window_display": false
  }
 },
 "nbformat": 4,
 "nbformat_minor": 2
}
