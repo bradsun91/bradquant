{
 "cells": [
  {
   "cell_type": "code",
   "execution_count": 28,
   "metadata": {},
   "outputs": [],
   "source": [
    "import numpy as np, pandas as pd\n",
    "import matplotlib.pyplot as plt\n",
    "import statsmodels.api as sm \n",
    "from matplotlib import style\n",
    "import statsmodels.stats.diagnostic as smd\n",
    "import scipy.stats as stats\n",
    "style.use(\"ggplot\")\n",
    "\n",
    "%matplotlib inline"
   ]
  },
  {
   "cell_type": "markdown",
   "metadata": {},
   "source": [
    "# Lecture 18 - Rsidual Analysis\n",
    "\n",
    "https://www.quantopian.com/lectures/residual-analysis"
   ]
  },
  {
   "cell_type": "markdown",
   "metadata": {},
   "source": [
    "## Danger 1: Heteroscedasticity\n",
    "\n",
    "One of the main assumptions behind a linear regression is that the underlying data has a constant variance. If there are some parts of the data with a variance different from another part the data is not appropriate for a linear regression. Heteroscedasticity is a term that refers to data with non-constant variance, as opposed to homoscedasticity, when data has constant variance.\n",
    "\n",
    "Significant heteroscedasticity invalidates linear regression results by biasing the standard error of the model. As a result, we can't trust the outcomes of significance tests and confidence intervals generated from the model and its parameters.\n",
    "\n",
    "To avoid these consequences it is important to use residual plots to check for heteroscedasticity and adjust if necessary.\n",
    "\n",
    "As an example of detecting and correcting heteroscedasticity, let's consider yet another relationship between  X  and  Y :"
   ]
  },
  {
   "cell_type": "code",
   "execution_count": 24,
   "metadata": {},
   "outputs": [
    {
     "data": {
      "image/png": "[encoded data removed]",
      "text/plain": [
       "<Figure size 1152x432 with 1 Axes>"
      ]
     },
     "metadata": {},
     "output_type": "display_data"
    }
   ],
   "source": [
    "n = 50\n",
    "X = np.random.randint(0, 100, n)\n",
    "epsilon = np.random.normal(0, 1, n)\n",
    "Y_heteroscedastic = 100 + 2*X + epsilon*X\n",
    "\n",
    "model = sm.OLS(Y_heteroscedastic, sm.add_constant(X)).fit()\n",
    "B0, B1 = model.params\n",
    "residuals = model.resid\n",
    "\n",
    "plt.figure(figsize = (16, 6))\n",
    "plt.scatter(model.predict(), residuals);\n",
    "plt.axhline(0, color='black')\n",
    "plt.xlabel('Predicted Values');\n",
    "plt.ylabel('Residuals');"
   ]
  },
  {
   "cell_type": "markdown",
   "metadata": {},
   "source": [
    "Heteroscedasticity often manifests as this spread, giving us a tapered cloud in one direction or another. As we move along in the  x -axis, the magnitudes of the residuals are clearly increasing. A linear regression is unable to explain this varying variability and the regression standard errors will be biased."
   ]
  },
  {
   "cell_type": "markdown",
   "metadata": {},
   "source": [
    "## Statistical Methods for Detecting Heteroscedasticity"
   ]
  },
  {
   "cell_type": "markdown",
   "metadata": {},
   "source": [
    "Generally, we want to back up qualitative observations on a residual plot with a quantitative method. The residual plot led us to believe that the data might be heteroscedastic. Let's confirm that result with a statistical test.\n",
    "\n",
    "A common way to test for the presence of heteroscedasticity is the Breusch-Pagan hypothesis test. It's good to combine the qualitative analysis of a residual plot with the quantitative analysis of at least one hypothesis test. We can add the White test as well, but for now we will use only Breush-Pagan to test our relationship above. A function exists in the statsmodels package called het_breushpagan that simplifies the computation:"
   ]
  },
  {
   "cell_type": "code",
   "execution_count": 29,
   "metadata": {},
   "outputs": [
    {
     "name": "stdout",
     "output_type": "stream",
     "text": [
      "0.0016996224094362681\n",
      "The relationship is heteroscedastic.\n"
     ]
    },
    {
     "name": "stderr",
     "output_type": "stream",
     "text": [
      "/Users/miaoyuesun/anaconda3/lib/python3.5/site-packages/ipykernel_launcher.py:1: DeprecationWarning: `het_breushpagan` is deprecated, use `het_breuschpagan` instead!\n",
      "Use het_breuschpagan, het_breushpagan will be removed in 0.9 \n",
      "(Note: misspelling missing 'c')\n",
      "  \"\"\"Entry point for launching an IPython kernel.\n"
     ]
    }
   ],
   "source": [
    "breusch_pagan_p = smd.het_breushpagan(model.resid, model.model.exog)[1]\n",
    "print (breusch_pagan_p)\n",
    "if breusch_pagan_p > 0.05:\n",
    "    print (\"The relationship is not heteroscedastic.\")\n",
    "if breusch_pagan_p < 0.05:\n",
    "    print (\"The relationship is heteroscedastic.\")"
   ]
  },
  {
   "cell_type": "markdown",
   "metadata": {},
   "source": [
    "We set our confidence level at  α=0.05 , so a Breusch-Pagan p-value below  0.05  tells us that the relationship is heteroscedastic. For more on hypothesis tests and interpreting p-values, refer to the lecture on hypothesis testing.. Using a hypothesis test bears the risk of a false positive or a false negative, which is why it can be good to confirm with additional tests if we are skeptical."
   ]
  },
  {
   "cell_type": "code",
   "execution_count": 31,
   "metadata": {},
   "outputs": [
    {
     "data": {
      "text/plain": [
       "array([-1.27184523e+01,  7.08134155e+00,  8.86870968e+01,  5.19603822e+00,\n",
       "       -1.43413700e+02,  3.48568385e+01, -2.25101764e+01, -2.02884585e+00,\n",
       "        4.83603230e+00, -1.07481767e+02, -1.30630972e+01,  9.94237688e+00,\n",
       "        5.01301856e+01,  1.00469194e+01, -1.09325723e+02,  6.26851020e+01,\n",
       "       -1.32810016e+02, -4.14000155e+01,  7.84407619e+01,  3.21782168e+01,\n",
       "        7.41628126e+01, -5.81885310e+01,  4.12402721e+01, -3.90045623e+01,\n",
       "        1.26184487e+01, -1.16704470e+02,  6.80835252e+00,  1.81903370e+01,\n",
       "        8.67813498e+01, -8.33574175e+00,  1.86520093e+02, -6.64147216e+01,\n",
       "        9.68976734e+01,  4.23793235e+01, -2.40265304e+01,  2.66753161e+01,\n",
       "        1.37348239e+02,  3.86844453e+01, -8.75970765e+01, -8.14832015e+01,\n",
       "       -4.42104421e+00, -5.91592591e+01,  2.27977319e+01,  8.20315592e+00,\n",
       "       -2.57637280e+01,  1.41117145e+01,  3.32180493e+01,  1.29709016e+01,\n",
       "       -8.78134585e+01, -2.50077428e-02])"
      ]
     },
     "execution_count": 31,
     "metadata": {},
     "output_type": "execute_result"
    }
   ],
   "source": [
    "model.resid"
   ]
  },
  {
   "cell_type": "code",
   "execution_count": 30,
   "metadata": {},
   "outputs": [
    {
     "data": {
      "text/plain": [
       "array([[ 1., 91.],\n",
       "       [ 1., 21.],\n",
       "       [ 1., 76.],\n",
       "       [ 1., 13.],\n",
       "       [ 1., 92.],\n",
       "       [ 1., 40.],\n",
       "       [ 1., 31.],\n",
       "       [ 1., 84.],\n",
       "       [ 1., 70.],\n",
       "       [ 1., 74.],\n",
       "       [ 1., 96.],\n",
       "       [ 1.,  4.],\n",
       "       [ 1., 26.],\n",
       "       [ 1.,  4.],\n",
       "       [ 1., 91.],\n",
       "       [ 1., 54.],\n",
       "       [ 1., 83.],\n",
       "       [ 1., 73.],\n",
       "       [ 1., 64.],\n",
       "       [ 1., 93.],\n",
       "       [ 1., 76.],\n",
       "       [ 1., 54.],\n",
       "       [ 1., 70.],\n",
       "       [ 1., 71.],\n",
       "       [ 1.,  1.],\n",
       "       [ 1., 46.],\n",
       "       [ 1.,  3.],\n",
       "       [ 1., 22.],\n",
       "       [ 1., 52.],\n",
       "       [ 1., 70.],\n",
       "       [ 1., 90.],\n",
       "       [ 1., 41.],\n",
       "       [ 1., 50.],\n",
       "       [ 1., 90.],\n",
       "       [ 1., 34.],\n",
       "       [ 1., 84.],\n",
       "       [ 1., 99.],\n",
       "       [ 1., 98.],\n",
       "       [ 1., 57.],\n",
       "       [ 1., 57.],\n",
       "       [ 1., 20.],\n",
       "       [ 1., 59.],\n",
       "       [ 1.,  7.],\n",
       "       [ 1., 12.],\n",
       "       [ 1., 45.],\n",
       "       [ 1.,  0.],\n",
       "       [ 1., 30.],\n",
       "       [ 1., 14.],\n",
       "       [ 1., 37.],\n",
       "       [ 1., 43.]])"
      ]
     },
     "execution_count": 30,
     "metadata": {},
     "output_type": "execute_result"
    }
   ],
   "source": [
    "model.model.exog"
   ]
  },
  {
   "cell_type": "code",
   "execution_count": null,
   "metadata": {},
   "outputs": [],
   "source": []
  }
 ],
 "metadata": {
  "kernelspec": {
   "display_name": "Python 3",
   "language": "python",
   "name": "python3"
  },
  "language_info": {
   "codemirror_mode": {
    "name": "ipython",
    "version": 3
   },
   "file_extension": ".py",
   "mimetype": "text/x-python",
   "name": "python",
   "nbconvert_exporter": "python",
   "pygments_lexer": "ipython3",
   "version": "3.5.6"
  }
 },
 "nbformat": 4,
 "nbformat_minor": 2
}
