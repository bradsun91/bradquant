{
 "cells": [
  {
   "cell_type": "code",
   "execution_count": 1,
   "metadata": {},
   "outputs": [],
   "source": [
    "import tushare as ts\n",
    "from pyecharts import option as opts\n",
    "from pyecharts.charts.map import Map"
   ]
  },
  {
   "cell_type": "code",
   "execution_count": 2,
   "metadata": {},
   "outputs": [],
   "source": [
    "index_key = {\n",
    "    'SPTSX':'Canada',\n",
    "    'FCHI':'France',\n",
    "    'KSll':'South Korea',\n",
    "    'SPX':'United States',\n",
    "    'GDAXI':'Garmany',\n",
    "    'N225':'Japan',\n",
    "    'AS51':'Australia',\n",
    "    'SENSEX':'India',\n",
    "    'IBOVESPA':'Brazil',\n",
    "    'RTS':'Russia',\n",
    "    'TWII':'Taiwan',\n",
    "    'HSI':'Hong Kong',\n",
    "    \n",
    "}"
   ]
  },
  {
   "cell_type": "code",
   "execution_count": 3,
   "metadata": {},
   "outputs": [],
   "source": [
    "pro = ts.pro_api()\n",
    "# 获取全球指数\n",
    "df = pro.index_global(trade_date=\"20200220\", fields = 'pct_chg, ts_code')\n",
    "df['country'] = df['ts_code'].map(index_key)\n",
    "df = df.dropna(subset=['country'])\n",
    "df = df[['ts_code','pct_chg','country']]"
   ]
  },
  {
   "cell_type": "code",
   "execution_count": 4,
   "metadata": {},
   "outputs": [],
   "source": [
    "# 获取上证指数， 并合并\n",
    "sh = pro.index_daily(ts_code='000001.SH', fields = 'ts_code, pct_chg, ts_code',trade_date='20200220')\n",
    "sh['country'] = 'China'\n",
    "data = df.append(sh)"
   ]
  },
  {
   "cell_type": "code",
   "execution_count": 5,
   "metadata": {},
   "outputs": [
    {
     "data": {
      "text/html": [
       "<div>\n",
       "<style scoped>\n",
       "    .dataframe tbody tr th:only-of-type {\n",
       "        vertical-align: middle;\n",
       "    }\n",
       "\n",
       "    .dataframe tbody tr th {\n",
       "        vertical-align: top;\n",
       "    }\n",
       "\n",
       "    .dataframe thead th {\n",
       "        text-align: right;\n",
       "    }\n",
       "</style>\n",
       "<table border=\"1\" class=\"dataframe\">\n",
       "  <thead>\n",
       "    <tr style=\"text-align: right;\">\n",
       "      <th></th>\n",
       "      <th>ts_code</th>\n",
       "      <th>pct_chg</th>\n",
       "      <th>country</th>\n",
       "    </tr>\n",
       "  </thead>\n",
       "  <tbody>\n",
       "    <tr>\n",
       "      <th>1</th>\n",
       "      <td>SPX</td>\n",
       "      <td>-0.3816</td>\n",
       "      <td>United States</td>\n",
       "    </tr>\n",
       "    <tr>\n",
       "      <th>4</th>\n",
       "      <td>FCHI</td>\n",
       "      <td>-0.8008</td>\n",
       "      <td>France</td>\n",
       "    </tr>\n",
       "    <tr>\n",
       "      <th>5</th>\n",
       "      <td>GDAXI</td>\n",
       "      <td>-0.9065</td>\n",
       "      <td>Garmany</td>\n",
       "    </tr>\n",
       "    <tr>\n",
       "      <th>6</th>\n",
       "      <td>N225</td>\n",
       "      <td>0.3352</td>\n",
       "      <td>Japan</td>\n",
       "    </tr>\n",
       "    <tr>\n",
       "      <th>8</th>\n",
       "      <td>HSI</td>\n",
       "      <td>-0.1687</td>\n",
       "      <td>Hong Kong</td>\n",
       "    </tr>\n",
       "    <tr>\n",
       "      <th>9</th>\n",
       "      <td>AS51</td>\n",
       "      <td>0.2510</td>\n",
       "      <td>Australia</td>\n",
       "    </tr>\n",
       "    <tr>\n",
       "      <th>10</th>\n",
       "      <td>SENSEX</td>\n",
       "      <td>-0.3700</td>\n",
       "      <td>India</td>\n",
       "    </tr>\n",
       "    <tr>\n",
       "      <th>11</th>\n",
       "      <td>IBOVESPA</td>\n",
       "      <td>-1.6576</td>\n",
       "      <td>Brazil</td>\n",
       "    </tr>\n",
       "    <tr>\n",
       "      <th>12</th>\n",
       "      <td>RTS</td>\n",
       "      <td>-0.4066</td>\n",
       "      <td>Russia</td>\n",
       "    </tr>\n",
       "    <tr>\n",
       "      <th>13</th>\n",
       "      <td>TWII</td>\n",
       "      <td>-0.2870</td>\n",
       "      <td>Taiwan</td>\n",
       "    </tr>\n",
       "    <tr>\n",
       "      <th>15</th>\n",
       "      <td>SPTSX</td>\n",
       "      <td>0.0750</td>\n",
       "      <td>Canada</td>\n",
       "    </tr>\n",
       "    <tr>\n",
       "      <th>0</th>\n",
       "      <td>000001.SH</td>\n",
       "      <td>1.8402</td>\n",
       "      <td>China</td>\n",
       "    </tr>\n",
       "  </tbody>\n",
       "</table>\n",
       "</div>"
      ],
      "text/plain": [
       "      ts_code  pct_chg        country\n",
       "1         SPX  -0.3816  United States\n",
       "4        FCHI  -0.8008         France\n",
       "5       GDAXI  -0.9065        Garmany\n",
       "6        N225   0.3352          Japan\n",
       "8         HSI  -0.1687      Hong Kong\n",
       "9        AS51   0.2510      Australia\n",
       "10     SENSEX  -0.3700          India\n",
       "11   IBOVESPA  -1.6576         Brazil\n",
       "12        RTS  -0.4066         Russia\n",
       "13       TWII  -0.2870         Taiwan\n",
       "15      SPTSX   0.0750         Canada\n",
       "0   000001.SH   1.8402          China"
      ]
     },
     "execution_count": 5,
     "metadata": {},
     "output_type": "execute_result"
    }
   ],
   "source": [
    "data"
   ]
  },
  {
   "cell_type": "code",
   "execution_count": 28,
   "metadata": {},
   "outputs": [],
   "source": [
    "def index_global():\n",
    "    c = (\n",
    "        Map()\n",
    "        .add(\"\",\n",
    "            data_pair=[list(z) for z in zip(data['country'].values, data['pct_chg'].values)],#attr and value\n",
    "            maptype='world',\n",
    "            is_map_symbol_show=False)\n",
    "        .set_series_opts(label_opts=opts.LabelOpts(is_show=False))\n",
    "        .set_global_opts(\n",
    "            title_opts=opts.TitleOpts(title='Main International Performances'),\n",
    "            visualmap_opts=opts.VisualMapOpts(max_=2,\n",
    "                                              min_=-2,\n",
    "                                              is_calculable=True,\n",
    "                                              range_color=['green','red']),\n",
    "                        )\n",
    "        )\n",
    "    return c"
   ]
  },
  {
   "cell_type": "code",
   "execution_count": 44,
   "metadata": {},
   "outputs": [
    {
     "ename": "TypeError",
     "evalue": "__add() missing 2 required positional arguments: 'attr' and 'value'",
     "output_type": "error",
     "traceback": [
      "\u001b[0;31m---------------------------------------------------------------------------\u001b[0m",
      "\u001b[0;31mTypeError\u001b[0m                                 Traceback (most recent call last)",
      "\u001b[0;32m<ipython-input-44-22acb1481938>\u001b[0m in \u001b[0;36m<module>\u001b[0;34m()\u001b[0m\n\u001b[0;32m----> 1\u001b[0;31m \u001b[0mindex_global\u001b[0m\u001b[0;34m(\u001b[0m\u001b[0;34m)\u001b[0m\u001b[0;34m.\u001b[0m\u001b[0mrender_notebook\u001b[0m\u001b[0;34m(\u001b[0m\u001b[0;34m)\u001b[0m\u001b[0;34m\u001b[0m\u001b[0m\n\u001b[0m",
      "\u001b[0;32m<ipython-input-28-719809072e40>\u001b[0m in \u001b[0;36mindex_global\u001b[0;34m()\u001b[0m\n\u001b[1;32m      5\u001b[0m             \u001b[0mdata_pair\u001b[0m\u001b[0;34m=\u001b[0m\u001b[0;34m[\u001b[0m\u001b[0mlist\u001b[0m\u001b[0;34m(\u001b[0m\u001b[0mz\u001b[0m\u001b[0;34m)\u001b[0m \u001b[0;32mfor\u001b[0m \u001b[0mz\u001b[0m \u001b[0;32min\u001b[0m \u001b[0mzip\u001b[0m\u001b[0;34m(\u001b[0m\u001b[0mdata\u001b[0m\u001b[0;34m[\u001b[0m\u001b[0;34m'country'\u001b[0m\u001b[0;34m]\u001b[0m\u001b[0;34m.\u001b[0m\u001b[0mvalues\u001b[0m\u001b[0;34m,\u001b[0m \u001b[0mdata\u001b[0m\u001b[0;34m[\u001b[0m\u001b[0;34m'pct_chg'\u001b[0m\u001b[0;34m]\u001b[0m\u001b[0;34m.\u001b[0m\u001b[0mvalues\u001b[0m\u001b[0;34m)\u001b[0m\u001b[0;34m]\u001b[0m\u001b[0;34m,\u001b[0m\u001b[0;34m\u001b[0m\u001b[0m\n\u001b[1;32m      6\u001b[0m             \u001b[0mmaptype\u001b[0m\u001b[0;34m=\u001b[0m\u001b[0;34m'world'\u001b[0m\u001b[0;34m,\u001b[0m\u001b[0;34m\u001b[0m\u001b[0m\n\u001b[0;32m----> 7\u001b[0;31m             is_map_symbol_show=False)\n\u001b[0m\u001b[1;32m      8\u001b[0m         \u001b[0;34m.\u001b[0m\u001b[0mset_series_opts\u001b[0m\u001b[0;34m(\u001b[0m\u001b[0mlabel_opts\u001b[0m\u001b[0;34m=\u001b[0m\u001b[0mopts\u001b[0m\u001b[0;34m.\u001b[0m\u001b[0mLabelOpts\u001b[0m\u001b[0;34m(\u001b[0m\u001b[0mis_show\u001b[0m\u001b[0;34m=\u001b[0m\u001b[0;32mFalse\u001b[0m\u001b[0;34m)\u001b[0m\u001b[0;34m)\u001b[0m\u001b[0;34m\u001b[0m\u001b[0m\n\u001b[1;32m      9\u001b[0m         .set_global_opts(\n",
      "\u001b[0;32m~/anaconda3/lib/python3.5/site-packages/pyecharts/charts/map.py\u001b[0m in \u001b[0;36madd\u001b[0;34m(self, *args, **kwargs)\u001b[0m\n\u001b[1;32m     16\u001b[0m \u001b[0;34m\u001b[0m\u001b[0m\n\u001b[1;32m     17\u001b[0m     \u001b[0;32mdef\u001b[0m \u001b[0madd\u001b[0m\u001b[0;34m(\u001b[0m\u001b[0mself\u001b[0m\u001b[0;34m,\u001b[0m \u001b[0;34m*\u001b[0m\u001b[0margs\u001b[0m\u001b[0;34m,\u001b[0m \u001b[0;34m**\u001b[0m\u001b[0mkwargs\u001b[0m\u001b[0;34m)\u001b[0m\u001b[0;34m:\u001b[0m\u001b[0;34m\u001b[0m\u001b[0m\n\u001b[0;32m---> 18\u001b[0;31m         \u001b[0mself\u001b[0m\u001b[0;34m.\u001b[0m\u001b[0m__add\u001b[0m\u001b[0;34m(\u001b[0m\u001b[0;34m*\u001b[0m\u001b[0margs\u001b[0m\u001b[0;34m,\u001b[0m \u001b[0;34m**\u001b[0m\u001b[0mkwargs\u001b[0m\u001b[0;34m)\u001b[0m\u001b[0;34m\u001b[0m\u001b[0m\n\u001b[0m\u001b[1;32m     19\u001b[0m \u001b[0;34m\u001b[0m\u001b[0m\n\u001b[1;32m     20\u001b[0m     def __add(self, name, attr, value,\n",
      "\u001b[0;31mTypeError\u001b[0m: __add() missing 2 required positional arguments: 'attr' and 'value'"
     ]
    }
   ],
   "source": [
    "index_global().render_notebook()"
   ]
  },
  {
   "cell_type": "code",
   "execution_count": 48,
   "metadata": {},
   "outputs": [
    {
     "data": {
      "text/plain": [
       "array(['United States', 'France', 'Garmany', 'Japan', 'Hong Kong',\n",
       "       'Australia', 'India', 'Brazil', 'Russia', 'Taiwan', 'Canada',\n",
       "       'China'], dtype=object)"
      ]
     },
     "execution_count": 48,
     "metadata": {},
     "output_type": "execute_result"
    }
   ],
   "source": [
    "data['country'].values"
   ]
  },
  {
   "cell_type": "code",
   "execution_count": 49,
   "metadata": {},
   "outputs": [
    {
     "data": {
      "text/plain": [
       "array([-0.3816, -0.8008, -0.9065,  0.3352, -0.1687,  0.251 , -0.37  ,\n",
       "       -1.6576, -0.4066, -0.287 ,  0.075 ,  1.8402])"
      ]
     },
     "execution_count": 49,
     "metadata": {},
     "output_type": "execute_result"
    }
   ],
   "source": [
    "data['pct_chg'].values"
   ]
  },
  {
   "cell_type": "code",
   "execution_count": 50,
   "metadata": {},
   "outputs": [
    {
     "data": {
      "text/plain": [
       "[['United States', -0.3816],\n",
       " ['France', -0.8008],\n",
       " ['Garmany', -0.9065],\n",
       " ['Japan', 0.3352],\n",
       " ['Hong Kong', -0.1687],\n",
       " ['Australia', 0.251],\n",
       " ['India', -0.37],\n",
       " ['Brazil', -1.6576],\n",
       " ['Russia', -0.4066],\n",
       " ['Taiwan', -0.287],\n",
       " ['Canada', 0.075],\n",
       " ['China', 1.8402]]"
      ]
     },
     "execution_count": 50,
     "metadata": {},
     "output_type": "execute_result"
    }
   ],
   "source": [
    "[list(z) for z in zip(data['country'].values, data['pct_chg'].values)]"
   ]
  },
  {
   "cell_type": "code",
   "execution_count": 52,
   "metadata": {},
   "outputs": [
    {
     "ename": "AttributeError",
     "evalue": "'NoneType' object has no attribute 'set_series_opts'",
     "output_type": "error",
     "traceback": [
      "\u001b[0;31m---------------------------------------------------------------------------\u001b[0m",
      "\u001b[0;31mAttributeError\u001b[0m                            Traceback (most recent call last)",
      "\u001b[0;32m<ipython-input-52-d317c46bf9cd>\u001b[0m in \u001b[0;36m<module>\u001b[0;34m()\u001b[0m\n\u001b[1;32m      1\u001b[0m Map().add(\"\",\n\u001b[1;32m      2\u001b[0m             \u001b[0mdata\u001b[0m\u001b[0;34m[\u001b[0m\u001b[0;34m'country'\u001b[0m\u001b[0;34m]\u001b[0m\u001b[0;34m,\u001b[0m \u001b[0mdata\u001b[0m\u001b[0;34m[\u001b[0m\u001b[0;34m'pct_chg'\u001b[0m\u001b[0;34m]\u001b[0m\u001b[0;34m,\u001b[0m\u001b[0;31m#attr and value\u001b[0m\u001b[0;34m\u001b[0m\u001b[0m\n\u001b[0;32m----> 3\u001b[0;31m             \u001b[0mmaptype\u001b[0m\u001b[0;34m=\u001b[0m\u001b[0;34m'world'\u001b[0m\u001b[0;34m,\u001b[0m\u001b[0;34m\u001b[0m\u001b[0m\n\u001b[0m\u001b[1;32m      4\u001b[0m \u001b[0;31m#             is_map_symbol_show=False\u001b[0m\u001b[0;34m\u001b[0m\u001b[0;34m\u001b[0m\u001b[0m\n\u001b[1;32m      5\u001b[0m          \u001b[0;34m)\u001b[0m\u001b[0;34m.\u001b[0m\u001b[0mset_series_opts\u001b[0m\u001b[0;34m(\u001b[0m\u001b[0mlabel_opts\u001b[0m\u001b[0;34m=\u001b[0m\u001b[0mopts\u001b[0m\u001b[0;34m.\u001b[0m\u001b[0mLabelOpts\u001b[0m\u001b[0;34m(\u001b[0m\u001b[0mis_show\u001b[0m\u001b[0;34m=\u001b[0m\u001b[0;32mFalse\u001b[0m\u001b[0;34m)\u001b[0m\u001b[0;34m)\u001b[0m\u001b[0;34m.\u001b[0m\u001b[0mset_global_opts\u001b[0m\u001b[0;34m(\u001b[0m\u001b[0;34m\u001b[0m\u001b[0m\n",
      "\u001b[0;31mAttributeError\u001b[0m: 'NoneType' object has no attribute 'set_series_opts'"
     ]
    }
   ],
   "source": [
    "Map().add(\"\",\n",
    "            data['country'], data['pct_chg'],#attr and value\n",
    "            maptype='world',\n",
    "#             is_map_symbol_show=False\n",
    "         ).set_series_opts(label_opts=opts.LabelOpts(is_show=False)).set_global_opts(\n",
    "            title_opts=opts.TitleOpts(title='Main International Performances'),\n",
    "            visualmap_opts=opts.VisualMapOpts(max_=2,\n",
    "                                              min_=-2,\n",
    "                                              is_calculable=True,\n",
    "                                              range_color=['green','red']),\n",
    "                        )"
   ]
  },
  {
   "cell_type": "code",
   "execution_count": 8,
   "metadata": {},
   "outputs": [
    {
     "ename": "AttributeError",
     "evalue": "'str' object has no attribute '_Map__add'",
     "output_type": "error",
     "traceback": [
      "\u001b[0;31m---------------------------------------------------------------------------\u001b[0m",
      "\u001b[0;31mAttributeError\u001b[0m                            Traceback (most recent call last)",
      "\u001b[0;32m<ipython-input-8-bdf5c880f6c0>\u001b[0m in \u001b[0;36m<module>\u001b[0;34m()\u001b[0m\n\u001b[1;32m      2\u001b[0m map_ = Map.add(\"\",\n\u001b[1;32m      3\u001b[0m             \u001b[0mdata\u001b[0m\u001b[0;34m[\u001b[0m\u001b[0;34m'country'\u001b[0m\u001b[0;34m]\u001b[0m\u001b[0;34m.\u001b[0m\u001b[0mvalues\u001b[0m\u001b[0;34m,\u001b[0m \u001b[0mdata\u001b[0m\u001b[0;34m[\u001b[0m\u001b[0;34m'pct_chg'\u001b[0m\u001b[0;34m]\u001b[0m\u001b[0;34m.\u001b[0m\u001b[0mvalues\u001b[0m\u001b[0;34m,\u001b[0m\u001b[0;31m#attr and value\u001b[0m\u001b[0;34m\u001b[0m\u001b[0m\n\u001b[0;32m----> 4\u001b[0;31m             \u001b[0mmaptype\u001b[0m\u001b[0;34m=\u001b[0m\u001b[0;34m'world'\u001b[0m\u001b[0;34m,\u001b[0m\u001b[0;34m\u001b[0m\u001b[0m\n\u001b[0m\u001b[1;32m      5\u001b[0m \u001b[0;31m#             is_map_symbol_show=True\u001b[0m\u001b[0;34m\u001b[0m\u001b[0;34m\u001b[0m\u001b[0m\n\u001b[1;32m      6\u001b[0m         )\n",
      "\u001b[0;32m~/anaconda3/lib/python3.5/site-packages/pyecharts/charts/map.py\u001b[0m in \u001b[0;36madd\u001b[0;34m(self, *args, **kwargs)\u001b[0m\n\u001b[1;32m     16\u001b[0m \u001b[0;34m\u001b[0m\u001b[0m\n\u001b[1;32m     17\u001b[0m     \u001b[0;32mdef\u001b[0m \u001b[0madd\u001b[0m\u001b[0;34m(\u001b[0m\u001b[0mself\u001b[0m\u001b[0;34m,\u001b[0m \u001b[0;34m*\u001b[0m\u001b[0margs\u001b[0m\u001b[0;34m,\u001b[0m \u001b[0;34m**\u001b[0m\u001b[0mkwargs\u001b[0m\u001b[0;34m)\u001b[0m\u001b[0;34m:\u001b[0m\u001b[0;34m\u001b[0m\u001b[0m\n\u001b[0;32m---> 18\u001b[0;31m         \u001b[0mself\u001b[0m\u001b[0;34m.\u001b[0m\u001b[0m__add\u001b[0m\u001b[0;34m(\u001b[0m\u001b[0;34m*\u001b[0m\u001b[0margs\u001b[0m\u001b[0;34m,\u001b[0m \u001b[0;34m**\u001b[0m\u001b[0mkwargs\u001b[0m\u001b[0;34m)\u001b[0m\u001b[0;34m\u001b[0m\u001b[0m\n\u001b[0m\u001b[1;32m     19\u001b[0m \u001b[0;34m\u001b[0m\u001b[0m\n\u001b[1;32m     20\u001b[0m     def __add(self, name, attr, value,\n",
      "\u001b[0;31mAttributeError\u001b[0m: 'str' object has no attribute '_Map__add'"
     ]
    }
   ],
   "source": [
    "map_ = Map.add(\"\",\n",
    "            data['country'].values, data['pct_chg'].values,#attr and value\n",
    "            maptype='world',\n",
    "#             is_map_symbol_show=True\n",
    "        )"
   ]
  },
  {
   "cell_type": "code",
   "execution_count": 6,
   "metadata": {},
   "outputs": [],
   "source": [
    "from pyecharts import Map"
   ]
  },
  {
   "cell_type": "code",
   "execution_count": 7,
   "metadata": {},
   "outputs": [],
   "source": [
    "data=[(\"广东\",10430.03),(\"山东\",9579.31),(\"河南\",9402.36),(\"四川\",8041.82),(\"江苏\",7865.99),(\"河北\",7185.42),(\"湖南\",6568.37),(\"安徽\",5950.1),(\"浙江\",5442),(\"湖北\",5723.77),(\"广西\",4602.66),(\"云南\",4596.6),(\"江西\",4456.74),(\"辽宁\",4374.63),(\"黑龙江\",3831.22),(\"陕西\",3732.74),(\"山西\",3571.21),(\"福建\",3552),(\"重庆\",2884),(\"贵州\",3476.65),(\"吉林\",2746.22),(\"甘肃\",2557.53),(\"内蒙古\",2470.63),(\"上海\",2301.391),(\"台湾\",2316.2),(\"新疆\",2181.33),(\"北京\",1961.2),(\"天津\",1293.82),(\"海南\",867.15),(\"香港\",709.76),(\"青海\",562.67),(\"宁夏\",630.14),(\"西藏\",300.21),(\"澳门\",55.23)]"
   ]
  },
  {
   "cell_type": "code",
   "execution_count": 8,
   "metadata": {},
   "outputs": [],
   "source": [
    "import pandas as pd\n",
    "data=pd.DataFrame(data)\n",
    "data.columns=['city','popu']"
   ]
  },
  {
   "cell_type": "code",
   "execution_count": 9,
   "metadata": {},
   "outputs": [],
   "source": [
    "map_=Map(\"各省市人口数\", \"单位：万人\", title_color=\"#fff\", title_pos=\"center\", width=1200,  height=600, background_color='#404a59')\n",
    "attr=data['city']\n",
    "value=data['popu']\n",
    "\n",
    "map_.add(\"\", attr, value, visual_range=[0, 5000], visual_text_color=\"#fff\",        symbol_size=15, is_visualmap=True,is_label_show=True)"
   ]
  },
  {
   "cell_type": "code",
   "execution_count": 10,
   "metadata": {},
   "outputs": [
    {
     "name": "stderr",
     "output_type": "stream",
     "text": [
      "/Users/miaoyuesun/anaconda3/lib/python3.5/site-packages/pyecharts/base.py:453: UserWarning: \n",
      "This function is deprecated since 0.1.9.1 Simply passing the chart instance is enough\n",
      "  \" Simply passing the chart instance is enough\")\n"
     ]
    },
    {
     "data": {
      "text/html": [
       "<div id=\"2020-02-23 23:47:55.129644\" style=\"width:1200px; height:600px;\"></div>\n",
       "<script>\n",
       "    require.config({\n",
       "         paths:{\n",
       "            echarts: '//cdn.bootcss.com/echarts/3.6.2/echarts.min',\n",
       "            china: '//echarts.baidu.com/gallery/vendors/echarts/map/js/china',\n",
       "            world: '//oog4yfyu0.bkt.clouddn.com/world',\n",
       "         }\n",
       "    });\n",
       "    require(['echarts', 'china', 'world' ],function(ec){\n",
       "    var myChart = ec.init(document.getElementById('2020-02-23 23:47:55.129644'));\n",
       "               var option =  {\n",
       "    \"_index_flag\": 418390,\n",
       "    \"visualMap\": {\n",
       "        \"max\": 5000,\n",
       "        \"type\": \"continuous\",\n",
       "        \"inRange\": {\n",
       "            \"color\": [\n",
       "                \"#50a3ba\",\n",
       "                \"#eac763\",\n",
       "                \"#d94e5d\"\n",
       "            ]\n",
       "        },\n",
       "        \"top\": \"bottom\",\n",
       "        \"min\": 0,\n",
       "        \"left\": \"left\",\n",
       "        \"calculable\": true,\n",
       "        \"textStyle\": {\n",
       "            \"color\": \"#fff\"\n",
       "        },\n",
       "        \"orient\": \"vertical\",\n",
       "        \"text\": [\n",
       "            \"high\",\n",
       "            \"low\"\n",
       "        ]\n",
       "    },\n",
       "    \"color\": [\n",
       "        \"#c23531\",\n",
       "        \"#2f4554\",\n",
       "        \"#61a0a8\",\n",
       "        \"#d48265\",\n",
       "        \"#749f83\",\n",
       "        \"#ca8622\",\n",
       "        \"#bda29a\",\n",
       "        \"#6e7074\",\n",
       "        \"#546570\",\n",
       "        \"#c4ccd3\",\n",
       "        \"#f05b72\",\n",
       "        \"#ef5b9c\",\n",
       "        \"#f47920\",\n",
       "        \"#905a3d\",\n",
       "        \"#fab27b\",\n",
       "        \"#2a5caa\",\n",
       "        \"#444693\",\n",
       "        \"#726930\",\n",
       "        \"#b2d235\",\n",
       "        \"#6d8346\",\n",
       "        \"#ac6767\",\n",
       "        \"#1d953f\",\n",
       "        \"#6950a1\",\n",
       "        \"#918597\",\n",
       "        \"#f6f5ec\"\n",
       "    ],\n",
       "    \"backgroundColor\": \"#404a59\",\n",
       "    \"legend\": [\n",
       "        {\n",
       "            \"left\": \"center\",\n",
       "            \"top\": \"top\",\n",
       "            \"selectedMode\": \"multiple\",\n",
       "            \"show\": true,\n",
       "            \"data\": [\n",
       "                \"\"\n",
       "            ],\n",
       "            \"orient\": \"horizontal\"\n",
       "        }\n",
       "    ],\n",
       "    \"series\": [\n",
       "        {\n",
       "            \"type\": \"map\",\n",
       "            \"symbol\": \"circle\",\n",
       "            \"data\": [\n",
       "                {\n",
       "                    \"name\": \"\\u5e7f\\u4e1c\",\n",
       "                    \"value\": 10430.03\n",
       "                },\n",
       "                {\n",
       "                    \"name\": \"\\u5c71\\u4e1c\",\n",
       "                    \"value\": 9579.31\n",
       "                },\n",
       "                {\n",
       "                    \"name\": \"\\u6cb3\\u5357\",\n",
       "                    \"value\": 9402.36\n",
       "                },\n",
       "                {\n",
       "                    \"name\": \"\\u56db\\u5ddd\",\n",
       "                    \"value\": 8041.82\n",
       "                },\n",
       "                {\n",
       "                    \"name\": \"\\u6c5f\\u82cf\",\n",
       "                    \"value\": 7865.99\n",
       "                },\n",
       "                {\n",
       "                    \"name\": \"\\u6cb3\\u5317\",\n",
       "                    \"value\": 7185.42\n",
       "                },\n",
       "                {\n",
       "                    \"name\": \"\\u6e56\\u5357\",\n",
       "                    \"value\": 6568.37\n",
       "                },\n",
       "                {\n",
       "                    \"name\": \"\\u5b89\\u5fbd\",\n",
       "                    \"value\": 5950.1\n",
       "                },\n",
       "                {\n",
       "                    \"name\": \"\\u6d59\\u6c5f\",\n",
       "                    \"value\": 5442.0\n",
       "                },\n",
       "                {\n",
       "                    \"name\": \"\\u6e56\\u5317\",\n",
       "                    \"value\": 5723.77\n",
       "                },\n",
       "                {\n",
       "                    \"name\": \"\\u5e7f\\u897f\",\n",
       "                    \"value\": 4602.66\n",
       "                },\n",
       "                {\n",
       "                    \"name\": \"\\u4e91\\u5357\",\n",
       "                    \"value\": 4596.6\n",
       "                },\n",
       "                {\n",
       "                    \"name\": \"\\u6c5f\\u897f\",\n",
       "                    \"value\": 4456.74\n",
       "                },\n",
       "                {\n",
       "                    \"name\": \"\\u8fbd\\u5b81\",\n",
       "                    \"value\": 4374.63\n",
       "                },\n",
       "                {\n",
       "                    \"name\": \"\\u9ed1\\u9f99\\u6c5f\",\n",
       "                    \"value\": 3831.22\n",
       "                },\n",
       "                {\n",
       "                    \"name\": \"\\u9655\\u897f\",\n",
       "                    \"value\": 3732.74\n",
       "                },\n",
       "                {\n",
       "                    \"name\": \"\\u5c71\\u897f\",\n",
       "                    \"value\": 3571.21\n",
       "                },\n",
       "                {\n",
       "                    \"name\": \"\\u798f\\u5efa\",\n",
       "                    \"value\": 3552.0\n",
       "                },\n",
       "                {\n",
       "                    \"name\": \"\\u91cd\\u5e86\",\n",
       "                    \"value\": 2884.0\n",
       "                },\n",
       "                {\n",
       "                    \"name\": \"\\u8d35\\u5dde\",\n",
       "                    \"value\": 3476.65\n",
       "                },\n",
       "                {\n",
       "                    \"name\": \"\\u5409\\u6797\",\n",
       "                    \"value\": 2746.22\n",
       "                },\n",
       "                {\n",
       "                    \"name\": \"\\u7518\\u8083\",\n",
       "                    \"value\": 2557.53\n",
       "                },\n",
       "                {\n",
       "                    \"name\": \"\\u5185\\u8499\\u53e4\",\n",
       "                    \"value\": 2470.63\n",
       "                },\n",
       "                {\n",
       "                    \"name\": \"\\u4e0a\\u6d77\",\n",
       "                    \"value\": 2301.391\n",
       "                },\n",
       "                {\n",
       "                    \"name\": \"\\u53f0\\u6e7e\",\n",
       "                    \"value\": 2316.2\n",
       "                },\n",
       "                {\n",
       "                    \"name\": \"\\u65b0\\u7586\",\n",
       "                    \"value\": 2181.33\n",
       "                },\n",
       "                {\n",
       "                    \"name\": \"\\u5317\\u4eac\",\n",
       "                    \"value\": 1961.2\n",
       "                },\n",
       "                {\n",
       "                    \"name\": \"\\u5929\\u6d25\",\n",
       "                    \"value\": 1293.82\n",
       "                },\n",
       "                {\n",
       "                    \"name\": \"\\u6d77\\u5357\",\n",
       "                    \"value\": 867.15\n",
       "                },\n",
       "                {\n",
       "                    \"name\": \"\\u9999\\u6e2f\",\n",
       "                    \"value\": 709.76\n",
       "                },\n",
       "                {\n",
       "                    \"name\": \"\\u9752\\u6d77\",\n",
       "                    \"value\": 562.67\n",
       "                },\n",
       "                {\n",
       "                    \"name\": \"\\u5b81\\u590f\",\n",
       "                    \"value\": 630.14\n",
       "                },\n",
       "                {\n",
       "                    \"name\": \"\\u897f\\u85cf\",\n",
       "                    \"value\": 300.21\n",
       "                },\n",
       "                {\n",
       "                    \"name\": \"\\u6fb3\\u95e8\",\n",
       "                    \"value\": 55.23\n",
       "                }\n",
       "            ],\n",
       "            \"roam\": true,\n",
       "            \"mapType\": \"china\",\n",
       "            \"name\": \"\"\n",
       "        }\n",
       "    ],\n",
       "    \"toolbox\": {\n",
       "        \"left\": \"right\",\n",
       "        \"orient\": \"vertical\",\n",
       "        \"top\": \"center\",\n",
       "        \"feature\": {\n",
       "            \"saveAsImage\": {\n",
       "                \"show\": true\n",
       "            }\n",
       "        },\n",
       "        \"show\": true\n",
       "    },\n",
       "    \"tooltip\": {},\n",
       "    \"title\": [\n",
       "        {\n",
       "            \"subtextStyle\": {\n",
       "                \"fontSize\": 12,\n",
       "                \"color\": \"#aaa\"\n",
       "            },\n",
       "            \"left\": \"center\",\n",
       "            \"top\": \"auto\",\n",
       "            \"subtext\": \"\\u5355\\u4f4d\\uff1a\\u4e07\\u4eba\",\n",
       "            \"textStyle\": {\n",
       "                \"fontSize\": 18,\n",
       "                \"color\": \"#fff\"\n",
       "            },\n",
       "            \"text\": \"\\u5404\\u7701\\u5e02\\u4eba\\u53e3\\u6570\"\n",
       "        }\n",
       "    ]\n",
       "};\n",
       "               myChart.setOption(option);\n",
       "    });\n",
       "</script>\n"
      ],
      "text/plain": [
       "<IPython.core.display.HTML object>"
      ]
     },
     "execution_count": 10,
     "metadata": {},
     "output_type": "execute_result"
    }
   ],
   "source": [
    "map_.render_notebook()"
   ]
  },
  {
   "cell_type": "code",
   "execution_count": null,
   "metadata": {},
   "outputs": [],
   "source": []
  }
 ],
 "metadata": {
  "kernelspec": {
   "display_name": "Python 3",
   "language": "python",
   "name": "python3"
  },
  "language_info": {
   "codemirror_mode": {
    "name": "ipython",
    "version": 3
   },
   "file_extension": ".py",
   "mimetype": "text/x-python",
   "name": "python",
   "nbconvert_exporter": "python",
   "pygments_lexer": "ipython3",
   "version": "3.5.6"
  }
 },
 "nbformat": 4,
 "nbformat_minor": 2
}
