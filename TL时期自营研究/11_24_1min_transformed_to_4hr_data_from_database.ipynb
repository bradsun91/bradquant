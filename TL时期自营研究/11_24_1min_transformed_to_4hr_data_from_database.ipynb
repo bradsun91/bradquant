{
 "cells": [
  {
   "cell_type": "code",
   "execution_count": 44,
   "metadata": {},
   "outputs": [],
   "source": [
    "import pandas as pd, numpy as np\n",
    "from datetime import datetime, timedelta\n",
    "import matplotlib.pyplot as plt\n",
    "import time\n",
    "import csv\n",
    "\n",
    "%matplotlib inline"
   ]
  },
  {
   "cell_type": "code",
   "execution_count": 7,
   "metadata": {},
   "outputs": [],
   "source": [
    "location = \"C:/Users/workspace/brad_public_workspace_on_win/SH_tongliang/data/11_24_bitmex分钟线_multiplied/bitmex分钟线1124/\"\n",
    "file_ada = \"res_adau18z18乘10000000.csv\""
   ]
  },
  {
   "cell_type": "code",
   "execution_count": null,
   "metadata": {},
   "outputs": [],
   "source": [
    "def chg_col(df):\n",
    "    df.columns = ['time', 'open', 'high', 'low', 'close', 'volume']\n",
    "    return df"
   ]
  },
  {
   "cell_type": "code",
   "execution_count": 25,
   "metadata": {},
   "outputs": [],
   "source": [
    "ada_df = pd.read_csv(location+file_ada, engine=\"python\", header=None)\n",
    "ada_df.index = pd.to_datetime(ada_df.iloc[:, 0])\n",
    "ada_df = chg_col(ada_df)"
   ]
  },
  {
   "cell_type": "code",
   "execution_count": 109,
   "metadata": {},
   "outputs": [],
   "source": [
    "def chg_col(df):\n",
    "    df.columns = ['time', 'open', 'high', 'low', 'close', 'volume']\n",
    "    return df\n",
    "\n",
    "def time_to_timestamp(timestr):\n",
    "    \"\"\"\n",
    "    时间字符串转unix时间戳\n",
    "    :param str: 时间字符串\n",
    "    :return: unix时间戳，str类型\n",
    "    \"\"\"\n",
    "    dt = datetime.strptime(str(timestr), '%Y-%m-%d %H:%M:%S')\n",
    "    timestamp = time.mktime(dt.timetuple())\n",
    "    return str(int(timestamp))\n",
    "\n",
    "def myresample(df, period, min):\n",
    "    convrted_df = df.resample(period).last()\n",
    "    convrted_df['open'] = df['open'].resample(period).first()\n",
    "    convrted_df['high'] = df['high'].resample(period).max()\n",
    "    convrted_df['low'] = df['low'].resample(period).min()\n",
    "    convrted_df['close'] = df['close'].resample(period).last()\n",
    "    convrted_df['volume'] = df['volume'].resample(period).sum()\n",
    "    # Keep rows with at least 5 non-NaN values\n",
    "    convrted_df.dropna(thresh=5, inplace=True)\n",
    "    convrted_df.index = convrted_df['time']\n",
    "    convrted_df['time'] = pd.DatetimeIndex(time_translation(t, min) for t in convrted_df['time'])\n",
    "    convrted_df['timestamp'] = [time_to_timestamp(i) for i in convrted_df['time']]\n",
    "    return convrted_df\n",
    "\n",
    "def time_translation(ltime, min):\n",
    "    res_time = (datetime.strptime(ltime, '%Y-%m-%d %H:%M:%S') + timedelta(minutes=min)).strftime(\n",
    "        '%Y-%m-%d %H:%M:%S')\n",
    "    return res_time\n",
    "\n",
    "# Create a fucntion that transforms 1 min of data into 4-hour data:\n",
    "\n",
    "def transform_1min_into_4hr(csv_file, location):\n",
    "    df = pd.read_csv(location+csv_file, engine=\"python\", header=None)\n",
    "    df.index = pd.to_datetime(df.iloc[:, 0])\n",
    "    df = chg_col(df)\n",
    "    resampled_df = myresample(df, \"4h\", -59)\n",
    "    resampled_df.index = resampled_df['time']\n",
    "    del resampled_df['time']\n",
    "    resampled_df.reset_index(inplace = True)\n",
    "    resampled_df = resampled_df.iloc[:-1, :]\n",
    "    return resampled_df"
   ]
  },
  {
   "cell_type": "code",
   "execution_count": 102,
   "metadata": {},
   "outputs": [],
   "source": [
    "resampled_ada = myresample(ada_df, \"4h\", -59)\n",
    "resampled_ada.index = resampled_ada['time']\n",
    "del resampled_ada['time']\n",
    "resampled_ada.reset_index(inplace=True)\n",
    "resampled_ada = resampled_ada.iloc[:-1, :]"
   ]
  },
  {
   "cell_type": "code",
   "execution_count": 120,
   "metadata": {},
   "outputs": [],
   "source": [
    "resampled_ada.to_csv(location+'11_24_4hr_ada.csv')"
   ]
  },
  {
   "cell_type": "markdown",
   "metadata": {},
   "source": [
    "# Export other 4-hour data"
   ]
  },
  {
   "cell_type": "code",
   "execution_count": 110,
   "metadata": {},
   "outputs": [],
   "source": [
    "resampled_trx = transform_1min_into_4hr(\"res_trxu18z18乘100000000.csv\", location)"
   ]
  },
  {
   "cell_type": "code",
   "execution_count": 112,
   "metadata": {},
   "outputs": [],
   "source": [
    "resampled_bch = transform_1min_into_4hr(\"res_bchu18z18乘1000.csv\", location)"
   ]
  },
  {
   "cell_type": "code",
   "execution_count": 113,
   "metadata": {},
   "outputs": [],
   "source": [
    "resampled_eos = transform_1min_into_4hr(\"res_eosu18z18乘100000.csv\", location)"
   ]
  },
  {
   "cell_type": "code",
   "execution_count": 114,
   "metadata": {},
   "outputs": [],
   "source": [
    "resampled_eth = transform_1min_into_4hr(\"res_ethu18z18乘10000.csv\", location)"
   ]
  },
  {
   "cell_type": "code",
   "execution_count": 116,
   "metadata": {},
   "outputs": [],
   "source": [
    "resampled_ltc = transform_1min_into_4hr(\"res_ltcu18z18乘10000.csv\", location)"
   ]
  },
  {
   "cell_type": "code",
   "execution_count": 117,
   "metadata": {},
   "outputs": [],
   "source": [
    "resampled_xrp = transform_1min_into_4hr(\"res_xrpu18z18乘10000000.csv\", location)"
   ]
  },
  {
   "cell_type": "code",
   "execution_count": 118,
   "metadata": {},
   "outputs": [],
   "source": [
    "resampled_btc = transform_1min_into_4hr(\"xbtusd_1m.csv\", location)"
   ]
  },
  {
   "cell_type": "code",
   "execution_count": 121,
   "metadata": {},
   "outputs": [],
   "source": [
    "# resampled_ada.to_csv(location+'11_24_4hr_ada.csv')\n",
    "resampled_trx.to_csv(location+'11_24_4hr_trx.csv')\n",
    "resampled_bch.to_csv(location+'11_24_4hr_bch.csv')\n",
    "resampled_eos.to_csv(location+'11_24_4hr_eos.csv')\n",
    "resampled_eth.to_csv(location+'11_24_4hr_eth.csv')\n",
    "resampled_ltc.to_csv(location+'11_24_4hr_ltc.csv')\n",
    "resampled_xrp.to_csv(location+'11_24_4hr_xrp.csv')\n",
    "resampled_btc.to_csv(location+'11_24_4hr_btc.csv')"
   ]
  },
  {
   "cell_type": "code",
   "execution_count": null,
   "metadata": {},
   "outputs": [],
   "source": []
  }
 ],
 "metadata": {
  "hide_input": false,
  "kernelspec": {
   "display_name": "Python 3",
   "language": "python",
   "name": "python3"
  },
  "language_info": {
   "codemirror_mode": {
    "name": "ipython",
    "version": 3
   },
   "file_extension": ".py",
   "mimetype": "text/x-python",
   "name": "python",
   "nbconvert_exporter": "python",
   "pygments_lexer": "ipython3",
   "version": "3.7.0"
  },
  "nav_menu": {},
  "toc": {
   "navigate_menu": true,
   "number_sections": true,
   "sideBar": true,
   "threshold": 6,
   "toc_cell": false,
   "toc_section_display": "block",
   "toc_window_display": false
  }
 },
 "nbformat": 4,
 "nbformat_minor": 2
}
