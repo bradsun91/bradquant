{
 "cells": [
  {
   "cell_type": "code",
   "execution_count": 43,
   "metadata": {},
   "outputs": [],
   "source": [
    "import random\n",
    "import pandas as pd, numpy as np\n",
    "import matplotlib.pyplot as plt\n",
    "import seaborn as sns\n",
    "sns.set(style=\"darkgrid\")\n",
    "%matplotlib inline"
   ]
  },
  {
   "cell_type": "code",
   "execution_count": 180,
   "metadata": {},
   "outputs": [],
   "source": [
    "data_folder = \"/Users/miaoyuesun/Code_Workspace/brad_public_workspace_mac/data/CH_database/\"\n",
    "data = pd.read_csv(data_folder+\"sh000001.csv\")"
   ]
  },
  {
   "cell_type": "markdown",
   "metadata": {},
   "source": [
    "# 目录\n",
    "\n",
    "1. 第十四章 - 随机变量简介\n",
    "2. 第十五章 - 推断统计\n",
    "3. 第十六章 - 方差分析\n",
    "4. 第十七章 - 多元线性回归模型"
   ]
  },
  {
   "cell_type": "markdown",
   "metadata": {},
   "source": [
    "# 第十四章 - 随机变量简介\n",
    "- np.random.binomial() 二项式分布 binomial distribution - 离散型分布\n",
    "- stats.kde.gaussian_kde() 高斯核概率分布\n",
    "- stats.norm.ppf() 正态分布/高斯分布/Normal Distribution/Gaussian Distribution/钟形曲线）应用:VaR - 连续形分布\n",
    "- 卡方分布\n",
    "- t分布\n",
    "- F分布"
   ]
  },
  {
   "cell_type": "code",
   "execution_count": 8,
   "metadata": {},
   "outputs": [],
   "source": [
    "from scipy import stats"
   ]
  },
  {
   "cell_type": "markdown",
   "metadata": {},
   "source": [
    "## stats.kde.gaussian_kde() 高斯核概率分布"
   ]
  },
  {
   "cell_type": "code",
   "execution_count": 181,
   "metadata": {},
   "outputs": [],
   "source": [
    "data['returns'] = data['close'].pct_change()\n",
    "data.dropna(inplace=True)"
   ]
  },
  {
   "cell_type": "code",
   "execution_count": 183,
   "metadata": {},
   "outputs": [],
   "source": [
    "data.reset_index(inplace = True)\n",
    "del data['index']"
   ]
  },
  {
   "cell_type": "code",
   "execution_count": 184,
   "metadata": {},
   "outputs": [
    {
     "data": {
      "text/html": [
       "<div>\n",
       "<style scoped>\n",
       "    .dataframe tbody tr th:only-of-type {\n",
       "        vertical-align: middle;\n",
       "    }\n",
       "\n",
       "    .dataframe tbody tr th {\n",
       "        vertical-align: top;\n",
       "    }\n",
       "\n",
       "    .dataframe thead th {\n",
       "        text-align: right;\n",
       "    }\n",
       "</style>\n",
       "<table border=\"1\" class=\"dataframe\">\n",
       "  <thead>\n",
       "    <tr style=\"text-align: right;\">\n",
       "      <th></th>\n",
       "      <th>trade_date</th>\n",
       "      <th>open</th>\n",
       "      <th>high</th>\n",
       "      <th>low</th>\n",
       "      <th>close</th>\n",
       "      <th>volume</th>\n",
       "      <th>ts_code</th>\n",
       "      <th>returns</th>\n",
       "    </tr>\n",
       "  </thead>\n",
       "  <tbody>\n",
       "    <tr>\n",
       "      <th>0</th>\n",
       "      <td>1990-12-21</td>\n",
       "      <td>109.0700</td>\n",
       "      <td>109.1300</td>\n",
       "      <td>103.7300</td>\n",
       "      <td>109.1300</td>\n",
       "      <td>28.0</td>\n",
       "      <td>sh000001</td>\n",
       "      <td>0.045407</td>\n",
       "    </tr>\n",
       "    <tr>\n",
       "      <th>1</th>\n",
       "      <td>1990-12-24</td>\n",
       "      <td>113.5700</td>\n",
       "      <td>114.5500</td>\n",
       "      <td>109.1300</td>\n",
       "      <td>114.5500</td>\n",
       "      <td>32.0</td>\n",
       "      <td>sh000001</td>\n",
       "      <td>0.049666</td>\n",
       "    </tr>\n",
       "    <tr>\n",
       "      <th>2</th>\n",
       "      <td>1990-12-25</td>\n",
       "      <td>120.0900</td>\n",
       "      <td>120.2500</td>\n",
       "      <td>114.5500</td>\n",
       "      <td>120.2500</td>\n",
       "      <td>15.0</td>\n",
       "      <td>sh000001</td>\n",
       "      <td>0.049760</td>\n",
       "    </tr>\n",
       "    <tr>\n",
       "      <th>3</th>\n",
       "      <td>1990-12-26</td>\n",
       "      <td>125.2700</td>\n",
       "      <td>125.2700</td>\n",
       "      <td>120.2500</td>\n",
       "      <td>125.2700</td>\n",
       "      <td>100.0</td>\n",
       "      <td>sh000001</td>\n",
       "      <td>0.041746</td>\n",
       "    </tr>\n",
       "    <tr>\n",
       "      <th>4</th>\n",
       "      <td>1990-12-27</td>\n",
       "      <td>125.2700</td>\n",
       "      <td>125.2800</td>\n",
       "      <td>125.2700</td>\n",
       "      <td>125.2800</td>\n",
       "      <td>66.0</td>\n",
       "      <td>sh000001</td>\n",
       "      <td>0.000080</td>\n",
       "    </tr>\n",
       "    <tr>\n",
       "      <th>...</th>\n",
       "      <td>...</td>\n",
       "      <td>...</td>\n",
       "      <td>...</td>\n",
       "      <td>...</td>\n",
       "      <td>...</td>\n",
       "      <td>...</td>\n",
       "      <td>...</td>\n",
       "      <td>...</td>\n",
       "    </tr>\n",
       "    <tr>\n",
       "      <th>7109</th>\n",
       "      <td>2020-01-17</td>\n",
       "      <td>3081.4641</td>\n",
       "      <td>3091.9516</td>\n",
       "      <td>3067.2525</td>\n",
       "      <td>3075.4955</td>\n",
       "      <td>190304299.0</td>\n",
       "      <td>sh000001</td>\n",
       "      <td>0.000460</td>\n",
       "    </tr>\n",
       "    <tr>\n",
       "      <th>7110</th>\n",
       "      <td>2020-01-20</td>\n",
       "      <td>3082.1134</td>\n",
       "      <td>3096.3105</td>\n",
       "      <td>3070.4801</td>\n",
       "      <td>3095.7873</td>\n",
       "      <td>210493341.0</td>\n",
       "      <td>sh000001</td>\n",
       "      <td>0.006598</td>\n",
       "    </tr>\n",
       "    <tr>\n",
       "      <th>7111</th>\n",
       "      <td>2020-01-21</td>\n",
       "      <td>3085.7895</td>\n",
       "      <td>3085.7895</td>\n",
       "      <td>3051.2301</td>\n",
       "      <td>3052.1419</td>\n",
       "      <td>234830739.0</td>\n",
       "      <td>sh000001</td>\n",
       "      <td>-0.014098</td>\n",
       "    </tr>\n",
       "    <tr>\n",
       "      <th>7112</th>\n",
       "      <td>2020-01-22</td>\n",
       "      <td>3038.4868</td>\n",
       "      <td>3069.2527</td>\n",
       "      <td>3006.2677</td>\n",
       "      <td>3060.7545</td>\n",
       "      <td>223852865.0</td>\n",
       "      <td>sh000001</td>\n",
       "      <td>0.002822</td>\n",
       "    </tr>\n",
       "    <tr>\n",
       "      <th>7113</th>\n",
       "      <td>2020-01-23</td>\n",
       "      <td>3037.9524</td>\n",
       "      <td>3045.0406</td>\n",
       "      <td>2955.3460</td>\n",
       "      <td>2976.5281</td>\n",
       "      <td>272763234.0</td>\n",
       "      <td>sh000001</td>\n",
       "      <td>-0.027518</td>\n",
       "    </tr>\n",
       "  </tbody>\n",
       "</table>\n",
       "<p>7114 rows × 8 columns</p>\n",
       "</div>"
      ],
      "text/plain": [
       "      trade_date       open       high        low      close       volume  \\\n",
       "0     1990-12-21   109.0700   109.1300   103.7300   109.1300         28.0   \n",
       "1     1990-12-24   113.5700   114.5500   109.1300   114.5500         32.0   \n",
       "2     1990-12-25   120.0900   120.2500   114.5500   120.2500         15.0   \n",
       "3     1990-12-26   125.2700   125.2700   120.2500   125.2700        100.0   \n",
       "4     1990-12-27   125.2700   125.2800   125.2700   125.2800         66.0   \n",
       "...          ...        ...        ...        ...        ...          ...   \n",
       "7109  2020-01-17  3081.4641  3091.9516  3067.2525  3075.4955  190304299.0   \n",
       "7110  2020-01-20  3082.1134  3096.3105  3070.4801  3095.7873  210493341.0   \n",
       "7111  2020-01-21  3085.7895  3085.7895  3051.2301  3052.1419  234830739.0   \n",
       "7112  2020-01-22  3038.4868  3069.2527  3006.2677  3060.7545  223852865.0   \n",
       "7113  2020-01-23  3037.9524  3045.0406  2955.3460  2976.5281  272763234.0   \n",
       "\n",
       "       ts_code   returns  \n",
       "0     sh000001  0.045407  \n",
       "1     sh000001  0.049666  \n",
       "2     sh000001  0.049760  \n",
       "3     sh000001  0.041746  \n",
       "4     sh000001  0.000080  \n",
       "...        ...       ...  \n",
       "7109  sh000001  0.000460  \n",
       "7110  sh000001  0.006598  \n",
       "7111  sh000001 -0.014098  \n",
       "7112  sh000001  0.002822  \n",
       "7113  sh000001 -0.027518  \n",
       "\n",
       "[7114 rows x 8 columns]"
      ]
     },
     "execution_count": 184,
     "metadata": {},
     "output_type": "execute_result"
    }
   ],
   "source": [
    "data"
   ]
  },
  {
   "cell_type": "code",
   "execution_count": 188,
   "metadata": {},
   "outputs": [],
   "source": [
    "data.index = data['trade_date']"
   ]
  },
  {
   "cell_type": "code",
   "execution_count": 189,
   "metadata": {},
   "outputs": [],
   "source": [
    "density=stats.kde.gaussian_kde(data['returns']) \n",
    "bins = np.arange(-0.1,0.1,0.0002)"
   ]
  },
  {
   "cell_type": "code",
   "execution_count": 190,
   "metadata": {},
   "outputs": [
    {
     "data": {
      "text/plain": [
       "Text(0.5, 1.0, 'PDF on Shanghai Composite Index Daily Returns')"
      ]
     },
     "execution_count": 190,
     "metadata": {},
     "output_type": "execute_result"
    },
    {
     "data": {
      "image/png": "[encoded data removed]",
      "text/plain": [
       "<Figure size 1008x576 with 1 Axes>"
      ]
     },
     "metadata": {
      "needs_background": "light"
     },
     "output_type": "display_data"
    }
   ],
   "source": [
    "plt.figure(figsize=(14,8))\n",
    "plt.subplot(211)\n",
    "plt.plot(bins, density(bins))\n",
    "plt.title('PDF on Shanghai Composite Index Daily Returns')"
   ]
  },
  {
   "cell_type": "code",
   "execution_count": 191,
   "metadata": {},
   "outputs": [
    {
     "data": {
      "text/plain": [
       "Text(0.5, 1.0, 'PDF on Shanghai Composite Index Cumulative Daily Returns')"
      ]
     },
     "execution_count": 191,
     "metadata": {},
     "output_type": "execute_result"
    },
    {
     "data": {
      "image/png": "[encoded data removed]",
      "text/plain": [
       "<Figure size 1008x576 with 1 Axes>"
      ]
     },
     "metadata": {
      "needs_background": "light"
     },
     "output_type": "display_data"
    }
   ],
   "source": [
    "plt.figure(figsize=(14,8))\n",
    "plt.subplot(211)\n",
    "plt.plot(bins, density(bins).cumsum())\n",
    "plt.title('PDF on Shanghai Composite Index Cumulative Daily Returns')"
   ]
  },
  {
   "cell_type": "markdown",
   "metadata": {},
   "source": [
    "## 正态分布 stats.norm.ppf() 应用在VaR上"
   ]
  },
  {
   "cell_type": "code",
   "execution_count": 192,
   "metadata": {},
   "outputs": [],
   "source": [
    "returns = data['returns']\n",
    "returns_means = returns.mean()\n",
    "returns_variance = returns.var()"
   ]
  },
  {
   "cell_type": "code",
   "execution_count": 193,
   "metadata": {},
   "outputs": [
    {
     "name": "stdout",
     "output_type": "stream",
     "text": [
      "0.0007393614556032737\n",
      "0.0006076815341998795\n"
     ]
    }
   ],
   "source": [
    "print(returns_means)\n",
    "print(returns_variance)"
   ]
  },
  {
   "cell_type": "code",
   "execution_count": 194,
   "metadata": {},
   "outputs": [
    {
     "data": {
      "text/plain": [
       "-0.03980825002804818"
      ]
     },
     "execution_count": 194,
     "metadata": {},
     "output_type": "execute_result"
    }
   ],
   "source": [
    "# 查询累积密度值为0.05的分位数\n",
    "stats.norm.ppf(0.05,returns_means, returns_variance**0.5) #有95%的概率日损失不会超过3.98%"
   ]
  },
  {
   "cell_type": "markdown",
   "metadata": {},
   "source": [
    "## 二项分布的应用"
   ]
  },
  {
   "cell_type": "code",
   "execution_count": 195,
   "metadata": {},
   "outputs": [
    {
     "data": {
      "text/plain": [
       "0.5272701714928311"
      ]
     },
     "execution_count": 195,
     "metadata": {},
     "output_type": "execute_result"
    }
   ],
   "source": [
    "# The pct of days that are up\n",
    "p = len(returns[returns>0])/len(returns)\n",
    "p"
   ]
  },
  {
   "cell_type": "code",
   "execution_count": 196,
   "metadata": {},
   "outputs": [
    {
     "data": {
      "text/plain": [
       "0.22535673421919755"
      ]
     },
     "execution_count": 196,
     "metadata": {},
     "output_type": "execute_result"
    }
   ],
   "source": [
    "# 十个交易日中有6个交易日上涨的概率\n",
    "prob = stats.binom.pmf(6,10,p)\n",
    "prob"
   ]
  },
  {
   "cell_type": "markdown",
   "metadata": {},
   "source": [
    "## 相关性分析 - 000001和上证指数"
   ]
  },
  {
   "cell_type": "code",
   "execution_count": 197,
   "metadata": {},
   "outputs": [],
   "source": [
    "data1 = pd.read_csv(data_folder+\"000001.SZ.csv\")"
   ]
  },
  {
   "cell_type": "code",
   "execution_count": 198,
   "metadata": {},
   "outputs": [
    {
     "data": {
      "text/html": [
       "<div>\n",
       "<style scoped>\n",
       "    .dataframe tbody tr th:only-of-type {\n",
       "        vertical-align: middle;\n",
       "    }\n",
       "\n",
       "    .dataframe tbody tr th {\n",
       "        vertical-align: top;\n",
       "    }\n",
       "\n",
       "    .dataframe thead th {\n",
       "        text-align: right;\n",
       "    }\n",
       "</style>\n",
       "<table border=\"1\" class=\"dataframe\">\n",
       "  <thead>\n",
       "    <tr style=\"text-align: right;\">\n",
       "      <th></th>\n",
       "      <th>ts_code</th>\n",
       "      <th>trade_date</th>\n",
       "      <th>open</th>\n",
       "      <th>high</th>\n",
       "      <th>low</th>\n",
       "      <th>close</th>\n",
       "      <th>pre_close</th>\n",
       "      <th>change</th>\n",
       "      <th>pct_chg</th>\n",
       "      <th>vol</th>\n",
       "      <th>amount</th>\n",
       "    </tr>\n",
       "  </thead>\n",
       "  <tbody>\n",
       "    <tr>\n",
       "      <th>0</th>\n",
       "      <td>000001.SZ</td>\n",
       "      <td>2010-01-04</td>\n",
       "      <td>8.0647</td>\n",
       "      <td>8.0844</td>\n",
       "      <td>7.7884</td>\n",
       "      <td>7.7983</td>\n",
       "      <td>8.0154</td>\n",
       "      <td>-0.2171</td>\n",
       "      <td>-2.7085</td>\n",
       "      <td>241922.76</td>\n",
       "      <td>5.802495e+05</td>\n",
       "    </tr>\n",
       "    <tr>\n",
       "      <th>1</th>\n",
       "      <td>000001.SZ</td>\n",
       "      <td>2010-01-05</td>\n",
       "      <td>7.8114</td>\n",
       "      <td>7.8608</td>\n",
       "      <td>7.4825</td>\n",
       "      <td>7.6634</td>\n",
       "      <td>7.7983</td>\n",
       "      <td>-0.1349</td>\n",
       "      <td>-1.7299</td>\n",
       "      <td>556499.82</td>\n",
       "      <td>1.293477e+06</td>\n",
       "    </tr>\n",
       "    <tr>\n",
       "      <th>2</th>\n",
       "      <td>000001.SZ</td>\n",
       "      <td>2010-01-06</td>\n",
       "      <td>7.6470</td>\n",
       "      <td>7.6470</td>\n",
       "      <td>7.4727</td>\n",
       "      <td>7.5319</td>\n",
       "      <td>7.6634</td>\n",
       "      <td>-0.1315</td>\n",
       "      <td>-1.7159</td>\n",
       "      <td>412143.13</td>\n",
       "      <td>9.444537e+05</td>\n",
       "    </tr>\n",
       "    <tr>\n",
       "      <th>3</th>\n",
       "      <td>000001.SZ</td>\n",
       "      <td>2010-01-07</td>\n",
       "      <td>7.5319</td>\n",
       "      <td>7.5812</td>\n",
       "      <td>7.3674</td>\n",
       "      <td>7.4497</td>\n",
       "      <td>7.5319</td>\n",
       "      <td>-0.0822</td>\n",
       "      <td>-1.0914</td>\n",
       "      <td>355336.85</td>\n",
       "      <td>8.041663e+05</td>\n",
       "    </tr>\n",
       "    <tr>\n",
       "      <th>4</th>\n",
       "      <td>000001.SZ</td>\n",
       "      <td>2010-01-08</td>\n",
       "      <td>7.4003</td>\n",
       "      <td>7.4825</td>\n",
       "      <td>7.3510</td>\n",
       "      <td>7.4332</td>\n",
       "      <td>7.4497</td>\n",
       "      <td>-0.0165</td>\n",
       "      <td>-0.2215</td>\n",
       "      <td>288543.06</td>\n",
       "      <td>6.506674e+05</td>\n",
       "    </tr>\n",
       "    <tr>\n",
       "      <th>...</th>\n",
       "      <td>...</td>\n",
       "      <td>...</td>\n",
       "      <td>...</td>\n",
       "      <td>...</td>\n",
       "      <td>...</td>\n",
       "      <td>...</td>\n",
       "      <td>...</td>\n",
       "      <td>...</td>\n",
       "      <td>...</td>\n",
       "      <td>...</td>\n",
       "      <td>...</td>\n",
       "    </tr>\n",
       "    <tr>\n",
       "      <th>2370</th>\n",
       "      <td>000001.SZ</td>\n",
       "      <td>2020-01-15</td>\n",
       "      <td>16.7900</td>\n",
       "      <td>16.8600</td>\n",
       "      <td>16.4500</td>\n",
       "      <td>16.5200</td>\n",
       "      <td>16.7600</td>\n",
       "      <td>-0.2400</td>\n",
       "      <td>-1.4320</td>\n",
       "      <td>859439.12</td>\n",
       "      <td>1.424889e+06</td>\n",
       "    </tr>\n",
       "    <tr>\n",
       "      <th>2371</th>\n",
       "      <td>000001.SZ</td>\n",
       "      <td>2020-01-16</td>\n",
       "      <td>16.5200</td>\n",
       "      <td>16.5700</td>\n",
       "      <td>16.2000</td>\n",
       "      <td>16.3300</td>\n",
       "      <td>16.5200</td>\n",
       "      <td>-0.1900</td>\n",
       "      <td>-1.1501</td>\n",
       "      <td>1028104.67</td>\n",
       "      <td>1.678889e+06</td>\n",
       "    </tr>\n",
       "    <tr>\n",
       "      <th>2372</th>\n",
       "      <td>000001.SZ</td>\n",
       "      <td>2020-01-17</td>\n",
       "      <td>16.3800</td>\n",
       "      <td>16.5500</td>\n",
       "      <td>16.3500</td>\n",
       "      <td>16.3900</td>\n",
       "      <td>16.3300</td>\n",
       "      <td>0.0600</td>\n",
       "      <td>0.3674</td>\n",
       "      <td>605436.69</td>\n",
       "      <td>9.959090e+05</td>\n",
       "    </tr>\n",
       "    <tr>\n",
       "      <th>2373</th>\n",
       "      <td>000001.SZ</td>\n",
       "      <td>2020-01-20</td>\n",
       "      <td>16.4300</td>\n",
       "      <td>16.6100</td>\n",
       "      <td>16.3500</td>\n",
       "      <td>16.4500</td>\n",
       "      <td>16.3900</td>\n",
       "      <td>0.0600</td>\n",
       "      <td>0.3661</td>\n",
       "      <td>746074.75</td>\n",
       "      <td>1.226465e+06</td>\n",
       "    </tr>\n",
       "    <tr>\n",
       "      <th>2374</th>\n",
       "      <td>000001.SZ</td>\n",
       "      <td>2020-01-21</td>\n",
       "      <td>16.3400</td>\n",
       "      <td>16.3400</td>\n",
       "      <td>15.9300</td>\n",
       "      <td>16.0000</td>\n",
       "      <td>16.4500</td>\n",
       "      <td>-0.4500</td>\n",
       "      <td>-2.7356</td>\n",
       "      <td>896603.10</td>\n",
       "      <td>1.442171e+06</td>\n",
       "    </tr>\n",
       "  </tbody>\n",
       "</table>\n",
       "<p>2375 rows × 11 columns</p>\n",
       "</div>"
      ],
      "text/plain": [
       "        ts_code  trade_date     open     high      low    close  pre_close  \\\n",
       "0     000001.SZ  2010-01-04   8.0647   8.0844   7.7884   7.7983     8.0154   \n",
       "1     000001.SZ  2010-01-05   7.8114   7.8608   7.4825   7.6634     7.7983   \n",
       "2     000001.SZ  2010-01-06   7.6470   7.6470   7.4727   7.5319     7.6634   \n",
       "3     000001.SZ  2010-01-07   7.5319   7.5812   7.3674   7.4497     7.5319   \n",
       "4     000001.SZ  2010-01-08   7.4003   7.4825   7.3510   7.4332     7.4497   \n",
       "...         ...         ...      ...      ...      ...      ...        ...   \n",
       "2370  000001.SZ  2020-01-15  16.7900  16.8600  16.4500  16.5200    16.7600   \n",
       "2371  000001.SZ  2020-01-16  16.5200  16.5700  16.2000  16.3300    16.5200   \n",
       "2372  000001.SZ  2020-01-17  16.3800  16.5500  16.3500  16.3900    16.3300   \n",
       "2373  000001.SZ  2020-01-20  16.4300  16.6100  16.3500  16.4500    16.3900   \n",
       "2374  000001.SZ  2020-01-21  16.3400  16.3400  15.9300  16.0000    16.4500   \n",
       "\n",
       "      change  pct_chg         vol        amount  \n",
       "0    -0.2171  -2.7085   241922.76  5.802495e+05  \n",
       "1    -0.1349  -1.7299   556499.82  1.293477e+06  \n",
       "2    -0.1315  -1.7159   412143.13  9.444537e+05  \n",
       "3    -0.0822  -1.0914   355336.85  8.041663e+05  \n",
       "4    -0.0165  -0.2215   288543.06  6.506674e+05  \n",
       "...      ...      ...         ...           ...  \n",
       "2370 -0.2400  -1.4320   859439.12  1.424889e+06  \n",
       "2371 -0.1900  -1.1501  1028104.67  1.678889e+06  \n",
       "2372  0.0600   0.3674   605436.69  9.959090e+05  \n",
       "2373  0.0600   0.3661   746074.75  1.226465e+06  \n",
       "2374 -0.4500  -2.7356   896603.10  1.442171e+06  \n",
       "\n",
       "[2375 rows x 11 columns]"
      ]
     },
     "execution_count": 198,
     "metadata": {},
     "output_type": "execute_result"
    }
   ],
   "source": [
    "data1"
   ]
  },
  {
   "cell_type": "code",
   "execution_count": 199,
   "metadata": {},
   "outputs": [],
   "source": [
    "data1.index = data1['trade_date']"
   ]
  },
  {
   "cell_type": "code",
   "execution_count": 200,
   "metadata": {},
   "outputs": [
    {
     "data": {
      "text/html": [
       "<div>\n",
       "<style scoped>\n",
       "    .dataframe tbody tr th:only-of-type {\n",
       "        vertical-align: middle;\n",
       "    }\n",
       "\n",
       "    .dataframe tbody tr th {\n",
       "        vertical-align: top;\n",
       "    }\n",
       "\n",
       "    .dataframe thead th {\n",
       "        text-align: right;\n",
       "    }\n",
       "</style>\n",
       "<table border=\"1\" class=\"dataframe\">\n",
       "  <thead>\n",
       "    <tr style=\"text-align: right;\">\n",
       "      <th></th>\n",
       "      <th>ts_code</th>\n",
       "      <th>trade_date</th>\n",
       "      <th>open</th>\n",
       "      <th>high</th>\n",
       "      <th>low</th>\n",
       "      <th>close</th>\n",
       "      <th>pre_close</th>\n",
       "      <th>change</th>\n",
       "      <th>pct_chg</th>\n",
       "      <th>vol</th>\n",
       "      <th>amount</th>\n",
       "    </tr>\n",
       "    <tr>\n",
       "      <th>trade_date</th>\n",
       "      <th></th>\n",
       "      <th></th>\n",
       "      <th></th>\n",
       "      <th></th>\n",
       "      <th></th>\n",
       "      <th></th>\n",
       "      <th></th>\n",
       "      <th></th>\n",
       "      <th></th>\n",
       "      <th></th>\n",
       "      <th></th>\n",
       "    </tr>\n",
       "  </thead>\n",
       "  <tbody>\n",
       "    <tr>\n",
       "      <th>2010-01-04</th>\n",
       "      <td>000001.SZ</td>\n",
       "      <td>2010-01-04</td>\n",
       "      <td>8.0647</td>\n",
       "      <td>8.0844</td>\n",
       "      <td>7.7884</td>\n",
       "      <td>7.7983</td>\n",
       "      <td>8.0154</td>\n",
       "      <td>-0.2171</td>\n",
       "      <td>-2.7085</td>\n",
       "      <td>241922.76</td>\n",
       "      <td>5.802495e+05</td>\n",
       "    </tr>\n",
       "    <tr>\n",
       "      <th>2010-01-05</th>\n",
       "      <td>000001.SZ</td>\n",
       "      <td>2010-01-05</td>\n",
       "      <td>7.8114</td>\n",
       "      <td>7.8608</td>\n",
       "      <td>7.4825</td>\n",
       "      <td>7.6634</td>\n",
       "      <td>7.7983</td>\n",
       "      <td>-0.1349</td>\n",
       "      <td>-1.7299</td>\n",
       "      <td>556499.82</td>\n",
       "      <td>1.293477e+06</td>\n",
       "    </tr>\n",
       "    <tr>\n",
       "      <th>2010-01-06</th>\n",
       "      <td>000001.SZ</td>\n",
       "      <td>2010-01-06</td>\n",
       "      <td>7.6470</td>\n",
       "      <td>7.6470</td>\n",
       "      <td>7.4727</td>\n",
       "      <td>7.5319</td>\n",
       "      <td>7.6634</td>\n",
       "      <td>-0.1315</td>\n",
       "      <td>-1.7159</td>\n",
       "      <td>412143.13</td>\n",
       "      <td>9.444537e+05</td>\n",
       "    </tr>\n",
       "    <tr>\n",
       "      <th>2010-01-07</th>\n",
       "      <td>000001.SZ</td>\n",
       "      <td>2010-01-07</td>\n",
       "      <td>7.5319</td>\n",
       "      <td>7.5812</td>\n",
       "      <td>7.3674</td>\n",
       "      <td>7.4497</td>\n",
       "      <td>7.5319</td>\n",
       "      <td>-0.0822</td>\n",
       "      <td>-1.0914</td>\n",
       "      <td>355336.85</td>\n",
       "      <td>8.041663e+05</td>\n",
       "    </tr>\n",
       "    <tr>\n",
       "      <th>2010-01-08</th>\n",
       "      <td>000001.SZ</td>\n",
       "      <td>2010-01-08</td>\n",
       "      <td>7.4003</td>\n",
       "      <td>7.4825</td>\n",
       "      <td>7.3510</td>\n",
       "      <td>7.4332</td>\n",
       "      <td>7.4497</td>\n",
       "      <td>-0.0165</td>\n",
       "      <td>-0.2215</td>\n",
       "      <td>288543.06</td>\n",
       "      <td>6.506674e+05</td>\n",
       "    </tr>\n",
       "    <tr>\n",
       "      <th>...</th>\n",
       "      <td>...</td>\n",
       "      <td>...</td>\n",
       "      <td>...</td>\n",
       "      <td>...</td>\n",
       "      <td>...</td>\n",
       "      <td>...</td>\n",
       "      <td>...</td>\n",
       "      <td>...</td>\n",
       "      <td>...</td>\n",
       "      <td>...</td>\n",
       "      <td>...</td>\n",
       "    </tr>\n",
       "    <tr>\n",
       "      <th>2020-01-15</th>\n",
       "      <td>000001.SZ</td>\n",
       "      <td>2020-01-15</td>\n",
       "      <td>16.7900</td>\n",
       "      <td>16.8600</td>\n",
       "      <td>16.4500</td>\n",
       "      <td>16.5200</td>\n",
       "      <td>16.7600</td>\n",
       "      <td>-0.2400</td>\n",
       "      <td>-1.4320</td>\n",
       "      <td>859439.12</td>\n",
       "      <td>1.424889e+06</td>\n",
       "    </tr>\n",
       "    <tr>\n",
       "      <th>2020-01-16</th>\n",
       "      <td>000001.SZ</td>\n",
       "      <td>2020-01-16</td>\n",
       "      <td>16.5200</td>\n",
       "      <td>16.5700</td>\n",
       "      <td>16.2000</td>\n",
       "      <td>16.3300</td>\n",
       "      <td>16.5200</td>\n",
       "      <td>-0.1900</td>\n",
       "      <td>-1.1501</td>\n",
       "      <td>1028104.67</td>\n",
       "      <td>1.678889e+06</td>\n",
       "    </tr>\n",
       "    <tr>\n",
       "      <th>2020-01-17</th>\n",
       "      <td>000001.SZ</td>\n",
       "      <td>2020-01-17</td>\n",
       "      <td>16.3800</td>\n",
       "      <td>16.5500</td>\n",
       "      <td>16.3500</td>\n",
       "      <td>16.3900</td>\n",
       "      <td>16.3300</td>\n",
       "      <td>0.0600</td>\n",
       "      <td>0.3674</td>\n",
       "      <td>605436.69</td>\n",
       "      <td>9.959090e+05</td>\n",
       "    </tr>\n",
       "    <tr>\n",
       "      <th>2020-01-20</th>\n",
       "      <td>000001.SZ</td>\n",
       "      <td>2020-01-20</td>\n",
       "      <td>16.4300</td>\n",
       "      <td>16.6100</td>\n",
       "      <td>16.3500</td>\n",
       "      <td>16.4500</td>\n",
       "      <td>16.3900</td>\n",
       "      <td>0.0600</td>\n",
       "      <td>0.3661</td>\n",
       "      <td>746074.75</td>\n",
       "      <td>1.226465e+06</td>\n",
       "    </tr>\n",
       "    <tr>\n",
       "      <th>2020-01-21</th>\n",
       "      <td>000001.SZ</td>\n",
       "      <td>2020-01-21</td>\n",
       "      <td>16.3400</td>\n",
       "      <td>16.3400</td>\n",
       "      <td>15.9300</td>\n",
       "      <td>16.0000</td>\n",
       "      <td>16.4500</td>\n",
       "      <td>-0.4500</td>\n",
       "      <td>-2.7356</td>\n",
       "      <td>896603.10</td>\n",
       "      <td>1.442171e+06</td>\n",
       "    </tr>\n",
       "  </tbody>\n",
       "</table>\n",
       "<p>2375 rows × 11 columns</p>\n",
       "</div>"
      ],
      "text/plain": [
       "              ts_code  trade_date     open     high      low    close  \\\n",
       "trade_date                                                              \n",
       "2010-01-04  000001.SZ  2010-01-04   8.0647   8.0844   7.7884   7.7983   \n",
       "2010-01-05  000001.SZ  2010-01-05   7.8114   7.8608   7.4825   7.6634   \n",
       "2010-01-06  000001.SZ  2010-01-06   7.6470   7.6470   7.4727   7.5319   \n",
       "2010-01-07  000001.SZ  2010-01-07   7.5319   7.5812   7.3674   7.4497   \n",
       "2010-01-08  000001.SZ  2010-01-08   7.4003   7.4825   7.3510   7.4332   \n",
       "...               ...         ...      ...      ...      ...      ...   \n",
       "2020-01-15  000001.SZ  2020-01-15  16.7900  16.8600  16.4500  16.5200   \n",
       "2020-01-16  000001.SZ  2020-01-16  16.5200  16.5700  16.2000  16.3300   \n",
       "2020-01-17  000001.SZ  2020-01-17  16.3800  16.5500  16.3500  16.3900   \n",
       "2020-01-20  000001.SZ  2020-01-20  16.4300  16.6100  16.3500  16.4500   \n",
       "2020-01-21  000001.SZ  2020-01-21  16.3400  16.3400  15.9300  16.0000   \n",
       "\n",
       "            pre_close  change  pct_chg         vol        amount  \n",
       "trade_date                                                        \n",
       "2010-01-04     8.0154 -0.2171  -2.7085   241922.76  5.802495e+05  \n",
       "2010-01-05     7.7983 -0.1349  -1.7299   556499.82  1.293477e+06  \n",
       "2010-01-06     7.6634 -0.1315  -1.7159   412143.13  9.444537e+05  \n",
       "2010-01-07     7.5319 -0.0822  -1.0914   355336.85  8.041663e+05  \n",
       "2010-01-08     7.4497 -0.0165  -0.2215   288543.06  6.506674e+05  \n",
       "...               ...     ...      ...         ...           ...  \n",
       "2020-01-15    16.7600 -0.2400  -1.4320   859439.12  1.424889e+06  \n",
       "2020-01-16    16.5200 -0.1900  -1.1501  1028104.67  1.678889e+06  \n",
       "2020-01-17    16.3300  0.0600   0.3674   605436.69  9.959090e+05  \n",
       "2020-01-20    16.3900  0.0600   0.3661   746074.75  1.226465e+06  \n",
       "2020-01-21    16.4500 -0.4500  -2.7356   896603.10  1.442171e+06  \n",
       "\n",
       "[2375 rows x 11 columns]"
      ]
     },
     "execution_count": 200,
     "metadata": {},
     "output_type": "execute_result"
    }
   ],
   "source": [
    "data1"
   ]
  },
  {
   "cell_type": "code",
   "execution_count": 201,
   "metadata": {},
   "outputs": [],
   "source": [
    "returns1 = data1['pct_chg']/100\n",
    "returns0 = returns[returns1.index]"
   ]
  },
  {
   "cell_type": "code",
   "execution_count": 202,
   "metadata": {},
   "outputs": [
    {
     "data": {
      "text/plain": [
       "trade_date\n",
       "2010-01-04   -0.010185\n",
       "2010-01-05    0.011844\n",
       "2010-01-06   -0.008520\n",
       "2010-01-07   -0.018880\n",
       "2010-01-08    0.001009\n",
       "                ...   \n",
       "2020-01-15   -0.005402\n",
       "2020-01-16   -0.005164\n",
       "2020-01-17    0.000460\n",
       "2020-01-20    0.006598\n",
       "2020-01-21   -0.014098\n",
       "Name: returns, Length: 2375, dtype: float64"
      ]
     },
     "execution_count": 202,
     "metadata": {},
     "output_type": "execute_result"
    }
   ],
   "source": [
    "returns0"
   ]
  },
  {
   "cell_type": "code",
   "execution_count": 203,
   "metadata": {},
   "outputs": [
    {
     "data": {
      "text/plain": [
       "trade_date\n",
       "2010-01-04   -0.027085\n",
       "2010-01-05   -0.017299\n",
       "2010-01-06   -0.017159\n",
       "2010-01-07   -0.010914\n",
       "2010-01-08   -0.002215\n",
       "                ...   \n",
       "2020-01-15   -0.014320\n",
       "2020-01-16   -0.011501\n",
       "2020-01-17    0.003674\n",
       "2020-01-20    0.003661\n",
       "2020-01-21   -0.027356\n",
       "Name: pct_chg, Length: 2375, dtype: float64"
      ]
     },
     "execution_count": 203,
     "metadata": {},
     "output_type": "execute_result"
    }
   ],
   "source": [
    "returns1"
   ]
  },
  {
   "cell_type": "code",
   "execution_count": 204,
   "metadata": {},
   "outputs": [
    {
     "data": {
      "text/plain": [
       "Text(0.5, 1.0, 'Scatter Plot on Relationship of Two Returns')"
      ]
     },
     "execution_count": 204,
     "metadata": {},
     "output_type": "execute_result"
    },
    {
     "data": {
      "image/png": "[encoded data removed]",
      "text/plain": [
       "<Figure size 432x288 with 1 Axes>"
      ]
     },
     "metadata": {
      "needs_background": "light"
     },
     "output_type": "display_data"
    }
   ],
   "source": [
    "plt.scatter(returns0, returns1)\n",
    "plt.title(\"Scatter Plot on Relationship of Two Returns\")"
   ]
  },
  {
   "cell_type": "code",
   "execution_count": 205,
   "metadata": {
    "scrolled": true
   },
   "outputs": [
    {
     "data": {
      "text/plain": [
       "0.713457389250428"
      ]
     },
     "execution_count": 205,
     "metadata": {},
     "output_type": "execute_result"
    }
   ],
   "source": [
    "returns0.corr(returns1)"
   ]
  },
  {
   "cell_type": "markdown",
   "metadata": {},
   "source": [
    "# 第十五章 - 推断统计\n",
    "\n",
    "- Parameter Estimation 参数估计：均值、标准差\n",
    "- Hypothesis Testing 假设检验"
   ]
  },
  {
   "cell_type": "markdown",
   "metadata": {},
   "source": [
    "## 参数估计"
   ]
  },
  {
   "cell_type": "code",
   "execution_count": 219,
   "metadata": {},
   "outputs": [],
   "source": [
    "returns0_mean = returns0.mean()\n",
    "returns0_stddev = returns0.std()"
   ]
  },
  {
   "cell_type": "code",
   "execution_count": 208,
   "metadata": {},
   "outputs": [
    {
     "data": {
      "text/plain": [
       "<matplotlib.axes._subplots.AxesSubplot at 0x127ca8ef0>"
      ]
     },
     "execution_count": 208,
     "metadata": {},
     "output_type": "execute_result"
    },
    {
     "data": {
      "image/png": "[encoded data removed]",
      "text/plain": [
       "<Figure size 864x432 with 1 Axes>"
      ]
     },
     "metadata": {
      "needs_background": "light"
     },
     "output_type": "display_data"
    }
   ],
   "source": [
    "# 先从图像的角度看一下服从什么概率分布：\n",
    "returns0.hist(bins = 300, figsize=(12,6))"
   ]
  },
  {
   "cell_type": "code",
   "execution_count": 209,
   "metadata": {},
   "outputs": [
    {
     "data": {
      "text/plain": [
       "0.05763528201478563"
      ]
     },
     "execution_count": 209,
     "metadata": {},
     "output_type": "execute_result"
    }
   ],
   "source": [
    "returns0.max()"
   ]
  },
  {
   "cell_type": "code",
   "execution_count": 210,
   "metadata": {},
   "outputs": [
    {
     "data": {
      "text/plain": [
       "-0.08490898993769214"
      ]
     },
     "execution_count": 210,
     "metadata": {},
     "output_type": "execute_result"
    }
   ],
   "source": [
    "returns0.min()"
   ]
  },
  {
   "cell_type": "code",
   "execution_count": 211,
   "metadata": {},
   "outputs": [
    {
     "data": {
      "text/plain": [
       "trade_date\n",
       "2015-07-09    0.057635\n",
       "Name: returns, dtype: float64"
      ]
     },
     "execution_count": 211,
     "metadata": {},
     "output_type": "execute_result"
    }
   ],
   "source": [
    "returns0[returns0==returns0.max()]"
   ]
  },
  {
   "cell_type": "code",
   "execution_count": 212,
   "metadata": {},
   "outputs": [
    {
     "data": {
      "text/plain": [
       "[<matplotlib.lines.Line2D at 0x11e4cb828>]"
      ]
     },
     "execution_count": 212,
     "metadata": {},
     "output_type": "execute_result"
    },
    {
     "data": {
      "image/png": "[encoded data removed]",
      "text/plain": [
       "<Figure size 1008x288 with 1 Axes>"
      ]
     },
     "metadata": {
      "needs_background": "light"
     },
     "output_type": "display_data"
    }
   ],
   "source": [
    "plt.figure(figsize=(14,4))\n",
    "# plt.hist(returns)\n",
    "plt.plot(np.arange(-0.1, 0.2, 0.002),\\\n",
    "        stats.norm.pdf(np.arange(-0.1, 0.2, 0.002),\\\n",
    "                      returns0_mean, returns0_stddev))"
   ]
  },
  {
   "cell_type": "code",
   "execution_count": 213,
   "metadata": {},
   "outputs": [
    {
     "data": {
      "text/plain": [
       "(0.012986838592049499, 0.014075788005755626)"
      ]
     },
     "execution_count": 213,
     "metadata": {},
     "output_type": "execute_result"
    }
   ],
   "source": [
    "# 进行区间估计\n",
    "stats.t.interval(0.95, len(returns0)-1,\\\n",
    "                returns0_mean, stats.sem(returns0))"
   ]
  },
  {
   "cell_type": "markdown",
   "metadata": {},
   "source": [
    "根据估计的结果，可以得出在置信区间为0.95时，上证指数收益率的置信区间为(0.012986838592049499, 0.014075788005755626)"
   ]
  },
  {
   "cell_type": "markdown",
   "metadata": {},
   "source": [
    "## 假设检验\n",
    "\n",
    "### p检验\n",
    "- \n",
    "\n",
    "重点在于检验参数的取值是否等于某个目标值。\n",
    "\n",
    "假设检验一般具有两个隐含的思想：\n",
    "\n",
    "- 小概率事件思想：小概率事件在只有一次试验的情况下，几乎是不可能发生的。如果在我们的假设下，出现了一个小概率事件，那么假设即错误\n",
    "- 反证法思想：先假设我们的假设是正确的，然后在该条件下检验观测到的事件是不是小概率事件。如果是，那么就可以否定我们的假设；否则，我们就无法否定。"
   ]
  },
  {
   "cell_type": "markdown",
   "metadata": {},
   "source": [
    "- p检验：我们把所得到的样本或更极端的情况出现的概率叫做p值。\n",
    "总的来说，在假设检验中，判断小概率时间的一个基本原则是：当p值小于alpha时，我们的样本为小概率事件。而对于p值和alpha的比较，可以采取两种方法：\n",
    "\n",
    "\n",
    "- 1. 临界值检验法（Critical Value Approach）\n",
    "- 2. 显著性检验法（p-value Approach）"
   ]
  },
  {
   "cell_type": "markdown",
   "metadata": {},
   "source": [
    "### t 检验\n",
    "\n",
    "t检验所使用的统计量服从t分布，常用于检验标准差stddev未知的、服从正态分布总体的均值。"
   ]
  },
  {
   "cell_type": "markdown",
   "metadata": {},
   "source": [
    "#### 例1：使用单样本t检验检验上证综指收益率均值是否为0:"
   ]
  },
  {
   "cell_type": "code",
   "execution_count": 214,
   "metadata": {},
   "outputs": [
    {
     "data": {
      "text/plain": [
       "Ttest_1sampResult(statistic=0.07326519342193298, pvalue=0.9416012609685901)"
      ]
     },
     "execution_count": 214,
     "metadata": {},
     "output_type": "execute_result"
    }
   ],
   "source": [
    "# 输入我们要检验的变量以及药比较的数值即可。\n",
    "# 这里，原假设为上证综指的收益率均值为0，而p=0.94>0.05，所以在5%的显著水平下，不能拒绝原假设（原假设为：0是均值；p大于0.05表示不能拒绝原假设），\n",
    "# 因此推断上证综指的收益率均值为0\n",
    "stats.ttest_1samp(returns0, 0)"
   ]
  },
  {
   "cell_type": "markdown",
   "metadata": {},
   "source": [
    "#### 例2: 使用独立样本t检验来检验上证综指和000001的收益率均值是否相等"
   ]
  },
  {
   "cell_type": "code",
   "execution_count": 151,
   "metadata": {},
   "outputs": [
    {
     "data": {
      "text/plain": [
       "Ttest_indResult(statistic=1.4829085301961764, pvalue=0.13816509858515152)"
      ]
     },
     "execution_count": 151,
     "metadata": {},
     "output_type": "execute_result"
    }
   ],
   "source": [
    "# 原假设为相等，p>0.05，不能拒绝原假设，所以在5%的significant level的水平下，我们不能拒绝原假设，既不能拒绝“相等”，\n",
    "# 因此推断两者收益率均值相等\n",
    "stats.ttest_ind(returns0, returns1)"
   ]
  },
  {
   "cell_type": "markdown",
   "metadata": {},
   "source": [
    "#### 例3: 但是独立样本t检验假设两者是相互独立的。对于上证综指的收益率和000001的收益率，这个假设是很值得怀疑的。因此，我们使用配对样本t检验再次检验两者的均值是否相等"
   ]
  },
  {
   "cell_type": "code",
   "execution_count": 222,
   "metadata": {},
   "outputs": [
    {
     "data": {
      "text/plain": [
       "Ttest_relResult(statistic=-1.6127953519473044, pvalue=0.10692188970737095)"
      ]
     },
     "execution_count": 222,
     "metadata": {},
     "output_type": "execute_result"
    }
   ],
   "source": [
    "# 原假设为两者收益率均值相等，p大于0.05，因此在5%的显著水平下，不能拒绝原假设（收益率相等），因此推断两者收益率均值相等\n",
    "stats.ttest_rel(returns0, returns1)"
   ]
  },
  {
   "cell_type": "markdown",
   "metadata": {},
   "source": [
    "# 第十六章 - 方差分析"
   ]
  },
  {
   "cell_type": "markdown",
   "metadata": {},
   "source": [
    "## 单因素方差分析"
   ]
  },
  {
   "cell_type": "markdown",
   "metadata": {},
   "source": [
    "### 应用：可应用在比较不同行业的收益率是否一样 Page227"
   ]
  },
  {
   "cell_type": "code",
   "execution_count": 231,
   "metadata": {},
   "outputs": [],
   "source": [
    "code = ['000001','000002','000003','000004','000005']\n",
    "years = ['2014','2014','2014','2014','2014']\n",
    "ind_returns = [0.57298,0.827567,0.336481,0.64,0.477997]\n",
    "industries = ['货币金融服务','房地产业','医药制造业','房地产业','房地产业']"
   ]
  },
  {
   "cell_type": "code",
   "execution_count": 234,
   "metadata": {},
   "outputs": [],
   "source": [
    "industry_returns = pd.DataFrame()\n",
    "industry_returns['Code'] = code\n",
    "industry_returns['Year'] = years\n",
    "industry_returns['Return'] = ind_returns\n",
    "industry_returns['Industry'] = industries"
   ]
  },
  {
   "cell_type": "code",
   "execution_count": 235,
   "metadata": {},
   "outputs": [
    {
     "data": {
      "text/html": [
       "<div>\n",
       "<style scoped>\n",
       "    .dataframe tbody tr th:only-of-type {\n",
       "        vertical-align: middle;\n",
       "    }\n",
       "\n",
       "    .dataframe tbody tr th {\n",
       "        vertical-align: top;\n",
       "    }\n",
       "\n",
       "    .dataframe thead th {\n",
       "        text-align: right;\n",
       "    }\n",
       "</style>\n",
       "<table border=\"1\" class=\"dataframe\">\n",
       "  <thead>\n",
       "    <tr style=\"text-align: right;\">\n",
       "      <th></th>\n",
       "      <th>Code</th>\n",
       "      <th>Year</th>\n",
       "      <th>Return</th>\n",
       "      <th>Industry</th>\n",
       "    </tr>\n",
       "  </thead>\n",
       "  <tbody>\n",
       "    <tr>\n",
       "      <th>0</th>\n",
       "      <td>000001</td>\n",
       "      <td>2014</td>\n",
       "      <td>0.572980</td>\n",
       "      <td>货币金融服务</td>\n",
       "    </tr>\n",
       "    <tr>\n",
       "      <th>1</th>\n",
       "      <td>000002</td>\n",
       "      <td>2014</td>\n",
       "      <td>0.827567</td>\n",
       "      <td>房地产业</td>\n",
       "    </tr>\n",
       "    <tr>\n",
       "      <th>2</th>\n",
       "      <td>000003</td>\n",
       "      <td>2014</td>\n",
       "      <td>0.336481</td>\n",
       "      <td>医药制造业</td>\n",
       "    </tr>\n",
       "    <tr>\n",
       "      <th>3</th>\n",
       "      <td>000004</td>\n",
       "      <td>2014</td>\n",
       "      <td>0.640000</td>\n",
       "      <td>房地产业</td>\n",
       "    </tr>\n",
       "    <tr>\n",
       "      <th>4</th>\n",
       "      <td>000005</td>\n",
       "      <td>2014</td>\n",
       "      <td>0.477997</td>\n",
       "      <td>房地产业</td>\n",
       "    </tr>\n",
       "  </tbody>\n",
       "</table>\n",
       "</div>"
      ],
      "text/plain": [
       "     Code  Year    Return Industry\n",
       "0  000001  2014  0.572980   货币金融服务\n",
       "1  000002  2014  0.827567     房地产业\n",
       "2  000003  2014  0.336481    医药制造业\n",
       "3  000004  2014  0.640000     房地产业\n",
       "4  000005  2014  0.477997     房地产业"
      ]
     },
     "execution_count": 235,
     "metadata": {},
     "output_type": "execute_result"
    }
   ],
   "source": [
    "industry_returns"
   ]
  },
  {
   "cell_type": "code",
   "execution_count": 238,
   "metadata": {},
   "outputs": [],
   "source": [
    "import statsmodels.stats.anova as anova\n",
    "from statsmodels.formula.api import ols"
   ]
  },
  {
   "cell_type": "code",
   "execution_count": 242,
   "metadata": {},
   "outputs": [],
   "source": [
    "model = ols('Return ~ C(Industry)',\\\n",
    "           data=industry_returns.dropna()).fit()"
   ]
  },
  {
   "cell_type": "code",
   "execution_count": 244,
   "metadata": {},
   "outputs": [
    {
     "name": "stdout",
     "output_type": "stream",
     "text": [
      "              df    sum_sq   mean_sq         F    PR(>F)\n",
      "C(Industry)  2.0  0.073032  0.036516  1.193163  0.455962\n",
      "Residual     2.0  0.061209  0.030604       NaN       NaN\n"
     ]
    }
   ],
   "source": [
    "# p-value主要看PR(>F)的值\n",
    "\n",
    "table1 = anova.anova_lm(model)\n",
    "print(table1)"
   ]
  },
  {
   "cell_type": "markdown",
   "metadata": {},
   "source": [
    "# 第十七章 - 回归分析"
   ]
  },
  {
   "cell_type": "markdown",
   "metadata": {},
   "source": [
    "## 一元线性回归\n",
    "\n",
    "例1: 两种资产收益率数据构造一元回归模型"
   ]
  },
  {
   "cell_type": "markdown",
   "metadata": {},
   "source": [
    "### 1. summary report"
   ]
  },
  {
   "cell_type": "code",
   "execution_count": 245,
   "metadata": {},
   "outputs": [
    {
     "name": "stderr",
     "output_type": "stream",
     "text": [
      "/Users/miaoyuesun/anaconda3/envs/py36/lib/python3.6/site-packages/numpy/core/fromnumeric.py:2542: FutureWarning: Method .ptp is deprecated and will be removed in a future version. Use numpy.ptp instead.\n",
      "  return ptp(axis=axis, out=out, **kwargs)\n"
     ]
    }
   ],
   "source": [
    "import statsmodels.api as sm\n",
    "model = sm.OLS(returns0, sm.add_constant(returns1)).fit()"
   ]
  },
  {
   "cell_type": "code",
   "execution_count": 247,
   "metadata": {},
   "outputs": [
    {
     "data": {
      "text/html": [
       "<table class=\"simpletable\">\n",
       "<caption>OLS Regression Results</caption>\n",
       "<tr>\n",
       "  <th>Dep. Variable:</th>         <td>returns</td>     <th>  R-squared:         </th>  <td>   0.509</td> \n",
       "</tr>\n",
       "<tr>\n",
       "  <th>Model:</th>                   <td>OLS</td>       <th>  Adj. R-squared:    </th>  <td>   0.509</td> \n",
       "</tr>\n",
       "<tr>\n",
       "  <th>Method:</th>             <td>Least Squares</td>  <th>  F-statistic:       </th>  <td>   2460.</td> \n",
       "</tr>\n",
       "<tr>\n",
       "  <th>Date:</th>             <td>Tue, 28 Jan 2020</td> <th>  Prob (F-statistic):</th>   <td>  0.00</td>  \n",
       "</tr>\n",
       "<tr>\n",
       "  <th>Time:</th>                 <td>13:24:58</td>     <th>  Log-Likelihood:    </th>  <td>  7694.3</td> \n",
       "</tr>\n",
       "<tr>\n",
       "  <th>No. Observations:</th>      <td>  2375</td>      <th>  AIC:               </th> <td>-1.538e+04</td>\n",
       "</tr>\n",
       "<tr>\n",
       "  <th>Df Residuals:</th>          <td>  2373</td>      <th>  BIC:               </th> <td>-1.537e+04</td>\n",
       "</tr>\n",
       "<tr>\n",
       "  <th>Df Model:</th>              <td>     1</td>      <th>                     </th>      <td> </td>    \n",
       "</tr>\n",
       "<tr>\n",
       "  <th>Covariance Type:</th>      <td>nonrobust</td>    <th>                     </th>      <td> </td>    \n",
       "</tr>\n",
       "</table>\n",
       "<table class=\"simpletable\">\n",
       "<tr>\n",
       "     <td></td>        <th>coef</th>     <th>std err</th>      <th>t</th>      <th>P>|t|</th>  <th>[0.025</th>    <th>0.975]</th>  \n",
       "</tr>\n",
       "<tr>\n",
       "  <th>const</th>   <td>   -0.0002</td> <td>    0.000</td> <td>   -1.100</td> <td> 0.272</td> <td>   -0.001</td> <td>    0.000</td>\n",
       "</tr>\n",
       "<tr>\n",
       "  <th>pct_chg</th> <td>    0.4554</td> <td>    0.009</td> <td>   49.600</td> <td> 0.000</td> <td>    0.437</td> <td>    0.473</td>\n",
       "</tr>\n",
       "</table>\n",
       "<table class=\"simpletable\">\n",
       "<tr>\n",
       "  <th>Omnibus:</th>       <td>354.034</td> <th>  Durbin-Watson:     </th> <td>   1.870</td> \n",
       "</tr>\n",
       "<tr>\n",
       "  <th>Prob(Omnibus):</th> <td> 0.000</td>  <th>  Jarque-Bera (JB):  </th> <td>1321.049</td> \n",
       "</tr>\n",
       "<tr>\n",
       "  <th>Skew:</th>          <td>-0.703</td>  <th>  Prob(JB):          </th> <td>1.37e-287</td>\n",
       "</tr>\n",
       "<tr>\n",
       "  <th>Kurtosis:</th>      <td> 6.372</td>  <th>  Cond. No.          </th> <td>    47.2</td> \n",
       "</tr>\n",
       "</table><br/><br/>Warnings:<br/>[1] Standard Errors assume that the covariance matrix of the errors is correctly specified."
      ],
      "text/plain": [
       "<class 'statsmodels.iolib.summary.Summary'>\n",
       "\"\"\"\n",
       "                            OLS Regression Results                            \n",
       "==============================================================================\n",
       "Dep. Variable:                returns   R-squared:                       0.509\n",
       "Model:                            OLS   Adj. R-squared:                  0.509\n",
       "Method:                 Least Squares   F-statistic:                     2460.\n",
       "Date:                Tue, 28 Jan 2020   Prob (F-statistic):               0.00\n",
       "Time:                        13:24:58   Log-Likelihood:                 7694.3\n",
       "No. Observations:                2375   AIC:                        -1.538e+04\n",
       "Df Residuals:                    2373   BIC:                        -1.537e+04\n",
       "Df Model:                           1                                         \n",
       "Covariance Type:            nonrobust                                         \n",
       "==============================================================================\n",
       "                 coef    std err          t      P>|t|      [0.025      0.975]\n",
       "------------------------------------------------------------------------------\n",
       "const         -0.0002      0.000     -1.100      0.272      -0.001       0.000\n",
       "pct_chg        0.4554      0.009     49.600      0.000       0.437       0.473\n",
       "==============================================================================\n",
       "Omnibus:                      354.034   Durbin-Watson:                   1.870\n",
       "Prob(Omnibus):                  0.000   Jarque-Bera (JB):             1321.049\n",
       "Skew:                          -0.703   Prob(JB):                    1.37e-287\n",
       "Kurtosis:                       6.372   Cond. No.                         47.2\n",
       "==============================================================================\n",
       "\n",
       "Warnings:\n",
       "[1] Standard Errors assume that the covariance matrix of the errors is correctly specified.\n",
       "\"\"\""
      ]
     },
     "execution_count": 247,
     "metadata": {},
     "output_type": "execute_result"
    }
   ],
   "source": [
    "model.summary()"
   ]
  },
  {
   "cell_type": "markdown",
   "metadata": {},
   "source": [
    "Thus, the linear relationship between returns0 and returns1 is:\n",
    "\n",
    "returns0 = -0.0002+0.4554*returns1+error"
   ]
  },
  {
   "cell_type": "markdown",
   "metadata": {},
   "source": [
    "### 2. Plot graph to diagnose"
   ]
  },
  {
   "cell_type": "markdown",
   "metadata": {},
   "source": [
    "#### 2.1 线性：若因变量与自变量线性相关，残差值应该和拟合值没有任何的系统关联，呈现出围绕着0随机分布的状态。从下图来看，这一嘉定基本上满足"
   ]
  },
  {
   "cell_type": "code",
   "execution_count": 250,
   "metadata": {},
   "outputs": [
    {
     "data": {
      "text/plain": [
       "Text(0, 0.5, 'residuals')"
      ]
     },
     "execution_count": 250,
     "metadata": {},
     "output_type": "execute_result"
    },
    {
     "data": {
      "image/png": "[encoded data removed]",
      "text/plain": [
       "<Figure size 1152x576 with 1 Axes>"
      ]
     },
     "metadata": {
      "needs_background": "light"
     },
     "output_type": "display_data"
    }
   ],
   "source": [
    "plt.figure(figsize=(16,8))\n",
    "plt.scatter(model.fittedvalues, model.resid)\n",
    "plt.xlabel('fitted values')\n",
    "plt.ylabel('residuals')"
   ]
  },
  {
   "cell_type": "markdown",
   "metadata": {},
   "source": [
    "#### 2.2 正态性：当因变量呈正态分布时，模型的残差项应该是一个均值为0的正态分布。\n",
    "然而，残差如图在两端出现了严重的偏离，因此，数据肯能并不满足正态性的假设。\n",
    "\n",
    "\n",
    "问题：为何会有两张图？"
   ]
  },
  {
   "cell_type": "code",
   "execution_count": 260,
   "metadata": {},
   "outputs": [
    {
     "data": {
      "image/png": "[encoded data removed]",
      "text/plain": [
       "<Figure size 432x288 with 1 Axes>"
      ]
     },
     "execution_count": 260,
     "metadata": {},
     "output_type": "execute_result"
    },
    {
     "data": {
      "text/plain": [
       "<Figure size 1152x576 with 0 Axes>"
      ]
     },
     "metadata": {},
     "output_type": "display_data"
    },
    {
     "data": {
      "image/png": "[encoded data removed]",
      "text/plain": [
       "<Figure size 432x288 with 1 Axes>"
      ]
     },
     "metadata": {
      "needs_background": "light"
     },
     "output_type": "display_data"
    }
   ],
   "source": [
    "plt.figure(figsize=(16,8))\n",
    "sm.qqplot(model.resid_pearson,\\\n",
    "         stats.norm,line='45')"
   ]
  },
  {
   "cell_type": "markdown",
   "metadata": {},
   "source": [
    "#### 2.3 同方差性：若满足不变方差假定，那么在位置尺度图(Scale Location Plot)上，各点分布应该呈现出一条水平的、宽度一致的条带形状。\n",
    "\n"
   ]
  },
  {
   "cell_type": "code",
   "execution_count": 262,
   "metadata": {},
   "outputs": [
    {
     "name": "stderr",
     "output_type": "stream",
     "text": [
      "/Users/miaoyuesun/anaconda3/envs/py36/lib/python3.6/site-packages/ipykernel_launcher.py:3: RuntimeWarning: invalid value encountered in sqrt\n",
      "  This is separate from the ipykernel package so we can avoid doing imports until\n"
     ]
    },
    {
     "data": {
      "text/plain": [
       "Text(0, 0.5, 'square root of standardized residuals')"
      ]
     },
     "execution_count": 262,
     "metadata": {},
     "output_type": "execute_result"
    },
    {
     "data": {
      "image/png": "[encoded data removed]",
      "text/plain": [
       "<Figure size 1152x576 with 1 Axes>"
      ]
     },
     "metadata": {
      "needs_background": "light"
     },
     "output_type": "display_data"
    }
   ],
   "source": [
    "plt.figure(figsize=(16,8))\n",
    "plt.scatter(model.fittedvalues,\\\n",
    "           model.resid_pearson**0.5)\n",
    "plt.xlabel('fitted values');\n",
    "plt.ylabel('square root of standardized residuals')"
   ]
  },
  {
   "cell_type": "markdown",
   "metadata": {},
   "source": [
    "## 多元线性回归"
   ]
  },
  {
   "cell_type": "markdown",
   "metadata": {},
   "source": [
    "### 检测每一个feature的显著性"
   ]
  },
  {
   "cell_type": "code",
   "execution_count": 278,
   "metadata": {},
   "outputs": [],
   "source": [
    "data_multilinear = data.iloc[:, 1:].copy()"
   ]
  },
  {
   "cell_type": "code",
   "execution_count": 281,
   "metadata": {},
   "outputs": [
    {
     "data": {
      "text/html": [
       "<div>\n",
       "<style scoped>\n",
       "    .dataframe tbody tr th:only-of-type {\n",
       "        vertical-align: middle;\n",
       "    }\n",
       "\n",
       "    .dataframe tbody tr th {\n",
       "        vertical-align: top;\n",
       "    }\n",
       "\n",
       "    .dataframe thead th {\n",
       "        text-align: right;\n",
       "    }\n",
       "</style>\n",
       "<table border=\"1\" class=\"dataframe\">\n",
       "  <thead>\n",
       "    <tr style=\"text-align: right;\">\n",
       "      <th></th>\n",
       "      <th>open</th>\n",
       "      <th>high</th>\n",
       "      <th>low</th>\n",
       "      <th>close</th>\n",
       "      <th>volume</th>\n",
       "      <th>ts_code</th>\n",
       "      <th>returns</th>\n",
       "    </tr>\n",
       "    <tr>\n",
       "      <th>trade_date</th>\n",
       "      <th></th>\n",
       "      <th></th>\n",
       "      <th></th>\n",
       "      <th></th>\n",
       "      <th></th>\n",
       "      <th></th>\n",
       "      <th></th>\n",
       "    </tr>\n",
       "  </thead>\n",
       "  <tbody>\n",
       "    <tr>\n",
       "      <th>1990-12-21</th>\n",
       "      <td>109.07</td>\n",
       "      <td>109.13</td>\n",
       "      <td>103.73</td>\n",
       "      <td>109.13</td>\n",
       "      <td>28.0</td>\n",
       "      <td>sh000001</td>\n",
       "      <td>0.045407</td>\n",
       "    </tr>\n",
       "    <tr>\n",
       "      <th>1990-12-24</th>\n",
       "      <td>113.57</td>\n",
       "      <td>114.55</td>\n",
       "      <td>109.13</td>\n",
       "      <td>114.55</td>\n",
       "      <td>32.0</td>\n",
       "      <td>sh000001</td>\n",
       "      <td>0.049666</td>\n",
       "    </tr>\n",
       "    <tr>\n",
       "      <th>1990-12-25</th>\n",
       "      <td>120.09</td>\n",
       "      <td>120.25</td>\n",
       "      <td>114.55</td>\n",
       "      <td>120.25</td>\n",
       "      <td>15.0</td>\n",
       "      <td>sh000001</td>\n",
       "      <td>0.049760</td>\n",
       "    </tr>\n",
       "    <tr>\n",
       "      <th>1990-12-26</th>\n",
       "      <td>125.27</td>\n",
       "      <td>125.27</td>\n",
       "      <td>120.25</td>\n",
       "      <td>125.27</td>\n",
       "      <td>100.0</td>\n",
       "      <td>sh000001</td>\n",
       "      <td>0.041746</td>\n",
       "    </tr>\n",
       "    <tr>\n",
       "      <th>1990-12-27</th>\n",
       "      <td>125.27</td>\n",
       "      <td>125.28</td>\n",
       "      <td>125.27</td>\n",
       "      <td>125.28</td>\n",
       "      <td>66.0</td>\n",
       "      <td>sh000001</td>\n",
       "      <td>0.000080</td>\n",
       "    </tr>\n",
       "  </tbody>\n",
       "</table>\n",
       "</div>"
      ],
      "text/plain": [
       "              open    high     low   close  volume   ts_code   returns\n",
       "trade_date                                                            \n",
       "1990-12-21  109.07  109.13  103.73  109.13    28.0  sh000001  0.045407\n",
       "1990-12-24  113.57  114.55  109.13  114.55    32.0  sh000001  0.049666\n",
       "1990-12-25  120.09  120.25  114.55  120.25    15.0  sh000001  0.049760\n",
       "1990-12-26  125.27  125.27  120.25  125.27   100.0  sh000001  0.041746\n",
       "1990-12-27  125.27  125.28  125.27  125.28    66.0  sh000001  0.000080"
      ]
     },
     "execution_count": 281,
     "metadata": {},
     "output_type": "execute_result"
    }
   ],
   "source": [
    "data_multilinear.head()"
   ]
  },
  {
   "cell_type": "code",
   "execution_count": 296,
   "metadata": {},
   "outputs": [
    {
     "name": "stderr",
     "output_type": "stream",
     "text": [
      "/Users/miaoyuesun/anaconda3/envs/py36/lib/python3.6/site-packages/numpy/core/fromnumeric.py:2542: FutureWarning: Method .ptp is deprecated and will be removed in a future version. Use numpy.ptp instead.\n",
      "  return ptp(axis=axis, out=out, **kwargs)\n"
     ]
    }
   ],
   "source": [
    "model_mul = sm.OLS(data_multilinear['returns'],\n",
    "                   sm.add_constant(data_multilinear.iloc[:, :5])).fit()"
   ]
  },
  {
   "cell_type": "code",
   "execution_count": 297,
   "metadata": {},
   "outputs": [
    {
     "data": {
      "text/html": [
       "<table class=\"simpletable\">\n",
       "<caption>OLS Regression Results</caption>\n",
       "<tr>\n",
       "  <th>Dep. Variable:</th>         <td>returns</td>     <th>  R-squared:         </th>  <td>   0.434</td> \n",
       "</tr>\n",
       "<tr>\n",
       "  <th>Model:</th>                   <td>OLS</td>       <th>  Adj. R-squared:    </th>  <td>   0.433</td> \n",
       "</tr>\n",
       "<tr>\n",
       "  <th>Method:</th>             <td>Least Squares</td>  <th>  F-statistic:       </th>  <td>   1088.</td> \n",
       "</tr>\n",
       "<tr>\n",
       "  <th>Date:</th>             <td>Tue, 28 Jan 2020</td> <th>  Prob (F-statistic):</th>   <td>  0.00</td>  \n",
       "</tr>\n",
       "<tr>\n",
       "  <th>Time:</th>                 <td>18:16:26</td>     <th>  Log-Likelihood:    </th>  <td>  18271.</td> \n",
       "</tr>\n",
       "<tr>\n",
       "  <th>No. Observations:</th>      <td>  7114</td>      <th>  AIC:               </th> <td>-3.653e+04</td>\n",
       "</tr>\n",
       "<tr>\n",
       "  <th>Df Residuals:</th>          <td>  7108</td>      <th>  BIC:               </th> <td>-3.649e+04</td>\n",
       "</tr>\n",
       "<tr>\n",
       "  <th>Df Model:</th>              <td>     5</td>      <th>                     </th>      <td> </td>    \n",
       "</tr>\n",
       "<tr>\n",
       "  <th>Covariance Type:</th>      <td>nonrobust</td>    <th>                     </th>      <td> </td>    \n",
       "</tr>\n",
       "</table>\n",
       "<table class=\"simpletable\">\n",
       "<tr>\n",
       "     <td></td>       <th>coef</th>     <th>std err</th>      <th>t</th>      <th>P>|t|</th>  <th>[0.025</th>    <th>0.975]</th>  \n",
       "</tr>\n",
       "<tr>\n",
       "  <th>const</th>  <td>    0.0026</td> <td>    0.000</td> <td>    5.405</td> <td> 0.000</td> <td>    0.002</td> <td>    0.004</td>\n",
       "</tr>\n",
       "<tr>\n",
       "  <th>open</th>   <td>-7.092e-05</td> <td> 1.53e-05</td> <td>   -4.650</td> <td> 0.000</td> <td>   -0.000</td> <td> -4.1e-05</td>\n",
       "</tr>\n",
       "<tr>\n",
       "  <th>high</th>   <td>   -0.0003</td> <td> 1.64e-05</td> <td>  -16.641</td> <td> 0.000</td> <td>   -0.000</td> <td>   -0.000</td>\n",
       "</tr>\n",
       "<tr>\n",
       "  <th>low</th>    <td>   -0.0004</td> <td> 1.29e-05</td> <td>  -30.425</td> <td> 0.000</td> <td>   -0.000</td> <td>   -0.000</td>\n",
       "</tr>\n",
       "<tr>\n",
       "  <th>close</th>  <td>    0.0007</td> <td> 1.37e-05</td> <td>   53.532</td> <td> 0.000</td> <td>    0.001</td> <td>    0.001</td>\n",
       "</tr>\n",
       "<tr>\n",
       "  <th>volume</th> <td> -3.48e-12</td> <td> 2.92e-12</td> <td>   -1.191</td> <td> 0.234</td> <td>-9.21e-12</td> <td> 2.25e-12</td>\n",
       "</tr>\n",
       "</table>\n",
       "<table class=\"simpletable\">\n",
       "<tr>\n",
       "  <th>Omnibus:</th>       <td>13078.950</td> <th>  Durbin-Watson:     </th>   <td>   1.866</td>  \n",
       "</tr>\n",
       "<tr>\n",
       "  <th>Prob(Omnibus):</th>  <td> 0.000</td>   <th>  Jarque-Bera (JB):  </th> <td>88642023.722</td>\n",
       "</tr>\n",
       "<tr>\n",
       "  <th>Skew:</th>           <td>12.936</td>   <th>  Prob(JB):          </th>   <td>    0.00</td>  \n",
       "</tr>\n",
       "<tr>\n",
       "  <th>Kurtosis:</th>       <td>549.238</td>  <th>  Cond. No.          </th>   <td>2.85e+08</td>  \n",
       "</tr>\n",
       "</table><br/><br/>Warnings:<br/>[1] Standard Errors assume that the covariance matrix of the errors is correctly specified.<br/>[2] The condition number is large, 2.85e+08. This might indicate that there are<br/>strong multicollinearity or other numerical problems."
      ],
      "text/plain": [
       "<class 'statsmodels.iolib.summary.Summary'>\n",
       "\"\"\"\n",
       "                            OLS Regression Results                            \n",
       "==============================================================================\n",
       "Dep. Variable:                returns   R-squared:                       0.434\n",
       "Model:                            OLS   Adj. R-squared:                  0.433\n",
       "Method:                 Least Squares   F-statistic:                     1088.\n",
       "Date:                Tue, 28 Jan 2020   Prob (F-statistic):               0.00\n",
       "Time:                        18:16:26   Log-Likelihood:                 18271.\n",
       "No. Observations:                7114   AIC:                        -3.653e+04\n",
       "Df Residuals:                    7108   BIC:                        -3.649e+04\n",
       "Df Model:                           5                                         \n",
       "Covariance Type:            nonrobust                                         \n",
       "==============================================================================\n",
       "                 coef    std err          t      P>|t|      [0.025      0.975]\n",
       "------------------------------------------------------------------------------\n",
       "const          0.0026      0.000      5.405      0.000       0.002       0.004\n",
       "open       -7.092e-05   1.53e-05     -4.650      0.000      -0.000    -4.1e-05\n",
       "high          -0.0003   1.64e-05    -16.641      0.000      -0.000      -0.000\n",
       "low           -0.0004   1.29e-05    -30.425      0.000      -0.000      -0.000\n",
       "close          0.0007   1.37e-05     53.532      0.000       0.001       0.001\n",
       "volume      -3.48e-12   2.92e-12     -1.191      0.234   -9.21e-12    2.25e-12\n",
       "==============================================================================\n",
       "Omnibus:                    13078.950   Durbin-Watson:                   1.866\n",
       "Prob(Omnibus):                  0.000   Jarque-Bera (JB):         88642023.722\n",
       "Skew:                          12.936   Prob(JB):                         0.00\n",
       "Kurtosis:                     549.238   Cond. No.                     2.85e+08\n",
       "==============================================================================\n",
       "\n",
       "Warnings:\n",
       "[1] Standard Errors assume that the covariance matrix of the errors is correctly specified.\n",
       "[2] The condition number is large, 2.85e+08. This might indicate that there are\n",
       "strong multicollinearity or other numerical problems.\n",
       "\"\"\""
      ]
     },
     "execution_count": 297,
     "metadata": {},
     "output_type": "execute_result"
    }
   ],
   "source": [
    "model_mul.summary()"
   ]
  },
  {
   "cell_type": "markdown",
   "metadata": {},
   "source": [
    "数据显示，volume不显著"
   ]
  },
  {
   "cell_type": "markdown",
   "metadata": {},
   "source": [
    "### 检测feature之间的共线性"
   ]
  },
  {
   "cell_type": "code",
   "execution_count": 300,
   "metadata": {},
   "outputs": [
    {
     "data": {
      "text/html": [
       "<div>\n",
       "<style scoped>\n",
       "    .dataframe tbody tr th:only-of-type {\n",
       "        vertical-align: middle;\n",
       "    }\n",
       "\n",
       "    .dataframe tbody tr th {\n",
       "        vertical-align: top;\n",
       "    }\n",
       "\n",
       "    .dataframe thead th {\n",
       "        text-align: right;\n",
       "    }\n",
       "</style>\n",
       "<table border=\"1\" class=\"dataframe\">\n",
       "  <thead>\n",
       "    <tr style=\"text-align: right;\">\n",
       "      <th></th>\n",
       "      <th>open</th>\n",
       "      <th>high</th>\n",
       "      <th>low</th>\n",
       "      <th>close</th>\n",
       "      <th>volume</th>\n",
       "    </tr>\n",
       "  </thead>\n",
       "  <tbody>\n",
       "    <tr>\n",
       "      <th>open</th>\n",
       "      <td>1.000000</td>\n",
       "      <td>0.999778</td>\n",
       "      <td>0.999644</td>\n",
       "      <td>0.999439</td>\n",
       "      <td>0.686221</td>\n",
       "    </tr>\n",
       "    <tr>\n",
       "      <th>high</th>\n",
       "      <td>0.999778</td>\n",
       "      <td>1.000000</td>\n",
       "      <td>0.999489</td>\n",
       "      <td>0.999697</td>\n",
       "      <td>0.688453</td>\n",
       "    </tr>\n",
       "    <tr>\n",
       "      <th>low</th>\n",
       "      <td>0.999644</td>\n",
       "      <td>0.999489</td>\n",
       "      <td>1.000000</td>\n",
       "      <td>0.999671</td>\n",
       "      <td>0.685594</td>\n",
       "    </tr>\n",
       "    <tr>\n",
       "      <th>close</th>\n",
       "      <td>0.999439</td>\n",
       "      <td>0.999697</td>\n",
       "      <td>0.999671</td>\n",
       "      <td>1.000000</td>\n",
       "      <td>0.687752</td>\n",
       "    </tr>\n",
       "    <tr>\n",
       "      <th>volume</th>\n",
       "      <td>0.686221</td>\n",
       "      <td>0.688453</td>\n",
       "      <td>0.685594</td>\n",
       "      <td>0.687752</td>\n",
       "      <td>1.000000</td>\n",
       "    </tr>\n",
       "  </tbody>\n",
       "</table>\n",
       "</div>"
      ],
      "text/plain": [
       "            open      high       low     close    volume\n",
       "open    1.000000  0.999778  0.999644  0.999439  0.686221\n",
       "high    0.999778  1.000000  0.999489  0.999697  0.688453\n",
       "low     0.999644  0.999489  1.000000  0.999671  0.685594\n",
       "close   0.999439  0.999697  0.999671  1.000000  0.687752\n",
       "volume  0.686221  0.688453  0.685594  0.687752  1.000000"
      ]
     },
     "execution_count": 300,
     "metadata": {},
     "output_type": "execute_result"
    }
   ],
   "source": [
    "# 有很强的共线性，因此不能反映真实情况。正确做法应该是剔除和其他变量相关性很高的系数\n",
    "data_multilinear.iloc[:, :5].corr()"
   ]
  },
  {
   "cell_type": "markdown",
   "metadata": {},
   "source": [
    "# 第十八章 - 资产收益率和风险"
   ]
  },
  {
   "cell_type": "markdown",
   "metadata": {},
   "source": [
    "## 1. 简单收益率"
   ]
  },
  {
   "cell_type": "code",
   "execution_count": 301,
   "metadata": {},
   "outputs": [],
   "source": [
    "simpleret = returns0.copy()"
   ]
  },
  {
   "cell_type": "code",
   "execution_count": 304,
   "metadata": {},
   "outputs": [
    {
     "data": {
      "text/plain": [
       "trade_date\n",
       "2010-01-04   -0.010185\n",
       "2010-01-05    0.011844\n",
       "2010-01-06   -0.008520\n",
       "2010-01-07   -0.018880\n",
       "2010-01-08    0.001009\n",
       "                ...   \n",
       "2020-01-15   -0.005402\n",
       "2020-01-16   -0.005164\n",
       "2020-01-17    0.000460\n",
       "2020-01-20    0.006598\n",
       "2020-01-21   -0.014098\n",
       "Name: returns, Length: 2375, dtype: float64"
      ]
     },
     "execution_count": 304,
     "metadata": {},
     "output_type": "execute_result"
    }
   ],
   "source": [
    "simpleret"
   ]
  },
  {
   "cell_type": "code",
   "execution_count": 306,
   "metadata": {},
   "outputs": [
    {
     "data": {
      "text/plain": [
       "trade_date\n",
       "2010-01-04   -0.010185\n",
       "2010-01-05    0.011844\n",
       "2010-01-06   -0.008520\n",
       "2010-01-07   -0.018880\n",
       "2010-01-08    0.001009\n",
       "                ...   \n",
       "2020-01-15   -0.005402\n",
       "2020-01-16   -0.005164\n",
       "2020-01-17    0.000460\n",
       "2020-01-20    0.006598\n",
       "2020-01-21   -0.014098\n",
       "Name: returns, Length: 2375, dtype: float64"
      ]
     },
     "execution_count": 306,
     "metadata": {},
     "output_type": "execute_result"
    }
   ],
   "source": [
    "returns0"
   ]
  },
  {
   "cell_type": "code",
   "execution_count": 307,
   "metadata": {},
   "outputs": [
    {
     "data": {
      "text/plain": [
       "<matplotlib.axes._subplots.AxesSubplot at 0x12b1e3048>"
      ]
     },
     "execution_count": 307,
     "metadata": {},
     "output_type": "execute_result"
    },
    {
     "data": {
      "image/png": "[encoded data removed]",
      "text/plain": [
       "<Figure size 432x288 with 1 Axes>"
      ]
     },
     "metadata": {
      "needs_background": "light"
     },
     "output_type": "display_data"
    }
   ],
   "source": [
    "(1+simpleret).cumprod().plot()"
   ]
  },
  {
   "cell_type": "code",
   "execution_count": 308,
   "metadata": {},
   "outputs": [
    {
     "data": {
      "text/plain": [
       "-0.017954407355740942"
      ]
     },
     "execution_count": 308,
     "metadata": {},
     "output_type": "execute_result"
    }
   ],
   "source": [
    "(1+simpleret).cumprod()[-1]**(252/len(simpleret))-1"
   ]
  },
  {
   "cell_type": "code",
   "execution_count": null,
   "metadata": {},
   "outputs": [],
   "source": [
    "annualize = (1+simpleret).cumprod()[-1]"
   ]
  },
  {
   "cell_type": "code",
   "execution_count": 309,
   "metadata": {},
   "outputs": [],
   "source": [
    "# 专门编写一个计算年化收益率的函数，该函数可以针对不同的单期计算年化收益率：\n",
    "\n",
    "def annualize(returns, period):\n",
    "    if period=='day':\n",
    "        return ((1+returns).cumprod()[-1]**(252/len(returns))-1)\n",
    "    if period=='month':\n",
    "        return ((1+returns).cumprod()[-1]**(12/len(returns))-1)\n",
    "    if period=='quarter':\n",
    "        return ((1+returns).cumprod()[-1]**(4/len(returns))-1)\n",
    "    if period=='year':\n",
    "        return ((1+returns).cumprod()[-1]**(1/len(returns))-1)\n",
    "    else:\n",
    "        raise Exception(\"Wrong period.\")"
   ]
  },
  {
   "cell_type": "code",
   "execution_count": 312,
   "metadata": {},
   "outputs": [
    {
     "data": {
      "text/plain": [
       "-0.017954407355740942"
      ]
     },
     "execution_count": 312,
     "metadata": {},
     "output_type": "execute_result"
    }
   ],
   "source": [
    "annualize(returns0, 'day')"
   ]
  },
  {
   "cell_type": "markdown",
   "metadata": {},
   "source": [
    "## 2. 计算单期连续复利收益率（Continuous Compounding）"
   ]
  },
  {
   "cell_type": "markdown",
   "metadata": {},
   "source": [
    "### 方法一："
   ]
  },
  {
   "cell_type": "code",
   "execution_count": 315,
   "metadata": {},
   "outputs": [],
   "source": [
    "close0 = data['close'].copy()"
   ]
  },
  {
   "cell_type": "code",
   "execution_count": 316,
   "metadata": {},
   "outputs": [
    {
     "data": {
      "text/plain": [
       "trade_date\n",
       "1990-12-21     109.1300\n",
       "1990-12-24     114.5500\n",
       "1990-12-25     120.2500\n",
       "1990-12-26     125.2700\n",
       "1990-12-27     125.2800\n",
       "                ...    \n",
       "2020-01-17    3075.4955\n",
       "2020-01-20    3095.7873\n",
       "2020-01-21    3052.1419\n",
       "2020-01-22    3060.7545\n",
       "2020-01-23    2976.5281\n",
       "Name: close, Length: 7114, dtype: float64"
      ]
     },
     "execution_count": 316,
     "metadata": {},
     "output_type": "execute_result"
    }
   ],
   "source": [
    "close0"
   ]
  },
  {
   "cell_type": "code",
   "execution_count": 323,
   "metadata": {},
   "outputs": [],
   "source": [
    "lagclose0 = close0.shift(1)"
   ]
  },
  {
   "cell_type": "code",
   "execution_count": 325,
   "metadata": {},
   "outputs": [
    {
     "data": {
      "text/plain": [
       "trade_date\n",
       "1990-12-21         NaN\n",
       "1990-12-24    0.048472\n",
       "1990-12-25    0.048562\n",
       "1990-12-26    0.040898\n",
       "1990-12-27    0.000080\n",
       "                ...   \n",
       "2020-01-17    0.000460\n",
       "2020-01-20    0.006576\n",
       "2020-01-21   -0.014199\n",
       "2020-01-22    0.002818\n",
       "2020-01-23   -0.027904\n",
       "Name: close, Length: 7114, dtype: float64"
      ]
     },
     "execution_count": 325,
     "metadata": {},
     "output_type": "execute_result"
    }
   ],
   "source": [
    "# compound returns:\n",
    "np.log(close0/lagclose0)"
   ]
  },
  {
   "cell_type": "markdown",
   "metadata": {},
   "source": [
    "### 方法二："
   ]
  },
  {
   "cell_type": "code",
   "execution_count": 318,
   "metadata": {},
   "outputs": [],
   "source": [
    "import ffn"
   ]
  },
  {
   "cell_type": "code",
   "execution_count": 319,
   "metadata": {},
   "outputs": [],
   "source": [
    "compound_ret = ffn.to_log_returns(close0)"
   ]
  },
  {
   "cell_type": "code",
   "execution_count": 320,
   "metadata": {},
   "outputs": [
    {
     "data": {
      "text/plain": [
       "trade_date\n",
       "1990-12-21         NaN\n",
       "1990-12-24    0.048472\n",
       "1990-12-25    0.048562\n",
       "1990-12-26    0.040898\n",
       "1990-12-27    0.000080\n",
       "                ...   \n",
       "2020-01-17    0.000460\n",
       "2020-01-20    0.006576\n",
       "2020-01-21   -0.014199\n",
       "2020-01-22    0.002818\n",
       "2020-01-23   -0.027904\n",
       "Name: close, Length: 7114, dtype: float64"
      ]
     },
     "execution_count": 320,
     "metadata": {},
     "output_type": "execute_result"
    }
   ],
   "source": [
    "# compound returns:\n",
    "compound_ret"
   ]
  },
  {
   "cell_type": "code",
   "execution_count": 322,
   "metadata": {},
   "outputs": [
    {
     "data": {
      "text/plain": [
       "trade_date\n",
       "2010-01-04   -0.010185\n",
       "2010-01-05    0.011844\n",
       "2010-01-06   -0.008520\n",
       "2010-01-07   -0.018880\n",
       "2010-01-08    0.001009\n",
       "                ...   \n",
       "2020-01-15   -0.005402\n",
       "2020-01-16   -0.005164\n",
       "2020-01-17    0.000460\n",
       "2020-01-20    0.006598\n",
       "2020-01-21   -0.014098\n",
       "Name: returns, Length: 2375, dtype: float64"
      ]
     },
     "execution_count": 322,
     "metadata": {},
     "output_type": "execute_result"
    }
   ],
   "source": [
    "returns0"
   ]
  },
  {
   "cell_type": "markdown",
   "metadata": {},
   "source": [
    "## 多期连续复利收益率"
   ]
  },
  {
   "cell_type": "code",
   "execution_count": 326,
   "metadata": {},
   "outputs": [],
   "source": [
    "compound_ret2 = np.log(close0/close0.shift(2))"
   ]
  },
  {
   "cell_type": "code",
   "execution_count": 327,
   "metadata": {},
   "outputs": [],
   "source": [
    "# 2期连续复利收益率等于前一天和当天的单期复利收益率之和。单期加总即得多期"
   ]
  },
  {
   "cell_type": "markdown",
   "metadata": {},
   "source": [
    "# 从Page 264开始"
   ]
  },
  {
   "cell_type": "code",
   "execution_count": 331,
   "metadata": {},
   "outputs": [
    {
     "data": {
      "text/plain": [
       "trade_date\n",
       "2020-01-15   -0.005402\n",
       "2020-01-16   -0.005164\n",
       "2020-01-17    0.000460\n",
       "2020-01-20    0.006598\n",
       "Name: returns, dtype: float64"
      ]
     },
     "execution_count": 331,
     "metadata": {},
     "output_type": "execute_result"
    }
   ],
   "source": [
    "returns0['2020-01-15':'2020-01-20']"
   ]
  },
  {
   "cell_type": "code",
   "execution_count": null,
   "metadata": {},
   "outputs": [],
   "source": []
  }
 ],
 "metadata": {
  "kernelspec": {
   "display_name": "Python 3",
   "language": "python",
   "name": "python3"
  },
  "language_info": {
   "codemirror_mode": {
    "name": "ipython",
    "version": 3
   },
   "file_extension": ".py",
   "mimetype": "text/x-python",
   "name": "python",
   "nbconvert_exporter": "python",
   "pygments_lexer": "ipython3",
   "version": "3.6.10"
  }
 },
 "nbformat": 4,
 "nbformat_minor": 2
}
