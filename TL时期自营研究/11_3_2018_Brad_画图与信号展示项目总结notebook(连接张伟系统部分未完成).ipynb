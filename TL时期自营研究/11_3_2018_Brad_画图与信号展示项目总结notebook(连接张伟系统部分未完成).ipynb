{
 "cells": [
  {
   "cell_type": "code",
   "execution_count": 1,
   "metadata": {},
   "outputs": [
    {
     "name": "stderr",
     "output_type": "stream",
     "text": [
      "ERROR:lml.utils:failed to import pyecharts_snapshot\n",
      "Traceback (most recent call last):\n",
      "  File \"C:\\Users\\Brad Sun\\Anaconda3\\lib\\site-packages\\lml\\utils.py\", line 43, in do_import\n",
      "    plugin_module = __import__(plugin_module_name)\n",
      "ModuleNotFoundError: No module named 'pyecharts_snapshot'\n"
     ]
    }
   ],
   "source": [
    "import psycopg2\n",
    "import time\n",
    "import pandas as pd\n",
    "import numpy as np\n",
    "import matplotlib.pyplot as plt\n",
    "import seaborn as sns\n",
    "import pyecharts\n",
    "import urllib3,time,csv,datetime\n",
    "import matplotlib as mpl\n",
    "import matplotlib.pyplot as plt\n",
    "# import matplotlib.finance as mpf\n",
    "import matplotlib.dates as mpd\n",
    "import plotly\n",
    "import plotly.plotly as py\n",
    "import plotly.offline as py_offline\n",
    "import plotly.graph_objs as go\n",
    "from IPython.display import clear_output\n",
    "\n",
    "%matplotlib inline"
   ]
  },
  {
   "cell_type": "markdown",
   "metadata": {},
   "source": [
    "# 项目总结"
   ]
  },
  {
   "cell_type": "markdown",
   "metadata": {},
   "source": [
    "- 项目目标：结合张伟的系统，实时读取公司SQL数据库的数据，并画出资产蜡烛图，出现信号时提醒\n",
    "\n",
    "\n",
    "- 完成进度：已经可以每隔一段时间，实时读取数据并分别展示出蜡烛图、一些技术指标与交易信号\n",
    "\n",
    "\n",
    "- 未完成部分：将完成部分的功能连接到张伟数据库\n",
    "\n",
    "\n",
    "- 未完成部分思路与建议：连接到系统的具体代码主要可以参考张伟系统quant -> plotter.py文件。可以创建一个大类，比如class Plot_CandleStick_Signals(object)，在这之中建立两个functions, 第一个def plot_candlestick(), 第二个def plot_signals().需要在def __init__(): 里准备的步骤有：1) 连接SQL数据库，并提取两个资产的OHLC数据来为plot_candlestick做准备；2)计算相对差以及相对差快慢均线，并定位信号出现的时点，为plot_signals()做准备。具体这两个准备步骤的代码基本已经写好并展示在下面的notebook内容里 "
   ]
  },
  {
   "cell_type": "markdown",
   "metadata": {},
   "source": [
    "# 展示资产蜡烛图与生成信号"
   ]
  },
  {
   "cell_type": "code",
   "execution_count": 2,
   "metadata": {},
   "outputs": [],
   "source": [
    "# 第一步：定义所有所需函数：\n",
    "\n",
    "# 直接从SQL数据库生成资产价格dataframe\n",
    "def two_assts_from_sql(asset1, asset2, sql_limit_num):\n",
    "    conn = psycopg2.connect(database=\"bitmexdata\", user=\"postgres\", password=\"tongKen123\", host=\"128.199.97.202\", port=\"5432\")\n",
    "    asset1 = \"\"\" SELECT time, open, high, low, close, volume from {} order by id desc limit {}\"\"\".format(asset1, sql_limit_num)\n",
    "    asset2 = \"\"\" SELECT time, open, high, low, close, volume from {} order by id desc limit {}\"\"\".format(asset2, sql_limit_num)\n",
    "    df1 = pd.read_sql(asset1, con=conn)\n",
    "    df2 = pd.read_sql(asset2, con=conn)\n",
    "    conn.close()\n",
    "    return df1, df2\n",
    "\n",
    "# 转变数据周期：T/5T/15T/30T/H/2H/4H/D/W/M\n",
    "def resample(df, period):\n",
    "    convrted_df = df.resample(period).last()\n",
    "    convrted_df['open'] = df['open'].resample(period).first()\n",
    "    convrted_df['high'] = df['high'].resample(period).max()\n",
    "    convrted_df['low'] = df['low'].resample(period).min()\n",
    "    convrted_df['close'] = df['close'].resample(period).last()\n",
    "    convrted_df['volume'] = df['volume'].resample(period).sum()\n",
    "    # Keep rows with at least 5 non-NaN values\n",
    "    convrted_df.dropna(thresh=5, inplace=True)\n",
    "    convrted_df.index = convrted_df['time']\n",
    "    convrted_df['time'] = pd.DatetimeIndex(convrted_df['time'])\n",
    "    return convrted_df\n",
    "\n",
    "# 为能够plot蜡烛图做timestamps处理的准备：\n",
    "def cnvrt_date(convrted_df):\n",
    "    cnvrted_date_df = convrted_df.copy()\n",
    "    cnvrted_date_df['date'] = mpd.date2num(cnvrted_date_df['time'].dt.to_pydatetime())\n",
    "    return cnvrted_date_df\n",
    "\n",
    "# 计算两个资产的相对差累计值：\n",
    "def two_assets_tmsum(cnvrted_date_df1, cnvrted_date_df2, N4):\n",
    "    cnvrted_date_df1['close_shifted'] = cnvrted_date_df1['close'].shift(1)\n",
    "    cnvrted_date_df2['close_shifted'] = cnvrted_date_df2['close'].shift(1)\n",
    "    T1 = cnvrted_date_df1['close'].diff()/cnvrted_date_df1['close_shifted']\n",
    "    T2 = cnvrted_date_df2['close'].diff()/cnvrted_date_df2['close_shifted']\n",
    "    TM = T1*(1-N4/100) - T2*(N4/100)\n",
    "    tmsum_sr = TM.cumsum()\n",
    "    return tmsum_sr\n",
    "    \n",
    "# 计算相对差的移动平均快慢线：\n",
    "def MAs_of_tmsum(tmsum_sr, N1, N2):\n",
    "    MA1 = tmsum_sr.ewm(span= N1).mean() #快线\n",
    "    MA2 = tmsum_sr.ewm(span= N2).mean() #慢线   \n",
    "    return MA1, MA2\n",
    "    \n",
    "# Plot TMSUM图线：\n",
    "def plot_tmsum(tmsum_sr):\n",
    "#     py_offline.init_notebook_mode()\n",
    "    tmsum_df = pd.DataFrame(tmsum_sr, columns=['tmsum'])\n",
    "    tmsum_df = go.Scatter(x = tmsum_df.index,\n",
    "                          y = tmsum_df['tmsum'])\n",
    "    data = [tmsum_df]\n",
    "    fig = go.Figure(data=data)\n",
    "    return py.iplot(fig, filename='TMSUM')\n",
    "    \n",
    "    \n",
    "def plot_tmsum_MAs(MA1, MA2):\n",
    "    # Here I didn't use offline's version of plotly, going forward  \n",
    "    # will need to be consistent when moving to pycharm for plotting\n",
    "    ma1_df = pd.DataFrame(MA1, columns=['MA1'], index = MA1.index)\n",
    "    ma2_df = pd.DataFrame(MA2, columns=['MA2'], index = MA2.index)\n",
    "    trace1 = go.Scatter(x = ma1_df.index, \n",
    "                        y = ma1_df['MA1'])\n",
    "    trace2 = go.Scatter(x = ma2_df.index, \n",
    "                        y = ma2_df['MA2'])\n",
    "    data = [trace1, trace2]\n",
    "    fig = go.Figure(data=data)\n",
    "    return py.iplot(fig, filename='plot_tmsum_MAs')\n",
    "    \n",
    "    \n",
    "# Plot 资产蜡烛图：\n",
    "def plot_candlestick(cnvrted_date_df):\n",
    "    candle_df = go.Candlestick(x = cnvrted_date_df.index,\n",
    "                               open = cnvrted_date_df['open'],\n",
    "                               high = cnvrted_date_df['high'],\n",
    "                               low  = cnvrted_date_df['low'],\n",
    "                               close = cnvrted_date_df['close'])\n",
    "    data = [candle_df]\n",
    "    fig =go.Figure(data=data)\n",
    "    return py.iplot(fig, filename='CandleStick')\n",
    "\n",
    "\n",
    "# Build a function that plots charts of two moving averages with their crossover trading signals \n",
    "# Here we want to make sure that both MA1_sr and MA2_sr are: series with timestanmps as their indexes\n",
    "\n",
    "def MA_crossover_plot_signals(MA1_sr, MA2_sr):\n",
    "    # 构建一个由 MA1和 MA2构成的dataframe：\n",
    "    ma_signal_df = pd.DataFrame(MA1_sr, columns=['MA1'], index= MA1_sr.index)\n",
    "    ma_signal_df['MA2'] = MA2_sr\n",
    "    # 用两者的差表示 MA1在位置上高于还是低于MA2，负值说明低于，正值说明高于：\n",
    "    ma_signal_df['MA1_mns_MA2'] = ma_signal_df['MA1'] - ma_signal_df['MA2']\n",
    "    # 将正负值同义转换为二元的 1或者 -1便于观察和处理\n",
    "    ma_signal_df['signs'] = ma_signal_df['MA1_mns_MA2']*abs(1/(ma_signal_df['MA1_mns_MA2']))\n",
    "    # 用当前值和前一个周期的值决定当前状态是金叉信号还是死叉信号\n",
    "    ma_signal_df['pre_signs'] = ma_signal_df['signs'].shift(1)\n",
    "    ma_signal_df['signals'] = ma_signal_df['signs'] - ma_signal_df['pre_signs']\n",
    "    ma_signal_df['signals_alert'] = ma_signal_df['signals'].apply(lambda x: \"金叉\" if x==2 else \"死叉\" if x==-2 else \"无信号\")\n",
    "    # 将所有出现信号的rows挑出来建立一个字典：\n",
    "    ma_df_with_signals = ma_signal_df[ma_signal_df['signals_alert'] != \"无信号\"]['signals_alert']\n",
    "    signal_dict = dict(ma_df_with_signals)\n",
    "    # Add each and all signal information(dictionary format) to annotations(list format) \n",
    "    # so that it can be put into the go.Layout() function.\n",
    "    annotations = []\n",
    "    each_dict = {}\n",
    "    for i, k in enumerate(signal_dict):\n",
    "        each_dict['x'] = k\n",
    "        each_dict['y'] = ma_signal_df['MA1'].loc[k]\n",
    "        each_dict['text']=ma_signal_df['signals_alert'].loc[k]\n",
    "        each_dict['showarrow']=True\n",
    "        each_dict['arrowhead']=7\n",
    "        each_dict['ax']=0\n",
    "        each_dict['ay']=-40\n",
    "\n",
    "        annotations.append(each_dict.copy())\n",
    "    # 用plotly进行绘图，包括了之前处理好的annotations，作为显示信号的功能\n",
    "    ma1_df = pd.DataFrame(tmsum_ma1, columns=['MA1'], index = tmsum_ma1.index)\n",
    "    ma2_df = pd.DataFrame(tmsum_ma2, columns=['MA2'], index = tmsum_ma2.index)\n",
    "    trace1 = go.Scatter(x = ma1_df.index, \n",
    "              y = ma1_df['MA1'])\n",
    "    trace2 = go.Scatter(x = ma2_df.index, \n",
    "              y = ma2_df['MA2'])\n",
    "    layout = go.Layout(\n",
    "        showlegend=False,\n",
    "        annotations=annotations\n",
    "    )\n",
    "    data = [trace1, trace2]\n",
    "    fig = go.Figure(data=data, \n",
    "                    layout=layout)\n",
    "    return py.iplot(fig, filename='plot_MAs_with_signals')\n",
    "#     return plotly.offline.plot(fig, filename = 'test.html') # 如果要用html那么则会以网页的形式输出图像"
   ]
  },
  {
   "cell_type": "code",
   "execution_count": 3,
   "metadata": {},
   "outputs": [],
   "source": [
    "# 第二步：确定参数：\n",
    "N1 = 5\n",
    "N2 = 15\n",
    "N3 = 15\n",
    "N4 = 15\n",
    "period = '5T'\n",
    "\n",
    "# 第三步：链接数据库，提取两个资产\n",
    "bch_df, eth_df = two_assts_from_sql(\"bchz18_1m\", \"ethz18_1m\", 100)\n",
    "\n",
    "# 第四步：转变时间周期\n",
    "bch_df.index = pd.DatetimeIndex(bch_df['time'])\n",
    "eth_df.index = pd.DatetimeIndex(eth_df['time'])\n",
    "res_bch = resample(bch_df, period)\n",
    "res_eth = resample(eth_df, period)\n",
    "\n",
    "# 第五步：处理时间column以此方便后面的作图\n",
    "cnvrted_date_df_bch = cnvrt_date(res_bch)\n",
    "cnvrted_date_df_eth = cnvrt_date(res_eth)\n",
    "\n",
    "# 第六步：计算相对差累积和、相对差累积和的快均线、相对差累计和的慢均线\n",
    "tmsum_sr = two_assets_tmsum(cnvrted_date_df_bch, cnvrted_date_df_eth, N4)\n",
    "tmsum_ma1, tmsum_ma2 = MAs_of_tmsum(tmsum_sr, N1, N2) "
   ]
  },
  {
   "cell_type": "code",
   "execution_count": 4,
   "metadata": {},
   "outputs": [
    {
     "data": {
      "text/html": [
       "<iframe id=\"igraph\" scrolling=\"no\" style=\"border:none;\" seamless=\"seamless\" src=\"https://plot.ly/~bradsun91/14.embed\" height=\"525px\" width=\"100%\"></iframe>"
      ],
      "text/plain": [
       "<plotly.tools.PlotlyDisplay object>"
      ]
     },
     "execution_count": 4,
     "metadata": {},
     "output_type": "execute_result"
    }
   ],
   "source": [
    "# 第七步：作图、显示生成信号\n",
    "# 做出资产一的蜡烛图：\n",
    "plot_candlestick(cnvrted_date_df_eth)"
   ]
  },
  {
   "cell_type": "code",
   "execution_count": 5,
   "metadata": {},
   "outputs": [
    {
     "data": {
      "text/html": [
       "<iframe id=\"igraph\" scrolling=\"no\" style=\"border:none;\" seamless=\"seamless\" src=\"https://plot.ly/~bradsun91/14.embed\" height=\"525px\" width=\"100%\"></iframe>"
      ],
      "text/plain": [
       "<plotly.tools.PlotlyDisplay object>"
      ]
     },
     "execution_count": 5,
     "metadata": {},
     "output_type": "execute_result"
    }
   ],
   "source": [
    "# 做出资产二的蜡烛图\n",
    "plot_candlestick(cnvrted_date_df_bch)"
   ]
  },
  {
   "cell_type": "code",
   "execution_count": 6,
   "metadata": {},
   "outputs": [
    {
     "data": {
      "text/html": [
       "<iframe id=\"igraph\" scrolling=\"no\" style=\"border:none;\" seamless=\"seamless\" src=\"https://plot.ly/~bradsun91/16.embed\" height=\"525px\" width=\"100%\"></iframe>"
      ],
      "text/plain": [
       "<plotly.tools.PlotlyDisplay object>"
      ]
     },
     "execution_count": 6,
     "metadata": {},
     "output_type": "execute_result"
    }
   ],
   "source": [
    "# 做出相对差累积值的图像\n",
    "plot_tmsum(tmsum_sr)"
   ]
  },
  {
   "cell_type": "code",
   "execution_count": 7,
   "metadata": {},
   "outputs": [
    {
     "data": {
      "text/html": [
       "<iframe id=\"igraph\" scrolling=\"no\" style=\"border:none;\" seamless=\"seamless\" src=\"https://plot.ly/~bradsun91/10.embed\" height=\"525px\" width=\"100%\"></iframe>"
      ],
      "text/plain": [
       "<plotly.tools.PlotlyDisplay object>"
      ]
     },
     "execution_count": 7,
     "metadata": {},
     "output_type": "execute_result"
    }
   ],
   "source": [
    "# 生成初步信号：金叉死叉。\n",
    "MA_crossover_plot_signals(tmsum_ma1, tmsum_ma2)"
   ]
  },
  {
   "cell_type": "markdown",
   "metadata": {},
   "source": [
    "# 如何实时读取数据并展示:"
   ]
  },
  {
   "cell_type": "markdown",
   "metadata": {},
   "source": [
    "到此，所有的读取与图像展示皆为静态，如果要实时从SQL数据抓取数据并运行以上代码，可以每隔一段时间自动运行一次即可。"
   ]
  },
  {
   "cell_type": "code",
   "execution_count": 3,
   "metadata": {},
   "outputs": [
    {
     "name": "stdout",
     "output_type": "stream",
     "text": [
      "waiting...\n",
      "waiting...\n",
      "waiting...\n",
      "waiting...\n"
     ]
    },
    {
     "ename": "DatabaseError",
     "evalue": "Execution failed on sql:  SELECT time, open, high, low, close, volume from bchz18_1m order by id desc limit 100\nserver closed the connection unexpectedly\n\tThis probably means the server terminated abnormally\n\tbefore or while processing the request.\n\nunable to rollback",
     "output_type": "error",
     "traceback": [
      "\u001b[1;31m---------------------------------------------------------------------------\u001b[0m",
      "\u001b[1;31mOperationalError\u001b[0m                          Traceback (most recent call last)",
      "\u001b[1;32m~\\Anaconda3\\lib\\site-packages\\pandas\\io\\sql.py\u001b[0m in \u001b[0;36mexecute\u001b[1;34m(self, *args, **kwargs)\u001b[0m\n\u001b[0;32m   1377\u001b[0m             \u001b[1;32melse\u001b[0m\u001b[1;33m:\u001b[0m\u001b[1;33m\u001b[0m\u001b[0m\n\u001b[1;32m-> 1378\u001b[1;33m                 \u001b[0mcur\u001b[0m\u001b[1;33m.\u001b[0m\u001b[0mexecute\u001b[0m\u001b[1;33m(\u001b[0m\u001b[1;33m*\u001b[0m\u001b[0margs\u001b[0m\u001b[1;33m)\u001b[0m\u001b[1;33m\u001b[0m\u001b[0m\n\u001b[0m\u001b[0;32m   1379\u001b[0m             \u001b[1;32mreturn\u001b[0m \u001b[0mcur\u001b[0m\u001b[1;33m\u001b[0m\u001b[0m\n",
      "\u001b[1;31mOperationalError\u001b[0m: server closed the connection unexpectedly\n\tThis probably means the server terminated abnormally\n\tbefore or while processing the request.\n",
      "\nDuring handling of the above exception, another exception occurred:\n",
      "\u001b[1;31mInterfaceError\u001b[0m                            Traceback (most recent call last)",
      "\u001b[1;32m~\\Anaconda3\\lib\\site-packages\\pandas\\io\\sql.py\u001b[0m in \u001b[0;36mexecute\u001b[1;34m(self, *args, **kwargs)\u001b[0m\n\u001b[0;32m   1381\u001b[0m             \u001b[1;32mtry\u001b[0m\u001b[1;33m:\u001b[0m\u001b[1;33m\u001b[0m\u001b[0m\n\u001b[1;32m-> 1382\u001b[1;33m                 \u001b[0mself\u001b[0m\u001b[1;33m.\u001b[0m\u001b[0mcon\u001b[0m\u001b[1;33m.\u001b[0m\u001b[0mrollback\u001b[0m\u001b[1;33m(\u001b[0m\u001b[1;33m)\u001b[0m\u001b[1;33m\u001b[0m\u001b[0m\n\u001b[0m\u001b[0;32m   1383\u001b[0m             \u001b[1;32mexcept\u001b[0m \u001b[0mException\u001b[0m\u001b[1;33m:\u001b[0m  \u001b[1;31m# pragma: no cover\u001b[0m\u001b[1;33m\u001b[0m\u001b[0m\n",
      "\u001b[1;31mInterfaceError\u001b[0m: connection already closed",
      "\nDuring handling of the above exception, another exception occurred:\n",
      "\u001b[1;31mDatabaseError\u001b[0m                             Traceback (most recent call last)",
      "\u001b[1;32m<ipython-input-3-ce9fb7df97ac>\u001b[0m in \u001b[0;36m<module>\u001b[1;34m()\u001b[0m\n\u001b[0;32m     11\u001b[0m \u001b[1;33m\u001b[0m\u001b[0m\n\u001b[0;32m     12\u001b[0m     \u001b[1;31m# 第三步：链接数据库，提取两个资产\u001b[0m\u001b[1;33m\u001b[0m\u001b[1;33m\u001b[0m\u001b[0m\n\u001b[1;32m---> 13\u001b[1;33m     \u001b[0mbch_df\u001b[0m\u001b[1;33m,\u001b[0m \u001b[0meth_df\u001b[0m \u001b[1;33m=\u001b[0m \u001b[0mtwo_assts_from_sql\u001b[0m\u001b[1;33m(\u001b[0m\u001b[1;34m\"bchz18_1m\"\u001b[0m\u001b[1;33m,\u001b[0m \u001b[1;34m\"ethz18_1m\"\u001b[0m\u001b[1;33m,\u001b[0m \u001b[1;36m100\u001b[0m\u001b[1;33m)\u001b[0m\u001b[1;33m\u001b[0m\u001b[0m\n\u001b[0m\u001b[0;32m     14\u001b[0m \u001b[1;33m\u001b[0m\u001b[0m\n\u001b[0;32m     15\u001b[0m     \u001b[1;31m# 第四步：转变时间周期\u001b[0m\u001b[1;33m\u001b[0m\u001b[1;33m\u001b[0m\u001b[0m\n",
      "\u001b[1;32m<ipython-input-2-d9298698b2b8>\u001b[0m in \u001b[0;36mtwo_assts_from_sql\u001b[1;34m(asset1, asset2, sql_limit_num)\u001b[0m\n\u001b[0;32m      6\u001b[0m     \u001b[0masset1\u001b[0m \u001b[1;33m=\u001b[0m \u001b[1;34m\"\"\" SELECT time, open, high, low, close, volume from {} order by id desc limit {}\"\"\"\u001b[0m\u001b[1;33m.\u001b[0m\u001b[0mformat\u001b[0m\u001b[1;33m(\u001b[0m\u001b[0masset1\u001b[0m\u001b[1;33m,\u001b[0m \u001b[0msql_limit_num\u001b[0m\u001b[1;33m)\u001b[0m\u001b[1;33m\u001b[0m\u001b[0m\n\u001b[0;32m      7\u001b[0m     \u001b[0masset2\u001b[0m \u001b[1;33m=\u001b[0m \u001b[1;34m\"\"\" SELECT time, open, high, low, close, volume from {} order by id desc limit {}\"\"\"\u001b[0m\u001b[1;33m.\u001b[0m\u001b[0mformat\u001b[0m\u001b[1;33m(\u001b[0m\u001b[0masset2\u001b[0m\u001b[1;33m,\u001b[0m \u001b[0msql_limit_num\u001b[0m\u001b[1;33m)\u001b[0m\u001b[1;33m\u001b[0m\u001b[0m\n\u001b[1;32m----> 8\u001b[1;33m     \u001b[0mdf1\u001b[0m \u001b[1;33m=\u001b[0m \u001b[0mpd\u001b[0m\u001b[1;33m.\u001b[0m\u001b[0mread_sql\u001b[0m\u001b[1;33m(\u001b[0m\u001b[0masset1\u001b[0m\u001b[1;33m,\u001b[0m \u001b[0mcon\u001b[0m\u001b[1;33m=\u001b[0m\u001b[0mconn\u001b[0m\u001b[1;33m)\u001b[0m\u001b[1;33m\u001b[0m\u001b[0m\n\u001b[0m\u001b[0;32m      9\u001b[0m     \u001b[0mdf2\u001b[0m \u001b[1;33m=\u001b[0m \u001b[0mpd\u001b[0m\u001b[1;33m.\u001b[0m\u001b[0mread_sql\u001b[0m\u001b[1;33m(\u001b[0m\u001b[0masset2\u001b[0m\u001b[1;33m,\u001b[0m \u001b[0mcon\u001b[0m\u001b[1;33m=\u001b[0m\u001b[0mconn\u001b[0m\u001b[1;33m)\u001b[0m\u001b[1;33m\u001b[0m\u001b[0m\n\u001b[0;32m     10\u001b[0m     \u001b[0mconn\u001b[0m\u001b[1;33m.\u001b[0m\u001b[0mclose\u001b[0m\u001b[1;33m(\u001b[0m\u001b[1;33m)\u001b[0m\u001b[1;33m\u001b[0m\u001b[0m\n",
      "\u001b[1;32m~\\Anaconda3\\lib\\site-packages\\pandas\\io\\sql.py\u001b[0m in \u001b[0;36mread_sql\u001b[1;34m(sql, con, index_col, coerce_float, params, parse_dates, columns, chunksize)\u001b[0m\n\u001b[0;32m    379\u001b[0m             \u001b[0msql\u001b[0m\u001b[1;33m,\u001b[0m \u001b[0mindex_col\u001b[0m\u001b[1;33m=\u001b[0m\u001b[0mindex_col\u001b[0m\u001b[1;33m,\u001b[0m \u001b[0mparams\u001b[0m\u001b[1;33m=\u001b[0m\u001b[0mparams\u001b[0m\u001b[1;33m,\u001b[0m\u001b[1;33m\u001b[0m\u001b[0m\n\u001b[0;32m    380\u001b[0m             \u001b[0mcoerce_float\u001b[0m\u001b[1;33m=\u001b[0m\u001b[0mcoerce_float\u001b[0m\u001b[1;33m,\u001b[0m \u001b[0mparse_dates\u001b[0m\u001b[1;33m=\u001b[0m\u001b[0mparse_dates\u001b[0m\u001b[1;33m,\u001b[0m\u001b[1;33m\u001b[0m\u001b[0m\n\u001b[1;32m--> 381\u001b[1;33m             chunksize=chunksize)\n\u001b[0m\u001b[0;32m    382\u001b[0m \u001b[1;33m\u001b[0m\u001b[0m\n\u001b[0;32m    383\u001b[0m     \u001b[1;32mtry\u001b[0m\u001b[1;33m:\u001b[0m\u001b[1;33m\u001b[0m\u001b[0m\n",
      "\u001b[1;32m~\\Anaconda3\\lib\\site-packages\\pandas\\io\\sql.py\u001b[0m in \u001b[0;36mread_query\u001b[1;34m(self, sql, index_col, coerce_float, params, parse_dates, chunksize)\u001b[0m\n\u001b[0;32m   1411\u001b[0m \u001b[1;33m\u001b[0m\u001b[0m\n\u001b[0;32m   1412\u001b[0m         \u001b[0margs\u001b[0m \u001b[1;33m=\u001b[0m \u001b[0m_convert_params\u001b[0m\u001b[1;33m(\u001b[0m\u001b[0msql\u001b[0m\u001b[1;33m,\u001b[0m \u001b[0mparams\u001b[0m\u001b[1;33m)\u001b[0m\u001b[1;33m\u001b[0m\u001b[0m\n\u001b[1;32m-> 1413\u001b[1;33m         \u001b[0mcursor\u001b[0m \u001b[1;33m=\u001b[0m \u001b[0mself\u001b[0m\u001b[1;33m.\u001b[0m\u001b[0mexecute\u001b[0m\u001b[1;33m(\u001b[0m\u001b[1;33m*\u001b[0m\u001b[0margs\u001b[0m\u001b[1;33m)\u001b[0m\u001b[1;33m\u001b[0m\u001b[0m\n\u001b[0m\u001b[0;32m   1414\u001b[0m         \u001b[0mcolumns\u001b[0m \u001b[1;33m=\u001b[0m \u001b[1;33m[\u001b[0m\u001b[0mcol_desc\u001b[0m\u001b[1;33m[\u001b[0m\u001b[1;36m0\u001b[0m\u001b[1;33m]\u001b[0m \u001b[1;32mfor\u001b[0m \u001b[0mcol_desc\u001b[0m \u001b[1;32min\u001b[0m \u001b[0mcursor\u001b[0m\u001b[1;33m.\u001b[0m\u001b[0mdescription\u001b[0m\u001b[1;33m]\u001b[0m\u001b[1;33m\u001b[0m\u001b[0m\n\u001b[0;32m   1415\u001b[0m \u001b[1;33m\u001b[0m\u001b[0m\n",
      "\u001b[1;32m~\\Anaconda3\\lib\\site-packages\\pandas\\io\\sql.py\u001b[0m in \u001b[0;36mexecute\u001b[1;34m(self, *args, **kwargs)\u001b[0m\n\u001b[0;32m   1384\u001b[0m                 ex = DatabaseError(\"Execution failed on sql: %s\\n%s\\nunable\"\n\u001b[0;32m   1385\u001b[0m                                    \" to rollback\" % (args[0], exc))\n\u001b[1;32m-> 1386\u001b[1;33m                 \u001b[0mraise_with_traceback\u001b[0m\u001b[1;33m(\u001b[0m\u001b[0mex\u001b[0m\u001b[1;33m)\u001b[0m\u001b[1;33m\u001b[0m\u001b[0m\n\u001b[0m\u001b[0;32m   1387\u001b[0m \u001b[1;33m\u001b[0m\u001b[0m\n\u001b[0;32m   1388\u001b[0m             ex = DatabaseError(\n",
      "\u001b[1;32m~\\Anaconda3\\lib\\site-packages\\pandas\\compat\\__init__.py\u001b[0m in \u001b[0;36mraise_with_traceback\u001b[1;34m(exc, traceback)\u001b[0m\n\u001b[0;32m    402\u001b[0m         \u001b[1;32mif\u001b[0m \u001b[0mtraceback\u001b[0m \u001b[1;33m==\u001b[0m \u001b[0mEllipsis\u001b[0m\u001b[1;33m:\u001b[0m\u001b[1;33m\u001b[0m\u001b[0m\n\u001b[0;32m    403\u001b[0m             \u001b[0m_\u001b[0m\u001b[1;33m,\u001b[0m \u001b[0m_\u001b[0m\u001b[1;33m,\u001b[0m \u001b[0mtraceback\u001b[0m \u001b[1;33m=\u001b[0m \u001b[0msys\u001b[0m\u001b[1;33m.\u001b[0m\u001b[0mexc_info\u001b[0m\u001b[1;33m(\u001b[0m\u001b[1;33m)\u001b[0m\u001b[1;33m\u001b[0m\u001b[0m\n\u001b[1;32m--> 404\u001b[1;33m         \u001b[1;32mraise\u001b[0m \u001b[0mexc\u001b[0m\u001b[1;33m.\u001b[0m\u001b[0mwith_traceback\u001b[0m\u001b[1;33m(\u001b[0m\u001b[0mtraceback\u001b[0m\u001b[1;33m)\u001b[0m\u001b[1;33m\u001b[0m\u001b[0m\n\u001b[0m\u001b[0;32m    405\u001b[0m \u001b[1;32melse\u001b[0m\u001b[1;33m:\u001b[0m\u001b[1;33m\u001b[0m\u001b[0m\n\u001b[0;32m    406\u001b[0m     \u001b[1;31m# this version of raise is a syntax error in Python 3\u001b[0m\u001b[1;33m\u001b[0m\u001b[1;33m\u001b[0m\u001b[0m\n",
      "\u001b[1;32m~\\Anaconda3\\lib\\site-packages\\pandas\\io\\sql.py\u001b[0m in \u001b[0;36mexecute\u001b[1;34m(self, *args, **kwargs)\u001b[0m\n\u001b[0;32m   1380\u001b[0m         \u001b[1;32mexcept\u001b[0m \u001b[0mException\u001b[0m \u001b[1;32mas\u001b[0m \u001b[0mexc\u001b[0m\u001b[1;33m:\u001b[0m\u001b[1;33m\u001b[0m\u001b[0m\n\u001b[0;32m   1381\u001b[0m             \u001b[1;32mtry\u001b[0m\u001b[1;33m:\u001b[0m\u001b[1;33m\u001b[0m\u001b[0m\n\u001b[1;32m-> 1382\u001b[1;33m                 \u001b[0mself\u001b[0m\u001b[1;33m.\u001b[0m\u001b[0mcon\u001b[0m\u001b[1;33m.\u001b[0m\u001b[0mrollback\u001b[0m\u001b[1;33m(\u001b[0m\u001b[1;33m)\u001b[0m\u001b[1;33m\u001b[0m\u001b[0m\n\u001b[0m\u001b[0;32m   1383\u001b[0m             \u001b[1;32mexcept\u001b[0m \u001b[0mException\u001b[0m\u001b[1;33m:\u001b[0m  \u001b[1;31m# pragma: no cover\u001b[0m\u001b[1;33m\u001b[0m\u001b[0m\n\u001b[0;32m   1384\u001b[0m                 ex = DatabaseError(\"Execution failed on sql: %s\\n%s\\nunable\"\n",
      "\u001b[1;31mDatabaseError\u001b[0m: Execution failed on sql:  SELECT time, open, high, low, close, volume from bchz18_1m order by id desc limit 100\nserver closed the connection unexpectedly\n\tThis probably means the server terminated abnormally\n\tbefore or while processing the request.\n\nunable to rollback"
     ]
    }
   ],
   "source": [
    "# 例子：\n",
    "while True:\n",
    "    \n",
    "    print (\"waiting...\")\n",
    "        # 第二步：确定参数：\n",
    "    N1 = 5\n",
    "    N2 = 15\n",
    "    N3 = 15\n",
    "    N4 = 15\n",
    "    period = '5T'\n",
    "\n",
    "    # 第三步：链接数据库，提取两个资产\n",
    "    bch_df, eth_df = two_assts_from_sql(\"bchz18_1m\", \"ethz18_1m\", 100)\n",
    "\n",
    "    # 第四步：转变时间周期\n",
    "    bch_df.index = pd.DatetimeIndex(bch_df['time'])\n",
    "    eth_df.index = pd.DatetimeIndex(eth_df['time'])\n",
    "    res_bch = resample(bch_df, period)\n",
    "    res_eth = resample(eth_df, period)\n",
    "\n",
    "    # 第五步：处理时间column以此方便后面的作图\n",
    "    cnvrted_date_df_bch = cnvrt_date(res_bch)\n",
    "    cnvrted_date_df_eth = cnvrt_date(res_eth)\n",
    "\n",
    "    # 第六步：计算相对差累积和、相对差累积和的快均线、相对差累计和的慢均线\n",
    "    tmsum_sr = two_assets_tmsum(cnvrted_date_df_bch, cnvrted_date_df_eth, N4)\n",
    "    tmsum_ma1, tmsum_ma2 = MAs_of_tmsum(tmsum_sr, N1, N2) \n",
    "    \n",
    "    MA_crossover_plot_signals(tmsum_ma1, tmsum_ma2)\n",
    "    \n",
    "    time.sleep(30) "
   ]
  },
  {
   "cell_type": "code",
   "execution_count": null,
   "metadata": {},
   "outputs": [],
   "source": [
    "# 例子：\n",
    "while True:\n",
    "        # 第二步：确定参数：\n",
    "    N1 = 5\n",
    "    N2 = 15\n",
    "    N3 = 15\n",
    "    N4 = 15\n",
    "    period = '5T'\n",
    "\n",
    "    # 第三步：链接数据库，提取两个资产\n",
    "    bch_df, eth_df = two_assts_from_sql(\"bchz18_1m\", \"ethz18_1m\", 100)\n",
    "\n",
    "    # 第四步：转变时间周期\n",
    "    bch_df.index = pd.DatetimeIndex(bch_df['time'])\n",
    "    eth_df.index = pd.DatetimeIndex(eth_df['time'])\n",
    "    res_bch = resample(bch_df, period)\n",
    "    res_eth = resample(eth_df, period)\n",
    "\n",
    "    # 第五步：处理时间column以此方便后面的作图\n",
    "    cnvrted_date_df_bch = cnvrt_date(res_bch)\n",
    "    cnvrted_date_df_eth = cnvrt_date(res_eth)\n",
    "\n",
    "    # 第六步：计算相对差累积和、相对差累积和的快均线、相对差累计和的慢均线\n",
    "    tmsum_sr = two_assets_tmsum(cnvrted_date_df_bch, cnvrted_date_df_eth, N4)\n",
    "    tmsum_ma1, tmsum_ma2 = MAs_of_tmsum(tmsum_sr, N1, N2) \n",
    "    # 生成初步信号：金叉死叉。\n",
    "    MA_crossover_plot_signals(tmsum_ma1, tmsum_ma2)\n",
    "    time.sleep(60) \n",
    "    # 如果是在ipython notebook上展示，用clear_output可以清除之前plot出来的图像，然后会再plot更新后的图像\n",
    "    clear_output()"
   ]
  },
  {
   "cell_type": "code",
   "execution_count": null,
   "metadata": {},
   "outputs": [],
   "source": []
  }
 ],
 "metadata": {
  "anaconda-cloud": {},
  "hide_input": false,
  "kernelspec": {
   "display_name": "Python 3",
   "language": "python",
   "name": "python3"
  },
  "language_info": {
   "codemirror_mode": {
    "name": "ipython",
    "version": 3
   },
   "file_extension": ".py",
   "mimetype": "text/x-python",
   "name": "python",
   "nbconvert_exporter": "python",
   "pygments_lexer": "ipython3",
   "version": "3.7.0"
  },
  "nav_menu": {},
  "toc": {
   "navigate_menu": true,
   "number_sections": true,
   "sideBar": true,
   "threshold": 6,
   "toc_cell": false,
   "toc_section_display": "block",
   "toc_window_display": false
  }
 },
 "nbformat": 4,
 "nbformat_minor": 2
}
