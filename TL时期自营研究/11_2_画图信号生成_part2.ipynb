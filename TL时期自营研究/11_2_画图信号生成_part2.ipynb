{
 "cells": [
  {
   "cell_type": "code",
   "execution_count": 8,
   "metadata": {
    "collapsed": true
   },
   "outputs": [],
   "source": [
    "import psycopg2\n",
    "import time\n",
    "import pandas as pd\n",
    "import numpy as np\n",
    "import matplotlib.pyplot as plt\n",
    "import seaborn as sns\n",
    "import pyecharts\n",
    "import urllib3,time,csv,datetime\n",
    "import matplotlib as mpl\n",
    "import matplotlib.pyplot as plt\n",
    "import matplotlib.finance as mpf\n",
    "import matplotlib.dates as mpd\n",
    "import plotly\n",
    "import plotly.plotly as py\n",
    "import plotly.offline as py_offline\n",
    "import plotly.graph_objs as go\n",
    "from IPython.display import clear_output\n",
    "\n",
    "%matplotlib inline"
   ]
  },
  {
   "cell_type": "markdown",
   "metadata": {},
   "source": [
    "# All-in-One运行一遍"
   ]
  },
  {
   "cell_type": "code",
   "execution_count": 10,
   "metadata": {
    "collapsed": true
   },
   "outputs": [],
   "source": [
    "# 第一步：定义所有所需函数：\n",
    "\n",
    "# 直接从SQL数据库生成资产价格dataframe\n",
    "def two_assts_from_sql(asset1, asset2, sql_limit_num):\n",
    "    conn = psycopg2.connect(database=\"bitmexdata\", user=\"postgres\", password=\"tongKen123\", host=\"128.199.97.202\", port=\"5432\")\n",
    "    asset1 = \"\"\" SELECT time, open, high, low, close, volume from {} order by id desc limit {}\"\"\".format(asset1, sql_limit_num)\n",
    "    asset2 = \"\"\" SELECT time, open, high, low, close, volume from {} order by id desc limit {}\"\"\".format(asset2, sql_limit_num)\n",
    "    df1 = pd.read_sql(asset1, con=conn)\n",
    "    df2 = pd.read_sql(asset2, con=conn)\n",
    "    conn.close()\n",
    "    return df1, df2\n",
    "\n",
    "# 转变数据周期：T/5T/15T/30T/H/2H/4H/D/W/M\n",
    "def resample(df, period):\n",
    "    convrted_df = df.resample(period).last()\n",
    "    convrted_df['open'] = df['open'].resample(period).first()\n",
    "    convrted_df['high'] = df['high'].resample(period).max()\n",
    "    convrted_df['low'] = df['low'].resample(period).min()\n",
    "    convrted_df['close'] = df['close'].resample(period).last()\n",
    "    convrted_df['volume'] = df['volume'].resample(period).sum()\n",
    "    # Keep rows with at least 5 non-NaN values\n",
    "    convrted_df.dropna(thresh=5, inplace=True)\n",
    "    convrted_df.index = convrted_df['time']\n",
    "    convrted_df['time'] = pd.DatetimeIndex(convrted_df['time'])\n",
    "    return convrted_df\n",
    "\n",
    "# 为能够plot蜡烛图做timestamps处理的准备：\n",
    "def cnvrt_date(convrted_df):\n",
    "    cnvrted_date_df = convrted_df.copy()\n",
    "    cnvrted_date_df['date'] = mpd.date2num(cnvrted_date_df['time'].dt.to_pydatetime())\n",
    "    return cnvrted_date_df\n",
    "\n",
    "# 计算两个资产的相对差累计值：\n",
    "def two_assets_tmsum(cnvrted_date_df1, cnvrted_date_df2, N4):\n",
    "    cnvrted_date_df1['close_shifted'] = cnvrted_date_df1['close'].shift(1)\n",
    "    cnvrted_date_df2['close_shifted'] = cnvrted_date_df2['close'].shift(1)\n",
    "    T1 = cnvrted_date_df1['close'].diff()/cnvrted_date_df1['close_shifted']\n",
    "    T2 = cnvrted_date_df2['close'].diff()/cnvrted_date_df2['close_shifted']\n",
    "    TM = T1*(1-N4/100) - T2*(N4/100)\n",
    "    tmsum_sr = TM.cumsum()\n",
    "    return tmsum_sr\n",
    "    \n",
    "# 计算相对差的移动平均快慢线：\n",
    "def MAs_of_tmsum(tmsum_sr, N1, N2):\n",
    "    MA1 = tmsum_sr.ewm(span= N1).mean() #快线\n",
    "    MA2 = tmsum_sr.ewm(span= N2).mean() #慢线   \n",
    "    return MA1, MA2\n",
    "    \n",
    "# Plot TMSUM图线：\n",
    "# def plot_tmsum(tmsum_sr):\n",
    "#     py_offline.init_notebook_mode()\n",
    "#     tmsum_df = pd.DataFrame(tmsum_sr, columns=['tmsum'])\n",
    "#     tmsum_df = go.Scatter(x = tmsum_df.index,\n",
    "#                           y = tmsum_df['tmsum'])\n",
    "#     data = [tmsum_df]\n",
    "#     return py_offline.iplot(data, filename='TMSUM')\n",
    "\n",
    "def plot_tmsum(tmsum_sr):\n",
    "#     py_offline.init_notebook_mode()\n",
    "    tmsum_df = pd.DataFrame(tmsum_sr, columns=['tmsum'])\n",
    "    tmsum_df = go.Scatter(x = tmsum_df.index,\n",
    "                          y = tmsum_df['tmsum'])\n",
    "    data = [tmsum_df]\n",
    "    fig = go.Figure(data=data)\n",
    "    return py.iplot(fig, filename='TMSUM')\n",
    "    \n",
    "    \n",
    "def plot_tmsum_MAs(MA1, MA2):\n",
    "    # Here I didn't use offline's version of plotly, going forward  \n",
    "    # will need to be consistent when moving to pycharm for plotting\n",
    "    ma1_df = pd.DataFrame(MA1, columns=['MA1'], index = MA1.index)\n",
    "    ma2_df = pd.DataFrame(MA2, columns=['MA2'], index = MA2.index)\n",
    "    trace1 = go.Scatter(x = ma1_df.index, \n",
    "                        y = ma1_df['MA1'])\n",
    "    trace2 = go.Scatter(x = ma2_df.index, \n",
    "                        y = ma2_df['MA2'])\n",
    "    data = [trace1, trace2]\n",
    "    fig = go.Figure(data=data)\n",
    "    return py.iplot(fig, filename='plot_tmsum_MAs')\n",
    "    \n",
    "    \n",
    "# Plot 资产实时图\n",
    "\n",
    "def plot_candlestick(cnvrted_date_df):\n",
    "    candle_df = go.Candlestick(x = cnvrted_date_df.index,\n",
    "                               open = cnvrted_date_df['open'],\n",
    "                               high = cnvrted_date_df['high'],\n",
    "                               low  = cnvrted_date_df['low'],\n",
    "                               close = cnvrted_date_df['close'])\n",
    "    data = [candle_df]\n",
    "    fig =go.Figure(data=data)\n",
    "    return py.iplot(fig, filename='CandleStick')\n",
    "\n",
    "# def plot_candlestick(cnvrted_date_df):\n",
    "#     py_offline.init_notebook_mode()\n",
    "#     candle_df = go.Candlestick(x = cnvrted_date_df.index,\n",
    "#                                open = cnvrted_date_df['open'],\n",
    "#                                high = cnvrted_date_df['high'],\n",
    "#                                low  = cnvrted_date_df['low'],\n",
    "#                                close = cnvrted_date_df['close'])\n",
    "#     data = [candle_df]\n",
    "#     return py_offline.iplot(data, filename='Candle Stick', image_width=400, image_height=200)\n",
    "\n",
    "\n",
    "\n",
    "# Build a function that plots charts of two moving averages with their crossover trading signals \n",
    "# Here we want to make sure that both MA1_sr and MA2_sr are: series with timestanmps as their indexes\n",
    "\n",
    "def MA_crossover_plot_signals(MA1_sr, MA2_sr):\n",
    "    # 构建一个由 MA1和 MA2构成的dataframe：\n",
    "    ma_signal_df = pd.DataFrame(MA1_sr, columns=['MA1'], index= MA1_sr.index)\n",
    "    ma_signal_df['MA2'] = MA2_sr\n",
    "    # 用两者的差表示 MA1在位置上高于还是低于MA2，负值说明低于，正值说明高于：\n",
    "    ma_signal_df['MA1_mns_MA2'] = ma_signal_df['MA1'] - ma_signal_df['MA2']\n",
    "    # 将正负值同义转换为二元的 1或者 -1便于观察和处理\n",
    "    ma_signal_df['signs'] = ma_signal_df['MA1_mns_MA2']*abs(1/(ma_signal_df['MA1_mns_MA2']))\n",
    "    # 用当前值和前一个周期的值决定当前状态是金叉信号还是死叉信号\n",
    "    ma_signal_df['pre_signs'] = ma_signal_df['signs'].shift(1)\n",
    "    ma_signal_df['signals'] = ma_signal_df['signs'] - ma_signal_df['pre_signs']\n",
    "    ma_signal_df['signals_alert'] = ma_signal_df['signals'].apply(lambda x: \"金叉\" if x==2 else \"死叉\" if x==-2 else \"无信号\")\n",
    "    # 将所有出现信号的rows挑出来建立一个字典：\n",
    "    ma_df_with_signals = ma_signal_df[ma_signal_df['signals_alert'] != \"无信号\"]['signals_alert']\n",
    "    signal_dict = dict(ma_df_with_signals)\n",
    "    # Add each and all signal information(dictionary format) to annotations(list format) \n",
    "    # so that it can be put into the go.Layout() function.\n",
    "    annotations = []\n",
    "    each_dict = {}\n",
    "    for i, k in enumerate(signal_dict):\n",
    "        each_dict['x'] = k\n",
    "        each_dict['y'] = ma_signal_df['MA1'].loc[k]\n",
    "        each_dict['text']=ma_signal_df['signals_alert'].loc[k]\n",
    "        each_dict['showarrow']=True\n",
    "        each_dict['arrowhead']=7\n",
    "        each_dict['ax']=0\n",
    "        each_dict['ay']=-40\n",
    "\n",
    "        annotations.append(each_dict.copy())\n",
    "    # 用plotly进行绘图，包括了之前处理好的annotations，作为显示信号的功能\n",
    "    ma1_df = pd.DataFrame(tmsum_ma1, columns=['MA1'], index = tmsum_ma1.index)\n",
    "    ma2_df = pd.DataFrame(tmsum_ma2, columns=['MA2'], index = tmsum_ma2.index)\n",
    "    trace1 = go.Scatter(x = ma1_df.index, \n",
    "              y = ma1_df['MA1'])\n",
    "    trace2 = go.Scatter(x = ma2_df.index, \n",
    "              y = ma2_df['MA2'])\n",
    "    layout = go.Layout(\n",
    "        showlegend=False,\n",
    "        annotations=annotations\n",
    "    )\n",
    "    data = [trace1, trace2]\n",
    "    fig = go.Figure(data=data, \n",
    "                    layout=layout)\n",
    "    return py.iplot(fig, filename='plot_MAs_with_signals')\n",
    "#     return plotly.offline.plot(fig, filename = 'test.html') # 如果要用html那么则会以网页的形式输出图像"
   ]
  },
  {
   "cell_type": "code",
   "execution_count": 3,
   "metadata": {
    "collapsed": false
   },
   "outputs": [],
   "source": [
    "# 第二步：确定参数：\n",
    "N1 = 5\n",
    "N2 = 15\n",
    "N3 = 15\n",
    "N4 = 15\n",
    "period = '5T'\n",
    "\n",
    "# 第三步：链接数据库，提取两个资产\n",
    "bch_df, eth_df = two_assts_from_sql(\"bchz18_1m\", \"ethz18_1m\", 600)\n",
    "\n",
    "# 第四步：转变时间周期\n",
    "bch_df.index = pd.DatetimeIndex(bch_df['time'])\n",
    "eth_df.index = pd.DatetimeIndex(eth_df['time'])\n",
    "res_bch = resample(bch_df, period)\n",
    "res_eth = resample(eth_df, period)\n",
    "\n",
    "# 第五步：处理时间column以此方便后面的作图\n",
    "cnvrted_date_df_bch = cnvrt_date(res_bch)\n",
    "cnvrted_date_df_eth = cnvrt_date(res_eth)\n",
    "\n",
    "# 第六步：计算相对差累积和、相对差累积和的快均线、相对差累计和的慢均线\n",
    "tmsum_sr = two_assets_tmsum(cnvrted_date_df_bch, cnvrted_date_df_eth, N4)\n",
    "tmsum_ma1, tmsum_ma2 = MAs_of_tmsum(tmsum_sr, N1, N2) "
   ]
  },
  {
   "cell_type": "code",
   "execution_count": 4,
   "metadata": {
    "collapsed": false
   },
   "outputs": [
    {
     "data": {
      "text/html": [
       "<iframe id=\"igraph\" scrolling=\"no\" style=\"border:none;\" seamless=\"seamless\" src=\"https://plot.ly/~bradsun91/14.embed\" height=\"525px\" width=\"100%\"></iframe>"
      ],
      "text/plain": [
       "<plotly.tools.PlotlyDisplay object>"
      ]
     },
     "execution_count": 4,
     "metadata": {},
     "output_type": "execute_result"
    }
   ],
   "source": [
    "# 第七步：作图、显示生成信号\n",
    "plot_candlestick(cnvrted_date_df_eth)"
   ]
  },
  {
   "cell_type": "code",
   "execution_count": 5,
   "metadata": {
    "collapsed": false
   },
   "outputs": [
    {
     "data": {
      "text/html": [
       "<iframe id=\"igraph\" scrolling=\"no\" style=\"border:none;\" seamless=\"seamless\" src=\"https://plot.ly/~bradsun91/14.embed\" height=\"525px\" width=\"100%\"></iframe>"
      ],
      "text/plain": [
       "<plotly.tools.PlotlyDisplay object>"
      ]
     },
     "execution_count": 5,
     "metadata": {},
     "output_type": "execute_result"
    }
   ],
   "source": [
    "plot_candlestick(cnvrted_date_df_bch)"
   ]
  },
  {
   "cell_type": "code",
   "execution_count": 6,
   "metadata": {
    "collapsed": false
   },
   "outputs": [
    {
     "data": {
      "text/html": [
       "<iframe id=\"igraph\" scrolling=\"no\" style=\"border:none;\" seamless=\"seamless\" src=\"https://plot.ly/~bradsun91/16.embed\" height=\"525px\" width=\"100%\"></iframe>"
      ],
      "text/plain": [
       "<plotly.tools.PlotlyDisplay object>"
      ]
     },
     "execution_count": 6,
     "metadata": {},
     "output_type": "execute_result"
    }
   ],
   "source": [
    "plot_tmsum(tmsum_sr)"
   ]
  },
  {
   "cell_type": "code",
   "execution_count": 11,
   "metadata": {
    "collapsed": false
   },
   "outputs": [
    {
     "data": {
      "text/html": [
       "<iframe id=\"igraph\" scrolling=\"no\" style=\"border:none;\" seamless=\"seamless\" src=\"https://plot.ly/~bradsun91/10.embed\" height=\"525px\" width=\"100%\"></iframe>"
      ],
      "text/plain": [
       "<plotly.tools.PlotlyDisplay object>"
      ]
     },
     "execution_count": 11,
     "metadata": {},
     "output_type": "execute_result"
    }
   ],
   "source": [
    "MA_crossover_plot_signals(tmsum_ma1, tmsum_ma2)"
   ]
  },
  {
   "cell_type": "markdown",
   "metadata": {},
   "source": [
    "# 改良：用一张图plot几张subplots分图"
   ]
  },
  {
   "cell_type": "code",
   "execution_count": null,
   "metadata": {
    "collapsed": true
   },
   "outputs": [],
   "source": [
    "def MA_crossover_plot_signals(MA1_sr, MA2_sr):\n",
    "    # 构建一个由 MA1和 MA2构成的dataframe：\n",
    "    ma_signal_df = pd.DataFrame(MA1_sr, columns=['MA1'], index= MA1_sr.index)\n",
    "    ma_signal_df['MA2'] = MA2_sr\n",
    "    # 用两者的差表示 MA1在位置上高于还是低于MA2，负值说明低于，正值说明高于：\n",
    "    ma_signal_df['MA1_mns_MA2'] = ma_signal_df['MA1'] - ma_signal_df['MA2']\n",
    "    # 将正负值同义转换为二元的 1或者 -1便于观察和处理\n",
    "    ma_signal_df['signs'] = ma_signal_df['MA1_mns_MA2']*abs(1/(ma_signal_df['MA1_mns_MA2']))\n",
    "    # 用当前值和前一个周期的值决定当前状态是金叉信号还是死叉信号\n",
    "    ma_signal_df['pre_signs'] = ma_signal_df['signs'].shift(1)\n",
    "    ma_signal_df['signals'] = ma_signal_df['signs'] - ma_signal_df['pre_signs']\n",
    "    ma_signal_df['signals_alert'] = ma_signal_df['signals'].apply(lambda x: \"金叉\" if x==2 else \"死叉\" if x==-2 else \"无信号\")\n",
    "    # 将所有出现信号的rows挑出来建立一个字典：\n",
    "    ma_df_with_signals = ma_signal_df[ma_signal_df['signals_alert'] != \"无信号\"]['signals_alert']\n",
    "    signal_dict = dict(ma_df_with_signals)\n",
    "    # Add each and all signal information(dictionary format) to annotations(list format) \n",
    "    # so that it can be put into the go.Layout() function.\n",
    "    annotations = []\n",
    "    each_dict = {}\n",
    "    for i, k in enumerate(signal_dict):\n",
    "        each_dict['x'] = k\n",
    "        each_dict['y'] = ma_signal_df['MA1'].loc[k]\n",
    "        each_dict['text']=ma_signal_df['signals_alert'].loc[k]\n",
    "        each_dict['showarrow']=True\n",
    "        each_dict['arrowhead']=7\n",
    "        each_dict['ax']=0\n",
    "        each_dict['ay']=-40\n",
    "\n",
    "        annotations.append(each_dict.copy())\n",
    "    # 用plotly进行绘图，包括了之前处理好的annotations，作为显示信号的功能\n",
    "    ma1_df = pd.DataFrame(tmsum_ma1, columns=['MA1'], index = tmsum_ma1.index)\n",
    "    ma2_df = pd.DataFrame(tmsum_ma2, columns=['MA2'], index = tmsum_ma2.index)\n",
    "    trace1 = go.Scatter(x = ma1_df.index, \n",
    "              y = ma1_df['MA1'])\n",
    "    trace2 = go.Scatter(x = ma2_df.index, \n",
    "              y = ma2_df['MA2'])\n",
    "    layout = go.Layout(\n",
    "        showlegend=False,\n",
    "        annotations=annotations\n",
    "    )\n",
    "    data = [trace1, trace2]\n",
    "    fig = go.Figure(data=data, \n",
    "                    layout=layout)\n",
    "#     return py.iplot(fig, filename='plot_MAs_with_signals')\n",
    "    return plotly.offline.plot(fig, filename = 'test.html')\n",
    "\n"
   ]
  },
  {
   "cell_type": "code",
   "execution_count": null,
   "metadata": {
    "collapsed": true
   },
   "outputs": [],
   "source": []
  },
  {
   "cell_type": "code",
   "execution_count": 28,
   "metadata": {
    "collapsed": false
   },
   "outputs": [],
   "source": [
    "# Array Group 1 to plot: Candlestick of bch\n",
    "candle_df_bch = go.Candlestick(x = cnvrted_date_df_bch.index,\n",
    "                           open = cnvrted_date_df_bch['open'],\n",
    "                           high = cnvrted_date_df_bch['high'],\n",
    "                           low  = cnvrted_date_df_bch['low'],\n",
    "                           close = cnvrted_date_df_bch['close'])\n",
    "\n",
    "# Array Group 2 to plot: Candlestick of eth\n",
    "candle_df_eth = go.Candlestick(x = cnvrted_date_df_eth.index,\n",
    "                           open = cnvrted_date_df_eth['open'],\n",
    "                           high = cnvrted_date_df_eth['high'],\n",
    "                           low  = cnvrted_date_df_eth['low'],\n",
    "                           close = cnvrted_date_df_eth['close'])\n",
    "\n",
    "# "
   ]
  }
 ],
 "metadata": {
  "anaconda-cloud": {},
  "hide_input": false,
  "kernelspec": {
   "display_name": "Python [default]",
   "language": "python",
   "name": "python3"
  },
  "language_info": {
   "codemirror_mode": {
    "name": "ipython",
    "version": 3
   },
   "file_extension": ".py",
   "mimetype": "text/x-python",
   "name": "python",
   "nbconvert_exporter": "python",
   "pygments_lexer": "ipython3",
   "version": "3.4.5"
  },
  "nav_menu": {},
  "toc": {
   "navigate_menu": true,
   "number_sections": true,
   "sideBar": true,
   "threshold": 6,
   "toc_cell": false,
   "toc_section_display": "block",
   "toc_window_display": true
  }
 },
 "nbformat": 4,
 "nbformat_minor": 2
}
