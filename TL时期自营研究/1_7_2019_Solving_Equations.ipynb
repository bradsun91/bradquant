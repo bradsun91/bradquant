{
 "cells": [
  {
   "cell_type": "code",
   "execution_count": 1,
   "metadata": {},
   "outputs": [
    {
     "name": "stdout",
     "output_type": "stream",
     "text": [
      "[(-0.710388080674726, 0.980525474256849, -0.0118670311306511, -0.0906415795104230), (-0.0204627644619879, 0.490548648706708, 0.0969249827889253, 0.0961217221494940)]\n",
      "Time spent on this solving:  1.0112671852111816\n"
     ]
    }
   ],
   "source": [
    "from sympy import *\n",
    "\n",
    "# 四个未知数：\n",
    "# a: 该策略组别收益率中位数\n",
    "# \n",
    "a = Symbol('a')\n",
    "b = Symbol('b')\n",
    "c = Symbol('c')\n",
    "d = Symbol('d')\n",
    "\n",
    "func1 = 70*(0.469-a)/b + 30*c/(0.182+d) - 80.3\n",
    "func2 = 70*(0.302-a)/b + 30*c/(0.000176+d) - 76.21\n",
    "func3 = 70*(0.318-a)/b + 30*c/(0.121+d) - 61.69\n",
    "func4 = 70*(0.453-a)/b + 30*c/(0.036+d) - 89.57\n",
    "\n",
    "\n",
    "import time\n",
    "start = time.time()\n",
    "\n",
    "print (solve([func1, func2, func3, func4],[a, b, c, d]))\n",
    "\n",
    "end = time.time()\n",
    "print(\"Time spent on this solving: \", end - start)"
   ]
  },
  {
   "cell_type": "code",
   "execution_count": 3,
   "metadata": {},
   "outputs": [
    {
     "name": "stdout",
     "output_type": "stream",
     "text": [
      "80.30000000000001\n",
      "76.21\n",
      "61.69000000000004\n",
      "89.56999999999998\n"
     ]
    }
   ],
   "source": [
    "# 80.3\n",
    "# 76.21\n",
    "# 61.69\n",
    "# 89.57\n",
    "\n",
    "a = -0.710388080674726\n",
    "b = 0.980525474256849\n",
    "c = -0.0118670311306511\n",
    "d = -0.0906415795104230\n",
    "\n",
    "print (70*(0.469-a)/b + 30*c/(0.182+d))\n",
    "print (70*(0.302-a)/b + 30*c/(0.000176+d))\n",
    "print (70*(0.318-a)/b + 30*c/(0.121+d))\n",
    "print (70*(0.453-a)/b + 30*c/(0.036+d))"
   ]
  },
  {
   "cell_type": "code",
   "execution_count": null,
   "metadata": {
    "collapsed": true
   },
   "outputs": [],
   "source": []
  },
  {
   "cell_type": "code",
   "execution_count": 8,
   "metadata": {},
   "outputs": [
    {
     "name": "stdout",
     "output_type": "stream",
     "text": [
      "80.29999999999997\n",
      "76.20999999999998\n",
      "61.68999999999998\n",
      "89.56999999999998\n"
     ]
    }
   ],
   "source": [
    "# 80.3\n",
    "# 76.21\n",
    "# 61.69\n",
    "# 89.57\n",
    "\n",
    "# validation:\n",
    "a = -0.0204627644619879\n",
    "b = 0.490548648706708\n",
    "c = 0.0969249827889253\n",
    "d = 0.0961217221494940\n",
    "\n",
    "print (70*(0.469-a)/b + 30*c/(0.182+d))\n",
    "print (70*(0.302-a)/b + 30*c/(0.000176+d))\n",
    "print (70*(0.318-a)/b + 30*c/(0.121+d))\n",
    "print (70*(0.453-a)/b + 30*c/(0.036+d))"
   ]
  },
  {
   "cell_type": "code",
   "execution_count": 5,
   "metadata": {
    "collapsed": true
   },
   "outputs": [],
   "source": [
    "# Solutions 1: \n",
    "\n",
    "a = -0.710388080674726\n",
    "b = 0.980525474256849\n",
    "c = -0.0118670311306511\n",
    "d = -0.0906415795104230"
   ]
  },
  {
   "cell_type": "code",
   "execution_count": 7,
   "metadata": {
    "collapsed": true
   },
   "outputs": [],
   "source": [
    "# Solutions 2: USE THIS:\n",
    "\n",
    "a = -0.0204627644619879\n",
    "b = 0.490548648706708\n",
    "c = 0.0969249827889253\n",
    "d = 0.0961217221494940"
   ]
  },
  {
   "cell_type": "code",
   "execution_count": null,
   "metadata": {
    "collapsed": true
   },
   "outputs": [],
   "source": [
    "a: \"该策略组别收益率中位数\"\n",
    "b: \"该策略组别最大收益率 - 该策略组别收益率中位数\"\n",
    "c: \"该选手最大回撤 + 该策略组别最大回撤中位数\"\n",
    "d: \"该策略组别最大回撤中位数\""
   ]
  },
  {
   "cell_type": "code",
   "execution_count": 9,
   "metadata": {},
   "outputs": [
    {
     "name": "stdout",
     "output_type": "stream",
     "text": [
      "该策略组别最大收益率: 0.5110114131686959\n",
      "该策略组别收益率中位数 -0.0204627644619879\n",
      "该策略组别最大回撤中位数 0.096121722149494\n"
     ]
    }
   ],
   "source": [
    "# 该策略组别最大收益率:\n",
    "print (\"该策略组别最大收益率:\",b-a)\n",
    "print (\"该策略组别收益率中位数\", a)\n",
    "# print (\"该选手最大回撤 + 该策略组别最大回撤中位数\", c)\n",
    "print (\"该策略组别最大回撤中位数\", d)"
   ]
  },
  {
   "cell_type": "code",
   "execution_count": null,
   "metadata": {
    "collapsed": true
   },
   "outputs": [],
   "source": []
  },
  {
   "cell_type": "code",
   "execution_count": 5,
   "metadata": {},
   "outputs": [
    {
     "data": {
      "text/plain": [
       "80.29350075048447"
      ]
     },
     "execution_count": 5,
     "metadata": {},
     "output_type": "execute_result"
    }
   ],
   "source": [
    "# Rain's acct:\n",
    "\n",
    "rain_acct_retrn = 0.4690\n",
    "rain_acct_max_dd = 0.182173\n",
    "\n",
    "score = 70*(rain_acct_retrn-a)/b + 30*c/(rain_acct_max_dd+d)\n",
    "score"
   ]
  },
  {
   "cell_type": "code",
   "execution_count": 6,
   "metadata": {},
   "outputs": [
    {
     "name": "stdout",
     "output_type": "stream",
     "text": [
      "收益率分数： 69.8450471786421\n",
      "最大回撤分数： 10.448453571842364\n"
     ]
    }
   ],
   "source": [
    "print (\"收益率分数：\", 70*(rain_acct_retrn-a)/b)\n",
    "print (\"最大回撤分数：\", 30*c/(rain_acct_max_dd+d))"
   ]
  },
  {
   "cell_type": "code",
   "execution_count": 1,
   "metadata": {},
   "outputs": [
    {
     "data": {
      "text/plain": [
       "90.60159600574984"
      ]
     },
     "execution_count": 1,
     "metadata": {},
     "output_type": "execute_result"
    }
   ],
   "source": [
    "# AI股智搜：\n",
    "\n",
    "ai_acct_retrn = 0.4361\n",
    "ai_acct_max_dd = 1-(0.9753/1.0266)\n",
    "\n",
    "a = -0.710388080674726\n",
    "b = 0.980525474256849\n",
    "c = -0.0118670311306511\n",
    "d = -0.0906415795104230\n",
    "\n",
    "score = 70*(ai_acct_retrn-a)/b + 30*c/(ai_acct_max_dd+d)\n",
    "score"
   ]
  },
  {
   "cell_type": "code",
   "execution_count": 2,
   "metadata": {},
   "outputs": [
    {
     "data": {
      "text/plain": [
       "85.05378618440443"
      ]
     },
     "execution_count": 2,
     "metadata": {},
     "output_type": "execute_result"
    }
   ],
   "source": [
    "ai_acct_retrn = 0.4361\n",
    "ai_acct_max_dd = 1-(0.9753/1.0266)\n",
    "\n",
    "# validation:\n",
    "a = -0.0204627644619879\n",
    "b = 0.490548648706708\n",
    "c = 0.0969249827889253\n",
    "d = 0.0961217221494940\n",
    "\n",
    "score = 70*(ai_acct_retrn-a)/b + 30*c/(ai_acct_max_dd+d)\n",
    "score"
   ]
  },
  {
   "cell_type": "code",
   "execution_count": 3,
   "metadata": {},
   "outputs": [
    {
     "name": "stdout",
     "output_type": "stream",
     "text": [
      "{x: 0.536976027035075}\n",
      "Time spent on this solving:  0.08374476432800293\n"
     ]
    }
   ],
   "source": [
    "# 解一元一次：\n",
    "from sympy import *\n",
    "x = Symbol('x')\n",
    "\n",
    "func5 = 70*(x-a)/b + 30*c/(0.182+d) - 90\n",
    "\n",
    "import time\n",
    "start = time.time()\n",
    "\n",
    "print (solve([func5],[x]))\n",
    "\n",
    "end = time.time()\n",
    "print(\"Time spent on this solving: \", end - start)"
   ]
  }
 ],
 "metadata": {
  "hide_input": false,
  "kernelspec": {
   "display_name": "Python 3",
   "language": "python",
   "name": "python3"
  },
  "language_info": {
   "codemirror_mode": {
    "name": "ipython",
    "version": 3
   },
   "file_extension": ".py",
   "mimetype": "text/x-python",
   "name": "python",
   "nbconvert_exporter": "python",
   "pygments_lexer": "ipython3",
   "version": "3.5.3"
  },
  "nav_menu": {},
  "toc": {
   "navigate_menu": true,
   "number_sections": true,
   "sideBar": true,
   "threshold": 6,
   "toc_cell": false,
   "toc_section_display": "block",
   "toc_window_display": false
  }
 },
 "nbformat": 4,
 "nbformat_minor": 2
}
