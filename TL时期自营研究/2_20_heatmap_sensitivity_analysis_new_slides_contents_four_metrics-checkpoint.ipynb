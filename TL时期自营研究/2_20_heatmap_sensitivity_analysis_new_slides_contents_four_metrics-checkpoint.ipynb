{
 "cells": [
  {
   "cell_type": "code",
   "execution_count": null,
   "metadata": {
    "collapsed": true
   },
   "outputs": [],
   "source": [
    "import pandas as pd, numpy as np\n",
    "from accern_bt.accern_toolbox import *\n",
    "import matplotlib.pyplot as plt\n",
    "from datetime import datetime\n",
    "import seaborn as sns\n",
    "import csv\n",
    "\n",
    "%matplotlib inline\n",
    "\n",
    "import warnings\n",
    "warnings.filterwarnings('ignore')\n",
    "pd.options.display.max_colwidth = 200"
   ]
  },
  {
   "cell_type": "code",
   "execution_count": 3,
   "metadata": {
    "collapsed": true
   },
   "outputs": [],
   "source": [
    "strat_summary = pd.read_csv('/Users/Brad Sun/Dropbox/ACCERN/json_backtest_record/strat_summaries/strat_summary_by_2_20_2018.csv')"
   ]
  },
  {
   "cell_type": "code",
   "execution_count": 4,
   "metadata": {},
   "outputs": [],
   "source": [
    "four_metric_strat_long_short_df = strat_summary[strat_summary['algo_name'].str.contains('2_19')]"
   ]
  },
  {
   "cell_type": "code",
   "execution_count": 5,
   "metadata": {},
   "outputs": [
    {
     "data": {
      "text/html": [
       "<div>\n",
       "<table border=\"1\" class=\"dataframe\">\n",
       "  <thead>\n",
       "    <tr style=\"text-align: right;\">\n",
       "      <th></th>\n",
       "      <th>Unnamed: 0</th>\n",
       "      <th>algo_name</th>\n",
       "      <th>alpha</th>\n",
       "      <th>beta</th>\n",
       "      <th>sharpe</th>\n",
       "      <th>sortino</th>\n",
       "      <th>total_returns</th>\n",
       "      <th>benchmark_returns</th>\n",
       "      <th>volatility</th>\n",
       "      <th>max_drawdown</th>\n",
       "      <th>...</th>\n",
       "      <th>event_relevance_cutoff</th>\n",
       "      <th>long_half</th>\n",
       "      <th>long_sentiment_value</th>\n",
       "      <th>num_stocks_long</th>\n",
       "      <th>num_stocks_short</th>\n",
       "      <th>num_stocks_to_trade</th>\n",
       "      <th>short_half</th>\n",
       "      <th>start_date</th>\n",
       "      <th>top_bottom_pct_to_trade</th>\n",
       "      <th>top_pct_to_trade</th>\n",
       "    </tr>\n",
       "  </thead>\n",
       "  <tbody>\n",
       "    <tr>\n",
       "      <th>860</th>\n",
       "      <td>860</td>\n",
       "      <td>2_19_trimmed_four_metric_daily_sp500_for_new_presentation_slides_10mil_11</td>\n",
       "      <td>0.11</td>\n",
       "      <td>1.03</td>\n",
       "      <td>1.72</td>\n",
       "      <td>2.60</td>\n",
       "      <td>1.7606</td>\n",
       "      <td>0.711</td>\n",
       "      <td>0.14</td>\n",
       "      <td>-0.1137</td>\n",
       "      <td>...</td>\n",
       "      <td>NaN</td>\n",
       "      <td>1.0</td>\n",
       "      <td>NaN</td>\n",
       "      <td>NaN</td>\n",
       "      <td>NaN</td>\n",
       "      <td>10.0</td>\n",
       "      <td>0.0</td>\n",
       "      <td>8/1/2013</td>\n",
       "      <td>NaN</td>\n",
       "      <td>NaN</td>\n",
       "    </tr>\n",
       "    <tr>\n",
       "      <th>861</th>\n",
       "      <td>861</td>\n",
       "      <td>2_19_trimmed_four_metric_daily_sp500_for_new_presentation_slides_1mil_2</td>\n",
       "      <td>0.11</td>\n",
       "      <td>1.03</td>\n",
       "      <td>1.72</td>\n",
       "      <td>2.59</td>\n",
       "      <td>1.7569</td>\n",
       "      <td>0.711</td>\n",
       "      <td>0.14</td>\n",
       "      <td>-0.1108</td>\n",
       "      <td>...</td>\n",
       "      <td>NaN</td>\n",
       "      <td>1.0</td>\n",
       "      <td>NaN</td>\n",
       "      <td>NaN</td>\n",
       "      <td>NaN</td>\n",
       "      <td>10.0</td>\n",
       "      <td>0.0</td>\n",
       "      <td>8/1/2013</td>\n",
       "      <td>NaN</td>\n",
       "      <td>NaN</td>\n",
       "    </tr>\n",
       "    <tr>\n",
       "      <th>862</th>\n",
       "      <td>862</td>\n",
       "      <td>2_19_trimmed_four_metric_daily_sp500_for_new_presentation_slides_1mil_1</td>\n",
       "      <td>0.09</td>\n",
       "      <td>-0.02</td>\n",
       "      <td>1.66</td>\n",
       "      <td>2.61</td>\n",
       "      <td>0.4254</td>\n",
       "      <td>0.711</td>\n",
       "      <td>0.05</td>\n",
       "      <td>-0.0436</td>\n",
       "      <td>...</td>\n",
       "      <td>NaN</td>\n",
       "      <td>0.5</td>\n",
       "      <td>NaN</td>\n",
       "      <td>NaN</td>\n",
       "      <td>NaN</td>\n",
       "      <td>10.0</td>\n",
       "      <td>0.5</td>\n",
       "      <td>8/1/2013</td>\n",
       "      <td>NaN</td>\n",
       "      <td>NaN</td>\n",
       "    </tr>\n",
       "    <tr>\n",
       "      <th>863</th>\n",
       "      <td>863</td>\n",
       "      <td>2_19_trimmed_four_metric_daily_sp500_for_new_presentation_slides_100mil_20</td>\n",
       "      <td>0.08</td>\n",
       "      <td>0.77</td>\n",
       "      <td>1.65</td>\n",
       "      <td>2.50</td>\n",
       "      <td>1.1104</td>\n",
       "      <td>0.711</td>\n",
       "      <td>0.11</td>\n",
       "      <td>-0.1203</td>\n",
       "      <td>...</td>\n",
       "      <td>NaN</td>\n",
       "      <td>1.0</td>\n",
       "      <td>NaN</td>\n",
       "      <td>NaN</td>\n",
       "      <td>NaN</td>\n",
       "      <td>10.0</td>\n",
       "      <td>0.0</td>\n",
       "      <td>8/1/2013</td>\n",
       "      <td>NaN</td>\n",
       "      <td>NaN</td>\n",
       "    </tr>\n",
       "    <tr>\n",
       "      <th>864</th>\n",
       "      <td>864</td>\n",
       "      <td>2_19_trimmed_four_metric_daily_sp500_for_new_presentation_slides_10mil_10</td>\n",
       "      <td>0.08</td>\n",
       "      <td>-0.02</td>\n",
       "      <td>1.61</td>\n",
       "      <td>2.55</td>\n",
       "      <td>0.4040</td>\n",
       "      <td>0.711</td>\n",
       "      <td>0.05</td>\n",
       "      <td>-0.0579</td>\n",
       "      <td>...</td>\n",
       "      <td>NaN</td>\n",
       "      <td>0.5</td>\n",
       "      <td>NaN</td>\n",
       "      <td>NaN</td>\n",
       "      <td>NaN</td>\n",
       "      <td>10.0</td>\n",
       "      <td>0.5</td>\n",
       "      <td>8/1/2013</td>\n",
       "      <td>NaN</td>\n",
       "      <td>NaN</td>\n",
       "    </tr>\n",
       "  </tbody>\n",
       "</table>\n",
       "<p>5 rows × 30 columns</p>\n",
       "</div>"
      ],
      "text/plain": [
       "     Unnamed: 0  \\\n",
       "860         860   \n",
       "861         861   \n",
       "862         862   \n",
       "863         863   \n",
       "864         864   \n",
       "\n",
       "                                                                      algo_name  \\\n",
       "860   2_19_trimmed_four_metric_daily_sp500_for_new_presentation_slides_10mil_11   \n",
       "861     2_19_trimmed_four_metric_daily_sp500_for_new_presentation_slides_1mil_2   \n",
       "862     2_19_trimmed_four_metric_daily_sp500_for_new_presentation_slides_1mil_1   \n",
       "863  2_19_trimmed_four_metric_daily_sp500_for_new_presentation_slides_100mil_20   \n",
       "864   2_19_trimmed_four_metric_daily_sp500_for_new_presentation_slides_10mil_10   \n",
       "\n",
       "     alpha  beta  sharpe  sortino  total_returns  benchmark_returns  \\\n",
       "860   0.11  1.03    1.72     2.60         1.7606              0.711   \n",
       "861   0.11  1.03    1.72     2.59         1.7569              0.711   \n",
       "862   0.09 -0.02    1.66     2.61         0.4254              0.711   \n",
       "863   0.08  0.77    1.65     2.50         1.1104              0.711   \n",
       "864   0.08 -0.02    1.61     2.55         0.4040              0.711   \n",
       "\n",
       "     volatility  max_drawdown        ...        event_relevance_cutoff  \\\n",
       "860        0.14       -0.1137        ...                           NaN   \n",
       "861        0.14       -0.1108        ...                           NaN   \n",
       "862        0.05       -0.0436        ...                           NaN   \n",
       "863        0.11       -0.1203        ...                           NaN   \n",
       "864        0.05       -0.0579        ...                           NaN   \n",
       "\n",
       "     long_half  long_sentiment_value  num_stocks_long num_stocks_short  \\\n",
       "860        1.0                   NaN              NaN              NaN   \n",
       "861        1.0                   NaN              NaN              NaN   \n",
       "862        0.5                   NaN              NaN              NaN   \n",
       "863        1.0                   NaN              NaN              NaN   \n",
       "864        0.5                   NaN              NaN              NaN   \n",
       "\n",
       "     num_stocks_to_trade  short_half start_date top_bottom_pct_to_trade  \\\n",
       "860                 10.0         0.0   8/1/2013                     NaN   \n",
       "861                 10.0         0.0   8/1/2013                     NaN   \n",
       "862                 10.0         0.5   8/1/2013                     NaN   \n",
       "863                 10.0         0.0   8/1/2013                     NaN   \n",
       "864                 10.0         0.5   8/1/2013                     NaN   \n",
       "\n",
       "     top_pct_to_trade  \n",
       "860               NaN  \n",
       "861               NaN  \n",
       "862               NaN  \n",
       "863               NaN  \n",
       "864               NaN  \n",
       "\n",
       "[5 rows x 30 columns]"
      ]
     },
     "execution_count": 5,
     "metadata": {},
     "output_type": "execute_result"
    }
   ],
   "source": [
    "four_metric_strat_long_short_df.head()"
   ]
  },
  {
   "cell_type": "code",
   "execution_count": 6,
   "metadata": {},
   "outputs": [
    {
     "data": {
      "text/plain": [
       "Index(['Unnamed: 0', 'algo_name', 'alpha', 'beta', 'sharpe', 'sortino',\n",
       "       'total_returns', 'benchmark_returns', 'volatility', 'max_drawdown',\n",
       "       'backtest_url', 'Unnamed: 0.1', 'MAX_LONG_POSITION_SIZE',\n",
       "       'MAX_SHORT_POSITION_SIZE', 'algo_file', 'bottom_pct_to_trade',\n",
       "       'capital', 'data_file', 'end_date', 'event_impact_pos',\n",
       "       'event_relevance_cutoff', 'long_half', 'long_sentiment_value',\n",
       "       'num_stocks_long', 'num_stocks_short', 'num_stocks_to_trade',\n",
       "       'short_half', 'start_date', 'top_bottom_pct_to_trade',\n",
       "       'top_pct_to_trade'],\n",
       "      dtype='object')"
      ]
     },
     "execution_count": 6,
     "metadata": {},
     "output_type": "execute_result"
    }
   ],
   "source": [
    "four_metric_strat_long_short_df.columns"
   ]
  },
  {
   "cell_type": "code",
   "execution_count": 27,
   "metadata": {},
   "outputs": [
    {
     "data": {
      "text/html": [
       "<div>\n",
       "<table border=\"1\" class=\"dataframe\">\n",
       "  <thead>\n",
       "    <tr style=\"text-align: right;\">\n",
       "      <th></th>\n",
       "      <th>Unnamed: 0</th>\n",
       "      <th>algo_name</th>\n",
       "      <th>alpha</th>\n",
       "      <th>beta</th>\n",
       "      <th>sharpe</th>\n",
       "      <th>sortino</th>\n",
       "      <th>total_returns</th>\n",
       "      <th>benchmark_returns</th>\n",
       "      <th>volatility</th>\n",
       "      <th>max_drawdown</th>\n",
       "      <th>...</th>\n",
       "      <th>event_relevance_cutoff</th>\n",
       "      <th>long_half</th>\n",
       "      <th>long_sentiment_value</th>\n",
       "      <th>num_stocks_long</th>\n",
       "      <th>num_stocks_short</th>\n",
       "      <th>num_stocks_to_trade</th>\n",
       "      <th>short_half</th>\n",
       "      <th>start_date</th>\n",
       "      <th>top_bottom_pct_to_trade</th>\n",
       "      <th>top_pct_to_trade</th>\n",
       "    </tr>\n",
       "  </thead>\n",
       "  <tbody>\n",
       "    <tr>\n",
       "      <th>860</th>\n",
       "      <td>860</td>\n",
       "      <td>2_19_trimmed_four_metric_daily_sp500_for_new_presentation_slides_10mil_11</td>\n",
       "      <td>0.11</td>\n",
       "      <td>1.03</td>\n",
       "      <td>1.72</td>\n",
       "      <td>2.60</td>\n",
       "      <td>1.7606</td>\n",
       "      <td>0.711</td>\n",
       "      <td>0.14</td>\n",
       "      <td>-0.1137</td>\n",
       "      <td>...</td>\n",
       "      <td>NaN</td>\n",
       "      <td>1.0</td>\n",
       "      <td>NaN</td>\n",
       "      <td>NaN</td>\n",
       "      <td>NaN</td>\n",
       "      <td>10.0</td>\n",
       "      <td>0.0</td>\n",
       "      <td>8/1/2013</td>\n",
       "      <td>NaN</td>\n",
       "      <td>NaN</td>\n",
       "    </tr>\n",
       "    <tr>\n",
       "      <th>861</th>\n",
       "      <td>861</td>\n",
       "      <td>2_19_trimmed_four_metric_daily_sp500_for_new_presentation_slides_1mil_2</td>\n",
       "      <td>0.11</td>\n",
       "      <td>1.03</td>\n",
       "      <td>1.72</td>\n",
       "      <td>2.59</td>\n",
       "      <td>1.7569</td>\n",
       "      <td>0.711</td>\n",
       "      <td>0.14</td>\n",
       "      <td>-0.1108</td>\n",
       "      <td>...</td>\n",
       "      <td>NaN</td>\n",
       "      <td>1.0</td>\n",
       "      <td>NaN</td>\n",
       "      <td>NaN</td>\n",
       "      <td>NaN</td>\n",
       "      <td>10.0</td>\n",
       "      <td>0.0</td>\n",
       "      <td>8/1/2013</td>\n",
       "      <td>NaN</td>\n",
       "      <td>NaN</td>\n",
       "    </tr>\n",
       "    <tr>\n",
       "      <th>862</th>\n",
       "      <td>862</td>\n",
       "      <td>2_19_trimmed_four_metric_daily_sp500_for_new_presentation_slides_1mil_1</td>\n",
       "      <td>0.09</td>\n",
       "      <td>-0.02</td>\n",
       "      <td>1.66</td>\n",
       "      <td>2.61</td>\n",
       "      <td>0.4254</td>\n",
       "      <td>0.711</td>\n",
       "      <td>0.05</td>\n",
       "      <td>-0.0436</td>\n",
       "      <td>...</td>\n",
       "      <td>NaN</td>\n",
       "      <td>0.5</td>\n",
       "      <td>NaN</td>\n",
       "      <td>NaN</td>\n",
       "      <td>NaN</td>\n",
       "      <td>10.0</td>\n",
       "      <td>0.5</td>\n",
       "      <td>8/1/2013</td>\n",
       "      <td>NaN</td>\n",
       "      <td>NaN</td>\n",
       "    </tr>\n",
       "    <tr>\n",
       "      <th>863</th>\n",
       "      <td>863</td>\n",
       "      <td>2_19_trimmed_four_metric_daily_sp500_for_new_presentation_slides_100mil_20</td>\n",
       "      <td>0.08</td>\n",
       "      <td>0.77</td>\n",
       "      <td>1.65</td>\n",
       "      <td>2.50</td>\n",
       "      <td>1.1104</td>\n",
       "      <td>0.711</td>\n",
       "      <td>0.11</td>\n",
       "      <td>-0.1203</td>\n",
       "      <td>...</td>\n",
       "      <td>NaN</td>\n",
       "      <td>1.0</td>\n",
       "      <td>NaN</td>\n",
       "      <td>NaN</td>\n",
       "      <td>NaN</td>\n",
       "      <td>10.0</td>\n",
       "      <td>0.0</td>\n",
       "      <td>8/1/2013</td>\n",
       "      <td>NaN</td>\n",
       "      <td>NaN</td>\n",
       "    </tr>\n",
       "    <tr>\n",
       "      <th>864</th>\n",
       "      <td>864</td>\n",
       "      <td>2_19_trimmed_four_metric_daily_sp500_for_new_presentation_slides_10mil_10</td>\n",
       "      <td>0.08</td>\n",
       "      <td>-0.02</td>\n",
       "      <td>1.61</td>\n",
       "      <td>2.55</td>\n",
       "      <td>0.4040</td>\n",
       "      <td>0.711</td>\n",
       "      <td>0.05</td>\n",
       "      <td>-0.0579</td>\n",
       "      <td>...</td>\n",
       "      <td>NaN</td>\n",
       "      <td>0.5</td>\n",
       "      <td>NaN</td>\n",
       "      <td>NaN</td>\n",
       "      <td>NaN</td>\n",
       "      <td>10.0</td>\n",
       "      <td>0.5</td>\n",
       "      <td>8/1/2013</td>\n",
       "      <td>NaN</td>\n",
       "      <td>NaN</td>\n",
       "    </tr>\n",
       "  </tbody>\n",
       "</table>\n",
       "<p>5 rows × 30 columns</p>\n",
       "</div>"
      ],
      "text/plain": [
       "     Unnamed: 0  \\\n",
       "860         860   \n",
       "861         861   \n",
       "862         862   \n",
       "863         863   \n",
       "864         864   \n",
       "\n",
       "                                                                      algo_name  \\\n",
       "860   2_19_trimmed_four_metric_daily_sp500_for_new_presentation_slides_10mil_11   \n",
       "861     2_19_trimmed_four_metric_daily_sp500_for_new_presentation_slides_1mil_2   \n",
       "862     2_19_trimmed_four_metric_daily_sp500_for_new_presentation_slides_1mil_1   \n",
       "863  2_19_trimmed_four_metric_daily_sp500_for_new_presentation_slides_100mil_20   \n",
       "864   2_19_trimmed_four_metric_daily_sp500_for_new_presentation_slides_10mil_10   \n",
       "\n",
       "     alpha  beta  sharpe  sortino  total_returns  benchmark_returns  \\\n",
       "860   0.11  1.03    1.72     2.60         1.7606              0.711   \n",
       "861   0.11  1.03    1.72     2.59         1.7569              0.711   \n",
       "862   0.09 -0.02    1.66     2.61         0.4254              0.711   \n",
       "863   0.08  0.77    1.65     2.50         1.1104              0.711   \n",
       "864   0.08 -0.02    1.61     2.55         0.4040              0.711   \n",
       "\n",
       "     volatility  max_drawdown        ...        event_relevance_cutoff  \\\n",
       "860        0.14       -0.1137        ...                           NaN   \n",
       "861        0.14       -0.1108        ...                           NaN   \n",
       "862        0.05       -0.0436        ...                           NaN   \n",
       "863        0.11       -0.1203        ...                           NaN   \n",
       "864        0.05       -0.0579        ...                           NaN   \n",
       "\n",
       "     long_half  long_sentiment_value  num_stocks_long num_stocks_short  \\\n",
       "860        1.0                   NaN              NaN              NaN   \n",
       "861        1.0                   NaN              NaN              NaN   \n",
       "862        0.5                   NaN              NaN              NaN   \n",
       "863        1.0                   NaN              NaN              NaN   \n",
       "864        0.5                   NaN              NaN              NaN   \n",
       "\n",
       "     num_stocks_to_trade  short_half start_date top_bottom_pct_to_trade  \\\n",
       "860                 10.0         0.0   8/1/2013                     NaN   \n",
       "861                 10.0         0.0   8/1/2013                     NaN   \n",
       "862                 10.0         0.5   8/1/2013                     NaN   \n",
       "863                 10.0         0.0   8/1/2013                     NaN   \n",
       "864                 10.0         0.5   8/1/2013                     NaN   \n",
       "\n",
       "     top_pct_to_trade  \n",
       "860               NaN  \n",
       "861               NaN  \n",
       "862               NaN  \n",
       "863               NaN  \n",
       "864               NaN  \n",
       "\n",
       "[5 rows x 30 columns]"
      ]
     },
     "execution_count": 27,
     "metadata": {},
     "output_type": "execute_result"
    }
   ],
   "source": [
    "four_metric_strat_long_short_df.head()"
   ]
  },
  {
   "cell_type": "code",
   "execution_count": 8,
   "metadata": {},
   "outputs": [],
   "source": [
    "# Construct a heatmap analysis graph for all mixed IS_strats and OOS_strats:\n",
    "df = pd.DataFrame(index = four_metric_strat_long_short_df.index)\n",
    "df['sharpe'] = four_metric_strat_long_short_df.sharpe\n",
    "df['net_exposure_long'] = four_metric_strat_long_short_df.long_half\n",
    "df['number_of_stocks_to_trade'] = four_metric_strat_long_short_df.num_stocks_to_trade\n",
    "df['cap_capacity'] = four_metric_strat_long_short_df.capital\n",
    "df['alpha'] = four_metric_strat_long_short_df.alpha\n",
    "df['beta'] = four_metric_strat_long_short_df.beta\n",
    "df['total_returns'] = four_metric_strat_long_short_df.total_returns\n",
    "df['volatility'] = four_metric_strat_long_short_df.volatility\n",
    "df['max_drawdown'] = four_metric_strat_long_short_df.max_drawdown\n",
    "df_reset_index = df.reset_index()"
   ]
  },
  {
   "cell_type": "code",
   "execution_count": 9,
   "metadata": {},
   "outputs": [],
   "source": [
    "df_1_mil = df_reset_index[df_reset_index.cap_capacity == 1000000]\n",
    "df_100_mil = df_reset_index[df_reset_index.cap_capacity == 100000000]"
   ]
  },
  {
   "cell_type": "code",
   "execution_count": 10,
   "metadata": {
    "collapsed": true
   },
   "outputs": [],
   "source": [
    "sharpe_1_mil = pd.pivot_table(df_1_mil, index = 'number_of_stocks_to_trade', columns=['net_exposure_long'], values='sharpe')\n",
    "alpha_1_mil = pd.pivot_table(df_1_mil, index = 'number_of_stocks_to_trade', columns=['net_exposure_long'], values='alpha')\n",
    "beta_1_mil = pd.pivot_table(df_1_mil, index = 'number_of_stocks_to_trade', columns=['net_exposure_long'], values='beta')\n",
    "vol_1_mil = pd.pivot_table(df_1_mil, index = 'number_of_stocks_to_trade', columns=['net_exposure_long'], values='volatility')\n",
    "total_r_1_mil = pd.pivot_table(df_1_mil, index = 'number_of_stocks_to_trade', columns=['net_exposure_long'], values='total_returns')"
   ]
  },
  {
   "cell_type": "code",
   "execution_count": 11,
   "metadata": {
    "collapsed": true
   },
   "outputs": [],
   "source": [
    "sharpe_100_mil = pd.pivot_table(df_100_mil, index = 'number_of_stocks_to_trade', columns=['net_exposure_long'], values='sharpe')\n",
    "alpha_100_mil = pd.pivot_table(df_100_mil, index = 'number_of_stocks_to_trade', columns=['net_exposure_long'], values='alpha')\n",
    "beta_100_mil = pd.pivot_table(df_100_mil, index = 'number_of_stocks_to_trade', columns=['net_exposure_long'], values='beta')\n",
    "vol_100_mil = pd.pivot_table(df_100_mil, index = 'number_of_stocks_to_trade', columns=['net_exposure_long'], values='volatility')\n",
    "total_r_100_mil = pd.pivot_table(df_100_mil, index = 'number_of_stocks_to_trade', columns=['net_exposure_long'], values='total_returns')"
   ]
  },
  {
   "cell_type": "code",
   "execution_count": 34,
   "metadata": {
    "collapsed": true
   },
   "outputs": [
    {
     "data": {
      "text/plain": [
       "<matplotlib.text.Text at 0xe4e41d0>"
      ]
     },
     "execution_count": 34,
     "metadata": {},
     "output_type": "execute_result"
    },
    {
     "data": {
      "image/png": "[encoded data removed]",
      "text/plain": [
       "<matplotlib.figure.Figure at 0xe630da0>"
      ]
     },
     "metadata": {},
     "output_type": "display_data"
    }
   ],
   "source": [
    "fig, ax1 = plt.subplots(figsize=(10,8))         # Sample figsize in inches\n",
    "sns.heatmap(sharpe_1_mil, cmap = 'Greens',ax=ax1, vmin=0)\n",
    "plt.title('Parameter_Sensitivity_Analysis_on_Sharpe_Ratio_1_million_capital', fontsize = 14)"
   ]
  },
  {
   "cell_type": "code",
   "execution_count": 36,
   "metadata": {
    "collapsed": true
   },
   "outputs": [
    {
     "data": {
      "text/plain": [
       "<matplotlib.text.Text at 0xf005c88>"
      ]
     },
     "execution_count": 36,
     "metadata": {},
     "output_type": "execute_result"
    },
    {
     "data": {
      "image/png": "[encoded data removed]",
      "text/plain": [
       "<matplotlib.figure.Figure at 0xe682eb8>"
      ]
     },
     "metadata": {},
     "output_type": "display_data"
    }
   ],
   "source": [
    "fig, ax2 = plt.subplots(figsize=(10,8))         # Sample figsize in inches\n",
    "sns.heatmap(sharpe_100_mil, cmap = 'Greens',ax=ax2, vmin=0)\n",
    "plt.title('Parameter_Sensitivity_Analysis_on_Sharpe_Ratio_100_million_capital', fontsize = 14)"
   ]
  },
  {
   "cell_type": "code",
   "execution_count": 24,
   "metadata": {
    "collapsed": true
   },
   "outputs": [],
   "source": [
    "def get_heatmap(df, metric_str, cap):\n",
    "    fig, ax = plt.subplots(figsize=(10,8))         # Sample figsize in inches\n",
    "    cmap = sns.diverging_palette(200, 20, sep=20, as_cmap=True)\n",
    "    sns.heatmap(df, cmap = cmap, ax=ax)\n",
    "    plt.title('Parameter_Sensitivity_Analysis_on_{}_{}_million_capital'.format(metric_str, cap), fontsize = 14)"
   ]
  },
  {
   "cell_type": "code",
   "execution_count": 26,
   "metadata": {},
   "outputs": [
    {
     "data": {
      "image/png": "[encoded data removed]",
      "text/plain": [
       "<matplotlib.figure.Figure at 0xdf75978>"
      ]
     },
     "metadata": {},
     "output_type": "display_data"
    }
   ],
   "source": [
    "get_heatmap(sharpe_1_mil, 'Portfolio_Volatility', '100')"
   ]
  }
 ],
 "metadata": {
  "anaconda-cloud": {},
  "hide_input": false,
  "kernelspec": {
   "display_name": "Python 3",
   "language": "python",
   "name": "python3"
  },
  "language_info": {
   "codemirror_mode": {
    "name": "ipython",
    "version": 3
   },
   "file_extension": ".py",
   "mimetype": "text/x-python",
   "name": "python",
   "nbconvert_exporter": "python",
   "pygments_lexer": "ipython3",
   "version": "3.6.4"
  },
  "nav_menu": {},
  "toc": {
   "navigate_menu": true,
   "number_sections": true,
   "sideBar": true,
   "threshold": 6,
   "toc_cell": false,
   "toc_section_display": "block",
   "toc_window_display": false
  }
 },
 "nbformat": 4,
 "nbformat_minor": 2
}
