{
 "cells": [
  {
   "cell_type": "code",
   "execution_count": 2,
   "metadata": {},
   "outputs": [],
   "source": [
    "import tushare as ts\n",
    "import pandas as pd, numpy as np\n",
    "import matplotlib.pyplot as plt\n",
    "import seaborn as sns\n",
    "\n",
    "%matplotlib inline"
   ]
  },
  {
   "cell_type": "markdown",
   "metadata": {},
   "source": [
    "1. Oil Index (collected: https://fred.stlouisfed.org/series/DCOILWTICO) (important since also mentioned in Ernest's book),\n",
    "2. Dollar Index (collected: https://fred.stlouisfed.org/series/DTWEXB),\n",
    "3. Gold Vol Index (collected: https://fred.stlouisfed.org/series/GVZCLS),\n",
    "4. Moody's Aaa Corporate Bond Index (collected: https://fred.stlouisfed.org/series/DAAA),\n",
    "5. VIX Index (collected: https://fred.stlouisfed.org/series/VIXCLS),\n",
    "6. Consumer Confidence Measure (such as the Conference Board’s February survey) with other macro indexes (important, since mentioned also in the Ernest's book),\n",
    "7. Times of hitting record high by several major stock market indexes,\n",
    "8. Times of market trading price compare with its historical average earnings,\n",
    "9. Years of lasting for the bull market compared with the historical average years of bull market right before each bear market,\n",
    "10. Spread between short and long term T-bill (3-month and 10-year) compared with pre-2008 (collected: https://fred.stlouisfed.org/series/T10Y3M),\n",
    "11. Job losses index and data: \\\"Unemployment Rate: Job Losers\\\": (collected: https://fred.stlouisfed.org/series/U2RATE),\n",
    "12. Real Personal Consuming Expenditures including food and energy: (collected: https://fred.stlouisfed.org/series/PCEC96),\n",
    "13. Real Personal Consuming Expenditures excluding food and energy: (collected: https://fred.stlouisfed.org/series/DPCCRX1M020SBEA),\n",
    "14. Squeezing corporate profits *very useful in predicting big market drawdown: (collected: https://fred.stlouisfed.org/series/CP),\n",
    "15. Conference Board’s Leading Economic Index,  which consists of 10 data points that predict future economic performance.\n",
    "16. Quarterly GDP slowing down (collected: https://fred.stlouisfed.org/series/GDPC1),\n",
    "17. Real Manufacturing Output: (Collected: https://fred.stlouisfed.org/series/OUTMS),\n",
    "18. Servicing segments of the economy: (Collected: https://fred.stlouisfed.org/series/SRVPRD),\n",
    "19. Major industry leaders' profits turning down for consecutive quarters\n",
    "20. Wilshire 5000 Total Market Cap Price Index & market valuation: (Collected: https://fred.stlouisfed.org/series/WILL5000PRFC),\n",
    "    (Collected: https://www.gurufocus.com/stock-market-valuations.php),\n",
    "21. Financial distress condition index: (collected: https://fred.stlouisfed.org/series/NFCI),\n",
    "21. Ones that do best when times are good, such as banks, transportation companies and businesses that sell stuff to consumers that isn’t needed for daily survival.\n",
    "22. New housing starts: (Collected: https://fred.stlouisfed.org/series/NFCI)\n",
    "23. A rising market driven by fewer and fewer stocks is a bearish sign. Clues  include more stocks going down than up on a daily basis and more stocks hitting 52-week lows than highs. “It is one of the most reliable bear market warning flags,” says Stack.\n",
    "24. When the number of stocks hitting their lowest price levels in a year starts to swell, and if the new low list grows day after day, it’s a sign that the \\\"smart money,\\\" or professional investors, are bailing out of the market. “It means investors are becoming desperate to sell, even ... at a loss,” Stack says.\n",
    "25. U.S. Retirement fund\n",
    "26. Balance Sheet\n",
    "27. U.S. Weekly Leading Index: (Collected: https://www.quandl.com/data/ECRI/USLEADING-U-S-Weekly-Leading-Index)\n",
    "28. Household Debt to GDP: (Collected: https://fred.stlouisfed.org/series/HDTGPDUSQ163N?utm_source=series_page&utm_medium=related_content&utm_term=related_resources&utm_campaign=categories)\n",
    "29. US Econ Coincident Index: (Collected: https://www.quandl.com/data/ECRI/USCOIN-U-S-Coincident-Index)\n",
    "30. Put-call ratio on SPY\\n\",\n",
    "31. Fed Reserve sentiment signals: https://www.quantopian.com/posts/does-federal-reserve-sentiment-predict-prices-of-macro-tracking-etfs\n",
    "32. Inflation level: Trigger of the Feb 3, 2018 market crash\n",
    "33. Cyclically adjusted price to earnings, https://www.rt.com/op-ed/418057-us-stock-crash-banks/\n",
    "34. Increasing chatter about impending boom or bust may actually be a good predictor of a coming turning point. (suggested by Robert Schiller (2007), in Ernest's book Quant Trading)\n",
    "35. Predict volatility regime change (to enter high/low regime) using GARCH model"
   ]
  },
  {
   "cell_type": "code",
   "execution_count": 3,
   "metadata": {},
   "outputs": [],
   "source": [
    "from fredapi import Fred     \n",
    "from datetime import datetime"
   ]
  },
  {
   "cell_type": "code",
   "execution_count": 10,
   "metadata": {},
   "outputs": [],
   "source": [
    "# generate a series of interest rate\n",
    "def fred_3mon_ir(start, end):\n",
    "    fred = Fred(api_key='3de60b3b483033f57252b59f497000cf')\n",
    "    s = fred.get_series('DTB3', observation_start=start, observation_end=end)\n",
    "    return s\n",
    "\n",
    "# generate the most updated interest rate\n",
    "def fred_3mon_ir_today(end = datetime.now()):\n",
    "    fred = Fred(api_key='3de60b3b483033f57252b59f497000cf')\n",
    "    s = fred.get_series('DTB3', observation_end=end)\n",
    "    return s[-1]/100\n",
    "\n",
    "def fred_1r_ir_today(end = datetime.now()):\n",
    "    if USE_API:\n",
    "        fred = Fred(api_key='3de60b3b483033f57252b59f497000cf')\n",
    "        s = fred.get_series('DGS1', observation_end=end)\n",
    "        return s[-1]/100\n",
    "    else:\n",
    "        return 1.2/100\n",
    "\n",
    "# fred_data('DTB3', '2012-09-02', '2014-09-05')\n",
    "\n",
    "def ten_yr_rate(start, end):\n",
    "    fred = Fred(api_key='3de60b3b483033f57252b59f497000cf')\n",
    "    s = fred.get_series('DGS10', observation_start=start, observation_end=end)\n",
    "    return s\n",
    "\n",
    "def three_fin_rate(start, end):\n",
    "    fred = Fred(api_key='3de60b3b483033f57252b59f497000cf')\n",
    "    s = fred.get_series('DCPF3M', observation_start=start, observation_end=end)\n",
    "    return s\n",
    "\n",
    "def three_nonfin_rate(start, end):\n",
    "    fred = Fred(api_key='3de60b3b483033f57252b59f497000cf')\n",
    "    s = fred.get_series('CPN3M', observation_start=start, observation_end=end)\n",
    "    return s\n",
    "\n",
    "def three_rate(start, end):\n",
    "    fred = Fred(api_key='3de60b3b483033f57252b59f497000cf')\n",
    "    s = fred.get_series('TB3MS', observation_start=start, observation_end=end)\n",
    "    return s\n",
    "\n",
    "def fed_total_asset(start, end):\n",
    "    fred = Fred(api_key='3de60b3b483033f57252b59f497000cf')\n",
    "    s = fred.get_series('WALCL', observation_start=start, observation_end=end)\n",
    "    return s\n",
    "\n",
    "def high_yield_rate(start, end):\n",
    "    fred = Fred(api_key='3de60b3b483033f57252b59f497000cf')\n",
    "    s = fred.get_series('BAMLH0A0HYM2EY', observation_start=start, observation_end=end)\n",
    "    return s\n",
    "\n",
    "def spx(start, end):\n",
    "    fred = Fred(api_key='3de60b3b483033f57252b59f497000cf')\n",
    "    s = fred.get_series('SP500', observation_start=start, observation_end=end)\n",
    "    return s\n",
    "\n",
    "def unemployment(start, end):\n",
    "    fred = Fred(api_key='3de60b3b483033f57252b59f497000cf')\n",
    "    s = fred.get_series('UNRATE', observation_start=start, observation_end=end)\n",
    "    return s\n",
    "\n",
    "def cpi(start, end):\n",
    "    fred = Fred(api_key='3de60b3b483033f57252b59f497000cf')\n",
    "    s = fred.get_series('CPIAUCSL', observation_start=start, observation_end=end)\n",
    "    return s\n",
    "\n",
    "def effective_fed_rate(start, end):\n",
    "    fred = Fred(api_key='3de60b3b483033f57252b59f497000cf')\n",
    "    s = fred.get_series('FEDFUNDS', observation_start=start, observation_end=end)\n",
    "    return s\n",
    "\n",
    "# industrial production index\n",
    "def ipi(start, end):\n",
    "    fred = Fred(api_key='3de60b3b483033f57252b59f497000cf')\n",
    "    s = fred.get_series('INDPRO', observation_start=start, observation_end=end)\n",
    "    return s\n",
    "\n",
    "def m2(start, end):\n",
    "    fred = Fred(api_key='3de60b3b483033f57252b59f497000cf')\n",
    "    s = fred.get_series('M2', observation_start=start, observation_end=end)\n",
    "    return s\n",
    "\n",
    "def ppi(start, end):\n",
    "    fred = Fred(api_key='3de60b3b483033f57252b59f497000cf')\n",
    "    s = fred.get_series('PCUOMFGOMFG', observation_start=start, observation_end=end)\n",
    "    return s\n",
    "\n",
    "def gdp(start, end):\n",
    "    fred = Fred(api_key='3de60b3b483033f57252b59f497000cf')\n",
    "    s = fred.get_series('A191RL1Q225SBEA', observation_start=start, observation_end=end)\n",
    "    return s\n",
    "\n",
    "def debt_to_equity(start, end):\n",
    "    fred = Fred(api_key='3de60b3b483033f57252b59f497000cf')\n",
    "    s = fred.get_series('TOTDTEUSQ163N', observation_start=start, observation_end=end)\n",
    "    return s\n",
    "\n",
    "# import urllib.request, urllib.error, urllib.parse\n",
    "\n",
    "def put_call(start, end):\n",
    "    urlStr = 'http://www.cboe.com/publish/ScheduledTask/MktData/datahouse/totalpc.csv'\n",
    "    df_ = pd.read_csv(urllib.request.urlopen(urlStr), header = 2, index_col=0,parse_dates=True)\n",
    "    df = df_['P/C Ratio']\n",
    "    return df[start:end]\n",
    "\n",
    "def ten_yr_3_month_rate_sprd(start, end):\n",
    "    fred = Fred(api_key='3de60b3b483033f57252b59f497000cf')\n",
    "    s = fred.get_series('T10Y3M', observation_start=start, observation_end=end)\n",
    "    return s"
   ]
  },
  {
   "cell_type": "code",
   "execution_count": 17,
   "metadata": {},
   "outputs": [],
   "source": [
    "start = \"2000-01-01\"\n",
    "end = \"2019-10-22\"\n",
    "\n",
    "une = unemployment(start, end)"
   ]
  },
  {
   "cell_type": "code",
   "execution_count": 18,
   "metadata": {},
   "outputs": [
    {
     "data": {
      "text/plain": [
       "<matplotlib.axes._subplots.AxesSubplot at 0x2924f429940>"
      ]
     },
     "execution_count": 18,
     "metadata": {},
     "output_type": "execute_result"
    },
    {
     "data": {
      "image/png": "[encoded data removed]",
      "text/plain": [
       "<Figure size 1296x432 with 1 Axes>"
      ]
     },
     "metadata": {
      "needs_background": "light"
     },
     "output_type": "display_data"
    }
   ],
   "source": [
    "une.plot(figsize = (18,6))"
   ]
  },
  {
   "cell_type": "code",
   "execution_count": null,
   "metadata": {},
   "outputs": [],
   "source": []
  }
 ],
 "metadata": {
  "kernelspec": {
   "display_name": "Python 3",
   "language": "python",
   "name": "python3"
  },
  "language_info": {
   "codemirror_mode": {
    "name": "ipython",
    "version": 3
   },
   "file_extension": ".py",
   "mimetype": "text/x-python",
   "name": "python",
   "nbconvert_exporter": "python",
   "pygments_lexer": "ipython3",
   "version": "3.6.10"
  }
 },
 "nbformat": 4,
 "nbformat_minor": 2
}
