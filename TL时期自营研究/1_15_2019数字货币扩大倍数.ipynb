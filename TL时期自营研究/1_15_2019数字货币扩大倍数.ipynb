{
 "cells": [
  {
   "cell_type": "code",
   "execution_count": 1,
   "metadata": {
    "collapsed": true
   },
   "outputs": [],
   "source": [
    "import pandas as pd, numpy as np"
   ]
  },
  {
   "cell_type": "code",
   "execution_count": 60,
   "metadata": {
    "collapsed": true
   },
   "outputs": [],
   "source": [
    "location = 'C:/Users/workspace/brad_public_workspace_on_win/SH_tongliang/strats/crypto_new_strats_1_15_2019/'"
   ]
  },
  {
   "cell_type": "code",
   "execution_count": 61,
   "metadata": {
    "collapsed": true
   },
   "outputs": [],
   "source": [
    "file1 = \"res_btcusdt_15m.csv\"\n",
    "file2 = \"res_eosbtc_15m.csv\"\n",
    "file3 = \"res_ethbtc_15m.csv\""
   ]
  },
  {
   "cell_type": "code",
   "execution_count": 73,
   "metadata": {
    "collapsed": true
   },
   "outputs": [],
   "source": [
    "btcusdt = pd.read_csv(location+file1, header=None)\n",
    "eosbtc = pd.read_csv(location+file2, header=None)\n",
    "ethbtc = pd.read_csv(location+file3, header=None)"
   ]
  },
  {
   "cell_type": "code",
   "execution_count": 74,
   "metadata": {},
   "outputs": [
    {
     "data": {
      "text/html": [
       "<div>\n",
       "<table border=\"1\" class=\"dataframe\">\n",
       "  <thead>\n",
       "    <tr style=\"text-align: right;\">\n",
       "      <th></th>\n",
       "      <th>0</th>\n",
       "      <th>1</th>\n",
       "      <th>2</th>\n",
       "      <th>3</th>\n",
       "      <th>4</th>\n",
       "      <th>5</th>\n",
       "    </tr>\n",
       "  </thead>\n",
       "  <tbody>\n",
       "    <tr>\n",
       "      <th>0</th>\n",
       "      <td>2017-12-08 00:00:00</td>\n",
       "      <td>15403.93</td>\n",
       "      <td>15879.37</td>\n",
       "      <td>15403.92</td>\n",
       "      <td>15878.52</td>\n",
       "      <td>1.835196e+06</td>\n",
       "    </tr>\n",
       "    <tr>\n",
       "      <th>1</th>\n",
       "      <td>2017-12-08 00:15:00</td>\n",
       "      <td>15878.53</td>\n",
       "      <td>15888.00</td>\n",
       "      <td>15730.51</td>\n",
       "      <td>15807.77</td>\n",
       "      <td>3.995312e+06</td>\n",
       "    </tr>\n",
       "    <tr>\n",
       "      <th>2</th>\n",
       "      <td>2017-12-08 00:30:00</td>\n",
       "      <td>15807.77</td>\n",
       "      <td>15810.02</td>\n",
       "      <td>15398.01</td>\n",
       "      <td>15582.99</td>\n",
       "      <td>4.608830e+06</td>\n",
       "    </tr>\n",
       "  </tbody>\n",
       "</table>\n",
       "</div>"
      ],
      "text/plain": [
       "                     0         1         2         3         4             5\n",
       "0  2017-12-08 00:00:00  15403.93  15879.37  15403.92  15878.52  1.835196e+06\n",
       "1  2017-12-08 00:15:00  15878.53  15888.00  15730.51  15807.77  3.995312e+06\n",
       "2  2017-12-08 00:30:00  15807.77  15810.02  15398.01  15582.99  4.608830e+06"
      ]
     },
     "execution_count": 74,
     "metadata": {},
     "output_type": "execute_result"
    }
   ],
   "source": [
    "btcusdt.head(3)"
   ]
  },
  {
   "cell_type": "code",
   "execution_count": null,
   "metadata": {
    "collapsed": true
   },
   "outputs": [],
   "source": [
    "btcusdt"
   ]
  },
  {
   "cell_type": "code",
   "execution_count": 120,
   "metadata": {},
   "outputs": [
    {
     "ename": "SyntaxError",
     "evalue": "invalid syntax (<ipython-input-120-fbd7661f75dd>, line 1)",
     "output_type": "error",
     "traceback": [
      "\u001b[1;36m  File \u001b[1;32m\"<ipython-input-120-fbd7661f75dd>\"\u001b[1;36m, line \u001b[1;32m1\u001b[0m\n\u001b[1;33m    btcusdt[['2019-01-01 02:45:00':'2019-01-01 07:00:00']]\u001b[0m\n\u001b[1;37m                                  ^\u001b[0m\n\u001b[1;31mSyntaxError\u001b[0m\u001b[1;31m:\u001b[0m invalid syntax\n"
     ]
    }
   ],
   "source": [
    "btcusdt[btcusdt['2019-01-01 02:45:00''2019-01-01 07:00:00']]"
   ]
  },
  {
   "cell_type": "code",
   "execution_count": 75,
   "metadata": {},
   "outputs": [
    {
     "data": {
      "text/html": [
       "<div>\n",
       "<table border=\"1\" class=\"dataframe\">\n",
       "  <thead>\n",
       "    <tr style=\"text-align: right;\">\n",
       "      <th></th>\n",
       "      <th>0</th>\n",
       "      <th>1</th>\n",
       "      <th>2</th>\n",
       "      <th>3</th>\n",
       "      <th>4</th>\n",
       "      <th>5</th>\n",
       "    </tr>\n",
       "  </thead>\n",
       "  <tbody>\n",
       "    <tr>\n",
       "      <th>0</th>\n",
       "      <td>2017-12-08 00:00:00</td>\n",
       "      <td>0.000233</td>\n",
       "      <td>0.000245</td>\n",
       "      <td>0.000233</td>\n",
       "      <td>0.000233</td>\n",
       "      <td>9.574111</td>\n",
       "    </tr>\n",
       "    <tr>\n",
       "      <th>1</th>\n",
       "      <td>2017-12-08 00:15:00</td>\n",
       "      <td>0.000239</td>\n",
       "      <td>0.000250</td>\n",
       "      <td>0.000230</td>\n",
       "      <td>0.000240</td>\n",
       "      <td>13.607629</td>\n",
       "    </tr>\n",
       "    <tr>\n",
       "      <th>2</th>\n",
       "      <td>2017-12-08 00:30:00</td>\n",
       "      <td>0.000240</td>\n",
       "      <td>0.000245</td>\n",
       "      <td>0.000231</td>\n",
       "      <td>0.000243</td>\n",
       "      <td>14.306783</td>\n",
       "    </tr>\n",
       "  </tbody>\n",
       "</table>\n",
       "</div>"
      ],
      "text/plain": [
       "                     0         1         2         3         4          5\n",
       "0  2017-12-08 00:00:00  0.000233  0.000245  0.000233  0.000233   9.574111\n",
       "1  2017-12-08 00:15:00  0.000239  0.000250  0.000230  0.000240  13.607629\n",
       "2  2017-12-08 00:30:00  0.000240  0.000245  0.000231  0.000243  14.306783"
      ]
     },
     "execution_count": 75,
     "metadata": {},
     "output_type": "execute_result"
    }
   ],
   "source": [
    "eosbtc.head(3)"
   ]
  },
  {
   "cell_type": "code",
   "execution_count": 76,
   "metadata": {},
   "outputs": [
    {
     "data": {
      "text/html": [
       "<div>\n",
       "<table border=\"1\" class=\"dataframe\">\n",
       "  <thead>\n",
       "    <tr style=\"text-align: right;\">\n",
       "      <th></th>\n",
       "      <th>0</th>\n",
       "      <th>1</th>\n",
       "      <th>2</th>\n",
       "      <th>3</th>\n",
       "      <th>4</th>\n",
       "      <th>5</th>\n",
       "    </tr>\n",
       "  </thead>\n",
       "  <tbody>\n",
       "    <tr>\n",
       "      <th>0</th>\n",
       "      <td>2017-12-08 00:00:00</td>\n",
       "      <td>0.026218</td>\n",
       "      <td>0.026218</td>\n",
       "      <td>0.025571</td>\n",
       "      <td>0.025574</td>\n",
       "      <td>9.335432</td>\n",
       "    </tr>\n",
       "    <tr>\n",
       "      <th>1</th>\n",
       "      <td>2017-12-08 00:15:00</td>\n",
       "      <td>0.025574</td>\n",
       "      <td>0.025741</td>\n",
       "      <td>0.025100</td>\n",
       "      <td>0.025205</td>\n",
       "      <td>18.530062</td>\n",
       "    </tr>\n",
       "    <tr>\n",
       "      <th>2</th>\n",
       "      <td>2017-12-08 00:30:00</td>\n",
       "      <td>0.025205</td>\n",
       "      <td>0.026457</td>\n",
       "      <td>0.025205</td>\n",
       "      <td>0.025826</td>\n",
       "      <td>16.680370</td>\n",
       "    </tr>\n",
       "  </tbody>\n",
       "</table>\n",
       "</div>"
      ],
      "text/plain": [
       "                     0         1         2         3         4          5\n",
       "0  2017-12-08 00:00:00  0.026218  0.026218  0.025571  0.025574   9.335432\n",
       "1  2017-12-08 00:15:00  0.025574  0.025741  0.025100  0.025205  18.530062\n",
       "2  2017-12-08 00:30:00  0.025205  0.026457  0.025205  0.025826  16.680370"
      ]
     },
     "execution_count": 76,
     "metadata": {},
     "output_type": "execute_result"
    }
   ],
   "source": [
    "ethbtc.head(3)"
   ]
  },
  {
   "cell_type": "code",
   "execution_count": 66,
   "metadata": {},
   "outputs": [
    {
     "data": {
      "text/plain": [
       "0    2017-12-08 00:00:00\n",
       "1                3165.59\n",
       "2                3174.54\n",
       "3                   3155\n",
       "4                3165.57\n",
       "5                      0\n",
       "dtype: object"
      ]
     },
     "execution_count": 66,
     "metadata": {},
     "output_type": "execute_result"
    }
   ],
   "source": [
    "# 1000000/btcusdt\n",
    "btcusdt.min()"
   ]
  },
  {
   "cell_type": "code",
   "execution_count": 67,
   "metadata": {},
   "outputs": [
    {
     "data": {
      "text/plain": [
       "0    2017-12-08 00:00:00\n",
       "1             0.00022002\n",
       "2             0.00022152\n",
       "3               0.000212\n",
       "4             0.00022002\n",
       "5                      0\n",
       "dtype: object"
      ]
     },
     "execution_count": 67,
     "metadata": {},
     "output_type": "execute_result"
    }
   ],
   "source": [
    "# 1000000*eosbtc\n",
    "eosbtc.min()"
   ]
  },
  {
   "cell_type": "code",
   "execution_count": 68,
   "metadata": {},
   "outputs": [
    {
     "data": {
      "text/plain": [
       "0    2017-12-08 00:00:00\n",
       "1               0.023629\n",
       "2               0.023761\n",
       "3                 0.0234\n",
       "4                0.02358\n",
       "5                      0\n",
       "dtype: object"
      ]
     },
     "execution_count": 68,
     "metadata": {},
     "output_type": "execute_result"
    }
   ],
   "source": [
    "# 1000000*ethbtc\n",
    "ethbtc.min()"
   ]
  },
  {
   "cell_type": "code",
   "execution_count": 77,
   "metadata": {},
   "outputs": [
    {
     "data": {
      "text/html": [
       "<div>\n",
       "<table border=\"1\" class=\"dataframe\">\n",
       "  <thead>\n",
       "    <tr style=\"text-align: right;\">\n",
       "      <th></th>\n",
       "      <th>0</th>\n",
       "      <th>1</th>\n",
       "      <th>2</th>\n",
       "      <th>3</th>\n",
       "      <th>4</th>\n",
       "      <th>5</th>\n",
       "    </tr>\n",
       "  </thead>\n",
       "  <tbody>\n",
       "    <tr>\n",
       "      <th>0</th>\n",
       "      <td>2017-12-08 00:00:00</td>\n",
       "      <td>64.92</td>\n",
       "      <td>62.97</td>\n",
       "      <td>64.92</td>\n",
       "      <td>62.98</td>\n",
       "      <td>1.835196e+06</td>\n",
       "    </tr>\n",
       "    <tr>\n",
       "      <th>1</th>\n",
       "      <td>2017-12-08 00:15:00</td>\n",
       "      <td>62.98</td>\n",
       "      <td>62.94</td>\n",
       "      <td>63.57</td>\n",
       "      <td>63.26</td>\n",
       "      <td>3.995312e+06</td>\n",
       "    </tr>\n",
       "  </tbody>\n",
       "</table>\n",
       "</div>"
      ],
      "text/plain": [
       "                     0      1      2      3      4             5\n",
       "0  2017-12-08 00:00:00  64.92  62.97  64.92  62.98  1.835196e+06\n",
       "1  2017-12-08 00:15:00  62.98  62.94  63.57  63.26  3.995312e+06"
      ]
     },
     "execution_count": 77,
     "metadata": {},
     "output_type": "execute_result"
    }
   ],
   "source": [
    "# btc\n",
    "btcusdt_cols = 1000000/btcusdt[[1, 2, 3, 4]]\n",
    "btcusdt[[1, 2, 3, 4]] = btcusdt_cols.round(2)\n",
    "btcusdt.head(2)"
   ]
  },
  {
   "cell_type": "code",
   "execution_count": 78,
   "metadata": {},
   "outputs": [
    {
     "data": {
      "text/html": [
       "<div>\n",
       "<table border=\"1\" class=\"dataframe\">\n",
       "  <thead>\n",
       "    <tr style=\"text-align: right;\">\n",
       "      <th></th>\n",
       "      <th>0</th>\n",
       "      <th>1</th>\n",
       "      <th>2</th>\n",
       "      <th>3</th>\n",
       "      <th>4</th>\n",
       "      <th>5</th>\n",
       "    </tr>\n",
       "  </thead>\n",
       "  <tbody>\n",
       "    <tr>\n",
       "      <th>0</th>\n",
       "      <td>2017-12-08 00:00:00</td>\n",
       "      <td>233.33</td>\n",
       "      <td>245.0</td>\n",
       "      <td>233.0</td>\n",
       "      <td>233.39</td>\n",
       "      <td>9.574111</td>\n",
       "    </tr>\n",
       "    <tr>\n",
       "      <th>1</th>\n",
       "      <td>2017-12-08 00:15:00</td>\n",
       "      <td>239.40</td>\n",
       "      <td>249.7</td>\n",
       "      <td>230.0</td>\n",
       "      <td>240.00</td>\n",
       "      <td>13.607629</td>\n",
       "    </tr>\n",
       "  </tbody>\n",
       "</table>\n",
       "</div>"
      ],
      "text/plain": [
       "                     0       1      2      3       4          5\n",
       "0  2017-12-08 00:00:00  233.33  245.0  233.0  233.39   9.574111\n",
       "1  2017-12-08 00:15:00  239.40  249.7  230.0  240.00  13.607629"
      ]
     },
     "execution_count": 78,
     "metadata": {},
     "output_type": "execute_result"
    }
   ],
   "source": [
    "# eos\n",
    "eosbtc_cols = 1000000*eosbtc[[1, 2, 3, 4]]\n",
    "eosbtc[[1, 2, 3, 4]] = eosbtc_cols\n",
    "eosbtc.head(2)"
   ]
  },
  {
   "cell_type": "code",
   "execution_count": 79,
   "metadata": {},
   "outputs": [
    {
     "data": {
      "text/html": [
       "<div>\n",
       "<table border=\"1\" class=\"dataframe\">\n",
       "  <thead>\n",
       "    <tr style=\"text-align: right;\">\n",
       "      <th></th>\n",
       "      <th>0</th>\n",
       "      <th>1</th>\n",
       "      <th>2</th>\n",
       "      <th>3</th>\n",
       "      <th>4</th>\n",
       "      <th>5</th>\n",
       "    </tr>\n",
       "  </thead>\n",
       "  <tbody>\n",
       "    <tr>\n",
       "      <th>0</th>\n",
       "      <td>2017-12-08 00:00:00</td>\n",
       "      <td>26218.0</td>\n",
       "      <td>26218.0</td>\n",
       "      <td>25571.0</td>\n",
       "      <td>25574.0</td>\n",
       "      <td>9.335432</td>\n",
       "    </tr>\n",
       "    <tr>\n",
       "      <th>1</th>\n",
       "      <td>2017-12-08 00:15:00</td>\n",
       "      <td>25574.0</td>\n",
       "      <td>25741.0</td>\n",
       "      <td>25100.0</td>\n",
       "      <td>25205.0</td>\n",
       "      <td>18.530062</td>\n",
       "    </tr>\n",
       "  </tbody>\n",
       "</table>\n",
       "</div>"
      ],
      "text/plain": [
       "                     0        1        2        3        4          5\n",
       "0  2017-12-08 00:00:00  26218.0  26218.0  25571.0  25574.0   9.335432\n",
       "1  2017-12-08 00:15:00  25574.0  25741.0  25100.0  25205.0  18.530062"
      ]
     },
     "execution_count": 79,
     "metadata": {},
     "output_type": "execute_result"
    }
   ],
   "source": [
    "# eth\n",
    "ethbtc_cols = 1000000*ethbtc[[1, 2, 3, 4]]\n",
    "ethbtc[[1, 2, 3, 4]] = ethbtc_cols\n",
    "ethbtc.head(2)"
   ]
  },
  {
   "cell_type": "code",
   "execution_count": 89,
   "metadata": {
    "collapsed": true
   },
   "outputs": [],
   "source": [
    "btcusdt.sort_values(0, ascending=False, inplace=True)\n",
    "ethbtc.sort_values(0, ascending=False, inplace=True)\n",
    "eosbtc.sort_values(0, ascending=False, inplace=True)"
   ]
  },
  {
   "cell_type": "code",
   "execution_count": 96,
   "metadata": {
    "collapsed": true
   },
   "outputs": [],
   "source": [
    "btcusdt[0] = pd.to_datetime(btcusdt[0])\n",
    "ethbtc[0] = pd.to_datetime(ethbtc[0])\n",
    "eosbtc[0] = pd.to_datetime(eosbtc[0])"
   ]
  },
  {
   "cell_type": "code",
   "execution_count": 114,
   "metadata": {
    "collapsed": true
   },
   "outputs": [],
   "source": [
    "btcusdt.to_csv(location+\"res_btc_contract_15m.csv\", index = False, header = None)\n",
    "ethbtc.to_csv(location+\"res_eth_contract_15m.csv\", index = False, header = None)\n",
    "eosbtc.to_csv(location+\"res_eos_contract_15m.csv\", index = False, header = None)"
   ]
  },
  {
   "cell_type": "code",
   "execution_count": 121,
   "metadata": {
    "collapsed": true
   },
   "outputs": [],
   "source": [
    "btcusdt_res = pd.read_csv(location+\"res_btc_contract_15m.csv\", header =None)\n",
    "ethbtc_res = pd.read_csv(location+\"res_eth_contract_15m.csv\", header = None)\n",
    "eosbtc_res = pd.read_csv(location+\"res_eos_contract_15m.csv\", header = None)"
   ]
  },
  {
   "cell_type": "code",
   "execution_count": 122,
   "metadata": {},
   "outputs": [
    {
     "data": {
      "text/html": [
       "<div>\n",
       "<table border=\"1\" class=\"dataframe\">\n",
       "  <thead>\n",
       "    <tr style=\"text-align: right;\">\n",
       "      <th></th>\n",
       "      <th>0</th>\n",
       "      <th>1</th>\n",
       "      <th>2</th>\n",
       "      <th>3</th>\n",
       "      <th>4</th>\n",
       "      <th>5</th>\n",
       "    </tr>\n",
       "  </thead>\n",
       "  <tbody>\n",
       "    <tr>\n",
       "      <th>0</th>\n",
       "      <td>2019-01-15 12:15:00</td>\n",
       "      <td>275.81</td>\n",
       "      <td>275.81</td>\n",
       "      <td>275.96</td>\n",
       "      <td>275.91</td>\n",
       "      <td>134824.040254</td>\n",
       "    </tr>\n",
       "    <tr>\n",
       "      <th>1</th>\n",
       "      <td>2019-01-15 12:00:00</td>\n",
       "      <td>275.67</td>\n",
       "      <td>275.64</td>\n",
       "      <td>275.71</td>\n",
       "      <td>275.64</td>\n",
       "      <td>22720.846141</td>\n",
       "    </tr>\n",
       "    <tr>\n",
       "      <th>2</th>\n",
       "      <td>2019-01-15 11:45:00</td>\n",
       "      <td>275.84</td>\n",
       "      <td>275.84</td>\n",
       "      <td>276.04</td>\n",
       "      <td>276.01</td>\n",
       "      <td>261456.460720</td>\n",
       "    </tr>\n",
       "    <tr>\n",
       "      <th>3</th>\n",
       "      <td>2019-01-15 11:30:00</td>\n",
       "      <td>275.83</td>\n",
       "      <td>275.82</td>\n",
       "      <td>275.92</td>\n",
       "      <td>275.84</td>\n",
       "      <td>105771.042602</td>\n",
       "    </tr>\n",
       "    <tr>\n",
       "      <th>4</th>\n",
       "      <td>2019-01-15 11:15:00</td>\n",
       "      <td>275.88</td>\n",
       "      <td>275.61</td>\n",
       "      <td>275.92</td>\n",
       "      <td>275.71</td>\n",
       "      <td>92272.268498</td>\n",
       "    </tr>\n",
       "  </tbody>\n",
       "</table>\n",
       "</div>"
      ],
      "text/plain": [
       "                     0       1       2       3       4              5\n",
       "0  2019-01-15 12:15:00  275.81  275.81  275.96  275.91  134824.040254\n",
       "1  2019-01-15 12:00:00  275.67  275.64  275.71  275.64   22720.846141\n",
       "2  2019-01-15 11:45:00  275.84  275.84  276.04  276.01  261456.460720\n",
       "3  2019-01-15 11:30:00  275.83  275.82  275.92  275.84  105771.042602\n",
       "4  2019-01-15 11:15:00  275.88  275.61  275.92  275.71   92272.268498"
      ]
     },
     "execution_count": 122,
     "metadata": {},
     "output_type": "execute_result"
    }
   ],
   "source": [
    "btcusdt_res.head()"
   ]
  },
  {
   "cell_type": "code",
   "execution_count": 123,
   "metadata": {},
   "outputs": [
    {
     "data": {
      "text/html": [
       "<div>\n",
       "<table border=\"1\" class=\"dataframe\">\n",
       "  <thead>\n",
       "    <tr style=\"text-align: right;\">\n",
       "      <th></th>\n",
       "      <th>0</th>\n",
       "      <th>1</th>\n",
       "      <th>2</th>\n",
       "      <th>3</th>\n",
       "      <th>4</th>\n",
       "      <th>5</th>\n",
       "    </tr>\n",
       "  </thead>\n",
       "  <tbody>\n",
       "    <tr>\n",
       "      <th>0</th>\n",
       "      <td>2019-01-15 12:15:00</td>\n",
       "      <td>34887.0</td>\n",
       "      <td>34906.0</td>\n",
       "      <td>34843.0</td>\n",
       "      <td>34906.0</td>\n",
       "      <td>50.318851</td>\n",
       "    </tr>\n",
       "    <tr>\n",
       "      <th>1</th>\n",
       "      <td>2019-01-15 12:00:00</td>\n",
       "      <td>34951.0</td>\n",
       "      <td>34973.0</td>\n",
       "      <td>34871.0</td>\n",
       "      <td>34872.0</td>\n",
       "      <td>31.510816</td>\n",
       "    </tr>\n",
       "    <tr>\n",
       "      <th>2</th>\n",
       "      <td>2019-01-15 11:45:00</td>\n",
       "      <td>35003.0</td>\n",
       "      <td>35007.0</td>\n",
       "      <td>34947.0</td>\n",
       "      <td>34960.0</td>\n",
       "      <td>47.748581</td>\n",
       "    </tr>\n",
       "    <tr>\n",
       "      <th>3</th>\n",
       "      <td>2019-01-15 11:30:00</td>\n",
       "      <td>35018.0</td>\n",
       "      <td>35018.0</td>\n",
       "      <td>34938.0</td>\n",
       "      <td>34980.0</td>\n",
       "      <td>48.826291</td>\n",
       "    </tr>\n",
       "    <tr>\n",
       "      <th>4</th>\n",
       "      <td>2019-01-15 11:15:00</td>\n",
       "      <td>35121.0</td>\n",
       "      <td>35121.0</td>\n",
       "      <td>34800.0</td>\n",
       "      <td>35013.0</td>\n",
       "      <td>77.083462</td>\n",
       "    </tr>\n",
       "  </tbody>\n",
       "</table>\n",
       "</div>"
      ],
      "text/plain": [
       "                     0        1        2        3        4          5\n",
       "0  2019-01-15 12:15:00  34887.0  34906.0  34843.0  34906.0  50.318851\n",
       "1  2019-01-15 12:00:00  34951.0  34973.0  34871.0  34872.0  31.510816\n",
       "2  2019-01-15 11:45:00  35003.0  35007.0  34947.0  34960.0  47.748581\n",
       "3  2019-01-15 11:30:00  35018.0  35018.0  34938.0  34980.0  48.826291\n",
       "4  2019-01-15 11:15:00  35121.0  35121.0  34800.0  35013.0  77.083462"
      ]
     },
     "execution_count": 123,
     "metadata": {},
     "output_type": "execute_result"
    }
   ],
   "source": [
    "ethbtc_res.head()"
   ]
  },
  {
   "cell_type": "code",
   "execution_count": 124,
   "metadata": {},
   "outputs": [
    {
     "data": {
      "text/html": [
       "<div>\n",
       "<table border=\"1\" class=\"dataframe\">\n",
       "  <thead>\n",
       "    <tr style=\"text-align: right;\">\n",
       "      <th></th>\n",
       "      <th>0</th>\n",
       "      <th>1</th>\n",
       "      <th>2</th>\n",
       "      <th>3</th>\n",
       "      <th>4</th>\n",
       "      <th>5</th>\n",
       "    </tr>\n",
       "  </thead>\n",
       "  <tbody>\n",
       "    <tr>\n",
       "      <th>0</th>\n",
       "      <td>2019-01-15 12:15:00</td>\n",
       "      <td>664.33</td>\n",
       "      <td>665.14</td>\n",
       "      <td>663.88</td>\n",
       "      <td>665.14</td>\n",
       "      <td>38.050172</td>\n",
       "    </tr>\n",
       "    <tr>\n",
       "      <th>1</th>\n",
       "      <td>2019-01-15 12:00:00</td>\n",
       "      <td>664.51</td>\n",
       "      <td>664.84</td>\n",
       "      <td>664.00</td>\n",
       "      <td>664.70</td>\n",
       "      <td>42.793928</td>\n",
       "    </tr>\n",
       "    <tr>\n",
       "      <th>2</th>\n",
       "      <td>2019-01-15 11:45:00</td>\n",
       "      <td>666.60</td>\n",
       "      <td>666.75</td>\n",
       "      <td>664.57</td>\n",
       "      <td>664.82</td>\n",
       "      <td>49.891890</td>\n",
       "    </tr>\n",
       "    <tr>\n",
       "      <th>3</th>\n",
       "      <td>2019-01-15 11:30:00</td>\n",
       "      <td>666.09</td>\n",
       "      <td>666.91</td>\n",
       "      <td>665.66</td>\n",
       "      <td>666.54</td>\n",
       "      <td>35.377339</td>\n",
       "    </tr>\n",
       "    <tr>\n",
       "      <th>4</th>\n",
       "      <td>2019-01-15 11:15:00</td>\n",
       "      <td>665.19</td>\n",
       "      <td>665.91</td>\n",
       "      <td>664.86</td>\n",
       "      <td>665.91</td>\n",
       "      <td>48.494348</td>\n",
       "    </tr>\n",
       "  </tbody>\n",
       "</table>\n",
       "</div>"
      ],
      "text/plain": [
       "                     0       1       2       3       4          5\n",
       "0  2019-01-15 12:15:00  664.33  665.14  663.88  665.14  38.050172\n",
       "1  2019-01-15 12:00:00  664.51  664.84  664.00  664.70  42.793928\n",
       "2  2019-01-15 11:45:00  666.60  666.75  664.57  664.82  49.891890\n",
       "3  2019-01-15 11:30:00  666.09  666.91  665.66  666.54  35.377339\n",
       "4  2019-01-15 11:15:00  665.19  665.91  664.86  665.91  48.494348"
      ]
     },
     "execution_count": 124,
     "metadata": {},
     "output_type": "execute_result"
    }
   ],
   "source": [
    "eosbtc_res.head(5)"
   ]
  }
 ],
 "metadata": {
  "hide_input": false,
  "kernelspec": {
   "display_name": "Python 3",
   "language": "python",
   "name": "python3"
  },
  "language_info": {
   "codemirror_mode": {
    "name": "ipython",
    "version": 3
   },
   "file_extension": ".py",
   "mimetype": "text/x-python",
   "name": "python",
   "nbconvert_exporter": "python",
   "pygments_lexer": "ipython3",
   "version": "3.5.3"
  },
  "nav_menu": {},
  "toc": {
   "navigate_menu": true,
   "number_sections": true,
   "sideBar": true,
   "threshold": 6,
   "toc_cell": false,
   "toc_section_display": "block",
   "toc_window_display": false
  }
 },
 "nbformat": 4,
 "nbformat_minor": 2
}
