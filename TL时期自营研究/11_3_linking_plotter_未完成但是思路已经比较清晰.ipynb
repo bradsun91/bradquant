{
 "cells": [
  {
   "cell_type": "code",
   "execution_count": 1,
   "metadata": {
    "collapsed": true
   },
   "outputs": [
    {
     "ename": "ImportError",
     "evalue": "No module named 'quant.logging_backtest'",
     "output_type": "error",
     "traceback": [
      "\u001b[0;31m---------------------------------------------------------------------------\u001b[0m",
      "\u001b[0;31mImportError\u001b[0m                               Traceback (most recent call last)",
      "\u001b[0;32m<ipython-input-1-27be7b40eb80>\u001b[0m in \u001b[0;36m<module>\u001b[0;34m()\u001b[0m\n\u001b[1;32m      1\u001b[0m \u001b[1;32mimport\u001b[0m \u001b[0mpandas\u001b[0m \u001b[1;32mas\u001b[0m \u001b[0mpd\u001b[0m\u001b[1;33m\u001b[0m\u001b[0m\n\u001b[0;32m----> 2\u001b[0;31m \u001b[1;32mfrom\u001b[0m \u001b[0mquant\u001b[0m\u001b[1;33m.\u001b[0m\u001b[0mlogging_backtest\u001b[0m \u001b[1;32mimport\u001b[0m \u001b[0mlogger\u001b[0m\u001b[1;33m\u001b[0m\u001b[0m\n\u001b[0m\u001b[1;32m      3\u001b[0m \u001b[1;32mfrom\u001b[0m \u001b[0mplotly\u001b[0m \u001b[1;32mimport\u001b[0m \u001b[0mgraph_objs\u001b[0m \u001b[1;32mas\u001b[0m \u001b[0mgo\u001b[0m\u001b[1;33m,\u001b[0m \u001b[0moffline\u001b[0m \u001b[1;32mas\u001b[0m \u001b[0mpy\u001b[0m\u001b[1;33m\u001b[0m\u001b[0m\n\u001b[1;32m      4\u001b[0m \u001b[1;32mfrom\u001b[0m \u001b[0mdatetime\u001b[0m \u001b[1;32mimport\u001b[0m \u001b[0mdatetime\u001b[0m\u001b[1;33m\u001b[0m\u001b[0m\n",
      "\u001b[0;31mImportError\u001b[0m: No module named 'quant.logging_backtest'"
     ]
    }
   ],
   "source": [
    "import pandas as pd\n",
    "from quant.logging_backtest import logger\n",
    "from plotly import graph_objs as go, offline as py\n",
    "from datetime import datetime"
   ]
  },
  {
   "cell_type": "markdown",
   "metadata": {},
   "source": [
    "# 复习Class部分知识点"
   ]
  },
  {
   "cell_type": "code",
   "execution_count": 56,
   "metadata": {
    "collapsed": false
   },
   "outputs": [
    {
     "ename": "SyntaxError",
     "evalue": "invalid syntax (<ipython-input-56-96a95890e385>, line 18)",
     "output_type": "error",
     "traceback": [
      "\u001b[0;36m  File \u001b[0;32m\"<ipython-input-56-96a95890e385>\"\u001b[0;36m, line \u001b[0;32m18\u001b[0m\n\u001b[0;31m    print (self.'hello world')\u001b[0m\n\u001b[0m                            ^\u001b[0m\n\u001b[0;31mSyntaxError\u001b[0m\u001b[0;31m:\u001b[0m invalid syntax\n"
     ]
    }
   ],
   "source": [
    "class GrandPa:\n",
    "    def __init__(self):\n",
    "        self.x = 0\n",
    "        print('I\\'m GrandPa')\n",
    "\n",
    "\n",
    "class Father(GrandPa):\n",
    "    def __init__(self):\n",
    "        print('I\\'m Father!')\n",
    "\n",
    "class Son(Father):\n",
    "    \"\"\"A simple example class\"\"\"\n",
    "    i = 12345\n",
    "    def __init__(self):\n",
    "        print('这是构造函数,son')\n",
    "        print (self.i)\n",
    "    def sayHello(self):\n",
    "        print ('hello world')\n",
    "\n",
    "if __name__ == '__main__':\n",
    "    son = Son()\n",
    "    # 类型帮助信息 \n",
    "    print('类型帮助信息: ',Son.__doc__)\n",
    "    #类型名称\n",
    "    print('类型名称:',Son.__name__)\n",
    "    #类型所继承的基类\n",
    "    print('类型所继承的基类:',Son.__bases__)\n",
    "    #类型字典\n",
    "    print('类型字典:',Son.__dict__)\n",
    "    #类型所在模块\n",
    "    print('类型所在模块:',Son.__module__)\n",
    "    #实例类型\n",
    "    print('实例类型:',Son().__class__)"
   ]
  },
  {
   "cell_type": "code",
   "execution_count": 57,
   "metadata": {
    "collapsed": false
   },
   "outputs": [
    {
     "name": "stdout",
     "output_type": "stream",
     "text": [
      "这是构造函数,son\n",
      "12345\n"
     ]
    }
   ],
   "source": [
    "son = Son()"
   ]
  },
  {
   "cell_type": "code",
   "execution_count": 63,
   "metadata": {
    "collapsed": false
   },
   "outputs": [
    {
     "name": "stdout",
     "output_type": "stream",
     "text": [
      "hello world\n"
     ]
    }
   ],
   "source": [
    "son.sayHello()"
   ]
  },
  {
   "cell_type": "code",
   "execution_count": 64,
   "metadata": {
    "collapsed": false
   },
   "outputs": [
    {
     "name": "stdout",
     "output_type": "stream",
     "text": [
      "I'm GrandPa\n"
     ]
    }
   ],
   "source": [
    "grandpa = GrandPa()"
   ]
  },
  {
   "cell_type": "code",
   "execution_count": 29,
   "metadata": {
    "collapsed": false
   },
   "outputs": [
    {
     "data": {
      "text/plain": [
       "0"
      ]
     },
     "execution_count": 29,
     "metadata": {},
     "output_type": "execute_result"
    }
   ],
   "source": [
    "grandpa.x"
   ]
  },
  {
   "cell_type": "code",
   "execution_count": 31,
   "metadata": {
    "collapsed": false
   },
   "outputs": [
    {
     "data": {
      "text/plain": [
       "<function __main__.Son.sayHello>"
      ]
     },
     "execution_count": 31,
     "metadata": {},
     "output_type": "execute_result"
    }
   ],
   "source": [
    "Son.sayHello"
   ]
  },
  {
   "cell_type": "code",
   "execution_count": 10,
   "metadata": {
    "collapsed": false
   },
   "outputs": [
    {
     "ename": "AttributeError",
     "evalue": "'GrandPa' object has no attribute '__name__'",
     "output_type": "error",
     "traceback": [
      "\u001b[0;31m---------------------------------------------------------------------------\u001b[0m",
      "\u001b[0;31mAttributeError\u001b[0m                            Traceback (most recent call last)",
      "\u001b[0;32m<ipython-input-10-718c76737e8b>\u001b[0m in \u001b[0;36m<module>\u001b[0;34m()\u001b[0m\n\u001b[0;32m----> 1\u001b[0;31m \u001b[0mgrandpa\u001b[0m\u001b[1;33m.\u001b[0m\u001b[0m__name__\u001b[0m\u001b[1;33m\u001b[0m\u001b[0m\n\u001b[0m",
      "\u001b[0;31mAttributeError\u001b[0m: 'GrandPa' object has no attribute '__name__'"
     ]
    }
   ],
   "source": [
    "grandpa.__name__"
   ]
  },
  {
   "cell_type": "code",
   "execution_count": 12,
   "metadata": {
    "collapsed": true
   },
   "outputs": [],
   "source": [
    "class BaseClassA():\n",
    "    pass\n",
    "class BaseClassB():\n",
    "    pass"
   ]
  },
  {
   "cell_type": "code",
   "execution_count": 18,
   "metadata": {
    "collapsed": false
   },
   "outputs": [],
   "source": [
    "class MyClass(BaseClassA, BaseClassB): \n",
    "    def __init__(self, x=1, y=0): \n",
    "        self.x = x \n",
    "        self.y = y "
   ]
  },
  {
   "cell_type": "code",
   "execution_count": 19,
   "metadata": {
    "collapsed": false
   },
   "outputs": [],
   "source": [
    "myClass = MyClass()"
   ]
  },
  {
   "cell_type": "code",
   "execution_count": 20,
   "metadata": {
    "collapsed": false
   },
   "outputs": [
    {
     "name": "stdout",
     "output_type": "stream",
     "text": [
      "1 0\n"
     ]
    }
   ],
   "source": [
    "print (myClass.x, myClass.y)"
   ]
  },
  {
   "cell_type": "code",
   "execution_count": 21,
   "metadata": {
    "collapsed": true
   },
   "outputs": [],
   "source": [
    "myClass.z = 10"
   ]
  },
  {
   "cell_type": "code",
   "execution_count": 22,
   "metadata": {
    "collapsed": false
   },
   "outputs": [
    {
     "data": {
      "text/plain": [
       "10"
      ]
     },
     "execution_count": 22,
     "metadata": {},
     "output_type": "execute_result"
    }
   ],
   "source": [
    "myClass.z"
   ]
  },
  {
   "cell_type": "code",
   "execution_count": 23,
   "metadata": {
    "collapsed": false
   },
   "outputs": [
    {
     "name": "stdout",
     "output_type": "stream",
     "text": [
      "10\n"
     ]
    }
   ],
   "source": [
    "print (myClass.z)\n",
    "del myClass.x"
   ]
  },
  {
   "cell_type": "code",
   "execution_count": 24,
   "metadata": {
    "collapsed": false
   },
   "outputs": [
    {
     "ename": "AttributeError",
     "evalue": "'MyClass' object has no attribute 'x'",
     "output_type": "error",
     "traceback": [
      "\u001b[0;31m---------------------------------------------------------------------------\u001b[0m",
      "\u001b[0;31mAttributeError\u001b[0m                            Traceback (most recent call last)",
      "\u001b[0;32m<ipython-input-24-2d62052321a8>\u001b[0m in \u001b[0;36m<module>\u001b[0;34m()\u001b[0m\n\u001b[0;32m----> 1\u001b[0;31m \u001b[0mmyClass\u001b[0m\u001b[1;33m.\u001b[0m\u001b[0mx\u001b[0m\u001b[1;33m\u001b[0m\u001b[0m\n\u001b[0m",
      "\u001b[0;31mAttributeError\u001b[0m: 'MyClass' object has no attribute 'x'"
     ]
    }
   ],
   "source": [
    "myClass.x"
   ]
  },
  {
   "cell_type": "markdown",
   "metadata": {},
   "source": [
    "# Wrap up in a summary 以便接手时更方便"
   ]
  },
  {
   "cell_type": "markdown",
   "metadata": {},
   "source": [
    "## 所需的一些functions"
   ]
  },
  {
   "cell_type": "code",
   "execution_count": null,
   "metadata": {
    "collapsed": true
   },
   "outputs": [],
   "source": [
    "# 第一步：定义所有所需函数：\n",
    "\n",
    "# 直接从SQL数据库生成资产价格dataframe\n",
    "def two_assts_from_sql(asset1, asset2, sql_limit_num):\n",
    "    conn = psycopg2.connect(database=\"bitmexdata\", user=\"postgres\", password=\"tongKen123\", host=\"128.199.97.202\", port=\"5432\")\n",
    "    asset1 = \"\"\" SELECT time, open, high, low, close, volume from {} order by id desc limit {}\"\"\".format(asset1, sql_limit_num)\n",
    "    asset2 = \"\"\" SELECT time, open, high, low, close, volume from {} order by id desc limit {}\"\"\".format(asset2, sql_limit_num)\n",
    "    df1 = pd.read_sql(asset1, con=conn)\n",
    "    df2 = pd.read_sql(asset2, con=conn)\n",
    "    conn.close()\n",
    "    return df1, df2\n",
    "\n",
    "# 转变数据周期：T/5T/15T/30T/H/2H/4H/D/W/M\n",
    "def resample(df, period):\n",
    "    convrted_df = df.resample(period).last()\n",
    "    convrted_df['open'] = df['open'].resample(period).first()\n",
    "    convrted_df['high'] = df['high'].resample(period).max()\n",
    "    convrted_df['low'] = df['low'].resample(period).min()\n",
    "    convrted_df['close'] = df['close'].resample(period).last()\n",
    "    convrted_df['volume'] = df['volume'].resample(period).sum()\n",
    "    # Keep rows with at least 5 non-NaN values\n",
    "    convrted_df.dropna(thresh=5, inplace=True)\n",
    "    convrted_df.index = convrted_df['time']\n",
    "    convrted_df['time'] = pd.DatetimeIndex(convrted_df['time'])\n",
    "    return convrted_df\n",
    "\n",
    "# 为能够plot蜡烛图做timestamps处理的准备：\n",
    "def cnvrt_date(convrted_df):\n",
    "    cnvrted_date_df = convrted_df.copy()\n",
    "    cnvrted_date_df['date'] = mpd.date2num(cnvrted_date_df['time'].dt.to_pydatetime())\n",
    "    return cnvrted_date_df\n",
    "\n",
    "# 计算两个资产的相对差累计值：\n",
    "def two_assets_tmsum(cnvrted_date_df1, cnvrted_date_df2, N4):\n",
    "    cnvrted_date_df1['close_shifted'] = cnvrted_date_df1['close'].shift(1)\n",
    "    cnvrted_date_df2['close_shifted'] = cnvrted_date_df2['close'].shift(1)\n",
    "    T1 = cnvrted_date_df1['close'].diff()/cnvrted_date_df1['close_shifted']\n",
    "    T2 = cnvrted_date_df2['close'].diff()/cnvrted_date_df2['close_shifted']\n",
    "    TM = T1*(1-N4/100) - T2*(N4/100)\n",
    "    tmsum_sr = TM.cumsum()\n",
    "    return tmsum_sr\n",
    "    \n",
    "# 计算相对差的移动平均快慢线：\n",
    "def MAs_of_tmsum(tmsum_sr, N1, N2):\n",
    "    MA1 = tmsum_sr.ewm(span= N1).mean() #快线\n",
    "    MA2 = tmsum_sr.ewm(span= N2).mean() #慢线   \n",
    "    return MA1, MA2\n",
    "    \n",
    "# Plot TMSUM图线：\n",
    "# def plot_tmsum(tmsum_sr):\n",
    "#     py_offline.init_notebook_mode()\n",
    "#     tmsum_df = pd.DataFrame(tmsum_sr, columns=['tmsum'])\n",
    "#     tmsum_df = go.Scatter(x = tmsum_df.index,\n",
    "#                           y = tmsum_df['tmsum'])\n",
    "#     data = [tmsum_df]\n",
    "#     return py_offline.iplot(data, filename='TMSUM')\n",
    "\n",
    "def plot_tmsum(tmsum_sr):\n",
    "#     py_offline.init_notebook_mode()\n",
    "    tmsum_df = pd.DataFrame(tmsum_sr, columns=['tmsum'])\n",
    "    tmsum_df = go.Scatter(x = tmsum_df.index,\n",
    "                          y = tmsum_df['tmsum'])\n",
    "    data = [tmsum_df]\n",
    "    fig = go.Figure(data=data)\n",
    "    return py.iplot(fig, filename='TMSUM')\n",
    "    \n",
    "    \n",
    "def plot_tmsum_MAs(MA1, MA2):\n",
    "    # Here I didn't use offline's version of plotly, going forward  \n",
    "    # will need to be consistent when moving to pycharm for plotting\n",
    "    ma1_df = pd.DataFrame(MA1, columns=['MA1'], index = MA1.index)\n",
    "    ma2_df = pd.DataFrame(MA2, columns=['MA2'], index = MA2.index)\n",
    "    trace1 = go.Scatter(x = ma1_df.index, \n",
    "                        y = ma1_df['MA1'])\n",
    "    trace2 = go.Scatter(x = ma2_df.index, \n",
    "                        y = ma2_df['MA2'])\n",
    "    data = [trace1, trace2]\n",
    "    fig = go.Figure(data=data)\n",
    "    return py.iplot(fig, filename='plot_tmsum_MAs')\n",
    "    \n",
    "    \n",
    "# Plot 资产实时图\n",
    "\n",
    "def plot_candlestick(cnvrted_date_df):\n",
    "    candle_df = go.Candlestick(x = cnvrted_date_df.index,\n",
    "                               open = cnvrted_date_df['open'],\n",
    "                               high = cnvrted_date_df['high'],\n",
    "                               low  = cnvrted_date_df['low'],\n",
    "                               close = cnvrted_date_df['close'])\n",
    "    data = [candle_df]\n",
    "    fig =go.Figure(data=data)\n",
    "    return py.iplot(fig, filename='CandleStick')\n",
    "\n",
    "# def plot_candlestick(cnvrted_date_df):\n",
    "#     py_offline.init_notebook_mode()\n",
    "#     candle_df = go.Candlestick(x = cnvrted_date_df.index,\n",
    "#                                open = cnvrted_date_df['open'],\n",
    "#                                high = cnvrted_date_df['high'],\n",
    "#                                low  = cnvrted_date_df['low'],\n",
    "#                                close = cnvrted_date_df['close'])\n",
    "#     data = [candle_df]\n",
    "#     return py_offline.iplot(data, filename='Candle Stick', image_width=400, image_height=200)\n",
    "\n",
    "\n",
    "\n",
    "# Build a function that plots charts of two moving averages with their crossover trading signals \n",
    "# Here we want to make sure that both MA1_sr and MA2_sr are: series with timestanmps as their indexes\n",
    "\n",
    "def MA_crossover_plot_signals(MA1_sr, MA2_sr):\n",
    "    # 构建一个由 MA1和 MA2构成的dataframe：\n",
    "    ma_signal_df = pd.DataFrame(MA1_sr, columns=['MA1'], index= MA1_sr.index)\n",
    "    ma_signal_df['MA2'] = MA2_sr\n",
    "    # 用两者的差表示 MA1在位置上高于还是低于MA2，负值说明低于，正值说明高于：\n",
    "    ma_signal_df['MA1_mns_MA2'] = ma_signal_df['MA1'] - ma_signal_df['MA2']\n",
    "    # 将正负值同义转换为二元的 1或者 -1便于观察和处理\n",
    "    ma_signal_df['signs'] = ma_signal_df['MA1_mns_MA2']*abs(1/(ma_signal_df['MA1_mns_MA2']))\n",
    "    # 用当前值和前一个周期的值决定当前状态是金叉信号还是死叉信号\n",
    "    ma_signal_df['pre_signs'] = ma_signal_df['signs'].shift(1)\n",
    "    ma_signal_df['signals'] = ma_signal_df['signs'] - ma_signal_df['pre_signs']\n",
    "    ma_signal_df['signals_alert'] = ma_signal_df['signals'].apply(lambda x: \"金叉\" if x==2 else \"死叉\" if x==-2 else \"无信号\")\n",
    "    # 将所有出现信号的rows挑出来建立一个字典：\n",
    "    ma_df_with_signals = ma_signal_df[ma_signal_df['signals_alert'] != \"无信号\"]['signals_alert']\n",
    "    signal_dict = dict(ma_df_with_signals)\n",
    "    # Add each and all signal information(dictionary format) to annotations(list format) \n",
    "    # so that it can be put into the go.Layout() function.\n",
    "    annotations = []\n",
    "    each_dict = {}\n",
    "    for i, k in enumerate(signal_dict):\n",
    "        each_dict['x'] = k\n",
    "        each_dict['y'] = ma_signal_df['MA1'].loc[k]\n",
    "        each_dict['text']=ma_signal_df['signals_alert'].loc[k]\n",
    "        each_dict['showarrow']=True\n",
    "        each_dict['arrowhead']=7\n",
    "        each_dict['ax']=0\n",
    "        each_dict['ay']=-40\n",
    "\n",
    "        annotations.append(each_dict.copy())\n",
    "    # 用plotly进行绘图，包括了之前处理好的annotations，作为显示信号的功能\n",
    "    ma1_df = pd.DataFrame(tmsum_ma1, columns=['MA1'], index = tmsum_ma1.index)\n",
    "    ma2_df = pd.DataFrame(tmsum_ma2, columns=['MA2'], index = tmsum_ma2.index)\n",
    "    trace1 = go.Scatter(x = ma1_df.index, \n",
    "              y = ma1_df['MA1'])\n",
    "    trace2 = go.Scatter(x = ma2_df.index, \n",
    "              y = ma2_df['MA2'])\n",
    "    layout = go.Layout(\n",
    "        showlegend=False,\n",
    "        annotations=annotations\n",
    "    )\n",
    "    data = [trace1, trace2]\n",
    "    fig = go.Figure(data=data, \n",
    "                    layout=layout)\n",
    "    return py.iplot(fig, filename='plot_MAs_with_signals')\n",
    "#     return plotly.offline.plot(fig, filename = 'test.html') # 如果要用html那么则会以网页的形式输出图像"
   ]
  },
  {
   "cell_type": "markdown",
   "metadata": {},
   "source": [
    "## 从SQL数据库里调用数据，做一个资产的完整dataframe出来，为plotting做准备"
   ]
  },
  {
   "cell_type": "code",
   "execution_count": 65,
   "metadata": {
    "collapsed": true
   },
   "outputs": [],
   "source": [
    "def asst_from_sql(asset, sql_limit_num):\n",
    "    conn = psycopg2.connect(database=\"bitmexdata\", user=\"postgres\", password=\"tongKen123\", host=\"128.199.97.202\", port=\"5432\")\n",
    "    asset = \"\"\" SELECT time, open, high, low, close, volume from {} order by id desc limit {}\"\"\".format(asset, sql_limit_num)\n",
    "    df = pd.read_sql(asset, con=conn)\n",
    "    conn.close()\n",
    "    return df"
   ]
  },
  {
   "cell_type": "code",
   "execution_count": null,
   "metadata": {
    "collapsed": true
   },
   "outputs": [],
   "source": [
    "eth_sql = asst_from_sql('ethz18_1m')"
   ]
  },
  {
   "cell_type": "code",
   "execution_count": null,
   "metadata": {
    "collapsed": true
   },
   "outputs": [],
   "source": [
    "class Plotter(PlotBase):\n",
    "    \n",
    "    def __init__(self, instrument, bar, fill, context):\n",
    "        super().__init__()\n",
    "\n",
    "        self.bar = bar.total_dict\n",
    "        self.equity_df = fill.equity.df\n",
    "        self.cash_df = fill.cash.df\n",
    "        self.position_df = fill.position.df\n",
    "        self.realized_G_L_df = fill.realized_gain_and_loss.df\n",
    "        self.unrealized_g_l_df = fill.unrealized_gain_and_loss.df\n",
    "        self.commission_df = fill.commission.df\n",
    "        df = context.trade_log\n",
    "        cash = context.initial_cash\n",
    "        self.income_df = (df[df['position'] == 0]['equity'] - cash).to_frame()  # 损益\n",
    "        self.data = []\n",
    "        self.update_menus = []\n",
    "        self.data_dict = {\n",
    "            '权益': self.equity_df,\n",
    "            '现金': self.cash_df,\n",
    "            '平仓盈亏': self.realized_G_L_df,\n",
    "            '浮动盈亏': self.unrealized_g_l_df,\n",
    "            '损益': self.income_df,\n",
    "\n",
    "    # Brad新加的部分从这里开始：\n",
    "    def resample(df, period):\n",
    "        convrted_df = df.resample(period).last()\n",
    "        convrted_df['open'] = df['open'].resample(period).first()\n",
    "        convrted_df['high'] = df['high'].resample(period).max()\n",
    "        convrted_df['low'] = df['low'].resample(period).min()\n",
    "        convrted_df['close'] = df['close'].resample(period).last()\n",
    "        convrted_df['volume'] = df['volume'].resample(period).sum()\n",
    "        # Keep rows with at least 5 non-NaN values\n",
    "        convrted_df.dropna(thresh=5, inplace=True)\n",
    "        convrted_df.index = convrted_df['time']\n",
    "        convrted_df['time'] = pd.DatetimeIndex(convrted_df['time'])\n",
    "        return convrted_df       \n",
    "\n",
    "    # 为能够plot蜡烛图做timestamps处理的准备：\n",
    "    def cnvrt_date(convrted_df):\n",
    "        cnvrted_date_df = convrted_df.copy()\n",
    "        cnvrted_date_df['date'] = mpd.date2num(cnvrted_date_df['time'].dt.to_pydatetime())\n",
    "        return cnvrted_date_df\n",
    "            \n",
    "    def plot_candlestick(asset1, asset2, sql_limit_num, period):\n",
    "        # 直接从SQL数据库生成资产价格dataframe\n",
    "        conn = psycopg2.connect(database=\"bitmexdata\", user=\"postgres\", password=\"tongKen123\", host=\"128.199.97.202\", port=\"5432\")\n",
    "        asset1 = \"\"\" SELECT time, open, high, low, close, volume from {} order by id desc limit {}\"\"\".format(asset1, sql_limit_num)\n",
    "        asset2 = \"\"\" SELECT time, open, high, low, close, volume from {} order by id desc limit {}\"\"\".format(asset2, sql_limit_num)\n",
    "        df1 = pd.read_sql(asset1, con=conn)\n",
    "        df2 = pd.read_sql(asset2, con=conn)\n",
    "        conn.close()            \n",
    "            \n",
    "        res_asst1 = resample(df1, period)\n",
    "        res_asst2 = resample(df2, period)\n",
    "            \n",
    "            \n",
    "            \n",
    "    # 直接从SQL数据库生成资产价格dataframe\n",
    "    def two_assts_from_sql(asset1, asset2, sql_limit_num):\n",
    "        conn = psycopg2.connect(database=\"bitmexdata\", user=\"postgres\", password=\"tongKen123\", host=\"128.199.97.202\", port=\"5432\")\n",
    "        asset1 = \"\"\" SELECT time, open, high, low, close, volume from {} order by id desc limit {}\"\"\".format(asset1, sql_limit_num)\n",
    "        asset2 = \"\"\" SELECT time, open, high, low, close, volume from {} order by id desc limit {}\"\"\".format(asset2, sql_limit_num)\n",
    "        df1 = pd.read_sql(asset1, con=conn)\n",
    "        df2 = pd.read_sql(asset2, con=conn)\n",
    "        conn.close()\n",
    "        return df1, df2\n",
    "    \n",
    "    # 转变数据周期：T/5T/15T/30T/H/2H/4H/D/W/M\n"
   ]
  },
  {
   "cell_type": "markdown",
   "metadata": {},
   "source": [
    "# 第一部分：Candlestick"
   ]
  },
  {
   "cell_type": "code",
   "execution_count": null,
   "metadata": {
    "code_folding": [
     10
    ],
    "collapsed": true
   },
   "outputs": [],
   "source": [
    "class Plot_CandleStick_And_Signals():\n",
    "    \n",
    "    # initialization的部分：\n",
    "    def \n",
    "        conn = psycopg2.connect(database=\"bitmexdata\", user=\"postgres\", password=\"tongKen123\", host=\"128.199.97.202\", port=\"5432\")\n",
    "        asset1 = \"\"\" SELECT time, open, high, low, close, volume from {} order by id desc limit {}\"\"\".format(asset1, sql_limit_num)\n",
    "        asset2 = \"\"\" SELECT time, open, high, low, close, volume from {} order by id desc limit {}\"\"\".format(asset2, sql_limit_num)\n",
    "        df1 = pd.read_sql(asset1, con=conn)\n",
    "        df2 = pd.read_sql(asset2, con=conn)\n",
    "        conn.close()    \n",
    "\n",
    "    def resample(df, period):\n",
    "        convrted_df = df.resample(period).last()\n",
    "        convrted_df['open'] = df['open'].resample(period).first()\n",
    "        convrted_df['high'] = df['high'].resample(period).max()\n",
    "        convrted_df['low'] = df['low'].resample(period).min()\n",
    "        convrted_df['close'] = df['close'].resample(period).last()\n",
    "        convrted_df['volume'] = df['volume'].resample(period).sum()\n",
    "        # Keep rows with at least 5 non-NaN values\n",
    "        convrted_df.dropna(thresh=5, inplace=True)\n",
    "        convrted_df.index = convrted_df['time']\n",
    "        convrted_df['time'] = pd.DatetimeIndex(convrted_df['time'])\n",
    "        return convrted_df  \n",
    "    \n",
    "    # 直接从SQL数据库生成资产价格dataframe\n",
    "    def two_assts_from_sql(asset1, asset2, sql_limit_num):\n",
    "\n",
    "        return df1, df2\n",
    "    \n",
    "    \n",
    "    \n",
    "    \n",
    "class Plot_Signals():\n",
    "    def "
   ]
  },
  {
   "cell_type": "code",
   "execution_count": null,
   "metadata": {
    "collapsed": true
   },
   "outputs": [],
   "source": []
  },
  {
   "cell_type": "code",
   "execution_count": null,
   "metadata": {
    "collapsed": true
   },
   "outputs": [],
   "source": []
  },
  {
   "cell_type": "code",
   "execution_count": null,
   "metadata": {
    "collapsed": true
   },
   "outputs": [],
   "source": []
  },
  {
   "cell_type": "code",
   "execution_count": null,
   "metadata": {
    "collapsed": true
   },
   "outputs": [],
   "source": []
  }
 ],
 "metadata": {
  "anaconda-cloud": {},
  "hide_input": false,
  "kernelspec": {
   "display_name": "Python [default]",
   "language": "python",
   "name": "python3"
  },
  "language_info": {
   "codemirror_mode": {
    "name": "ipython",
    "version": 3
   },
   "file_extension": ".py",
   "mimetype": "text/x-python",
   "name": "python",
   "nbconvert_exporter": "python",
   "pygments_lexer": "ipython3",
   "version": "3.4.5"
  },
  "nav_menu": {},
  "toc": {
   "navigate_menu": true,
   "number_sections": true,
   "sideBar": true,
   "threshold": 6,
   "toc_cell": false,
   "toc_section_display": "block",
   "toc_window_display": false
  }
 },
 "nbformat": 4,
 "nbformat_minor": 2
}
