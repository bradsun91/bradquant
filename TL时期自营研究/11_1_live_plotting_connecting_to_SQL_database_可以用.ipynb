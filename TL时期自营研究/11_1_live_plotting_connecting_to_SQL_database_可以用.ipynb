{
 "cells": [
  {
   "cell_type": "code",
   "execution_count": 1,
   "metadata": {},
   "outputs": [
    {
     "name": "stderr",
     "output_type": "stream",
     "text": [
      "ERROR:lml.utils:failed to import pyecharts_snapshot\n",
      "Traceback (most recent call last):\n",
      "  File \"C:\\Users\\Brad Sun\\Anaconda3\\lib\\site-packages\\lml\\utils.py\", line 43, in do_import\n",
      "    plugin_module = __import__(plugin_module_name)\n",
      "ModuleNotFoundError: No module named 'pyecharts_snapshot'\n"
     ]
    }
   ],
   "source": [
    "import psycopg2\n",
    "import time\n",
    "import pandas as pd\n",
    "import numpy as np\n",
    "import matplotlib.pyplot as plt\n",
    "import seaborn as sns\n",
    "import pyecharts\n",
    "import urllib3,time,csv,datetime\n",
    "import matplotlib as mpl\n",
    "import matplotlib.pyplot as plt\n",
    "# import matplotlib.finance as mpf\n",
    "import matplotlib.dates as mpd\n",
    "import plotly.offline as py_offline\n",
    "import plotly.graph_objs as go\n",
    "import plotly.plotly as py\n",
    "from plotly.graph_objs import *\n",
    "from IPython.display import clear_output\n",
    "\n",
    "%matplotlib inline"
   ]
  },
  {
   "cell_type": "code",
   "execution_count": 3,
   "metadata": {},
   "outputs": [
    {
     "data": {
      "text/plain": [
       "'\\nIP：128.199.97.202\\n    Port：22\\n    username：root\\n    password：QZDqzd65976787\\n\\n数据库：PostgreSQL\\nport: 5432\\n用户名：postgres\\n密码：tongKen123\\n\\n'"
      ]
     },
     "execution_count": 3,
     "metadata": {},
     "output_type": "execute_result"
    }
   ],
   "source": [
    "\"\"\"\n",
    "IP：128.199.97.202\n",
    "    Port：22\n",
    "    username：root\n",
    "    password：QZDqzd65976787\n",
    "\n",
    "数据库：PostgreSQL\n",
    "port: 5432\n",
    "用户名：postgres\n",
    "密码：tongKen123\n",
    "\n",
    "\"\"\""
   ]
  },
  {
   "cell_type": "code",
   "execution_count": 2,
   "metadata": {},
   "outputs": [
    {
     "name": "stdout",
     "output_type": "stream",
     "text": [
      "2017-01-01 08:00:00\n"
     ]
    }
   ],
   "source": [
    "# 数据库连接参数\n",
    "conn =  psycopg2.connect(database=\"bitmexdata\", user=\"postgres\", password=\"tongKen123\", host=\"128.199.97.202\", port=\"5432\")\n",
    "cur =  conn.cursor()\n",
    "\n",
    "# val = [['1504479600', '2017/09/04 07:00:00', 4602.3, 4652, 4602.2, 4624.2, 5088813],\n",
    "#        ['1504483200', '2017/09/04 08:00:00', 4624.2, 4630, 4564.3, 4589.2, 8407788],\n",
    "#        ['1504486800', '2017/09/04 09:00:00', 4589.2, 4596.5, 4540.5, 4568.8, 6353670],\n",
    "#        ['1504490400', '2017/09/04 10:00:00', 4568.8, 4578, 4551.4, 4571.1, 4545099]]\n",
    "# 插入数据\n",
    "# sql = \"\"\"INSERT INTO xbtusd (timestamp , time , open , high, low, close , volume)  VALUES (\\'{}\\',\\'{}\\',{},{},{},{},{});\"\"\"\n",
    "\n",
    "# for v in val:\n",
    "#     sqlg =  = sql.format(v[0(v[0], v[1], v[2], v[3], v[4], v[5], v[6])\n",
    "#     print(sqlg)\n",
    "#        cur.execute(sql(sqlg)\n",
    "\n",
    "sqllasttime = \"\"\" SELECT time from xbtusd_1m order by id limit 100\"\"\"\n",
    "\n",
    "cur.execute(sqllasttime)\n",
    "rows = cur.fetchall() # all rows in table\n",
    "ltime = rows[0][0]\n",
    "print(rows[0][0])\n",
    "\n",
    "\n",
    "conn.commit()\n",
    "cur.close()\n",
    "conn.close()"
   ]
  },
  {
   "cell_type": "code",
   "execution_count": 3,
   "metadata": {},
   "outputs": [],
   "source": [
    "# Step 1：Load csv file and preprocess: T/5T/15T/30T/H/2H/4H/D/W/M\n",
    "def preprocess(data_location, file):\n",
    "    df = pd.read_csv(data_location + file)\n",
    "    df.columns = ['time', 'open', 'high', 'low', 'close', 'volume']\n",
    "    df.index = pd.DatetimeIndex(df['time'])\n",
    "    return df\n",
    "\n",
    "# Step 2：转变数据周期：\n",
    "def resample(df, period):\n",
    "    convrted_df = df.resample(period).last()\n",
    "    convrted_df['open'] = df['open'].resample(period).first()\n",
    "    convrted_df['high'] = df['high'].resample(period).max()\n",
    "    convrted_df['low'] = df['low'].resample(period).min()\n",
    "    convrted_df['close'] = df['close'].resample(period).last()\n",
    "    convrted_df['volume'] = df['volume'].resample(period).sum()\n",
    "    # Keep rows with at least 5 non-NaN values\n",
    "    convrted_df.dropna(thresh=5, inplace=True)\n",
    "    convrted_df.index = convrted_df['time']\n",
    "    convrted_df['time'] = pd.DatetimeIndex(convrted_df['time'])\n",
    "    return convrted_df\n",
    "\n",
    "# 第三步：为能够plot蜡烛图做准备：\n",
    "def cnvrt_date(convrted_df):\n",
    "    cnvrted_date_df = convrted_df.copy()\n",
    "    cnvrted_date_df['date'] = mpd.date2num(cnvrted_date_df['time'].dt.to_pydatetime())\n",
    "    return cnvrted_date_df\n",
    "\n",
    "# 第四步：plot蜡烛图：\n",
    "# Improved version:\n",
    "def plot_candlestick(cnvrted_date_df):\n",
    "    py_offline.init_notebook_mode()\n",
    "    candle_df = go.Candlestick( x   = cnvrted_date_df.index,\n",
    "                                open = cnvrted_date_df['open'],\n",
    "                                high = cnvrted_date_df['high'],\n",
    "                                low  = cnvrted_date_df['low'],\n",
    "                                close= cnvrted_date_df['close'])\n",
    "    data = [candle_df]\n",
    "#     plot_url = py.plot(data, filename='extend plot', fileopt='extend')\n",
    "    py_offline.iplot(data, filename='Candle Stick')\n",
    "#     plt.gcf().clear()"
   ]
  },
  {
   "cell_type": "code",
   "execution_count": null,
   "metadata": {},
   "outputs": [],
   "source": [
    "while True:\n",
    "    # Period的频率不能低于SQL里的数据频率。\n",
    "    period = '5T'\n",
    "    conn = psycopg2.connect(database=\"bitmexdata\", user=\"postgres\", password=\"tongKen123\", host=\"128.199.97.202\", port=\"5432\")\n",
    "    sqllasttime = \"\"\" SELECT time, open, high, low, close, volume from xbtusd_1m order by id desc limit 200\"\"\"\n",
    "    df = pd.read_sql(sqllasttime, con=conn)\n",
    "    conn.close()\n",
    "    \n",
    "    df.columns = ['time', 'open', 'high', 'low', 'close', 'volume']\n",
    "    df.index = pd.DatetimeIndex(df['time'])\n",
    "    res = resample(df, period)\n",
    "    cnvrted_date_df = cnvrt_date(res)\n",
    "\n",
    "    plot_candlestick(cnvrted_date_df)\n",
    "    time.sleep(10)\n",
    "    clear_output()"
   ]
  },
  {
   "cell_type": "markdown",
   "metadata": {},
   "source": [
    "## 改进实时绘图"
   ]
  },
  {
   "cell_type": "code",
   "execution_count": 16,
   "metadata": {
    "collapsed": true
   },
   "outputs": [],
   "source": [
    "# import plotly\n",
    "# plotly.tools.set_credentials_file(username='bradsun91', api_key='9S0DCEFijrvEeEj9tw7m')"
   ]
  },
  {
   "cell_type": "code",
   "execution_count": 13,
   "metadata": {
    "collapsed": true
   },
   "outputs": [
    {
     "data": {
      "text/html": [
       "<script>requirejs.config({paths: { 'plotly': ['https://cdn.plot.ly/plotly-latest.min']},});if(!window.Plotly) {{require(['plotly'],function(plotly) {window.Plotly=plotly;});}}</script>"
      ],
      "text/vnd.plotly.v1+html": [
       "<script>requirejs.config({paths: { 'plotly': ['https://cdn.plot.ly/plotly-latest.min']},});if(!window.Plotly) {{require(['plotly'],function(plotly) {window.Plotly=plotly;});}}</script>"
      ]
     },
     "metadata": {},
     "output_type": "display_data"
    },
    {
     "name": "stdout",
     "output_type": "stream",
     "text": [
      "This is the format of your plot grid:\n",
      "[ (1,1) x1,y1 ]\n",
      "\n"
     ]
    },
    {
     "data": {
      "application/vnd.plotly.v1+json": {
       "data": [
        {
         "type": "scatter",
         "x": [
          1,
          2,
          3
         ],
         "y": [
          4,
          5,
          6
         ]
        }
       ],
       "layout": {
        "xaxis1": {
         "anchor": "y1",
         "domain": [
          0,
          1
         ]
        },
        "yaxis1": {
         "anchor": "x1",
         "domain": [
          0,
          1
         ]
        }
       }
      },
      "text/html": [
       "<div id=\"b8eba9f5-e6e4-43d7-9019-df7585cfb0cc\" style=\"height: 525px; width: 100%;\" class=\"plotly-graph-div\"></div><script type=\"text/javascript\">require([\"plotly\"], function(Plotly) { window.PLOTLYENV=window.PLOTLYENV || {};window.PLOTLYENV.BASE_URL=\"https://plot.ly\";Plotly.newPlot(\"b8eba9f5-e6e4-43d7-9019-df7585cfb0cc\", [{\"x\": [1, 2, 3], \"type\": \"scatter\", \"y\": [4, 5, 6]}], {\"yaxis1\": {\"anchor\": \"x1\", \"domain\": [0.0, 1.0]}, \"xaxis1\": {\"anchor\": \"y1\", \"domain\": [0.0, 1.0]}}, {\"showLink\": true, \"linkText\": \"Export to plot.ly\"})});</script>"
      ],
      "text/vnd.plotly.v1+html": [
       "<div id=\"b8eba9f5-e6e4-43d7-9019-df7585cfb0cc\" style=\"height: 525px; width: 100%;\" class=\"plotly-graph-div\"></div><script type=\"text/javascript\">require([\"plotly\"], function(Plotly) { window.PLOTLYENV=window.PLOTLYENV || {};window.PLOTLYENV.BASE_URL=\"https://plot.ly\";Plotly.newPlot(\"b8eba9f5-e6e4-43d7-9019-df7585cfb0cc\", [{\"x\": [1, 2, 3], \"type\": \"scatter\", \"y\": [4, 5, 6]}], {\"yaxis1\": {\"anchor\": \"x1\", \"domain\": [0.0, 1.0]}, \"xaxis1\": {\"anchor\": \"y1\", \"domain\": [0.0, 1.0]}}, {\"showLink\": true, \"linkText\": \"Export to plot.ly\"})});</script>"
      ]
     },
     "metadata": {},
     "output_type": "display_data"
    },
    {
     "data": {
      "application/vnd.plotly.v1+json": {
       "data": [
        {
         "type": "scatter",
         "x": [
          0,
          1,
          2
         ],
         "y": [
          4,
          5,
          6
         ]
        }
       ],
       "layout": {
        "xaxis1": {
         "anchor": "y1",
         "domain": [
          0,
          1
         ]
        },
        "yaxis1": {
         "anchor": "x1",
         "domain": [
          0,
          1
         ]
        }
       }
      },
      "text/html": [
       "<div id=\"fa8b48bb-baa5-4498-86c0-bd5da638c127\" style=\"height: 525px; width: 100%;\" class=\"plotly-graph-div\"></div><script type=\"text/javascript\">require([\"plotly\"], function(Plotly) { window.PLOTLYENV=window.PLOTLYENV || {};window.PLOTLYENV.BASE_URL=\"https://plot.ly\";Plotly.newPlot(\"fa8b48bb-baa5-4498-86c0-bd5da638c127\", [{\"x\": [0, 1, 2], \"type\": \"scatter\", \"y\": [4, 5, 6]}], {\"yaxis1\": {\"anchor\": \"x1\", \"domain\": [0.0, 1.0]}, \"xaxis1\": {\"anchor\": \"y1\", \"domain\": [0.0, 1.0]}}, {\"showLink\": true, \"linkText\": \"Export to plot.ly\"})});</script>"
      ],
      "text/vnd.plotly.v1+html": [
       "<div id=\"fa8b48bb-baa5-4498-86c0-bd5da638c127\" style=\"height: 525px; width: 100%;\" class=\"plotly-graph-div\"></div><script type=\"text/javascript\">require([\"plotly\"], function(Plotly) { window.PLOTLYENV=window.PLOTLYENV || {};window.PLOTLYENV.BASE_URL=\"https://plot.ly\";Plotly.newPlot(\"fa8b48bb-baa5-4498-86c0-bd5da638c127\", [{\"x\": [0, 1, 2], \"type\": \"scatter\", \"y\": [4, 5, 6]}], {\"yaxis1\": {\"anchor\": \"x1\", \"domain\": [0.0, 1.0]}, \"xaxis1\": {\"anchor\": \"y1\", \"domain\": [0.0, 1.0]}}, {\"showLink\": true, \"linkText\": \"Export to plot.ly\"})});</script>"
      ]
     },
     "metadata": {},
     "output_type": "display_data"
    },
    {
     "data": {
      "application/vnd.plotly.v1+json": {
       "data": [
        {
         "type": "scatter",
         "x": [
          1,
          2,
          3
         ],
         "y": [
          4,
          5,
          6
         ]
        }
       ],
       "layout": {
        "xaxis1": {
         "anchor": "y1",
         "domain": [
          0,
          1
         ]
        },
        "yaxis1": {
         "anchor": "x1",
         "domain": [
          0,
          1
         ]
        }
       }
      },
      "text/html": [
       "<div id=\"4fb84a98-5bc3-4b98-85ca-faa8600a412d\" style=\"height: 525px; width: 100%;\" class=\"plotly-graph-div\"></div><script type=\"text/javascript\">require([\"plotly\"], function(Plotly) { window.PLOTLYENV=window.PLOTLYENV || {};window.PLOTLYENV.BASE_URL=\"https://plot.ly\";Plotly.newPlot(\"4fb84a98-5bc3-4b98-85ca-faa8600a412d\", [{\"x\": [1, 2, 3], \"type\": \"scatter\", \"y\": [4, 5, 6]}], {\"yaxis1\": {\"anchor\": \"x1\", \"domain\": [0.0, 1.0]}, \"xaxis1\": {\"anchor\": \"y1\", \"domain\": [0.0, 1.0]}}, {\"showLink\": true, \"linkText\": \"Export to plot.ly\"})});</script>"
      ],
      "text/vnd.plotly.v1+html": [
       "<div id=\"4fb84a98-5bc3-4b98-85ca-faa8600a412d\" style=\"height: 525px; width: 100%;\" class=\"plotly-graph-div\"></div><script type=\"text/javascript\">require([\"plotly\"], function(Plotly) { window.PLOTLYENV=window.PLOTLYENV || {};window.PLOTLYENV.BASE_URL=\"https://plot.ly\";Plotly.newPlot(\"4fb84a98-5bc3-4b98-85ca-faa8600a412d\", [{\"x\": [1, 2, 3], \"type\": \"scatter\", \"y\": [4, 5, 6]}], {\"yaxis1\": {\"anchor\": \"x1\", \"domain\": [0.0, 1.0]}, \"xaxis1\": {\"anchor\": \"y1\", \"domain\": [0.0, 1.0]}}, {\"showLink\": true, \"linkText\": \"Export to plot.ly\"})});</script>"
      ]
     },
     "metadata": {},
     "output_type": "display_data"
    },
    {
     "data": {
      "application/vnd.plotly.v1+json": {
       "data": [
        {
         "type": "scatter",
         "x": [
          2,
          3,
          4
         ],
         "y": [
          4,
          5,
          6
         ]
        }
       ],
       "layout": {
        "xaxis1": {
         "anchor": "y1",
         "domain": [
          0,
          1
         ]
        },
        "yaxis1": {
         "anchor": "x1",
         "domain": [
          0,
          1
         ]
        }
       }
      },
      "text/html": [
       "<div id=\"3abb6c9d-30de-46ba-8096-dc8b98bab0cf\" style=\"height: 525px; width: 100%;\" class=\"plotly-graph-div\"></div><script type=\"text/javascript\">require([\"plotly\"], function(Plotly) { window.PLOTLYENV=window.PLOTLYENV || {};window.PLOTLYENV.BASE_URL=\"https://plot.ly\";Plotly.newPlot(\"3abb6c9d-30de-46ba-8096-dc8b98bab0cf\", [{\"x\": [2, 3, 4], \"type\": \"scatter\", \"y\": [4, 5, 6]}], {\"yaxis1\": {\"anchor\": \"x1\", \"domain\": [0.0, 1.0]}, \"xaxis1\": {\"anchor\": \"y1\", \"domain\": [0.0, 1.0]}}, {\"showLink\": true, \"linkText\": \"Export to plot.ly\"})});</script>"
      ],
      "text/vnd.plotly.v1+html": [
       "<div id=\"3abb6c9d-30de-46ba-8096-dc8b98bab0cf\" style=\"height: 525px; width: 100%;\" class=\"plotly-graph-div\"></div><script type=\"text/javascript\">require([\"plotly\"], function(Plotly) { window.PLOTLYENV=window.PLOTLYENV || {};window.PLOTLYENV.BASE_URL=\"https://plot.ly\";Plotly.newPlot(\"3abb6c9d-30de-46ba-8096-dc8b98bab0cf\", [{\"x\": [2, 3, 4], \"type\": \"scatter\", \"y\": [4, 5, 6]}], {\"yaxis1\": {\"anchor\": \"x1\", \"domain\": [0.0, 1.0]}, \"xaxis1\": {\"anchor\": \"y1\", \"domain\": [0.0, 1.0]}}, {\"showLink\": true, \"linkText\": \"Export to plot.ly\"})});</script>"
      ]
     },
     "metadata": {},
     "output_type": "display_data"
    },
    {
     "data": {
      "application/vnd.plotly.v1+json": {
       "data": [
        {
         "type": "scatter",
         "x": [
          3,
          4,
          5
         ],
         "y": [
          4,
          5,
          6
         ]
        }
       ],
       "layout": {
        "xaxis1": {
         "anchor": "y1",
         "domain": [
          0,
          1
         ]
        },
        "yaxis1": {
         "anchor": "x1",
         "domain": [
          0,
          1
         ]
        }
       }
      },
      "text/html": [
       "<div id=\"24e4c008-f568-4087-955e-d322a8b724f1\" style=\"height: 525px; width: 100%;\" class=\"plotly-graph-div\"></div><script type=\"text/javascript\">require([\"plotly\"], function(Plotly) { window.PLOTLYENV=window.PLOTLYENV || {};window.PLOTLYENV.BASE_URL=\"https://plot.ly\";Plotly.newPlot(\"24e4c008-f568-4087-955e-d322a8b724f1\", [{\"x\": [3, 4, 5], \"type\": \"scatter\", \"y\": [4, 5, 6]}], {\"yaxis1\": {\"anchor\": \"x1\", \"domain\": [0.0, 1.0]}, \"xaxis1\": {\"anchor\": \"y1\", \"domain\": [0.0, 1.0]}}, {\"showLink\": true, \"linkText\": \"Export to plot.ly\"})});</script>"
      ],
      "text/vnd.plotly.v1+html": [
       "<div id=\"24e4c008-f568-4087-955e-d322a8b724f1\" style=\"height: 525px; width: 100%;\" class=\"plotly-graph-div\"></div><script type=\"text/javascript\">require([\"plotly\"], function(Plotly) { window.PLOTLYENV=window.PLOTLYENV || {};window.PLOTLYENV.BASE_URL=\"https://plot.ly\";Plotly.newPlot(\"24e4c008-f568-4087-955e-d322a8b724f1\", [{\"x\": [3, 4, 5], \"type\": \"scatter\", \"y\": [4, 5, 6]}], {\"yaxis1\": {\"anchor\": \"x1\", \"domain\": [0.0, 1.0]}, \"xaxis1\": {\"anchor\": \"y1\", \"domain\": [0.0, 1.0]}}, {\"showLink\": true, \"linkText\": \"Export to plot.ly\"})});</script>"
      ]
     },
     "metadata": {},
     "output_type": "display_data"
    },
    {
     "data": {
      "application/vnd.plotly.v1+json": {
       "data": [
        {
         "type": "scatter",
         "x": [
          4,
          5,
          6
         ],
         "y": [
          4,
          5,
          6
         ]
        }
       ],
       "layout": {
        "xaxis1": {
         "anchor": "y1",
         "domain": [
          0,
          1
         ]
        },
        "yaxis1": {
         "anchor": "x1",
         "domain": [
          0,
          1
         ]
        }
       }
      },
      "text/html": [
       "<div id=\"9e59d8e1-5dad-44ec-82a0-09d86c47ef28\" style=\"height: 525px; width: 100%;\" class=\"plotly-graph-div\"></div><script type=\"text/javascript\">require([\"plotly\"], function(Plotly) { window.PLOTLYENV=window.PLOTLYENV || {};window.PLOTLYENV.BASE_URL=\"https://plot.ly\";Plotly.newPlot(\"9e59d8e1-5dad-44ec-82a0-09d86c47ef28\", [{\"x\": [4, 5, 6], \"type\": \"scatter\", \"y\": [4, 5, 6]}], {\"yaxis1\": {\"anchor\": \"x1\", \"domain\": [0.0, 1.0]}, \"xaxis1\": {\"anchor\": \"y1\", \"domain\": [0.0, 1.0]}}, {\"showLink\": true, \"linkText\": \"Export to plot.ly\"})});</script>"
      ],
      "text/vnd.plotly.v1+html": [
       "<div id=\"9e59d8e1-5dad-44ec-82a0-09d86c47ef28\" style=\"height: 525px; width: 100%;\" class=\"plotly-graph-div\"></div><script type=\"text/javascript\">require([\"plotly\"], function(Plotly) { window.PLOTLYENV=window.PLOTLYENV || {};window.PLOTLYENV.BASE_URL=\"https://plot.ly\";Plotly.newPlot(\"9e59d8e1-5dad-44ec-82a0-09d86c47ef28\", [{\"x\": [4, 5, 6], \"type\": \"scatter\", \"y\": [4, 5, 6]}], {\"yaxis1\": {\"anchor\": \"x1\", \"domain\": [0.0, 1.0]}, \"xaxis1\": {\"anchor\": \"y1\", \"domain\": [0.0, 1.0]}}, {\"showLink\": true, \"linkText\": \"Export to plot.ly\"})});</script>"
      ]
     },
     "metadata": {},
     "output_type": "display_data"
    },
    {
     "data": {
      "application/vnd.plotly.v1+json": {
       "data": [
        {
         "type": "scatter",
         "x": [
          5,
          6,
          7
         ],
         "y": [
          4,
          5,
          6
         ]
        }
       ],
       "layout": {
        "xaxis1": {
         "anchor": "y1",
         "domain": [
          0,
          1
         ]
        },
        "yaxis1": {
         "anchor": "x1",
         "domain": [
          0,
          1
         ]
        }
       }
      },
      "text/html": [
       "<div id=\"317059ae-af39-4d85-acdc-0c0375cfcaab\" style=\"height: 525px; width: 100%;\" class=\"plotly-graph-div\"></div><script type=\"text/javascript\">require([\"plotly\"], function(Plotly) { window.PLOTLYENV=window.PLOTLYENV || {};window.PLOTLYENV.BASE_URL=\"https://plot.ly\";Plotly.newPlot(\"317059ae-af39-4d85-acdc-0c0375cfcaab\", [{\"x\": [5, 6, 7], \"type\": \"scatter\", \"y\": [4, 5, 6]}], {\"yaxis1\": {\"anchor\": \"x1\", \"domain\": [0.0, 1.0]}, \"xaxis1\": {\"anchor\": \"y1\", \"domain\": [0.0, 1.0]}}, {\"showLink\": true, \"linkText\": \"Export to plot.ly\"})});</script>"
      ],
      "text/vnd.plotly.v1+html": [
       "<div id=\"317059ae-af39-4d85-acdc-0c0375cfcaab\" style=\"height: 525px; width: 100%;\" class=\"plotly-graph-div\"></div><script type=\"text/javascript\">require([\"plotly\"], function(Plotly) { window.PLOTLYENV=window.PLOTLYENV || {};window.PLOTLYENV.BASE_URL=\"https://plot.ly\";Plotly.newPlot(\"317059ae-af39-4d85-acdc-0c0375cfcaab\", [{\"x\": [5, 6, 7], \"type\": \"scatter\", \"y\": [4, 5, 6]}], {\"yaxis1\": {\"anchor\": \"x1\", \"domain\": [0.0, 1.0]}, \"xaxis1\": {\"anchor\": \"y1\", \"domain\": [0.0, 1.0]}}, {\"showLink\": true, \"linkText\": \"Export to plot.ly\"})});</script>"
      ]
     },
     "metadata": {},
     "output_type": "display_data"
    },
    {
     "ename": "KeyboardInterrupt",
     "evalue": "",
     "output_type": "error",
     "traceback": [
      "\u001b[0;31m---------------------------------------------------------------------------\u001b[0m",
      "\u001b[0;31mKeyboardInterrupt\u001b[0m                         Traceback (most recent call last)",
      "\u001b[0;32m<ipython-input-13-009dc068f133>\u001b[0m in \u001b[0;36m<module>\u001b[0;34m()\u001b[0m\n\u001b[1;32m     15\u001b[0m \u001b[1;33m\u001b[0m\u001b[0m\n\u001b[1;32m     16\u001b[0m \u001b[1;32mfor\u001b[0m \u001b[0mi\u001b[0m \u001b[1;32min\u001b[0m \u001b[0mrange\u001b[0m\u001b[1;33m(\u001b[0m\u001b[1;36m10\u001b[0m\u001b[1;33m)\u001b[0m\u001b[1;33m:\u001b[0m\u001b[1;33m\u001b[0m\u001b[0m\n\u001b[0;32m---> 17\u001b[0;31m     \u001b[0mtime\u001b[0m\u001b[1;33m.\u001b[0m\u001b[0msleep\u001b[0m\u001b[1;33m(\u001b[0m\u001b[1;36m1\u001b[0m\u001b[1;33m)\u001b[0m\u001b[1;33m\u001b[0m\u001b[0m\n\u001b[0m\u001b[1;32m     18\u001b[0m     trace = go.Scatter(\n\u001b[1;32m     19\u001b[0m         \u001b[0mx\u001b[0m\u001b[1;33m=\u001b[0m\u001b[1;33m[\u001b[0m\u001b[0mi\u001b[0m\u001b[1;33m,\u001b[0m \u001b[0mi\u001b[0m\u001b[1;33m+\u001b[0m\u001b[1;36m1\u001b[0m\u001b[1;33m,\u001b[0m \u001b[0mi\u001b[0m\u001b[1;33m+\u001b[0m\u001b[1;36m2\u001b[0m\u001b[1;33m]\u001b[0m\u001b[1;33m,\u001b[0m\u001b[1;33m\u001b[0m\u001b[0m\n",
      "\u001b[0;31mKeyboardInterrupt\u001b[0m: "
     ]
    }
   ],
   "source": [
    "# import plotly.offline as pyo\n",
    "# from plotly import tools\n",
    "# import time\n",
    "\n",
    "# pyo.init_notebook_mode(connected=True)\n",
    "\n",
    "# trace = go.Scatter(\n",
    "#     x=[1, 2, 3],\n",
    "#     y=[4, 5, 6]\n",
    "# )\n",
    "\n",
    "# fig = tools.make_subplots(rows=1, cols=1)\n",
    "# fig['data'].append(trace)\n",
    "# pyo.iplot(fig)\n",
    "\n",
    "# for i in range(10):\n",
    "#     time.sleep(1)\n",
    "#     trace = go.Scatter(\n",
    "#         x=[i, i+1, i+2],\n",
    "#         y=[4, 5, 6]\n",
    "#     )\n",
    "#     fig['data'].update(trace)\n",
    "#     pyo.iplot(fig)"
   ]
  },
  {
   "cell_type": "code",
   "execution_count": 15,
   "metadata": {},
   "outputs": [],
   "source": [
    "# from dash.dependencies import Output, Event\n",
    "# import dash\n",
    "# import dash_core_components as dcc\n",
    "# import dash_html_components as html\n",
    "# import numpy as np\n",
    "# import pandas as pd\n",
    "# import plotly\n",
    "# import plotly.graph_objs as go\n",
    "\n",
    "# dados = np.array([[1509608700000,0.00002246,0.00002246,0.00002246,0.00002246,100.00000000,1509609599999],\n",
    "# [1509609600000,0.00002800,0.00002802,0.00002800,0.00002800,6832.00000000,1509610499999],\n",
    "# [1509610500000,0.00002700,0.00002700,0.00002501,0.00002501,3936.00000000,1509611399999],\n",
    "# [1509611400000,0.00002588,0.00002678,0.00002588,0.00002614,7125.00000000,1509612299999],\n",
    "# [1509612300000,0.00002615,0.00002621,0.00002614,0.00002617,19318.00000000,1509613199999],\n",
    "# [1509613200000,0.00002627,0.00002643,0.00002625,0.00002627,109218.00000000,1509614099999],\n",
    "# [1509614100000,0.00002627,0.00002642,0.00002603,0.00002639,134825.00000000,1509614999999],\n",
    "# [1509615000000,0.00002639,0.00002655,0.00002616,0.00002618,74432.00000000,1509615899999]\n",
    "# ])\n",
    "\n",
    "# columns = ['open_time', 'open', 'high', 'low','close', 'volume', 'close_time']\n",
    "\n",
    "# df = pd.DataFrame(data=dados, columns=columns)\n",
    "\n",
    "# last_id = 0\n",
    "\n",
    "# app = dash.Dash(__name__)\n",
    "\n",
    "# app.layout = html.Div(\n",
    "#     html.Div(className='container-fluid',children=\n",
    "# [\n",
    "# \thtml.Div(className='row', children=html.Div(dcc.Graph(id='live-graph', animate=True), className='col s12 m12 l12')),\n",
    "# \tdcc.Interval(\n",
    "# \t\tid='graph-update',\n",
    "# \t\tinterval=5000\n",
    "# \t)\n",
    "# ]),\n",
    "# )\n",
    "\n",
    "# @app.callback(\n",
    "# Output('live-graph','figure'),\n",
    "# events = [Event('graph-update','interval')]\n",
    "# )\n",
    "# def graph_update():\n",
    "#     global df\n",
    "\n",
    "#     ndf = df.iloc[0:2]\n",
    "#     print(ndf)\n",
    "\n",
    "#     last_id = ndf.iloc[0]['open_time']\n",
    "\n",
    "#     ndf['data'] = pd.to_datetime(ndf['open_time'], unit='ms')\n",
    "#     ndf.set_index('open_time', inplace=True)\n",
    "#     ndf.round({'close': 8, 'open': 8, 'high': 8, 'low': 8})\n",
    "\n",
    "#     data = [ dict(\n",
    "#         type = 'candlestick',\n",
    "#         open = ndf.open,\n",
    "#         high = ndf.high,\n",
    "#         low = ndf.low,\n",
    "#         close = ndf.close,\n",
    "#         x = ndf.data,\n",
    "#         yaxis = 'y2',\n",
    "#         name = 'Ripple',\n",
    "#     )]\n",
    "\n",
    "#     df = df.iloc[2:]\n",
    "#     print(df)\n",
    "\n",
    "#     return {'data': data, 'layout': {'title': str(last_id)}}\n",
    "\n",
    "# external_css = [\"https://cdnjs.cloudflare.com/ajax/libs/materialize/0.100.2/css/materialize.min.css\"]\n",
    "# for css in external_css:\n",
    "#     app.css.append_css({\"external_url\": css})\n",
    "\n",
    "# external_js = ['https://cdnjs.cloudflare.com/ajax/libs/materialize/0.100.2/js/materialize.min.js']\n",
    "# for js in external_js:\n",
    "#     app.scripts.append_script({'external_url': js})\n",
    "\n",
    "# server = app.server\n",
    "# dev_server = app.run_server(debug=True)"
   ]
  },
  {
   "cell_type": "code",
   "execution_count": 14,
   "metadata": {
    "collapsed": true
   },
   "outputs": [],
   "source": [
    "# import plotly.plotly as py\n",
    "# import plotly.graph_objs as go\n",
    "\n",
    "# data = [\n",
    "#     go.Scatter(\n",
    "#         x=[1, 2],\n",
    "#         y=[3, 4]\n",
    "#     )\n",
    "# ]\n",
    "\n",
    "# plot_url = py.plot(data, filename='my plot')"
   ]
  },
  {
   "cell_type": "code",
   "execution_count": 13,
   "metadata": {},
   "outputs": [],
   "source": [
    "# import plotly.plotly as py\n",
    "# import plotly.graph_objs as go\n",
    "\n",
    "# trace0 = go.Scatter(\n",
    "#     x=[1, 2],\n",
    "#     y=[1, 2]\n",
    "# )\n",
    "\n",
    "# trace1 = go.Scatter(\n",
    "#     x=[1, 2],\n",
    "#     y=[2, 3]\n",
    "# )\n",
    "\n",
    "# trace2 = go.Scatter(\n",
    "#     x=[1, 2],\n",
    "#     y=[3, 4]\n",
    "# )\n",
    "\n",
    "# data = [trace0, trace1, trace2]\n",
    "\n",
    "# # Take 1: if there is no data in the plot, 'extend' will create new traces.\n",
    "# plot_url = py.plot(data, filename='extend plot', fileopt='extend')"
   ]
  },
  {
   "cell_type": "code",
   "execution_count": 12,
   "metadata": {},
   "outputs": [],
   "source": [
    "# trace0 = go.Scatter(\n",
    "#     x=[3, 4],\n",
    "#     y=[2, 1]\n",
    "# )\n",
    "\n",
    "# trace1 = go.Scatter(\n",
    "#     x=[3, 4],\n",
    "#     y=[3, 2]\n",
    "# )\n",
    "\n",
    "# trace2 = go.Scatter(\n",
    "#     x=[3, 4],\n",
    "#     y=[4, 3]\n",
    "# )\n",
    "\n",
    "# data = [trace0, trace1, trace2]\n",
    "\n",
    "# # Take 2: extend the traces on the plot with the data in the order supplied.\n",
    "# plot_url = py.plot(data, filename='extend plot', fileopt='extend')"
   ]
  }
 ],
 "metadata": {
  "anaconda-cloud": {},
  "hide_input": false,
  "kernelspec": {
   "display_name": "Python 3",
   "language": "python",
   "name": "python3"
  },
  "language_info": {
   "codemirror_mode": {
    "name": "ipython",
    "version": 3
   },
   "file_extension": ".py",
   "mimetype": "text/x-python",
   "name": "python",
   "nbconvert_exporter": "python",
   "pygments_lexer": "ipython3",
   "version": "3.7.0"
  },
  "nav_menu": {},
  "toc": {
   "navigate_menu": true,
   "number_sections": true,
   "sideBar": true,
   "threshold": 6,
   "toc_cell": false,
   "toc_section_display": "block",
   "toc_window_display": false
  }
 },
 "nbformat": 4,
 "nbformat_minor": 2
}
