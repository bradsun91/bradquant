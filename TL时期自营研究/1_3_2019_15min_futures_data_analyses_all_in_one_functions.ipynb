{
 "cells": [
  {
   "cell_type": "code",
   "execution_count": 10,
   "metadata": {},
   "outputs": [],
   "source": [
    "import glob\n",
    "import pandas as pd\n",
    "import numpy as np\n",
    "import matplotlib.pyplot as plt\n",
    "import seaborn as sns\n",
    "\n",
    "%matplotlib inline"
   ]
  },
  {
   "cell_type": "code",
   "execution_count": 11,
   "metadata": {},
   "outputs": [],
   "source": [
    "files = glob.glob(\"C:/Users/workspace/brad_public_workspace_on_win/SH_tongliang/data/commodities_data/1_3_2019_run_corr_15min/*.csv\")\n",
    "file_len = len(files)"
   ]
  },
  {
   "cell_type": "markdown",
   "metadata": {},
   "source": [
    "# Create functions to process & build csv files in a format of concatted dataframe:"
   ]
  },
  {
   "cell_type": "markdown",
   "metadata": {},
   "source": [
    "- Specifically for the format of file name: e.g. a9000_d.csv\n",
    "\n",
    "- Specially for the downloaded data files from TB"
   ]
  },
  {
   "cell_type": "code",
   "execution_count": 12,
   "metadata": {},
   "outputs": [],
   "source": [
    "def read_and_add_tickers(file):\n",
    "    df = pd.read_csv(file, header=None, sep = ',')\n",
    "    ticker = file.split(\"\\\\\",1)[1].split(\".\",1)[0].split(\"_\",1)[0]\n",
    "    df['ticker'] = ticker\n",
    "    return df\n",
    "\n",
    "# all_csv_files format example:\"C:/Users/12_28_commodities_daily/*.csv\"\n",
    "def concat_files_inside_folders(all_csv_files):\n",
    "    files = glob.glob(all_csv_files)\n",
    "    dfs = [read_and_add_tickers(file) for file in files]\n",
    "    futuresdata = pd.concat(dfs,ignore_index=True)\n",
    "    futuresdata.columns = ['date', 'open', 'high', 'low', 'close', 'volume', 'holdings', 'ticker']\n",
    "    return futuresdata"
   ]
  },
  {
   "cell_type": "code",
   "execution_count": 13,
   "metadata": {},
   "outputs": [],
   "source": [
    "# Test the function:\n",
    "data = concat_files_inside_folders(\"C:/Users/workspace/brad_public_workspace_on_win/SH_tongliang/data/commodities_data/1_3_2019_run_corr_15min/*.csv\")"
   ]
  },
  {
   "cell_type": "code",
   "execution_count": 14,
   "metadata": {},
   "outputs": [
    {
     "data": {
      "text/html": [
       "<div>\n",
       "<style scoped>\n",
       "    .dataframe tbody tr th:only-of-type {\n",
       "        vertical-align: middle;\n",
       "    }\n",
       "\n",
       "    .dataframe tbody tr th {\n",
       "        vertical-align: top;\n",
       "    }\n",
       "\n",
       "    .dataframe thead th {\n",
       "        text-align: right;\n",
       "    }\n",
       "</style>\n",
       "<table border=\"1\" class=\"dataframe\">\n",
       "  <thead>\n",
       "    <tr style=\"text-align: right;\">\n",
       "      <th></th>\n",
       "      <th>date</th>\n",
       "      <th>open</th>\n",
       "      <th>high</th>\n",
       "      <th>low</th>\n",
       "      <th>close</th>\n",
       "      <th>volume</th>\n",
       "      <th>holdings</th>\n",
       "      <th>ticker</th>\n",
       "    </tr>\n",
       "  </thead>\n",
       "  <tbody>\n",
       "    <tr>\n",
       "      <th>489786</th>\n",
       "      <td>2019/01/03 13:45</td>\n",
       "      <td>2140.0</td>\n",
       "      <td>2142.0</td>\n",
       "      <td>2138.0</td>\n",
       "      <td>2141.0</td>\n",
       "      <td>13718</td>\n",
       "      <td>577670</td>\n",
       "      <td>RM000</td>\n",
       "    </tr>\n",
       "    <tr>\n",
       "      <th>489787</th>\n",
       "      <td>2019/01/03 14:00</td>\n",
       "      <td>2141.0</td>\n",
       "      <td>2145.0</td>\n",
       "      <td>2141.0</td>\n",
       "      <td>2143.0</td>\n",
       "      <td>17758</td>\n",
       "      <td>578062</td>\n",
       "      <td>RM000</td>\n",
       "    </tr>\n",
       "    <tr>\n",
       "      <th>489788</th>\n",
       "      <td>2019/01/03 14:15</td>\n",
       "      <td>2143.0</td>\n",
       "      <td>2143.0</td>\n",
       "      <td>2139.0</td>\n",
       "      <td>2140.0</td>\n",
       "      <td>17758</td>\n",
       "      <td>576928</td>\n",
       "      <td>RM000</td>\n",
       "    </tr>\n",
       "    <tr>\n",
       "      <th>489789</th>\n",
       "      <td>2019/01/03 14:30</td>\n",
       "      <td>2140.0</td>\n",
       "      <td>2143.0</td>\n",
       "      <td>2140.0</td>\n",
       "      <td>2142.0</td>\n",
       "      <td>15546</td>\n",
       "      <td>574754</td>\n",
       "      <td>RM000</td>\n",
       "    </tr>\n",
       "    <tr>\n",
       "      <th>489790</th>\n",
       "      <td>2019/01/03 14:45</td>\n",
       "      <td>2142.0</td>\n",
       "      <td>2144.0</td>\n",
       "      <td>2141.0</td>\n",
       "      <td>2142.0</td>\n",
       "      <td>23370</td>\n",
       "      <td>562806</td>\n",
       "      <td>RM000</td>\n",
       "    </tr>\n",
       "  </tbody>\n",
       "</table>\n",
       "</div>"
      ],
      "text/plain": [
       "                    date    open    high     low   close  volume  holdings  \\\n",
       "489786  2019/01/03 13:45  2140.0  2142.0  2138.0  2141.0   13718    577670   \n",
       "489787  2019/01/03 14:00  2141.0  2145.0  2141.0  2143.0   17758    578062   \n",
       "489788  2019/01/03 14:15  2143.0  2143.0  2139.0  2140.0   17758    576928   \n",
       "489789  2019/01/03 14:30  2140.0  2143.0  2140.0  2142.0   15546    574754   \n",
       "489790  2019/01/03 14:45  2142.0  2144.0  2141.0  2142.0   23370    562806   \n",
       "\n",
       "       ticker  \n",
       "489786  RM000  \n",
       "489787  RM000  \n",
       "489788  RM000  \n",
       "489789  RM000  \n",
       "489790  RM000  "
      ]
     },
     "execution_count": 14,
     "metadata": {},
     "output_type": "execute_result"
    }
   ],
   "source": [
    "data.tail()"
   ]
  },
  {
   "cell_type": "code",
   "execution_count": 15,
   "metadata": {},
   "outputs": [
    {
     "data": {
      "text/plain": [
       "489791"
      ]
     },
     "execution_count": 15,
     "metadata": {},
     "output_type": "execute_result"
    }
   ],
   "source": [
    "len(data)"
   ]
  },
  {
   "cell_type": "markdown",
   "metadata": {},
   "source": [
    "# Create functions to generate statistical analyses for all tickers' data\n",
    "\n",
    "This part is based on the dataframe we have generated from Step One."
   ]
  },
  {
   "cell_type": "markdown",
   "metadata": {},
   "source": [
    "## Correlation Heatmap"
   ]
  },
  {
   "cell_type": "code",
   "execution_count": 16,
   "metadata": {},
   "outputs": [
    {
     "data": {
      "text/html": [
       "<div>\n",
       "<style scoped>\n",
       "    .dataframe tbody tr th:only-of-type {\n",
       "        vertical-align: middle;\n",
       "    }\n",
       "\n",
       "    .dataframe tbody tr th {\n",
       "        vertical-align: top;\n",
       "    }\n",
       "\n",
       "    .dataframe thead th {\n",
       "        text-align: right;\n",
       "    }\n",
       "</style>\n",
       "<table border=\"1\" class=\"dataframe\">\n",
       "  <thead>\n",
       "    <tr style=\"text-align: right;\">\n",
       "      <th></th>\n",
       "      <th>date</th>\n",
       "      <th>close</th>\n",
       "      <th>ticker</th>\n",
       "    </tr>\n",
       "  </thead>\n",
       "  <tbody>\n",
       "    <tr>\n",
       "      <th>0</th>\n",
       "      <td>2012/05/10 09:00</td>\n",
       "      <td>6163.0</td>\n",
       "      <td>ag000</td>\n",
       "    </tr>\n",
       "    <tr>\n",
       "      <th>1</th>\n",
       "      <td>2012/05/10 09:15</td>\n",
       "      <td>6160.0</td>\n",
       "      <td>ag000</td>\n",
       "    </tr>\n",
       "    <tr>\n",
       "      <th>2</th>\n",
       "      <td>2012/05/10 09:30</td>\n",
       "      <td>6149.0</td>\n",
       "      <td>ag000</td>\n",
       "    </tr>\n",
       "  </tbody>\n",
       "</table>\n",
       "</div>"
      ],
      "text/plain": [
       "               date   close ticker\n",
       "0  2012/05/10 09:00  6163.0  ag000\n",
       "1  2012/05/10 09:15  6160.0  ag000\n",
       "2  2012/05/10 09:30  6149.0  ag000"
      ]
     },
     "execution_count": 16,
     "metadata": {},
     "output_type": "execute_result"
    }
   ],
   "source": [
    "data_ = data[['date', 'close', 'ticker']]\n",
    "data_.head(3)"
   ]
  },
  {
   "cell_type": "code",
   "execution_count": 17,
   "metadata": {},
   "outputs": [],
   "source": [
    "# Generate a ticker list for later use.\n",
    "def create_ticker_list(all_csv_files):\n",
    "    ticker_list = []\n",
    "    files = glob.glob(all_csv_files)\n",
    "    for file in files:\n",
    "        ticker = file.split(\"\\\\\",1)[1].split(\".\",1)[0].split(\"_\",1)[0]\n",
    "        ticker_list.append(ticker)\n",
    "    return ticker_list\n",
    "\n",
    "ticker_list = create_ticker_list(\"C:/Users/workspace/brad_public_workspace_on_win/SH_tongliang/data/commodities_data/1_3_2019_run_corr_15min/*.csv\")"
   ]
  },
  {
   "cell_type": "code",
   "execution_count": 18,
   "metadata": {},
   "outputs": [
    {
     "name": "stderr",
     "output_type": "stream",
     "text": [
      "C:\\Users\\Brad Sun\\Anaconda3\\lib\\site-packages\\ipykernel_launcher.py:2: SettingWithCopyWarning: \n",
      "A value is trying to be set on a copy of a slice from a DataFrame.\n",
      "Try using .loc[row_indexer,col_indexer] = value instead\n",
      "\n",
      "See the caveats in the documentation: http://pandas.pydata.org/pandas-docs/stable/indexing.html#indexing-view-versus-copy\n",
      "  \n"
     ]
    }
   ],
   "source": [
    "# Create a new column for the percentage change of each ticker's close price\n",
    "data_['pct_chg'] = data_.groupby(['ticker'])['close'].apply(lambda x: x.pct_change())"
   ]
  },
  {
   "cell_type": "code",
   "execution_count": 23,
   "metadata": {},
   "outputs": [
    {
     "name": "stdout",
     "output_type": "stream",
     "text": [
      "               date   close ticker   pct_chg\n",
      "0  2012/05/10 09:00  6163.0  ag000       NaN\n",
      "1  2012/05/10 09:15  6160.0  ag000 -0.000487\n",
      "2  2012/05/10 09:30  6149.0  ag000 -0.001786\n",
      "                    date    close ticker   pct_chg\n",
      "188080  2006/01/26 11:15  45125.0  cu000       NaN\n",
      "188081  2006/01/26 13:30  45144.0  cu000  0.000421\n",
      "188082  2006/01/26 13:45  45252.0  cu000  0.002392\n"
     ]
    }
   ],
   "source": [
    "# Check if the first pct_chg for each ticker is NaN, if so, then good to proceed.\n",
    "print (data_[data_['ticker']=='ag000'].head(3))\n",
    "print (data_[data_['ticker']=='cu000'].head(3))"
   ]
  },
  {
   "cell_type": "code",
   "execution_count": 24,
   "metadata": {},
   "outputs": [],
   "source": [
    "# create a ticker_dfs as a data table list, separated by tickers, for later merging's purpose.\n",
    "def choose_df_on_tickers(ticker, main_df):\n",
    "    ticker_df = main_df[main_df['ticker']==ticker]\n",
    "    return ticker_df\n",
    "\n",
    "ticker_dfs = [choose_df_on_tickers(ticker, data_) for ticker in ticker_list]"
   ]
  },
  {
   "cell_type": "code",
   "execution_count": 27,
   "metadata": {},
   "outputs": [],
   "source": [
    "# Trim each ticker's data table's columns to only date and pct_chg\n",
    "# And then change the pct_chg column name to each ticker's name for later correlation plotting's purpose\n",
    "def choose_pct_col_df(ticker_df):\n",
    "    ticker_col = ticker_df['ticker'].values[1]\n",
    "    ticker_df_trimmed = ticker_df[['date', 'pct_chg']]\n",
    "    ticker_df_trimmed.columns = ['date', ticker_col]\n",
    "    return ticker_df_trimmed\n",
    "\n",
    "# ticker_df_trimmed is still a list including all tickers' data tables\n",
    "ticker_df_trimmed = [choose_pct_col_df(ticker_df) for ticker_df in ticker_dfs]"
   ]
  },
  {
   "cell_type": "code",
   "execution_count": 28,
   "metadata": {},
   "outputs": [],
   "source": [
    "# Create the first merged dataframe using the first two tickers' data\n",
    "merged = ticker_df_trimmed[0].merge(ticker_df_trimmed[1], on = 'date', how='outer')"
   ]
  },
  {
   "cell_type": "code",
   "execution_count": 29,
   "metadata": {},
   "outputs": [
    {
     "data": {
      "text/html": [
       "<div>\n",
       "<style scoped>\n",
       "    .dataframe tbody tr th:only-of-type {\n",
       "        vertical-align: middle;\n",
       "    }\n",
       "\n",
       "    .dataframe tbody tr th {\n",
       "        vertical-align: top;\n",
       "    }\n",
       "\n",
       "    .dataframe thead th {\n",
       "        text-align: right;\n",
       "    }\n",
       "</style>\n",
       "<table border=\"1\" class=\"dataframe\">\n",
       "  <thead>\n",
       "    <tr style=\"text-align: right;\">\n",
       "      <th></th>\n",
       "      <th>date</th>\n",
       "      <th>ag000</th>\n",
       "      <th>al000</th>\n",
       "    </tr>\n",
       "  </thead>\n",
       "  <tbody>\n",
       "    <tr>\n",
       "      <th>0</th>\n",
       "      <td>2012/05/10 09:00</td>\n",
       "      <td>NaN</td>\n",
       "      <td>-0.00062</td>\n",
       "    </tr>\n",
       "    <tr>\n",
       "      <th>1</th>\n",
       "      <td>2012/05/10 09:15</td>\n",
       "      <td>-0.000487</td>\n",
       "      <td>-0.00031</td>\n",
       "    </tr>\n",
       "  </tbody>\n",
       "</table>\n",
       "</div>"
      ],
      "text/plain": [
       "               date     ag000    al000\n",
       "0  2012/05/10 09:00       NaN -0.00062\n",
       "1  2012/05/10 09:15 -0.000487 -0.00031"
      ]
     },
     "execution_count": 29,
     "metadata": {},
     "output_type": "execute_result"
    }
   ],
   "source": [
    "merged.head(2)"
   ]
  },
  {
   "cell_type": "code",
   "execution_count": 30,
   "metadata": {},
   "outputs": [
    {
     "name": "stdout",
     "output_type": "stream",
     "text": [
      "------------------------\n",
      "ticker 1:  ag000\n",
      "start_date 2012/05/10 09:00\n",
      "end_date 2019/01/03 14:45\n",
      "------------------------\n",
      "ticker 2:  al000\n",
      "start_date 2006/01/26 14:45\n",
      "end_date 2019/01/03 14:45\n",
      "------------------------\n",
      "ticker 3:  au000\n",
      "start_date 2008/01/09 09:00\n",
      "end_date 2019/01/03 14:45\n",
      "------------------------\n",
      "ticker 4:  cu000\n",
      "start_date 2006/01/26 11:15\n",
      "end_date 2019/01/03 14:45\n",
      "------------------------\n",
      "ticker 5:  hc000\n",
      "start_date 2014/03/21 09:00\n",
      "end_date 2019/01/03 14:45\n",
      "------------------------\n",
      "ticker 6:  j9000\n",
      "start_date 2011/04/15 09:00\n",
      "end_date 2019/01/03 14:45\n",
      "------------------------\n",
      "ticker 7:  jm000\n",
      "start_date 2013/03/22 09:00\n",
      "end_date 2019/01/03 14:45\n",
      "------------------------\n",
      "ticker 8:  m9000\n",
      "start_date 2006/01/27 14:15\n",
      "end_date 2019/01/03 14:45\n",
      "------------------------\n",
      "ticker 9:  rb000\n",
      "start_date 2009/03/27 09:00\n",
      "end_date 2019/01/03 14:45\n",
      "------------------------\n",
      "ticker 10:  RM000\n",
      "start_date 2012/12/28 09:00\n",
      "end_date 2019/01/03 14:45\n",
      "------------------------\n",
      "Hit the last one. Done\n"
     ]
    }
   ],
   "source": [
    "# Check each ticker data's date range:\n",
    "def check_dt_range(ticker_list, ticker_df_trimmed):\n",
    "    for i in range(0, len(ticker_list)+1):\n",
    "        try: \n",
    "            print ('------------------------')\n",
    "            print (\"ticker {}: \".format(i+1), ticker_df_trimmed[i].columns[1])\n",
    "            print (\"start_date\", ticker_df_trimmed[i]['date'].values[0])\n",
    "            print (\"end_date\", ticker_df_trimmed[i]['date'].values[-1])\n",
    "        except IndexError:\n",
    "            print (\"Hit the last one. Done\")\n",
    "            \n",
    "check_dt_range(ticker_list, ticker_df_trimmed)"
   ]
  },
  {
   "cell_type": "code",
   "execution_count": 31,
   "metadata": {},
   "outputs": [],
   "source": [
    "def merge_the_rest(ticker_list, merged, ticker_df_trimmed):\n",
    "    for i in range(2, len(ticker_list)):\n",
    "        merged = merged.merge(ticker_df_trimmed[i], on = 'date', how='outer')\n",
    "        all_merged = merged.copy()\n",
    "    return all_merged\n",
    "\n",
    "all_merged = merge_the_rest(ticker_list, merged, ticker_df_trimmed)"
   ]
  },
  {
   "cell_type": "code",
   "execution_count": 32,
   "metadata": {},
   "outputs": [],
   "source": [
    "all_merged.sort_values('date', inplace=True)"
   ]
  },
  {
   "cell_type": "code",
   "execution_count": 33,
   "metadata": {},
   "outputs": [
    {
     "data": {
      "text/html": [
       "<div>\n",
       "<style scoped>\n",
       "    .dataframe tbody tr th:only-of-type {\n",
       "        vertical-align: middle;\n",
       "    }\n",
       "\n",
       "    .dataframe tbody tr th {\n",
       "        vertical-align: top;\n",
       "    }\n",
       "\n",
       "    .dataframe thead th {\n",
       "        text-align: right;\n",
       "    }\n",
       "</style>\n",
       "<table border=\"1\" class=\"dataframe\">\n",
       "  <thead>\n",
       "    <tr style=\"text-align: right;\">\n",
       "      <th></th>\n",
       "      <th>date</th>\n",
       "      <th>ag000</th>\n",
       "      <th>al000</th>\n",
       "      <th>au000</th>\n",
       "      <th>cu000</th>\n",
       "      <th>hc000</th>\n",
       "      <th>j9000</th>\n",
       "      <th>jm000</th>\n",
       "      <th>m9000</th>\n",
       "      <th>rb000</th>\n",
       "      <th>RM000</th>\n",
       "    </tr>\n",
       "  </thead>\n",
       "  <tbody>\n",
       "    <tr>\n",
       "      <th>53012</th>\n",
       "      <td>2019/01/03 13:45</td>\n",
       "      <td>0.000533</td>\n",
       "      <td>0.000747</td>\n",
       "      <td>0.000172</td>\n",
       "      <td>0.001692</td>\n",
       "      <td>0.003318</td>\n",
       "      <td>0.002874</td>\n",
       "      <td>0.000423</td>\n",
       "      <td>0.001495</td>\n",
       "      <td>0.001763</td>\n",
       "      <td>0.000935</td>\n",
       "    </tr>\n",
       "    <tr>\n",
       "      <th>53013</th>\n",
       "      <td>2019/01/03 14:00</td>\n",
       "      <td>-0.000800</td>\n",
       "      <td>-0.000373</td>\n",
       "      <td>-0.000345</td>\n",
       "      <td>0.000000</td>\n",
       "      <td>0.000000</td>\n",
       "      <td>0.000781</td>\n",
       "      <td>-0.000423</td>\n",
       "      <td>-0.001119</td>\n",
       "      <td>0.001760</td>\n",
       "      <td>0.000934</td>\n",
       "    </tr>\n",
       "    <tr>\n",
       "      <th>53014</th>\n",
       "      <td>2019/01/03 14:15</td>\n",
       "      <td>0.003734</td>\n",
       "      <td>-0.000373</td>\n",
       "      <td>0.000862</td>\n",
       "      <td>0.001056</td>\n",
       "      <td>0.005412</td>\n",
       "      <td>0.005726</td>\n",
       "      <td>0.003386</td>\n",
       "      <td>-0.001121</td>\n",
       "      <td>0.003220</td>\n",
       "      <td>-0.001400</td>\n",
       "    </tr>\n",
       "    <tr>\n",
       "      <th>53015</th>\n",
       "      <td>2019/01/03 14:30</td>\n",
       "      <td>0.000000</td>\n",
       "      <td>-0.002988</td>\n",
       "      <td>0.000172</td>\n",
       "      <td>-0.002742</td>\n",
       "      <td>-0.001196</td>\n",
       "      <td>0.000776</td>\n",
       "      <td>-0.000844</td>\n",
       "      <td>0.000748</td>\n",
       "      <td>0.000584</td>\n",
       "      <td>0.000935</td>\n",
       "    </tr>\n",
       "    <tr>\n",
       "      <th>53016</th>\n",
       "      <td>2019/01/03 14:45</td>\n",
       "      <td>0.000266</td>\n",
       "      <td>0.000375</td>\n",
       "      <td>0.000689</td>\n",
       "      <td>0.001058</td>\n",
       "      <td>-0.000898</td>\n",
       "      <td>0.000259</td>\n",
       "      <td>0.004643</td>\n",
       "      <td>0.000747</td>\n",
       "      <td>0.000583</td>\n",
       "      <td>0.000000</td>\n",
       "    </tr>\n",
       "  </tbody>\n",
       "</table>\n",
       "</div>"
      ],
      "text/plain": [
       "                   date     ag000     al000     au000     cu000     hc000  \\\n",
       "53012  2019/01/03 13:45  0.000533  0.000747  0.000172  0.001692  0.003318   \n",
       "53013  2019/01/03 14:00 -0.000800 -0.000373 -0.000345  0.000000  0.000000   \n",
       "53014  2019/01/03 14:15  0.003734 -0.000373  0.000862  0.001056  0.005412   \n",
       "53015  2019/01/03 14:30  0.000000 -0.002988  0.000172 -0.002742 -0.001196   \n",
       "53016  2019/01/03 14:45  0.000266  0.000375  0.000689  0.001058 -0.000898   \n",
       "\n",
       "          j9000     jm000     m9000     rb000     RM000  \n",
       "53012  0.002874  0.000423  0.001495  0.001763  0.000935  \n",
       "53013  0.000781 -0.000423 -0.001119  0.001760  0.000934  \n",
       "53014  0.005726  0.003386 -0.001121  0.003220 -0.001400  \n",
       "53015  0.000776 -0.000844  0.000748  0.000584  0.000935  \n",
       "53016  0.000259  0.004643  0.000747  0.000583  0.000000  "
      ]
     },
     "execution_count": 33,
     "metadata": {},
     "output_type": "execute_result"
    }
   ],
   "source": [
    "all_merged.tail()"
   ]
  },
  {
   "cell_type": "code",
   "execution_count": 34,
   "metadata": {},
   "outputs": [],
   "source": [
    "corr_matrix = all_merged[all_merged.columns[1:]].corr()"
   ]
  },
  {
   "cell_type": "code",
   "execution_count": 38,
   "metadata": {},
   "outputs": [
    {
     "data": {
      "text/plain": [
       "<matplotlib.axes._subplots.AxesSubplot at 0x26934b24588>"
      ]
     },
     "execution_count": 38,
     "metadata": {},
     "output_type": "execute_result"
    },
    {
     "data": {
      "image/png": "[encoded data removed]",
      "text/plain": [
       "<Figure size 864x576 with 2 Axes>"
      ]
     },
     "metadata": {
      "needs_background": "light"
     },
     "output_type": "display_data"
    }
   ],
   "source": [
    "fig, ax = plt.subplots(figsize = (12, 8))\n",
    "sns.heatmap(corr_matrix, ax = ax, cmap = 'Blues', vmax = 1.0, vmin = -1.0, annot=True)"
   ]
  }
 ],
 "metadata": {
  "hide_input": false,
  "kernelspec": {
   "display_name": "Python 3",
   "language": "python",
   "name": "python3"
  },
  "language_info": {
   "codemirror_mode": {
    "name": "ipython",
    "version": 3
   },
   "file_extension": ".py",
   "mimetype": "text/x-python",
   "name": "python",
   "nbconvert_exporter": "python",
   "pygments_lexer": "ipython3",
   "version": "3.7.0"
  },
  "nav_menu": {},
  "toc": {
   "navigate_menu": true,
   "number_sections": true,
   "sideBar": true,
   "threshold": 6,
   "toc_cell": false,
   "toc_section_display": "block",
   "toc_window_display": false
  }
 },
 "nbformat": 4,
 "nbformat_minor": 2
}
