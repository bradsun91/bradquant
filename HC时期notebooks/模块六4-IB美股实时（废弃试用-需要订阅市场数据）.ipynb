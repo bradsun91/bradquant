{
 "cells": [
  {
   "cell_type": "code",
   "execution_count": 3,
   "metadata": {},
   "outputs": [],
   "source": [
    "#import required packages\n",
    "#使用ib_insync是一个能比较简单的提取数据的包（相比于ib_api自带的功能）\n",
    "import pandas as pd\n",
    "from ib_insync import *\n",
    "util.startLoop()\n",
    "\n",
    "import matplotlib.pyplot as plt\n",
    "import seaborn as sns\n",
    "%matplotlib inline\n",
    "sns.set(context='notebook', style='darkgrid', palette='deep', font='sans-serif', font_scale=1, color_codes=False, rc=None)"
   ]
  },
  {
   "cell_type": "code",
   "execution_count": 4,
   "metadata": {},
   "outputs": [
    {
     "data": {
      "text/plain": [
       "<IB connected to 127.0.0.1:7497 clientId=100>"
      ]
     },
     "execution_count": 4,
     "metadata": {},
     "output_type": "execute_result"
    }
   ],
   "source": [
    "#establish connection with IB TWS\n",
    "ib = IB()\n",
    "ib.connect('127.0.0.1', 7497, clientId=100)"
   ]
  },
  {
   "cell_type": "markdown",
   "metadata": {},
   "source": [
    "# 实时下单"
   ]
  },
  {
   "cell_type": "markdown",
   "metadata": {},
   "source": [
    "https://github.com/erdewit/ib_insync/blob/master/notebooks/ordering.ipynb"
   ]
  },
  {
   "cell_type": "code",
   "execution_count": 16,
   "metadata": {
    "scrolled": true
   },
   "outputs": [
    {
     "data": {
      "text/plain": [
       "[Stock(conId=265598, symbol='AAPL', exchange='SMART', primaryExchange='NASDAQ', currency='USD', localSymbol='AAPL', tradingClass='NMS')]"
      ]
     },
     "execution_count": 16,
     "metadata": {},
     "output_type": "execute_result"
    }
   ],
   "source": [
    "from ib_insync import *\n",
    "# util.startLoop()\n",
    " \n",
    "ib = IB()\n",
    "ib.connect('127.0.0.1', 7496, clientId=1)\n",
    " \n",
    "contract = Stock('AAPL', 'SMART', 'USD')\n",
    "ib.qualifyContracts(contract)\n",
    " \n",
    "order = MarketOrder('BUY', 1)\n",
    " \n",
    "trade = ib.placeOrder(contract, order)\n",
    " \n",
    "print(trade)\n",
    " \n",
    "ib.sleep(1)\n",
    "print(trade.log)\n",
    " \n",
    "limitOrder = LimitOrder('BUY', 1, 0.05)\n",
    "limitTrade = ib.placeOrder(contract, limitOrder)\n",
    " \n",
    "print(limitTrade)\n",
    " \n",
    "ib.cancelOrder(limitOrder)"
   ]
  },
  {
   "cell_type": "markdown",
   "metadata": {},
   "source": [
    "# 调取数据"
   ]
  },
  {
   "cell_type": "code",
   "execution_count": 28,
   "metadata": {},
   "outputs": [
    {
     "data": {
      "text/plain": [
       "[Stock(conId=172522641, symbol='ARKG', exchange='SMART', primaryExchange='BATS', currency='USD', localSymbol='ARKG', tradingClass='ARKG')]"
      ]
     },
     "execution_count": 28,
     "metadata": {},
     "output_type": "execute_result"
    }
   ],
   "source": [
    "contract = Stock('ARKG', 'SMART',currency='USD')\n",
    "ib.qualifyContracts(contract)"
   ]
  },
  {
   "cell_type": "code",
   "execution_count": 29,
   "metadata": {},
   "outputs": [
    {
     "data": {
      "text/plain": [
       "Stock(conId=172522641, symbol='ARKG', exchange='SMART', primaryExchange='BATS', currency='USD', localSymbol='ARKG', tradingClass='ARKG')"
      ]
     },
     "execution_count": 29,
     "metadata": {},
     "output_type": "execute_result"
    }
   ],
   "source": [
    "contract"
   ]
  },
  {
   "cell_type": "code",
   "execution_count": 30,
   "metadata": {},
   "outputs": [
    {
     "name": "stderr",
     "output_type": "stream",
     "text": [
      "Error 162, reqId 15: \\xc0\\xfaʷ\\xcaг\\xa1\\xca\\xfd\\xbeݷ\\xfe\\xce\\xf1\\xb4\\xed\\xce\\xf3\\xcf\\xfbϢ:No market data permissions for AMEX STK, contract: Stock(conId=756733, symbol='SPY', exchange='SMART', primaryExchange='ARCA', currency='USD', localSymbol='SPY', tradingClass='SPY')\n"
     ]
    }
   ],
   "source": [
    "contract = Stock('SPY', 'SMART',currency='USD')\n",
    "ib.qualifyContracts(contract)\n",
    "dt = ''\n",
    "barsList = []\n",
    "while True:\n",
    "    bars = ib.reqHistoricalData(\n",
    "        contract,\n",
    "        endDateTime=dt,\n",
    "        durationStr='10 D',\n",
    "        barSizeSetting='1 hour',\n",
    "        whatToShow='ADJUSTED_LAST',\n",
    "        useRTH=True,\n",
    "#         formatDateb=1\n",
    "    )\n",
    "    if not bars:\n",
    "        break\n",
    "    barsList.append(bars)\n",
    "    dt = bars[0].date\n",
    "    print(dt)\n",
    "# save to CSV file\n",
    "allBars = [b for bars in reversed(barsList) for b in bars]\n",
    "df = util.df(allBars)"
   ]
  },
  {
   "cell_type": "code",
   "execution_count": 31,
   "metadata": {},
   "outputs": [
    {
     "name": "stderr",
     "output_type": "stream",
     "text": [
      "Error 1100, reqId -1: IB\\xd3\\xebTrader Workstation\\xb5\\xc4\\xc1\\xac\\xbd\\xd3\\xd6жϡ\\xa3\n",
      "[WinError 10054] 远程主机强迫关闭了一个现有的连接。\n"
     ]
    }
   ],
   "source": [
    "df"
   ]
  },
  {
   "cell_type": "code",
   "execution_count": 33,
   "metadata": {},
   "outputs": [],
   "source": [
    "import yfinance as yf"
   ]
  },
  {
   "cell_type": "code",
   "execution_count": 40,
   "metadata": {},
   "outputs": [
    {
     "name": "stdout",
     "output_type": "stream",
     "text": [
      "[*********************100%***********************]  2 of 2 completed\n"
     ]
    }
   ],
   "source": [
    "data = yf.download(\n",
    "        tickers=['BTC-USD','AAPL'], \n",
    "        # use \"period\" instead of start/end\n",
    "        # valid periods: 1d,5d,1mo,3mo,6mo,1y,2y,5y,10y,ytd,max\n",
    "        # (optional, default is '1mo')\n",
    "        period=\"5d\",\n",
    "        # fetch data by interval (including intraday if period < 60 days)\n",
    "        # valid intervals: 1m,2m,5m,15m,30m,60m,90m,1h,1d,5d,1wk,1mo,3mo\n",
    "        # (optional, default is '1d')\n",
    "        interval=\"5m\")"
   ]
  },
  {
   "cell_type": "code",
   "execution_count": 41,
   "metadata": {},
   "outputs": [
    {
     "data": {
      "text/html": [
       "<div>\n",
       "<style scoped>\n",
       "    .dataframe tbody tr th:only-of-type {\n",
       "        vertical-align: middle;\n",
       "    }\n",
       "\n",
       "    .dataframe tbody tr th {\n",
       "        vertical-align: top;\n",
       "    }\n",
       "\n",
       "    .dataframe thead tr th {\n",
       "        text-align: left;\n",
       "    }\n",
       "\n",
       "    .dataframe thead tr:last-of-type th {\n",
       "        text-align: right;\n",
       "    }\n",
       "</style>\n",
       "<table border=\"1\" class=\"dataframe\">\n",
       "  <thead>\n",
       "    <tr>\n",
       "      <th></th>\n",
       "      <th colspan=\"2\" halign=\"left\">Adj Close</th>\n",
       "      <th colspan=\"2\" halign=\"left\">Close</th>\n",
       "      <th colspan=\"2\" halign=\"left\">High</th>\n",
       "      <th colspan=\"2\" halign=\"left\">Low</th>\n",
       "      <th colspan=\"2\" halign=\"left\">Open</th>\n",
       "      <th colspan=\"2\" halign=\"left\">Volume</th>\n",
       "    </tr>\n",
       "    <tr>\n",
       "      <th></th>\n",
       "      <th>AAPL</th>\n",
       "      <th>BTC-USD</th>\n",
       "      <th>AAPL</th>\n",
       "      <th>BTC-USD</th>\n",
       "      <th>AAPL</th>\n",
       "      <th>BTC-USD</th>\n",
       "      <th>AAPL</th>\n",
       "      <th>BTC-USD</th>\n",
       "      <th>AAPL</th>\n",
       "      <th>BTC-USD</th>\n",
       "      <th>AAPL</th>\n",
       "      <th>BTC-USD</th>\n",
       "    </tr>\n",
       "    <tr>\n",
       "      <th>Datetime</th>\n",
       "      <th></th>\n",
       "      <th></th>\n",
       "      <th></th>\n",
       "      <th></th>\n",
       "      <th></th>\n",
       "      <th></th>\n",
       "      <th></th>\n",
       "      <th></th>\n",
       "      <th></th>\n",
       "      <th></th>\n",
       "      <th></th>\n",
       "      <th></th>\n",
       "    </tr>\n",
       "  </thead>\n",
       "  <tbody>\n",
       "    <tr>\n",
       "      <th>2021-02-10 14:30:00+00:00</th>\n",
       "      <td>136.520004</td>\n",
       "      <td>NaN</td>\n",
       "      <td>136.520004</td>\n",
       "      <td>NaN</td>\n",
       "      <td>136.990005</td>\n",
       "      <td>NaN</td>\n",
       "      <td>136.339996</td>\n",
       "      <td>NaN</td>\n",
       "      <td>136.589996</td>\n",
       "      <td>NaN</td>\n",
       "      <td>3550511.0</td>\n",
       "      <td>NaN</td>\n",
       "    </tr>\n",
       "    <tr>\n",
       "      <th>2021-02-10 14:35:00+00:00</th>\n",
       "      <td>136.389999</td>\n",
       "      <td>NaN</td>\n",
       "      <td>136.389999</td>\n",
       "      <td>NaN</td>\n",
       "      <td>136.529999</td>\n",
       "      <td>NaN</td>\n",
       "      <td>136.262405</td>\n",
       "      <td>NaN</td>\n",
       "      <td>136.399994</td>\n",
       "      <td>NaN</td>\n",
       "      <td>1440608.0</td>\n",
       "      <td>NaN</td>\n",
       "    </tr>\n",
       "    <tr>\n",
       "      <th>2021-02-10 14:40:00+00:00</th>\n",
       "      <td>136.350800</td>\n",
       "      <td>NaN</td>\n",
       "      <td>136.350800</td>\n",
       "      <td>NaN</td>\n",
       "      <td>136.449997</td>\n",
       "      <td>NaN</td>\n",
       "      <td>136.190002</td>\n",
       "      <td>NaN</td>\n",
       "      <td>136.250000</td>\n",
       "      <td>NaN</td>\n",
       "      <td>1047856.0</td>\n",
       "      <td>NaN</td>\n",
       "    </tr>\n",
       "    <tr>\n",
       "      <th>2021-02-10 14:45:00+00:00</th>\n",
       "      <td>136.410004</td>\n",
       "      <td>NaN</td>\n",
       "      <td>136.410004</td>\n",
       "      <td>NaN</td>\n",
       "      <td>136.544998</td>\n",
       "      <td>NaN</td>\n",
       "      <td>136.279999</td>\n",
       "      <td>NaN</td>\n",
       "      <td>136.500000</td>\n",
       "      <td>NaN</td>\n",
       "      <td>1089198.0</td>\n",
       "      <td>NaN</td>\n",
       "    </tr>\n",
       "    <tr>\n",
       "      <th>2021-02-10 14:50:00+00:00</th>\n",
       "      <td>136.175003</td>\n",
       "      <td>NaN</td>\n",
       "      <td>136.175003</td>\n",
       "      <td>NaN</td>\n",
       "      <td>136.270004</td>\n",
       "      <td>NaN</td>\n",
       "      <td>136.130005</td>\n",
       "      <td>NaN</td>\n",
       "      <td>136.250000</td>\n",
       "      <td>NaN</td>\n",
       "      <td>1038957.0</td>\n",
       "      <td>NaN</td>\n",
       "    </tr>\n",
       "    <tr>\n",
       "      <th>...</th>\n",
       "      <td>...</td>\n",
       "      <td>...</td>\n",
       "      <td>...</td>\n",
       "      <td>...</td>\n",
       "      <td>...</td>\n",
       "      <td>...</td>\n",
       "      <td>...</td>\n",
       "      <td>...</td>\n",
       "      <td>...</td>\n",
       "      <td>...</td>\n",
       "      <td>...</td>\n",
       "      <td>...</td>\n",
       "    </tr>\n",
       "    <tr>\n",
       "      <th>2021-02-18 07:35:00+00:00</th>\n",
       "      <td>NaN</td>\n",
       "      <td>51559.015625</td>\n",
       "      <td>NaN</td>\n",
       "      <td>51559.015625</td>\n",
       "      <td>NaN</td>\n",
       "      <td>51580.796875</td>\n",
       "      <td>NaN</td>\n",
       "      <td>51519.781250</td>\n",
       "      <td>NaN</td>\n",
       "      <td>51519.781250</td>\n",
       "      <td>NaN</td>\n",
       "      <td>170205184.0</td>\n",
       "    </tr>\n",
       "    <tr>\n",
       "      <th>2021-02-18 07:40:00+00:00</th>\n",
       "      <td>NaN</td>\n",
       "      <td>51511.796875</td>\n",
       "      <td>NaN</td>\n",
       "      <td>51511.796875</td>\n",
       "      <td>NaN</td>\n",
       "      <td>51550.101562</td>\n",
       "      <td>NaN</td>\n",
       "      <td>51511.796875</td>\n",
       "      <td>NaN</td>\n",
       "      <td>51550.101562</td>\n",
       "      <td>NaN</td>\n",
       "      <td>105291776.0</td>\n",
       "    </tr>\n",
       "    <tr>\n",
       "      <th>2021-02-18 07:45:00+00:00</th>\n",
       "      <td>NaN</td>\n",
       "      <td>51587.363281</td>\n",
       "      <td>NaN</td>\n",
       "      <td>51587.363281</td>\n",
       "      <td>NaN</td>\n",
       "      <td>51587.363281</td>\n",
       "      <td>NaN</td>\n",
       "      <td>51493.769531</td>\n",
       "      <td>NaN</td>\n",
       "      <td>51508.832031</td>\n",
       "      <td>NaN</td>\n",
       "      <td>0.0</td>\n",
       "    </tr>\n",
       "    <tr>\n",
       "      <th>2021-02-18 07:50:00+00:00</th>\n",
       "      <td>NaN</td>\n",
       "      <td>51672.753906</td>\n",
       "      <td>NaN</td>\n",
       "      <td>51672.753906</td>\n",
       "      <td>NaN</td>\n",
       "      <td>51672.753906</td>\n",
       "      <td>NaN</td>\n",
       "      <td>51582.824219</td>\n",
       "      <td>NaN</td>\n",
       "      <td>51582.824219</td>\n",
       "      <td>NaN</td>\n",
       "      <td>158228480.0</td>\n",
       "    </tr>\n",
       "    <tr>\n",
       "      <th>2021-02-18 07:55:02+00:00</th>\n",
       "      <td>NaN</td>\n",
       "      <td>51903.414062</td>\n",
       "      <td>NaN</td>\n",
       "      <td>51903.414062</td>\n",
       "      <td>NaN</td>\n",
       "      <td>51903.414062</td>\n",
       "      <td>NaN</td>\n",
       "      <td>51903.414062</td>\n",
       "      <td>NaN</td>\n",
       "      <td>51903.414062</td>\n",
       "      <td>NaN</td>\n",
       "      <td>0.0</td>\n",
       "    </tr>\n",
       "  </tbody>\n",
       "</table>\n",
       "<p>1481 rows × 12 columns</p>\n",
       "</div>"
      ],
      "text/plain": [
       "                            Adj Close                     Close                \\\n",
       "                                 AAPL       BTC-USD        AAPL       BTC-USD   \n",
       "Datetime                                                                        \n",
       "2021-02-10 14:30:00+00:00  136.520004           NaN  136.520004           NaN   \n",
       "2021-02-10 14:35:00+00:00  136.389999           NaN  136.389999           NaN   \n",
       "2021-02-10 14:40:00+00:00  136.350800           NaN  136.350800           NaN   \n",
       "2021-02-10 14:45:00+00:00  136.410004           NaN  136.410004           NaN   \n",
       "2021-02-10 14:50:00+00:00  136.175003           NaN  136.175003           NaN   \n",
       "...                               ...           ...         ...           ...   \n",
       "2021-02-18 07:35:00+00:00         NaN  51559.015625         NaN  51559.015625   \n",
       "2021-02-18 07:40:00+00:00         NaN  51511.796875         NaN  51511.796875   \n",
       "2021-02-18 07:45:00+00:00         NaN  51587.363281         NaN  51587.363281   \n",
       "2021-02-18 07:50:00+00:00         NaN  51672.753906         NaN  51672.753906   \n",
       "2021-02-18 07:55:02+00:00         NaN  51903.414062         NaN  51903.414062   \n",
       "\n",
       "                                 High                       Low                \\\n",
       "                                 AAPL       BTC-USD        AAPL       BTC-USD   \n",
       "Datetime                                                                        \n",
       "2021-02-10 14:30:00+00:00  136.990005           NaN  136.339996           NaN   \n",
       "2021-02-10 14:35:00+00:00  136.529999           NaN  136.262405           NaN   \n",
       "2021-02-10 14:40:00+00:00  136.449997           NaN  136.190002           NaN   \n",
       "2021-02-10 14:45:00+00:00  136.544998           NaN  136.279999           NaN   \n",
       "2021-02-10 14:50:00+00:00  136.270004           NaN  136.130005           NaN   \n",
       "...                               ...           ...         ...           ...   \n",
       "2021-02-18 07:35:00+00:00         NaN  51580.796875         NaN  51519.781250   \n",
       "2021-02-18 07:40:00+00:00         NaN  51550.101562         NaN  51511.796875   \n",
       "2021-02-18 07:45:00+00:00         NaN  51587.363281         NaN  51493.769531   \n",
       "2021-02-18 07:50:00+00:00         NaN  51672.753906         NaN  51582.824219   \n",
       "2021-02-18 07:55:02+00:00         NaN  51903.414062         NaN  51903.414062   \n",
       "\n",
       "                                 Open                   Volume               \n",
       "                                 AAPL       BTC-USD       AAPL      BTC-USD  \n",
       "Datetime                                                                     \n",
       "2021-02-10 14:30:00+00:00  136.589996           NaN  3550511.0          NaN  \n",
       "2021-02-10 14:35:00+00:00  136.399994           NaN  1440608.0          NaN  \n",
       "2021-02-10 14:40:00+00:00  136.250000           NaN  1047856.0          NaN  \n",
       "2021-02-10 14:45:00+00:00  136.500000           NaN  1089198.0          NaN  \n",
       "2021-02-10 14:50:00+00:00  136.250000           NaN  1038957.0          NaN  \n",
       "...                               ...           ...        ...          ...  \n",
       "2021-02-18 07:35:00+00:00         NaN  51519.781250        NaN  170205184.0  \n",
       "2021-02-18 07:40:00+00:00         NaN  51550.101562        NaN  105291776.0  \n",
       "2021-02-18 07:45:00+00:00         NaN  51508.832031        NaN          0.0  \n",
       "2021-02-18 07:50:00+00:00         NaN  51582.824219        NaN  158228480.0  \n",
       "2021-02-18 07:55:02+00:00         NaN  51903.414062        NaN          0.0  \n",
       "\n",
       "[1481 rows x 12 columns]"
      ]
     },
     "execution_count": 41,
     "metadata": {},
     "output_type": "execute_result"
    }
   ],
   "source": [
    "data"
   ]
  },
  {
   "cell_type": "code",
   "execution_count": null,
   "metadata": {},
   "outputs": [],
   "source": []
  }
 ],
 "metadata": {
  "kernelspec": {
   "display_name": "Python 3",
   "language": "python",
   "name": "python3"
  },
  "language_info": {
   "codemirror_mode": {
    "name": "ipython",
    "version": 3
   },
   "file_extension": ".py",
   "mimetype": "text/x-python",
   "name": "python",
   "nbconvert_exporter": "python",
   "pygments_lexer": "ipython3",
   "version": "3.8.5"
  }
 },
 "nbformat": 4,
 "nbformat_minor": 4
}
