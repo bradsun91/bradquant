{
 "cells": [
  {
   "cell_type": "code",
   "execution_count": 2,
   "metadata": {},
   "outputs": [],
   "source": [
    "import pandas as pd, numpy as np"
   ]
  },
  {
   "cell_type": "code",
   "execution_count": 4,
   "metadata": {},
   "outputs": [],
   "source": [
    "import time\n",
    "\n",
    "from polygon import WebSocketClient, STOCKS_CLUSTER"
   ]
  },
  {
   "cell_type": "code",
   "execution_count": 3,
   "metadata": {},
   "outputs": [
    {
     "name": "stdout",
     "output_type": "stream",
     "text": [
      "Collecting polygon-api-client\n",
      "  Downloading polygon_api_client-0.1.11-py3-none-any.whl (22 kB)\n",
      "Collecting websocket-client>=0.56.0\n",
      "  Downloading websocket_client-1.1.0-py2.py3-none-any.whl (68 kB)\n",
      "Requirement already satisfied: requests>=2.22.0 in c:\\users\\administrator\\anaconda3\\lib\\site-packages (from polygon-api-client) (2.24.0)\n",
      "Requirement already satisfied: websockets>=8.0.2 in c:\\users\\administrator\\anaconda3\\lib\\site-packages (from polygon-api-client) (8.1)\n",
      "Requirement already satisfied: idna<3,>=2.5 in c:\\users\\administrator\\anaconda3\\lib\\site-packages (from requests>=2.22.0->polygon-api-client) (2.10)\n",
      "Requirement already satisfied: certifi>=2017.4.17 in c:\\users\\administrator\\anaconda3\\lib\\site-packages (from requests>=2.22.0->polygon-api-client) (2020.6.20)\n",
      "Requirement already satisfied: urllib3!=1.25.0,!=1.25.1,<1.26,>=1.21.1 in c:\\users\\administrator\\anaconda3\\lib\\site-packages (from requests>=2.22.0->polygon-api-client) (1.25.11)\n",
      "Requirement already satisfied: chardet<4,>=3.0.2 in c:\\users\\administrator\\anaconda3\\lib\\site-packages (from requests>=2.22.0->polygon-api-client) (3.0.4)\n",
      "Installing collected packages: websocket-client, polygon-api-client\n",
      "Successfully installed polygon-api-client-0.1.11 websocket-client-1.1.0\n",
      "Note: you may need to restart the kernel to use updated packages.\n"
     ]
    }
   ],
   "source": [
    "pip install polygon-api-client"
   ]
  },
  {
   "cell_type": "code",
   "execution_count": 5,
   "metadata": {},
   "outputs": [
    {
     "name": "stdout",
     "output_type": "stream",
     "text": [
      "this is my custom message processing [{\"ev\":\"status\",\"status\":\"connected\",\"message\":\"Connected Successfully\"}]\n",
      "this is my custom message processing [{\"ev\":\"status\",\"status\":\"auth_failed\",\"message\":\"authentication failed\"}]\n"
     ]
    }
   ],
   "source": [
    "def my_custom_process_message(message):\n",
    "    print(\"this is my custom message processing\", message)\n",
    "\n",
    "\n",
    "def my_custom_error_handler(ws, error):\n",
    "    print(\"this is my custom error handler\", error)\n",
    "\n",
    "\n",
    "def my_custom_close_handler(ws):\n",
    "    print(\"this is my custom close handler\")\n",
    "\n",
    "\n",
    "def main():\n",
    "    key = 'your api key'\n",
    "    my_client = WebSocketClient(STOCKS_CLUSTER, key, my_custom_process_message)\n",
    "    my_client.run_async()\n",
    "\n",
    "    my_client.subscribe(\"T.MSFT\", \"T.AAPL\", \"T.AMD\", \"T.NVDA\")\n",
    "    time.sleep(1)\n",
    "\n",
    "    my_client.close_connection()\n",
    "\n",
    "\n",
    "if __name__ == \"__main__\":\n",
    "    main()"
   ]
  },
  {
   "cell_type": "code",
   "execution_count": 6,
   "metadata": {},
   "outputs": [
    {
     "data": {
      "text/plain": [
       "120"
      ]
     },
     "execution_count": 6,
     "metadata": {},
     "output_type": "execute_result"
    }
   ],
   "source": [
    "5*24"
   ]
  },
  {
   "cell_type": "code",
   "execution_count": null,
   "metadata": {},
   "outputs": [],
   "source": []
  },
  {
   "cell_type": "code",
   "execution_count": null,
   "metadata": {},
   "outputs": [],
   "source": []
  },
  {
   "cell_type": "code",
   "execution_count": null,
   "metadata": {},
   "outputs": [],
   "source": []
  },
  {
   "cell_type": "code",
   "execution_count": null,
   "metadata": {},
   "outputs": [],
   "source": []
  }
 ],
 "metadata": {
  "kernelspec": {
   "display_name": "Python 3",
   "language": "python",
   "name": "python3"
  },
  "language_info": {
   "codemirror_mode": {
    "name": "ipython",
    "version": 3
   },
   "file_extension": ".py",
   "mimetype": "text/x-python",
   "name": "python",
   "nbconvert_exporter": "python",
   "pygments_lexer": "ipython3",
   "version": "3.8.5"
  }
 },
 "nbformat": 4,
 "nbformat_minor": 4
}
