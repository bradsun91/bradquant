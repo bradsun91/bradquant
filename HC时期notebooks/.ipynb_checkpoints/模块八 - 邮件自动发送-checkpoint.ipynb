{
 "cells": [
  {
   "cell_type": "code",
   "execution_count": 2,
   "metadata": {},
   "outputs": [],
   "source": [
    "import pandas as pd, numpy as np\n",
    "import matplotlib.pyplot as plt\n",
    "import seaborn as sns\n",
    "sns.set_style(\"darkgrid\") \n",
    "%matplotlib inline\n",
    "\n",
    "# coding: utf-8\n",
    "import smtplib\n",
    "from email.mime.multipart import MIMEMultipart\n",
    "from email.mime.text import MIMEText\n",
    "from email.mime.base import MIMEBase\n",
    "from email import encoders\n",
    "import datetime as dt"
   ]
  },
  {
   "cell_type": "code",
   "execution_count": null,
   "metadata": {},
   "outputs": [],
   "source": []
  },
  {
   "cell_type": "code",
   "execution_count": 3,
   "metadata": {},
   "outputs": [
    {
     "ename": "NameError",
     "evalue": "name 'subject_' is not defined",
     "output_type": "error",
     "traceback": [
      "\u001b[1;31m---------------------------------------------------------------------------\u001b[0m",
      "\u001b[1;31mNameError\u001b[0m                                 Traceback (most recent call last)",
      "\u001b[1;32m<ipython-input-3-853802309167>\u001b[0m in \u001b[0;36m<module>\u001b[1;34m\u001b[0m\n\u001b[0;32m      6\u001b[0m \u001b[0mpassword\u001b[0m \u001b[1;33m=\u001b[0m \u001b[1;34m'1q2w3e4rasdf'\u001b[0m\u001b[1;31m#授权密码\u001b[0m\u001b[1;33m\u001b[0m\u001b[1;33m\u001b[0m\u001b[0m\n\u001b[0;32m      7\u001b[0m \u001b[0mmailall\u001b[0m\u001b[1;33m=\u001b[0m\u001b[0mMIMEMultipart\u001b[0m\u001b[1;33m(\u001b[0m\u001b[1;33m)\u001b[0m\u001b[1;33m\u001b[0m\u001b[1;33m\u001b[0m\u001b[0m\n\u001b[1;32m----> 8\u001b[1;33m \u001b[0mmailall\u001b[0m\u001b[1;33m[\u001b[0m\u001b[1;34m'Subject'\u001b[0m\u001b[1;33m]\u001b[0m \u001b[1;33m=\u001b[0m \u001b[0msubject_\u001b[0m \u001b[1;31m#记住一定要设置，并且要稍微正式点\u001b[0m\u001b[1;33m\u001b[0m\u001b[1;33m\u001b[0m\u001b[0m\n\u001b[0m\u001b[0;32m      9\u001b[0m \u001b[0mmailall\u001b[0m\u001b[1;33m[\u001b[0m\u001b[1;34m'From'\u001b[0m\u001b[1;33m]\u001b[0m \u001b[1;33m=\u001b[0m \u001b[0msender\u001b[0m \u001b[1;31m#发件人邮箱\u001b[0m\u001b[1;33m\u001b[0m\u001b[1;33m\u001b[0m\u001b[0m\n\u001b[0;32m     10\u001b[0m \u001b[0mmailall\u001b[0m\u001b[1;33m[\u001b[0m\u001b[1;34m'To'\u001b[0m\u001b[1;33m]\u001b[0m \u001b[1;33m=\u001b[0m \u001b[1;34m';'\u001b[0m\u001b[1;33m.\u001b[0m\u001b[0mjoin\u001b[0m\u001b[1;33m(\u001b[0m\u001b[0mreceiver\u001b[0m\u001b[1;33m)\u001b[0m \u001b[1;31m#收件人邮箱,不同收件人邮箱之间用;分割\u001b[0m\u001b[1;33m\u001b[0m\u001b[1;33m\u001b[0m\u001b[0m\n",
      "\u001b[1;31mNameError\u001b[0m: name 'subject_' is not defined"
     ]
    }
   ],
   "source": [
    "sender = 'bradsun9108@163.com'\n",
    "receiver = list(['bradsun91@163.com','sunmy1991811@qq.com',\n",
    "#                  '1021580489@qq.com',#东东\n",
    "#                  'pengfeilian2@creditease.cn',\n",
    "                 \"1245816903@qq.com\"#Michelle\n",
    "                ])#接收者列表\n",
    "copyReceive = list()#抄送者列表\n",
    "copyReceive.append(sender)#将发件人添加到抄送列表\n",
    "username = 'bradsun9108@163.com'#发件人邮箱账号\n",
    "password = '1q2w3e4rasdf'#授权密码\n",
    "mailall=MIMEMultipart()\n",
    "mailall['Subject'] = subject_ #记住一定要设置，并且要稍微正式点\n",
    "mailall['From'] = sender #发件人邮箱\n",
    "mailall['To'] = ';'.join(receiver) #收件人邮箱,不同收件人邮箱之间用;分割\n",
    "mailall['CC'] = ';'.join(copyReceive)  #抄送邮箱\n",
    "mailcontent = latest_data\n",
    "mailall.attach(MIMEText(mailcontent, 'plain', 'utf-8'))\n",
    "mailAttach = '测试邮件附件内容'\n",
    "contype = 'application/octet-stream'\n",
    "maintype, subtype = contype.split('/', 1)\n",
    "# filename = '附加文件.txt'#附件文件所在路径\n",
    "# attfile = MIMEBase(maintype, subtype)\n",
    "# attfile.set_payload(open(filename, 'rb').read())\n",
    "# attfile.add_header('Content-Disposition', 'attachment',filename=('utf-8', '', filename))#必须加上第三个参数，用于格式化输出\n",
    "# mailall.attach(attfile)\n",
    "fullmailtext = mailall.as_string()\n",
    "smtp = smtplib.SMTP()\n",
    "smtp.connect('smtp.163.com')\n",
    "smtp.login(username, password)\n",
    "smtp.sendmail(sender, receiver+copyReceive, fullmailtext)#发送的时候需要将收件人和抄送者全部添加到函数第二个参数里\n",
    "smtp.quit()"
   ]
  },
  {
   "cell_type": "code",
   "execution_count": null,
   "metadata": {},
   "outputs": [],
   "source": []
  },
  {
   "cell_type": "code",
   "execution_count": null,
   "metadata": {},
   "outputs": [],
   "source": []
  },
  {
   "cell_type": "code",
   "execution_count": null,
   "metadata": {},
   "outputs": [],
   "source": []
  },
  {
   "cell_type": "markdown",
   "metadata": {},
   "source": [
    "# 接到自动化交易的notebook:"
   ]
  },
  {
   "cell_type": "code",
   "execution_count": 1,
   "metadata": {},
   "outputs": [],
   "source": [
    "import smtplib\n",
    "from pretty_html_table import build_table\n",
    "from email.mime.multipart import MIMEMultipart\n",
    "from email.mime.text import MIMEText\n",
    "from email.mime.base import MIMEBase\n",
    "from email import encoders\n",
    "import datetime as dt"
   ]
  },
  {
   "cell_type": "code",
   "execution_count": null,
   "metadata": {},
   "outputs": [],
   "source": []
  },
  {
   "cell_type": "code",
   "execution_count": 4,
   "metadata": {},
   "outputs": [],
   "source": [
    "def send_email(signal_data):    \n",
    "    signal_output = build_table(signal_data, 'blue_light')\n",
    "\n",
    "    sender = 'bradsun9108@163.com'\n",
    "    receiver = list(['bradsun91@163.com','sunmy1991811@qq.com',\n",
    "    #                  '1021580489@qq.com',#东东\n",
    "    #                  'pengfeilian2@creditease.cn',\n",
    "    #                  \"1245816903@qq.com\"#Michelle\n",
    "                    ])#接收者列表\n",
    "    copyReceive = list()#抄送者列表\n",
    "    copyReceive.append(sender)#将发件人添加到抄送列表\n",
    "    username = 'bradsun9108@163.com'#发件人邮箱账号\n",
    "    password = '1q2w3e4rasdf'#授权密码\n",
    "    mailall=MIMEMultipart()\n",
    "    mailall['Subject'] = \"Signals\" #记住一定要设置，并且要稍微正式点\n",
    "    mailall['From'] = sender #发件人邮箱\n",
    "    mailall['To'] = ';'.join(receiver) #收件人邮箱,不同收件人邮箱之间用;分割\n",
    "    mailall['CC'] = ';'.join(copyReceive)  #抄送邮箱\n",
    "    mailcontent = \"TEST\"\n",
    "\n",
    "    mailall.attach(MIMEText(signal_output, 'html'))\n",
    "    mailAttach = '测试邮件附件内容'\n",
    "    contype = 'application/octet-stream'\n",
    "    maintype, subtype = contype.split('/', 1)\n",
    "    # filename = '附加文件.txt'#附件文件所在路径\n",
    "    # attfile = MIMEBase(maintype, subtype)\n",
    "    # attfile.set_payload(open(filename, 'rb').read())\n",
    "    # attfile.add_header('Content-Disposition', 'attachment',filename=('utf-8', '', filename))#必须加上第三个参数，用于格式化输出\n",
    "    # mailall.attach(attfile)\n",
    "    fullmailtext = mailall.as_string()\n",
    "    smtp = smtplib.SMTP()\n",
    "    smtp.connect('smtp.163.com')\n",
    "    smtp.login(username, password)\n",
    "    smtp.sendmail(sender, receiver+copyReceive, fullmailtext)#发送的时候需要将收件人和抄送者全部添加到函数第二个参数里\n",
    "    smtp.quit()"
   ]
  },
  {
   "cell_type": "code",
   "execution_count": null,
   "metadata": {},
   "outputs": [],
   "source": []
  },
  {
   "cell_type": "code",
   "execution_count": null,
   "metadata": {},
   "outputs": [],
   "source": []
  }
 ],
 "metadata": {
  "kernelspec": {
   "display_name": "Python 3",
   "language": "python",
   "name": "python3"
  },
  "language_info": {
   "codemirror_mode": {
    "name": "ipython",
    "version": 3
   },
   "file_extension": ".py",
   "mimetype": "text/x-python",
   "name": "python",
   "nbconvert_exporter": "python",
   "pygments_lexer": "ipython3",
   "version": "3.8.5"
  }
 },
 "nbformat": 4,
 "nbformat_minor": 4
}
