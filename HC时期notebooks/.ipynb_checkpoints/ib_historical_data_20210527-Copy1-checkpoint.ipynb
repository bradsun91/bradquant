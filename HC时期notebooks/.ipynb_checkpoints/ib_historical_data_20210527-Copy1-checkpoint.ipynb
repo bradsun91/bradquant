{
 "cells": [
  {
   "cell_type": "code",
   "execution_count": 1,
   "metadata": {},
   "outputs": [],
   "source": [
    "#import required packages\n",
    "#使用ib_insync是一个能比较简单的提取数据的包（相比于ib_api自带的功能）\n",
    "import pandas as pd\n",
    "from ib_insync import *\n",
    "util.startLoop()\n",
    "\n",
    "import matplotlib.pyplot as plt\n",
    "import seaborn as sns\n",
    "%matplotlib inline\n",
    "sns.set(context='notebook', style='darkgrid', palette='deep', font='sans-serif', font_scale=1, color_codes=False, rc=None)"
   ]
  },
  {
   "cell_type": "code",
   "execution_count": 2,
   "metadata": {},
   "outputs": [
    {
     "data": {
      "text/plain": [
       "<IB connected to 127.0.0.1:7497 clientId=100>"
      ]
     },
     "execution_count": 2,
     "metadata": {},
     "output_type": "execute_result"
    }
   ],
   "source": [
    "#establish connection with IB TWS\n",
    "ib = IB()\n",
    "ib.connect('127.0.0.1', 7497, clientId=100)"
   ]
  },
  {
   "cell_type": "code",
   "execution_count": 56,
   "metadata": {},
   "outputs": [],
   "source": [
    "# #因为我们现在使用的是demo mode，所以这里使用汇率作为取数据演示\n",
    "# contract = Forex('USDJPY')\n",
    "# bars = ib.reqHistoricalData(\n",
    "#     contract, endDateTime='', durationStr='1 Y',\n",
    "#     barSizeSetting='1 day', whatToShow='MIDPOINT', useRTH=True)\n",
    "\n",
    "# # convert to pandas dataframe:\n",
    "# df = util.df(bars)\n",
    "# df.head()"
   ]
  },
  {
   "cell_type": "code",
   "execution_count": 57,
   "metadata": {},
   "outputs": [
    {
     "data": {
      "text/plain": [
       "datetime.datetime(2010, 6, 29, 8, 0)"
      ]
     },
     "execution_count": 57,
     "metadata": {},
     "output_type": "execute_result"
    }
   ],
   "source": [
    "contract = Stock('TSLA', 'SMART', 'USD')\n",
    "\n",
    "ib.reqHeadTimeStamp(contract, whatToShow='TRADES', useRTH=True)"
   ]
  },
  {
   "cell_type": "code",
   "execution_count": 58,
   "metadata": {},
   "outputs": [
    {
     "name": "stderr",
     "output_type": "stream",
     "text": [
      "Error 321, reqId 129: Error validating request.-'bS' : cause - End date not supported with adjusted last, contract: Stock(symbol='QQQ', exchange='SMART', currency='USD')\n"
     ]
    }
   ],
   "source": [
    "contract = Stock('QQQ', 'SMART', 'USD')\n",
    "dt = '20200101'\n",
    "barsList = []\n",
    "while True:\n",
    "    bars = ib.reqHistoricalData(\n",
    "        contract,\n",
    "        endDateTime=dt,\n",
    "        durationStr='10 D',\n",
    "        barSizeSetting='1 hour',\n",
    "        whatToShow='ADJUSTED_LAST',\n",
    "        useRTH=True,\n",
    "#         formatDateb=1\n",
    "    )\n",
    "    if not bars:\n",
    "        break\n",
    "    barsList.append(bars)\n",
    "    dt = bars[0].date\n",
    "    print(dt)\n",
    "# save to CSV file\n",
    "allBars = [b for bars in reversed(barsList) for b in bars]\n",
    "df = util.df(allBars)"
   ]
  },
  {
   "cell_type": "code",
   "execution_count": 59,
   "metadata": {},
   "outputs": [
    {
     "ename": "AttributeError",
     "evalue": "'NoneType' object has no attribute 'set_index'",
     "output_type": "error",
     "traceback": [
      "\u001b[1;31m---------------------------------------------------------------------------\u001b[0m",
      "\u001b[1;31mAttributeError\u001b[0m                            Traceback (most recent call last)",
      "\u001b[1;32m<ipython-input-59-eff954683595>\u001b[0m in \u001b[0;36m<module>\u001b[1;34m\u001b[0m\n\u001b[1;32m----> 1\u001b[1;33m \u001b[0mdf\u001b[0m\u001b[1;33m.\u001b[0m\u001b[0mset_index\u001b[0m\u001b[1;33m(\u001b[0m\u001b[1;34m'date'\u001b[0m\u001b[1;33m,\u001b[0m \u001b[0minplace\u001b[0m\u001b[1;33m=\u001b[0m\u001b[1;32mTrue\u001b[0m\u001b[1;33m)\u001b[0m\u001b[1;33m\u001b[0m\u001b[1;33m\u001b[0m\u001b[0m\n\u001b[0m",
      "\u001b[1;31mAttributeError\u001b[0m: 'NoneType' object has no attribute 'set_index'"
     ]
    }
   ],
   "source": [
    "df.set_index('date', inplace=True)"
   ]
  },
  {
   "cell_type": "code",
   "execution_count": null,
   "metadata": {},
   "outputs": [],
   "source": [
    "df[['open','high','low','close']].tail(390).plot(figsize = (15,7))\n",
    "plt.title(\"SPY Live Minute Data\")"
   ]
  },
  {
   "cell_type": "code",
   "execution_count": null,
   "metadata": {},
   "outputs": [],
   "source": [
    "df.tail(390)"
   ]
  },
  {
   "cell_type": "code",
   "execution_count": null,
   "metadata": {},
   "outputs": [],
   "source": [
    "Option?"
   ]
  },
  {
   "cell_type": "code",
   "execution_count": null,
   "metadata": {},
   "outputs": [],
   "source": [
    "option = Option('SPY', '20200416', 250, 'C', 'SMART', multiplier=100)\n",
    "calc = ib.calculateImpliedVolatility(\n",
    "    option, optionPrice=3.35, underPrice=248.21)\n",
    "print(calc)\n",
    "# calc = ib.calculateOptionPrice(\n",
    "# option, volatility=0.14, underPrice=525)\n",
    "# print(calc)"
   ]
  },
  {
   "cell_type": "code",
   "execution_count": null,
   "metadata": {},
   "outputs": [],
   "source": [
    "ib.calculateImpliedVolatility?"
   ]
  },
  {
   "cell_type": "code",
   "execution_count": null,
   "metadata": {},
   "outputs": [],
   "source": [
    "#因为demo mode所以现在会出现报错，使用实盘账户的话，应该可以跑通\n",
    "code = \"TSLA\"\n",
    "contract = Stock(symbol=code, exchange=\"SMART\", currency=\"USD\")\n",
    "bars = ib.reqHistoricalData(contract, endDateTime='20190314 18:30:00', durationStr='5 D',\n",
    "        barSizeSetting='30 secs', whatToShow='MIDPOINT', useRTH=True)\n",
    " \n",
    "# convert to pandas dataframe:\n",
    "df = util.df(bars)\n",
    "print(df[['date', 'open', 'high', 'low', 'close']])"
   ]
  },
  {
   "cell_type": "code",
   "execution_count": null,
   "metadata": {},
   "outputs": [],
   "source": [
    "df"
   ]
  },
  {
   "cell_type": "markdown",
   "metadata": {},
   "source": [
    "# Be careful of the following code that executes trade orders on IB"
   ]
  },
  {
   "cell_type": "code",
   "execution_count": 29,
   "metadata": {},
   "outputs": [],
   "source": [
    "class SIGNALS():\n",
    "\t# 在MACD模型下的开平仓算法\n",
    "\tdef macd_updown_signals(df, signal_spread_col, date_col, ticker_col):\n",
    "\t    ticker = df[ticker_col].values[-1]\n",
    "\t    last_date = df[date_col].values[-1]\n",
    "\t    df.dropna(inplace = True)\n",
    "\t    df.reset_index(inplace = True)\n",
    "\t    del df['index']\n",
    "\t    listLongShort = []\n",
    "\t    macd = df[signal_spread_col].values\n",
    "\t    \n",
    "\t    for i in range(1, len(df)):\n",
    "\t        last_date = df[date_col][i]\n",
    "\t        \n",
    "\t        if macd[i]>macd[i-1] and macd[i-1]<macd[i-2]:\n",
    "\t            \n",
    "\t            listLongShort.append(\"BUY\")\n",
    "\t        #                          # The other way around\n",
    "\t        elif macd[i]<macd[i-1] and macd[i-1]>macd[i-2]:\n",
    "\t            listLongShort.append(\"SELL\")\n",
    "\t        #                          # Do nothing if not satisfied\n",
    "\t        elif macd[i]<macd[i-1]:\n",
    "\t            listLongShort.append(\"HOLD SHORT\")\n",
    "\t            \n",
    "\t        elif macd[i]>macd[i-1]:\n",
    "\t            listLongShort.append(\"HOLD LONG\")        \n",
    "\t            \n",
    "\t    return ticker, last_date, listLongShort[-1]\n",
    "\t#     df['Advice'] = listLongShort\n",
    "\t    # The advice column means \"Buy/Sell/Hold\" at the end of this day or\n",
    "\t    #  at the beginning of the next day, since the market will be closed\n",
    "\n",
    "\n",
    "\tdef macd_cross_signals(df, signal_spread_col, date_col, ticker_col):\n",
    "\t    ticker = df[ticker_col].values[-1]\n",
    "\t    last_date = df[date_col].values[-1]\n",
    "\t    listLongShort = []\n",
    "\t    listDate = []\n",
    "\t    macd = df[signal_spread_col].values\n",
    "\t    \n",
    "\t    for i in range(1, len(df)):\n",
    "\t        last_date = df[date_col][i]\n",
    "\t        #                          # If the MACD crosses the signal line upward\n",
    "\t        if macd[i] >0 and macd[i - 1] <0:\n",
    "\t            listLongShort.append(\"BUY\")\n",
    "\t            listDate.append(last_date)\n",
    "\t        #                          # The other way around\n",
    "\t        elif macd[i] < 0 and macd[i - 1] >0:\n",
    "\t            listLongShort.append(\"SELL\")\n",
    "\t            listDate.append(last_date)\n",
    "\t        #                          # Do nothing if not crossed\n",
    "\t        else: # 还要改，再增加点条件\n",
    "\t            listLongShort.append(\"HOLD\")\n",
    "\t            listDate.append(last_date)\n",
    "\t#     print(\"Ticker: \", ticker)\n",
    "\t#     print(\"Last Date\", listDate[-1])\n",
    "\t#     print(\"Last Signal\", listLongShort[-1])\n",
    "\t    return ticker, last_date, listLongShort[-1]\n",
    "\t#     df['Advice'] = listLongShort\n",
    "\t    # The advice column means \"Buy/Sell/Hold\" at the end of this day or\n",
    "\t    #  at the beginning of the next day, since the market will be closed\n",
    "\n",
    "\tdef macd_updown_ma_slope(df, signal_spread_col, date_col, ticker_col, price_col):\n",
    "\t\tticker = df[ticker_col].values[-1]\n",
    "\t\tlast_date = df[date_col].values[-1]\n",
    "\t\tlistLongShort = []\n",
    "\t\t# listDate = []\n",
    "\t\tmacd = df[signal_spread_col].values\n",
    "\t\t# Calculate MA5:\n",
    "\t\tma5 = pd.Series(df[price_col]).rolling(window=5).mean()\n",
    "\t\t# Calculate MA10:\n",
    "\t\tma10 = pd.Series(df[price_col]).rolling(window=10).mean()\n",
    "\n",
    "\t\tfor i in range(1, len(df)):\n",
    "\t\t\tcurrent_date = df[date_col][i]\n",
    "\t\t\tlast_close = df[price_col][i]\n",
    "\t\t\tlast_ma5 = ma5[i]\n",
    "\t\t\tlast_ma10 = ma10[i]\n",
    "\t\t\tsec_last_ma10 = ma10[i-1]\n",
    "\n",
    "\t\t\tif macd[i]>macd[i-1] and macd[i-1]<macd[i-2] and last_close>last_ma5 and last_ma10>sec_last_ma10:\n",
    "\t            \n",
    "\t\t\t\tlistLongShort.append(\"买入\")\n",
    "\t        #                          # The other way around\n",
    "\t\t\telif macd[i]<macd[i-1] and macd[i-1]>macd[i-2] and last_close<last_ma5:\n",
    "\t\t\t\tlistLongShort.append(\"卖出\")\n",
    "\t        #                          # Do nothing if not satisfied\n",
    "\t\t\telif macd[i]<macd[i-1] and last_close<last_ma5:\n",
    "\t\t\t\tlistLongShort.append(\"空头持有\")\n",
    "\t            \n",
    "\t\t\telif macd[i]>macd[i-1] and last_close>last_ma5:\n",
    "\t\t\t\tlistLongShort.append(\"多头持有\")   \n",
    "\t\t\telse:\n",
    "\t\t\t\tlistLongShort.append(\"其他状态\")\n",
    "\n",
    "\t\treturn ticker, last_date, listLongShort[-1]\n",
    "\n",
    "\n",
    "\tdef macd_updown_ma_slope_bias(df, signal_spread_col, date_col, ticker_col, price_col):\n",
    "\t\tticker = df[ticker_col].values[-1]\n",
    "\t\tlast_date = df[date_col].values[-1]\n",
    "\t\tlistLongShort = []\n",
    "\t\t# listDate = []\n",
    "\t\tmacd = df[signal_spread_col].values\n",
    "\t\t# Calculate MA5:\n",
    "\t\tma5 = pd.Series(df[price_col]).rolling(window=5).mean()\n",
    "\t\t# Calculate MA10:\n",
    "\t\tma10 = pd.Series(df[price_col]).rolling(window=10).mean()\n",
    "\t\t\n",
    "\n",
    "\t\tfor i in range(1, len(df)):\n",
    "\t\t\tcurrent_date = df[date_col][i]\n",
    "\t\t\tlast_close = df[price_col][i]\n",
    "\t\t\tsec_last_close = df[price_col][i-1]\n",
    "\t\t\tlast_ma5 = ma5[i]\n",
    "\t\t\tsec_last_ma5 = ma5[i-1]\n",
    "\t\t\tlast_ma10 = ma10[i]\n",
    "\t\t\tsec_last_ma10 = ma10[i-1]\n",
    "\t\t\tlast_bias = last_close/last_ma10\n",
    "# \t\t\tprint(listLongShort)\n",
    "\n",
    "\t\t\t# MACD向上 and 收盘价上穿5日均线 and 10日均线向上\n",
    "\t\t\tif macd[i]>macd[i-1] and last_close>last_ma5 and sec_last_close < sec_last_ma5 and last_ma10>sec_last_ma10:\n",
    "\t\t\t\tlistLongShort.append(\"买入\")\n",
    "\t        # 收盘价下穿5日均线 or BIAS >1.1\n",
    "\t\t\tif last_close<last_ma5 and sec_last_close > sec_last_ma5 or last_bias>1.1:\n",
    "\t\t\t\tlistLongShort.append(\"卖出平仓\")\n",
    "\n",
    "\t\t\telse:\n",
    "\t\t\t\tlistLongShort.append(\"-\")\n",
    "# \t\t\tif listLongShort[i]==\"买入\" or listLongShort[i]==\"多头持有\":\n",
    "# \t\t\t\tlistLongShort.append(\"多头持有\")\t\t\t\t\n",
    "\n",
    "# \t\t\tif listLongShort[i]==\"卖出平仓\" or listLongShort[i]==\"空仓\":\n",
    "# \t\t\t\tlistLongShort.append(\"空仓\")\t\n",
    "\n",
    "\t\treturn ticker, last_date, listLongShort[-1]\n",
    "\n",
    "\n",
    "\n",
    "\n",
    "\tdef cross_MA(df, date_col, ticker_col, price_col, MA_para):\n",
    "\t\tticker = df[ticker_col].values[-1]\n",
    "\t\tlast_date = df[date_col].values[-1]\n",
    "\t\tlistLongShort = []\t\t\n",
    "\t\tma = pd.Series(df[price_col]).rolling(window=MA_para).mean()\n",
    "\n",
    "\t\tfor i in range(1, len(df)):\n",
    "\t\t\tlast_close = df[price_col][i]\n",
    "\t\t\tif last_close > ma[i] and last_close < ma[i-1]:\n",
    "\t\t\t\tlistLongShort.append(\"上穿MA{}，买入\")\n",
    "\t\t\telif last_close < ma[i] and last_close > ma[i-1]:\n",
    "\t\t\t\tlistLongShort.append(\"下穿MA{}，卖出\")\n",
    "\t\t\telse:\n",
    "\t\t\t\tlistLongShort.append(\"价格压在均线上，无操作\")\n",
    "\t\treturn ticker, last_date, listLongShort[-1]"
   ]
  },
  {
   "cell_type": "code",
   "execution_count": 30,
   "metadata": {},
   "outputs": [],
   "source": [
    "class GENERATE_SIGNALS():\n",
    "\n",
    "\tdef generate_signals_macd_updown(data_list, model_name, date_col, price_col, ticker_col, model_freq):\n",
    "\t    stock_list = []\n",
    "\t    date_list = []\n",
    "\t    signal_list = []\n",
    "\t    signal_df = pd.DataFrame()\n",
    "\t    signal_count = 1\n",
    "\n",
    "\t    for data in data_list:\n",
    "\t        try:\n",
    "\t            TA_df = PRICE_VOL_INDICATORS.MACD(data, \"Adj Close\", 12, 26, 9)\n",
    "\t            ticker, last_date, last_signal = SIGNALS.macd_updown_signals(TA_df, \"MACD\", date_col, ticker_col)\n",
    "\t            stock_list.append(ticker)\n",
    "\t            date_list.append(last_date)\n",
    "\t            signal_list.append(last_signal)\n",
    "\t            print (\"Signals({}) Prepared for No.{} : {}\".format(model_freq, signal_count, ticker))\n",
    "\t        except Exception as e:\n",
    "\t            print(e)\n",
    "\t        signal_count+=1\n",
    "\n",
    "\t    signal_df['Ticker'] = stock_list\n",
    "\t    signal_df['Last_Date'] = date_list\n",
    "\t    signal_df['Signal'] = signal_list\n",
    "\t    signal_df['model_name'] = model_name\n",
    "\t    signal_df['model_freq'] = model_freq\n",
    "\t    print(\"-------------------------\")\n",
    "\t    print(\"All Done!\")\n",
    "\t    return signal_df\n",
    "\n",
    "\tdef generate_signals_macd_updown_ma_slope(data_list, model_name, date_col, price_col, ticker_col, model_freq):\n",
    "\t    stock_list = []\n",
    "\t    date_list = []\n",
    "\t    signal_list = []\n",
    "\t    signal_df = pd.DataFrame()\n",
    "\t    signal_count = 1\n",
    "\n",
    "\t    for data in data_list:\n",
    "\t        try:\n",
    "\t            TA_df = PRICE_VOL_INDICATORS.MACD(data, \"Adj Close\", 12, 26, 9)\n",
    "\t            ticker, last_date, last_signal = SIGNALS.macd_updown_ma_slope(TA_df, \"MACD\", date_col, ticker_col, price_col)\n",
    "\t            stock_list.append(ticker)\n",
    "\t            date_list.append(last_date)\n",
    "\t            signal_list.append(last_signal)\n",
    "\t            print (\"Signals({}) Prepared for No.{} : {}\".format(model_freq, signal_count, ticker))\n",
    "\t        except Exception as e:\n",
    "\t            print(e)\n",
    "\t        signal_count+=1\n",
    "\n",
    "\t    signal_df['Ticker'] = stock_list\n",
    "\t    signal_df['Last_Date'] = date_list\n",
    "\t    signal_df['Signal'] = signal_list\n",
    "\t    signal_df['model_name'] = model_name\n",
    "\t    signal_df['model_freq'] = model_freq\n",
    "\t    print(\"-------------------------\")\n",
    "\t    print(\"All Done!\")\n",
    "\t    return signal_df\n",
    "\n",
    "\n",
    "\tdef generate_signals_macd_updown_ma_slope_bias(data_list, model_name, date_col, price_col, ticker_col, model_freq):\n",
    "\t    stock_list = []\n",
    "\t    date_list = []\n",
    "\t    signal_list = []\n",
    "\t    signal_df = pd.DataFrame()\n",
    "\t    signal_count = 1\n",
    "\n",
    "\t    for data in data_list:\n",
    "\t        try:\n",
    "\t            TA_df = PRICE_VOL_INDICATORS.MACD(data, \"Adj Close\", 12, 26, 9)\n",
    "\t            ticker, last_date, last_signal = SIGNALS.macd_updown_ma_slope_bias(TA_df, \"MACD\", date_col, ticker_col, price_col)\n",
    "\t            stock_list.append(ticker)\n",
    "\t            date_list.append(last_date)\n",
    "\t            signal_list.append(last_signal)\n",
    "\t            print (\"Signals({}) Prepared for No.{} : {}\".format(model_freq, signal_count, ticker))\n",
    "\t        except Exception as e:\n",
    "\t            print(e)\n",
    "\t        signal_count+=1\n",
    "\n",
    "\t    signal_df['Ticker'] = stock_list\n",
    "\t    signal_df['Last_Date'] = date_list\n",
    "\t    signal_df['Signal'] = signal_list\n",
    "\t    signal_df['model_name'] = model_name\n",
    "\t    signal_df['model_freq'] = model_freq\n",
    "\t    print(\"-------------------------\")\n",
    "\t    print(\"All Done!\")\n",
    "\t    return signal_df\n"
   ]
  },
  {
   "cell_type": "code",
   "execution_count": 13,
   "metadata": {},
   "outputs": [],
   "source": [
    "# 导入自己的模块\n",
    "from data_download_US_HK import *\n",
    "from strategies import *\n",
    "from positions import *"
   ]
  },
  {
   "cell_type": "code",
   "execution_count": 31,
   "metadata": {},
   "outputs": [],
   "source": [
    "ticker_list = [\"ES=F\",\"NQ=F\",\"YM=F\"]\n",
    "\n",
    "YH_IB_Ticker_Map_US_Index_Futures = {\"ES=F\":\"ES\",\n",
    "                       \"YM=F\":\"YM\",\n",
    "                       \"NQ=F\":\"NQ\"}\n",
    "\n",
    "us_db_path = \"C:/Users/Administrator/CE_github_2/data_pipeline/Data/\"\n",
    "\n",
    "data_list_selected = LOAD_DATA.read_data_from_folders(ticker_list, us_db_path)\n",
    "\n",
    "# Generate signals\n",
    "daily_macd_updown_signals = GENERATE_SIGNALS.generate_signals_macd_updown_ma_slope_bias( \n",
    "                                                                       data_list_selected,\n",
    "#                                                                            CN_fund_data,\n",
    "                                                                      \"Macd_Updown_Ma_Slope_Bias\", \n",
    "                                                                      \"Date\", \n",
    "                                                                      \"Adj Close\", \n",
    "                                                                      \"Ticker\", \n",
    "                                                                      \"D\")"
   ]
  },
  {
   "cell_type": "code",
   "execution_count": 40,
   "metadata": {},
   "outputs": [
    {
     "name": "stdout",
     "output_type": "stream",
     "text": [
      "检测ES=F信号...\n",
      "无操作\n",
      "--------------\n",
      "检测NQ=F信号...\n",
      "无操作\n",
      "--------------\n",
      "检测YM=F信号...\n",
      "无操作\n",
      "--------------\n"
     ]
    }
   ],
   "source": [
    "# futures\n",
    "for ticker in ticker_list:\n",
    "    print(\"检测{}信号...\".format(ticker))\n",
    "    if str(daily_macd_updown_signals[daily_macd_updown_signals['Ticker'] == ticker]['Signal'].values[0])==\"买入\":\n",
    "        print(\"Signal for: {}\".format(ticker),\":买入\")\n",
    "        IB_ticker = YH_IB_Ticker_Map_US_Index_Futures[ticker]\n",
    "        \n",
    "        contract = Future(IB_ticker, '20210618', 'GLOBEX')\n",
    "        ib.qualifyContracts(contract)\n",
    "        # step 2 定义合约单信息\n",
    "        order = MarketOrder('BUY', 1)\n",
    "\n",
    "        # step 3 定义交易功能\n",
    "        trade = ib.placeOrder(contract, order)\n",
    "\n",
    "        # print(trade)\n",
    "\n",
    "        ib.sleep(1)\n",
    "        print(\"Bought\")\n",
    "        \n",
    "    if str(daily_macd_updown_signals[daily_macd_updown_signals['Ticker'] == ticker]['Signal'].values[0])==\"卖出平仓\":\n",
    "        print(\"Signal for: {}\".format(ticker),\":卖出平仓\")\n",
    "        IB_ticker = YH_IB_Ticker_Map_US_Index_Futures[ticker]\n",
    "        \n",
    "        contract = Future(IB_ticker, '20210618', 'GLOBEX')\n",
    "        ib.qualifyContracts(contract)\n",
    "        # step 2 定义合约单信息\n",
    "        order = MarketOrder('SELL', 1)\n",
    "\n",
    "        # step 3 定义交易功能\n",
    "        trade = ib.placeOrder(contract, order)\n",
    "\n",
    "        # print(trade)\n",
    "\n",
    "        ib.sleep(1)\n",
    "        print(\"SELL\")       \n",
    "        \n",
    "    else:\n",
    "        print(\"无操作\")\n",
    "    print(\"--------------\")"
   ]
  },
  {
   "cell_type": "code",
   "execution_count": 53,
   "metadata": {},
   "outputs": [],
   "source": [
    "ticker_list = list(set(['9988.HK','6618.HK','3888.HK','0418.HK',\n",
    "\t\t'9999.HK','1909.HK','2318.HK','0941.HK','0005.HK','9999.HK',\n",
    "\t\t'1070.HK','6969.HK','0241.HK','1137.HK','6055.HK','6862.HK',\n",
    "\t\t'0700.HK','2051.HK','6993.HK','6618.HK','9992.HK','3690.HK',\n",
    "\t\t'1810.HK','1024.HK','1119.HK','8029.HK','0493.HK','2382.HK',\n",
    "\t\t'0175.HK','6969.HK','1610.HK','2400.HK','0788.HK','0981.HK',\n",
    "\t\t'0728.HK','0762.HK','1833.HK','0285.HK','0268.HK','0763.HK',\n",
    "\t\t'6823.HK','6060.HK','0151.HK','1347.HK','3799.HK','2018.HK',\n",
    "\t\t'0522.HK','0008.HK','2400.HK','0552.HK','1458.HK','6088.HK',\n",
    "\t\t'1478.HK','0303.HK','1070.HK','1310.HK','9990.HK','0799.HK',\n",
    "\t\t'3738.HK','1675.HK','0142.HK','0777.HK','1883.HK','2038.HK',\n",
    "\t\t'0419.HK','6869.HK','1385.HK','0302.HK','0797.HK','3798.HK',\n",
    "\t\t'0751.HK','1475.HK','0215.HK','2342.HK','2100.HK','0315.HK',\n",
    "\t\t'6820.HK','1909.HK','1415.HK','8032.HK','1119.HK','0732.HK',\n",
    "\t\t'1588.HK','2309.HK','0698.HK','2369.HK','0596.HK','1566.HK',\n",
    "\t\t'0186.HK','2255.HK','0439.HK','6188.HK','1979.HK']))\n",
    "\n",
    "ticker_list = ticker_list[:10]"
   ]
  },
  {
   "cell_type": "code",
   "execution_count": 51,
   "metadata": {},
   "outputs": [],
   "source": [
    "YH_IB_Ticker_Map_HK_Stocks = {}\n",
    "for ticker in ticker_list[:10]:\n",
    "    IB_ticker = ticker[:4]\n",
    "    YH_IB_Ticker_Map_HK_Stocks[ticker] = IB_ticker\n",
    "#     print(IB_ticker)"
   ]
  },
  {
   "cell_type": "code",
   "execution_count": 52,
   "metadata": {},
   "outputs": [
    {
     "data": {
      "text/plain": [
       "{'6823.HK': '6823',\n",
       " '6869.HK': '6869',\n",
       " '1478.HK': '1478',\n",
       " '0552.HK': '0552',\n",
       " '9999.HK': '9999',\n",
       " '1458.HK': '1458',\n",
       " '1385.HK': '1385',\n",
       " '6088.HK': '6088',\n",
       " '0005.HK': '0005',\n",
       " '0008.HK': '0008'}"
      ]
     },
     "execution_count": 52,
     "metadata": {},
     "output_type": "execute_result"
    }
   ],
   "source": [
    "YH_IB_Ticker_Map_HK_Stocks"
   ]
  },
  {
   "cell_type": "code",
   "execution_count": 56,
   "metadata": {},
   "outputs": [
    {
     "data": {
      "text/plain": [
       "-0.44020902090209024"
      ]
     },
     "execution_count": 56,
     "metadata": {},
     "output_type": "execute_result"
    }
   ],
   "source": [
    "101.77/181.80-1"
   ]
  },
  {
   "cell_type": "code",
   "execution_count": 54,
   "metadata": {},
   "outputs": [
    {
     "data": {
      "text/plain": [
       "2516"
      ]
     },
     "execution_count": 54,
     "metadata": {},
     "output_type": "execute_result"
    }
   ],
   "source": [
    "422+1693+401"
   ]
  },
  {
   "cell_type": "code",
   "execution_count": null,
   "metadata": {},
   "outputs": [],
   "source": [
    "us_db_path = \"C:/Users/Administrator/CE_github_2/data_pipeline/Data/\"\n",
    "\n",
    "data_list_selected = LOAD_DATA.read_data_from_folders(ticker_list, us_db_path)\n",
    "\n",
    "# Generate signals\n",
    "daily_macd_updown_signals = GENERATE_SIGNALS.generate_signals_macd_updown_ma_slope_bias( \n",
    "                                                                       data_list_selected,\n",
    "#                                                                            CN_fund_data,\n",
    "                                                                      \"Macd_Updown_Ma_Slope_Bias\", \n",
    "                                                                      \"Date\", \n",
    "                                                                      \"Adj Close\", \n",
    "                                                                      \"Ticker\", \n",
    "                                                                      \"D\")"
   ]
  },
  {
   "cell_type": "code",
   "execution_count": null,
   "metadata": {},
   "outputs": [],
   "source": [
    "# HK stocks:\n",
    "\n",
    "for ticker in ticker_list:\n",
    "    print(\"检测{}信号...\".format(ticker))\n",
    "    if str(daily_macd_updown_signals[daily_macd_updown_signals['Ticker'] == ticker]['Signal'].values[0])==\"买入\":\n",
    "        print(\"Signal for: {}\".format(ticker),\":买入\")\n",
    "        IB_ticker = YH_IB_Ticker_Map_US_Index_Futures[ticker]\n",
    "        \n",
    "        contract = Future(IB_ticker, '20210618', 'GLOBEX')\n",
    "        ib.qualifyContracts(contract)\n",
    "        # step 2 定义合约单信息\n",
    "        order = MarketOrder('BUY', 1)\n",
    "\n",
    "        # step 3 定义交易功能\n",
    "        trade = ib.placeOrder(contract, order)\n",
    "\n",
    "        # print(trade)\n",
    "\n",
    "        ib.sleep(1)\n",
    "        print(\"Bought\")\n",
    "        \n",
    "    if str(daily_macd_updown_signals[daily_macd_updown_signals['Ticker'] == ticker]['Signal'].values[0])==\"卖出平仓\":\n",
    "        print(\"Signal for: {}\".format(ticker),\":卖出平仓\")\n",
    "        IB_ticker = YH_IB_Ticker_Map_US_Index_Futures[ticker]\n",
    "        \n",
    "        contract = Future(IB_ticker, '20210618', 'GLOBEX')\n",
    "        ib.qualifyContracts(contract)\n",
    "        # step 2 定义合约单信息\n",
    "        order = MarketOrder('SELL', 1)\n",
    "\n",
    "        # step 3 定义交易功能\n",
    "        trade = ib.placeOrder(contract, order)\n",
    "\n",
    "        # print(trade)\n",
    "\n",
    "        ib.sleep(1)\n",
    "        print(\"SELL\")       \n",
    "        \n",
    "    else:\n",
    "        print(\"无操作\")\n",
    "    print(\"--------------\")"
   ]
  },
  {
   "cell_type": "code",
   "execution_count": null,
   "metadata": {},
   "outputs": [],
   "source": [
    "# 这是一个使用ib_sync和ib_api 来实现下单的一个例子\n",
    "\n",
    "# step 1 定义、验证合约有效性\n",
    "# contract = Stock('3690', 'SEHK', 'HKD')\n",
    "\n",
    "# assert trade in ib.trades()\n",
    "# assert order in ib.orders()\n",
    "\n",
    "# 期货example:\n",
    "# contract = Future('ES', '20210618', 'GLOBEX')\n",
    "\n",
    "# 港股example:\n",
    "contract = Stock('6618', exchange='SEHK')\n",
    "ib.qualifyContracts(contract)\n",
    "\n",
    "# step 2 定义合约单信息\n",
    "order = MarketOrder('BUY', 50)\n",
    "\n",
    "# step 3 定义交易功能\n",
    "trade = ib.placeOrder(contract, order)\n",
    "\n",
    "# print(trade)\n",
    "\n",
    "ib.sleep(1)\n",
    "# print(trade.log)\n",
    "\n",
    "# limitOrder = LimitOrder('BUY', 1, 0.05)\n",
    "# limitTrade = ib.placeOrder(contract, limitOrder)\n",
    "\n",
    "# print(limitTrade)\n",
    "# ib.placeOrder(contract, limitOrder)\n",
    "# ib.cancelOrder(limitOrder)"
   ]
  },
  {
   "cell_type": "code",
   "execution_count": null,
   "metadata": {},
   "outputs": [],
   "source": [
    "contract = Stock('GOOGL', exchange=\"SMART\", currency=\"USD\")\n",
    "ib.qualifyContracts(contract)\n",
    "\n",
    "# step 2 定义合约单信息\n",
    "order = MarketOrder('BUY', 1)\n",
    "\n",
    "# step 3 定义交易功能\n",
    "trade = ib.placeOrder(contract, order)\n",
    "\n",
    "# print(trade)\n",
    "\n",
    "ib.sleep(1)"
   ]
  },
  {
   "cell_type": "code",
   "execution_count": null,
   "metadata": {},
   "outputs": [],
   "source": []
  },
  {
   "cell_type": "code",
   "execution_count": null,
   "metadata": {},
   "outputs": [],
   "source": []
  },
  {
   "cell_type": "code",
   "execution_count": null,
   "metadata": {},
   "outputs": [],
   "source": []
  },
  {
   "cell_type": "code",
   "execution_count": null,
   "metadata": {},
   "outputs": [],
   "source": []
  },
  {
   "cell_type": "code",
   "execution_count": null,
   "metadata": {},
   "outputs": [],
   "source": []
  },
  {
   "cell_type": "code",
   "execution_count": null,
   "metadata": {},
   "outputs": [],
   "source": []
  },
  {
   "cell_type": "code",
   "execution_count": null,
   "metadata": {},
   "outputs": [],
   "source": []
  },
  {
   "cell_type": "code",
   "execution_count": null,
   "metadata": {},
   "outputs": [],
   "source": []
  },
  {
   "cell_type": "code",
   "execution_count": null,
   "metadata": {},
   "outputs": [],
   "source": []
  },
  {
   "cell_type": "code",
   "execution_count": null,
   "metadata": {},
   "outputs": [],
   "source": []
  },
  {
   "cell_type": "code",
   "execution_count": null,
   "metadata": {},
   "outputs": [],
   "source": []
  },
  {
   "cell_type": "code",
   "execution_count": null,
   "metadata": {},
   "outputs": [],
   "source": [
    "#尝试调取option数据\n",
    "spx = Index('SPX')\n",
    "ib.qualifyContracts(spx)\n",
    "chains= ib.reqSecDefOptParams(spx.symbol, '', spx.secType, spx.conId)\n",
    "\n",
    "util.df(chains)"
   ]
  },
  {
   "cell_type": "code",
   "execution_count": null,
   "metadata": {},
   "outputs": [],
   "source": [
    "options_chain = util.df(chains)"
   ]
  },
  {
   "cell_type": "code",
   "execution_count": null,
   "metadata": {},
   "outputs": [],
   "source": [
    "options_chain"
   ]
  },
  {
   "cell_type": "code",
   "execution_count": null,
   "metadata": {},
   "outputs": [],
   "source": [
    "contract = Stock('IBM', 'SMART', 'USD') \n",
    "ticker = ib.reqMktData(contract, '258') \n",
    "ib.sleep(2) \n",
    "print(ticker.fundamentalRatios)"
   ]
  },
  {
   "cell_type": "code",
   "execution_count": null,
   "metadata": {},
   "outputs": [],
   "source": [
    "#由于是demo mode 所以报错了，TWS setup 文件里最后一个链接中有具体的demo\n",
    "[ticker] = ib.reqTickers(spx)\n",
    "ticker\n",
    "spxValue = ticker.marketPrice()\n",
    "spxValue\n",
    "\n",
    "chain = next(c for c in chains if c.tradingClass == 'SPX' and c.exchange == 'SMART')\n",
    "chain\n",
    "strikes = [strike for strike in chain.strikes\n",
    "        if strike % 5 == 0\n",
    "        and spxValue - 20 < strike < spxValue + 20]\n",
    "expirations = sorted(exp for exp in chain.expirations)[:3]\n",
    "rights = ['P', 'C']\n",
    "\n",
    "contracts = [Option('SPX', expiration, strike, right, 'SMART', tradingClass='SPX')\n",
    "        for right in rights\n",
    "        for expiration in expirations\n",
    "        for strike in strikes]\n",
    "\n",
    "contracts = ib.qualifyContracts(*contracts)\n",
    "len(contracts)"
   ]
  },
  {
   "cell_type": "code",
   "execution_count": null,
   "metadata": {},
   "outputs": [],
   "source": [
    "contracts"
   ]
  }
 ],
 "metadata": {
  "file_extension": ".py",
  "kernelspec": {
   "display_name": "Python 3",
   "language": "python",
   "name": "python3"
  },
  "language_info": {
   "codemirror_mode": {
    "name": "ipython",
    "version": 3
   },
   "file_extension": ".py",
   "mimetype": "text/x-python",
   "name": "python",
   "nbconvert_exporter": "python",
   "pygments_lexer": "ipython3",
   "version": "3.8.5"
  },
  "mimetype": "text/x-python",
  "name": "python",
  "npconvert_exporter": "python",
  "pygments_lexer": "ipython3",
  "version": 3
 },
 "nbformat": 4,
 "nbformat_minor": 2
}
