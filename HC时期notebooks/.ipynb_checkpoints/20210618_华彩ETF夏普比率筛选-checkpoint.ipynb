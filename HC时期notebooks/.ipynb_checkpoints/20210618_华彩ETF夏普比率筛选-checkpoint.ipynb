{
 "cells": [
  {
   "cell_type": "code",
   "execution_count": 1,
   "metadata": {},
   "outputs": [],
   "source": [
    "import pandas as pd\n",
    "\n",
    "# 导入自己的模块\n",
    "from data_download_US_HK import *\n",
    "from strategies import *\n",
    "from positions import *"
   ]
  },
  {
   "cell_type": "code",
   "execution_count": 2,
   "metadata": {},
   "outputs": [],
   "source": [
    "def sharpe_ratio(strategy_ret, freq_multiplier):\n",
    "    \"\"\"\n",
    "    Documentation:\n",
    "    ---------\n",
    "    Strategy_ret: Series | Numpy Array\n",
    "    Freq_multiplier explanation:\n",
    "    Daily_Data_Freq_multiplier: 252, \n",
    "    Hourly_Data_Freq_multiplier: 252*6.5,  \n",
    "    Minutely_Data_Freq_multipler: 252*6.5*60 \n",
    "    Second_Data_Freq_multipler: 252*6.5*60*60\n",
    "\n",
    "    More Reference and Formula: https://www.investopedia.com/terms/s/sharperatio.asp\n",
    "    \"\"\"\n",
    "    er = np.mean(strategy_ret)\n",
    "    return np.sqrt(freq_multiplier) * er / np.std(strategy_ret, ddof=1)"
   ]
  },
  {
   "cell_type": "code",
   "execution_count": null,
   "metadata": {},
   "outputs": [],
   "source": [
    "(133.1/100)^(1/3)-1 = 10%"
   ]
  },
  {
   "cell_type": "code",
   "execution_count": 6,
   "metadata": {},
   "outputs": [
    {
     "data": {
      "text/plain": [
       "2.0"
      ]
     },
     "execution_count": 6,
     "metadata": {},
     "output_type": "execute_result"
    }
   ],
   "source": [
    "4**(1/2)"
   ]
  },
  {
   "cell_type": "code",
   "execution_count": 8,
   "metadata": {},
   "outputs": [],
   "source": [
    "data = pd.read_csv(\"ETF_夏普比率排序.csv\", encoding=\"ansi\")\n",
    "data['1yr_年化'] = \"\"\n",
    "data['3yr_年化'] = \"\"\n",
    "data['5yr_年化'] = \"\"\n",
    "data['10yr_年化'] = \"\""
   ]
  },
  {
   "cell_type": "code",
   "execution_count": 13,
   "metadata": {},
   "outputs": [],
   "source": [
    "def read_data_from_yf_D(tickers_list):\n",
    "    load_count = 1\n",
    "    data_list = []\n",
    "    len_tickers = len(tickers_list)\n",
    "    for ticker in tickers_list:\n",
    "        if load_count%100==0:\n",
    "            print(\"=======================Sleeping======================\")\n",
    "            time.sleep(30)\n",
    "        else:\n",
    "            print(\"Loading from YahooFinance: No.{} / {}: {}\".format(load_count, len_tickers, ticker))\n",
    "            data = yf.download(\n",
    "                    tickers=[ticker],\n",
    "                    # use \"period\" instead of start/end\n",
    "                    # valid periods: 1d,5d,1mo,3mo,6mo,1y,2y,5y,10y,ytd,max\n",
    "                    # (optional, default is '1mo')\n",
    "                    period=\"1260d\",\n",
    "                    # fetch data by interval (including intraday if period < 60 days)\n",
    "                    # valid intervals: 1m,2m,5m,15m,30m,60m,90m,1h,1d,5d,1wk,1mo,3mo\n",
    "                    # (optional, default is '1d')\n",
    "                    interval=\"1d\")\n",
    "            data.dropna(inplace = True)\n",
    "            data.reset_index(inplace = True)\n",
    "            data[\"Ticker\"] = ticker\n",
    "            data_list.append(data)\n",
    "        load_count+=1\n",
    "    print(\"All Data Loaded\")\n",
    "    return data_list"
   ]
  },
  {
   "cell_type": "code",
   "execution_count": 18,
   "metadata": {},
   "outputs": [],
   "source": []
  },
  {
   "cell_type": "code",
   "execution_count": 30,
   "metadata": {},
   "outputs": [
    {
     "name": "stdout",
     "output_type": "stream",
     "text": [
      "Loading from YahooFinance: No.1 / 1: RPAR\n",
      "[*********************100%***********************]  1 of 1 completed\n",
      "All Data Loaded\n",
      "Done: RPAR\n",
      "Loading from YahooFinance: No.1 / 1: VXX\n"
     ]
    },
    {
     "name": "stderr",
     "output_type": "stream",
     "text": [
      "<ipython-input-30-937137c36fa2>:7: SettingWithCopyWarning: \n",
      "A value is trying to be set on a copy of a slice from a DataFrame\n",
      "\n",
      "See the caveats in the documentation: https://pandas.pydata.org/pandas-docs/stable/user_guide/indexing.html#returning-a-view-versus-a-copy\n",
      "  data['Sharpe'][i] = sharpe\n"
     ]
    },
    {
     "name": "stdout",
     "output_type": "stream",
     "text": [
      "[*********************100%***********************]  1 of 1 completed\n",
      "All Data Loaded\n",
      "Done: VXX\n",
      "Loading from YahooFinance: No.1 / 1: QAI\n"
     ]
    },
    {
     "name": "stderr",
     "output_type": "stream",
     "text": [
      "<ipython-input-30-937137c36fa2>:7: SettingWithCopyWarning: \n",
      "A value is trying to be set on a copy of a slice from a DataFrame\n",
      "\n",
      "See the caveats in the documentation: https://pandas.pydata.org/pandas-docs/stable/user_guide/indexing.html#returning-a-view-versus-a-copy\n",
      "  data['Sharpe'][i] = sharpe\n"
     ]
    },
    {
     "name": "stdout",
     "output_type": "stream",
     "text": [
      "[*********************100%***********************]  1 of 1 completed\n",
      "All Data Loaded\n",
      "Done: QAI\n",
      "Loading from YahooFinance: No.1 / 1: UVXY\n"
     ]
    },
    {
     "name": "stderr",
     "output_type": "stream",
     "text": [
      "<ipython-input-30-937137c36fa2>:7: SettingWithCopyWarning: \n",
      "A value is trying to be set on a copy of a slice from a DataFrame\n",
      "\n",
      "See the caveats in the documentation: https://pandas.pydata.org/pandas-docs/stable/user_guide/indexing.html#returning-a-view-versus-a-copy\n",
      "  data['Sharpe'][i] = sharpe\n"
     ]
    },
    {
     "name": "stdout",
     "output_type": "stream",
     "text": [
      "[*********************100%***********************]  1 of 1 completed\n",
      "All Data Loaded\n",
      "Done: UVXY\n",
      "Loading from YahooFinance: No.1 / 1: MNA\n"
     ]
    },
    {
     "name": "stderr",
     "output_type": "stream",
     "text": [
      "<ipython-input-30-937137c36fa2>:7: SettingWithCopyWarning: \n",
      "A value is trying to be set on a copy of a slice from a DataFrame\n",
      "\n",
      "See the caveats in the documentation: https://pandas.pydata.org/pandas-docs/stable/user_guide/indexing.html#returning-a-view-versus-a-copy\n",
      "  data['Sharpe'][i] = sharpe\n"
     ]
    },
    {
     "name": "stdout",
     "output_type": "stream",
     "text": [
      "[*********************100%***********************]  1 of 1 completed\n",
      "All Data Loaded\n",
      "Done: MNA\n",
      "Loading from YahooFinance: No.1 / 1: SVXY\n"
     ]
    },
    {
     "name": "stderr",
     "output_type": "stream",
     "text": [
      "<ipython-input-30-937137c36fa2>:7: SettingWithCopyWarning: \n",
      "A value is trying to be set on a copy of a slice from a DataFrame\n",
      "\n",
      "See the caveats in the documentation: https://pandas.pydata.org/pandas-docs/stable/user_guide/indexing.html#returning-a-view-versus-a-copy\n",
      "  data['Sharpe'][i] = sharpe\n"
     ]
    },
    {
     "name": "stdout",
     "output_type": "stream",
     "text": [
      "[*********************100%***********************]  1 of 1 completed\n",
      "All Data Loaded\n",
      "Done: SVXY\n",
      "Loading from YahooFinance: No.1 / 1: FTLS\n"
     ]
    },
    {
     "name": "stderr",
     "output_type": "stream",
     "text": [
      "<ipython-input-30-937137c36fa2>:7: SettingWithCopyWarning: \n",
      "A value is trying to be set on a copy of a slice from a DataFrame\n",
      "\n",
      "See the caveats in the documentation: https://pandas.pydata.org/pandas-docs/stable/user_guide/indexing.html#returning-a-view-versus-a-copy\n",
      "  data['Sharpe'][i] = sharpe\n"
     ]
    },
    {
     "name": "stdout",
     "output_type": "stream",
     "text": [
      "[*********************100%***********************]  1 of 1 completed\n",
      "All Data Loaded\n",
      "Done: FTLS\n",
      "Loading from YahooFinance: No.1 / 1: VIXY\n"
     ]
    },
    {
     "name": "stderr",
     "output_type": "stream",
     "text": [
      "<ipython-input-30-937137c36fa2>:7: SettingWithCopyWarning: \n",
      "A value is trying to be set on a copy of a slice from a DataFrame\n",
      "\n",
      "See the caveats in the documentation: https://pandas.pydata.org/pandas-docs/stable/user_guide/indexing.html#returning-a-view-versus-a-copy\n",
      "  data['Sharpe'][i] = sharpe\n"
     ]
    },
    {
     "name": "stdout",
     "output_type": "stream",
     "text": [
      "[*********************100%***********************]  1 of 1 completed\n",
      "All Data Loaded\n",
      "Done: VIXY\n",
      "Loading from YahooFinance: No.1 / 1: CCOR\n"
     ]
    },
    {
     "name": "stderr",
     "output_type": "stream",
     "text": [
      "<ipython-input-30-937137c36fa2>:7: SettingWithCopyWarning: \n",
      "A value is trying to be set on a copy of a slice from a DataFrame\n",
      "\n",
      "See the caveats in the documentation: https://pandas.pydata.org/pandas-docs/stable/user_guide/indexing.html#returning-a-view-versus-a-copy\n",
      "  data['Sharpe'][i] = sharpe\n"
     ]
    },
    {
     "name": "stdout",
     "output_type": "stream",
     "text": [
      "[*********************100%***********************]  1 of 1 completed\n",
      "All Data Loaded\n",
      "Done: CCOR\n",
      "Loading from YahooFinance: No.1 / 1: WTMF\n"
     ]
    },
    {
     "name": "stderr",
     "output_type": "stream",
     "text": [
      "<ipython-input-30-937137c36fa2>:7: SettingWithCopyWarning: \n",
      "A value is trying to be set on a copy of a slice from a DataFrame\n",
      "\n",
      "See the caveats in the documentation: https://pandas.pydata.org/pandas-docs/stable/user_guide/indexing.html#returning-a-view-versus-a-copy\n",
      "  data['Sharpe'][i] = sharpe\n"
     ]
    },
    {
     "name": "stdout",
     "output_type": "stream",
     "text": [
      "[*********************100%***********************]  1 of 1 completed\n",
      "All Data Loaded\n",
      "Done: WTMF\n",
      "Loading from YahooFinance: No.1 / 1: AOR\n"
     ]
    },
    {
     "name": "stderr",
     "output_type": "stream",
     "text": [
      "<ipython-input-30-937137c36fa2>:7: SettingWithCopyWarning: \n",
      "A value is trying to be set on a copy of a slice from a DataFrame\n",
      "\n",
      "See the caveats in the documentation: https://pandas.pydata.org/pandas-docs/stable/user_guide/indexing.html#returning-a-view-versus-a-copy\n",
      "  data['Sharpe'][i] = sharpe\n"
     ]
    },
    {
     "name": "stdout",
     "output_type": "stream",
     "text": [
      "[*********************100%***********************]  1 of 1 completed\n",
      "All Data Loaded\n",
      "Done: AOR\n",
      "Loading from YahooFinance: No.1 / 1: AOM\n"
     ]
    },
    {
     "name": "stderr",
     "output_type": "stream",
     "text": [
      "<ipython-input-30-937137c36fa2>:7: SettingWithCopyWarning: \n",
      "A value is trying to be set on a copy of a slice from a DataFrame\n",
      "\n",
      "See the caveats in the documentation: https://pandas.pydata.org/pandas-docs/stable/user_guide/indexing.html#returning-a-view-versus-a-copy\n",
      "  data['Sharpe'][i] = sharpe\n"
     ]
    },
    {
     "name": "stdout",
     "output_type": "stream",
     "text": [
      "[*********************100%***********************]  1 of 1 completed\n",
      "All Data Loaded\n",
      "Done: AOM\n",
      "Loading from YahooFinance: No.1 / 1: AOA\n"
     ]
    },
    {
     "name": "stderr",
     "output_type": "stream",
     "text": [
      "<ipython-input-30-937137c36fa2>:7: SettingWithCopyWarning: \n",
      "A value is trying to be set on a copy of a slice from a DataFrame\n",
      "\n",
      "See the caveats in the documentation: https://pandas.pydata.org/pandas-docs/stable/user_guide/indexing.html#returning-a-view-versus-a-copy\n",
      "  data['Sharpe'][i] = sharpe\n"
     ]
    },
    {
     "name": "stdout",
     "output_type": "stream",
     "text": [
      "[*********************100%***********************]  1 of 1 completed\n",
      "All Data Loaded\n",
      "Done: AOA\n",
      "Loading from YahooFinance: No.1 / 1: AOK\n"
     ]
    },
    {
     "name": "stderr",
     "output_type": "stream",
     "text": [
      "<ipython-input-30-937137c36fa2>:7: SettingWithCopyWarning: \n",
      "A value is trying to be set on a copy of a slice from a DataFrame\n",
      "\n",
      "See the caveats in the documentation: https://pandas.pydata.org/pandas-docs/stable/user_guide/indexing.html#returning-a-view-versus-a-copy\n",
      "  data['Sharpe'][i] = sharpe\n"
     ]
    },
    {
     "name": "stdout",
     "output_type": "stream",
     "text": [
      "[*********************100%***********************]  1 of 1 completed\n",
      "All Data Loaded\n",
      "Done: AOK\n",
      "Loading from YahooFinance: No.1 / 1: PCEF\n"
     ]
    },
    {
     "name": "stderr",
     "output_type": "stream",
     "text": [
      "<ipython-input-30-937137c36fa2>:7: SettingWithCopyWarning: \n",
      "A value is trying to be set on a copy of a slice from a DataFrame\n",
      "\n",
      "See the caveats in the documentation: https://pandas.pydata.org/pandas-docs/stable/user_guide/indexing.html#returning-a-view-versus-a-copy\n",
      "  data['Sharpe'][i] = sharpe\n"
     ]
    },
    {
     "name": "stdout",
     "output_type": "stream",
     "text": [
      "[*********************100%***********************]  1 of 1 completed\n",
      "All Data Loaded\n",
      "Done: PCEF\n",
      "Loading from YahooFinance: No.1 / 1: SWAN\n"
     ]
    },
    {
     "name": "stderr",
     "output_type": "stream",
     "text": [
      "<ipython-input-30-937137c36fa2>:7: SettingWithCopyWarning: \n",
      "A value is trying to be set on a copy of a slice from a DataFrame\n",
      "\n",
      "See the caveats in the documentation: https://pandas.pydata.org/pandas-docs/stable/user_guide/indexing.html#returning-a-view-versus-a-copy\n",
      "  data['Sharpe'][i] = sharpe\n"
     ]
    },
    {
     "name": "stdout",
     "output_type": "stream",
     "text": [
      "[*********************100%***********************]  1 of 1 completed\n",
      "All Data Loaded\n",
      "Done: SWAN\n",
      "Loading from YahooFinance: No.1 / 1: DRSK\n"
     ]
    },
    {
     "name": "stderr",
     "output_type": "stream",
     "text": [
      "<ipython-input-30-937137c36fa2>:7: SettingWithCopyWarning: \n",
      "A value is trying to be set on a copy of a slice from a DataFrame\n",
      "\n",
      "See the caveats in the documentation: https://pandas.pydata.org/pandas-docs/stable/user_guide/indexing.html#returning-a-view-versus-a-copy\n",
      "  data['Sharpe'][i] = sharpe\n"
     ]
    },
    {
     "name": "stdout",
     "output_type": "stream",
     "text": [
      "[*********************100%***********************]  1 of 1 completed\n",
      "All Data Loaded\n",
      "Done: DRSK\n",
      "Loading from YahooFinance: No.1 / 1: HNDL\n"
     ]
    },
    {
     "name": "stderr",
     "output_type": "stream",
     "text": [
      "<ipython-input-30-937137c36fa2>:7: SettingWithCopyWarning: \n",
      "A value is trying to be set on a copy of a slice from a DataFrame\n",
      "\n",
      "See the caveats in the documentation: https://pandas.pydata.org/pandas-docs/stable/user_guide/indexing.html#returning-a-view-versus-a-copy\n",
      "  data['Sharpe'][i] = sharpe\n"
     ]
    },
    {
     "name": "stdout",
     "output_type": "stream",
     "text": [
      "[*********************100%***********************]  1 of 1 completed\n",
      "All Data Loaded\n",
      "Done: HNDL\n",
      "Loading from YahooFinance: No.1 / 1: NTSX\n"
     ]
    },
    {
     "name": "stderr",
     "output_type": "stream",
     "text": [
      "<ipython-input-30-937137c36fa2>:7: SettingWithCopyWarning: \n",
      "A value is trying to be set on a copy of a slice from a DataFrame\n",
      "\n",
      "See the caveats in the documentation: https://pandas.pydata.org/pandas-docs/stable/user_guide/indexing.html#returning-a-view-versus-a-copy\n",
      "  data['Sharpe'][i] = sharpe\n"
     ]
    },
    {
     "name": "stdout",
     "output_type": "stream",
     "text": [
      "[*********************100%***********************]  1 of 1 completed\n",
      "All Data Loaded\n",
      "Done: NTSX\n",
      "Loading from YahooFinance: No.1 / 1: MDIV\n"
     ]
    },
    {
     "name": "stderr",
     "output_type": "stream",
     "text": [
      "<ipython-input-30-937137c36fa2>:7: SettingWithCopyWarning: \n",
      "A value is trying to be set on a copy of a slice from a DataFrame\n",
      "\n",
      "See the caveats in the documentation: https://pandas.pydata.org/pandas-docs/stable/user_guide/indexing.html#returning-a-view-versus-a-copy\n",
      "  data['Sharpe'][i] = sharpe\n"
     ]
    },
    {
     "name": "stdout",
     "output_type": "stream",
     "text": [
      "[*********************100%***********************]  1 of 1 completed\n",
      "All Data Loaded\n",
      "Done: MDIV\n",
      "Loading from YahooFinance: No.1 / 1: GLD\n"
     ]
    },
    {
     "name": "stderr",
     "output_type": "stream",
     "text": [
      "<ipython-input-30-937137c36fa2>:7: SettingWithCopyWarning: \n",
      "A value is trying to be set on a copy of a slice from a DataFrame\n",
      "\n",
      "See the caveats in the documentation: https://pandas.pydata.org/pandas-docs/stable/user_guide/indexing.html#returning-a-view-versus-a-copy\n",
      "  data['Sharpe'][i] = sharpe\n"
     ]
    },
    {
     "name": "stdout",
     "output_type": "stream",
     "text": [
      "[*********************100%***********************]  1 of 1 completed\n",
      "All Data Loaded\n",
      "Done: GLD\n",
      "Loading from YahooFinance: No.1 / 1: IAU\n"
     ]
    },
    {
     "name": "stderr",
     "output_type": "stream",
     "text": [
      "<ipython-input-30-937137c36fa2>:7: SettingWithCopyWarning: \n",
      "A value is trying to be set on a copy of a slice from a DataFrame\n",
      "\n",
      "See the caveats in the documentation: https://pandas.pydata.org/pandas-docs/stable/user_guide/indexing.html#returning-a-view-versus-a-copy\n",
      "  data['Sharpe'][i] = sharpe\n"
     ]
    },
    {
     "name": "stdout",
     "output_type": "stream",
     "text": [
      "[*********************100%***********************]  1 of 1 completed\n",
      "All Data Loaded\n",
      "Done: IAU\n",
      "Loading from YahooFinance: No.1 / 1: SLV\n"
     ]
    },
    {
     "name": "stderr",
     "output_type": "stream",
     "text": [
      "<ipython-input-30-937137c36fa2>:7: SettingWithCopyWarning: \n",
      "A value is trying to be set on a copy of a slice from a DataFrame\n",
      "\n",
      "See the caveats in the documentation: https://pandas.pydata.org/pandas-docs/stable/user_guide/indexing.html#returning-a-view-versus-a-copy\n",
      "  data['Sharpe'][i] = sharpe\n"
     ]
    },
    {
     "name": "stdout",
     "output_type": "stream",
     "text": [
      "[*********************100%***********************]  1 of 1 completed\n",
      "All Data Loaded\n",
      "Done: SLV\n",
      "Loading from YahooFinance: No.1 / 1: PDBC\n"
     ]
    },
    {
     "name": "stderr",
     "output_type": "stream",
     "text": [
      "<ipython-input-30-937137c36fa2>:7: SettingWithCopyWarning: \n",
      "A value is trying to be set on a copy of a slice from a DataFrame\n",
      "\n",
      "See the caveats in the documentation: https://pandas.pydata.org/pandas-docs/stable/user_guide/indexing.html#returning-a-view-versus-a-copy\n",
      "  data['Sharpe'][i] = sharpe\n"
     ]
    },
    {
     "name": "stdout",
     "output_type": "stream",
     "text": [
      "[*********************100%***********************]  1 of 1 completed\n",
      "All Data Loaded\n",
      "Done: PDBC\n",
      "Loading from YahooFinance: No.1 / 1: GLDM\n"
     ]
    },
    {
     "name": "stderr",
     "output_type": "stream",
     "text": [
      "<ipython-input-30-937137c36fa2>:7: SettingWithCopyWarning: \n",
      "A value is trying to be set on a copy of a slice from a DataFrame\n",
      "\n",
      "See the caveats in the documentation: https://pandas.pydata.org/pandas-docs/stable/user_guide/indexing.html#returning-a-view-versus-a-copy\n",
      "  data['Sharpe'][i] = sharpe\n"
     ]
    },
    {
     "name": "stdout",
     "output_type": "stream",
     "text": [
      "[*********************100%***********************]  1 of 1 completed\n",
      "All Data Loaded\n",
      "Done: GLDM\n",
      "Loading from YahooFinance: No.1 / 1: USO\n"
     ]
    },
    {
     "name": "stderr",
     "output_type": "stream",
     "text": [
      "<ipython-input-30-937137c36fa2>:7: SettingWithCopyWarning: \n",
      "A value is trying to be set on a copy of a slice from a DataFrame\n",
      "\n",
      "See the caveats in the documentation: https://pandas.pydata.org/pandas-docs/stable/user_guide/indexing.html#returning-a-view-versus-a-copy\n",
      "  data['Sharpe'][i] = sharpe\n"
     ]
    },
    {
     "name": "stdout",
     "output_type": "stream",
     "text": [
      "[*********************100%***********************]  1 of 1 completed\n",
      "All Data Loaded\n",
      "Done: USO\n",
      "Loading from YahooFinance: No.1 / 1: SGOL\n"
     ]
    },
    {
     "name": "stderr",
     "output_type": "stream",
     "text": [
      "<ipython-input-30-937137c36fa2>:7: SettingWithCopyWarning: \n",
      "A value is trying to be set on a copy of a slice from a DataFrame\n",
      "\n",
      "See the caveats in the documentation: https://pandas.pydata.org/pandas-docs/stable/user_guide/indexing.html#returning-a-view-versus-a-copy\n",
      "  data['Sharpe'][i] = sharpe\n"
     ]
    },
    {
     "name": "stdout",
     "output_type": "stream",
     "text": [
      "[*********************100%***********************]  1 of 1 completed\n",
      "All Data Loaded\n",
      "Done: SGOL\n",
      "Loading from YahooFinance: No.1 / 1: DBC\n"
     ]
    },
    {
     "name": "stderr",
     "output_type": "stream",
     "text": [
      "<ipython-input-30-937137c36fa2>:7: SettingWithCopyWarning: \n",
      "A value is trying to be set on a copy of a slice from a DataFrame\n",
      "\n",
      "See the caveats in the documentation: https://pandas.pydata.org/pandas-docs/stable/user_guide/indexing.html#returning-a-view-versus-a-copy\n",
      "  data['Sharpe'][i] = sharpe\n"
     ]
    },
    {
     "name": "stdout",
     "output_type": "stream",
     "text": [
      "[*********************100%***********************]  1 of 1 completed\n",
      "All Data Loaded\n",
      "Done: DBC\n",
      "Loading from YahooFinance: No.1 / 1: COMT\n"
     ]
    },
    {
     "name": "stderr",
     "output_type": "stream",
     "text": [
      "<ipython-input-30-937137c36fa2>:7: SettingWithCopyWarning: \n",
      "A value is trying to be set on a copy of a slice from a DataFrame\n",
      "\n",
      "See the caveats in the documentation: https://pandas.pydata.org/pandas-docs/stable/user_guide/indexing.html#returning-a-view-versus-a-copy\n",
      "  data['Sharpe'][i] = sharpe\n"
     ]
    },
    {
     "name": "stdout",
     "output_type": "stream",
     "text": [
      "[*********************100%***********************]  1 of 1 completed\n",
      "All Data Loaded\n",
      "Done: COMT\n",
      "Loading from YahooFinance: No.1 / 1: PPLT\n"
     ]
    },
    {
     "name": "stderr",
     "output_type": "stream",
     "text": [
      "<ipython-input-30-937137c36fa2>:7: SettingWithCopyWarning: \n",
      "A value is trying to be set on a copy of a slice from a DataFrame\n",
      "\n",
      "See the caveats in the documentation: https://pandas.pydata.org/pandas-docs/stable/user_guide/indexing.html#returning-a-view-versus-a-copy\n",
      "  data['Sharpe'][i] = sharpe\n"
     ]
    },
    {
     "name": "stdout",
     "output_type": "stream",
     "text": [
      "[*********************100%***********************]  1 of 1 completed\n",
      "All Data Loaded\n",
      "Done: PPLT\n",
      "Loading from YahooFinance: No.1 / 1: UUP\n"
     ]
    },
    {
     "name": "stderr",
     "output_type": "stream",
     "text": [
      "<ipython-input-30-937137c36fa2>:7: SettingWithCopyWarning: \n",
      "A value is trying to be set on a copy of a slice from a DataFrame\n",
      "\n",
      "See the caveats in the documentation: https://pandas.pydata.org/pandas-docs/stable/user_guide/indexing.html#returning-a-view-versus-a-copy\n",
      "  data['Sharpe'][i] = sharpe\n"
     ]
    },
    {
     "name": "stdout",
     "output_type": "stream",
     "text": [
      "[*********************100%***********************]  1 of 1 completed\n",
      "All Data Loaded\n",
      "Done: UUP\n",
      "Loading from YahooFinance: No.1 / 1: FXE\n"
     ]
    },
    {
     "name": "stderr",
     "output_type": "stream",
     "text": [
      "<ipython-input-30-937137c36fa2>:7: SettingWithCopyWarning: \n",
      "A value is trying to be set on a copy of a slice from a DataFrame\n",
      "\n",
      "See the caveats in the documentation: https://pandas.pydata.org/pandas-docs/stable/user_guide/indexing.html#returning-a-view-versus-a-copy\n",
      "  data['Sharpe'][i] = sharpe\n"
     ]
    },
    {
     "name": "stdout",
     "output_type": "stream",
     "text": [
      "[*********************100%***********************]  1 of 1 completed\n",
      "All Data Loaded\n",
      "Done: FXE\n",
      "Loading from YahooFinance: No.1 / 1: FXF\n"
     ]
    },
    {
     "name": "stderr",
     "output_type": "stream",
     "text": [
      "<ipython-input-30-937137c36fa2>:7: SettingWithCopyWarning: \n",
      "A value is trying to be set on a copy of a slice from a DataFrame\n",
      "\n",
      "See the caveats in the documentation: https://pandas.pydata.org/pandas-docs/stable/user_guide/indexing.html#returning-a-view-versus-a-copy\n",
      "  data['Sharpe'][i] = sharpe\n"
     ]
    },
    {
     "name": "stdout",
     "output_type": "stream",
     "text": [
      "[*********************100%***********************]  1 of 1 completed\n",
      "All Data Loaded\n",
      "Done: FXF\n",
      "Loading from YahooFinance: No.1 / 1: FXC\n"
     ]
    },
    {
     "name": "stderr",
     "output_type": "stream",
     "text": [
      "<ipython-input-30-937137c36fa2>:7: SettingWithCopyWarning: \n",
      "A value is trying to be set on a copy of a slice from a DataFrame\n",
      "\n",
      "See the caveats in the documentation: https://pandas.pydata.org/pandas-docs/stable/user_guide/indexing.html#returning-a-view-versus-a-copy\n",
      "  data['Sharpe'][i] = sharpe\n"
     ]
    },
    {
     "name": "stdout",
     "output_type": "stream",
     "text": [
      "[*********************100%***********************]  1 of 1 completed\n",
      "All Data Loaded\n",
      "Done: FXC\n",
      "Loading from YahooFinance: No.1 / 1: FXY\n"
     ]
    },
    {
     "name": "stderr",
     "output_type": "stream",
     "text": [
      "<ipython-input-30-937137c36fa2>:7: SettingWithCopyWarning: \n",
      "A value is trying to be set on a copy of a slice from a DataFrame\n",
      "\n",
      "See the caveats in the documentation: https://pandas.pydata.org/pandas-docs/stable/user_guide/indexing.html#returning-a-view-versus-a-copy\n",
      "  data['Sharpe'][i] = sharpe\n"
     ]
    },
    {
     "name": "stdout",
     "output_type": "stream",
     "text": [
      "[*********************100%***********************]  1 of 1 completed\n",
      "All Data Loaded\n",
      "Done: FXY\n",
      "Loading from YahooFinance: No.1 / 1: FXB\n"
     ]
    },
    {
     "name": "stderr",
     "output_type": "stream",
     "text": [
      "<ipython-input-30-937137c36fa2>:7: SettingWithCopyWarning: \n",
      "A value is trying to be set on a copy of a slice from a DataFrame\n",
      "\n",
      "See the caveats in the documentation: https://pandas.pydata.org/pandas-docs/stable/user_guide/indexing.html#returning-a-view-versus-a-copy\n",
      "  data['Sharpe'][i] = sharpe\n"
     ]
    },
    {
     "name": "stdout",
     "output_type": "stream",
     "text": [
      "[*********************100%***********************]  1 of 1 completed\n",
      "All Data Loaded\n",
      "Done: FXB\n",
      "Loading from YahooFinance: No.1 / 1: FXA\n"
     ]
    },
    {
     "name": "stderr",
     "output_type": "stream",
     "text": [
      "<ipython-input-30-937137c36fa2>:7: SettingWithCopyWarning: \n",
      "A value is trying to be set on a copy of a slice from a DataFrame\n",
      "\n",
      "See the caveats in the documentation: https://pandas.pydata.org/pandas-docs/stable/user_guide/indexing.html#returning-a-view-versus-a-copy\n",
      "  data['Sharpe'][i] = sharpe\n"
     ]
    },
    {
     "name": "stdout",
     "output_type": "stream",
     "text": [
      "[*********************100%***********************]  1 of 1 completed\n",
      "All Data Loaded\n",
      "Done: FXA\n",
      "Loading from YahooFinance: No.1 / 1: USDU\n"
     ]
    },
    {
     "name": "stderr",
     "output_type": "stream",
     "text": [
      "<ipython-input-30-937137c36fa2>:7: SettingWithCopyWarning: \n",
      "A value is trying to be set on a copy of a slice from a DataFrame\n",
      "\n",
      "See the caveats in the documentation: https://pandas.pydata.org/pandas-docs/stable/user_guide/indexing.html#returning-a-view-versus-a-copy\n",
      "  data['Sharpe'][i] = sharpe\n"
     ]
    },
    {
     "name": "stdout",
     "output_type": "stream",
     "text": [
      "[*********************100%***********************]  1 of 1 completed\n",
      "All Data Loaded\n",
      "Done: USDU\n",
      "Loading from YahooFinance: No.1 / 1: UDN\n"
     ]
    },
    {
     "name": "stderr",
     "output_type": "stream",
     "text": [
      "<ipython-input-30-937137c36fa2>:7: SettingWithCopyWarning: \n",
      "A value is trying to be set on a copy of a slice from a DataFrame\n",
      "\n",
      "See the caveats in the documentation: https://pandas.pydata.org/pandas-docs/stable/user_guide/indexing.html#returning-a-view-versus-a-copy\n",
      "  data['Sharpe'][i] = sharpe\n"
     ]
    },
    {
     "name": "stdout",
     "output_type": "stream",
     "text": [
      "[*********************100%***********************]  1 of 1 completed\n",
      "All Data Loaded\n",
      "Done: UDN\n",
      "Loading from YahooFinance: No.1 / 1: CYB\n"
     ]
    },
    {
     "name": "stderr",
     "output_type": "stream",
     "text": [
      "<ipython-input-30-937137c36fa2>:7: SettingWithCopyWarning: \n",
      "A value is trying to be set on a copy of a slice from a DataFrame\n",
      "\n",
      "See the caveats in the documentation: https://pandas.pydata.org/pandas-docs/stable/user_guide/indexing.html#returning-a-view-versus-a-copy\n",
      "  data['Sharpe'][i] = sharpe\n"
     ]
    },
    {
     "name": "stdout",
     "output_type": "stream",
     "text": [
      "[*********************100%***********************]  1 of 1 completed\n",
      "All Data Loaded\n",
      "Done: CYB\n",
      "Loading from YahooFinance: No.1 / 1: SPY\n"
     ]
    },
    {
     "name": "stderr",
     "output_type": "stream",
     "text": [
      "<ipython-input-30-937137c36fa2>:7: SettingWithCopyWarning: \n",
      "A value is trying to be set on a copy of a slice from a DataFrame\n",
      "\n",
      "See the caveats in the documentation: https://pandas.pydata.org/pandas-docs/stable/user_guide/indexing.html#returning-a-view-versus-a-copy\n",
      "  data['Sharpe'][i] = sharpe\n"
     ]
    },
    {
     "name": "stdout",
     "output_type": "stream",
     "text": [
      "[*********************100%***********************]  1 of 1 completed\n",
      "All Data Loaded\n",
      "Done: SPY\n",
      "Loading from YahooFinance: No.1 / 1: IVV\n"
     ]
    },
    {
     "name": "stderr",
     "output_type": "stream",
     "text": [
      "<ipython-input-30-937137c36fa2>:7: SettingWithCopyWarning: \n",
      "A value is trying to be set on a copy of a slice from a DataFrame\n",
      "\n",
      "See the caveats in the documentation: https://pandas.pydata.org/pandas-docs/stable/user_guide/indexing.html#returning-a-view-versus-a-copy\n",
      "  data['Sharpe'][i] = sharpe\n"
     ]
    },
    {
     "name": "stdout",
     "output_type": "stream",
     "text": [
      "[*********************100%***********************]  1 of 1 completed\n",
      "All Data Loaded\n",
      "Done: IVV\n",
      "Loading from YahooFinance: No.1 / 1: VTI\n"
     ]
    },
    {
     "name": "stderr",
     "output_type": "stream",
     "text": [
      "<ipython-input-30-937137c36fa2>:7: SettingWithCopyWarning: \n",
      "A value is trying to be set on a copy of a slice from a DataFrame\n",
      "\n",
      "See the caveats in the documentation: https://pandas.pydata.org/pandas-docs/stable/user_guide/indexing.html#returning-a-view-versus-a-copy\n",
      "  data['Sharpe'][i] = sharpe\n"
     ]
    },
    {
     "name": "stdout",
     "output_type": "stream",
     "text": [
      "[*********************100%***********************]  1 of 1 completed\n",
      "All Data Loaded\n",
      "Done: VTI\n",
      "Loading from YahooFinance: No.1 / 1: VOO\n"
     ]
    },
    {
     "name": "stderr",
     "output_type": "stream",
     "text": [
      "<ipython-input-30-937137c36fa2>:7: SettingWithCopyWarning: \n",
      "A value is trying to be set on a copy of a slice from a DataFrame\n",
      "\n",
      "See the caveats in the documentation: https://pandas.pydata.org/pandas-docs/stable/user_guide/indexing.html#returning-a-view-versus-a-copy\n",
      "  data['Sharpe'][i] = sharpe\n"
     ]
    },
    {
     "name": "stdout",
     "output_type": "stream",
     "text": [
      "[*********************100%***********************]  1 of 1 completed\n",
      "All Data Loaded\n",
      "Done: VOO\n",
      "Loading from YahooFinance: No.1 / 1: QQQ\n"
     ]
    },
    {
     "name": "stderr",
     "output_type": "stream",
     "text": [
      "<ipython-input-30-937137c36fa2>:7: SettingWithCopyWarning: \n",
      "A value is trying to be set on a copy of a slice from a DataFrame\n",
      "\n",
      "See the caveats in the documentation: https://pandas.pydata.org/pandas-docs/stable/user_guide/indexing.html#returning-a-view-versus-a-copy\n",
      "  data['Sharpe'][i] = sharpe\n"
     ]
    },
    {
     "name": "stdout",
     "output_type": "stream",
     "text": [
      "[*********************100%***********************]  1 of 1 completed\n",
      "All Data Loaded\n",
      "Done: QQQ\n",
      "Loading from YahooFinance: No.1 / 1: VEA\n"
     ]
    },
    {
     "name": "stderr",
     "output_type": "stream",
     "text": [
      "<ipython-input-30-937137c36fa2>:7: SettingWithCopyWarning: \n",
      "A value is trying to be set on a copy of a slice from a DataFrame\n",
      "\n",
      "See the caveats in the documentation: https://pandas.pydata.org/pandas-docs/stable/user_guide/indexing.html#returning-a-view-versus-a-copy\n",
      "  data['Sharpe'][i] = sharpe\n"
     ]
    },
    {
     "name": "stdout",
     "output_type": "stream",
     "text": [
      "[*********************100%***********************]  1 of 1 completed\n",
      "All Data Loaded\n",
      "Done: VEA\n",
      "Loading from YahooFinance: No.1 / 1: IEFA\n"
     ]
    },
    {
     "name": "stderr",
     "output_type": "stream",
     "text": [
      "<ipython-input-30-937137c36fa2>:7: SettingWithCopyWarning: \n",
      "A value is trying to be set on a copy of a slice from a DataFrame\n",
      "\n",
      "See the caveats in the documentation: https://pandas.pydata.org/pandas-docs/stable/user_guide/indexing.html#returning-a-view-versus-a-copy\n",
      "  data['Sharpe'][i] = sharpe\n"
     ]
    },
    {
     "name": "stdout",
     "output_type": "stream",
     "text": [
      "[*********************100%***********************]  1 of 1 completed\n",
      "All Data Loaded\n",
      "Done: IEFA\n",
      "Loading from YahooFinance: No.1 / 1: VWO\n"
     ]
    },
    {
     "name": "stderr",
     "output_type": "stream",
     "text": [
      "<ipython-input-30-937137c36fa2>:7: SettingWithCopyWarning: \n",
      "A value is trying to be set on a copy of a slice from a DataFrame\n",
      "\n",
      "See the caveats in the documentation: https://pandas.pydata.org/pandas-docs/stable/user_guide/indexing.html#returning-a-view-versus-a-copy\n",
      "  data['Sharpe'][i] = sharpe\n"
     ]
    },
    {
     "name": "stdout",
     "output_type": "stream",
     "text": [
      "[*********************100%***********************]  1 of 1 completed\n",
      "All Data Loaded\n",
      "Done: VWO\n",
      "Loading from YahooFinance: No.1 / 1: VTV\n"
     ]
    },
    {
     "name": "stderr",
     "output_type": "stream",
     "text": [
      "<ipython-input-30-937137c36fa2>:7: SettingWithCopyWarning: \n",
      "A value is trying to be set on a copy of a slice from a DataFrame\n",
      "\n",
      "See the caveats in the documentation: https://pandas.pydata.org/pandas-docs/stable/user_guide/indexing.html#returning-a-view-versus-a-copy\n",
      "  data['Sharpe'][i] = sharpe\n"
     ]
    },
    {
     "name": "stdout",
     "output_type": "stream",
     "text": [
      "[*********************100%***********************]  1 of 1 completed\n",
      "All Data Loaded\n",
      "Done: VTV\n",
      "Loading from YahooFinance: No.1 / 1: IEMG\n"
     ]
    },
    {
     "name": "stderr",
     "output_type": "stream",
     "text": [
      "<ipython-input-30-937137c36fa2>:7: SettingWithCopyWarning: \n",
      "A value is trying to be set on a copy of a slice from a DataFrame\n",
      "\n",
      "See the caveats in the documentation: https://pandas.pydata.org/pandas-docs/stable/user_guide/indexing.html#returning-a-view-versus-a-copy\n",
      "  data['Sharpe'][i] = sharpe\n"
     ]
    },
    {
     "name": "stdout",
     "output_type": "stream",
     "text": [
      "[*********************100%***********************]  1 of 1 completed\n",
      "All Data Loaded\n",
      "Done: IEMG\n",
      "Loading from YahooFinance: No.1 / 1: AGG\n"
     ]
    },
    {
     "name": "stderr",
     "output_type": "stream",
     "text": [
      "<ipython-input-30-937137c36fa2>:7: SettingWithCopyWarning: \n",
      "A value is trying to be set on a copy of a slice from a DataFrame\n",
      "\n",
      "See the caveats in the documentation: https://pandas.pydata.org/pandas-docs/stable/user_guide/indexing.html#returning-a-view-versus-a-copy\n",
      "  data['Sharpe'][i] = sharpe\n"
     ]
    },
    {
     "name": "stdout",
     "output_type": "stream",
     "text": [
      "[*********************100%***********************]  1 of 1 completed\n",
      "All Data Loaded\n",
      "Done: AGG\n",
      "Loading from YahooFinance: No.1 / 1: BND\n"
     ]
    },
    {
     "name": "stderr",
     "output_type": "stream",
     "text": [
      "<ipython-input-30-937137c36fa2>:7: SettingWithCopyWarning: \n",
      "A value is trying to be set on a copy of a slice from a DataFrame\n",
      "\n",
      "See the caveats in the documentation: https://pandas.pydata.org/pandas-docs/stable/user_guide/indexing.html#returning-a-view-versus-a-copy\n",
      "  data['Sharpe'][i] = sharpe\n"
     ]
    },
    {
     "name": "stdout",
     "output_type": "stream",
     "text": [
      "[*********************100%***********************]  1 of 1 completed\n",
      "All Data Loaded\n",
      "Done: BND\n",
      "Loading from YahooFinance: No.1 / 1: VCIT\n"
     ]
    },
    {
     "name": "stderr",
     "output_type": "stream",
     "text": [
      "<ipython-input-30-937137c36fa2>:7: SettingWithCopyWarning: \n",
      "A value is trying to be set on a copy of a slice from a DataFrame\n",
      "\n",
      "See the caveats in the documentation: https://pandas.pydata.org/pandas-docs/stable/user_guide/indexing.html#returning-a-view-versus-a-copy\n",
      "  data['Sharpe'][i] = sharpe\n"
     ]
    },
    {
     "name": "stdout",
     "output_type": "stream",
     "text": [
      "[*********************100%***********************]  1 of 1 completed\n",
      "All Data Loaded\n",
      "Done: VCIT\n",
      "Loading from YahooFinance: No.1 / 1: BNDX\n"
     ]
    },
    {
     "name": "stderr",
     "output_type": "stream",
     "text": [
      "<ipython-input-30-937137c36fa2>:7: SettingWithCopyWarning: \n",
      "A value is trying to be set on a copy of a slice from a DataFrame\n",
      "\n",
      "See the caveats in the documentation: https://pandas.pydata.org/pandas-docs/stable/user_guide/indexing.html#returning-a-view-versus-a-copy\n",
      "  data['Sharpe'][i] = sharpe\n"
     ]
    },
    {
     "name": "stdout",
     "output_type": "stream",
     "text": [
      "[*********************100%***********************]  1 of 1 completed\n",
      "All Data Loaded\n",
      "Done: BNDX\n",
      "Loading from YahooFinance: No.1 / 1: LQD\n"
     ]
    },
    {
     "name": "stderr",
     "output_type": "stream",
     "text": [
      "<ipython-input-30-937137c36fa2>:7: SettingWithCopyWarning: \n",
      "A value is trying to be set on a copy of a slice from a DataFrame\n",
      "\n",
      "See the caveats in the documentation: https://pandas.pydata.org/pandas-docs/stable/user_guide/indexing.html#returning-a-view-versus-a-copy\n",
      "  data['Sharpe'][i] = sharpe\n"
     ]
    },
    {
     "name": "stdout",
     "output_type": "stream",
     "text": [
      "[*********************100%***********************]  1 of 1 completed\n",
      "All Data Loaded\n",
      "Done: LQD\n",
      "Loading from YahooFinance: No.1 / 1: VCSH\n"
     ]
    },
    {
     "name": "stderr",
     "output_type": "stream",
     "text": [
      "<ipython-input-30-937137c36fa2>:7: SettingWithCopyWarning: \n",
      "A value is trying to be set on a copy of a slice from a DataFrame\n",
      "\n",
      "See the caveats in the documentation: https://pandas.pydata.org/pandas-docs/stable/user_guide/indexing.html#returning-a-view-versus-a-copy\n",
      "  data['Sharpe'][i] = sharpe\n"
     ]
    },
    {
     "name": "stdout",
     "output_type": "stream",
     "text": [
      "[*********************100%***********************]  1 of 1 completed\n",
      "All Data Loaded\n",
      "Done: VCSH\n",
      "Loading from YahooFinance: No.1 / 1: BSV\n"
     ]
    },
    {
     "name": "stderr",
     "output_type": "stream",
     "text": [
      "<ipython-input-30-937137c36fa2>:7: SettingWithCopyWarning: \n",
      "A value is trying to be set on a copy of a slice from a DataFrame\n",
      "\n",
      "See the caveats in the documentation: https://pandas.pydata.org/pandas-docs/stable/user_guide/indexing.html#returning-a-view-versus-a-copy\n",
      "  data['Sharpe'][i] = sharpe\n"
     ]
    },
    {
     "name": "stdout",
     "output_type": "stream",
     "text": [
      "[*********************100%***********************]  1 of 1 completed\n",
      "All Data Loaded\n",
      "Done: BSV\n",
      "Loading from YahooFinance: No.1 / 1: TIP\n"
     ]
    },
    {
     "name": "stderr",
     "output_type": "stream",
     "text": [
      "<ipython-input-30-937137c36fa2>:7: SettingWithCopyWarning: \n",
      "A value is trying to be set on a copy of a slice from a DataFrame\n",
      "\n",
      "See the caveats in the documentation: https://pandas.pydata.org/pandas-docs/stable/user_guide/indexing.html#returning-a-view-versus-a-copy\n",
      "  data['Sharpe'][i] = sharpe\n"
     ]
    },
    {
     "name": "stdout",
     "output_type": "stream",
     "text": [
      "[*********************100%***********************]  1 of 1 completed\n",
      "All Data Loaded\n",
      "Done: TIP\n",
      "Loading from YahooFinance: No.1 / 1: MBB\n"
     ]
    },
    {
     "name": "stderr",
     "output_type": "stream",
     "text": [
      "<ipython-input-30-937137c36fa2>:7: SettingWithCopyWarning: \n",
      "A value is trying to be set on a copy of a slice from a DataFrame\n",
      "\n",
      "See the caveats in the documentation: https://pandas.pydata.org/pandas-docs/stable/user_guide/indexing.html#returning-a-view-versus-a-copy\n",
      "  data['Sharpe'][i] = sharpe\n"
     ]
    },
    {
     "name": "stdout",
     "output_type": "stream",
     "text": [
      "[*********************100%***********************]  1 of 1 completed\n",
      "All Data Loaded\n",
      "Done: MBB\n",
      "Loading from YahooFinance: No.1 / 1: IGSB\n"
     ]
    },
    {
     "name": "stderr",
     "output_type": "stream",
     "text": [
      "<ipython-input-30-937137c36fa2>:7: SettingWithCopyWarning: \n",
      "A value is trying to be set on a copy of a slice from a DataFrame\n",
      "\n",
      "See the caveats in the documentation: https://pandas.pydata.org/pandas-docs/stable/user_guide/indexing.html#returning-a-view-versus-a-copy\n",
      "  data['Sharpe'][i] = sharpe\n"
     ]
    },
    {
     "name": "stdout",
     "output_type": "stream",
     "text": [
      "[*********************100%***********************]  1 of 1 completed\n",
      "All Data Loaded\n",
      "Done: IGSB\n",
      "Loading from YahooFinance: No.1 / 1: EWJ\n"
     ]
    },
    {
     "name": "stderr",
     "output_type": "stream",
     "text": [
      "<ipython-input-30-937137c36fa2>:7: SettingWithCopyWarning: \n",
      "A value is trying to be set on a copy of a slice from a DataFrame\n",
      "\n",
      "See the caveats in the documentation: https://pandas.pydata.org/pandas-docs/stable/user_guide/indexing.html#returning-a-view-versus-a-copy\n",
      "  data['Sharpe'][i] = sharpe\n"
     ]
    },
    {
     "name": "stdout",
     "output_type": "stream",
     "text": [
      "[*********************100%***********************]  1 of 1 completed\n",
      "All Data Loaded\n",
      "Done: EWJ\n",
      "Loading from YahooFinance: No.1 / 1: BBJP\n"
     ]
    },
    {
     "name": "stderr",
     "output_type": "stream",
     "text": [
      "<ipython-input-30-937137c36fa2>:7: SettingWithCopyWarning: \n",
      "A value is trying to be set on a copy of a slice from a DataFrame\n",
      "\n",
      "See the caveats in the documentation: https://pandas.pydata.org/pandas-docs/stable/user_guide/indexing.html#returning-a-view-versus-a-copy\n",
      "  data['Sharpe'][i] = sharpe\n"
     ]
    },
    {
     "name": "stdout",
     "output_type": "stream",
     "text": [
      "[*********************100%***********************]  1 of 1 completed\n",
      "All Data Loaded\n",
      "Done: BBJP\n",
      "Loading from YahooFinance: No.1 / 1: MCHI\n"
     ]
    },
    {
     "name": "stderr",
     "output_type": "stream",
     "text": [
      "<ipython-input-30-937137c36fa2>:7: SettingWithCopyWarning: \n",
      "A value is trying to be set on a copy of a slice from a DataFrame\n",
      "\n",
      "See the caveats in the documentation: https://pandas.pydata.org/pandas-docs/stable/user_guide/indexing.html#returning-a-view-versus-a-copy\n",
      "  data['Sharpe'][i] = sharpe\n"
     ]
    },
    {
     "name": "stdout",
     "output_type": "stream",
     "text": [
      "[*********************100%***********************]  1 of 1 completed\n",
      "All Data Loaded\n",
      "Done: MCHI\n",
      "Loading from YahooFinance: No.1 / 1: EWT\n"
     ]
    },
    {
     "name": "stderr",
     "output_type": "stream",
     "text": [
      "<ipython-input-30-937137c36fa2>:7: SettingWithCopyWarning: \n",
      "A value is trying to be set on a copy of a slice from a DataFrame\n",
      "\n",
      "See the caveats in the documentation: https://pandas.pydata.org/pandas-docs/stable/user_guide/indexing.html#returning-a-view-versus-a-copy\n",
      "  data['Sharpe'][i] = sharpe\n"
     ]
    },
    {
     "name": "stdout",
     "output_type": "stream",
     "text": [
      "[*********************100%***********************]  1 of 1 completed\n",
      "All Data Loaded\n",
      "Done: EWT\n",
      "Loading from YahooFinance: No.1 / 1: EWY\n"
     ]
    },
    {
     "name": "stderr",
     "output_type": "stream",
     "text": [
      "<ipython-input-30-937137c36fa2>:7: SettingWithCopyWarning: \n",
      "A value is trying to be set on a copy of a slice from a DataFrame\n",
      "\n",
      "See the caveats in the documentation: https://pandas.pydata.org/pandas-docs/stable/user_guide/indexing.html#returning-a-view-versus-a-copy\n",
      "  data['Sharpe'][i] = sharpe\n"
     ]
    },
    {
     "name": "stdout",
     "output_type": "stream",
     "text": [
      "[*********************100%***********************]  1 of 1 completed\n",
      "All Data Loaded\n",
      "Done: EWY\n",
      "Loading from YahooFinance: No.1 / 1: AAXJ\n"
     ]
    },
    {
     "name": "stderr",
     "output_type": "stream",
     "text": [
      "<ipython-input-30-937137c36fa2>:7: SettingWithCopyWarning: \n",
      "A value is trying to be set on a copy of a slice from a DataFrame\n",
      "\n",
      "See the caveats in the documentation: https://pandas.pydata.org/pandas-docs/stable/user_guide/indexing.html#returning-a-view-versus-a-copy\n",
      "  data['Sharpe'][i] = sharpe\n"
     ]
    },
    {
     "name": "stdout",
     "output_type": "stream",
     "text": [
      "[*********************100%***********************]  1 of 1 completed\n",
      "All Data Loaded\n",
      "Done: AAXJ\n",
      "Loading from YahooFinance: No.1 / 1: INDA\n"
     ]
    },
    {
     "name": "stderr",
     "output_type": "stream",
     "text": [
      "<ipython-input-30-937137c36fa2>:7: SettingWithCopyWarning: \n",
      "A value is trying to be set on a copy of a slice from a DataFrame\n",
      "\n",
      "See the caveats in the documentation: https://pandas.pydata.org/pandas-docs/stable/user_guide/indexing.html#returning-a-view-versus-a-copy\n",
      "  data['Sharpe'][i] = sharpe\n"
     ]
    },
    {
     "name": "stdout",
     "output_type": "stream",
     "text": [
      "[*********************100%***********************]  1 of 1 completed\n",
      "All Data Loaded\n",
      "Done: INDA\n",
      "Loading from YahooFinance: No.1 / 1: VPL\n"
     ]
    },
    {
     "name": "stderr",
     "output_type": "stream",
     "text": [
      "<ipython-input-30-937137c36fa2>:7: SettingWithCopyWarning: \n",
      "A value is trying to be set on a copy of a slice from a DataFrame\n",
      "\n",
      "See the caveats in the documentation: https://pandas.pydata.org/pandas-docs/stable/user_guide/indexing.html#returning-a-view-versus-a-copy\n",
      "  data['Sharpe'][i] = sharpe\n"
     ]
    },
    {
     "name": "stdout",
     "output_type": "stream",
     "text": [
      "[*********************100%***********************]  1 of 1 completed\n",
      "All Data Loaded\n",
      "Done: VPL\n",
      "Loading from YahooFinance: No.1 / 1: FXI\n"
     ]
    },
    {
     "name": "stderr",
     "output_type": "stream",
     "text": [
      "<ipython-input-30-937137c36fa2>:7: SettingWithCopyWarning: \n",
      "A value is trying to be set on a copy of a slice from a DataFrame\n",
      "\n",
      "See the caveats in the documentation: https://pandas.pydata.org/pandas-docs/stable/user_guide/indexing.html#returning-a-view-versus-a-copy\n",
      "  data['Sharpe'][i] = sharpe\n"
     ]
    },
    {
     "name": "stdout",
     "output_type": "stream",
     "text": [
      "[*********************100%***********************]  1 of 1 completed\n",
      "All Data Loaded\n",
      "Done: FXI\n",
      "Loading from YahooFinance: No.1 / 1: KWEB\n"
     ]
    },
    {
     "name": "stderr",
     "output_type": "stream",
     "text": [
      "<ipython-input-30-937137c36fa2>:7: SettingWithCopyWarning: \n",
      "A value is trying to be set on a copy of a slice from a DataFrame\n",
      "\n",
      "See the caveats in the documentation: https://pandas.pydata.org/pandas-docs/stable/user_guide/indexing.html#returning-a-view-versus-a-copy\n",
      "  data['Sharpe'][i] = sharpe\n"
     ]
    },
    {
     "name": "stdout",
     "output_type": "stream",
     "text": [
      "[*********************100%***********************]  1 of 1 completed\n",
      "All Data Loaded\n",
      "Done: KWEB\n",
      "Loading from YahooFinance: No.1 / 1: VGK\n"
     ]
    },
    {
     "name": "stderr",
     "output_type": "stream",
     "text": [
      "<ipython-input-30-937137c36fa2>:7: SettingWithCopyWarning: \n",
      "A value is trying to be set on a copy of a slice from a DataFrame\n",
      "\n",
      "See the caveats in the documentation: https://pandas.pydata.org/pandas-docs/stable/user_guide/indexing.html#returning-a-view-versus-a-copy\n",
      "  data['Sharpe'][i] = sharpe\n"
     ]
    },
    {
     "name": "stdout",
     "output_type": "stream",
     "text": [
      "[*********************100%***********************]  1 of 1 completed\n",
      "All Data Loaded\n",
      "Done: VGK\n",
      "Loading from YahooFinance: No.1 / 1: BBEU\n"
     ]
    },
    {
     "name": "stderr",
     "output_type": "stream",
     "text": [
      "<ipython-input-30-937137c36fa2>:7: SettingWithCopyWarning: \n",
      "A value is trying to be set on a copy of a slice from a DataFrame\n",
      "\n",
      "See the caveats in the documentation: https://pandas.pydata.org/pandas-docs/stable/user_guide/indexing.html#returning-a-view-versus-a-copy\n",
      "  data['Sharpe'][i] = sharpe\n"
     ]
    },
    {
     "name": "stdout",
     "output_type": "stream",
     "text": [
      "[*********************100%***********************]  1 of 1 completed\n",
      "All Data Loaded\n",
      "Done: BBEU\n",
      "Loading from YahooFinance: No.1 / 1: EZU\n"
     ]
    },
    {
     "name": "stderr",
     "output_type": "stream",
     "text": [
      "<ipython-input-30-937137c36fa2>:7: SettingWithCopyWarning: \n",
      "A value is trying to be set on a copy of a slice from a DataFrame\n",
      "\n",
      "See the caveats in the documentation: https://pandas.pydata.org/pandas-docs/stable/user_guide/indexing.html#returning-a-view-versus-a-copy\n",
      "  data['Sharpe'][i] = sharpe\n"
     ]
    },
    {
     "name": "stdout",
     "output_type": "stream",
     "text": [
      "[*********************100%***********************]  1 of 1 completed\n",
      "All Data Loaded\n",
      "Done: EZU\n",
      "Loading from YahooFinance: No.1 / 1: IEUR\n"
     ]
    },
    {
     "name": "stderr",
     "output_type": "stream",
     "text": [
      "<ipython-input-30-937137c36fa2>:7: SettingWithCopyWarning: \n",
      "A value is trying to be set on a copy of a slice from a DataFrame\n",
      "\n",
      "See the caveats in the documentation: https://pandas.pydata.org/pandas-docs/stable/user_guide/indexing.html#returning-a-view-versus-a-copy\n",
      "  data['Sharpe'][i] = sharpe\n"
     ]
    },
    {
     "name": "stdout",
     "output_type": "stream",
     "text": [
      "[*********************100%***********************]  1 of 1 completed\n",
      "All Data Loaded\n",
      "Done: IEUR\n",
      "Loading from YahooFinance: No.1 / 1: EWU\n"
     ]
    },
    {
     "name": "stderr",
     "output_type": "stream",
     "text": [
      "<ipython-input-30-937137c36fa2>:7: SettingWithCopyWarning: \n",
      "A value is trying to be set on a copy of a slice from a DataFrame\n",
      "\n",
      "See the caveats in the documentation: https://pandas.pydata.org/pandas-docs/stable/user_guide/indexing.html#returning-a-view-versus-a-copy\n",
      "  data['Sharpe'][i] = sharpe\n"
     ]
    },
    {
     "name": "stdout",
     "output_type": "stream",
     "text": [
      "[*********************100%***********************]  1 of 1 completed\n",
      "All Data Loaded\n",
      "Done: EWU\n",
      "Loading from YahooFinance: No.1 / 1: EWG\n"
     ]
    },
    {
     "name": "stderr",
     "output_type": "stream",
     "text": [
      "<ipython-input-30-937137c36fa2>:7: SettingWithCopyWarning: \n",
      "A value is trying to be set on a copy of a slice from a DataFrame\n",
      "\n",
      "See the caveats in the documentation: https://pandas.pydata.org/pandas-docs/stable/user_guide/indexing.html#returning-a-view-versus-a-copy\n",
      "  data['Sharpe'][i] = sharpe\n"
     ]
    },
    {
     "name": "stdout",
     "output_type": "stream",
     "text": [
      "[*********************100%***********************]  1 of 1 completed\n",
      "All Data Loaded\n",
      "Done: EWG\n",
      "Loading from YahooFinance: No.1 / 1: FEZ\n"
     ]
    },
    {
     "name": "stderr",
     "output_type": "stream",
     "text": [
      "<ipython-input-30-937137c36fa2>:7: SettingWithCopyWarning: \n",
      "A value is trying to be set on a copy of a slice from a DataFrame\n",
      "\n",
      "See the caveats in the documentation: https://pandas.pydata.org/pandas-docs/stable/user_guide/indexing.html#returning-a-view-versus-a-copy\n",
      "  data['Sharpe'][i] = sharpe\n"
     ]
    },
    {
     "name": "stdout",
     "output_type": "stream",
     "text": [
      "[*********************100%***********************]  1 of 1 completed\n",
      "All Data Loaded\n",
      "Done: FEZ\n",
      "Loading from YahooFinance: No.1 / 1: HEDJ\n"
     ]
    },
    {
     "name": "stderr",
     "output_type": "stream",
     "text": [
      "<ipython-input-30-937137c36fa2>:7: SettingWithCopyWarning: \n",
      "A value is trying to be set on a copy of a slice from a DataFrame\n",
      "\n",
      "See the caveats in the documentation: https://pandas.pydata.org/pandas-docs/stable/user_guide/indexing.html#returning-a-view-versus-a-copy\n",
      "  data['Sharpe'][i] = sharpe\n"
     ]
    },
    {
     "name": "stdout",
     "output_type": "stream",
     "text": [
      "[*********************100%***********************]  1 of 1 completed\n",
      "All Data Loaded\n",
      "Done: HEDJ\n",
      "Loading from YahooFinance: No.1 / 1: RSX\n"
     ]
    },
    {
     "name": "stderr",
     "output_type": "stream",
     "text": [
      "<ipython-input-30-937137c36fa2>:7: SettingWithCopyWarning: \n",
      "A value is trying to be set on a copy of a slice from a DataFrame\n",
      "\n",
      "See the caveats in the documentation: https://pandas.pydata.org/pandas-docs/stable/user_guide/indexing.html#returning-a-view-versus-a-copy\n",
      "  data['Sharpe'][i] = sharpe\n"
     ]
    },
    {
     "name": "stdout",
     "output_type": "stream",
     "text": [
      "[*********************100%***********************]  1 of 1 completed\n",
      "All Data Loaded\n",
      "Done: RSX\n",
      "Loading from YahooFinance: No.1 / 1: IEV\n"
     ]
    },
    {
     "name": "stderr",
     "output_type": "stream",
     "text": [
      "<ipython-input-30-937137c36fa2>:7: SettingWithCopyWarning: \n",
      "A value is trying to be set on a copy of a slice from a DataFrame\n",
      "\n",
      "See the caveats in the documentation: https://pandas.pydata.org/pandas-docs/stable/user_guide/indexing.html#returning-a-view-versus-a-copy\n",
      "  data['Sharpe'][i] = sharpe\n"
     ]
    },
    {
     "name": "stdout",
     "output_type": "stream",
     "text": [
      "[*********************100%***********************]  1 of 1 completed\n",
      "All Data Loaded\n",
      "Done: IEV\n",
      "Loading from YahooFinance: No.1 / 1: GLD\n"
     ]
    },
    {
     "name": "stderr",
     "output_type": "stream",
     "text": [
      "<ipython-input-30-937137c36fa2>:7: SettingWithCopyWarning: \n",
      "A value is trying to be set on a copy of a slice from a DataFrame\n",
      "\n",
      "See the caveats in the documentation: https://pandas.pydata.org/pandas-docs/stable/user_guide/indexing.html#returning-a-view-versus-a-copy\n",
      "  data['Sharpe'][i] = sharpe\n"
     ]
    },
    {
     "name": "stdout",
     "output_type": "stream",
     "text": [
      "[*********************100%***********************]  1 of 1 completed\n",
      "All Data Loaded\n",
      "Done: GLD\n",
      "Loading from YahooFinance: No.1 / 1: IAU\n"
     ]
    },
    {
     "name": "stderr",
     "output_type": "stream",
     "text": [
      "<ipython-input-30-937137c36fa2>:7: SettingWithCopyWarning: \n",
      "A value is trying to be set on a copy of a slice from a DataFrame\n",
      "\n",
      "See the caveats in the documentation: https://pandas.pydata.org/pandas-docs/stable/user_guide/indexing.html#returning-a-view-versus-a-copy\n",
      "  data['Sharpe'][i] = sharpe\n"
     ]
    },
    {
     "name": "stdout",
     "output_type": "stream",
     "text": [
      "[*********************100%***********************]  1 of 1 completed\n",
      "All Data Loaded\n",
      "Done: IAU\n",
      "Loading from YahooFinance: No.1 / 1: ARKK\n"
     ]
    },
    {
     "name": "stderr",
     "output_type": "stream",
     "text": [
      "<ipython-input-30-937137c36fa2>:7: SettingWithCopyWarning: \n",
      "A value is trying to be set on a copy of a slice from a DataFrame\n",
      "\n",
      "See the caveats in the documentation: https://pandas.pydata.org/pandas-docs/stable/user_guide/indexing.html#returning-a-view-versus-a-copy\n",
      "  data['Sharpe'][i] = sharpe\n"
     ]
    },
    {
     "name": "stdout",
     "output_type": "stream",
     "text": [
      "[*********************100%***********************]  1 of 1 completed\n",
      "All Data Loaded\n",
      "Done: ARKK\n",
      "Loading from YahooFinance: No.1 / 1: VT\n"
     ]
    },
    {
     "name": "stderr",
     "output_type": "stream",
     "text": [
      "<ipython-input-30-937137c36fa2>:7: SettingWithCopyWarning: \n",
      "A value is trying to be set on a copy of a slice from a DataFrame\n",
      "\n",
      "See the caveats in the documentation: https://pandas.pydata.org/pandas-docs/stable/user_guide/indexing.html#returning-a-view-versus-a-copy\n",
      "  data['Sharpe'][i] = sharpe\n"
     ]
    },
    {
     "name": "stdout",
     "output_type": "stream",
     "text": [
      "[*********************100%***********************]  1 of 1 completed\n",
      "All Data Loaded\n",
      "Done: VT\n",
      "Loading from YahooFinance: No.1 / 1: ACWI\n"
     ]
    },
    {
     "name": "stderr",
     "output_type": "stream",
     "text": [
      "<ipython-input-30-937137c36fa2>:7: SettingWithCopyWarning: \n",
      "A value is trying to be set on a copy of a slice from a DataFrame\n",
      "\n",
      "See the caveats in the documentation: https://pandas.pydata.org/pandas-docs/stable/user_guide/indexing.html#returning-a-view-versus-a-copy\n",
      "  data['Sharpe'][i] = sharpe\n"
     ]
    },
    {
     "name": "stdout",
     "output_type": "stream",
     "text": [
      "[*********************100%***********************]  1 of 1 completed\n",
      "All Data Loaded\n",
      "Done: ACWI\n",
      "Loading from YahooFinance: No.1 / 1: GDX\n"
     ]
    },
    {
     "name": "stderr",
     "output_type": "stream",
     "text": [
      "<ipython-input-30-937137c36fa2>:7: SettingWithCopyWarning: \n",
      "A value is trying to be set on a copy of a slice from a DataFrame\n",
      "\n",
      "See the caveats in the documentation: https://pandas.pydata.org/pandas-docs/stable/user_guide/indexing.html#returning-a-view-versus-a-copy\n",
      "  data['Sharpe'][i] = sharpe\n"
     ]
    },
    {
     "name": "stdout",
     "output_type": "stream",
     "text": [
      "[*********************100%***********************]  1 of 1 completed\n",
      "All Data Loaded\n",
      "Done: GDX\n",
      "Loading from YahooFinance: No.1 / 1: SLV\n"
     ]
    },
    {
     "name": "stderr",
     "output_type": "stream",
     "text": [
      "<ipython-input-30-937137c36fa2>:7: SettingWithCopyWarning: \n",
      "A value is trying to be set on a copy of a slice from a DataFrame\n",
      "\n",
      "See the caveats in the documentation: https://pandas.pydata.org/pandas-docs/stable/user_guide/indexing.html#returning-a-view-versus-a-copy\n",
      "  data['Sharpe'][i] = sharpe\n"
     ]
    },
    {
     "name": "stdout",
     "output_type": "stream",
     "text": [
      "[*********************100%***********************]  1 of 1 completed\n",
      "All Data Loaded\n",
      "Done: SLV\n",
      "Loading from YahooFinance: No.1 / 1: ARKG\n"
     ]
    },
    {
     "name": "stderr",
     "output_type": "stream",
     "text": [
      "<ipython-input-30-937137c36fa2>:7: SettingWithCopyWarning: \n",
      "A value is trying to be set on a copy of a slice from a DataFrame\n",
      "\n",
      "See the caveats in the documentation: https://pandas.pydata.org/pandas-docs/stable/user_guide/indexing.html#returning-a-view-versus-a-copy\n",
      "  data['Sharpe'][i] = sharpe\n"
     ]
    },
    {
     "name": "stdout",
     "output_type": "stream",
     "text": [
      "[*********************100%***********************]  1 of 1 completed\n",
      "All Data Loaded\n",
      "Done: ARKG\n",
      "Loading from YahooFinance: No.1 / 1: FPE\n"
     ]
    },
    {
     "name": "stderr",
     "output_type": "stream",
     "text": [
      "<ipython-input-30-937137c36fa2>:7: SettingWithCopyWarning: \n",
      "A value is trying to be set on a copy of a slice from a DataFrame\n",
      "\n",
      "See the caveats in the documentation: https://pandas.pydata.org/pandas-docs/stable/user_guide/indexing.html#returning-a-view-versus-a-copy\n",
      "  data['Sharpe'][i] = sharpe\n"
     ]
    },
    {
     "name": "stdout",
     "output_type": "stream",
     "text": [
      "[*********************100%***********************]  1 of 1 completed\n",
      "All Data Loaded\n",
      "Done: FPE\n",
      "Loading from YahooFinance: No.1 / 1: GDXJ\n"
     ]
    },
    {
     "name": "stderr",
     "output_type": "stream",
     "text": [
      "<ipython-input-30-937137c36fa2>:7: SettingWithCopyWarning: \n",
      "A value is trying to be set on a copy of a slice from a DataFrame\n",
      "\n",
      "See the caveats in the documentation: https://pandas.pydata.org/pandas-docs/stable/user_guide/indexing.html#returning-a-view-versus-a-copy\n",
      "  data['Sharpe'][i] = sharpe\n"
     ]
    },
    {
     "name": "stdout",
     "output_type": "stream",
     "text": [
      "[*********************100%***********************]  1 of 1 completed\n",
      "All Data Loaded\n",
      "Done: GDXJ\n",
      "Loading from YahooFinance: No.1 / 1: VXUS\n"
     ]
    },
    {
     "name": "stderr",
     "output_type": "stream",
     "text": [
      "<ipython-input-30-937137c36fa2>:7: SettingWithCopyWarning: \n",
      "A value is trying to be set on a copy of a slice from a DataFrame\n",
      "\n",
      "See the caveats in the documentation: https://pandas.pydata.org/pandas-docs/stable/user_guide/indexing.html#returning-a-view-versus-a-copy\n",
      "  data['Sharpe'][i] = sharpe\n"
     ]
    },
    {
     "name": "stdout",
     "output_type": "stream",
     "text": [
      "[*********************100%***********************]  1 of 1 completed\n",
      "All Data Loaded\n",
      "Done: VXUS\n",
      "Loading from YahooFinance: No.1 / 1: BNDX\n"
     ]
    },
    {
     "name": "stderr",
     "output_type": "stream",
     "text": [
      "<ipython-input-30-937137c36fa2>:7: SettingWithCopyWarning: \n",
      "A value is trying to be set on a copy of a slice from a DataFrame\n",
      "\n",
      "See the caveats in the documentation: https://pandas.pydata.org/pandas-docs/stable/user_guide/indexing.html#returning-a-view-versus-a-copy\n",
      "  data['Sharpe'][i] = sharpe\n"
     ]
    },
    {
     "name": "stdout",
     "output_type": "stream",
     "text": [
      "[*********************100%***********************]  1 of 1 completed\n",
      "All Data Loaded\n",
      "Done: BNDX\n",
      "Loading from YahooFinance: No.1 / 1: VEU\n"
     ]
    },
    {
     "name": "stderr",
     "output_type": "stream",
     "text": [
      "<ipython-input-30-937137c36fa2>:7: SettingWithCopyWarning: \n",
      "A value is trying to be set on a copy of a slice from a DataFrame\n",
      "\n",
      "See the caveats in the documentation: https://pandas.pydata.org/pandas-docs/stable/user_guide/indexing.html#returning-a-view-versus-a-copy\n",
      "  data['Sharpe'][i] = sharpe\n"
     ]
    },
    {
     "name": "stdout",
     "output_type": "stream",
     "text": [
      "[*********************100%***********************]  1 of 1 completed\n",
      "All Data Loaded\n",
      "Done: VEU\n",
      "Loading from YahooFinance: No.1 / 1: IXUS\n"
     ]
    },
    {
     "name": "stderr",
     "output_type": "stream",
     "text": [
      "<ipython-input-30-937137c36fa2>:7: SettingWithCopyWarning: \n",
      "A value is trying to be set on a copy of a slice from a DataFrame\n",
      "\n",
      "See the caveats in the documentation: https://pandas.pydata.org/pandas-docs/stable/user_guide/indexing.html#returning-a-view-versus-a-copy\n",
      "  data['Sharpe'][i] = sharpe\n"
     ]
    },
    {
     "name": "stdout",
     "output_type": "stream",
     "text": [
      "[*********************100%***********************]  1 of 1 completed\n",
      "All Data Loaded\n",
      "Done: IXUS\n",
      "Loading from YahooFinance: No.1 / 1: VSS\n"
     ]
    },
    {
     "name": "stderr",
     "output_type": "stream",
     "text": [
      "<ipython-input-30-937137c36fa2>:7: SettingWithCopyWarning: \n",
      "A value is trying to be set on a copy of a slice from a DataFrame\n",
      "\n",
      "See the caveats in the documentation: https://pandas.pydata.org/pandas-docs/stable/user_guide/indexing.html#returning-a-view-versus-a-copy\n",
      "  data['Sharpe'][i] = sharpe\n"
     ]
    },
    {
     "name": "stdout",
     "output_type": "stream",
     "text": [
      "[*********************100%***********************]  1 of 1 completed\n",
      "All Data Loaded\n",
      "Done: VSS\n",
      "Loading from YahooFinance: No.1 / 1: VNQI\n"
     ]
    },
    {
     "name": "stderr",
     "output_type": "stream",
     "text": [
      "<ipython-input-30-937137c36fa2>:7: SettingWithCopyWarning: \n",
      "A value is trying to be set on a copy of a slice from a DataFrame\n",
      "\n",
      "See the caveats in the documentation: https://pandas.pydata.org/pandas-docs/stable/user_guide/indexing.html#returning-a-view-versus-a-copy\n",
      "  data['Sharpe'][i] = sharpe\n"
     ]
    },
    {
     "name": "stdout",
     "output_type": "stream",
     "text": [
      "[*********************100%***********************]  1 of 1 completed\n",
      "All Data Loaded\n",
      "Done: VNQI\n",
      "Loading from YahooFinance: No.1 / 1: ACWX\n"
     ]
    },
    {
     "name": "stderr",
     "output_type": "stream",
     "text": [
      "<ipython-input-30-937137c36fa2>:7: SettingWithCopyWarning: \n",
      "A value is trying to be set on a copy of a slice from a DataFrame\n",
      "\n",
      "See the caveats in the documentation: https://pandas.pydata.org/pandas-docs/stable/user_guide/indexing.html#returning-a-view-versus-a-copy\n",
      "  data['Sharpe'][i] = sharpe\n"
     ]
    },
    {
     "name": "stdout",
     "output_type": "stream",
     "text": [
      "[*********************100%***********************]  1 of 1 completed\n",
      "All Data Loaded\n",
      "Done: ACWX\n",
      "Loading from YahooFinance: No.1 / 1: IAGG\n"
     ]
    },
    {
     "name": "stderr",
     "output_type": "stream",
     "text": [
      "<ipython-input-30-937137c36fa2>:7: SettingWithCopyWarning: \n",
      "A value is trying to be set on a copy of a slice from a DataFrame\n",
      "\n",
      "See the caveats in the documentation: https://pandas.pydata.org/pandas-docs/stable/user_guide/indexing.html#returning-a-view-versus-a-copy\n",
      "  data['Sharpe'][i] = sharpe\n"
     ]
    },
    {
     "name": "stdout",
     "output_type": "stream",
     "text": [
      "[*********************100%***********************]  1 of 1 completed\n",
      "All Data Loaded\n",
      "Done: IAGG\n",
      "Loading from YahooFinance: No.1 / 1: VIGI\n"
     ]
    },
    {
     "name": "stderr",
     "output_type": "stream",
     "text": [
      "<ipython-input-30-937137c36fa2>:7: SettingWithCopyWarning: \n",
      "A value is trying to be set on a copy of a slice from a DataFrame\n",
      "\n",
      "See the caveats in the documentation: https://pandas.pydata.org/pandas-docs/stable/user_guide/indexing.html#returning-a-view-versus-a-copy\n",
      "  data['Sharpe'][i] = sharpe\n"
     ]
    },
    {
     "name": "stdout",
     "output_type": "stream",
     "text": [
      "[*********************100%***********************]  1 of 1 completed\n",
      "All Data Loaded\n",
      "Done: VIGI\n",
      "Loading from YahooFinance: No.1 / 1: VYMI\n"
     ]
    },
    {
     "name": "stderr",
     "output_type": "stream",
     "text": [
      "<ipython-input-30-937137c36fa2>:7: SettingWithCopyWarning: \n",
      "A value is trying to be set on a copy of a slice from a DataFrame\n",
      "\n",
      "See the caveats in the documentation: https://pandas.pydata.org/pandas-docs/stable/user_guide/indexing.html#returning-a-view-versus-a-copy\n",
      "  data['Sharpe'][i] = sharpe\n"
     ]
    },
    {
     "name": "stdout",
     "output_type": "stream",
     "text": [
      "[*********************100%***********************]  1 of 1 completed\n",
      "All Data Loaded\n",
      "Done: VYMI\n",
      "Loading from YahooFinance: No.1 / 1: EWZ\n"
     ]
    },
    {
     "name": "stderr",
     "output_type": "stream",
     "text": [
      "<ipython-input-30-937137c36fa2>:7: SettingWithCopyWarning: \n",
      "A value is trying to be set on a copy of a slice from a DataFrame\n",
      "\n",
      "See the caveats in the documentation: https://pandas.pydata.org/pandas-docs/stable/user_guide/indexing.html#returning-a-view-versus-a-copy\n",
      "  data['Sharpe'][i] = sharpe\n"
     ]
    },
    {
     "name": "stdout",
     "output_type": "stream",
     "text": [
      "[*********************100%***********************]  1 of 1 completed\n",
      "All Data Loaded\n",
      "Done: EWZ\n",
      "Loading from YahooFinance: No.1 / 1: ILF\n"
     ]
    },
    {
     "name": "stderr",
     "output_type": "stream",
     "text": [
      "<ipython-input-30-937137c36fa2>:7: SettingWithCopyWarning: \n",
      "A value is trying to be set on a copy of a slice from a DataFrame\n",
      "\n",
      "See the caveats in the documentation: https://pandas.pydata.org/pandas-docs/stable/user_guide/indexing.html#returning-a-view-versus-a-copy\n",
      "  data['Sharpe'][i] = sharpe\n"
     ]
    },
    {
     "name": "stdout",
     "output_type": "stream",
     "text": [
      "[*********************100%***********************]  1 of 1 completed\n",
      "All Data Loaded\n",
      "Done: ILF\n",
      "Loading from YahooFinance: No.1 / 1: EWW\n"
     ]
    },
    {
     "name": "stderr",
     "output_type": "stream",
     "text": [
      "<ipython-input-30-937137c36fa2>:7: SettingWithCopyWarning: \n",
      "A value is trying to be set on a copy of a slice from a DataFrame\n",
      "\n",
      "See the caveats in the documentation: https://pandas.pydata.org/pandas-docs/stable/user_guide/indexing.html#returning-a-view-versus-a-copy\n",
      "  data['Sharpe'][i] = sharpe\n"
     ]
    },
    {
     "name": "stdout",
     "output_type": "stream",
     "text": [
      "[*********************100%***********************]  1 of 1 completed\n",
      "All Data Loaded\n",
      "Done: EWW\n",
      "Loading from YahooFinance: No.1 / 1: ECH\n"
     ]
    },
    {
     "name": "stderr",
     "output_type": "stream",
     "text": [
      "<ipython-input-30-937137c36fa2>:7: SettingWithCopyWarning: \n",
      "A value is trying to be set on a copy of a slice from a DataFrame\n",
      "\n",
      "See the caveats in the documentation: https://pandas.pydata.org/pandas-docs/stable/user_guide/indexing.html#returning-a-view-versus-a-copy\n",
      "  data['Sharpe'][i] = sharpe\n"
     ]
    },
    {
     "name": "stdout",
     "output_type": "stream",
     "text": [
      "[*********************100%***********************]  1 of 1 completed\n",
      "All Data Loaded\n",
      "Done: ECH\n",
      "Loading from YahooFinance: No.1 / 1: BRZU\n"
     ]
    },
    {
     "name": "stderr",
     "output_type": "stream",
     "text": [
      "<ipython-input-30-937137c36fa2>:7: SettingWithCopyWarning: \n",
      "A value is trying to be set on a copy of a slice from a DataFrame\n",
      "\n",
      "See the caveats in the documentation: https://pandas.pydata.org/pandas-docs/stable/user_guide/indexing.html#returning-a-view-versus-a-copy\n",
      "  data['Sharpe'][i] = sharpe\n"
     ]
    },
    {
     "name": "stdout",
     "output_type": "stream",
     "text": [
      "[*********************100%***********************]  1 of 1 completed\n",
      "All Data Loaded\n",
      "Done: BRZU\n",
      "Loading from YahooFinance: No.1 / 1: EPU\n"
     ]
    },
    {
     "name": "stderr",
     "output_type": "stream",
     "text": [
      "<ipython-input-30-937137c36fa2>:7: SettingWithCopyWarning: \n",
      "A value is trying to be set on a copy of a slice from a DataFrame\n",
      "\n",
      "See the caveats in the documentation: https://pandas.pydata.org/pandas-docs/stable/user_guide/indexing.html#returning-a-view-versus-a-copy\n",
      "  data['Sharpe'][i] = sharpe\n"
     ]
    },
    {
     "name": "stdout",
     "output_type": "stream",
     "text": [
      "[*********************100%***********************]  1 of 1 completed\n",
      "All Data Loaded\n",
      "Done: EPU\n",
      "Loading from YahooFinance: No.1 / 1: EWZS\n"
     ]
    },
    {
     "name": "stderr",
     "output_type": "stream",
     "text": [
      "<ipython-input-30-937137c36fa2>:7: SettingWithCopyWarning: \n",
      "A value is trying to be set on a copy of a slice from a DataFrame\n",
      "\n",
      "See the caveats in the documentation: https://pandas.pydata.org/pandas-docs/stable/user_guide/indexing.html#returning-a-view-versus-a-copy\n",
      "  data['Sharpe'][i] = sharpe\n"
     ]
    },
    {
     "name": "stdout",
     "output_type": "stream",
     "text": [
      "[*********************100%***********************]  1 of 1 completed\n",
      "All Data Loaded\n",
      "Done: EWZS\n",
      "Loading from YahooFinance: No.1 / 1: FLBR\n"
     ]
    },
    {
     "name": "stderr",
     "output_type": "stream",
     "text": [
      "<ipython-input-30-937137c36fa2>:7: SettingWithCopyWarning: \n",
      "A value is trying to be set on a copy of a slice from a DataFrame\n",
      "\n",
      "See the caveats in the documentation: https://pandas.pydata.org/pandas-docs/stable/user_guide/indexing.html#returning-a-view-versus-a-copy\n",
      "  data['Sharpe'][i] = sharpe\n"
     ]
    },
    {
     "name": "stdout",
     "output_type": "stream",
     "text": [
      "[*********************100%***********************]  1 of 1 completed\n",
      "All Data Loaded\n",
      "Done: FLBR\n",
      "Loading from YahooFinance: No.1 / 1: BRF\n"
     ]
    },
    {
     "name": "stderr",
     "output_type": "stream",
     "text": [
      "<ipython-input-30-937137c36fa2>:7: SettingWithCopyWarning: \n",
      "A value is trying to be set on a copy of a slice from a DataFrame\n",
      "\n",
      "See the caveats in the documentation: https://pandas.pydata.org/pandas-docs/stable/user_guide/indexing.html#returning-a-view-versus-a-copy\n",
      "  data['Sharpe'][i] = sharpe\n"
     ]
    },
    {
     "name": "stdout",
     "output_type": "stream",
     "text": [
      "[*********************100%***********************]  1 of 1 completed\n",
      "All Data Loaded\n",
      "Done: BRF\n",
      "Loading from YahooFinance: No.1 / 1: ARGT\n"
     ]
    },
    {
     "name": "stderr",
     "output_type": "stream",
     "text": [
      "<ipython-input-30-937137c36fa2>:7: SettingWithCopyWarning: \n",
      "A value is trying to be set on a copy of a slice from a DataFrame\n",
      "\n",
      "See the caveats in the documentation: https://pandas.pydata.org/pandas-docs/stable/user_guide/indexing.html#returning-a-view-versus-a-copy\n",
      "  data['Sharpe'][i] = sharpe\n"
     ]
    },
    {
     "name": "stdout",
     "output_type": "stream",
     "text": [
      "[*********************100%***********************]  1 of 1 completed\n",
      "All Data Loaded\n",
      "Done: ARGT\n",
      "Loading from YahooFinance: No.1 / 1: KSA\n"
     ]
    },
    {
     "name": "stderr",
     "output_type": "stream",
     "text": [
      "<ipython-input-30-937137c36fa2>:7: SettingWithCopyWarning: \n",
      "A value is trying to be set on a copy of a slice from a DataFrame\n",
      "\n",
      "See the caveats in the documentation: https://pandas.pydata.org/pandas-docs/stable/user_guide/indexing.html#returning-a-view-versus-a-copy\n",
      "  data['Sharpe'][i] = sharpe\n"
     ]
    },
    {
     "name": "stdout",
     "output_type": "stream",
     "text": [
      "[*********************100%***********************]  1 of 1 completed\n",
      "All Data Loaded\n",
      "Done: KSA\n",
      "Loading from YahooFinance: No.1 / 1: EZA\n"
     ]
    },
    {
     "name": "stderr",
     "output_type": "stream",
     "text": [
      "<ipython-input-30-937137c36fa2>:7: SettingWithCopyWarning: \n",
      "A value is trying to be set on a copy of a slice from a DataFrame\n",
      "\n",
      "See the caveats in the documentation: https://pandas.pydata.org/pandas-docs/stable/user_guide/indexing.html#returning-a-view-versus-a-copy\n",
      "  data['Sharpe'][i] = sharpe\n"
     ]
    },
    {
     "name": "stdout",
     "output_type": "stream",
     "text": [
      "[*********************100%***********************]  1 of 1 completed\n",
      "All Data Loaded\n",
      "Done: EZA\n",
      "Loading from YahooFinance: No.1 / 1: IZRL\n"
     ]
    },
    {
     "name": "stderr",
     "output_type": "stream",
     "text": [
      "<ipython-input-30-937137c36fa2>:7: SettingWithCopyWarning: \n",
      "A value is trying to be set on a copy of a slice from a DataFrame\n",
      "\n",
      "See the caveats in the documentation: https://pandas.pydata.org/pandas-docs/stable/user_guide/indexing.html#returning-a-view-versus-a-copy\n",
      "  data['Sharpe'][i] = sharpe\n"
     ]
    },
    {
     "name": "stdout",
     "output_type": "stream",
     "text": [
      "[*********************100%***********************]  1 of 1 completed\n",
      "All Data Loaded\n",
      "Done: IZRL\n",
      "Loading from YahooFinance: No.1 / 1: ITEQ\n"
     ]
    },
    {
     "name": "stderr",
     "output_type": "stream",
     "text": [
      "<ipython-input-30-937137c36fa2>:7: SettingWithCopyWarning: \n",
      "A value is trying to be set on a copy of a slice from a DataFrame\n",
      "\n",
      "See the caveats in the documentation: https://pandas.pydata.org/pandas-docs/stable/user_guide/indexing.html#returning-a-view-versus-a-copy\n",
      "  data['Sharpe'][i] = sharpe\n"
     ]
    },
    {
     "name": "stdout",
     "output_type": "stream",
     "text": [
      "[*********************100%***********************]  1 of 1 completed\n",
      "All Data Loaded\n",
      "Done: ITEQ\n",
      "Loading from YahooFinance: No.1 / 1: EIS\n"
     ]
    },
    {
     "name": "stderr",
     "output_type": "stream",
     "text": [
      "<ipython-input-30-937137c36fa2>:7: SettingWithCopyWarning: \n",
      "A value is trying to be set on a copy of a slice from a DataFrame\n",
      "\n",
      "See the caveats in the documentation: https://pandas.pydata.org/pandas-docs/stable/user_guide/indexing.html#returning-a-view-versus-a-copy\n",
      "  data['Sharpe'][i] = sharpe\n"
     ]
    },
    {
     "name": "stdout",
     "output_type": "stream",
     "text": [
      "[*********************100%***********************]  1 of 1 completed\n",
      "All Data Loaded\n",
      "Done: EIS\n",
      "Loading from YahooFinance: No.1 / 1: QAT\n"
     ]
    },
    {
     "name": "stderr",
     "output_type": "stream",
     "text": [
      "<ipython-input-30-937137c36fa2>:7: SettingWithCopyWarning: \n",
      "A value is trying to be set on a copy of a slice from a DataFrame\n",
      "\n",
      "See the caveats in the documentation: https://pandas.pydata.org/pandas-docs/stable/user_guide/indexing.html#returning-a-view-versus-a-copy\n",
      "  data['Sharpe'][i] = sharpe\n"
     ]
    },
    {
     "name": "stdout",
     "output_type": "stream",
     "text": [
      "[*********************100%***********************]  1 of 1 completed\n",
      "All Data Loaded\n",
      "Done: QAT\n",
      "Loading from YahooFinance: No.1 / 1: ISRA\n"
     ]
    },
    {
     "name": "stderr",
     "output_type": "stream",
     "text": [
      "<ipython-input-30-937137c36fa2>:7: SettingWithCopyWarning: \n",
      "A value is trying to be set on a copy of a slice from a DataFrame\n",
      "\n",
      "See the caveats in the documentation: https://pandas.pydata.org/pandas-docs/stable/user_guide/indexing.html#returning-a-view-versus-a-copy\n",
      "  data['Sharpe'][i] = sharpe\n"
     ]
    },
    {
     "name": "stdout",
     "output_type": "stream",
     "text": [
      "[*********************100%***********************]  1 of 1 completed\n",
      "All Data Loaded\n",
      "Done: ISRA\n",
      "Loading from YahooFinance: No.1 / 1: AFK\n"
     ]
    },
    {
     "name": "stderr",
     "output_type": "stream",
     "text": [
      "<ipython-input-30-937137c36fa2>:7: SettingWithCopyWarning: \n",
      "A value is trying to be set on a copy of a slice from a DataFrame\n",
      "\n",
      "See the caveats in the documentation: https://pandas.pydata.org/pandas-docs/stable/user_guide/indexing.html#returning-a-view-versus-a-copy\n",
      "  data['Sharpe'][i] = sharpe\n"
     ]
    },
    {
     "name": "stdout",
     "output_type": "stream",
     "text": [
      "[*********************100%***********************]  1 of 1 completed\n",
      "All Data Loaded\n",
      "Done: AFK\n",
      "Loading from YahooFinance: No.1 / 1: NGE\n"
     ]
    },
    {
     "name": "stderr",
     "output_type": "stream",
     "text": [
      "<ipython-input-30-937137c36fa2>:7: SettingWithCopyWarning: \n",
      "A value is trying to be set on a copy of a slice from a DataFrame\n",
      "\n",
      "See the caveats in the documentation: https://pandas.pydata.org/pandas-docs/stable/user_guide/indexing.html#returning-a-view-versus-a-copy\n",
      "  data['Sharpe'][i] = sharpe\n"
     ]
    },
    {
     "name": "stdout",
     "output_type": "stream",
     "text": [
      "[*********************100%***********************]  1 of 1 completed\n",
      "All Data Loaded\n",
      "Done: NGE\n",
      "Loading from YahooFinance: No.1 / 1: UAE\n"
     ]
    },
    {
     "name": "stderr",
     "output_type": "stream",
     "text": [
      "<ipython-input-30-937137c36fa2>:7: SettingWithCopyWarning: \n",
      "A value is trying to be set on a copy of a slice from a DataFrame\n",
      "\n",
      "See the caveats in the documentation: https://pandas.pydata.org/pandas-docs/stable/user_guide/indexing.html#returning-a-view-versus-a-copy\n",
      "  data['Sharpe'][i] = sharpe\n"
     ]
    },
    {
     "name": "stdout",
     "output_type": "stream",
     "text": [
      "[*********************100%***********************]  1 of 1 completed\n",
      "All Data Loaded\n",
      "Done: UAE\n",
      "Loading from YahooFinance: No.1 / 1: SPY\n"
     ]
    },
    {
     "name": "stderr",
     "output_type": "stream",
     "text": [
      "<ipython-input-30-937137c36fa2>:7: SettingWithCopyWarning: \n",
      "A value is trying to be set on a copy of a slice from a DataFrame\n",
      "\n",
      "See the caveats in the documentation: https://pandas.pydata.org/pandas-docs/stable/user_guide/indexing.html#returning-a-view-versus-a-copy\n",
      "  data['Sharpe'][i] = sharpe\n"
     ]
    },
    {
     "name": "stdout",
     "output_type": "stream",
     "text": [
      "[*********************100%***********************]  1 of 1 completed\n",
      "All Data Loaded\n",
      "Done: SPY\n",
      "Loading from YahooFinance: No.1 / 1: IVV\n"
     ]
    },
    {
     "name": "stderr",
     "output_type": "stream",
     "text": [
      "<ipython-input-30-937137c36fa2>:7: SettingWithCopyWarning: \n",
      "A value is trying to be set on a copy of a slice from a DataFrame\n",
      "\n",
      "See the caveats in the documentation: https://pandas.pydata.org/pandas-docs/stable/user_guide/indexing.html#returning-a-view-versus-a-copy\n",
      "  data['Sharpe'][i] = sharpe\n"
     ]
    },
    {
     "name": "stdout",
     "output_type": "stream",
     "text": [
      "[*********************100%***********************]  1 of 1 completed\n",
      "All Data Loaded\n",
      "Done: IVV\n",
      "Loading from YahooFinance: No.1 / 1: VTI\n"
     ]
    },
    {
     "name": "stderr",
     "output_type": "stream",
     "text": [
      "<ipython-input-30-937137c36fa2>:7: SettingWithCopyWarning: \n",
      "A value is trying to be set on a copy of a slice from a DataFrame\n",
      "\n",
      "See the caveats in the documentation: https://pandas.pydata.org/pandas-docs/stable/user_guide/indexing.html#returning-a-view-versus-a-copy\n",
      "  data['Sharpe'][i] = sharpe\n"
     ]
    },
    {
     "name": "stdout",
     "output_type": "stream",
     "text": [
      "[*********************100%***********************]  1 of 1 completed\n",
      "All Data Loaded\n",
      "Done: VTI\n",
      "Loading from YahooFinance: No.1 / 1: VOO\n"
     ]
    },
    {
     "name": "stderr",
     "output_type": "stream",
     "text": [
      "<ipython-input-30-937137c36fa2>:7: SettingWithCopyWarning: \n",
      "A value is trying to be set on a copy of a slice from a DataFrame\n",
      "\n",
      "See the caveats in the documentation: https://pandas.pydata.org/pandas-docs/stable/user_guide/indexing.html#returning-a-view-versus-a-copy\n",
      "  data['Sharpe'][i] = sharpe\n"
     ]
    },
    {
     "name": "stdout",
     "output_type": "stream",
     "text": [
      "[*********************100%***********************]  1 of 1 completed\n",
      "All Data Loaded\n",
      "Done: VOO\n",
      "Loading from YahooFinance: No.1 / 1: QQQ\n"
     ]
    },
    {
     "name": "stderr",
     "output_type": "stream",
     "text": [
      "<ipython-input-30-937137c36fa2>:7: SettingWithCopyWarning: \n",
      "A value is trying to be set on a copy of a slice from a DataFrame\n",
      "\n",
      "See the caveats in the documentation: https://pandas.pydata.org/pandas-docs/stable/user_guide/indexing.html#returning-a-view-versus-a-copy\n",
      "  data['Sharpe'][i] = sharpe\n"
     ]
    },
    {
     "name": "stdout",
     "output_type": "stream",
     "text": [
      "[*********************100%***********************]  1 of 1 completed\n",
      "All Data Loaded\n",
      "Done: QQQ\n",
      "Loading from YahooFinance: No.1 / 1: AGG\n"
     ]
    },
    {
     "name": "stderr",
     "output_type": "stream",
     "text": [
      "<ipython-input-30-937137c36fa2>:7: SettingWithCopyWarning: \n",
      "A value is trying to be set on a copy of a slice from a DataFrame\n",
      "\n",
      "See the caveats in the documentation: https://pandas.pydata.org/pandas-docs/stable/user_guide/indexing.html#returning-a-view-versus-a-copy\n",
      "  data['Sharpe'][i] = sharpe\n"
     ]
    },
    {
     "name": "stdout",
     "output_type": "stream",
     "text": [
      "[*********************100%***********************]  1 of 1 completed\n",
      "All Data Loaded\n",
      "Done: AGG\n",
      "Loading from YahooFinance: No.1 / 1: VTV\n"
     ]
    },
    {
     "name": "stderr",
     "output_type": "stream",
     "text": [
      "<ipython-input-30-937137c36fa2>:7: SettingWithCopyWarning: \n",
      "A value is trying to be set on a copy of a slice from a DataFrame\n",
      "\n",
      "See the caveats in the documentation: https://pandas.pydata.org/pandas-docs/stable/user_guide/indexing.html#returning-a-view-versus-a-copy\n",
      "  data['Sharpe'][i] = sharpe\n"
     ]
    },
    {
     "name": "stdout",
     "output_type": "stream",
     "text": [
      "[*********************100%***********************]  1 of 1 completed\n",
      "All Data Loaded\n",
      "Done: VTV\n",
      "Loading from YahooFinance: No.1 / 1: BND\n"
     ]
    },
    {
     "name": "stderr",
     "output_type": "stream",
     "text": [
      "<ipython-input-30-937137c36fa2>:7: SettingWithCopyWarning: \n",
      "A value is trying to be set on a copy of a slice from a DataFrame\n",
      "\n",
      "See the caveats in the documentation: https://pandas.pydata.org/pandas-docs/stable/user_guide/indexing.html#returning-a-view-versus-a-copy\n",
      "  data['Sharpe'][i] = sharpe\n"
     ]
    },
    {
     "name": "stdout",
     "output_type": "stream",
     "text": [
      "[*********************100%***********************]  1 of 1 completed\n",
      "All Data Loaded\n",
      "Done: BND\n",
      "Loading from YahooFinance: No.1 / 1: VUG\n"
     ]
    },
    {
     "name": "stderr",
     "output_type": "stream",
     "text": [
      "<ipython-input-30-937137c36fa2>:7: SettingWithCopyWarning: \n",
      "A value is trying to be set on a copy of a slice from a DataFrame\n",
      "\n",
      "See the caveats in the documentation: https://pandas.pydata.org/pandas-docs/stable/user_guide/indexing.html#returning-a-view-versus-a-copy\n",
      "  data['Sharpe'][i] = sharpe\n"
     ]
    },
    {
     "name": "stdout",
     "output_type": "stream",
     "text": [
      "[*********************100%***********************]  1 of 1 completed\n",
      "All Data Loaded\n",
      "Done: VUG\n",
      "Loading from YahooFinance: No.1 / 1: IJR\n"
     ]
    },
    {
     "name": "stderr",
     "output_type": "stream",
     "text": [
      "<ipython-input-30-937137c36fa2>:7: SettingWithCopyWarning: \n",
      "A value is trying to be set on a copy of a slice from a DataFrame\n",
      "\n",
      "See the caveats in the documentation: https://pandas.pydata.org/pandas-docs/stable/user_guide/indexing.html#returning-a-view-versus-a-copy\n",
      "  data['Sharpe'][i] = sharpe\n"
     ]
    },
    {
     "name": "stdout",
     "output_type": "stream",
     "text": [
      "[*********************100%***********************]  1 of 1 completed\n",
      "All Data Loaded\n",
      "Done: IJR\n",
      "Loading from YahooFinance: No.1 / 1: GLD\n"
     ]
    },
    {
     "name": "stderr",
     "output_type": "stream",
     "text": [
      "<ipython-input-30-937137c36fa2>:7: SettingWithCopyWarning: \n",
      "A value is trying to be set on a copy of a slice from a DataFrame\n",
      "\n",
      "See the caveats in the documentation: https://pandas.pydata.org/pandas-docs/stable/user_guide/indexing.html#returning-a-view-versus-a-copy\n",
      "  data['Sharpe'][i] = sharpe\n"
     ]
    },
    {
     "name": "stdout",
     "output_type": "stream",
     "text": [
      "[*********************100%***********************]  1 of 1 completed\n",
      "All Data Loaded\n",
      "Done: GLD\n",
      "Loading from YahooFinance: No.1 / 1: VXUS\n"
     ]
    },
    {
     "name": "stderr",
     "output_type": "stream",
     "text": [
      "<ipython-input-30-937137c36fa2>:7: SettingWithCopyWarning: \n",
      "A value is trying to be set on a copy of a slice from a DataFrame\n",
      "\n",
      "See the caveats in the documentation: https://pandas.pydata.org/pandas-docs/stable/user_guide/indexing.html#returning-a-view-versus-a-copy\n",
      "  data['Sharpe'][i] = sharpe\n"
     ]
    },
    {
     "name": "stdout",
     "output_type": "stream",
     "text": [
      "[*********************100%***********************]  1 of 1 completed\n",
      "All Data Loaded\n",
      "Done: VXUS\n",
      "Loading from YahooFinance: No.1 / 1: BNDX\n"
     ]
    },
    {
     "name": "stderr",
     "output_type": "stream",
     "text": [
      "<ipython-input-30-937137c36fa2>:7: SettingWithCopyWarning: \n",
      "A value is trying to be set on a copy of a slice from a DataFrame\n",
      "\n",
      "See the caveats in the documentation: https://pandas.pydata.org/pandas-docs/stable/user_guide/indexing.html#returning-a-view-versus-a-copy\n",
      "  data['Sharpe'][i] = sharpe\n"
     ]
    },
    {
     "name": "stdout",
     "output_type": "stream",
     "text": [
      "[*********************100%***********************]  1 of 1 completed\n",
      "All Data Loaded\n",
      "Done: BNDX\n",
      "Loading from YahooFinance: No.1 / 1: VEU\n"
     ]
    },
    {
     "name": "stderr",
     "output_type": "stream",
     "text": [
      "<ipython-input-30-937137c36fa2>:7: SettingWithCopyWarning: \n",
      "A value is trying to be set on a copy of a slice from a DataFrame\n",
      "\n",
      "See the caveats in the documentation: https://pandas.pydata.org/pandas-docs/stable/user_guide/indexing.html#returning-a-view-versus-a-copy\n",
      "  data['Sharpe'][i] = sharpe\n"
     ]
    },
    {
     "name": "stdout",
     "output_type": "stream",
     "text": [
      "[*********************100%***********************]  1 of 1 completed\n",
      "All Data Loaded\n",
      "Done: VEU\n",
      "Loading from YahooFinance: No.1 / 1: IAU\n"
     ]
    },
    {
     "name": "stderr",
     "output_type": "stream",
     "text": [
      "<ipython-input-30-937137c36fa2>:7: SettingWithCopyWarning: \n",
      "A value is trying to be set on a copy of a slice from a DataFrame\n",
      "\n",
      "See the caveats in the documentation: https://pandas.pydata.org/pandas-docs/stable/user_guide/indexing.html#returning-a-view-versus-a-copy\n",
      "  data['Sharpe'][i] = sharpe\n"
     ]
    },
    {
     "name": "stdout",
     "output_type": "stream",
     "text": [
      "[*********************100%***********************]  1 of 1 completed\n",
      "All Data Loaded\n",
      "Done: IAU\n",
      "Loading from YahooFinance: No.1 / 1: IXUS\n"
     ]
    },
    {
     "name": "stderr",
     "output_type": "stream",
     "text": [
      "<ipython-input-30-937137c36fa2>:7: SettingWithCopyWarning: \n",
      "A value is trying to be set on a copy of a slice from a DataFrame\n",
      "\n",
      "See the caveats in the documentation: https://pandas.pydata.org/pandas-docs/stable/user_guide/indexing.html#returning-a-view-versus-a-copy\n",
      "  data['Sharpe'][i] = sharpe\n"
     ]
    },
    {
     "name": "stdout",
     "output_type": "stream",
     "text": [
      "[*********************100%***********************]  1 of 1 completed\n",
      "All Data Loaded\n",
      "Done: IXUS\n",
      "Loading from YahooFinance: No.1 / 1: ARKK\n"
     ]
    },
    {
     "name": "stderr",
     "output_type": "stream",
     "text": [
      "<ipython-input-30-937137c36fa2>:7: SettingWithCopyWarning: \n",
      "A value is trying to be set on a copy of a slice from a DataFrame\n",
      "\n",
      "See the caveats in the documentation: https://pandas.pydata.org/pandas-docs/stable/user_guide/indexing.html#returning-a-view-versus-a-copy\n",
      "  data['Sharpe'][i] = sharpe\n"
     ]
    },
    {
     "name": "stdout",
     "output_type": "stream",
     "text": [
      "[*********************100%***********************]  1 of 1 completed\n",
      "All Data Loaded\n",
      "Done: ARKK\n",
      "Loading from YahooFinance: No.1 / 1: VT\n"
     ]
    },
    {
     "name": "stderr",
     "output_type": "stream",
     "text": [
      "<ipython-input-30-937137c36fa2>:7: SettingWithCopyWarning: \n",
      "A value is trying to be set on a copy of a slice from a DataFrame\n",
      "\n",
      "See the caveats in the documentation: https://pandas.pydata.org/pandas-docs/stable/user_guide/indexing.html#returning-a-view-versus-a-copy\n",
      "  data['Sharpe'][i] = sharpe\n"
     ]
    },
    {
     "name": "stdout",
     "output_type": "stream",
     "text": [
      "[*********************100%***********************]  1 of 1 completed\n",
      "All Data Loaded\n",
      "Done: VT\n",
      "Loading from YahooFinance: No.1 / 1: ACWI\n"
     ]
    },
    {
     "name": "stderr",
     "output_type": "stream",
     "text": [
      "<ipython-input-30-937137c36fa2>:7: SettingWithCopyWarning: \n",
      "A value is trying to be set on a copy of a slice from a DataFrame\n",
      "\n",
      "See the caveats in the documentation: https://pandas.pydata.org/pandas-docs/stable/user_guide/indexing.html#returning-a-view-versus-a-copy\n",
      "  data['Sharpe'][i] = sharpe\n"
     ]
    },
    {
     "name": "stdout",
     "output_type": "stream",
     "text": [
      "[*********************100%***********************]  1 of 1 completed\n",
      "All Data Loaded\n",
      "Done: ACWI\n",
      "Loading from YahooFinance: No.1 / 1: GDX\n"
     ]
    },
    {
     "name": "stderr",
     "output_type": "stream",
     "text": [
      "<ipython-input-30-937137c36fa2>:7: SettingWithCopyWarning: \n",
      "A value is trying to be set on a copy of a slice from a DataFrame\n",
      "\n",
      "See the caveats in the documentation: https://pandas.pydata.org/pandas-docs/stable/user_guide/indexing.html#returning-a-view-versus-a-copy\n",
      "  data['Sharpe'][i] = sharpe\n"
     ]
    },
    {
     "name": "stdout",
     "output_type": "stream",
     "text": [
      "[*********************100%***********************]  1 of 1 completed\n",
      "All Data Loaded\n",
      "Done: GDX\n",
      "Loading from YahooFinance: No.1 / 1: SPY\n"
     ]
    },
    {
     "name": "stderr",
     "output_type": "stream",
     "text": [
      "<ipython-input-30-937137c36fa2>:7: SettingWithCopyWarning: \n",
      "A value is trying to be set on a copy of a slice from a DataFrame\n",
      "\n",
      "See the caveats in the documentation: https://pandas.pydata.org/pandas-docs/stable/user_guide/indexing.html#returning-a-view-versus-a-copy\n",
      "  data['Sharpe'][i] = sharpe\n"
     ]
    },
    {
     "name": "stdout",
     "output_type": "stream",
     "text": [
      "[*********************100%***********************]  1 of 1 completed\n",
      "All Data Loaded\n",
      "Done: SPY\n",
      "Loading from YahooFinance: No.1 / 1: IVV\n"
     ]
    },
    {
     "name": "stderr",
     "output_type": "stream",
     "text": [
      "<ipython-input-30-937137c36fa2>:7: SettingWithCopyWarning: \n",
      "A value is trying to be set on a copy of a slice from a DataFrame\n",
      "\n",
      "See the caveats in the documentation: https://pandas.pydata.org/pandas-docs/stable/user_guide/indexing.html#returning-a-view-versus-a-copy\n",
      "  data['Sharpe'][i] = sharpe\n"
     ]
    },
    {
     "name": "stdout",
     "output_type": "stream",
     "text": [
      "[*********************100%***********************]  1 of 1 completed\n",
      "All Data Loaded\n",
      "Done: IVV\n",
      "Loading from YahooFinance: No.1 / 1: VTI\n"
     ]
    },
    {
     "name": "stderr",
     "output_type": "stream",
     "text": [
      "<ipython-input-30-937137c36fa2>:7: SettingWithCopyWarning: \n",
      "A value is trying to be set on a copy of a slice from a DataFrame\n",
      "\n",
      "See the caveats in the documentation: https://pandas.pydata.org/pandas-docs/stable/user_guide/indexing.html#returning-a-view-versus-a-copy\n",
      "  data['Sharpe'][i] = sharpe\n"
     ]
    },
    {
     "name": "stdout",
     "output_type": "stream",
     "text": [
      "[*********************100%***********************]  1 of 1 completed\n",
      "All Data Loaded\n",
      "Done: VTI\n",
      "Loading from YahooFinance: No.1 / 1: VOO\n"
     ]
    },
    {
     "name": "stderr",
     "output_type": "stream",
     "text": [
      "<ipython-input-30-937137c36fa2>:7: SettingWithCopyWarning: \n",
      "A value is trying to be set on a copy of a slice from a DataFrame\n",
      "\n",
      "See the caveats in the documentation: https://pandas.pydata.org/pandas-docs/stable/user_guide/indexing.html#returning-a-view-versus-a-copy\n",
      "  data['Sharpe'][i] = sharpe\n"
     ]
    },
    {
     "name": "stdout",
     "output_type": "stream",
     "text": [
      "[*********************100%***********************]  1 of 1 completed\n",
      "All Data Loaded\n",
      "Done: VOO\n",
      "Loading from YahooFinance: No.1 / 1: QQQ\n"
     ]
    },
    {
     "name": "stderr",
     "output_type": "stream",
     "text": [
      "<ipython-input-30-937137c36fa2>:7: SettingWithCopyWarning: \n",
      "A value is trying to be set on a copy of a slice from a DataFrame\n",
      "\n",
      "See the caveats in the documentation: https://pandas.pydata.org/pandas-docs/stable/user_guide/indexing.html#returning-a-view-versus-a-copy\n",
      "  data['Sharpe'][i] = sharpe\n"
     ]
    },
    {
     "name": "stdout",
     "output_type": "stream",
     "text": [
      "[*********************100%***********************]  1 of 1 completed\n",
      "All Data Loaded\n",
      "Done: QQQ\n",
      "Loading from YahooFinance: No.1 / 1: VEA\n"
     ]
    },
    {
     "name": "stderr",
     "output_type": "stream",
     "text": [
      "<ipython-input-30-937137c36fa2>:7: SettingWithCopyWarning: \n",
      "A value is trying to be set on a copy of a slice from a DataFrame\n",
      "\n",
      "See the caveats in the documentation: https://pandas.pydata.org/pandas-docs/stable/user_guide/indexing.html#returning-a-view-versus-a-copy\n",
      "  data['Sharpe'][i] = sharpe\n"
     ]
    },
    {
     "name": "stdout",
     "output_type": "stream",
     "text": [
      "[*********************100%***********************]  1 of 1 completed\n",
      "All Data Loaded\n",
      "Done: VEA\n",
      "Loading from YahooFinance: No.1 / 1: IEFA\n"
     ]
    },
    {
     "name": "stderr",
     "output_type": "stream",
     "text": [
      "<ipython-input-30-937137c36fa2>:7: SettingWithCopyWarning: \n",
      "A value is trying to be set on a copy of a slice from a DataFrame\n",
      "\n",
      "See the caveats in the documentation: https://pandas.pydata.org/pandas-docs/stable/user_guide/indexing.html#returning-a-view-versus-a-copy\n",
      "  data['Sharpe'][i] = sharpe\n"
     ]
    },
    {
     "name": "stdout",
     "output_type": "stream",
     "text": [
      "[*********************100%***********************]  1 of 1 completed\n",
      "All Data Loaded\n",
      "Done: IEFA\n",
      "Loading from YahooFinance: No.1 / 1: AGG\n"
     ]
    },
    {
     "name": "stderr",
     "output_type": "stream",
     "text": [
      "<ipython-input-30-937137c36fa2>:7: SettingWithCopyWarning: \n",
      "A value is trying to be set on a copy of a slice from a DataFrame\n",
      "\n",
      "See the caveats in the documentation: https://pandas.pydata.org/pandas-docs/stable/user_guide/indexing.html#returning-a-view-versus-a-copy\n",
      "  data['Sharpe'][i] = sharpe\n"
     ]
    },
    {
     "name": "stdout",
     "output_type": "stream",
     "text": [
      "[*********************100%***********************]  1 of 1 completed\n",
      "All Data Loaded\n",
      "Done: AGG\n",
      "Loading from YahooFinance: No.1 / 1: VTV\n"
     ]
    },
    {
     "name": "stderr",
     "output_type": "stream",
     "text": [
      "<ipython-input-30-937137c36fa2>:7: SettingWithCopyWarning: \n",
      "A value is trying to be set on a copy of a slice from a DataFrame\n",
      "\n",
      "See the caveats in the documentation: https://pandas.pydata.org/pandas-docs/stable/user_guide/indexing.html#returning-a-view-versus-a-copy\n",
      "  data['Sharpe'][i] = sharpe\n"
     ]
    },
    {
     "name": "stdout",
     "output_type": "stream",
     "text": [
      "[*********************100%***********************]  1 of 1 completed\n",
      "All Data Loaded\n",
      "Done: VTV\n",
      "Loading from YahooFinance: No.1 / 1: BND\n"
     ]
    },
    {
     "name": "stderr",
     "output_type": "stream",
     "text": [
      "<ipython-input-30-937137c36fa2>:7: SettingWithCopyWarning: \n",
      "A value is trying to be set on a copy of a slice from a DataFrame\n",
      "\n",
      "See the caveats in the documentation: https://pandas.pydata.org/pandas-docs/stable/user_guide/indexing.html#returning-a-view-versus-a-copy\n",
      "  data['Sharpe'][i] = sharpe\n"
     ]
    },
    {
     "name": "stdout",
     "output_type": "stream",
     "text": [
      "[*********************100%***********************]  1 of 1 completed\n",
      "All Data Loaded\n",
      "Done: BND\n",
      "Loading from YahooFinance: No.1 / 1: VWO\n"
     ]
    },
    {
     "name": "stderr",
     "output_type": "stream",
     "text": [
      "<ipython-input-30-937137c36fa2>:7: SettingWithCopyWarning: \n",
      "A value is trying to be set on a copy of a slice from a DataFrame\n",
      "\n",
      "See the caveats in the documentation: https://pandas.pydata.org/pandas-docs/stable/user_guide/indexing.html#returning-a-view-versus-a-copy\n",
      "  data['Sharpe'][i] = sharpe\n"
     ]
    },
    {
     "name": "stdout",
     "output_type": "stream",
     "text": [
      "[*********************100%***********************]  1 of 1 completed\n",
      "All Data Loaded\n",
      "Done: VWO\n",
      "Loading from YahooFinance: No.1 / 1: IEMG\n"
     ]
    },
    {
     "name": "stderr",
     "output_type": "stream",
     "text": [
      "<ipython-input-30-937137c36fa2>:7: SettingWithCopyWarning: \n",
      "A value is trying to be set on a copy of a slice from a DataFrame\n",
      "\n",
      "See the caveats in the documentation: https://pandas.pydata.org/pandas-docs/stable/user_guide/indexing.html#returning-a-view-versus-a-copy\n",
      "  data['Sharpe'][i] = sharpe\n"
     ]
    },
    {
     "name": "stdout",
     "output_type": "stream",
     "text": [
      "[*********************100%***********************]  1 of 1 completed\n",
      "All Data Loaded\n",
      "Done: IEMG\n",
      "Loading from YahooFinance: No.1 / 1: EEM\n"
     ]
    },
    {
     "name": "stderr",
     "output_type": "stream",
     "text": [
      "<ipython-input-30-937137c36fa2>:7: SettingWithCopyWarning: \n",
      "A value is trying to be set on a copy of a slice from a DataFrame\n",
      "\n",
      "See the caveats in the documentation: https://pandas.pydata.org/pandas-docs/stable/user_guide/indexing.html#returning-a-view-versus-a-copy\n",
      "  data['Sharpe'][i] = sharpe\n"
     ]
    },
    {
     "name": "stdout",
     "output_type": "stream",
     "text": [
      "[*********************100%***********************]  1 of 1 completed\n",
      "All Data Loaded\n",
      "Done: EEM\n",
      "Loading from YahooFinance: No.1 / 1: EMB\n"
     ]
    },
    {
     "name": "stderr",
     "output_type": "stream",
     "text": [
      "<ipython-input-30-937137c36fa2>:7: SettingWithCopyWarning: \n",
      "A value is trying to be set on a copy of a slice from a DataFrame\n",
      "\n",
      "See the caveats in the documentation: https://pandas.pydata.org/pandas-docs/stable/user_guide/indexing.html#returning-a-view-versus-a-copy\n",
      "  data['Sharpe'][i] = sharpe\n"
     ]
    },
    {
     "name": "stdout",
     "output_type": "stream",
     "text": [
      "[*********************100%***********************]  1 of 1 completed\n",
      "All Data Loaded\n",
      "Done: EMB\n",
      "Loading from YahooFinance: No.1 / 1: SCHE\n"
     ]
    },
    {
     "name": "stderr",
     "output_type": "stream",
     "text": [
      "<ipython-input-30-937137c36fa2>:7: SettingWithCopyWarning: \n",
      "A value is trying to be set on a copy of a slice from a DataFrame\n",
      "\n",
      "See the caveats in the documentation: https://pandas.pydata.org/pandas-docs/stable/user_guide/indexing.html#returning-a-view-versus-a-copy\n",
      "  data['Sharpe'][i] = sharpe\n"
     ]
    },
    {
     "name": "stdout",
     "output_type": "stream",
     "text": [
      "[*********************100%***********************]  1 of 1 completed\n",
      "All Data Loaded\n",
      "Done: SCHE\n",
      "Loading from YahooFinance: No.1 / 1: ESGE\n"
     ]
    },
    {
     "name": "stderr",
     "output_type": "stream",
     "text": [
      "<ipython-input-30-937137c36fa2>:7: SettingWithCopyWarning: \n",
      "A value is trying to be set on a copy of a slice from a DataFrame\n",
      "\n",
      "See the caveats in the documentation: https://pandas.pydata.org/pandas-docs/stable/user_guide/indexing.html#returning-a-view-versus-a-copy\n",
      "  data['Sharpe'][i] = sharpe\n"
     ]
    },
    {
     "name": "stdout",
     "output_type": "stream",
     "text": [
      "[*********************100%***********************]  1 of 1 completed\n",
      "All Data Loaded\n",
      "Done: ESGE\n",
      "Loading from YahooFinance: No.1 / 1: MCHI\n"
     ]
    },
    {
     "name": "stderr",
     "output_type": "stream",
     "text": [
      "<ipython-input-30-937137c36fa2>:7: SettingWithCopyWarning: \n",
      "A value is trying to be set on a copy of a slice from a DataFrame\n",
      "\n",
      "See the caveats in the documentation: https://pandas.pydata.org/pandas-docs/stable/user_guide/indexing.html#returning-a-view-versus-a-copy\n",
      "  data['Sharpe'][i] = sharpe\n"
     ]
    },
    {
     "name": "stdout",
     "output_type": "stream",
     "text": [
      "[*********************100%***********************]  1 of 1 completed\n",
      "All Data Loaded\n",
      "Done: MCHI\n",
      "Loading from YahooFinance: No.1 / 1: EWT\n"
     ]
    },
    {
     "name": "stderr",
     "output_type": "stream",
     "text": [
      "<ipython-input-30-937137c36fa2>:7: SettingWithCopyWarning: \n",
      "A value is trying to be set on a copy of a slice from a DataFrame\n",
      "\n",
      "See the caveats in the documentation: https://pandas.pydata.org/pandas-docs/stable/user_guide/indexing.html#returning-a-view-versus-a-copy\n",
      "  data['Sharpe'][i] = sharpe\n"
     ]
    },
    {
     "name": "stdout",
     "output_type": "stream",
     "text": [
      "[*********************100%***********************]  1 of 1 completed\n",
      "All Data Loaded\n",
      "Done: EWT\n",
      "Loading from YahooFinance: No.1 / 1: EWY\n"
     ]
    },
    {
     "name": "stderr",
     "output_type": "stream",
     "text": [
      "<ipython-input-30-937137c36fa2>:7: SettingWithCopyWarning: \n",
      "A value is trying to be set on a copy of a slice from a DataFrame\n",
      "\n",
      "See the caveats in the documentation: https://pandas.pydata.org/pandas-docs/stable/user_guide/indexing.html#returning-a-view-versus-a-copy\n",
      "  data['Sharpe'][i] = sharpe\n"
     ]
    },
    {
     "name": "stdout",
     "output_type": "stream",
     "text": [
      "[*********************100%***********************]  1 of 1 completed\n",
      "All Data Loaded\n",
      "Done: EWY\n",
      "Loading from YahooFinance: No.1 / 1: EWZ\n"
     ]
    },
    {
     "name": "stderr",
     "output_type": "stream",
     "text": [
      "<ipython-input-30-937137c36fa2>:7: SettingWithCopyWarning: \n",
      "A value is trying to be set on a copy of a slice from a DataFrame\n",
      "\n",
      "See the caveats in the documentation: https://pandas.pydata.org/pandas-docs/stable/user_guide/indexing.html#returning-a-view-versus-a-copy\n",
      "  data['Sharpe'][i] = sharpe\n"
     ]
    },
    {
     "name": "stdout",
     "output_type": "stream",
     "text": [
      "[*********************100%***********************]  1 of 1 completed\n",
      "All Data Loaded\n",
      "Done: EWZ\n",
      "Loading from YahooFinance: No.1 / 1: VNM\n"
     ]
    },
    {
     "name": "stderr",
     "output_type": "stream",
     "text": [
      "<ipython-input-30-937137c36fa2>:7: SettingWithCopyWarning: \n",
      "A value is trying to be set on a copy of a slice from a DataFrame\n",
      "\n",
      "See the caveats in the documentation: https://pandas.pydata.org/pandas-docs/stable/user_guide/indexing.html#returning-a-view-versus-a-copy\n",
      "  data['Sharpe'][i] = sharpe\n"
     ]
    },
    {
     "name": "stdout",
     "output_type": "stream",
     "text": [
      "[*********************100%***********************]  1 of 1 completed\n",
      "All Data Loaded\n",
      "Done: VNM\n",
      "Loading from YahooFinance: No.1 / 1: FM\n"
     ]
    },
    {
     "name": "stderr",
     "output_type": "stream",
     "text": [
      "<ipython-input-30-937137c36fa2>:7: SettingWithCopyWarning: \n",
      "A value is trying to be set on a copy of a slice from a DataFrame\n",
      "\n",
      "See the caveats in the documentation: https://pandas.pydata.org/pandas-docs/stable/user_guide/indexing.html#returning-a-view-versus-a-copy\n",
      "  data['Sharpe'][i] = sharpe\n"
     ]
    },
    {
     "name": "stdout",
     "output_type": "stream",
     "text": [
      "[*********************100%***********************]  1 of 1 completed\n",
      "All Data Loaded\n",
      "Done: FM\n",
      "Loading from YahooFinance: No.1 / 1: NGE\n"
     ]
    },
    {
     "name": "stderr",
     "output_type": "stream",
     "text": [
      "<ipython-input-30-937137c36fa2>:7: SettingWithCopyWarning: \n",
      "A value is trying to be set on a copy of a slice from a DataFrame\n",
      "\n",
      "See the caveats in the documentation: https://pandas.pydata.org/pandas-docs/stable/user_guide/indexing.html#returning-a-view-versus-a-copy\n",
      "  data['Sharpe'][i] = sharpe\n"
     ]
    },
    {
     "name": "stdout",
     "output_type": "stream",
     "text": [
      "[*********************100%***********************]  1 of 1 completed\n",
      "All Data Loaded\n",
      "Done: NGE\n"
     ]
    },
    {
     "name": "stderr",
     "output_type": "stream",
     "text": [
      "<ipython-input-30-937137c36fa2>:7: SettingWithCopyWarning: \n",
      "A value is trying to be set on a copy of a slice from a DataFrame\n",
      "\n",
      "See the caveats in the documentation: https://pandas.pydata.org/pandas-docs/stable/user_guide/indexing.html#returning-a-view-versus-a-copy\n",
      "  data['Sharpe'][i] = sharpe\n"
     ]
    }
   ],
   "source": [
    "# 计算sharpe比率：\n",
    "\n",
    "for i, ticker in enumerate(data['代码']):\n",
    "    sample = read_data_from_yf_D([ticker])\n",
    "    sample[0]['pct'] = sample[0]['Adj Close'].pct_change()\n",
    "    sample[0].dropna(inplace = True)\n",
    "    strategy_ret = sample[0]['pct']\n",
    "    sharpe = sharpe_ratio(strategy_ret, 252)\n",
    "    data['Sharpe'][i] = sharpe\n",
    "    print(\"Done: {}\".format(ticker))"
   ]
  },
  {
   "cell_type": "code",
   "execution_count": 33,
   "metadata": {},
   "outputs": [
    {
     "name": "stdout",
     "output_type": "stream",
     "text": [
      "Loading from YahooFinance: No.1 / 1: VNM\n",
      "[*********************100%***********************]  1 of 1 completed\n",
      "All Data Loaded\n",
      "0.4318397125436719\n"
     ]
    }
   ],
   "source": [
    "sample = read_data_from_yf_D([\"VNM\"])\n",
    "sample[0]['pct'] = sample[0]['Adj Close'].pct_change()\n",
    "sample[0].dropna(inplace = True)\n",
    "strategy_ret = sample[0]['pct']\n",
    "sharpe = sharpe_ratio(strategy_ret, 252)\n",
    "print(sharpe)"
   ]
  },
  {
   "cell_type": "code",
   "execution_count": 39,
   "metadata": {},
   "outputs": [],
   "source": [
    "data_dropduplicates = data[['代码','名称','Sharpe']].drop_duplicates()"
   ]
  },
  {
   "cell_type": "code",
   "execution_count": 40,
   "metadata": {},
   "outputs": [],
   "source": [
    "data_dropduplicates.to_csv(\"ETF_夏普比率排序.csv\")"
   ]
  },
  {
   "cell_type": "code",
   "execution_count": null,
   "metadata": {},
   "outputs": [],
   "source": []
  },
  {
   "cell_type": "code",
   "execution_count": null,
   "metadata": {},
   "outputs": [],
   "source": []
  },
  {
   "cell_type": "code",
   "execution_count": 9,
   "metadata": {},
   "outputs": [
    {
     "data": {
      "text/html": [
       "<div>\n",
       "<style scoped>\n",
       "    .dataframe tbody tr th:only-of-type {\n",
       "        vertical-align: middle;\n",
       "    }\n",
       "\n",
       "    .dataframe tbody tr th {\n",
       "        vertical-align: top;\n",
       "    }\n",
       "\n",
       "    .dataframe thead th {\n",
       "        text-align: right;\n",
       "    }\n",
       "</style>\n",
       "<table border=\"1\" class=\"dataframe\">\n",
       "  <thead>\n",
       "    <tr style=\"text-align: right;\">\n",
       "      <th></th>\n",
       "      <th>代码</th>\n",
       "      <th>名称</th>\n",
       "      <th>标的</th>\n",
       "      <th>过去5年夏普比率（筛选大于等于0.6）</th>\n",
       "      <th>20210617资产规模（亿）</th>\n",
       "      <th>综合打分</th>\n",
       "      <th>1yr_年化</th>\n",
       "      <th>3yr_年化</th>\n",
       "      <th>5yr_年化</th>\n",
       "      <th>10yr_年化</th>\n",
       "    </tr>\n",
       "  </thead>\n",
       "  <tbody>\n",
       "    <tr>\n",
       "      <th>0</th>\n",
       "      <td>SPY</td>\n",
       "      <td>SPDR标普500 ETF</td>\n",
       "      <td>S&amp;P 500指数</td>\n",
       "      <td>0.951612</td>\n",
       "      <td>3636.81</td>\n",
       "      <td>3460.830440</td>\n",
       "      <td></td>\n",
       "      <td></td>\n",
       "      <td></td>\n",
       "      <td></td>\n",
       "    </tr>\n",
       "    <tr>\n",
       "      <th>1</th>\n",
       "      <td>IVV</td>\n",
       "      <td>iShares标普500 ETF</td>\n",
       "      <td>S&amp;P 500指数</td>\n",
       "      <td>0.940152</td>\n",
       "      <td>2828.67</td>\n",
       "      <td>2659.380460</td>\n",
       "      <td></td>\n",
       "      <td></td>\n",
       "      <td></td>\n",
       "      <td></td>\n",
       "    </tr>\n",
       "    <tr>\n",
       "      <th>2</th>\n",
       "      <td>VTI</td>\n",
       "      <td>Vanguard美国全股市ETF</td>\n",
       "      <td>CRSP美国总市场指数</td>\n",
       "      <td>0.952268</td>\n",
       "      <td>2475.98</td>\n",
       "      <td>2357.797230</td>\n",
       "      <td></td>\n",
       "      <td></td>\n",
       "      <td></td>\n",
       "      <td></td>\n",
       "    </tr>\n",
       "    <tr>\n",
       "      <th>3</th>\n",
       "      <td>VOO</td>\n",
       "      <td>Vanguard标普500指数ETF</td>\n",
       "      <td>S&amp;P 500指数</td>\n",
       "      <td>0.941861</td>\n",
       "      <td>2292.44</td>\n",
       "      <td>2159.160087</td>\n",
       "      <td></td>\n",
       "      <td></td>\n",
       "      <td></td>\n",
       "      <td></td>\n",
       "    </tr>\n",
       "    <tr>\n",
       "      <th>4</th>\n",
       "      <td>QQQ</td>\n",
       "      <td>纳指100ETF</td>\n",
       "      <td>NASDAQ100指数</td>\n",
       "      <td>1.187309</td>\n",
       "      <td>1637.20</td>\n",
       "      <td>1943.861804</td>\n",
       "      <td></td>\n",
       "      <td></td>\n",
       "      <td></td>\n",
       "      <td></td>\n",
       "    </tr>\n",
       "    <tr>\n",
       "      <th>5</th>\n",
       "      <td>VUG</td>\n",
       "      <td>成长股指数ETF-Vanguard MSCI</td>\n",
       "      <td>CRSP美国大盘成长指数</td>\n",
       "      <td>1.075664</td>\n",
       "      <td>796.82</td>\n",
       "      <td>857.110799</td>\n",
       "      <td></td>\n",
       "      <td></td>\n",
       "      <td></td>\n",
       "      <td></td>\n",
       "    </tr>\n",
       "    <tr>\n",
       "      <th>6</th>\n",
       "      <td>VEA</td>\n",
       "      <td>Vanguard富时发达市场ETF</td>\n",
       "      <td>新华富时发展全市值（美国除外）指数净TR美国RIC</td>\n",
       "      <td>0.704702</td>\n",
       "      <td>1034.35</td>\n",
       "      <td>728.908224</td>\n",
       "      <td></td>\n",
       "      <td></td>\n",
       "      <td></td>\n",
       "      <td></td>\n",
       "    </tr>\n",
       "    <tr>\n",
       "      <th>7</th>\n",
       "      <td>IEFA</td>\n",
       "      <td>iShares 核心MSCI欧澳远东 ETF</td>\n",
       "      <td>MSCI欧澳远东可投资市场指数</td>\n",
       "      <td>0.696028</td>\n",
       "      <td>986.06</td>\n",
       "      <td>686.325692</td>\n",
       "      <td></td>\n",
       "      <td></td>\n",
       "      <td></td>\n",
       "      <td></td>\n",
       "    </tr>\n",
       "    <tr>\n",
       "      <th>8</th>\n",
       "      <td>VTV</td>\n",
       "      <td>Vanguard价值股指数ETF</td>\n",
       "      <td>CRSP美国大盘股价值指数</td>\n",
       "      <td>0.766311</td>\n",
       "      <td>842.02</td>\n",
       "      <td>645.249274</td>\n",
       "      <td></td>\n",
       "      <td></td>\n",
       "      <td></td>\n",
       "      <td></td>\n",
       "    </tr>\n",
       "    <tr>\n",
       "      <th>9</th>\n",
       "      <td>AGG</td>\n",
       "      <td>iShares美国债券综合指数ETF</td>\n",
       "      <td>彭博巴克莱美国综合债券指数</td>\n",
       "      <td>0.663900</td>\n",
       "      <td>879.51</td>\n",
       "      <td>583.906325</td>\n",
       "      <td></td>\n",
       "      <td></td>\n",
       "      <td></td>\n",
       "      <td></td>\n",
       "    </tr>\n",
       "    <tr>\n",
       "      <th>10</th>\n",
       "      <td>IEMG</td>\n",
       "      <td>iShares 核心MSCI新兴市场 ETF</td>\n",
       "      <td>MSCI新兴市场可投资市场指数</td>\n",
       "      <td>0.685652</td>\n",
       "      <td>838.39</td>\n",
       "      <td>574.843474</td>\n",
       "      <td></td>\n",
       "      <td></td>\n",
       "      <td></td>\n",
       "      <td></td>\n",
       "    </tr>\n",
       "    <tr>\n",
       "      <th>11</th>\n",
       "      <td>VWO</td>\n",
       "      <td>新兴市场ETF-Vanguard MSCI</td>\n",
       "      <td>新华富时新兴市场中国A股包容性指数净TR美国RIC</td>\n",
       "      <td>0.673046</td>\n",
       "      <td>845.07</td>\n",
       "      <td>568.770662</td>\n",
       "      <td></td>\n",
       "      <td></td>\n",
       "      <td></td>\n",
       "      <td></td>\n",
       "    </tr>\n",
       "    <tr>\n",
       "      <th>12</th>\n",
       "      <td>IJR</td>\n",
       "      <td>标普小型股600指数ETF-iShares</td>\n",
       "      <td>标普600小盘股指数</td>\n",
       "      <td>0.741042</td>\n",
       "      <td>719.87</td>\n",
       "      <td>533.453854</td>\n",
       "      <td></td>\n",
       "      <td></td>\n",
       "      <td></td>\n",
       "      <td></td>\n",
       "    </tr>\n",
       "    <tr>\n",
       "      <th>13</th>\n",
       "      <td>BND</td>\n",
       "      <td>Vanguard美国全债市ETF</td>\n",
       "      <td>彭博巴克莱美国总体浮动经调整指数</td>\n",
       "      <td>0.643948</td>\n",
       "      <td>773.57</td>\n",
       "      <td>498.138734</td>\n",
       "      <td></td>\n",
       "      <td></td>\n",
       "      <td></td>\n",
       "      <td></td>\n",
       "    </tr>\n",
       "    <tr>\n",
       "      <th>14</th>\n",
       "      <td>BNDX</td>\n",
       "      <td>Vanguard国际全债市指数ETF</td>\n",
       "      <td>彭博巴克莱全球总量非美元浮动调整RIC上限指数</td>\n",
       "      <td>0.952360</td>\n",
       "      <td>425.30</td>\n",
       "      <td>405.038712</td>\n",
       "      <td></td>\n",
       "      <td></td>\n",
       "      <td></td>\n",
       "      <td></td>\n",
       "    </tr>\n",
       "    <tr>\n",
       "      <th>15</th>\n",
       "      <td>BSV</td>\n",
       "      <td>Vanguard美国短期国债ETF</td>\n",
       "      <td>彭博巴克莱美国1-5年政府/信贷浮动调整指数</td>\n",
       "      <td>1.102941</td>\n",
       "      <td>342.93</td>\n",
       "      <td>378.231511</td>\n",
       "      <td></td>\n",
       "      <td></td>\n",
       "      <td></td>\n",
       "      <td></td>\n",
       "    </tr>\n",
       "    <tr>\n",
       "      <th>16</th>\n",
       "      <td>VCIT</td>\n",
       "      <td>Vanguard中期公司债指数ETF</td>\n",
       "      <td>彭博巴克莱美国5-10年企业债券指数</td>\n",
       "      <td>0.792332</td>\n",
       "      <td>463.97</td>\n",
       "      <td>367.618490</td>\n",
       "      <td></td>\n",
       "      <td></td>\n",
       "      <td></td>\n",
       "      <td></td>\n",
       "    </tr>\n",
       "    <tr>\n",
       "      <th>17</th>\n",
       "      <td>VXUS</td>\n",
       "      <td>领航 国际股票 ETF</td>\n",
       "      <td>新华富时全球全市值（美国除外）</td>\n",
       "      <td>0.707660</td>\n",
       "      <td>494.94</td>\n",
       "      <td>350.249165</td>\n",
       "      <td></td>\n",
       "      <td></td>\n",
       "      <td></td>\n",
       "      <td></td>\n",
       "    </tr>\n",
       "    <tr>\n",
       "      <th>18</th>\n",
       "      <td>VCSH</td>\n",
       "      <td>Vanguard短期公司债指数ETF</td>\n",
       "      <td>彭博巴克莱美国1-5年公司债券指数</td>\n",
       "      <td>0.801381</td>\n",
       "      <td>399.22</td>\n",
       "      <td>319.927509</td>\n",
       "      <td></td>\n",
       "      <td></td>\n",
       "      <td></td>\n",
       "      <td></td>\n",
       "    </tr>\n",
       "    <tr>\n",
       "      <th>19</th>\n",
       "      <td>ARKK</td>\n",
       "      <td>ARK Innovation ETF</td>\n",
       "      <td>方舟基金科技创新ETF</td>\n",
       "      <td>1.276933</td>\n",
       "      <td>218.41</td>\n",
       "      <td>278.894930</td>\n",
       "      <td></td>\n",
       "      <td></td>\n",
       "      <td></td>\n",
       "      <td></td>\n",
       "    </tr>\n",
       "  </tbody>\n",
       "</table>\n",
       "</div>"
      ],
      "text/plain": [
       "      代码                      名称                         标的  \\\n",
       "0    SPY           SPDR标普500 ETF                  S&P 500指数   \n",
       "1    IVV        iShares标普500 ETF                  S&P 500指数   \n",
       "2    VTI        Vanguard美国全股市ETF                CRSP美国总市场指数   \n",
       "3    VOO      Vanguard标普500指数ETF                  S&P 500指数   \n",
       "4    QQQ                纳指100ETF                NASDAQ100指数   \n",
       "5    VUG  成长股指数ETF-Vanguard MSCI               CRSP美国大盘成长指数   \n",
       "6    VEA       Vanguard富时发达市场ETF  新华富时发展全市值（美国除外）指数净TR美国RIC   \n",
       "7   IEFA  iShares 核心MSCI欧澳远东 ETF            MSCI欧澳远东可投资市场指数   \n",
       "8    VTV        Vanguard价值股指数ETF              CRSP美国大盘股价值指数   \n",
       "9    AGG      iShares美国债券综合指数ETF              彭博巴克莱美国综合债券指数   \n",
       "10  IEMG  iShares 核心MSCI新兴市场 ETF            MSCI新兴市场可投资市场指数   \n",
       "11   VWO   新兴市场ETF-Vanguard MSCI  新华富时新兴市场中国A股包容性指数净TR美国RIC   \n",
       "12   IJR   标普小型股600指数ETF-iShares                 标普600小盘股指数   \n",
       "13   BND        Vanguard美国全债市ETF           彭博巴克莱美国总体浮动经调整指数   \n",
       "14  BNDX      Vanguard国际全债市指数ETF    彭博巴克莱全球总量非美元浮动调整RIC上限指数   \n",
       "15   BSV       Vanguard美国短期国债ETF     彭博巴克莱美国1-5年政府/信贷浮动调整指数   \n",
       "16  VCIT      Vanguard中期公司债指数ETF         彭博巴克莱美国5-10年企业债券指数   \n",
       "17  VXUS             领航 国际股票 ETF            新华富时全球全市值（美国除外）   \n",
       "18  VCSH      Vanguard短期公司债指数ETF          彭博巴克莱美国1-5年公司债券指数   \n",
       "19  ARKK      ARK Innovation ETF                方舟基金科技创新ETF   \n",
       "\n",
       "    过去5年夏普比率（筛选大于等于0.6）  20210617资产规模（亿）         综合打分 1yr_年化 3yr_年化 5yr_年化  \\\n",
       "0              0.951612          3636.81  3460.830440                        \n",
       "1              0.940152          2828.67  2659.380460                        \n",
       "2              0.952268          2475.98  2357.797230                        \n",
       "3              0.941861          2292.44  2159.160087                        \n",
       "4              1.187309          1637.20  1943.861804                        \n",
       "5              1.075664           796.82   857.110799                        \n",
       "6              0.704702          1034.35   728.908224                        \n",
       "7              0.696028           986.06   686.325692                        \n",
       "8              0.766311           842.02   645.249274                        \n",
       "9              0.663900           879.51   583.906325                        \n",
       "10             0.685652           838.39   574.843474                        \n",
       "11             0.673046           845.07   568.770662                        \n",
       "12             0.741042           719.87   533.453854                        \n",
       "13             0.643948           773.57   498.138734                        \n",
       "14             0.952360           425.30   405.038712                        \n",
       "15             1.102941           342.93   378.231511                        \n",
       "16             0.792332           463.97   367.618490                        \n",
       "17             0.707660           494.94   350.249165                        \n",
       "18             0.801381           399.22   319.927509                        \n",
       "19             1.276933           218.41   278.894930                        \n",
       "\n",
       "   10yr_年化  \n",
       "0           \n",
       "1           \n",
       "2           \n",
       "3           \n",
       "4           \n",
       "5           \n",
       "6           \n",
       "7           \n",
       "8           \n",
       "9           \n",
       "10          \n",
       "11          \n",
       "12          \n",
       "13          \n",
       "14          \n",
       "15          \n",
       "16          \n",
       "17          \n",
       "18          \n",
       "19          "
      ]
     },
     "execution_count": 9,
     "metadata": {},
     "output_type": "execute_result"
    }
   ],
   "source": [
    "data"
   ]
  },
  {
   "cell_type": "code",
   "execution_count": 67,
   "metadata": {},
   "outputs": [
    {
     "data": {
      "text/plain": [
       "1260"
      ]
     },
     "execution_count": 67,
     "metadata": {},
     "output_type": "execute_result"
    }
   ],
   "source": [
    "252*5"
   ]
  },
  {
   "cell_type": "code",
   "execution_count": 97,
   "metadata": {},
   "outputs": [],
   "source": [
    "# 不断定义/改变年份\n",
    "\n",
    "def read_data_from_yf_D(tickers_list):\n",
    "    load_count = 1\n",
    "    data_list = []\n",
    "    len_tickers = len(tickers_list)\n",
    "    for ticker in tickers_list:\n",
    "        if load_count%100==0:\n",
    "            print(\"=======================Sleeping======================\")\n",
    "            time.sleep(30)\n",
    "        else:\n",
    "            print(\"Loading from YahooFinance: No.{} / {}: {}\".format(load_count, len_tickers, ticker))\n",
    "            data = yf.download(\n",
    "                    tickers=[ticker],\n",
    "                    # use \"period\" instead of start/end\n",
    "                    # valid periods: 1d,5d,1mo,3mo,6mo,1y,2y,5y,10y,ytd,max\n",
    "                    # (optional, default is '1mo')\n",
    "                    period=\"2520d\",\n",
    "                    # fetch data by interval (including intraday if period < 60 days)\n",
    "                    # valid intervals: 1m,2m,5m,15m,30m,60m,90m,1h,1d,5d,1wk,1mo,3mo\n",
    "                    # (optional, default is '1d')\n",
    "                    interval=\"1d\")\n",
    "            data.dropna(inplace = True)\n",
    "            data.reset_index(inplace = True)\n",
    "            data[\"Ticker\"] = ticker\n",
    "            data_list.append(data)\n",
    "        load_count+=1\n",
    "    print(\"All Data Loaded\")\n",
    "    return data_list"
   ]
  },
  {
   "cell_type": "code",
   "execution_count": null,
   "metadata": {},
   "outputs": [],
   "source": []
  },
  {
   "cell_type": "code",
   "execution_count": 96,
   "metadata": {},
   "outputs": [],
   "source": [
    "def annualized_return(df, price_col, yrs):\n",
    "    total_returns = df[price_col].values[-1]/df[price_col].values[0] - 1\n",
    "#     print(total_returns)\n",
    "    annualized_returns = total_returns**(1/yrs)\n",
    "#     print(annualized_returns)\n",
    "    return annualized_returns"
   ]
  },
  {
   "cell_type": "code",
   "execution_count": 90,
   "metadata": {},
   "outputs": [
    {
     "name": "stdout",
     "output_type": "stream",
     "text": [
      "Loading from YahooFinance: No.1 / 1: QQQ\n",
      "[*********************100%***********************]  1 of 1 completed\n",
      "All Data Loaded\n",
      "1.1942850808387073\n"
     ]
    }
   ],
   "source": [
    "# 测试年化代码\n",
    "sample = read_data_from_yf_D([\"QQQ\"])\n",
    "df = sample[0]\n",
    "annualized_ret = annualized_return(df, \"Adj Close\", 10)\n",
    "print(annualized_ret)"
   ]
  },
  {
   "cell_type": "code",
   "execution_count": 82,
   "metadata": {},
   "outputs": [
    {
     "data": {
      "text/html": [
       "<div>\n",
       "<style scoped>\n",
       "    .dataframe tbody tr th:only-of-type {\n",
       "        vertical-align: middle;\n",
       "    }\n",
       "\n",
       "    .dataframe tbody tr th {\n",
       "        vertical-align: top;\n",
       "    }\n",
       "\n",
       "    .dataframe thead th {\n",
       "        text-align: right;\n",
       "    }\n",
       "</style>\n",
       "<table border=\"1\" class=\"dataframe\">\n",
       "  <thead>\n",
       "    <tr style=\"text-align: right;\">\n",
       "      <th></th>\n",
       "      <th>Date</th>\n",
       "      <th>Open</th>\n",
       "      <th>High</th>\n",
       "      <th>Low</th>\n",
       "      <th>Close</th>\n",
       "      <th>Adj Close</th>\n",
       "      <th>Volume</th>\n",
       "      <th>Ticker</th>\n",
       "    </tr>\n",
       "  </thead>\n",
       "  <tbody>\n",
       "    <tr>\n",
       "      <th>0</th>\n",
       "      <td>2011-06-14</td>\n",
       "      <td>55.060001</td>\n",
       "      <td>55.470001</td>\n",
       "      <td>55.029999</td>\n",
       "      <td>55.340000</td>\n",
       "      <td>50.026806</td>\n",
       "      <td>40565300</td>\n",
       "      <td>QQQ</td>\n",
       "    </tr>\n",
       "    <tr>\n",
       "      <th>1</th>\n",
       "      <td>2011-06-15</td>\n",
       "      <td>54.810001</td>\n",
       "      <td>55.150002</td>\n",
       "      <td>54.180000</td>\n",
       "      <td>54.290001</td>\n",
       "      <td>49.077614</td>\n",
       "      <td>59022400</td>\n",
       "      <td>QQQ</td>\n",
       "    </tr>\n",
       "    <tr>\n",
       "      <th>2</th>\n",
       "      <td>2011-06-16</td>\n",
       "      <td>54.320000</td>\n",
       "      <td>54.500000</td>\n",
       "      <td>53.619999</td>\n",
       "      <td>54.080002</td>\n",
       "      <td>48.887772</td>\n",
       "      <td>66316200</td>\n",
       "      <td>QQQ</td>\n",
       "    </tr>\n",
       "    <tr>\n",
       "      <th>3</th>\n",
       "      <td>2011-06-17</td>\n",
       "      <td>54.400002</td>\n",
       "      <td>54.599998</td>\n",
       "      <td>53.630001</td>\n",
       "      <td>53.790001</td>\n",
       "      <td>48.734653</td>\n",
       "      <td>70337000</td>\n",
       "      <td>QQQ</td>\n",
       "    </tr>\n",
       "    <tr>\n",
       "      <th>4</th>\n",
       "      <td>2011-06-20</td>\n",
       "      <td>53.639999</td>\n",
       "      <td>54.230000</td>\n",
       "      <td>53.639999</td>\n",
       "      <td>54.070000</td>\n",
       "      <td>48.988335</td>\n",
       "      <td>37402900</td>\n",
       "      <td>QQQ</td>\n",
       "    </tr>\n",
       "    <tr>\n",
       "      <th>...</th>\n",
       "      <td>...</td>\n",
       "      <td>...</td>\n",
       "      <td>...</td>\n",
       "      <td>...</td>\n",
       "      <td>...</td>\n",
       "      <td>...</td>\n",
       "      <td>...</td>\n",
       "      <td>...</td>\n",
       "    </tr>\n",
       "    <tr>\n",
       "      <th>2515</th>\n",
       "      <td>2021-06-11</td>\n",
       "      <td>340.359985</td>\n",
       "      <td>341.250000</td>\n",
       "      <td>339.690002</td>\n",
       "      <td>341.239990</td>\n",
       "      <td>341.239990</td>\n",
       "      <td>21193300</td>\n",
       "      <td>QQQ</td>\n",
       "    </tr>\n",
       "    <tr>\n",
       "      <th>2516</th>\n",
       "      <td>2021-06-14</td>\n",
       "      <td>341.679993</td>\n",
       "      <td>344.519989</td>\n",
       "      <td>340.459991</td>\n",
       "      <td>344.510010</td>\n",
       "      <td>344.510010</td>\n",
       "      <td>27827700</td>\n",
       "      <td>QQQ</td>\n",
       "    </tr>\n",
       "    <tr>\n",
       "      <th>2517</th>\n",
       "      <td>2021-06-15</td>\n",
       "      <td>344.149994</td>\n",
       "      <td>344.470001</td>\n",
       "      <td>341.519989</td>\n",
       "      <td>342.260010</td>\n",
       "      <td>342.260010</td>\n",
       "      <td>35963800</td>\n",
       "      <td>QQQ</td>\n",
       "    </tr>\n",
       "    <tr>\n",
       "      <th>2518</th>\n",
       "      <td>2021-06-16</td>\n",
       "      <td>342.739990</td>\n",
       "      <td>343.839996</td>\n",
       "      <td>337.450012</td>\n",
       "      <td>341.010010</td>\n",
       "      <td>341.010010</td>\n",
       "      <td>55128400</td>\n",
       "      <td>QQQ</td>\n",
       "    </tr>\n",
       "    <tr>\n",
       "      <th>2519</th>\n",
       "      <td>2021-06-17</td>\n",
       "      <td>339.970001</td>\n",
       "      <td>346.380005</td>\n",
       "      <td>339.940002</td>\n",
       "      <td>345.339996</td>\n",
       "      <td>345.339996</td>\n",
       "      <td>59722700</td>\n",
       "      <td>QQQ</td>\n",
       "    </tr>\n",
       "  </tbody>\n",
       "</table>\n",
       "<p>2520 rows × 8 columns</p>\n",
       "</div>"
      ],
      "text/plain": [
       "           Date        Open        High         Low       Close   Adj Close  \\\n",
       "0    2011-06-14   55.060001   55.470001   55.029999   55.340000   50.026806   \n",
       "1    2011-06-15   54.810001   55.150002   54.180000   54.290001   49.077614   \n",
       "2    2011-06-16   54.320000   54.500000   53.619999   54.080002   48.887772   \n",
       "3    2011-06-17   54.400002   54.599998   53.630001   53.790001   48.734653   \n",
       "4    2011-06-20   53.639999   54.230000   53.639999   54.070000   48.988335   \n",
       "...         ...         ...         ...         ...         ...         ...   \n",
       "2515 2021-06-11  340.359985  341.250000  339.690002  341.239990  341.239990   \n",
       "2516 2021-06-14  341.679993  344.519989  340.459991  344.510010  344.510010   \n",
       "2517 2021-06-15  344.149994  344.470001  341.519989  342.260010  342.260010   \n",
       "2518 2021-06-16  342.739990  343.839996  337.450012  341.010010  341.010010   \n",
       "2519 2021-06-17  339.970001  346.380005  339.940002  345.339996  345.339996   \n",
       "\n",
       "        Volume Ticker  \n",
       "0     40565300    QQQ  \n",
       "1     59022400    QQQ  \n",
       "2     66316200    QQQ  \n",
       "3     70337000    QQQ  \n",
       "4     37402900    QQQ  \n",
       "...        ...    ...  \n",
       "2515  21193300    QQQ  \n",
       "2516  27827700    QQQ  \n",
       "2517  35963800    QQQ  \n",
       "2518  55128400    QQQ  \n",
       "2519  59722700    QQQ  \n",
       "\n",
       "[2520 rows x 8 columns]"
      ]
     },
     "execution_count": 82,
     "metadata": {},
     "output_type": "execute_result"
    }
   ],
   "source": [
    "df"
   ]
  },
  {
   "cell_type": "code",
   "execution_count": 88,
   "metadata": {},
   "outputs": [
    {
     "data": {
      "text/plain": [
       "2.080083823051904"
      ]
     },
     "execution_count": 88,
     "metadata": {},
     "output_type": "execute_result"
    }
   ],
   "source": [
    "9**(1/3)"
   ]
  },
  {
   "cell_type": "code",
   "execution_count": 87,
   "metadata": {},
   "outputs": [
    {
     "data": {
      "text/plain": [
       "0.6903099030547742"
      ]
     },
     "execution_count": 87,
     "metadata": {},
     "output_type": "execute_result"
    }
   ],
   "source": [
    "(345.339996/50.026806)*(1/10)"
   ]
  },
  {
   "cell_type": "code",
   "execution_count": 33,
   "metadata": {},
   "outputs": [
    {
     "data": {
      "text/plain": [
       "0.3189766587086005"
      ]
     },
     "execution_count": 33,
     "metadata": {},
     "output_type": "execute_result"
    }
   ],
   "source": [
    "338.649994/256.752075-1"
   ]
  },
  {
   "cell_type": "code",
   "execution_count": 76,
   "metadata": {},
   "outputs": [
    {
     "data": {
      "text/html": [
       "<div>\n",
       "<style scoped>\n",
       "    .dataframe tbody tr th:only-of-type {\n",
       "        vertical-align: middle;\n",
       "    }\n",
       "\n",
       "    .dataframe tbody tr th {\n",
       "        vertical-align: top;\n",
       "    }\n",
       "\n",
       "    .dataframe thead th {\n",
       "        text-align: right;\n",
       "    }\n",
       "</style>\n",
       "<table border=\"1\" class=\"dataframe\">\n",
       "  <thead>\n",
       "    <tr style=\"text-align: right;\">\n",
       "      <th></th>\n",
       "      <th>代码</th>\n",
       "      <th>名称</th>\n",
       "      <th>标的</th>\n",
       "      <th>过去5年夏普比率（筛选大于等于0.6）</th>\n",
       "      <th>20210617资产规模（亿）</th>\n",
       "      <th>综合打分</th>\n",
       "      <th>1yr_年化</th>\n",
       "      <th>3yr_年化</th>\n",
       "      <th>5yr_年化</th>\n",
       "      <th>10yr_年化</th>\n",
       "    </tr>\n",
       "  </thead>\n",
       "  <tbody>\n",
       "    <tr>\n",
       "      <th>0</th>\n",
       "      <td>SPY</td>\n",
       "      <td>SPDR标普500 ETF</td>\n",
       "      <td>S&amp;P 500指数</td>\n",
       "      <td>0.951612</td>\n",
       "      <td>3636.81</td>\n",
       "      <td>3460.830440</td>\n",
       "      <td>0.375127</td>\n",
       "      <td>0.201802</td>\n",
       "      <td>0.245252</td>\n",
       "      <td>0.297738</td>\n",
       "    </tr>\n",
       "    <tr>\n",
       "      <th>1</th>\n",
       "      <td>IVV</td>\n",
       "      <td>iShares标普500 ETF</td>\n",
       "      <td>S&amp;P 500指数</td>\n",
       "      <td>0.940152</td>\n",
       "      <td>2828.67</td>\n",
       "      <td>2659.380460</td>\n",
       "      <td>0.376402</td>\n",
       "      <td>0.202773</td>\n",
       "      <td>0.246533</td>\n",
       "      <td>0.297839</td>\n",
       "    </tr>\n",
       "    <tr>\n",
       "      <th>2</th>\n",
       "      <td>VTI</td>\n",
       "      <td>Vanguard美国全股市ETF</td>\n",
       "      <td>CRSP美国总市场指数</td>\n",
       "      <td>0.952268</td>\n",
       "      <td>2475.98</td>\n",
       "      <td>2357.797230</td>\n",
       "      <td>0.411745</td>\n",
       "      <td>0.203408</td>\n",
       "      <td>0.251697</td>\n",
       "      <td>0.297966</td>\n",
       "    </tr>\n",
       "    <tr>\n",
       "      <th>3</th>\n",
       "      <td>VOO</td>\n",
       "      <td>Vanguard标普500指数ETF</td>\n",
       "      <td>S&amp;P 500指数</td>\n",
       "      <td>0.941861</td>\n",
       "      <td>2292.44</td>\n",
       "      <td>2159.160087</td>\n",
       "      <td>0.376674</td>\n",
       "      <td>0.202928</td>\n",
       "      <td>0.246853</td>\n",
       "      <td>0.298734</td>\n",
       "    </tr>\n",
       "    <tr>\n",
       "      <th>4</th>\n",
       "      <td>QQQ</td>\n",
       "      <td>纳指100ETF</td>\n",
       "      <td>NASDAQ100指数</td>\n",
       "      <td>1.187309</td>\n",
       "      <td>1637.20</td>\n",
       "      <td>1943.861804</td>\n",
       "      <td>0.420523</td>\n",
       "      <td>0.33191</td>\n",
       "      <td>0.46587</td>\n",
       "      <td>0.59031</td>\n",
       "    </tr>\n",
       "    <tr>\n",
       "      <th>5</th>\n",
       "      <td>VUG</td>\n",
       "      <td>成长股指数ETF-Vanguard MSCI</td>\n",
       "      <td>CRSP美国大盘成长指数</td>\n",
       "      <td>1.075664</td>\n",
       "      <td>796.82</td>\n",
       "      <td>857.110799</td>\n",
       "      <td>0.398653</td>\n",
       "      <td>0.288623</td>\n",
       "      <td>0.350539</td>\n",
       "      <td>0.402402</td>\n",
       "    </tr>\n",
       "    <tr>\n",
       "      <th>6</th>\n",
       "      <td>VEA</td>\n",
       "      <td>Vanguard富时发达市场ETF</td>\n",
       "      <td>新华富时发展全市值（美国除外）指数净TR美国RIC</td>\n",
       "      <td>0.704702</td>\n",
       "      <td>1034.35</td>\n",
       "      <td>728.908224</td>\n",
       "      <td>0.37177</td>\n",
       "      <td>0.099547</td>\n",
       "      <td>0.144998</td>\n",
       "      <td>0.090599</td>\n",
       "    </tr>\n",
       "    <tr>\n",
       "      <th>7</th>\n",
       "      <td>IEFA</td>\n",
       "      <td>iShares 核心MSCI欧澳远东 ETF</td>\n",
       "      <td>MSCI欧澳远东可投资市场指数</td>\n",
       "      <td>0.696028</td>\n",
       "      <td>986.06</td>\n",
       "      <td>686.325692</td>\n",
       "      <td>0.348056</td>\n",
       "      <td>0.093225</td>\n",
       "      <td>0.141308</td>\n",
       "      <td>0.102516</td>\n",
       "    </tr>\n",
       "    <tr>\n",
       "      <th>8</th>\n",
       "      <td>VTV</td>\n",
       "      <td>Vanguard价值股指数ETF</td>\n",
       "      <td>CRSP美国大盘股价值指数</td>\n",
       "      <td>0.766311</td>\n",
       "      <td>842.02</td>\n",
       "      <td>645.249274</td>\n",
       "      <td>0.378055</td>\n",
       "      <td>0.134789</td>\n",
       "      <td>0.172154</td>\n",
       "      <td>0.221992</td>\n",
       "    </tr>\n",
       "    <tr>\n",
       "      <th>9</th>\n",
       "      <td>AGG</td>\n",
       "      <td>iShares美国债券综合指数ETF</td>\n",
       "      <td>彭博巴克莱美国综合债券指数</td>\n",
       "      <td>0.663900</td>\n",
       "      <td>879.51</td>\n",
       "      <td>583.906325</td>\n",
       "      <td>-0.00468642</td>\n",
       "      <td>0.0568448</td>\n",
       "      <td>0.0325135</td>\n",
       "      <td>0.0381222</td>\n",
       "    </tr>\n",
       "    <tr>\n",
       "      <th>10</th>\n",
       "      <td>IEMG</td>\n",
       "      <td>iShares 核心MSCI新兴市场 ETF</td>\n",
       "      <td>MSCI新兴市场可投资市场指数</td>\n",
       "      <td>0.685652</td>\n",
       "      <td>838.39</td>\n",
       "      <td>574.843474</td>\n",
       "      <td>0.421985</td>\n",
       "      <td>0.111902</td>\n",
       "      <td>0.175024</td>\n",
       "      <td>0.0683633</td>\n",
       "    </tr>\n",
       "    <tr>\n",
       "      <th>11</th>\n",
       "      <td>VWO</td>\n",
       "      <td>新兴市场ETF-Vanguard MSCI</td>\n",
       "      <td>新华富时新兴市场中国A股包容性指数净TR美国RIC</td>\n",
       "      <td>0.673046</td>\n",
       "      <td>845.07</td>\n",
       "      <td>568.770662</td>\n",
       "      <td>0.390149</td>\n",
       "      <td>0.114506</td>\n",
       "      <td>0.163948</td>\n",
       "      <td>0.0474491</td>\n",
       "    </tr>\n",
       "    <tr>\n",
       "      <th>12</th>\n",
       "      <td>IJR</td>\n",
       "      <td>标普小型股600指数ETF-iShares</td>\n",
       "      <td>标普600小盘股指数</td>\n",
       "      <td>0.741042</td>\n",
       "      <td>719.87</td>\n",
       "      <td>533.453854</td>\n",
       "      <td>0.666588</td>\n",
       "      <td>0.121306</td>\n",
       "      <td>0.216623</td>\n",
       "      <td>0.266046</td>\n",
       "    </tr>\n",
       "    <tr>\n",
       "      <th>13</th>\n",
       "      <td>BND</td>\n",
       "      <td>Vanguard美国全债市ETF</td>\n",
       "      <td>彭博巴克莱美国总体浮动经调整指数</td>\n",
       "      <td>0.643948</td>\n",
       "      <td>773.57</td>\n",
       "      <td>498.138734</td>\n",
       "      <td>-0.00455051</td>\n",
       "      <td>0.0573335</td>\n",
       "      <td>0.0339173</td>\n",
       "      <td>0.038016</td>\n",
       "    </tr>\n",
       "    <tr>\n",
       "      <th>14</th>\n",
       "      <td>BNDX</td>\n",
       "      <td>Vanguard国际全债市指数ETF</td>\n",
       "      <td>彭博巴克莱全球总量非美元浮动调整RIC上限指数</td>\n",
       "      <td>0.952360</td>\n",
       "      <td>425.30</td>\n",
       "      <td>405.038712</td>\n",
       "      <td>0.000712504</td>\n",
       "      <td>0.0425516</td>\n",
       "      <td>0.0318816</td>\n",
       "      <td>0.0331437</td>\n",
       "    </tr>\n",
       "    <tr>\n",
       "      <th>15</th>\n",
       "      <td>BSV</td>\n",
       "      <td>Vanguard美国短期国债ETF</td>\n",
       "      <td>彭博巴克莱美国1-5年政府/信贷浮动调整指数</td>\n",
       "      <td>1.102941</td>\n",
       "      <td>342.93</td>\n",
       "      <td>378.231511</td>\n",
       "      <td>0.0043788</td>\n",
       "      <td>0.0384157</td>\n",
       "      <td>0.022462</td>\n",
       "      <td>0.0198906</td>\n",
       "    </tr>\n",
       "    <tr>\n",
       "      <th>16</th>\n",
       "      <td>VCIT</td>\n",
       "      <td>Vanguard中期公司债指数ETF</td>\n",
       "      <td>彭博巴克莱美国5-10年企业债券指数</td>\n",
       "      <td>0.792332</td>\n",
       "      <td>463.97</td>\n",
       "      <td>367.618490</td>\n",
       "      <td>0.0199664</td>\n",
       "      <td>0.0823525</td>\n",
       "      <td>0.0510893</td>\n",
       "      <td>0.0643143</td>\n",
       "    </tr>\n",
       "    <tr>\n",
       "      <th>17</th>\n",
       "      <td>VXUS</td>\n",
       "      <td>领航 国际股票 ETF</td>\n",
       "      <td>新华富时全球全市值（美国除外）</td>\n",
       "      <td>0.707660</td>\n",
       "      <td>494.94</td>\n",
       "      <td>350.249165</td>\n",
       "      <td>0.373435</td>\n",
       "      <td>0.100745</td>\n",
       "      <td>0.147964</td>\n",
       "      <td>0.0770972</td>\n",
       "    </tr>\n",
       "    <tr>\n",
       "      <th>18</th>\n",
       "      <td>VCSH</td>\n",
       "      <td>Vanguard短期公司债指数ETF</td>\n",
       "      <td>彭博巴克莱美国1-5年公司债券指数</td>\n",
       "      <td>0.801381</td>\n",
       "      <td>399.22</td>\n",
       "      <td>319.927509</td>\n",
       "      <td>0.0208876</td>\n",
       "      <td>0.047369</td>\n",
       "      <td>0.0315364</td>\n",
       "      <td>0.0320065</td>\n",
       "    </tr>\n",
       "    <tr>\n",
       "      <th>19</th>\n",
       "      <td>ARKK</td>\n",
       "      <td>ARK Innovation ETF</td>\n",
       "      <td>方舟基金科技创新ETF</td>\n",
       "      <td>1.276933</td>\n",
       "      <td>218.41</td>\n",
       "      <td>278.894930</td>\n",
       "      <td>0.780215</td>\n",
       "      <td>0.535524</td>\n",
       "      <td>1.10109</td>\n",
       "      <td>0.533758</td>\n",
       "    </tr>\n",
       "  </tbody>\n",
       "</table>\n",
       "</div>"
      ],
      "text/plain": [
       "      代码                      名称                         标的  \\\n",
       "0    SPY           SPDR标普500 ETF                  S&P 500指数   \n",
       "1    IVV        iShares标普500 ETF                  S&P 500指数   \n",
       "2    VTI        Vanguard美国全股市ETF                CRSP美国总市场指数   \n",
       "3    VOO      Vanguard标普500指数ETF                  S&P 500指数   \n",
       "4    QQQ                纳指100ETF                NASDAQ100指数   \n",
       "5    VUG  成长股指数ETF-Vanguard MSCI               CRSP美国大盘成长指数   \n",
       "6    VEA       Vanguard富时发达市场ETF  新华富时发展全市值（美国除外）指数净TR美国RIC   \n",
       "7   IEFA  iShares 核心MSCI欧澳远东 ETF            MSCI欧澳远东可投资市场指数   \n",
       "8    VTV        Vanguard价值股指数ETF              CRSP美国大盘股价值指数   \n",
       "9    AGG      iShares美国债券综合指数ETF              彭博巴克莱美国综合债券指数   \n",
       "10  IEMG  iShares 核心MSCI新兴市场 ETF            MSCI新兴市场可投资市场指数   \n",
       "11   VWO   新兴市场ETF-Vanguard MSCI  新华富时新兴市场中国A股包容性指数净TR美国RIC   \n",
       "12   IJR   标普小型股600指数ETF-iShares                 标普600小盘股指数   \n",
       "13   BND        Vanguard美国全债市ETF           彭博巴克莱美国总体浮动经调整指数   \n",
       "14  BNDX      Vanguard国际全债市指数ETF    彭博巴克莱全球总量非美元浮动调整RIC上限指数   \n",
       "15   BSV       Vanguard美国短期国债ETF     彭博巴克莱美国1-5年政府/信贷浮动调整指数   \n",
       "16  VCIT      Vanguard中期公司债指数ETF         彭博巴克莱美国5-10年企业债券指数   \n",
       "17  VXUS             领航 国际股票 ETF            新华富时全球全市值（美国除外）   \n",
       "18  VCSH      Vanguard短期公司债指数ETF          彭博巴克莱美国1-5年公司债券指数   \n",
       "19  ARKK      ARK Innovation ETF                方舟基金科技创新ETF   \n",
       "\n",
       "    过去5年夏普比率（筛选大于等于0.6）  20210617资产规模（亿）         综合打分       1yr_年化     3yr_年化  \\\n",
       "0              0.951612          3636.81  3460.830440     0.375127   0.201802   \n",
       "1              0.940152          2828.67  2659.380460     0.376402   0.202773   \n",
       "2              0.952268          2475.98  2357.797230     0.411745   0.203408   \n",
       "3              0.941861          2292.44  2159.160087     0.376674   0.202928   \n",
       "4              1.187309          1637.20  1943.861804     0.420523    0.33191   \n",
       "5              1.075664           796.82   857.110799     0.398653   0.288623   \n",
       "6              0.704702          1034.35   728.908224      0.37177   0.099547   \n",
       "7              0.696028           986.06   686.325692     0.348056   0.093225   \n",
       "8              0.766311           842.02   645.249274     0.378055   0.134789   \n",
       "9              0.663900           879.51   583.906325  -0.00468642  0.0568448   \n",
       "10             0.685652           838.39   574.843474     0.421985   0.111902   \n",
       "11             0.673046           845.07   568.770662     0.390149   0.114506   \n",
       "12             0.741042           719.87   533.453854     0.666588   0.121306   \n",
       "13             0.643948           773.57   498.138734  -0.00455051  0.0573335   \n",
       "14             0.952360           425.30   405.038712  0.000712504  0.0425516   \n",
       "15             1.102941           342.93   378.231511    0.0043788  0.0384157   \n",
       "16             0.792332           463.97   367.618490    0.0199664  0.0823525   \n",
       "17             0.707660           494.94   350.249165     0.373435   0.100745   \n",
       "18             0.801381           399.22   319.927509    0.0208876   0.047369   \n",
       "19             1.276933           218.41   278.894930     0.780215   0.535524   \n",
       "\n",
       "       5yr_年化    10yr_年化  \n",
       "0    0.245252   0.297738  \n",
       "1    0.246533   0.297839  \n",
       "2    0.251697   0.297966  \n",
       "3    0.246853   0.298734  \n",
       "4     0.46587    0.59031  \n",
       "5    0.350539   0.402402  \n",
       "6    0.144998   0.090599  \n",
       "7    0.141308   0.102516  \n",
       "8    0.172154   0.221992  \n",
       "9   0.0325135  0.0381222  \n",
       "10   0.175024  0.0683633  \n",
       "11   0.163948  0.0474491  \n",
       "12   0.216623   0.266046  \n",
       "13  0.0339173   0.038016  \n",
       "14  0.0318816  0.0331437  \n",
       "15   0.022462  0.0198906  \n",
       "16  0.0510893  0.0643143  \n",
       "17   0.147964  0.0770972  \n",
       "18  0.0315364  0.0320065  \n",
       "19    1.10109   0.533758  "
      ]
     },
     "execution_count": 76,
     "metadata": {},
     "output_type": "execute_result"
    }
   ],
   "source": [
    "data"
   ]
  },
  {
   "cell_type": "code",
   "execution_count": 113,
   "metadata": {},
   "outputs": [
    {
     "data": {
      "text/plain": [
       "756"
      ]
     },
     "execution_count": 113,
     "metadata": {},
     "output_type": "execute_result"
    }
   ],
   "source": [
    "3*252"
   ]
  },
  {
   "cell_type": "code",
   "execution_count": 117,
   "metadata": {},
   "outputs": [],
   "source": [
    "# 不断定义/改变年份\n",
    "\n",
    "def read_data_from_yf_D(tickers_list):\n",
    "    load_count = 1\n",
    "    data_list = []\n",
    "    len_tickers = len(tickers_list)\n",
    "    for ticker in tickers_list:\n",
    "        if load_count%100==0:\n",
    "            print(\"=======================Sleeping======================\")\n",
    "            time.sleep(30)\n",
    "        else:\n",
    "            print(\"Loading from YahooFinance: No.{} / {}: {}\".format(load_count, len_tickers, ticker))\n",
    "            data = yf.download(\n",
    "                    tickers=[ticker],\n",
    "                    # use \"period\" instead of start/end\n",
    "                    # valid periods: 1d,5d,1mo,3mo,6mo,1y,2y,5y,10y,ytd,max\n",
    "                    # (optional, default is '1mo')\n",
    "                    period=\"252d\",\n",
    "                    # fetch data by interval (including intraday if period < 60 days)\n",
    "                    # valid intervals: 1m,2m,5m,15m,30m,60m,90m,1h,1d,5d,1wk,1mo,3mo\n",
    "                    # (optional, default is '1d')\n",
    "                    interval=\"1d\")\n",
    "            data.dropna(inplace = True)\n",
    "            data.reset_index(inplace = True)\n",
    "            data[\"Ticker\"] = ticker\n",
    "            data_list.append(data)\n",
    "        load_count+=1\n",
    "    print(\"All Data Loaded\")\n",
    "    return data_list"
   ]
  },
  {
   "cell_type": "code",
   "execution_count": 118,
   "metadata": {},
   "outputs": [],
   "source": [
    "def annualized_return(df, price_col, yrs):\n",
    "    total_returns = df[price_col].values[-1]/df[price_col].values[0]\n",
    "#     print(total_returns)\n",
    "    annualized_returns = total_returns**(1/yrs)-1\n",
    "#     print(annualized_returns)\n",
    "    return annualized_returns"
   ]
  },
  {
   "cell_type": "code",
   "execution_count": 106,
   "metadata": {},
   "outputs": [
    {
     "name": "stdout",
     "output_type": "stream",
     "text": [
      "Loading from YahooFinance: No.1 / 1: QQQ\n",
      "[*********************100%***********************]  1 of 1 completed\n",
      "All Data Loaded\n",
      "0.2131218094425451\n"
     ]
    }
   ],
   "source": [
    "# 测试年化代码\n",
    "sample = read_data_from_yf_D([\"QQQ\"])\n",
    "df = sample[0]\n",
    "annualized_ret = annualized_return(df, \"Adj Close\", 10)\n",
    "print(annualized_ret)"
   ]
  },
  {
   "cell_type": "code",
   "execution_count": 119,
   "metadata": {},
   "outputs": [
    {
     "name": "stdout",
     "output_type": "stream",
     "text": [
      "Loading from YahooFinance: No.1 / 1: SPY\n",
      "[*********************100%***********************]  1 of 1 completed\n",
      "All Data Loaded\n",
      "Done: SPY\n",
      "Loading from YahooFinance: No.1 / 1: IVV\n"
     ]
    },
    {
     "name": "stderr",
     "output_type": "stream",
     "text": [
      "<ipython-input-119-ba460dbd1835>:7: SettingWithCopyWarning: \n",
      "A value is trying to be set on a copy of a slice from a DataFrame\n",
      "\n",
      "See the caveats in the documentation: https://pandas.pydata.org/pandas-docs/stable/user_guide/indexing.html#returning-a-view-versus-a-copy\n",
      "  data['1yr_年化'][i] = annualized_ret\n"
     ]
    },
    {
     "name": "stdout",
     "output_type": "stream",
     "text": [
      "[*********************100%***********************]  1 of 1 completed\n",
      "All Data Loaded\n",
      "Done: IVV\n",
      "Loading from YahooFinance: No.1 / 1: VTI\n"
     ]
    },
    {
     "name": "stderr",
     "output_type": "stream",
     "text": [
      "<ipython-input-119-ba460dbd1835>:7: SettingWithCopyWarning: \n",
      "A value is trying to be set on a copy of a slice from a DataFrame\n",
      "\n",
      "See the caveats in the documentation: https://pandas.pydata.org/pandas-docs/stable/user_guide/indexing.html#returning-a-view-versus-a-copy\n",
      "  data['1yr_年化'][i] = annualized_ret\n"
     ]
    },
    {
     "name": "stdout",
     "output_type": "stream",
     "text": [
      "[*********************100%***********************]  1 of 1 completed\n",
      "All Data Loaded\n",
      "Done: VTI\n",
      "Loading from YahooFinance: No.1 / 1: VOO\n"
     ]
    },
    {
     "name": "stderr",
     "output_type": "stream",
     "text": [
      "<ipython-input-119-ba460dbd1835>:7: SettingWithCopyWarning: \n",
      "A value is trying to be set on a copy of a slice from a DataFrame\n",
      "\n",
      "See the caveats in the documentation: https://pandas.pydata.org/pandas-docs/stable/user_guide/indexing.html#returning-a-view-versus-a-copy\n",
      "  data['1yr_年化'][i] = annualized_ret\n"
     ]
    },
    {
     "name": "stdout",
     "output_type": "stream",
     "text": [
      "[*********************100%***********************]  1 of 1 completed\n",
      "All Data Loaded\n",
      "Done: VOO\n",
      "Loading from YahooFinance: No.1 / 1: QQQ\n"
     ]
    },
    {
     "name": "stderr",
     "output_type": "stream",
     "text": [
      "<ipython-input-119-ba460dbd1835>:7: SettingWithCopyWarning: \n",
      "A value is trying to be set on a copy of a slice from a DataFrame\n",
      "\n",
      "See the caveats in the documentation: https://pandas.pydata.org/pandas-docs/stable/user_guide/indexing.html#returning-a-view-versus-a-copy\n",
      "  data['1yr_年化'][i] = annualized_ret\n"
     ]
    },
    {
     "name": "stdout",
     "output_type": "stream",
     "text": [
      "[*********************100%***********************]  1 of 1 completed\n",
      "All Data Loaded\n",
      "Done: QQQ\n",
      "Loading from YahooFinance: No.1 / 1: VUG\n"
     ]
    },
    {
     "name": "stderr",
     "output_type": "stream",
     "text": [
      "<ipython-input-119-ba460dbd1835>:7: SettingWithCopyWarning: \n",
      "A value is trying to be set on a copy of a slice from a DataFrame\n",
      "\n",
      "See the caveats in the documentation: https://pandas.pydata.org/pandas-docs/stable/user_guide/indexing.html#returning-a-view-versus-a-copy\n",
      "  data['1yr_年化'][i] = annualized_ret\n"
     ]
    },
    {
     "name": "stdout",
     "output_type": "stream",
     "text": [
      "[*********************100%***********************]  1 of 1 completed\n",
      "All Data Loaded\n",
      "Done: VUG\n",
      "Loading from YahooFinance: No.1 / 1: VEA\n"
     ]
    },
    {
     "name": "stderr",
     "output_type": "stream",
     "text": [
      "<ipython-input-119-ba460dbd1835>:7: SettingWithCopyWarning: \n",
      "A value is trying to be set on a copy of a slice from a DataFrame\n",
      "\n",
      "See the caveats in the documentation: https://pandas.pydata.org/pandas-docs/stable/user_guide/indexing.html#returning-a-view-versus-a-copy\n",
      "  data['1yr_年化'][i] = annualized_ret\n"
     ]
    },
    {
     "name": "stdout",
     "output_type": "stream",
     "text": [
      "[*********************100%***********************]  1 of 1 completed\n",
      "All Data Loaded\n",
      "Done: VEA\n",
      "Loading from YahooFinance: No.1 / 1: IEFA\n"
     ]
    },
    {
     "name": "stderr",
     "output_type": "stream",
     "text": [
      "<ipython-input-119-ba460dbd1835>:7: SettingWithCopyWarning: \n",
      "A value is trying to be set on a copy of a slice from a DataFrame\n",
      "\n",
      "See the caveats in the documentation: https://pandas.pydata.org/pandas-docs/stable/user_guide/indexing.html#returning-a-view-versus-a-copy\n",
      "  data['1yr_年化'][i] = annualized_ret\n"
     ]
    },
    {
     "name": "stdout",
     "output_type": "stream",
     "text": [
      "[*********************100%***********************]  1 of 1 completed\n",
      "All Data Loaded\n",
      "Done: IEFA\n",
      "Loading from YahooFinance: No.1 / 1: VTV\n"
     ]
    },
    {
     "name": "stderr",
     "output_type": "stream",
     "text": [
      "<ipython-input-119-ba460dbd1835>:7: SettingWithCopyWarning: \n",
      "A value is trying to be set on a copy of a slice from a DataFrame\n",
      "\n",
      "See the caveats in the documentation: https://pandas.pydata.org/pandas-docs/stable/user_guide/indexing.html#returning-a-view-versus-a-copy\n",
      "  data['1yr_年化'][i] = annualized_ret\n"
     ]
    },
    {
     "name": "stdout",
     "output_type": "stream",
     "text": [
      "[*********************100%***********************]  1 of 1 completed\n",
      "All Data Loaded\n",
      "Done: VTV\n",
      "Loading from YahooFinance: No.1 / 1: AGG\n"
     ]
    },
    {
     "name": "stderr",
     "output_type": "stream",
     "text": [
      "<ipython-input-119-ba460dbd1835>:7: SettingWithCopyWarning: \n",
      "A value is trying to be set on a copy of a slice from a DataFrame\n",
      "\n",
      "See the caveats in the documentation: https://pandas.pydata.org/pandas-docs/stable/user_guide/indexing.html#returning-a-view-versus-a-copy\n",
      "  data['1yr_年化'][i] = annualized_ret\n"
     ]
    },
    {
     "name": "stdout",
     "output_type": "stream",
     "text": [
      "[*********************100%***********************]  1 of 1 completed\n",
      "All Data Loaded\n",
      "Done: AGG\n",
      "Loading from YahooFinance: No.1 / 1: IEMG\n"
     ]
    },
    {
     "name": "stderr",
     "output_type": "stream",
     "text": [
      "<ipython-input-119-ba460dbd1835>:7: SettingWithCopyWarning: \n",
      "A value is trying to be set on a copy of a slice from a DataFrame\n",
      "\n",
      "See the caveats in the documentation: https://pandas.pydata.org/pandas-docs/stable/user_guide/indexing.html#returning-a-view-versus-a-copy\n",
      "  data['1yr_年化'][i] = annualized_ret\n"
     ]
    },
    {
     "name": "stdout",
     "output_type": "stream",
     "text": [
      "[*********************100%***********************]  1 of 1 completed\n",
      "All Data Loaded\n",
      "Done: IEMG\n",
      "Loading from YahooFinance: No.1 / 1: VWO\n"
     ]
    },
    {
     "name": "stderr",
     "output_type": "stream",
     "text": [
      "<ipython-input-119-ba460dbd1835>:7: SettingWithCopyWarning: \n",
      "A value is trying to be set on a copy of a slice from a DataFrame\n",
      "\n",
      "See the caveats in the documentation: https://pandas.pydata.org/pandas-docs/stable/user_guide/indexing.html#returning-a-view-versus-a-copy\n",
      "  data['1yr_年化'][i] = annualized_ret\n"
     ]
    },
    {
     "name": "stdout",
     "output_type": "stream",
     "text": [
      "[*********************100%***********************]  1 of 1 completed\n",
      "All Data Loaded\n",
      "Done: VWO\n",
      "Loading from YahooFinance: No.1 / 1: IJR\n"
     ]
    },
    {
     "name": "stderr",
     "output_type": "stream",
     "text": [
      "<ipython-input-119-ba460dbd1835>:7: SettingWithCopyWarning: \n",
      "A value is trying to be set on a copy of a slice from a DataFrame\n",
      "\n",
      "See the caveats in the documentation: https://pandas.pydata.org/pandas-docs/stable/user_guide/indexing.html#returning-a-view-versus-a-copy\n",
      "  data['1yr_年化'][i] = annualized_ret\n"
     ]
    },
    {
     "name": "stdout",
     "output_type": "stream",
     "text": [
      "[*********************100%***********************]  1 of 1 completed\n",
      "All Data Loaded\n",
      "Done: IJR\n",
      "Loading from YahooFinance: No.1 / 1: BND\n"
     ]
    },
    {
     "name": "stderr",
     "output_type": "stream",
     "text": [
      "<ipython-input-119-ba460dbd1835>:7: SettingWithCopyWarning: \n",
      "A value is trying to be set on a copy of a slice from a DataFrame\n",
      "\n",
      "See the caveats in the documentation: https://pandas.pydata.org/pandas-docs/stable/user_guide/indexing.html#returning-a-view-versus-a-copy\n",
      "  data['1yr_年化'][i] = annualized_ret\n"
     ]
    },
    {
     "name": "stdout",
     "output_type": "stream",
     "text": [
      "[*********************100%***********************]  1 of 1 completed\n",
      "All Data Loaded\n",
      "Done: BND\n",
      "Loading from YahooFinance: No.1 / 1: BNDX\n"
     ]
    },
    {
     "name": "stderr",
     "output_type": "stream",
     "text": [
      "<ipython-input-119-ba460dbd1835>:7: SettingWithCopyWarning: \n",
      "A value is trying to be set on a copy of a slice from a DataFrame\n",
      "\n",
      "See the caveats in the documentation: https://pandas.pydata.org/pandas-docs/stable/user_guide/indexing.html#returning-a-view-versus-a-copy\n",
      "  data['1yr_年化'][i] = annualized_ret\n"
     ]
    },
    {
     "name": "stdout",
     "output_type": "stream",
     "text": [
      "[*********************100%***********************]  1 of 1 completed\n",
      "All Data Loaded\n",
      "Done: BNDX\n",
      "Loading from YahooFinance: No.1 / 1: BSV\n"
     ]
    },
    {
     "name": "stderr",
     "output_type": "stream",
     "text": [
      "<ipython-input-119-ba460dbd1835>:7: SettingWithCopyWarning: \n",
      "A value is trying to be set on a copy of a slice from a DataFrame\n",
      "\n",
      "See the caveats in the documentation: https://pandas.pydata.org/pandas-docs/stable/user_guide/indexing.html#returning-a-view-versus-a-copy\n",
      "  data['1yr_年化'][i] = annualized_ret\n"
     ]
    },
    {
     "name": "stdout",
     "output_type": "stream",
     "text": [
      "[*********************100%***********************]  1 of 1 completed\n",
      "All Data Loaded\n",
      "Done: BSV\n",
      "Loading from YahooFinance: No.1 / 1: VCIT\n"
     ]
    },
    {
     "name": "stderr",
     "output_type": "stream",
     "text": [
      "<ipython-input-119-ba460dbd1835>:7: SettingWithCopyWarning: \n",
      "A value is trying to be set on a copy of a slice from a DataFrame\n",
      "\n",
      "See the caveats in the documentation: https://pandas.pydata.org/pandas-docs/stable/user_guide/indexing.html#returning-a-view-versus-a-copy\n",
      "  data['1yr_年化'][i] = annualized_ret\n"
     ]
    },
    {
     "name": "stdout",
     "output_type": "stream",
     "text": [
      "[*********************100%***********************]  1 of 1 completed\n",
      "All Data Loaded\n",
      "Done: VCIT\n",
      "Loading from YahooFinance: No.1 / 1: VXUS\n"
     ]
    },
    {
     "name": "stderr",
     "output_type": "stream",
     "text": [
      "<ipython-input-119-ba460dbd1835>:7: SettingWithCopyWarning: \n",
      "A value is trying to be set on a copy of a slice from a DataFrame\n",
      "\n",
      "See the caveats in the documentation: https://pandas.pydata.org/pandas-docs/stable/user_guide/indexing.html#returning-a-view-versus-a-copy\n",
      "  data['1yr_年化'][i] = annualized_ret\n"
     ]
    },
    {
     "name": "stdout",
     "output_type": "stream",
     "text": [
      "[*********************100%***********************]  1 of 1 completed\n",
      "All Data Loaded\n",
      "Done: VXUS\n",
      "Loading from YahooFinance: No.1 / 1: VCSH\n"
     ]
    },
    {
     "name": "stderr",
     "output_type": "stream",
     "text": [
      "<ipython-input-119-ba460dbd1835>:7: SettingWithCopyWarning: \n",
      "A value is trying to be set on a copy of a slice from a DataFrame\n",
      "\n",
      "See the caveats in the documentation: https://pandas.pydata.org/pandas-docs/stable/user_guide/indexing.html#returning-a-view-versus-a-copy\n",
      "  data['1yr_年化'][i] = annualized_ret\n"
     ]
    },
    {
     "name": "stdout",
     "output_type": "stream",
     "text": [
      "[*********************100%***********************]  1 of 1 completed\n",
      "All Data Loaded\n",
      "Done: VCSH\n",
      "Loading from YahooFinance: No.1 / 1: ARKK\n"
     ]
    },
    {
     "name": "stderr",
     "output_type": "stream",
     "text": [
      "<ipython-input-119-ba460dbd1835>:7: SettingWithCopyWarning: \n",
      "A value is trying to be set on a copy of a slice from a DataFrame\n",
      "\n",
      "See the caveats in the documentation: https://pandas.pydata.org/pandas-docs/stable/user_guide/indexing.html#returning-a-view-versus-a-copy\n",
      "  data['1yr_年化'][i] = annualized_ret\n"
     ]
    },
    {
     "name": "stdout",
     "output_type": "stream",
     "text": [
      "[*********************100%***********************]  1 of 1 completed\n",
      "All Data Loaded\n",
      "Done: ARKK\n"
     ]
    },
    {
     "name": "stderr",
     "output_type": "stream",
     "text": [
      "<ipython-input-119-ba460dbd1835>:7: SettingWithCopyWarning: \n",
      "A value is trying to be set on a copy of a slice from a DataFrame\n",
      "\n",
      "See the caveats in the documentation: https://pandas.pydata.org/pandas-docs/stable/user_guide/indexing.html#returning-a-view-versus-a-copy\n",
      "  data['1yr_年化'][i] = annualized_ret\n"
     ]
    }
   ],
   "source": [
    "# 计算annualized returns：\n",
    "\n",
    "for i, ticker in enumerate(data['代码']):\n",
    "    sample = read_data_from_yf_D([ticker])\n",
    "    df = sample[0]\n",
    "    annualized_ret = annualized_return(df, \"Adj Close\", 1)\n",
    "    data['1yr_年化'][i] = annualized_ret\n",
    "    print(\"Done: {}\".format(ticker))"
   ]
  },
  {
   "cell_type": "code",
   "execution_count": 120,
   "metadata": {},
   "outputs": [
    {
     "data": {
      "text/html": [
       "<div>\n",
       "<style scoped>\n",
       "    .dataframe tbody tr th:only-of-type {\n",
       "        vertical-align: middle;\n",
       "    }\n",
       "\n",
       "    .dataframe tbody tr th {\n",
       "        vertical-align: top;\n",
       "    }\n",
       "\n",
       "    .dataframe thead th {\n",
       "        text-align: right;\n",
       "    }\n",
       "</style>\n",
       "<table border=\"1\" class=\"dataframe\">\n",
       "  <thead>\n",
       "    <tr style=\"text-align: right;\">\n",
       "      <th></th>\n",
       "      <th>代码</th>\n",
       "      <th>名称</th>\n",
       "      <th>标的</th>\n",
       "      <th>过去5年夏普比率（筛选大于等于0.6）</th>\n",
       "      <th>20210617资产规模（亿）</th>\n",
       "      <th>综合打分</th>\n",
       "      <th>1yr_年化</th>\n",
       "      <th>3yr_年化</th>\n",
       "      <th>5yr_年化</th>\n",
       "      <th>10yr_年化</th>\n",
       "    </tr>\n",
       "  </thead>\n",
       "  <tbody>\n",
       "    <tr>\n",
       "      <th>0</th>\n",
       "      <td>SPY</td>\n",
       "      <td>SPDR标普500 ETF</td>\n",
       "      <td>S&amp;P 500指数</td>\n",
       "      <td>0.951612</td>\n",
       "      <td>3636.81</td>\n",
       "      <td>3460.830440</td>\n",
       "      <td>0.375127</td>\n",
       "      <td>0.170923</td>\n",
       "      <td>0.173587</td>\n",
       "      <td>0.148047</td>\n",
       "    </tr>\n",
       "    <tr>\n",
       "      <th>1</th>\n",
       "      <td>IVV</td>\n",
       "      <td>iShares标普500 ETF</td>\n",
       "      <td>S&amp;P 500指数</td>\n",
       "      <td>0.940152</td>\n",
       "      <td>2828.67</td>\n",
       "      <td>2659.380460</td>\n",
       "      <td>0.376402</td>\n",
       "      <td>0.171631</td>\n",
       "      <td>0.174261</td>\n",
       "      <td>0.148076</td>\n",
       "    </tr>\n",
       "    <tr>\n",
       "      <th>2</th>\n",
       "      <td>VTI</td>\n",
       "      <td>Vanguard美国全股市ETF</td>\n",
       "      <td>CRSP美国总市场指数</td>\n",
       "      <td>0.952268</td>\n",
       "      <td>2475.98</td>\n",
       "      <td>2357.797230</td>\n",
       "      <td>0.411745</td>\n",
       "      <td>0.172093</td>\n",
       "      <td>0.176965</td>\n",
       "      <td>0.148113</td>\n",
       "    </tr>\n",
       "    <tr>\n",
       "      <th>3</th>\n",
       "      <td>VOO</td>\n",
       "      <td>Vanguard标普500指数ETF</td>\n",
       "      <td>S&amp;P 500指数</td>\n",
       "      <td>0.941861</td>\n",
       "      <td>2292.44</td>\n",
       "      <td>2159.160087</td>\n",
       "      <td>0.376674</td>\n",
       "      <td>0.171743</td>\n",
       "      <td>0.174429</td>\n",
       "      <td>0.148334</td>\n",
       "    </tr>\n",
       "    <tr>\n",
       "      <th>4</th>\n",
       "      <td>QQQ</td>\n",
       "      <td>纳指100ETF</td>\n",
       "      <td>NASDAQ100指数</td>\n",
       "      <td>1.187309</td>\n",
       "      <td>1637.20</td>\n",
       "      <td>1943.861804</td>\n",
       "      <td>0.420523</td>\n",
       "      <td>0.259024</td>\n",
       "      <td>0.271955</td>\n",
       "      <td>0.213122</td>\n",
       "    </tr>\n",
       "    <tr>\n",
       "      <th>5</th>\n",
       "      <td>VUG</td>\n",
       "      <td>成长股指数ETF-Vanguard MSCI</td>\n",
       "      <td>CRSP美国大盘成长指数</td>\n",
       "      <td>1.075664</td>\n",
       "      <td>796.82</td>\n",
       "      <td>857.110799</td>\n",
       "      <td>0.398653</td>\n",
       "      <td>0.231101</td>\n",
       "      <td>0.22448</td>\n",
       "      <td>0.175182</td>\n",
       "    </tr>\n",
       "    <tr>\n",
       "      <th>6</th>\n",
       "      <td>VEA</td>\n",
       "      <td>Vanguard富时发达市场ETF</td>\n",
       "      <td>新华富时发展全市值（美国除外）指数净TR美国RIC</td>\n",
       "      <td>0.704702</td>\n",
       "      <td>1034.35</td>\n",
       "      <td>728.908224</td>\n",
       "      <td>0.37177</td>\n",
       "      <td>0.0910125</td>\n",
       "      <td>0.115212</td>\n",
       "      <td>0.0666257</td>\n",
       "    </tr>\n",
       "    <tr>\n",
       "      <th>7</th>\n",
       "      <td>IEFA</td>\n",
       "      <td>iShares 核心MSCI欧澳远东 ETF</td>\n",
       "      <td>MSCI欧澳远东可投资市场指数</td>\n",
       "      <td>0.696028</td>\n",
       "      <td>986.06</td>\n",
       "      <td>686.325692</td>\n",
       "      <td>0.348056</td>\n",
       "      <td>0.0856752</td>\n",
       "      <td>0.112816</td>\n",
       "      <td>0.073114</td>\n",
       "    </tr>\n",
       "    <tr>\n",
       "      <th>8</th>\n",
       "      <td>VTV</td>\n",
       "      <td>Vanguard价值股指数ETF</td>\n",
       "      <td>CRSP美国大盘股价值指数</td>\n",
       "      <td>0.766311</td>\n",
       "      <td>842.02</td>\n",
       "      <td>645.249274</td>\n",
       "      <td>0.378055</td>\n",
       "      <td>0.119851</td>\n",
       "      <td>0.13224</td>\n",
       "      <td>0.124047</td>\n",
       "    </tr>\n",
       "    <tr>\n",
       "      <th>9</th>\n",
       "      <td>AGG</td>\n",
       "      <td>iShares美国债券综合指数ETF</td>\n",
       "      <td>彭博巴克莱美国综合债券指数</td>\n",
       "      <td>0.663900</td>\n",
       "      <td>879.51</td>\n",
       "      <td>583.906325</td>\n",
       "      <td>-0.00468642</td>\n",
       "      <td>0.0538887</td>\n",
       "      <td>0.0305846</td>\n",
       "      <td>0.032824</td>\n",
       "    </tr>\n",
       "    <tr>\n",
       "      <th>10</th>\n",
       "      <td>IEMG</td>\n",
       "      <td>iShares 核心MSCI新兴市场 ETF</td>\n",
       "      <td>MSCI新兴市场可投资市场指数</td>\n",
       "      <td>0.685652</td>\n",
       "      <td>838.39</td>\n",
       "      <td>574.843474</td>\n",
       "      <td>0.421985</td>\n",
       "      <td>0.101295</td>\n",
       "      <td>0.133981</td>\n",
       "      <td>0.0534762</td>\n",
       "    </tr>\n",
       "    <tr>\n",
       "      <th>11</th>\n",
       "      <td>VWO</td>\n",
       "      <td>新兴市场ETF-Vanguard MSCI</td>\n",
       "      <td>新华富时新兴市场中国A股包容性指数净TR美国RIC</td>\n",
       "      <td>0.673046</td>\n",
       "      <td>845.07</td>\n",
       "      <td>568.770662</td>\n",
       "      <td>0.390149</td>\n",
       "      <td>0.103437</td>\n",
       "      <td>0.127202</td>\n",
       "      <td>0.0395951</td>\n",
       "    </tr>\n",
       "    <tr>\n",
       "      <th>12</th>\n",
       "      <td>IJR</td>\n",
       "      <td>标普小型股600指数ETF-iShares</td>\n",
       "      <td>标普600小盘股指数</td>\n",
       "      <td>0.741042</td>\n",
       "      <td>719.87</td>\n",
       "      <td>533.453854</td>\n",
       "      <td>0.666588</td>\n",
       "      <td>0.108995</td>\n",
       "      <td>0.158091</td>\n",
       "      <td>0.138554</td>\n",
       "    </tr>\n",
       "    <tr>\n",
       "      <th>13</th>\n",
       "      <td>BND</td>\n",
       "      <td>Vanguard美国全债市ETF</td>\n",
       "      <td>彭博巴克莱美国总体浮动经调整指数</td>\n",
       "      <td>0.643948</td>\n",
       "      <td>773.57</td>\n",
       "      <td>498.138734</td>\n",
       "      <td>-0.00455051</td>\n",
       "      <td>0.0543285</td>\n",
       "      <td>0.031826</td>\n",
       "      <td>0.0327447</td>\n",
       "    </tr>\n",
       "    <tr>\n",
       "      <th>14</th>\n",
       "      <td>BNDX</td>\n",
       "      <td>Vanguard国际全债市指数ETF</td>\n",
       "      <td>彭博巴克莱全球总量非美元浮动调整RIC上限指数</td>\n",
       "      <td>0.952360</td>\n",
       "      <td>425.30</td>\n",
       "      <td>405.038712</td>\n",
       "      <td>0.000712504</td>\n",
       "      <td>0.0408594</td>\n",
       "      <td>0.0300238</td>\n",
       "      <td>0.0290395</td>\n",
       "    </tr>\n",
       "    <tr>\n",
       "      <th>15</th>\n",
       "      <td>BSV</td>\n",
       "      <td>Vanguard美国短期国债ETF</td>\n",
       "      <td>彭博巴克莱美国1-5年政府/信贷浮动调整指数</td>\n",
       "      <td>1.102941</td>\n",
       "      <td>342.93</td>\n",
       "      <td>378.231511</td>\n",
       "      <td>0.0043788</td>\n",
       "      <td>0.0370277</td>\n",
       "      <td>0.021516</td>\n",
       "      <td>0.0183065</td>\n",
       "    </tr>\n",
       "    <tr>\n",
       "      <th>16</th>\n",
       "      <td>VCIT</td>\n",
       "      <td>Vanguard中期公司债指数ETF</td>\n",
       "      <td>彭博巴克莱美国5-10年企业债券指数</td>\n",
       "      <td>0.792332</td>\n",
       "      <td>463.97</td>\n",
       "      <td>367.618490</td>\n",
       "      <td>0.0199664</td>\n",
       "      <td>0.0763715</td>\n",
       "      <td>0.0465492</td>\n",
       "      <td>0.0509148</td>\n",
       "    </tr>\n",
       "    <tr>\n",
       "      <th>17</th>\n",
       "      <td>VXUS</td>\n",
       "      <td>领航 国际股票 ETF</td>\n",
       "      <td>新华富时全球全市值（美国除外）</td>\n",
       "      <td>0.707660</td>\n",
       "      <td>494.94</td>\n",
       "      <td>350.249165</td>\n",
       "      <td>0.373435</td>\n",
       "      <td>0.0920176</td>\n",
       "      <td>0.117122</td>\n",
       "      <td>0.0588176</td>\n",
       "    </tr>\n",
       "    <tr>\n",
       "      <th>18</th>\n",
       "      <td>VCSH</td>\n",
       "      <td>Vanguard短期公司债指数ETF</td>\n",
       "      <td>彭博巴克莱美国1-5年公司债券指数</td>\n",
       "      <td>0.801381</td>\n",
       "      <td>399.22</td>\n",
       "      <td>319.927509</td>\n",
       "      <td>0.0208876</td>\n",
       "      <td>0.0452871</td>\n",
       "      <td>0.0297169</td>\n",
       "      <td>0.0281572</td>\n",
       "    </tr>\n",
       "    <tr>\n",
       "      <th>19</th>\n",
       "      <td>ARKK</td>\n",
       "      <td>ARK Innovation ETF</td>\n",
       "      <td>方舟基金科技创新ETF</td>\n",
       "      <td>1.276933</td>\n",
       "      <td>218.41</td>\n",
       "      <td>278.894930</td>\n",
       "      <td>0.780215</td>\n",
       "      <td>0.376226</td>\n",
       "      <td>0.454305</td>\n",
       "      <td>0.202797</td>\n",
       "    </tr>\n",
       "  </tbody>\n",
       "</table>\n",
       "</div>"
      ],
      "text/plain": [
       "      代码                      名称                         标的  \\\n",
       "0    SPY           SPDR标普500 ETF                  S&P 500指数   \n",
       "1    IVV        iShares标普500 ETF                  S&P 500指数   \n",
       "2    VTI        Vanguard美国全股市ETF                CRSP美国总市场指数   \n",
       "3    VOO      Vanguard标普500指数ETF                  S&P 500指数   \n",
       "4    QQQ                纳指100ETF                NASDAQ100指数   \n",
       "5    VUG  成长股指数ETF-Vanguard MSCI               CRSP美国大盘成长指数   \n",
       "6    VEA       Vanguard富时发达市场ETF  新华富时发展全市值（美国除外）指数净TR美国RIC   \n",
       "7   IEFA  iShares 核心MSCI欧澳远东 ETF            MSCI欧澳远东可投资市场指数   \n",
       "8    VTV        Vanguard价值股指数ETF              CRSP美国大盘股价值指数   \n",
       "9    AGG      iShares美国债券综合指数ETF              彭博巴克莱美国综合债券指数   \n",
       "10  IEMG  iShares 核心MSCI新兴市场 ETF            MSCI新兴市场可投资市场指数   \n",
       "11   VWO   新兴市场ETF-Vanguard MSCI  新华富时新兴市场中国A股包容性指数净TR美国RIC   \n",
       "12   IJR   标普小型股600指数ETF-iShares                 标普600小盘股指数   \n",
       "13   BND        Vanguard美国全债市ETF           彭博巴克莱美国总体浮动经调整指数   \n",
       "14  BNDX      Vanguard国际全债市指数ETF    彭博巴克莱全球总量非美元浮动调整RIC上限指数   \n",
       "15   BSV       Vanguard美国短期国债ETF     彭博巴克莱美国1-5年政府/信贷浮动调整指数   \n",
       "16  VCIT      Vanguard中期公司债指数ETF         彭博巴克莱美国5-10年企业债券指数   \n",
       "17  VXUS             领航 国际股票 ETF            新华富时全球全市值（美国除外）   \n",
       "18  VCSH      Vanguard短期公司债指数ETF          彭博巴克莱美国1-5年公司债券指数   \n",
       "19  ARKK      ARK Innovation ETF                方舟基金科技创新ETF   \n",
       "\n",
       "    过去5年夏普比率（筛选大于等于0.6）  20210617资产规模（亿）         综合打分       1yr_年化     3yr_年化  \\\n",
       "0              0.951612          3636.81  3460.830440     0.375127   0.170923   \n",
       "1              0.940152          2828.67  2659.380460     0.376402   0.171631   \n",
       "2              0.952268          2475.98  2357.797230     0.411745   0.172093   \n",
       "3              0.941861          2292.44  2159.160087     0.376674   0.171743   \n",
       "4              1.187309          1637.20  1943.861804     0.420523   0.259024   \n",
       "5              1.075664           796.82   857.110799     0.398653   0.231101   \n",
       "6              0.704702          1034.35   728.908224      0.37177  0.0910125   \n",
       "7              0.696028           986.06   686.325692     0.348056  0.0856752   \n",
       "8              0.766311           842.02   645.249274     0.378055   0.119851   \n",
       "9              0.663900           879.51   583.906325  -0.00468642  0.0538887   \n",
       "10             0.685652           838.39   574.843474     0.421985   0.101295   \n",
       "11             0.673046           845.07   568.770662     0.390149   0.103437   \n",
       "12             0.741042           719.87   533.453854     0.666588   0.108995   \n",
       "13             0.643948           773.57   498.138734  -0.00455051  0.0543285   \n",
       "14             0.952360           425.30   405.038712  0.000712504  0.0408594   \n",
       "15             1.102941           342.93   378.231511    0.0043788  0.0370277   \n",
       "16             0.792332           463.97   367.618490    0.0199664  0.0763715   \n",
       "17             0.707660           494.94   350.249165     0.373435  0.0920176   \n",
       "18             0.801381           399.22   319.927509    0.0208876  0.0452871   \n",
       "19             1.276933           218.41   278.894930     0.780215   0.376226   \n",
       "\n",
       "       5yr_年化    10yr_年化  \n",
       "0    0.173587   0.148047  \n",
       "1    0.174261   0.148076  \n",
       "2    0.176965   0.148113  \n",
       "3    0.174429   0.148334  \n",
       "4    0.271955   0.213122  \n",
       "5     0.22448   0.175182  \n",
       "6    0.115212  0.0666257  \n",
       "7    0.112816   0.073114  \n",
       "8     0.13224   0.124047  \n",
       "9   0.0305846   0.032824  \n",
       "10   0.133981  0.0534762  \n",
       "11   0.127202  0.0395951  \n",
       "12   0.158091   0.138554  \n",
       "13   0.031826  0.0327447  \n",
       "14  0.0300238  0.0290395  \n",
       "15   0.021516  0.0183065  \n",
       "16  0.0465492  0.0509148  \n",
       "17   0.117122  0.0588176  \n",
       "18  0.0297169  0.0281572  \n",
       "19   0.454305   0.202797  "
      ]
     },
     "execution_count": 120,
     "metadata": {},
     "output_type": "execute_result"
    }
   ],
   "source": [
    "data"
   ]
  },
  {
   "cell_type": "code",
   "execution_count": 122,
   "metadata": {},
   "outputs": [],
   "source": [
    "data.to_csv(\"ETF_补充1_3_5_10年化收益率.csv\")"
   ]
  },
  {
   "cell_type": "code",
   "execution_count": null,
   "metadata": {},
   "outputs": [],
   "source": []
  },
  {
   "cell_type": "code",
   "execution_count": null,
   "metadata": {},
   "outputs": [],
   "source": [
    "annualized_return(df, price_col, yrs)"
   ]
  }
 ],
 "metadata": {
  "kernelspec": {
   "display_name": "Python 3",
   "language": "python",
   "name": "python3"
  },
  "language_info": {
   "codemirror_mode": {
    "name": "ipython",
    "version": 3
   },
   "file_extension": ".py",
   "mimetype": "text/x-python",
   "name": "python",
   "nbconvert_exporter": "python",
   "pygments_lexer": "ipython3",
   "version": "3.8.5"
  }
 },
 "nbformat": 4,
 "nbformat_minor": 4
}
