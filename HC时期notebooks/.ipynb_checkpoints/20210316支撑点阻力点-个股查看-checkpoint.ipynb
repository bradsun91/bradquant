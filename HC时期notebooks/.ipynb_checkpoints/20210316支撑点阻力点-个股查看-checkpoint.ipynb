{
 "cells": [
  {
   "cell_type": "code",
   "execution_count": 1,
   "metadata": {},
   "outputs": [
    {
     "name": "stderr",
     "output_type": "stream",
     "text": [
      "C:\\Users\\Administrator\\anaconda3\\lib\\site-packages\\mpl_finance.py:16: DeprecationWarning: \n",
      "\n",
      "  =================================================================\n",
      "\n",
      "   WARNING: `mpl_finance` is deprecated:\n",
      "\n",
      "    Please use `mplfinance` instead (no hyphen, no underscore).\n",
      "\n",
      "    To install: `pip install --upgrade mplfinance` \n",
      "\n",
      "   For more information, see: https://pypi.org/project/mplfinance/\n",
      "\n",
      "  =================================================================\n",
      "\n",
      "  __warnings.warn('\\n\\n  ================================================================='+\n"
     ]
    }
   ],
   "source": [
    "import pandas as pd\n",
    "import numpy as np\n",
    "import yfinance\n",
    "from mpl_finance import candlestick_ohlc\n",
    "import matplotlib.dates as mpl_dates\n",
    "import matplotlib.pyplot as plt\n",
    "\n",
    "plt.rcParams['figure.figsize'] = [12, 7]\n",
    "\n",
    "plt.rc('font', size=14)"
   ]
  },
  {
   "cell_type": "code",
   "execution_count": 2,
   "metadata": {},
   "outputs": [],
   "source": [
    "import seaborn as sns\n",
    "sns.set_style(\"darkgrid\")"
   ]
  },
  {
   "cell_type": "code",
   "execution_count": 3,
   "metadata": {},
   "outputs": [],
   "source": [
    "# # 导入自己的模块\n",
    "# from data_download_US_HK import *\n",
    "# from strategies import *\n",
    "# from positions import *\n",
    "\n",
    "# us_tickers_to_load = list(set(US_TICKERS_POOL.us_tech_stocks() + \\\n",
    "# \t\t\t              US_TICKERS_POOL.us_blockchain_stocks() + \\\n",
    "# \t\t\t              US_TICKERS_POOL.us_saas_stocks() + \\\n",
    "# \t\t\t              US_TICKERS_POOL.us_biotech_stocks() + \\\n",
    "# \t\t\t              US_TICKERS_POOL.us_new_energy_stocks() + \\\n",
    "# \t\t\t              US_TICKERS_POOL.global_etfs() + \\\n",
    "# \t\t\t              US_TICKERS_POOL.sector_etf() + \\\n",
    "# \t\t\t              US_TICKERS_POOL.global_indices() +\\\n",
    "# \t\t\t              US_TICKERS_POOL.us_healthcare_stocks() +\\\n",
    "# \t\t\t              US_TICKERS_POOL.us_fin_stocks() +\\\n",
    "# \t\t\t              US_TICKERS_POOL.us_utilities_stocks() +\\\n",
    "# \t\t\t              US_TICKERS_POOL.us_materials_stocks() +\\\n",
    "# \t\t\t              US_TICKERS_POOL.other_us_stocks() +\\\n",
    "#                             US_TICKERS_POOL.us_consumer_discretionary_stocks() +\\\n",
    "#                             US_TICKERS_POOL.us_consumer_staples_stocks() +\\\n",
    "#                             US_TICKERS_POOL.us_industrial_stocks() +\\\n",
    "#                             US_TICKERS_POOL.us_real_estate_stocks() +\\\n",
    "#                             US_TICKERS_POOL.us_tele_entertainment_stocks()))"
   ]
  },
  {
   "cell_type": "code",
   "execution_count": 4,
   "metadata": {},
   "outputs": [],
   "source": [
    "# Let’s not create two functions that identify the 4-candles fractals.\n",
    "\n",
    "def isSupport(df,i):\n",
    "    support = df['Low'][i] < df['Low'][i-1]  and df['Low'][i] < df['Low'][i+1] and df['Low'][i+1] < df['Low'][i+2] and df['Low'][i-1] < df['Low'][i-2]\n",
    "    return support\n",
    "\n",
    "\n",
    "def isResistance(df,i):\n",
    "    resistance = df['High'][i] > df['High'][i-1]  and df['High'][i] > df['High'][i+1] and df['High'][i+1] > df['High'][i+2] and df['High'][i-1] > df['High'][i-2]\n",
    "    return resistance\n",
    "\n",
    "def isFarFromLevel(l):\n",
    "    return np.sum([abs(l-x) < s  for x in levels]) == 0\n",
    "\n",
    "# We can now define a function that plots price and key levels together.\n",
    "\n",
    "def plot_all():\n",
    "    fig, ax = plt.subplots()\n",
    "    candlestick_ohlc(ax,df.values,width=0.6, \\\n",
    "                   colorup='green', colordown='red')\n",
    "    date_format = mpl_dates.DateFormatter('%d %b %Y ')\n",
    "#     date_format = mpl_dates.DateFormatter('%Y-%m-%d %H:%M')\n",
    "    ax.xaxis_date()\n",
    "    ax.xaxis.set_major_formatter(date_format)\n",
    "    fig.autofmt_xdate()\n",
    "    fig.tight_layout()\n",
    "    for level in levels:\n",
    "        plt.hlines(level[1],xmin=df['Date'][level[0]],\\\n",
    "                xmax=max(df['Date']),colors='blue')\n",
    "    fig.show()"
   ]
  },
  {
   "cell_type": "code",
   "execution_count": 5,
   "metadata": {},
   "outputs": [
    {
     "name": "stdout",
     "output_type": "stream",
     "text": [
      "--------------------------------------------------\n",
      "侦测QQQ...\n",
      "截至:2021-03-19 00:00:00\n",
      "最新收盘价:312.75\n",
      "形成阻力点:314.29\n",
      "nearest level:  314.29\n"
     ]
    }
   ],
   "source": [
    "ticker_list = ['QQQ']\n",
    "# ticker_list = [\"^GSPC\", \"^IXIC\", \"TSLA\", \"GOOGL\", \"V\", \"BABA\", \"ARKG\", \"NVDA\", \"BAC\", \"PLTR\", \"JNJ\", \"CRM\", \"TSM\", \"QCOM\", \"NFLX\"]\n",
    "start_date = \"2020-10-01\"\n",
    "end_date = \"2021-03-22\"\n",
    "interval = \"1d\"\n",
    "sar_signal_df = pd.DataFrame()\n",
    "\n",
    "sar_signal_last_date_list = []\n",
    "sar_signal_ticker_list = []\n",
    "sar_signal_last_price_list = []\n",
    "sar_signal_log_list = []\n",
    "sar_signal_nearest_levels_list = []\n",
    "\n",
    "for ticker in ticker_list:\n",
    "    ticker_info = yfinance.Ticker(ticker)\n",
    "    df = ticker_info.history(interval=interval,start=start_date, end=end_date)\n",
    "    df['Date'] = pd.to_datetime(df.index)\n",
    "    df['Date'] = df['Date'].apply(mpl_dates.date2num)\n",
    "    df = df.loc[:,['Date', 'Open', 'High', 'Low', 'Close']]\n",
    "    \n",
    "    \n",
    "    # Finally, let’s create a list that will contain the levels we find. Each level is a tuple whose first element is the index of the signal candle and the second element is the price value.\n",
    "\n",
    "    \"\"\"\n",
    "    We can clean this noise modifying the function that detects key levels. \n",
    "    If a level is near another one, it will be discarded. We must decide what “near” means, then. \n",
    "    We can say that a level is near another one if their distance is less than the average candle \n",
    "    size in our chart (i.e. the average difference between high and low prices in a candle). \n",
    "    This will give us a rough estimate of volatility.\n",
    "    \"\"\"\n",
    "\n",
    "    levels = []\n",
    "\n",
    "    for i in range(2,df.shape[0]-2):\n",
    "        s =  np.mean(df['High'] - df['Low'])\n",
    "        if isSupport(df,i):\n",
    "            l = df['Low'][i]\n",
    "            if isFarFromLevel(l):\n",
    "                levels.append((i,df['Low'][i]))\n",
    "#                 dates.append(df.index[i])\n",
    "        elif isResistance(df,i):\n",
    "            l = df['High'][i]\n",
    "            if isFarFromLevel(l):\n",
    "                levels.append((i,df['High'][i]))\n",
    "#                 dates.append(df.index[i])\n",
    "\n",
    "    last_level = levels[-1][1]\n",
    "    last_date = df.index[-1]\n",
    "    \n",
    "    \n",
    "    \n",
    "    distance_list = []\n",
    "    num_list = []\n",
    "    last_price = df['Close'].values[-1]\n",
    "    for i in range(len(levels)):\n",
    "        each_level = levels[i][1]\n",
    "        distance = abs(last_price/each_level-1)\n",
    "        distance_list.append(distance)\n",
    "        num_list.append(levels[i][0])\n",
    "\n",
    "    distance_df = pd.DataFrame()\n",
    "    distance_df['num_list'] = num_list\n",
    "    distance_df['distance_list'] = distance_list\n",
    "\n",
    "    distance_df.sort_values(\"distance_list\", inplace = True)\n",
    "    levels_df = pd.DataFrame(levels)\n",
    "    levels_df.columns = ['num_list', 'levels']\n",
    "\n",
    "    smallest_distance_num = distance_df['num_list'].values[0]\n",
    "    smallest_distance = distance_df['distance_list'].values[0]\n",
    "\n",
    "    nearest_level = levels_df[levels_df['num_list']==smallest_distance_num]['levels'].values[0]\n",
    "    avg_bar_distance =  abs(np.mean(df['High']/df['Low']-1))\n",
    "    \n",
    "    \n",
    "    print(\"--------------------------------------------------\")\n",
    "    print(\"侦测{}...\".format(ticker))\n",
    "    print(\"截至:{}\".format(last_date))\n",
    "    print(\"最新收盘价:{}\".format(round(last_price, 2)))\n",
    "    if smallest_distance < avg_bar_distance:\n",
    "#         print(\"价格附近有支撑阻力点:{}\".format(round(nearest_level, 2)))\n",
    "        if last_price > nearest_level:\n",
    "            log_info = \"形成支撑点:{}\".format(round(nearest_level, 2))\n",
    "            print(log_info)\n",
    "        elif last_price < nearest_level:\n",
    "            log_info = \"形成阻力点:{}\".format(round(nearest_level, 2))\n",
    "            print(log_info)\n",
    "        else:\n",
    "            log_info = \"价格站在线上\"\n",
    "            print(log_info)\n",
    "\n",
    "    else:\n",
    "        log_info = \"价格附近没有支撑阻力点\"\n",
    "        print(log_info)\n",
    "        \n",
    "    # logging the final info:\n",
    "    sar_signal_last_date_list.append(last_date)\n",
    "    sar_signal_ticker_list.append(ticker)\n",
    "    sar_signal_log_list.append(log_info)\n",
    "    sar_signal_last_price_list.append(last_price)\n",
    "    sar_signal_nearest_levels_list.append(nearest_level)\n",
    "    \n",
    "    print(\"nearest level: \", round(nearest_level, 2))"
   ]
  },
  {
   "cell_type": "code",
   "execution_count": 74,
   "metadata": {},
   "outputs": [
    {
     "data": {
      "text/plain": [
       "DatetimeIndex(['2020-09-30', '2020-10-01', '2020-10-02', '2020-10-05',\n",
       "               '2020-10-06', '2020-10-07', '2020-10-08', '2020-10-09',\n",
       "               '2020-10-12', '2020-10-13',\n",
       "               ...\n",
       "               '2021-03-08', '2021-03-09', '2021-03-10', '2021-03-11',\n",
       "               '2021-03-12', '2021-03-15', '2021-03-16', '2021-03-17',\n",
       "               '2021-03-18', '2021-03-19'],\n",
       "              dtype='datetime64[ns]', name='Date', length=118, freq=None)"
      ]
     },
     "execution_count": 74,
     "metadata": {},
     "output_type": "execute_result"
    }
   ],
   "source": [
    "df.index"
   ]
  },
  {
   "cell_type": "code",
   "execution_count": 81,
   "metadata": {},
   "outputs": [
    {
     "name": "stderr",
     "output_type": "stream",
     "text": [
      "<ipython-input-71-1b8af35d97f0>:30: UserWarning: Matplotlib is currently using module://ipykernel.pylab.backend_inline, which is a non-GUI backend, so cannot show the figure.\n",
      "  fig.show()\n"
     ]
    },
    {
     "data": {
      "image/png": "[encoded data removed]",
      "text/plain": [
       "<Figure size 864x504 with 1 Axes>"
      ]
     },
     "metadata": {},
     "output_type": "display_data"
    }
   ],
   "source": [
    "\"\"\"\n",
    "We can clean this noise modifying the function that detects key levels. \n",
    "If a level is near another one, it will be discarded. We must decide what “near” means, then. \n",
    "We can say that a level is near another one if their distance is less than the average candle \n",
    "size in our chart (i.e. the average difference between high and low prices in a candle). \n",
    "This will give us a rough estimate of volatility.\n",
    "\"\"\"\n",
    "\n",
    "s =  np.mean(df['High'] - df['Low'])\n",
    "\n",
    "def isFarFromLevel(l):\n",
    "    return np.sum([abs(l-x) < s  for x in levels]) == 0\n",
    "\n",
    "# Now we can scan the price history looking for key levels using this function as a filter.\n",
    "levels = []\n",
    "for i in range(2,df.shape[0]-2):\n",
    "    if isSupport(df,i):\n",
    "        l = df['Low'][i]\n",
    "        \n",
    "        if isFarFromLevel(l):\n",
    "            levels.append((i,l))\n",
    "            \n",
    "    elif isResistance(df,i):\n",
    "        l = df['High'][i]\n",
    "        \n",
    "        if isFarFromLevel(l):\n",
    "            levels.append((i,l))\n",
    "            \n",
    "plot_all()"
   ]
  },
  {
   "cell_type": "code",
   "execution_count": 67,
   "metadata": {},
   "outputs": [
    {
     "data": {
      "text/plain": [
       "3850.0"
      ]
     },
     "execution_count": 67,
     "metadata": {},
     "output_type": "execute_result"
    }
   ],
   "source": [
    "6*3500*0.1+1750"
   ]
  },
  {
   "cell_type": "code",
   "execution_count": 6,
   "metadata": {},
   "outputs": [
    {
     "data": {
      "text/plain": [
       "[(8, 296.54725339046325),\n",
       " (23, 266.15083739833807),\n",
       " (29, 279.758927402467),\n",
       " (48, 307.653070993315),\n",
       " (62, 314.29304477259376),\n",
       " (94, 337.76341146290383),\n",
       " (104, 323.9208644085695)]"
      ]
     },
     "execution_count": 6,
     "metadata": {},
     "output_type": "execute_result"
    }
   ],
   "source": [
    "levels"
   ]
  },
  {
   "cell_type": "code",
   "execution_count": null,
   "metadata": {},
   "outputs": [],
   "source": []
  }
 ],
 "metadata": {
  "kernelspec": {
   "display_name": "Python 3",
   "language": "python",
   "name": "python3"
  },
  "language_info": {
   "codemirror_mode": {
    "name": "ipython",
    "version": 3
   },
   "file_extension": ".py",
   "mimetype": "text/x-python",
   "name": "python",
   "nbconvert_exporter": "python",
   "pygments_lexer": "ipython3",
   "version": "3.8.5"
  }
 },
 "nbformat": 4,
 "nbformat_minor": 4
}
