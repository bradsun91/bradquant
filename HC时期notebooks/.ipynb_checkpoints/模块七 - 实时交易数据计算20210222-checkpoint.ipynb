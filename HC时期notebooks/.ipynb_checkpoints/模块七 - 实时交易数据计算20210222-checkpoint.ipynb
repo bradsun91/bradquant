{
 "cells": [
  {
   "cell_type": "code",
   "execution_count": 1,
   "metadata": {},
   "outputs": [],
   "source": [
    "def target_HK_shares(ticker, last_price, target_pos_pct, available_dollar):\n",
    "\n",
    "#     last_price = 13.3\n",
    "#     target_pos_pct = 0.5\n",
    "#     stop_loss = 27.9518.2\n",
    "#     available_dollar = 100000\n",
    "    target_pos_dollar = target_pos_pct*available_dollar\n",
    "    USD_HKD_exchange_rate = 7.5\n",
    "    target_pos_HKD = target_pos_dollar*USD_HKD_exchange_rate\n",
    "    target_HK_shares = round(target_pos_HKD/last_price)\n",
    "    print(\"Ticker: {}\".format(ticker))\n",
    "    print(\"Target_Shares: \", target_HK_shares)\n",
    "    return target_HK_shares, target_pos_HKD\n",
    "\n",
    "\n",
    "def HK_expected_loss(target_HK_shares, target_pos_HKD, ex_price_w_cost, stop_loss_price, portfolio_value):\n",
    "    USD_HKD_exchange_rate = 7.5\n",
    "    single_trade_expected_loss_pct = stop_loss_price/ex_price_w_cost-1\n",
    "    single_trade_expected_loss_USD = single_trade_expected_loss_pct*target_pos_HKD/USD_HKD_exchange_rate\n",
    "    port_expected_loss_pct = single_trade_expected_loss_USD/portfolio_value\n",
    "    \n",
    "    print(\"单笔交易止损损失%: \", round(single_trade_expected_loss_pct*100, 3), \"%\")\n",
    "    print(\"账户产生的止损损失%: \", round(port_expected_loss_pct*100, 3), \"%\")\n",
    "    print(\"账户止损损失美元价值: \", \"$\",round(single_trade_expected_loss_USD, 2))\n",
    "    print(\"Breakeven Price w commissions:\", round(ex_price_w_cost*1.0015, 2))\n",
    "    print(\"1% Profits w commissions:\", round(ex_price_w_cost*1.01, 2))\n",
    "    print(\"2% Profits w commissions:\", round(ex_price_w_cost*1.02, 2))"
   ]
  },
  {
   "cell_type": "code",
   "execution_count": 2,
   "metadata": {},
   "outputs": [
    {
     "data": {
      "text/plain": [
       "0.037190082644628086"
      ]
     },
     "execution_count": 2,
     "metadata": {},
     "output_type": "execute_result"
    }
   ],
   "source": [
    "2.51/2.42-1"
   ]
  },
  {
   "cell_type": "code",
   "execution_count": 3,
   "metadata": {},
   "outputs": [
    {
     "data": {
      "text/plain": [
       "0.14566929133858264"
      ]
     },
     "execution_count": 3,
     "metadata": {},
     "output_type": "execute_result"
    }
   ],
   "source": [
    "2.91/2.54-1"
   ]
  },
  {
   "cell_type": "code",
   "execution_count": 5,
   "metadata": {
    "scrolled": true
   },
   "outputs": [
    {
     "name": "stdout",
     "output_type": "stream",
     "text": [
      "======================== HK Market ========================\n",
      "Ticker: 01909.HK\n",
      "Target_Shares:  162\n",
      "单笔交易止损损失%:  -1.28 %\n",
      "账户产生的止损损失%:  -0.09 %\n",
      "账户止损损失美元价值:  $ -89.58\n",
      "Breakeven Price w commissions: 27.39\n",
      "1% Profits w commissions: 27.62\n",
      "2% Profits w commissions: 27.9\n"
     ]
    }
   ],
   "source": [
    "print(\"======================== HK Market ========================\")\n",
    "\n",
    "ticker = \"01909.HK\"\n",
    "last_price = 324.6\n",
    "target_pos_pct = 0.07\n",
    "available_dollar = 100000\n",
    "portfolio_value = 100000\n",
    "\n",
    "HK_shares, HKD_pos = target_HK_shares(ticker, last_price, target_pos_pct, available_dollar)\n",
    "\n",
    "ex_price_w_cost = 27.35\n",
    "stop_loss_price = 27.0\n",
    "HK_expected_loss(HK_shares, HKD_pos, ex_price_w_cost, stop_loss_price, portfolio_value)"
   ]
  },
  {
   "cell_type": "code",
   "execution_count": 18,
   "metadata": {},
   "outputs": [
    {
     "data": {
      "text/plain": [
       "4596.666666666667"
      ]
     },
     "execution_count": 18,
     "metadata": {},
     "output_type": "execute_result"
    }
   ],
   "source": [
    "500*68.95/7.5"
   ]
  },
  {
   "cell_type": "code",
   "execution_count": 96,
   "metadata": {},
   "outputs": [
    {
     "data": {
      "text/plain": [
       "-0.08261940639655974"
      ]
     },
     "execution_count": 96,
     "metadata": {},
     "output_type": "execute_result"
    }
   ],
   "source": [
    "13003.98/14175.12-1"
   ]
  },
  {
   "cell_type": "code",
   "execution_count": 90,
   "metadata": {},
   "outputs": [
    {
     "name": "stdout",
     "output_type": "stream",
     "text": [
      "======================== HK Market ========================\n",
      "Ticker: TICKER2\n",
      "Target_Shares:  28195\n"
     ]
    },
    {
     "ename": "TypeError",
     "evalue": "expected_loss() missing 1 required positional argument: 'portfolio_value'",
     "output_type": "error",
     "traceback": [
      "\u001b[1;31m---------------------------------------------------------------------------\u001b[0m",
      "\u001b[1;31mTypeError\u001b[0m                                 Traceback (most recent call last)",
      "\u001b[1;32m<ipython-input-90-8bbbac419ac3>\u001b[0m in \u001b[0;36m<module>\u001b[1;34m\u001b[0m\n\u001b[0;32m     10\u001b[0m \u001b[0mex_price_w_cost\u001b[0m \u001b[1;33m=\u001b[0m \u001b[1;36m13.34\u001b[0m\u001b[1;33m\u001b[0m\u001b[1;33m\u001b[0m\u001b[0m\n\u001b[0;32m     11\u001b[0m \u001b[0mstop_loss_price\u001b[0m \u001b[1;33m=\u001b[0m \u001b[1;36m13.21\u001b[0m\u001b[1;33m\u001b[0m\u001b[1;33m\u001b[0m\u001b[0m\n\u001b[1;32m---> 12\u001b[1;33m \u001b[0mexpected_loss\u001b[0m\u001b[1;33m(\u001b[0m\u001b[0mex_price_w_cost\u001b[0m\u001b[1;33m,\u001b[0m \u001b[0mstop_loss_price\u001b[0m\u001b[1;33m,\u001b[0m \u001b[0mavailable_dollar\u001b[0m\u001b[1;33m)\u001b[0m\u001b[1;33m\u001b[0m\u001b[1;33m\u001b[0m\u001b[0m\n\u001b[0m",
      "\u001b[1;31mTypeError\u001b[0m: expected_loss() missing 1 required positional argument: 'portfolio_value'"
     ]
    }
   ],
   "source": [
    "print(\"======================== HK Market ========================\")\n",
    "\n",
    "ticker = \"TICKER2\"\n",
    "last_price = 13.3\n",
    "target_pos_pct = 0.5\n",
    "available_dollar = 100000\n",
    "\n",
    "target_HK_shares(ticker, last_price, target_pos_pct, available_dollar)\n",
    "\n",
    "ex_price_w_cost = 13.34\n",
    "stop_loss_price = 13.21\n",
    "expected_loss(ex_price_w_cost, stop_loss_price, available_dollar)"
   ]
  },
  {
   "cell_type": "code",
   "execution_count": null,
   "metadata": {},
   "outputs": [],
   "source": [
    "exit_price = 28.85\n",
    "pnl = exit_price/ex_price_w_cost-1\n",
    "print(\"Realized Pnl: \", round(pnl*100, 2), \"%\")"
   ]
  },
  {
   "cell_type": "code",
   "execution_count": null,
   "metadata": {},
   "outputs": [],
   "source": [
    "commission_fee = 292.71\n",
    "pos_value = enter_price*7000\n",
    "commission_fee_cost_pct = commission_fee/pos_value\n",
    "print(\"Commission Cost Pct: \", round(commission_fee_cost_pct*100, 2), \"%\")"
   ]
  },
  {
   "cell_type": "code",
   "execution_count": null,
   "metadata": {},
   "outputs": [],
   "source": [
    "17./17.00-1"
   ]
  },
  {
   "cell_type": "code",
   "execution_count": null,
   "metadata": {},
   "outputs": [],
   "source": []
  }
 ],
 "metadata": {
  "kernelspec": {
   "display_name": "Python 3",
   "language": "python",
   "name": "python3"
  },
  "language_info": {
   "codemirror_mode": {
    "name": "ipython",
    "version": 3
   },
   "file_extension": ".py",
   "mimetype": "text/x-python",
   "name": "python",
   "nbconvert_exporter": "python",
   "pygments_lexer": "ipython3",
   "version": "3.8.5"
  }
 },
 "nbformat": 4,
 "nbformat_minor": 4
}
