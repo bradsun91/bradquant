{
 "cells": [
  {
   "cell_type": "code",
   "execution_count": 1,
   "metadata": {},
   "outputs": [],
   "source": [
    "import pandas as pd, numpy as np\n",
    "from datetime import datetime\n",
    "pd.set_option('max_colwidth',200)\n",
    "import sys\n",
    "sys.setrecursionlimit(50000)\n",
    "import tushare as ts\n",
    "import yfinance as yf\n",
    "import time, urllib\n",
    "import glob\n",
    "import os\n"
   ]
  },
  {
   "cell_type": "code",
   "execution_count": 2,
   "metadata": {},
   "outputs": [],
   "source": [
    "pro = ts.pro_api()"
   ]
  },
  {
   "cell_type": "code",
   "execution_count": 4,
   "metadata": {},
   "outputs": [
    {
     "name": "stdout",
     "output_type": "stream",
     "text": [
      "SPY: Start updating now...\n",
      "抱歉，您每天最多访问该接口5次，权限的具体详情访问：https://tushare.pro/document/1?doc_id=108。\n",
      "===============================================\n",
      "VXXB: Start updating now...\n",
      "抱歉，您每天最多访问该接口5次，权限的具体详情访问：https://tushare.pro/document/1?doc_id=108。\n",
      "===============================================\n",
      "QQQ: Start updating now...\n",
      "抱歉，您每分钟最多访问该接口2次，权限的具体详情访问：https://tushare.pro/document/1?doc_id=108。\n",
      "===============================================\n",
      "VXX: Start updating now...\n",
      "抱歉，您每分钟最多访问该接口2次，权限的具体详情访问：https://tushare.pro/document/1?doc_id=108。\n",
      "===============================================\n",
      "^VIX: Start updating now...\n",
      "抱歉，您每分钟最多访问该接口2次，权限的具体详情访问：https://tushare.pro/document/1?doc_id=108。\n",
      "===============================================\n",
      "CRSP: Start updating now...\n",
      "抱歉，您每分钟最多访问该接口2次，权限的具体详情访问：https://tushare.pro/document/1?doc_id=108。\n",
      "===============================================\n",
      "ARCT: Start updating now...\n",
      "抱歉，您每分钟最多访问该接口2次，权限的具体详情访问：https://tushare.pro/document/1?doc_id=108。\n",
      "===============================================\n",
      "YELP: Start updating now...\n",
      "抱歉，您每分钟最多访问该接口2次，权限的具体详情访问：https://tushare.pro/document/1?doc_id=108。\n",
      "===============================================\n",
      "UBER: Start updating now...\n",
      "抱歉，您每分钟最多访问该接口2次，权限的具体详情访问：https://tushare.pro/document/1?doc_id=108。\n",
      "===============================================\n",
      "TSLA: Start updating now...\n",
      "抱歉，您每分钟最多访问该接口2次，权限的具体详情访问：https://tushare.pro/document/1?doc_id=108。\n",
      "===============================================\n",
      "【Updated Finished for 2021-01-08!】\n"
     ]
    }
   ],
   "source": [
    "def all_weather():\n",
    "    all_weather_portfolio = [\"VTI\",\"TLT\",\"IEF\",\"GLD\",\"DBC\",\"SHY\",\"IEI\"]\n",
    "    return all_weather_portfolio\n",
    "\n",
    "def us_sectors_etf():\n",
    "    us_sectors = [\"IYM\",\"IYZ\",\"FCL\",\"FCD\",\"IYE\",\"IYG\",\"IYH\",\"IYJ\",\"IYR\",\"IYW\",\"IDU\"]\n",
    "    return us_sectors\n",
    "    \n",
    "def today_dt():\n",
    "    today = str(datetime.now().date())\n",
    "    return today\n",
    "\n",
    "def download_tushare_data(start, end, us_db_path_tushare, ticker_list):\n",
    "    for ticker in ticker_list:\n",
    "    #     print(\"testing\")\n",
    "        # Initial downloading:\n",
    "        print(\"{}: Start updating now...\".format(ticker))\n",
    "#         with eventlet.Timeout(60,False):\n",
    "\n",
    "        # =============== Mainly changing here =============== :\n",
    "        try:\n",
    "            data = pro.us_daily(ts_code=ticker, start_date=start, end_date=end)\n",
    "            data.sort_values(\"trade_date\", inplace = True)\n",
    "            data.reset_index(inplace = True)\n",
    "            del data['index']\n",
    "            data.to_csv(us_db_path_tushare+ticker+\".csv\", index = False)\n",
    "            print(\"{} data file updated: {}\".format(ticker, end))\n",
    "        except Exception as e:\n",
    "            print(e)\n",
    "        # =============== Mainly changing here =============== :    \n",
    "                    \n",
    "    #     print(\"Data Download/Update for {} is Finished.\".format(ticker))\n",
    "        print(\"===============================================\")\n",
    "    print(\"【Updated Finished for {}!】\".format(end))\n",
    "\n",
    "\n",
    "start = \"2005-01-01\"\n",
    "today = today_dt()\n",
    "end = today\n",
    "us_db_path_tushare = \"/Users/miaoyuesun/Code_Workspace/brad_public_workspace_mac/data/US_database_tushare/\"\n",
    "mkt_etf = [\"SPY\",\"VXXB\",\"QQQ\",\"VXX\",\"^VIX\"]\n",
    "other_tickers = [\"YELP\",'UBER','TSLA']\n",
    "us_sectors = us_sectors_etf()\n",
    "all_weather = all_weather()\n",
    "# data_path = \"/Users/miaoyuesun/Code_Workspace/brad_public_workspace_mac/quant_research/data_pipeline/\"\n",
    "# tickers_df = pd.read_csv(data_path+\"most_recent_sp500_tickers.csv\")\n",
    "# sp500_tickers = list(tickers_df['sp500_tickers'])\n",
    "# ticker_list = sp500_tickers+all_weather+us_sectors+mkt_etf+other_tickers\n",
    "# ticker_list = ['ROKU']\n",
    "ticker_list = [\"CRSP\", \"ARCT\"]\n",
    "ticker_list_final = mkt_etf+ticker_list+other_tickers\n",
    "\n",
    "# import eventlet\n",
    "# eventlet.monkey_patch()\n",
    "\n",
    "download_tushare_data(start, end, us_db_path_tushare, ticker_list_final)"
   ]
  },
  {
   "cell_type": "code",
   "execution_count": null,
   "metadata": {},
   "outputs": [],
   "source": []
  }
 ],
 "metadata": {
  "kernelspec": {
   "display_name": "Python 3",
   "language": "python",
   "name": "python3"
  },
  "language_info": {
   "codemirror_mode": {
    "name": "ipython",
    "version": 3
   },
   "file_extension": ".py",
   "mimetype": "text/x-python",
   "name": "python",
   "nbconvert_exporter": "python",
   "pygments_lexer": "ipython3",
   "version": "3.6.10"
  }
 },
 "nbformat": 4,
 "nbformat_minor": 4
}
