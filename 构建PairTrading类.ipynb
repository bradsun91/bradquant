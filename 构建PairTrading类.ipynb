{
 "cells": [
  {
   "cell_type": "code",
   "execution_count": 207,
   "metadata": {},
   "outputs": [],
   "source": [
    "import re\n",
    "import pandas as pd\n",
    "import numpy as np # numpy incompatability issue debugged.\n",
    "from arch.unitroot import ADF\n",
    "import statsmodels.api as sm\n",
    "import matplotlib.pyplot as plt\n",
    "from matplotlib import style\n",
    "\n",
    "style.use(\"ggplot\")\n",
    "\n",
    "%matplotlib inline"
   ]
  },
  {
   "cell_type": "code",
   "execution_count": 2,
   "metadata": {},
   "outputs": [
    {
     "name": "stdout",
     "output_type": "stream",
     "text": [
      "1.16.0\n"
     ]
    }
   ],
   "source": [
    "print (np.version.version)"
   ]
  },
  {
   "cell_type": "markdown",
   "metadata": {},
   "source": [
    "# Create PairTrading Class"
   ]
  },
  {
   "cell_type": "code",
   "execution_count": 161,
   "metadata": {},
   "outputs": [],
   "source": [
    "class PairTrading:\n",
    "    def SSD(self, priceX, priceY):\n",
    "        if priceX is None or priceY is None:\n",
    "            print(\"Error: Missing Price Series!\")\n",
    "        returnX=(priceX-priceX.shift(1))/priceX.shift(1)[1:]\n",
    "        returnY=(priceY - priceY.shift(1))/priceY.shift(1)[1:]\n",
    "        standardX=(returnX+1).cumprod()\n",
    "        standardY=(returnY+1).cumprod()\n",
    "        SSD=np.sum((standardY-standardX)**2)\n",
    "        return SSD\n",
    "    \n",
    "    def SSDSpread(self, priceX, priceY):\n",
    "        if priceX is None or priceY is None:\n",
    "            print(\"Error: Missing Price Series!\")\n",
    "        returnX=(priceX-priceX.shift(1))/priceX.shift(1)[1:]\n",
    "        returnY=(priceY - priceY.shift(1))/priceY.shift(1)[1:]\n",
    "        standardX=(returnX+1).cumprod()\n",
    "        standardY=(returnY+1).cumprod()\n",
    "        spread=standardY-standardX\n",
    "        return spread\n",
    "    \n",
    "    def cointegration(self, priceX, priceY):\n",
    "        if priceX is None or priceY is None:\n",
    "            print(\"Error: Missing Price Series!\")\n",
    "        priceX=np.log(priceX)\n",
    "        priceY=np.log(priceY)\n",
    "        results=sm.OLS(priceY,sm.add_constant(priceX)).fit()\n",
    "        resid=results.resid\n",
    "        adfSpread=ADF(resid)\n",
    "        if adfSpread.pvalue>=0.05:\n",
    "            print(\"\"\"No Cointegration.\n",
    "                  P-value of ADF test: {};\n",
    "                  Coefficients of regression:\n",
    "                  Intercept: {};\n",
    "                  Beta: {}\n",
    "                  \"\"\".format(adfSpread.pvalue, results.params[0], results.params[1]))\n",
    "            return None\n",
    "        else:\n",
    "            print(\"\"\"Cointegration Tested!\n",
    "                  P-value of ADF test: {};\n",
    "                  Coefficients of regression:\n",
    "                  Intercept: {};\n",
    "                  Beta: {}\n",
    "                  \"\"\".format(adfSpread.pvalue, results.params[0], results.params[1]))\n",
    "            return results.params[0], results.params[1]\n",
    "        \n",
    "    def CointegrationSpread(self, priceX, priceY, formPeriod, tradePeriod):\n",
    "        if priceX is None or priceY is None:\n",
    "            print(\"Missing Price Series!\")\n",
    "#         if not (re.fullmatch(\"\\d{4}-\\d{2}-d\\{2}:\\d{4}-\\d{2}-\\d{2}\", formPeriod)\n",
    "#                 or re.fullmatch(\"\\d{4}-\\d{2}-d\\{2}:\\d{4}-\\d{2}-\\d{2}\", tradePeriod)):\n",
    "#             print(\"Error: formPeriod or tradePeriod data format issues!\")\n",
    "        formX=priceX[formPeriod.split(\":\")[0]:formPeriod.split(\":\")[1]]\n",
    "        formY=priceY[formPeriod.split(\":\")[0]:formPeriod.split(\":\")[1]]\n",
    "        coefficients=self.cointegration(formX, formY)\n",
    "        if coefficients is None:\n",
    "            print(\"No cointegrations, unable to match!\")\n",
    "        else:\n",
    "            spread=(np.log(priceY[tradePeriod.split(\":\")[0]:tradePeriod.split(\":\")[1]])\n",
    "                    -coefficients[0]-coefficients[1]*np.log(priceX[tradePeriod.split(\":\")[0]:\n",
    "                    tradePeriod.split(\":\")[1]]))\n",
    "            return spread\n",
    "        \n",
    "    def calBound(self, priceX, priceY, method, formPeriod, width=1.5):\n",
    "#         if not (re.fullmatch(\"\\d{4}-\\d{2}-d\\{2}:\\d{4}-\\d{2}-\\d{2}\", formPeriod)\n",
    "#                 or re.fullmatch(\"\\d{4}-\\d{2}-d\\{2}:\\d{4}-\\d{2}-\\d{2}\", tradePeriod)):\n",
    "#             print(\"Error: formPeriod or tradePeriod data format issues!\")\n",
    "        if method==\"SSD\":\n",
    "            spread=self.SSDspread(priceX[formPeriod.split(\":\")[0]:\n",
    "                                         formPeriod.split(\":\")[1]],\n",
    "                                  priceY[formPeriod.split(\":\")[0]:\n",
    "                                         formPeriod.split(\":\")[1]])\n",
    "            mu=np.mean(spread)\n",
    "            sd=np.std(spread)\n",
    "            UpperBound=mu+width*sd\n",
    "            LowerBound=mu-width*sd\n",
    "            return UpperBound, LowerBound\n",
    "        elif method==\"Cointegration\":\n",
    "            spread=self.CointegrationSpread(priceX, priceY, formPeriod, formPeriod)\n",
    "            mu=np.mean(spread)\n",
    "            sd=np.std(spread)\n",
    "            UpperBound=mu+width*sd\n",
    "            LowerBound=mu-width*sd\n",
    "            return UpperBound, LowerBound            \n",
    "        else:\n",
    "            print(\"No such method, please choose either 'SSD' or 'Cointegration'!\")"
   ]
  },
  {
   "cell_type": "code",
   "execution_count": 127,
   "metadata": {},
   "outputs": [],
   "source": [
    "path = \"/Users/miaoyuesun/Code_Workspace/brad_public_workspace_mac/极宽/zwPython2019m1量化AI优化版/TQDat/day/stk/\""
   ]
  },
  {
   "cell_type": "code",
   "execution_count": 137,
   "metadata": {},
   "outputs": [],
   "source": [
    "priceA = pd.read_csv(path+\"601988.csv\")\n",
    "priceB = pd.read_csv(path+\"600000.csv\")\n",
    "\n",
    "priceA['date'] = pd.to_datetime(priceA['date'])\n",
    "priceA['date'] = priceA['date'].astype(str)\n",
    "\n",
    "priceB['date'] = pd.to_datetime(priceB['date'])\n",
    "priceB['date'] = priceB['date'].astype(str)"
   ]
  },
  {
   "cell_type": "code",
   "execution_count": 139,
   "metadata": {},
   "outputs": [],
   "source": [
    "priceA = priceA.sort_values(\"date\")\n",
    "priceA.index = priceA['date']\n",
    "priceB = priceB.sort_values(\"date\")\n",
    "priceB.index = priceB['date']"
   ]
  },
  {
   "cell_type": "code",
   "execution_count": 140,
   "metadata": {},
   "outputs": [],
   "source": [
    "formPeriod = \"2014-01-01:2015-01-01\"\n",
    "tradePeriod = \"2015-01-01:2015-06-30\"\n",
    "priceAf=priceA[formPeriod.split(\":\")[0]:formPeriod.split(\":\")[1]]\n",
    "priceBf=priceB[formPeriod.split(\":\")[0]:formPeriod.split(\":\")[1]]\n",
    "priceAt=priceA[tradePeriod.split(\":\")[0]:tradePeriod.split(\":\")[1]]\n",
    "priceBt=priceB[tradePeriod.split(\":\")[0]:tradePeriod.split(\":\")[1]]"
   ]
  },
  {
   "cell_type": "code",
   "execution_count": 141,
   "metadata": {},
   "outputs": [],
   "source": [
    "price_col = \"close\""
   ]
  },
  {
   "cell_type": "code",
   "execution_count": 142,
   "metadata": {},
   "outputs": [],
   "source": [
    "priceAf=priceAf[price_col]\n",
    "priceBf=priceBf[price_col]\n",
    "priceAt=priceAt[price_col]\n",
    "priceBt=priceBt[price_col]"
   ]
  },
  {
   "cell_type": "code",
   "execution_count": 162,
   "metadata": {},
   "outputs": [],
   "source": [
    "pt=PairTrading()"
   ]
  },
  {
   "cell_type": "code",
   "execution_count": 144,
   "metadata": {},
   "outputs": [
    {
     "data": {
      "text/plain": [
       "0.46261904765024103"
      ]
     },
     "execution_count": 144,
     "metadata": {},
     "output_type": "execute_result"
    }
   ],
   "source": [
    "# SSD:\n",
    "SSD=pt.SSD(priceAf,priceBf)\n",
    "SSD"
   ]
  },
  {
   "cell_type": "code",
   "execution_count": 145,
   "metadata": {
    "collapsed": true
   },
   "outputs": [
    {
     "data": {
      "text/plain": [
       "count    243.000000\n",
       "mean       0.019143\n",
       "std        0.039290\n",
       "min       -0.044968\n",
       "25%       -0.011097\n",
       "50%        0.009971\n",
       "75%        0.041477\n",
       "max        0.168541\n",
       "Name: close, dtype: float64"
      ]
     },
     "execution_count": 145,
     "metadata": {},
     "output_type": "execute_result"
    }
   ],
   "source": [
    "# \n",
    "SSDspread=pt.SSDSpread(priceAf, priceBf)\n",
    "SSDspread.describe()"
   ]
  },
  {
   "cell_type": "code",
   "execution_count": 146,
   "metadata": {
    "collapsed": true
   },
   "outputs": [
    {
     "data": {
      "text/plain": [
       "date\n",
       "2014-01-02         NaN\n",
       "2014-01-03   -0.001616\n",
       "2014-01-06    0.015250\n",
       "2014-01-07    0.013784\n",
       "2014-01-08    0.024287\n",
       "Name: close, dtype: float64"
      ]
     },
     "execution_count": 146,
     "metadata": {},
     "output_type": "execute_result"
    }
   ],
   "source": [
    "SSDspread.head()"
   ]
  },
  {
   "cell_type": "code",
   "execution_count": 147,
   "metadata": {},
   "outputs": [
    {
     "data": {
      "text/plain": [
       "244"
      ]
     },
     "execution_count": 147,
     "metadata": {},
     "output_type": "execute_result"
    }
   ],
   "source": [
    "len(priceAf)"
   ]
  },
  {
   "cell_type": "code",
   "execution_count": 148,
   "metadata": {},
   "outputs": [
    {
     "data": {
      "text/plain": [
       "244"
      ]
     },
     "execution_count": 148,
     "metadata": {},
     "output_type": "execute_result"
    }
   ],
   "source": [
    "len(priceBf)"
   ]
  },
  {
   "cell_type": "code",
   "execution_count": 149,
   "metadata": {},
   "outputs": [
    {
     "data": {
      "text/plain": [
       "set()"
      ]
     },
     "execution_count": 149,
     "metadata": {},
     "output_type": "execute_result"
    }
   ],
   "source": [
    "diff_dates = set(list(priceAf.index)) - set(list(priceBf.index))\n",
    "diff_dates"
   ]
  },
  {
   "cell_type": "code",
   "execution_count": 150,
   "metadata": {
    "collapsed": true
   },
   "outputs": [
    {
     "name": "stdout",
     "output_type": "stream",
     "text": [
      "Cointegration Tested!\n",
      "                  P-value of ADF test: 0.02326844054339974;\n",
      "                  Coefficients of regression:\n",
      "                  Intercept: 0.9769838748986963;\n",
      "                  Beta: 1.0590794869512083\n",
      "                  \n"
     ]
    }
   ],
   "source": [
    "coefficients=pt.cointegration(priceAf, priceBf) "
   ]
  },
  {
   "cell_type": "code",
   "execution_count": 151,
   "metadata": {},
   "outputs": [
    {
     "data": {
      "text/plain": [
       "(0.9769838748986963, 1.0590794869512083)"
      ]
     },
     "execution_count": 151,
     "metadata": {},
     "output_type": "execute_result"
    }
   ],
   "source": [
    "coefficients"
   ]
  },
  {
   "cell_type": "code",
   "execution_count": 153,
   "metadata": {
    "collapsed": true
   },
   "outputs": [
    {
     "data": {
      "text/html": [
       "<div>\n",
       "<style scoped>\n",
       "    .dataframe tbody tr th:only-of-type {\n",
       "        vertical-align: middle;\n",
       "    }\n",
       "\n",
       "    .dataframe tbody tr th {\n",
       "        vertical-align: top;\n",
       "    }\n",
       "\n",
       "    .dataframe thead th {\n",
       "        text-align: right;\n",
       "    }\n",
       "</style>\n",
       "<table border=\"1\" class=\"dataframe\">\n",
       "  <thead>\n",
       "    <tr style=\"text-align: right;\">\n",
       "      <th></th>\n",
       "      <th>date</th>\n",
       "      <th>open</th>\n",
       "      <th>high</th>\n",
       "      <th>low</th>\n",
       "      <th>close</th>\n",
       "      <th>volume</th>\n",
       "    </tr>\n",
       "    <tr>\n",
       "      <th>date</th>\n",
       "      <th></th>\n",
       "      <th></th>\n",
       "      <th></th>\n",
       "      <th></th>\n",
       "      <th></th>\n",
       "      <th></th>\n",
       "    </tr>\n",
       "  </thead>\n",
       "  <tbody>\n",
       "    <tr>\n",
       "      <th>2006-07-05</th>\n",
       "      <td>2006-07-05</td>\n",
       "      <td>2.316</td>\n",
       "      <td>2.350</td>\n",
       "      <td>2.182</td>\n",
       "      <td>2.200</td>\n",
       "      <td>17639020.19</td>\n",
       "    </tr>\n",
       "    <tr>\n",
       "      <th>2006-07-06</th>\n",
       "      <td>2006-07-06</td>\n",
       "      <td>2.176</td>\n",
       "      <td>2.182</td>\n",
       "      <td>2.142</td>\n",
       "      <td>2.159</td>\n",
       "      <td>3725565.48</td>\n",
       "    </tr>\n",
       "    <tr>\n",
       "      <th>2006-07-07</th>\n",
       "      <td>2006-07-07</td>\n",
       "      <td>2.159</td>\n",
       "      <td>2.165</td>\n",
       "      <td>2.124</td>\n",
       "      <td>2.136</td>\n",
       "      <td>2097985.56</td>\n",
       "    </tr>\n",
       "    <tr>\n",
       "      <th>2006-07-10</th>\n",
       "      <td>2006-07-10</td>\n",
       "      <td>2.136</td>\n",
       "      <td>2.159</td>\n",
       "      <td>2.124</td>\n",
       "      <td>2.147</td>\n",
       "      <td>1127236.15</td>\n",
       "    </tr>\n",
       "    <tr>\n",
       "      <th>2006-07-11</th>\n",
       "      <td>2006-07-11</td>\n",
       "      <td>2.153</td>\n",
       "      <td>2.194</td>\n",
       "      <td>2.130</td>\n",
       "      <td>2.176</td>\n",
       "      <td>1356450.50</td>\n",
       "    </tr>\n",
       "    <tr>\n",
       "      <th>2006-07-12</th>\n",
       "      <td>2006-07-12</td>\n",
       "      <td>2.171</td>\n",
       "      <td>2.171</td>\n",
       "      <td>2.147</td>\n",
       "      <td>2.147</td>\n",
       "      <td>1007250.25</td>\n",
       "    </tr>\n",
       "    <tr>\n",
       "      <th>2006-07-13</th>\n",
       "      <td>2006-07-13</td>\n",
       "      <td>2.147</td>\n",
       "      <td>2.147</td>\n",
       "      <td>2.084</td>\n",
       "      <td>2.089</td>\n",
       "      <td>2589898.32</td>\n",
       "    </tr>\n",
       "    <tr>\n",
       "      <th>2006-07-14</th>\n",
       "      <td>2006-07-14</td>\n",
       "      <td>2.072</td>\n",
       "      <td>2.107</td>\n",
       "      <td>2.060</td>\n",
       "      <td>2.084</td>\n",
       "      <td>1189663.31</td>\n",
       "    </tr>\n",
       "    <tr>\n",
       "      <th>2006-07-17</th>\n",
       "      <td>2006-07-17</td>\n",
       "      <td>2.078</td>\n",
       "      <td>2.084</td>\n",
       "      <td>2.060</td>\n",
       "      <td>2.078</td>\n",
       "      <td>674959.33</td>\n",
       "    </tr>\n",
       "    <tr>\n",
       "      <th>2006-07-18</th>\n",
       "      <td>2006-07-18</td>\n",
       "      <td>2.084</td>\n",
       "      <td>2.084</td>\n",
       "      <td>2.054</td>\n",
       "      <td>2.072</td>\n",
       "      <td>572431.42</td>\n",
       "    </tr>\n",
       "    <tr>\n",
       "      <th>2006-07-19</th>\n",
       "      <td>2006-07-19</td>\n",
       "      <td>2.072</td>\n",
       "      <td>2.072</td>\n",
       "      <td>2.020</td>\n",
       "      <td>2.031</td>\n",
       "      <td>952228.36</td>\n",
       "    </tr>\n",
       "    <tr>\n",
       "      <th>2006-07-20</th>\n",
       "      <td>2006-07-20</td>\n",
       "      <td>2.025</td>\n",
       "      <td>2.043</td>\n",
       "      <td>2.025</td>\n",
       "      <td>2.037</td>\n",
       "      <td>531780.63</td>\n",
       "    </tr>\n",
       "    <tr>\n",
       "      <th>2006-07-21</th>\n",
       "      <td>2006-07-21</td>\n",
       "      <td>2.037</td>\n",
       "      <td>2.060</td>\n",
       "      <td>2.025</td>\n",
       "      <td>2.037</td>\n",
       "      <td>606348.62</td>\n",
       "    </tr>\n",
       "    <tr>\n",
       "      <th>2006-07-24</th>\n",
       "      <td>2006-07-24</td>\n",
       "      <td>2.020</td>\n",
       "      <td>2.025</td>\n",
       "      <td>2.002</td>\n",
       "      <td>2.008</td>\n",
       "      <td>667744.40</td>\n",
       "    </tr>\n",
       "    <tr>\n",
       "      <th>2006-07-25</th>\n",
       "      <td>2006-07-25</td>\n",
       "      <td>2.008</td>\n",
       "      <td>2.025</td>\n",
       "      <td>2.008</td>\n",
       "      <td>2.014</td>\n",
       "      <td>528183.80</td>\n",
       "    </tr>\n",
       "    <tr>\n",
       "      <th>2006-07-26</th>\n",
       "      <td>2006-07-26</td>\n",
       "      <td>2.014</td>\n",
       "      <td>2.014</td>\n",
       "      <td>1.991</td>\n",
       "      <td>2.002</td>\n",
       "      <td>744106.90</td>\n",
       "    </tr>\n",
       "    <tr>\n",
       "      <th>2006-07-27</th>\n",
       "      <td>2006-07-27</td>\n",
       "      <td>2.002</td>\n",
       "      <td>2.054</td>\n",
       "      <td>1.996</td>\n",
       "      <td>2.020</td>\n",
       "      <td>925821.90</td>\n",
       "    </tr>\n",
       "    <tr>\n",
       "      <th>2006-07-28</th>\n",
       "      <td>2006-07-28</td>\n",
       "      <td>2.020</td>\n",
       "      <td>2.020</td>\n",
       "      <td>1.991</td>\n",
       "      <td>2.002</td>\n",
       "      <td>591601.28</td>\n",
       "    </tr>\n",
       "    <tr>\n",
       "      <th>2006-07-31</th>\n",
       "      <td>2006-07-31</td>\n",
       "      <td>1.996</td>\n",
       "      <td>2.002</td>\n",
       "      <td>1.938</td>\n",
       "      <td>1.950</td>\n",
       "      <td>893224.02</td>\n",
       "    </tr>\n",
       "    <tr>\n",
       "      <th>2006-08-01</th>\n",
       "      <td>2006-08-01</td>\n",
       "      <td>1.950</td>\n",
       "      <td>1.950</td>\n",
       "      <td>1.915</td>\n",
       "      <td>1.927</td>\n",
       "      <td>884181.14</td>\n",
       "    </tr>\n",
       "    <tr>\n",
       "      <th>2006-08-02</th>\n",
       "      <td>2006-08-02</td>\n",
       "      <td>1.915</td>\n",
       "      <td>1.950</td>\n",
       "      <td>1.904</td>\n",
       "      <td>1.944</td>\n",
       "      <td>1025117.76</td>\n",
       "    </tr>\n",
       "    <tr>\n",
       "      <th>2006-08-03</th>\n",
       "      <td>2006-08-03</td>\n",
       "      <td>1.927</td>\n",
       "      <td>1.944</td>\n",
       "      <td>1.921</td>\n",
       "      <td>1.938</td>\n",
       "      <td>508897.34</td>\n",
       "    </tr>\n",
       "    <tr>\n",
       "      <th>2006-08-04</th>\n",
       "      <td>2006-08-04</td>\n",
       "      <td>1.938</td>\n",
       "      <td>1.944</td>\n",
       "      <td>1.904</td>\n",
       "      <td>1.909</td>\n",
       "      <td>448242.29</td>\n",
       "    </tr>\n",
       "    <tr>\n",
       "      <th>2006-08-07</th>\n",
       "      <td>2006-08-07</td>\n",
       "      <td>1.904</td>\n",
       "      <td>1.904</td>\n",
       "      <td>1.869</td>\n",
       "      <td>1.875</td>\n",
       "      <td>576077.80</td>\n",
       "    </tr>\n",
       "    <tr>\n",
       "      <th>2006-08-08</th>\n",
       "      <td>2006-08-08</td>\n",
       "      <td>1.875</td>\n",
       "      <td>1.904</td>\n",
       "      <td>1.875</td>\n",
       "      <td>1.898</td>\n",
       "      <td>444212.31</td>\n",
       "    </tr>\n",
       "    <tr>\n",
       "      <th>2006-08-09</th>\n",
       "      <td>2006-08-09</td>\n",
       "      <td>1.898</td>\n",
       "      <td>1.904</td>\n",
       "      <td>1.880</td>\n",
       "      <td>1.886</td>\n",
       "      <td>360779.38</td>\n",
       "    </tr>\n",
       "    <tr>\n",
       "      <th>2006-08-10</th>\n",
       "      <td>2006-08-10</td>\n",
       "      <td>1.886</td>\n",
       "      <td>1.909</td>\n",
       "      <td>1.886</td>\n",
       "      <td>1.904</td>\n",
       "      <td>379385.93</td>\n",
       "    </tr>\n",
       "    <tr>\n",
       "      <th>2006-08-11</th>\n",
       "      <td>2006-08-11</td>\n",
       "      <td>1.904</td>\n",
       "      <td>1.909</td>\n",
       "      <td>1.886</td>\n",
       "      <td>1.898</td>\n",
       "      <td>247081.27</td>\n",
       "    </tr>\n",
       "    <tr>\n",
       "      <th>2006-08-14</th>\n",
       "      <td>2006-08-14</td>\n",
       "      <td>1.898</td>\n",
       "      <td>1.909</td>\n",
       "      <td>1.869</td>\n",
       "      <td>1.880</td>\n",
       "      <td>414140.09</td>\n",
       "    </tr>\n",
       "    <tr>\n",
       "      <th>2006-08-15</th>\n",
       "      <td>2006-08-15</td>\n",
       "      <td>1.880</td>\n",
       "      <td>1.904</td>\n",
       "      <td>1.875</td>\n",
       "      <td>1.898</td>\n",
       "      <td>336707.74</td>\n",
       "    </tr>\n",
       "    <tr>\n",
       "      <th>...</th>\n",
       "      <td>...</td>\n",
       "      <td>...</td>\n",
       "      <td>...</td>\n",
       "      <td>...</td>\n",
       "      <td>...</td>\n",
       "      <td>...</td>\n",
       "    </tr>\n",
       "    <tr>\n",
       "      <th>2018-11-19</th>\n",
       "      <td>2018-11-19</td>\n",
       "      <td>3.610</td>\n",
       "      <td>3.640</td>\n",
       "      <td>3.600</td>\n",
       "      <td>3.640</td>\n",
       "      <td>1027669.00</td>\n",
       "    </tr>\n",
       "    <tr>\n",
       "      <th>2018-11-20</th>\n",
       "      <td>2018-11-20</td>\n",
       "      <td>3.630</td>\n",
       "      <td>3.630</td>\n",
       "      <td>3.600</td>\n",
       "      <td>3.600</td>\n",
       "      <td>919524.00</td>\n",
       "    </tr>\n",
       "    <tr>\n",
       "      <th>2018-11-21</th>\n",
       "      <td>2018-11-21</td>\n",
       "      <td>3.590</td>\n",
       "      <td>3.620</td>\n",
       "      <td>3.580</td>\n",
       "      <td>3.610</td>\n",
       "      <td>624893.00</td>\n",
       "    </tr>\n",
       "    <tr>\n",
       "      <th>2018-11-22</th>\n",
       "      <td>2018-11-22</td>\n",
       "      <td>3.620</td>\n",
       "      <td>3.620</td>\n",
       "      <td>3.590</td>\n",
       "      <td>3.610</td>\n",
       "      <td>480395.00</td>\n",
       "    </tr>\n",
       "    <tr>\n",
       "      <th>2018-11-23</th>\n",
       "      <td>2018-11-23</td>\n",
       "      <td>3.600</td>\n",
       "      <td>3.620</td>\n",
       "      <td>3.580</td>\n",
       "      <td>3.590</td>\n",
       "      <td>848500.00</td>\n",
       "    </tr>\n",
       "    <tr>\n",
       "      <th>2018-11-26</th>\n",
       "      <td>2018-11-26</td>\n",
       "      <td>3.590</td>\n",
       "      <td>3.620</td>\n",
       "      <td>3.590</td>\n",
       "      <td>3.600</td>\n",
       "      <td>845413.00</td>\n",
       "    </tr>\n",
       "    <tr>\n",
       "      <th>2018-11-27</th>\n",
       "      <td>2018-11-27</td>\n",
       "      <td>3.610</td>\n",
       "      <td>3.610</td>\n",
       "      <td>3.580</td>\n",
       "      <td>3.580</td>\n",
       "      <td>585087.00</td>\n",
       "    </tr>\n",
       "    <tr>\n",
       "      <th>2018-11-28</th>\n",
       "      <td>2018-11-28</td>\n",
       "      <td>3.580</td>\n",
       "      <td>3.620</td>\n",
       "      <td>3.580</td>\n",
       "      <td>3.600</td>\n",
       "      <td>590109.00</td>\n",
       "    </tr>\n",
       "    <tr>\n",
       "      <th>2018-11-29</th>\n",
       "      <td>2018-11-29</td>\n",
       "      <td>3.610</td>\n",
       "      <td>3.620</td>\n",
       "      <td>3.580</td>\n",
       "      <td>3.590</td>\n",
       "      <td>544740.00</td>\n",
       "    </tr>\n",
       "    <tr>\n",
       "      <th>2018-11-30</th>\n",
       "      <td>2018-11-30</td>\n",
       "      <td>3.580</td>\n",
       "      <td>3.610</td>\n",
       "      <td>3.580</td>\n",
       "      <td>3.610</td>\n",
       "      <td>661552.00</td>\n",
       "    </tr>\n",
       "    <tr>\n",
       "      <th>2018-12-03</th>\n",
       "      <td>2018-12-03</td>\n",
       "      <td>3.640</td>\n",
       "      <td>3.670</td>\n",
       "      <td>3.630</td>\n",
       "      <td>3.650</td>\n",
       "      <td>1198710.00</td>\n",
       "    </tr>\n",
       "    <tr>\n",
       "      <th>2018-12-04</th>\n",
       "      <td>2018-12-04</td>\n",
       "      <td>3.650</td>\n",
       "      <td>3.660</td>\n",
       "      <td>3.640</td>\n",
       "      <td>3.660</td>\n",
       "      <td>603398.00</td>\n",
       "    </tr>\n",
       "    <tr>\n",
       "      <th>2018-12-05</th>\n",
       "      <td>2018-12-05</td>\n",
       "      <td>3.630</td>\n",
       "      <td>3.650</td>\n",
       "      <td>3.630</td>\n",
       "      <td>3.640</td>\n",
       "      <td>568002.00</td>\n",
       "    </tr>\n",
       "    <tr>\n",
       "      <th>2018-12-06</th>\n",
       "      <td>2018-12-06</td>\n",
       "      <td>3.630</td>\n",
       "      <td>3.640</td>\n",
       "      <td>3.590</td>\n",
       "      <td>3.610</td>\n",
       "      <td>702069.00</td>\n",
       "    </tr>\n",
       "    <tr>\n",
       "      <th>2018-12-07</th>\n",
       "      <td>2018-12-07</td>\n",
       "      <td>3.610</td>\n",
       "      <td>3.610</td>\n",
       "      <td>3.590</td>\n",
       "      <td>3.600</td>\n",
       "      <td>325245.00</td>\n",
       "    </tr>\n",
       "    <tr>\n",
       "      <th>2018-12-10</th>\n",
       "      <td>2018-12-10</td>\n",
       "      <td>3.590</td>\n",
       "      <td>3.600</td>\n",
       "      <td>3.560</td>\n",
       "      <td>3.570</td>\n",
       "      <td>714778.00</td>\n",
       "    </tr>\n",
       "    <tr>\n",
       "      <th>2018-12-11</th>\n",
       "      <td>2018-12-11</td>\n",
       "      <td>3.570</td>\n",
       "      <td>3.580</td>\n",
       "      <td>3.560</td>\n",
       "      <td>3.570</td>\n",
       "      <td>508926.00</td>\n",
       "    </tr>\n",
       "    <tr>\n",
       "      <th>2018-12-12</th>\n",
       "      <td>2018-12-12</td>\n",
       "      <td>3.580</td>\n",
       "      <td>3.590</td>\n",
       "      <td>3.570</td>\n",
       "      <td>3.590</td>\n",
       "      <td>478602.00</td>\n",
       "    </tr>\n",
       "    <tr>\n",
       "      <th>2018-12-13</th>\n",
       "      <td>2018-12-13</td>\n",
       "      <td>3.590</td>\n",
       "      <td>3.620</td>\n",
       "      <td>3.570</td>\n",
       "      <td>3.600</td>\n",
       "      <td>665103.00</td>\n",
       "    </tr>\n",
       "    <tr>\n",
       "      <th>2018-12-14</th>\n",
       "      <td>2018-12-14</td>\n",
       "      <td>3.600</td>\n",
       "      <td>3.600</td>\n",
       "      <td>3.580</td>\n",
       "      <td>3.580</td>\n",
       "      <td>808597.00</td>\n",
       "    </tr>\n",
       "    <tr>\n",
       "      <th>2018-12-17</th>\n",
       "      <td>2018-12-17</td>\n",
       "      <td>3.580</td>\n",
       "      <td>3.610</td>\n",
       "      <td>3.570</td>\n",
       "      <td>3.610</td>\n",
       "      <td>699536.00</td>\n",
       "    </tr>\n",
       "    <tr>\n",
       "      <th>2018-12-18</th>\n",
       "      <td>2018-12-18</td>\n",
       "      <td>3.590</td>\n",
       "      <td>3.610</td>\n",
       "      <td>3.570</td>\n",
       "      <td>3.590</td>\n",
       "      <td>706631.00</td>\n",
       "    </tr>\n",
       "    <tr>\n",
       "      <th>2018-12-19</th>\n",
       "      <td>2018-12-19</td>\n",
       "      <td>3.600</td>\n",
       "      <td>3.600</td>\n",
       "      <td>3.570</td>\n",
       "      <td>3.580</td>\n",
       "      <td>571657.00</td>\n",
       "    </tr>\n",
       "    <tr>\n",
       "      <th>2018-12-20</th>\n",
       "      <td>2018-12-20</td>\n",
       "      <td>3.580</td>\n",
       "      <td>3.580</td>\n",
       "      <td>3.520</td>\n",
       "      <td>3.560</td>\n",
       "      <td>1174377.00</td>\n",
       "    </tr>\n",
       "    <tr>\n",
       "      <th>2018-12-21</th>\n",
       "      <td>2018-12-21</td>\n",
       "      <td>3.540</td>\n",
       "      <td>3.570</td>\n",
       "      <td>3.520</td>\n",
       "      <td>3.570</td>\n",
       "      <td>1135300.00</td>\n",
       "    </tr>\n",
       "    <tr>\n",
       "      <th>2018-12-24</th>\n",
       "      <td>2018-12-24</td>\n",
       "      <td>3.560</td>\n",
       "      <td>3.600</td>\n",
       "      <td>3.550</td>\n",
       "      <td>3.590</td>\n",
       "      <td>849482.00</td>\n",
       "    </tr>\n",
       "    <tr>\n",
       "      <th>2018-12-25</th>\n",
       "      <td>2018-12-25</td>\n",
       "      <td>3.580</td>\n",
       "      <td>3.630</td>\n",
       "      <td>3.560</td>\n",
       "      <td>3.610</td>\n",
       "      <td>1406612.00</td>\n",
       "    </tr>\n",
       "    <tr>\n",
       "      <th>2018-12-26</th>\n",
       "      <td>2018-12-26</td>\n",
       "      <td>3.610</td>\n",
       "      <td>3.630</td>\n",
       "      <td>3.600</td>\n",
       "      <td>3.630</td>\n",
       "      <td>930844.00</td>\n",
       "    </tr>\n",
       "    <tr>\n",
       "      <th>2018-12-27</th>\n",
       "      <td>2018-12-27</td>\n",
       "      <td>3.630</td>\n",
       "      <td>3.660</td>\n",
       "      <td>3.630</td>\n",
       "      <td>3.630</td>\n",
       "      <td>1585879.00</td>\n",
       "    </tr>\n",
       "    <tr>\n",
       "      <th>2018-12-28</th>\n",
       "      <td>2018-12-28</td>\n",
       "      <td>3.640</td>\n",
       "      <td>3.660</td>\n",
       "      <td>3.610</td>\n",
       "      <td>3.610</td>\n",
       "      <td>1088877.00</td>\n",
       "    </tr>\n",
       "  </tbody>\n",
       "</table>\n",
       "<p>3024 rows × 6 columns</p>\n",
       "</div>"
      ],
      "text/plain": [
       "                  date   open   high    low  close       volume\n",
       "date                                                           \n",
       "2006-07-05  2006-07-05  2.316  2.350  2.182  2.200  17639020.19\n",
       "2006-07-06  2006-07-06  2.176  2.182  2.142  2.159   3725565.48\n",
       "2006-07-07  2006-07-07  2.159  2.165  2.124  2.136   2097985.56\n",
       "2006-07-10  2006-07-10  2.136  2.159  2.124  2.147   1127236.15\n",
       "2006-07-11  2006-07-11  2.153  2.194  2.130  2.176   1356450.50\n",
       "2006-07-12  2006-07-12  2.171  2.171  2.147  2.147   1007250.25\n",
       "2006-07-13  2006-07-13  2.147  2.147  2.084  2.089   2589898.32\n",
       "2006-07-14  2006-07-14  2.072  2.107  2.060  2.084   1189663.31\n",
       "2006-07-17  2006-07-17  2.078  2.084  2.060  2.078    674959.33\n",
       "2006-07-18  2006-07-18  2.084  2.084  2.054  2.072    572431.42\n",
       "2006-07-19  2006-07-19  2.072  2.072  2.020  2.031    952228.36\n",
       "2006-07-20  2006-07-20  2.025  2.043  2.025  2.037    531780.63\n",
       "2006-07-21  2006-07-21  2.037  2.060  2.025  2.037    606348.62\n",
       "2006-07-24  2006-07-24  2.020  2.025  2.002  2.008    667744.40\n",
       "2006-07-25  2006-07-25  2.008  2.025  2.008  2.014    528183.80\n",
       "2006-07-26  2006-07-26  2.014  2.014  1.991  2.002    744106.90\n",
       "2006-07-27  2006-07-27  2.002  2.054  1.996  2.020    925821.90\n",
       "2006-07-28  2006-07-28  2.020  2.020  1.991  2.002    591601.28\n",
       "2006-07-31  2006-07-31  1.996  2.002  1.938  1.950    893224.02\n",
       "2006-08-01  2006-08-01  1.950  1.950  1.915  1.927    884181.14\n",
       "2006-08-02  2006-08-02  1.915  1.950  1.904  1.944   1025117.76\n",
       "2006-08-03  2006-08-03  1.927  1.944  1.921  1.938    508897.34\n",
       "2006-08-04  2006-08-04  1.938  1.944  1.904  1.909    448242.29\n",
       "2006-08-07  2006-08-07  1.904  1.904  1.869  1.875    576077.80\n",
       "2006-08-08  2006-08-08  1.875  1.904  1.875  1.898    444212.31\n",
       "2006-08-09  2006-08-09  1.898  1.904  1.880  1.886    360779.38\n",
       "2006-08-10  2006-08-10  1.886  1.909  1.886  1.904    379385.93\n",
       "2006-08-11  2006-08-11  1.904  1.909  1.886  1.898    247081.27\n",
       "2006-08-14  2006-08-14  1.898  1.909  1.869  1.880    414140.09\n",
       "2006-08-15  2006-08-15  1.880  1.904  1.875  1.898    336707.74\n",
       "...                ...    ...    ...    ...    ...          ...\n",
       "2018-11-19  2018-11-19  3.610  3.640  3.600  3.640   1027669.00\n",
       "2018-11-20  2018-11-20  3.630  3.630  3.600  3.600    919524.00\n",
       "2018-11-21  2018-11-21  3.590  3.620  3.580  3.610    624893.00\n",
       "2018-11-22  2018-11-22  3.620  3.620  3.590  3.610    480395.00\n",
       "2018-11-23  2018-11-23  3.600  3.620  3.580  3.590    848500.00\n",
       "2018-11-26  2018-11-26  3.590  3.620  3.590  3.600    845413.00\n",
       "2018-11-27  2018-11-27  3.610  3.610  3.580  3.580    585087.00\n",
       "2018-11-28  2018-11-28  3.580  3.620  3.580  3.600    590109.00\n",
       "2018-11-29  2018-11-29  3.610  3.620  3.580  3.590    544740.00\n",
       "2018-11-30  2018-11-30  3.580  3.610  3.580  3.610    661552.00\n",
       "2018-12-03  2018-12-03  3.640  3.670  3.630  3.650   1198710.00\n",
       "2018-12-04  2018-12-04  3.650  3.660  3.640  3.660    603398.00\n",
       "2018-12-05  2018-12-05  3.630  3.650  3.630  3.640    568002.00\n",
       "2018-12-06  2018-12-06  3.630  3.640  3.590  3.610    702069.00\n",
       "2018-12-07  2018-12-07  3.610  3.610  3.590  3.600    325245.00\n",
       "2018-12-10  2018-12-10  3.590  3.600  3.560  3.570    714778.00\n",
       "2018-12-11  2018-12-11  3.570  3.580  3.560  3.570    508926.00\n",
       "2018-12-12  2018-12-12  3.580  3.590  3.570  3.590    478602.00\n",
       "2018-12-13  2018-12-13  3.590  3.620  3.570  3.600    665103.00\n",
       "2018-12-14  2018-12-14  3.600  3.600  3.580  3.580    808597.00\n",
       "2018-12-17  2018-12-17  3.580  3.610  3.570  3.610    699536.00\n",
       "2018-12-18  2018-12-18  3.590  3.610  3.570  3.590    706631.00\n",
       "2018-12-19  2018-12-19  3.600  3.600  3.570  3.580    571657.00\n",
       "2018-12-20  2018-12-20  3.580  3.580  3.520  3.560   1174377.00\n",
       "2018-12-21  2018-12-21  3.540  3.570  3.520  3.570   1135300.00\n",
       "2018-12-24  2018-12-24  3.560  3.600  3.550  3.590    849482.00\n",
       "2018-12-25  2018-12-25  3.580  3.630  3.560  3.610   1406612.00\n",
       "2018-12-26  2018-12-26  3.610  3.630  3.600  3.630    930844.00\n",
       "2018-12-27  2018-12-27  3.630  3.660  3.630  3.630   1585879.00\n",
       "2018-12-28  2018-12-28  3.640  3.660  3.610  3.610   1088877.00\n",
       "\n",
       "[3024 rows x 6 columns]"
      ]
     },
     "execution_count": 153,
     "metadata": {},
     "output_type": "execute_result"
    }
   ],
   "source": [
    "priceA"
   ]
  },
  {
   "cell_type": "code",
   "execution_count": 155,
   "metadata": {},
   "outputs": [],
   "source": [
    "priceA=priceA['close']\n",
    "priceB=priceB['close']"
   ]
  },
  {
   "cell_type": "code",
   "execution_count": 156,
   "metadata": {},
   "outputs": [
    {
     "name": "stdout",
     "output_type": "stream",
     "text": [
      "Error: formPeriod or tradePeriod data format issues!\n",
      "Cointegration Tested!\n",
      "                  P-value of ADF test: 0.02326844054339974;\n",
      "                  Coefficients of regression:\n",
      "                  Intercept: 0.9769838748986963;\n",
      "                  Beta: 1.0590794869512083\n",
      "                  \n"
     ]
    }
   ],
   "source": [
    "CoSpreadF=pt.CointegrationSpread(priceA,priceB,formPeriod,formPeriod)"
   ]
  },
  {
   "cell_type": "code",
   "execution_count": 157,
   "metadata": {},
   "outputs": [
    {
     "data": {
      "text/plain": [
       "count    2.440000e+02\n",
       "mean    -3.763383e-15\n",
       "std      3.062290e-02\n",
       "min     -6.137529e-02\n",
       "25%     -2.618225e-02\n",
       "50%     -4.440957e-03\n",
       "75%      2.429209e-02\n",
       "max      8.023265e-02\n",
       "Name: close, dtype: float64"
      ]
     },
     "execution_count": 157,
     "metadata": {},
     "output_type": "execute_result"
    }
   ],
   "source": [
    "CoSpreadF.describe()"
   ]
  },
  {
   "cell_type": "code",
   "execution_count": 163,
   "metadata": {},
   "outputs": [
    {
     "name": "stdout",
     "output_type": "stream",
     "text": [
      "Cointegration Tested!\n",
      "                  P-value of ADF test: 0.02326844054339974;\n",
      "                  Coefficients of regression:\n",
      "                  Intercept: 0.9769838748986963;\n",
      "                  Beta: 1.0590794869512083\n",
      "                  \n"
     ]
    }
   ],
   "source": [
    "bound=pt.calBound(priceA, priceB, 'Cointegration', formPeriod, width = 1.2)"
   ]
  },
  {
   "cell_type": "code",
   "execution_count": 165,
   "metadata": {},
   "outputs": [
    {
     "data": {
      "text/plain": [
       "(0.036672103363837236, -0.03667210336384476)"
      ]
     },
     "execution_count": 165,
     "metadata": {},
     "output_type": "execute_result"
    }
   ],
   "source": [
    "bound"
   ]
  },
  {
   "cell_type": "code",
   "execution_count": null,
   "metadata": {},
   "outputs": [],
   "source": []
  },
  {
   "cell_type": "markdown",
   "metadata": {},
   "source": [
    "# Python实测配对交易交易策略"
   ]
  },
  {
   "cell_type": "code",
   "execution_count": 168,
   "metadata": {},
   "outputs": [],
   "source": [
    "formStart = \"2014-01-01\"\n",
    "formEnd = \"2015-01-01\"\n",
    "\n",
    "PA = priceA.copy()\n",
    "PB = priceB.copy()\n",
    "\n",
    "PAf = priceA[formStart:formEnd]\n",
    "PBf = priceB[formStart:formEnd]"
   ]
  },
  {
   "cell_type": "code",
   "execution_count": 171,
   "metadata": {},
   "outputs": [
    {
     "name": "stdout",
     "output_type": "stream",
     "text": [
      "   Augmented Dickey-Fuller Results   \n",
      "=====================================\n",
      "Test Statistic                  3.397\n",
      "P-value                         1.000\n",
      "Lags                               12\n",
      "-------------------------------------\n",
      "\n",
      "Trend: Constant\n",
      "Critical Values: -3.46 (1%), -2.87 (5%), -2.57 (10%)\n",
      "Null Hypothesis: The process contains a unit root.\n",
      "Alternative Hypothesis: The process is weakly stationary.\n"
     ]
    }
   ],
   "source": [
    "# 中国银行一阶协整关系检验：\n",
    "\n",
    "log_PAf=np.log(PAf)\n",
    "adfA=ADF(log_PAf)\n",
    "print(adfA.summary().as_text())"
   ]
  },
  {
   "cell_type": "code",
   "execution_count": 172,
   "metadata": {},
   "outputs": [
    {
     "name": "stdout",
     "output_type": "stream",
     "text": [
      "   Augmented Dickey-Fuller Results   \n",
      "=====================================\n",
      "Test Statistic                 -2.864\n",
      "P-value                         0.050\n",
      "Lags                               14\n",
      "-------------------------------------\n",
      "\n",
      "Trend: Constant\n",
      "Critical Values: -3.46 (1%), -2.87 (5%), -2.57 (10%)\n",
      "Null Hypothesis: The process contains a unit root.\n",
      "Alternative Hypothesis: The process is weakly stationary.\n"
     ]
    }
   ],
   "source": [
    "adfAd=ADF(log_PAf.diff()[1:])\n",
    "print(adfAd.summary().as_text())"
   ]
  },
  {
   "cell_type": "code",
   "execution_count": 175,
   "metadata": {},
   "outputs": [
    {
     "data": {
      "text/plain": [
       "<matplotlib.axes._subplots.AxesSubplot at 0x102e14630>"
      ]
     },
     "execution_count": 175,
     "metadata": {},
     "output_type": "execute_result"
    },
    {
     "data": {
      "image/png": "[encoded data removed]",
      "text/plain": [
       "<Figure size 432x288 with 1 Axes>"
      ]
     },
     "metadata": {
      "needs_background": "light"
     },
     "output_type": "display_data"
    }
   ],
   "source": [
    "PBf.plot()"
   ]
  },
  {
   "cell_type": "code",
   "execution_count": 176,
   "metadata": {},
   "outputs": [
    {
     "name": "stdout",
     "output_type": "stream",
     "text": [
      "   Augmented Dickey-Fuller Results   \n",
      "=====================================\n",
      "Test Statistic                  2.362\n",
      "P-value                         0.999\n",
      "Lags                               12\n",
      "-------------------------------------\n",
      "\n",
      "Trend: Constant\n",
      "Critical Values: -3.46 (1%), -2.87 (5%), -2.57 (10%)\n",
      "Null Hypothesis: The process contains a unit root.\n",
      "Alternative Hypothesis: The process is weakly stationary.\n"
     ]
    }
   ],
   "source": [
    "# 浦发银行一阶单整检验\n",
    "log_PBf=np.log(PBf)\n",
    "adfB=ADF(log_PBf)\n",
    "print(adfB.summary().as_text())"
   ]
  },
  {
   "cell_type": "code",
   "execution_count": 177,
   "metadata": {},
   "outputs": [
    {
     "data": {
      "text/plain": [
       "<matplotlib.axes._subplots.AxesSubplot at 0x1c10329630>"
      ]
     },
     "execution_count": 177,
     "metadata": {},
     "output_type": "execute_result"
    },
    {
     "data": {
      "image/png": "[encoded data removed]",
      "text/plain": [
       "<Figure size 432x288 with 1 Axes>"
      ]
     },
     "metadata": {
      "needs_background": "light"
     },
     "output_type": "display_data"
    }
   ],
   "source": [
    "log_PBf.plot()"
   ]
  },
  {
   "cell_type": "code",
   "execution_count": 182,
   "metadata": {},
   "outputs": [
    {
     "name": "stdout",
     "output_type": "stream",
     "text": [
      "   Augmented Dickey-Fuller Results   \n",
      "=====================================\n",
      "Test Statistic                 -3.842\n",
      "P-value                         0.003\n",
      "Lags                               11\n",
      "-------------------------------------\n",
      "\n",
      "Trend: Constant\n",
      "Critical Values: -3.46 (1%), -2.87 (5%), -2.57 (10%)\n",
      "Null Hypothesis: The process contains a unit root.\n",
      "Alternative Hypothesis: The process is weakly stationary.\n"
     ]
    }
   ],
   "source": [
    "adfBd=ADF(log_PBf.diff()[1:])\n",
    "print(adfBd.summary().as_text())"
   ]
  },
  {
   "cell_type": "code",
   "execution_count": 185,
   "metadata": {},
   "outputs": [
    {
     "data": {
      "text/html": [
       "<table class=\"simpletable\">\n",
       "<caption>OLS Regression Results</caption>\n",
       "<tr>\n",
       "  <th>Dep. Variable:</th>          <td>close</td>      <th>  R-squared:         </th> <td>   0.948</td> \n",
       "</tr>\n",
       "<tr>\n",
       "  <th>Model:</th>                   <td>OLS</td>       <th>  Adj. R-squared:    </th> <td>   0.948</td> \n",
       "</tr>\n",
       "<tr>\n",
       "  <th>Method:</th>             <td>Least Squares</td>  <th>  F-statistic:       </th> <td>   4438.</td> \n",
       "</tr>\n",
       "<tr>\n",
       "  <th>Date:</th>             <td>Sun, 21 Jul 2019</td> <th>  Prob (F-statistic):</th> <td>1.14e-157</td>\n",
       "</tr>\n",
       "<tr>\n",
       "  <th>Time:</th>                 <td>15:57:22</td>     <th>  Log-Likelihood:    </th> <td>  504.87</td> \n",
       "</tr>\n",
       "<tr>\n",
       "  <th>No. Observations:</th>      <td>   244</td>      <th>  AIC:               </th> <td>  -1006.</td> \n",
       "</tr>\n",
       "<tr>\n",
       "  <th>Df Residuals:</th>          <td>   242</td>      <th>  BIC:               </th> <td>  -998.7</td> \n",
       "</tr>\n",
       "<tr>\n",
       "  <th>Df Model:</th>              <td>     1</td>      <th>                     </th>     <td> </td>    \n",
       "</tr>\n",
       "<tr>\n",
       "  <th>Covariance Type:</th>      <td>nonrobust</td>    <th>                     </th>     <td> </td>    \n",
       "</tr>\n",
       "</table>\n",
       "<table class=\"simpletable\">\n",
       "<tr>\n",
       "    <td></td>       <th>coef</th>     <th>std err</th>      <th>t</th>      <th>P>|t|</th>  <th>[0.025</th>    <th>0.975]</th>  \n",
       "</tr>\n",
       "<tr>\n",
       "  <th>const</th> <td>    0.9770</td> <td>    0.013</td> <td>   77.531</td> <td> 0.000</td> <td>    0.952</td> <td>    1.002</td>\n",
       "</tr>\n",
       "<tr>\n",
       "  <th>close</th> <td>    1.0591</td> <td>    0.016</td> <td>   66.622</td> <td> 0.000</td> <td>    1.028</td> <td>    1.090</td>\n",
       "</tr>\n",
       "</table>\n",
       "<table class=\"simpletable\">\n",
       "<tr>\n",
       "  <th>Omnibus:</th>       <td>20.816</td> <th>  Durbin-Watson:     </th> <td>   0.158</td>\n",
       "</tr>\n",
       "<tr>\n",
       "  <th>Prob(Omnibus):</th> <td> 0.000</td> <th>  Jarque-Bera (JB):  </th> <td>  13.738</td>\n",
       "</tr>\n",
       "<tr>\n",
       "  <th>Skew:</th>          <td> 0.451</td> <th>  Prob(JB):          </th> <td> 0.00104</td>\n",
       "</tr>\n",
       "<tr>\n",
       "  <th>Kurtosis:</th>      <td> 2.267</td> <th>  Cond. No.          </th> <td>    13.1</td>\n",
       "</tr>\n",
       "</table><br/><br/>Warnings:<br/>[1] Standard Errors assume that the covariance matrix of the errors is correctly specified."
      ],
      "text/plain": [
       "<class 'statsmodels.iolib.summary.Summary'>\n",
       "\"\"\"\n",
       "                            OLS Regression Results                            \n",
       "==============================================================================\n",
       "Dep. Variable:                  close   R-squared:                       0.948\n",
       "Model:                            OLS   Adj. R-squared:                  0.948\n",
       "Method:                 Least Squares   F-statistic:                     4438.\n",
       "Date:                Sun, 21 Jul 2019   Prob (F-statistic):          1.14e-157\n",
       "Time:                        15:57:22   Log-Likelihood:                 504.87\n",
       "No. Observations:                 244   AIC:                            -1006.\n",
       "Df Residuals:                     242   BIC:                            -998.7\n",
       "Df Model:                           1                                         \n",
       "Covariance Type:            nonrobust                                         \n",
       "==============================================================================\n",
       "                 coef    std err          t      P>|t|      [0.025      0.975]\n",
       "------------------------------------------------------------------------------\n",
       "const          0.9770      0.013     77.531      0.000       0.952       1.002\n",
       "close          1.0591      0.016     66.622      0.000       1.028       1.090\n",
       "==============================================================================\n",
       "Omnibus:                       20.816   Durbin-Watson:                   0.158\n",
       "Prob(Omnibus):                  0.000   Jarque-Bera (JB):               13.738\n",
       "Skew:                           0.451   Prob(JB):                      0.00104\n",
       "Kurtosis:                       2.267   Cond. No.                         13.1\n",
       "==============================================================================\n",
       "\n",
       "Warnings:\n",
       "[1] Standard Errors assume that the covariance matrix of the errors is correctly specified.\n",
       "\"\"\""
      ]
     },
     "execution_count": 185,
     "metadata": {},
     "output_type": "execute_result"
    }
   ],
   "source": [
    "# 协整关系检验：\n",
    "model=sm.OLS(log_PBf,sm.add_constant(log_PAf)).fit()\n",
    "model.summary()"
   ]
  },
  {
   "cell_type": "code",
   "execution_count": 186,
   "metadata": {},
   "outputs": [
    {
     "data": {
      "text/plain": [
       "0.9769838748986963"
      ]
     },
     "execution_count": 186,
     "metadata": {},
     "output_type": "execute_result"
    }
   ],
   "source": [
    "alpha=model.params[0]\n",
    "alpha"
   ]
  },
  {
   "cell_type": "code",
   "execution_count": 187,
   "metadata": {},
   "outputs": [
    {
     "data": {
      "text/plain": [
       "1.0590794869512083"
      ]
     },
     "execution_count": 187,
     "metadata": {},
     "output_type": "execute_result"
    }
   ],
   "source": [
    "beta=model.params[1]\n",
    "beta"
   ]
  },
  {
   "cell_type": "code",
   "execution_count": 214,
   "metadata": {},
   "outputs": [
    {
     "name": "stdout",
     "output_type": "stream",
     "text": [
      "   Augmented Dickey-Fuller Results   \n",
      "=====================================\n",
      "Test Statistic                 -3.147\n",
      "P-value                         0.023\n",
      "Lags                                0\n",
      "-------------------------------------\n",
      "\n",
      "Trend: Constant\n",
      "Critical Values: -3.46 (1%), -2.87 (5%), -2.57 (10%)\n",
      "Null Hypothesis: The process contains a unit root.\n",
      "Alternative Hypothesis: The process is weakly stationary.\n"
     ]
    }
   ],
   "source": [
    "# 残差单位根检验\n",
    "spreadf=log_PBf-beta*log_PAf-alpha\n",
    "adfSpread=ADF(spreadf)\n",
    "print(adfSpread.summary().as_text())"
   ]
  },
  {
   "cell_type": "code",
   "execution_count": 215,
   "metadata": {},
   "outputs": [],
   "source": [
    "mu=np.mean(spreadf)\n",
    "sd=np.std(spreadf)"
   ]
  },
  {
   "cell_type": "code",
   "execution_count": 216,
   "metadata": {
    "collapsed": true
   },
   "outputs": [
    {
     "data": {
      "text/plain": [
       "date\n",
       "2014-01-02   -0.010653\n",
       "2014-01-03   -0.011176\n",
       "2014-01-06    0.006769\n",
       "2014-01-07    0.005580\n",
       "2014-01-08    0.016590\n",
       "2014-01-09    0.030676\n",
       "2014-01-10    0.047378\n",
       "2014-01-13    0.032613\n",
       "2014-01-14    0.038061\n",
       "2014-01-15    0.019895\n",
       "2014-01-16    0.018766\n",
       "2014-01-17    0.020566\n",
       "2014-01-20    0.019422\n",
       "2014-01-21    0.029262\n",
       "2014-01-22    0.031741\n",
       "2014-01-23    0.031452\n",
       "2014-01-24    0.028133\n",
       "2014-01-27    0.020566\n",
       "2014-01-28    0.023724\n",
       "2014-01-29    0.017574\n",
       "2014-01-30    0.013274\n",
       "2014-02-07    0.022618\n",
       "2014-02-10    0.026291\n",
       "2014-02-11    0.036068\n",
       "2014-02-12    0.036118\n",
       "2014-02-13    0.042257\n",
       "2014-02-14    0.045515\n",
       "2014-02-17    0.033937\n",
       "2014-02-18    0.010499\n",
       "2014-02-19   -0.002134\n",
       "                ...   \n",
       "2014-11-20   -0.013755\n",
       "2014-11-21   -0.003936\n",
       "2014-11-24    0.006365\n",
       "2014-11-25    0.015708\n",
       "2014-11-26    0.008749\n",
       "2014-11-27    0.012466\n",
       "2014-11-28    0.006781\n",
       "2014-12-01   -0.028301\n",
       "2014-12-02   -0.026674\n",
       "2014-12-03   -0.003776\n",
       "2014-12-04    0.012951\n",
       "2014-12-05   -0.014572\n",
       "2014-12-08    0.014508\n",
       "2014-12-09    0.026795\n",
       "2014-12-10    0.047307\n",
       "2014-12-11    0.054783\n",
       "2014-12-12    0.049453\n",
       "2014-12-15    0.048442\n",
       "2014-12-16    0.054200\n",
       "2014-12-17    0.071468\n",
       "2014-12-18    0.079723\n",
       "2014-12-19    0.070014\n",
       "2014-12-22    0.011150\n",
       "2014-12-23    0.018819\n",
       "2014-12-24    0.015266\n",
       "2014-12-25    0.028603\n",
       "2014-12-26    0.036420\n",
       "2014-12-29    0.040211\n",
       "2014-12-30    0.042837\n",
       "2014-12-31    0.009253\n",
       "Name: close, Length: 244, dtype: float64"
      ]
     },
     "execution_count": 216,
     "metadata": {},
     "output_type": "execute_result"
    }
   ],
   "source": [
    "spreadf"
   ]
  },
  {
   "cell_type": "code",
   "execution_count": 217,
   "metadata": {},
   "outputs": [],
   "source": [
    "# 设定交易期\n",
    "tradeStart=\"2015-01-01\"\n",
    "tradeEnd=\"2015-06-30\"\n",
    "\n",
    "PAt=PA[tradeStart:tradeEnd]\n",
    "PBt=PB[tradeStart:tradeEnd]"
   ]
  },
  {
   "cell_type": "code",
   "execution_count": 218,
   "metadata": {},
   "outputs": [
    {
     "data": {
      "text/plain": [
       "count    112.000000\n",
       "mean      -0.034960\n",
       "std        0.053322\n",
       "min       -0.161528\n",
       "25%       -0.061236\n",
       "50%       -0.030105\n",
       "75%        0.004538\n",
       "max        0.059826\n",
       "Name: close, dtype: float64"
      ]
     },
     "execution_count": 218,
     "metadata": {},
     "output_type": "execute_result"
    }
   ],
   "source": [
    "CoSpreadT=np.log(PBt)-beta*np.log(PAt)-alpha\n",
    "CoSpreadT.describe()"
   ]
  },
  {
   "cell_type": "code",
   "execution_count": 219,
   "metadata": {},
   "outputs": [],
   "source": [
    "CoSpreadT.dropna(inplace=True)"
   ]
  },
  {
   "cell_type": "code",
   "execution_count": 220,
   "metadata": {},
   "outputs": [
    {
     "data": {
      "text/plain": [
       "<matplotlib.axes._subplots.AxesSubplot at 0x1c10a5f710>"
      ]
     },
     "execution_count": 220,
     "metadata": {},
     "output_type": "execute_result"
    },
    {
     "data": {
      "image/png": "[encoded data removed]",
      "text/plain": [
       "<Figure size 1296x360 with 1 Axes>"
      ]
     },
     "metadata": {
      "needs_background": "light"
     },
     "output_type": "display_data"
    }
   ],
   "source": [
    "CoSpreadT.plot(figsize=(18, 5))"
   ]
  },
  {
   "cell_type": "code",
   "execution_count": 221,
   "metadata": {},
   "outputs": [
    {
     "data": {
      "text/plain": [
       "-3.763383047817488e-15"
      ]
     },
     "execution_count": 221,
     "metadata": {},
     "output_type": "execute_result"
    }
   ],
   "source": [
    "mu"
   ]
  },
  {
   "cell_type": "code",
   "execution_count": 226,
   "metadata": {},
   "outputs": [
    {
     "data": {
      "text/plain": [
       "<matplotlib.lines.Line2D at 0x1c1392aef0>"
      ]
     },
     "execution_count": 226,
     "metadata": {},
     "output_type": "execute_result"
    },
    {
     "data": {
      "image/png": "[encoded data removed]",
      "text/plain": [
       "<Figure size 1080x360 with 1 Axes>"
      ]
     },
     "metadata": {
      "needs_background": "light"
     },
     "output_type": "display_data"
    }
   ],
   "source": [
    "CoSpreadT.plot(figsize=(15,5))\n",
    "plt.title(\"tradeperiod_coint_pairs\")\n",
    "plt.axhline(y=mu,color='black')\n",
    "plt.axhline(y=mu+0.2*sd,color='blue',ls='-',lw=2)\n",
    "plt.axhline(y=mu-0.2*sd,color='blue',ls='-',lw=2)\n",
    "plt.axhline(y=mu+1.5*sd,color='green',ls='--',lw=2.5)\n",
    "plt.axhline(y=mu-1.5*sd,color='green',ls='--',lw=2.5)\n",
    "plt.axhline(y=mu+2.5*sd,color='red',ls='-.',lw=3)\n",
    "plt.axhline(y=mu-2.5*sd,color='red',ls='-.',lw=3)"
   ]
  },
  {
   "cell_type": "code",
   "execution_count": null,
   "metadata": {},
   "outputs": [],
   "source": []
  }
 ],
 "metadata": {
  "kernelspec": {
   "display_name": "Python 3",
   "language": "python",
   "name": "python3"
  },
  "language_info": {
   "codemirror_mode": {
    "name": "ipython",
    "version": 3
   },
   "file_extension": ".py",
   "mimetype": "text/x-python",
   "name": "python",
   "nbconvert_exporter": "python",
   "pygments_lexer": "ipython3",
   "version": "3.5.6"
  }
 },
 "nbformat": 4,
 "nbformat_minor": 2
}
