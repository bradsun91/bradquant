{
 "cells": [
  {
   "cell_type": "code",
   "execution_count": 1,
   "metadata": {},
   "outputs": [],
   "source": [
    "#import required packages\n",
    "#使用ib_insync是一个能比较简单的提取数据的包（相比于ib_api自带的功能）\n",
    "import pandas as pd\n",
    "from ib_insync import *\n",
    "util.startLoop()\n",
    "\n",
    "import matplotlib.pyplot as plt\n",
    "import seaborn as sns\n",
    "%matplotlib inline\n",
    "sns.set(context='notebook', style='darkgrid', palette='deep', font='sans-serif', font_scale=1, color_codes=False, rc=None)"
   ]
  },
  {
   "cell_type": "code",
   "execution_count": 2,
   "metadata": {},
   "outputs": [
    {
     "data": {
      "text/plain": [
       "<IB connected to 127.0.0.1:7497 clientId=100>"
      ]
     },
     "execution_count": 2,
     "metadata": {},
     "output_type": "execute_result"
    }
   ],
   "source": [
    "#establish connection with IB TWS\n",
    "ib = IB()\n",
    "ib.connect('127.0.0.1', 7497, clientId=100)"
   ]
  },
  {
   "cell_type": "code",
   "execution_count": 59,
   "metadata": {},
   "outputs": [],
   "source": [
    "# #因为我们现在使用的是demo mode，所以这里使用汇率作为取数据演示\n",
    "# contract = Forex('USDJPY')\n",
    "# bars = ib.reqHistoricalData(\n",
    "#     contract, endDateTime='', durationStr='1 Y',\n",
    "#     barSizeSetting='1 day', whatToShow='MIDPOINT', useRTH=True)\n",
    "\n",
    "# # convert to pandas dataframe:\n",
    "# df = util.df(bars)\n",
    "# df.head()"
   ]
  },
  {
   "cell_type": "code",
   "execution_count": 3,
   "metadata": {},
   "outputs": [
    {
     "name": "stderr",
     "output_type": "stream",
     "text": [
      "Error 162, reqId 413: Historical Market Data Service error message:Trading TWS session is connected from a different IP address, contract: Stock(symbol='TSLA', exchange='SMART', currency='USD')\n"
     ]
    },
    {
     "data": {
      "text/plain": [
       "[]"
      ]
     },
     "execution_count": 3,
     "metadata": {},
     "output_type": "execute_result"
    }
   ],
   "source": [
    "contract = Stock('TSLA', 'SMART', 'USD')\n",
    "\n",
    "ib.reqHeadTimeStamp(contract, whatToShow='TRADES', useRTH=True)"
   ]
  },
  {
   "cell_type": "code",
   "execution_count": 12,
   "metadata": {},
   "outputs": [
    {
     "name": "stderr",
     "output_type": "stream",
     "text": [
      "Error 321, reqId 417: Error validating request.-'bT' : cause - End date not supported with adjusted last, contract: Stock(symbol='QQQ', exchange='SMART', currency='USD')\n"
     ]
    }
   ],
   "source": [
    "contract = Stock('QQQ', 'SMART', 'USD')\n",
    "dt = '20200101'\n",
    "barsList = []\n",
    "while True:\n",
    "    bars = ib.reqHistoricalData(\n",
    "        contract,\n",
    "        endDateTime=dt,\n",
    "        durationStr='10 D',\n",
    "        barSizeSetting='1 hour',\n",
    "        whatToShow='ADJUSTED_LAST',\n",
    "        useRTH=True,\n",
    "#         formatDateb=1\n",
    "    )\n",
    "    if not bars:\n",
    "        break\n",
    "    barsList.append(bars)\n",
    "    dt = bars[0].date\n",
    "    print(dt)\n",
    "# save to CSV file\n",
    "allBars = [b for bars in reversed(barsList) for b in bars]\n",
    "df = util.df(allBars)"
   ]
  },
  {
   "cell_type": "code",
   "execution_count": 11,
   "metadata": {},
   "outputs": [
    {
     "ename": "AttributeError",
     "evalue": "'NoneType' object has no attribute 'set_index'",
     "output_type": "error",
     "traceback": [
      "\u001b[0;31m---------------------------------------------------------------------------\u001b[0m",
      "\u001b[0;31mAttributeError\u001b[0m                            Traceback (most recent call last)",
      "\u001b[0;32m<ipython-input-11-eff954683595>\u001b[0m in \u001b[0;36m<module>\u001b[0;34m\u001b[0m\n\u001b[0;32m----> 1\u001b[0;31m \u001b[0mdf\u001b[0m\u001b[0;34m.\u001b[0m\u001b[0mset_index\u001b[0m\u001b[0;34m(\u001b[0m\u001b[0;34m'date'\u001b[0m\u001b[0;34m,\u001b[0m \u001b[0minplace\u001b[0m\u001b[0;34m=\u001b[0m\u001b[0;32mTrue\u001b[0m\u001b[0;34m)\u001b[0m\u001b[0;34m\u001b[0m\u001b[0;34m\u001b[0m\u001b[0m\n\u001b[0m",
      "\u001b[0;31mAttributeError\u001b[0m: 'NoneType' object has no attribute 'set_index'"
     ]
    }
   ],
   "source": [
    "df.set_index('date', inplace=True)"
   ]
  },
  {
   "cell_type": "code",
   "execution_count": 10,
   "metadata": {},
   "outputs": [
    {
     "ename": "TypeError",
     "evalue": "'NoneType' object is not subscriptable",
     "output_type": "error",
     "traceback": [
      "\u001b[0;31m---------------------------------------------------------------------------\u001b[0m",
      "\u001b[0;31mTypeError\u001b[0m                                 Traceback (most recent call last)",
      "\u001b[0;32m<ipython-input-10-b13cc8941f8a>\u001b[0m in \u001b[0;36m<module>\u001b[0;34m\u001b[0m\n\u001b[0;32m----> 1\u001b[0;31m \u001b[0mdf\u001b[0m\u001b[0;34m[\u001b[0m\u001b[0;34m[\u001b[0m\u001b[0;34m'open'\u001b[0m\u001b[0;34m,\u001b[0m\u001b[0;34m'high'\u001b[0m\u001b[0;34m,\u001b[0m\u001b[0;34m'low'\u001b[0m\u001b[0;34m,\u001b[0m\u001b[0;34m'close'\u001b[0m\u001b[0;34m]\u001b[0m\u001b[0;34m]\u001b[0m\u001b[0;34m.\u001b[0m\u001b[0mtail\u001b[0m\u001b[0;34m(\u001b[0m\u001b[0;36m390\u001b[0m\u001b[0;34m)\u001b[0m\u001b[0;34m.\u001b[0m\u001b[0mplot\u001b[0m\u001b[0;34m(\u001b[0m\u001b[0mfigsize\u001b[0m \u001b[0;34m=\u001b[0m \u001b[0;34m(\u001b[0m\u001b[0;36m15\u001b[0m\u001b[0;34m,\u001b[0m\u001b[0;36m7\u001b[0m\u001b[0;34m)\u001b[0m\u001b[0;34m)\u001b[0m\u001b[0;34m\u001b[0m\u001b[0;34m\u001b[0m\u001b[0m\n\u001b[0m\u001b[1;32m      2\u001b[0m \u001b[0mplt\u001b[0m\u001b[0;34m.\u001b[0m\u001b[0mtitle\u001b[0m\u001b[0;34m(\u001b[0m\u001b[0;34m\"SPY Live Minute Data\"\u001b[0m\u001b[0;34m)\u001b[0m\u001b[0;34m\u001b[0m\u001b[0;34m\u001b[0m\u001b[0m\n",
      "\u001b[0;31mTypeError\u001b[0m: 'NoneType' object is not subscriptable"
     ]
    }
   ],
   "source": [
    "df[['open','high','low','close']].tail(390).plot(figsize = (15,7))\n",
    "plt.title(\"SPY Live Minute Data\")"
   ]
  },
  {
   "cell_type": "code",
   "execution_count": 66,
   "metadata": {},
   "outputs": [
    {
     "data": {
      "text/html": [
       "<div>\n",
       "<style scoped>\n",
       "    .dataframe tbody tr th:only-of-type {\n",
       "        vertical-align: middle;\n",
       "    }\n",
       "\n",
       "    .dataframe tbody tr th {\n",
       "        vertical-align: top;\n",
       "    }\n",
       "\n",
       "    .dataframe thead th {\n",
       "        text-align: right;\n",
       "    }\n",
       "</style>\n",
       "<table border=\"1\" class=\"dataframe\">\n",
       "  <thead>\n",
       "    <tr style=\"text-align: right;\">\n",
       "      <th></th>\n",
       "      <th>open</th>\n",
       "      <th>high</th>\n",
       "      <th>low</th>\n",
       "      <th>close</th>\n",
       "      <th>volume</th>\n",
       "      <th>average</th>\n",
       "      <th>barCount</th>\n",
       "    </tr>\n",
       "    <tr>\n",
       "      <th>date</th>\n",
       "      <th></th>\n",
       "      <th></th>\n",
       "      <th></th>\n",
       "      <th></th>\n",
       "      <th></th>\n",
       "      <th></th>\n",
       "      <th></th>\n",
       "    </tr>\n",
       "  </thead>\n",
       "  <tbody>\n",
       "    <tr>\n",
       "      <th>2020-04-03 21:30:00</th>\n",
       "      <td>250.76</td>\n",
       "      <td>251.72</td>\n",
       "      <td>250.48</td>\n",
       "      <td>250.91</td>\n",
       "      <td>10580</td>\n",
       "      <td>251.030</td>\n",
       "      <td>3929</td>\n",
       "    </tr>\n",
       "    <tr>\n",
       "      <th>2020-04-03 21:31:00</th>\n",
       "      <td>250.89</td>\n",
       "      <td>251.50</td>\n",
       "      <td>250.70</td>\n",
       "      <td>251.15</td>\n",
       "      <td>4224</td>\n",
       "      <td>251.106</td>\n",
       "      <td>2475</td>\n",
       "    </tr>\n",
       "    <tr>\n",
       "      <th>2020-04-03 21:32:00</th>\n",
       "      <td>251.14</td>\n",
       "      <td>251.70</td>\n",
       "      <td>250.83</td>\n",
       "      <td>251.67</td>\n",
       "      <td>4232</td>\n",
       "      <td>251.279</td>\n",
       "      <td>2245</td>\n",
       "    </tr>\n",
       "    <tr>\n",
       "      <th>2020-04-03 21:33:00</th>\n",
       "      <td>251.67</td>\n",
       "      <td>251.73</td>\n",
       "      <td>250.82</td>\n",
       "      <td>251.70</td>\n",
       "      <td>5349</td>\n",
       "      <td>251.210</td>\n",
       "      <td>3740</td>\n",
       "    </tr>\n",
       "    <tr>\n",
       "      <th>2020-04-03 21:34:00</th>\n",
       "      <td>251.67</td>\n",
       "      <td>251.94</td>\n",
       "      <td>251.45</td>\n",
       "      <td>251.56</td>\n",
       "      <td>5078</td>\n",
       "      <td>251.718</td>\n",
       "      <td>3445</td>\n",
       "    </tr>\n",
       "    <tr>\n",
       "      <th>...</th>\n",
       "      <td>...</td>\n",
       "      <td>...</td>\n",
       "      <td>...</td>\n",
       "      <td>...</td>\n",
       "      <td>...</td>\n",
       "      <td>...</td>\n",
       "      <td>...</td>\n",
       "    </tr>\n",
       "    <tr>\n",
       "      <th>2020-04-04 03:55:00</th>\n",
       "      <td>248.74</td>\n",
       "      <td>248.84</td>\n",
       "      <td>248.01</td>\n",
       "      <td>248.07</td>\n",
       "      <td>8755</td>\n",
       "      <td>248.374</td>\n",
       "      <td>4906</td>\n",
       "    </tr>\n",
       "    <tr>\n",
       "      <th>2020-04-04 03:56:00</th>\n",
       "      <td>248.06</td>\n",
       "      <td>248.64</td>\n",
       "      <td>248.05</td>\n",
       "      <td>248.39</td>\n",
       "      <td>7024</td>\n",
       "      <td>248.409</td>\n",
       "      <td>3684</td>\n",
       "    </tr>\n",
       "    <tr>\n",
       "      <th>2020-04-04 03:57:00</th>\n",
       "      <td>248.39</td>\n",
       "      <td>248.44</td>\n",
       "      <td>247.51</td>\n",
       "      <td>247.80</td>\n",
       "      <td>9634</td>\n",
       "      <td>247.862</td>\n",
       "      <td>4812</td>\n",
       "    </tr>\n",
       "    <tr>\n",
       "      <th>2020-04-04 03:58:00</th>\n",
       "      <td>247.81</td>\n",
       "      <td>248.11</td>\n",
       "      <td>247.61</td>\n",
       "      <td>247.99</td>\n",
       "      <td>10239</td>\n",
       "      <td>247.858</td>\n",
       "      <td>6001</td>\n",
       "    </tr>\n",
       "    <tr>\n",
       "      <th>2020-04-04 03:59:00</th>\n",
       "      <td>248.00</td>\n",
       "      <td>248.35</td>\n",
       "      <td>247.88</td>\n",
       "      <td>248.21</td>\n",
       "      <td>39300</td>\n",
       "      <td>248.162</td>\n",
       "      <td>15221</td>\n",
       "    </tr>\n",
       "  </tbody>\n",
       "</table>\n",
       "<p>390 rows × 7 columns</p>\n",
       "</div>"
      ],
      "text/plain": [
       "                       open    high     low   close  volume  average  barCount\n",
       "date                                                                          \n",
       "2020-04-03 21:30:00  250.76  251.72  250.48  250.91   10580  251.030      3929\n",
       "2020-04-03 21:31:00  250.89  251.50  250.70  251.15    4224  251.106      2475\n",
       "2020-04-03 21:32:00  251.14  251.70  250.83  251.67    4232  251.279      2245\n",
       "2020-04-03 21:33:00  251.67  251.73  250.82  251.70    5349  251.210      3740\n",
       "2020-04-03 21:34:00  251.67  251.94  251.45  251.56    5078  251.718      3445\n",
       "...                     ...     ...     ...     ...     ...      ...       ...\n",
       "2020-04-04 03:55:00  248.74  248.84  248.01  248.07    8755  248.374      4906\n",
       "2020-04-04 03:56:00  248.06  248.64  248.05  248.39    7024  248.409      3684\n",
       "2020-04-04 03:57:00  248.39  248.44  247.51  247.80    9634  247.862      4812\n",
       "2020-04-04 03:58:00  247.81  248.11  247.61  247.99   10239  247.858      6001\n",
       "2020-04-04 03:59:00  248.00  248.35  247.88  248.21   39300  248.162     15221\n",
       "\n",
       "[390 rows x 7 columns]"
      ]
     },
     "execution_count": 66,
     "metadata": {},
     "output_type": "execute_result"
    }
   ],
   "source": [
    "df.tail(390)"
   ]
  },
  {
   "cell_type": "code",
   "execution_count": 67,
   "metadata": {},
   "outputs": [],
   "source": [
    "Option?"
   ]
  },
  {
   "cell_type": "code",
   "execution_count": 108,
   "metadata": {},
   "outputs": [
    {
     "name": "stderr",
     "output_type": "stream",
     "text": [
      "Error 200, reqId 40: No security definition has been found for the request, contract: Option(symbol='SPY', lastTradeDateOrContractMonth='20200416', strike=250, right='C', multiplier=100, exchange='SMART')\n"
     ]
    },
    {
     "name": "stdout",
     "output_type": "stream",
     "text": [
      "[]\n"
     ]
    }
   ],
   "source": [
    "option = Option('SPY', '20200416', 250, 'C', 'SMART', multiplier=100)\n",
    "calc = ib.calculateImpliedVolatility(\n",
    "    option, optionPrice=3.35, underPrice=248.21)\n",
    "print(calc)\n",
    "# calc = ib.calculateOptionPrice(\n",
    "# option, volatility=0.14, underPrice=525)\n",
    "# print(calc)"
   ]
  },
  {
   "cell_type": "code",
   "execution_count": 70,
   "metadata": {},
   "outputs": [],
   "source": [
    "ib.calculateImpliedVolatility?"
   ]
  },
  {
   "cell_type": "code",
   "execution_count": 13,
   "metadata": {},
   "outputs": [
    {
     "name": "stderr",
     "output_type": "stream",
     "text": [
      "Error 162, reqId 115: Historical Market Data Service error message:No market data permissions for ISLAND STK, contract: Stock(symbol='TSLA', exchange='SMART', currency='USD')\n"
     ]
    },
    {
     "name": "stdout",
     "output_type": "stream",
     "text": [
      "None\n"
     ]
    }
   ],
   "source": [
    "#因为demo mode所以现在会出现报错，使用实盘账户的话，应该可以跑通\n",
    "code = \"TSLA\"\n",
    "contract = Stock(symbol=code, exchange=\"SMART\", currency=\"USD\")\n",
    "bars = ib.reqHistoricalData(contract, endDateTime='20190314 18:30:00', durationStr='5 D',\n",
    "        barSizeSetting='30 secs', whatToShow='MIDPOINT', useRTH=True)\n",
    " \n",
    "# convert to pandas dataframe:\n",
    "df = util.df(bars)\n",
    "print(df[['date', 'open', 'high', 'low', 'close']])"
   ]
  },
  {
   "cell_type": "code",
   "execution_count": 90,
   "metadata": {},
   "outputs": [
    {
     "data": {
      "text/html": [
       "<div>\n",
       "<style scoped>\n",
       "    .dataframe tbody tr th:only-of-type {\n",
       "        vertical-align: middle;\n",
       "    }\n",
       "\n",
       "    .dataframe tbody tr th {\n",
       "        vertical-align: top;\n",
       "    }\n",
       "\n",
       "    .dataframe thead th {\n",
       "        text-align: right;\n",
       "    }\n",
       "</style>\n",
       "<table border=\"1\" class=\"dataframe\">\n",
       "  <thead>\n",
       "    <tr style=\"text-align: right;\">\n",
       "      <th></th>\n",
       "      <th>date</th>\n",
       "      <th>open</th>\n",
       "      <th>high</th>\n",
       "      <th>low</th>\n",
       "      <th>close</th>\n",
       "      <th>volume</th>\n",
       "      <th>average</th>\n",
       "      <th>barCount</th>\n",
       "    </tr>\n",
       "  </thead>\n",
       "  <tbody>\n",
       "    <tr>\n",
       "      <th>0</th>\n",
       "      <td>2019-03-07 22:30:00</td>\n",
       "      <td>278.860</td>\n",
       "      <td>279.760</td>\n",
       "      <td>278.600</td>\n",
       "      <td>278.930</td>\n",
       "      <td>-1</td>\n",
       "      <td>-1.0</td>\n",
       "      <td>-1</td>\n",
       "    </tr>\n",
       "    <tr>\n",
       "      <th>1</th>\n",
       "      <td>2019-03-07 22:30:30</td>\n",
       "      <td>278.930</td>\n",
       "      <td>278.930</td>\n",
       "      <td>278.130</td>\n",
       "      <td>278.485</td>\n",
       "      <td>-1</td>\n",
       "      <td>-1.0</td>\n",
       "      <td>-1</td>\n",
       "    </tr>\n",
       "    <tr>\n",
       "      <th>2</th>\n",
       "      <td>2019-03-07 22:31:00</td>\n",
       "      <td>278.485</td>\n",
       "      <td>279.385</td>\n",
       "      <td>278.205</td>\n",
       "      <td>279.300</td>\n",
       "      <td>-1</td>\n",
       "      <td>-1.0</td>\n",
       "      <td>-1</td>\n",
       "    </tr>\n",
       "    <tr>\n",
       "      <th>3</th>\n",
       "      <td>2019-03-07 22:31:30</td>\n",
       "      <td>279.300</td>\n",
       "      <td>280.695</td>\n",
       "      <td>279.285</td>\n",
       "      <td>280.455</td>\n",
       "      <td>-1</td>\n",
       "      <td>-1.0</td>\n",
       "      <td>-1</td>\n",
       "    </tr>\n",
       "    <tr>\n",
       "      <th>4</th>\n",
       "      <td>2019-03-07 22:32:00</td>\n",
       "      <td>280.455</td>\n",
       "      <td>280.590</td>\n",
       "      <td>279.415</td>\n",
       "      <td>280.295</td>\n",
       "      <td>-1</td>\n",
       "      <td>-1.0</td>\n",
       "      <td>-1</td>\n",
       "    </tr>\n",
       "    <tr>\n",
       "      <th>...</th>\n",
       "      <td>...</td>\n",
       "      <td>...</td>\n",
       "      <td>...</td>\n",
       "      <td>...</td>\n",
       "      <td>...</td>\n",
       "      <td>...</td>\n",
       "      <td>...</td>\n",
       "      <td>...</td>\n",
       "    </tr>\n",
       "    <tr>\n",
       "      <th>3895</th>\n",
       "      <td>2019-03-14 03:57:30</td>\n",
       "      <td>288.830</td>\n",
       "      <td>288.955</td>\n",
       "      <td>288.830</td>\n",
       "      <td>288.915</td>\n",
       "      <td>-1</td>\n",
       "      <td>-1.0</td>\n",
       "      <td>-1</td>\n",
       "    </tr>\n",
       "    <tr>\n",
       "      <th>3896</th>\n",
       "      <td>2019-03-14 03:58:00</td>\n",
       "      <td>288.915</td>\n",
       "      <td>288.950</td>\n",
       "      <td>288.850</td>\n",
       "      <td>288.920</td>\n",
       "      <td>-1</td>\n",
       "      <td>-1.0</td>\n",
       "      <td>-1</td>\n",
       "    </tr>\n",
       "    <tr>\n",
       "      <th>3897</th>\n",
       "      <td>2019-03-14 03:58:30</td>\n",
       "      <td>288.920</td>\n",
       "      <td>288.940</td>\n",
       "      <td>288.820</td>\n",
       "      <td>288.820</td>\n",
       "      <td>-1</td>\n",
       "      <td>-1.0</td>\n",
       "      <td>-1</td>\n",
       "    </tr>\n",
       "    <tr>\n",
       "      <th>3898</th>\n",
       "      <td>2019-03-14 03:59:00</td>\n",
       "      <td>288.820</td>\n",
       "      <td>288.950</td>\n",
       "      <td>288.795</td>\n",
       "      <td>288.810</td>\n",
       "      <td>-1</td>\n",
       "      <td>-1.0</td>\n",
       "      <td>-1</td>\n",
       "    </tr>\n",
       "    <tr>\n",
       "      <th>3899</th>\n",
       "      <td>2019-03-14 03:59:30</td>\n",
       "      <td>288.810</td>\n",
       "      <td>288.995</td>\n",
       "      <td>288.775</td>\n",
       "      <td>288.945</td>\n",
       "      <td>-1</td>\n",
       "      <td>-1.0</td>\n",
       "      <td>-1</td>\n",
       "    </tr>\n",
       "  </tbody>\n",
       "</table>\n",
       "<p>3900 rows × 8 columns</p>\n",
       "</div>"
      ],
      "text/plain": [
       "                    date     open     high      low    close  volume  average  \\\n",
       "0    2019-03-07 22:30:00  278.860  279.760  278.600  278.930      -1     -1.0   \n",
       "1    2019-03-07 22:30:30  278.930  278.930  278.130  278.485      -1     -1.0   \n",
       "2    2019-03-07 22:31:00  278.485  279.385  278.205  279.300      -1     -1.0   \n",
       "3    2019-03-07 22:31:30  279.300  280.695  279.285  280.455      -1     -1.0   \n",
       "4    2019-03-07 22:32:00  280.455  280.590  279.415  280.295      -1     -1.0   \n",
       "...                  ...      ...      ...      ...      ...     ...      ...   \n",
       "3895 2019-03-14 03:57:30  288.830  288.955  288.830  288.915      -1     -1.0   \n",
       "3896 2019-03-14 03:58:00  288.915  288.950  288.850  288.920      -1     -1.0   \n",
       "3897 2019-03-14 03:58:30  288.920  288.940  288.820  288.820      -1     -1.0   \n",
       "3898 2019-03-14 03:59:00  288.820  288.950  288.795  288.810      -1     -1.0   \n",
       "3899 2019-03-14 03:59:30  288.810  288.995  288.775  288.945      -1     -1.0   \n",
       "\n",
       "      barCount  \n",
       "0           -1  \n",
       "1           -1  \n",
       "2           -1  \n",
       "3           -1  \n",
       "4           -1  \n",
       "...        ...  \n",
       "3895        -1  \n",
       "3896        -1  \n",
       "3897        -1  \n",
       "3898        -1  \n",
       "3899        -1  \n",
       "\n",
       "[3900 rows x 8 columns]"
      ]
     },
     "execution_count": 90,
     "metadata": {},
     "output_type": "execute_result"
    }
   ],
   "source": [
    "df"
   ]
  },
  {
   "cell_type": "markdown",
   "metadata": {},
   "source": [
    "# Be careful of the following code that executes trade orders on IB"
   ]
  },
  {
   "cell_type": "code",
   "execution_count": 16,
   "metadata": {},
   "outputs": [
    {
     "ename": "ModuleNotFoundError",
     "evalue": "No module named 'data_download_US_HK'",
     "output_type": "error",
     "traceback": [
      "\u001b[1;31m---------------------------------------------------------------------------\u001b[0m",
      "\u001b[1;31mModuleNotFoundError\u001b[0m                       Traceback (most recent call last)",
      "\u001b[1;32m<ipython-input-16-23ee45dfd8d1>\u001b[0m in \u001b[0;36m<module>\u001b[1;34m\u001b[0m\n\u001b[0;32m      1\u001b[0m \u001b[1;31m# 导入自己的模块\u001b[0m\u001b[1;33m\u001b[0m\u001b[1;33m\u001b[0m\u001b[1;33m\u001b[0m\u001b[0m\n\u001b[1;32m----> 2\u001b[1;33m \u001b[1;32mfrom\u001b[0m \u001b[0mdata_download_US_HK\u001b[0m \u001b[1;32mimport\u001b[0m \u001b[1;33m*\u001b[0m\u001b[1;33m\u001b[0m\u001b[1;33m\u001b[0m\u001b[0m\n\u001b[0m\u001b[0;32m      3\u001b[0m \u001b[1;32mfrom\u001b[0m \u001b[0mstrategies\u001b[0m \u001b[1;32mimport\u001b[0m \u001b[1;33m*\u001b[0m\u001b[1;33m\u001b[0m\u001b[1;33m\u001b[0m\u001b[0m\n\u001b[0;32m      4\u001b[0m \u001b[1;32mfrom\u001b[0m \u001b[0mpositions\u001b[0m \u001b[1;32mimport\u001b[0m \u001b[1;33m*\u001b[0m\u001b[1;33m\u001b[0m\u001b[1;33m\u001b[0m\u001b[0m\n",
      "\u001b[1;31mModuleNotFoundError\u001b[0m: No module named 'data_download_US_HK'"
     ]
    }
   ],
   "source": [
    "# 导入自己的模块\n",
    "from data_download_US_HK import *\n",
    "from strategies import *\n",
    "from positions import *"
   ]
  },
  {
   "cell_type": "code",
   "execution_count": 15,
   "metadata": {},
   "outputs": [
    {
     "data": {
      "text/plain": [
       "True"
      ]
     },
     "execution_count": 15,
     "metadata": {},
     "output_type": "execute_result"
    }
   ],
   "source": [
    "# 这是一个使用ib_sync和ib_api 来实现下单的一个例子\n",
    "\n",
    "# step 1 定义、验证合约有效性\n",
    "# contract = Stock('3690', 'SEHK', 'HKD')\n",
    "\n",
    "# assert trade in ib.trades()\n",
    "# assert order in ib.orders()\n",
    "\n",
    "# 期货example:\n",
    "# contract = Future('ES', '20210618', 'GLOBEX')\n",
    "\n",
    "# 港股example:\n",
    "contract = Stock('6618', exchange='SEHK')\n",
    "ib.qualifyContracts(contract)\n",
    "\n",
    "# step 2 定义合约单信息\n",
    "order = MarketOrder('BUY', 50)\n",
    "\n",
    "# step 3 定义交易功能\n",
    "trade = ib.placeOrder(contract, order)\n",
    "\n",
    "# print(trade)\n",
    "\n",
    "ib.sleep(1)\n",
    "# print(trade.log)\n",
    "\n",
    "# limitOrder = LimitOrder('BUY', 1, 0.05)\n",
    "# limitTrade = ib.placeOrder(contract, limitOrder)\n",
    "\n",
    "# print(limitTrade)\n",
    "# ib.placeOrder(contract, limitOrder)\n",
    "# ib.cancelOrder(limitOrder)"
   ]
  },
  {
   "cell_type": "code",
   "execution_count": null,
   "metadata": {},
   "outputs": [],
   "source": []
  },
  {
   "cell_type": "code",
   "execution_count": null,
   "metadata": {},
   "outputs": [],
   "source": []
  },
  {
   "cell_type": "code",
   "execution_count": null,
   "metadata": {},
   "outputs": [],
   "source": []
  },
  {
   "cell_type": "code",
   "execution_count": null,
   "metadata": {},
   "outputs": [],
   "source": []
  },
  {
   "cell_type": "code",
   "execution_count": null,
   "metadata": {},
   "outputs": [],
   "source": []
  },
  {
   "cell_type": "code",
   "execution_count": null,
   "metadata": {},
   "outputs": [],
   "source": []
  },
  {
   "cell_type": "code",
   "execution_count": null,
   "metadata": {},
   "outputs": [],
   "source": []
  },
  {
   "cell_type": "code",
   "execution_count": null,
   "metadata": {},
   "outputs": [],
   "source": []
  },
  {
   "cell_type": "code",
   "execution_count": null,
   "metadata": {},
   "outputs": [],
   "source": []
  },
  {
   "cell_type": "code",
   "execution_count": null,
   "metadata": {},
   "outputs": [],
   "source": []
  },
  {
   "cell_type": "code",
   "execution_count": null,
   "metadata": {},
   "outputs": [],
   "source": []
  },
  {
   "cell_type": "code",
   "execution_count": null,
   "metadata": {},
   "outputs": [],
   "source": []
  },
  {
   "cell_type": "code",
   "execution_count": 97,
   "metadata": {},
   "outputs": [
    {
     "data": {
      "text/html": [
       "<div>\n",
       "<style scoped>\n",
       "    .dataframe tbody tr th:only-of-type {\n",
       "        vertical-align: middle;\n",
       "    }\n",
       "\n",
       "    .dataframe tbody tr th {\n",
       "        vertical-align: top;\n",
       "    }\n",
       "\n",
       "    .dataframe thead th {\n",
       "        text-align: right;\n",
       "    }\n",
       "</style>\n",
       "<table border=\"1\" class=\"dataframe\">\n",
       "  <thead>\n",
       "    <tr style=\"text-align: right;\">\n",
       "      <th></th>\n",
       "      <th>exchange</th>\n",
       "      <th>underlyingConId</th>\n",
       "      <th>tradingClass</th>\n",
       "      <th>multiplier</th>\n",
       "      <th>expirations</th>\n",
       "      <th>strikes</th>\n",
       "    </tr>\n",
       "  </thead>\n",
       "  <tbody>\n",
       "    <tr>\n",
       "      <th>0</th>\n",
       "      <td>SMART</td>\n",
       "      <td>416904</td>\n",
       "      <td>SPX</td>\n",
       "      <td>100</td>\n",
       "      <td>[20200416, 20200514, 20200618, 20200716, 20200...</td>\n",
       "      <td>[100.0, 200.0, 300.0, 400.0, 500.0, 600.0, 650...</td>\n",
       "    </tr>\n",
       "    <tr>\n",
       "      <th>1</th>\n",
       "      <td>CBOE</td>\n",
       "      <td>416904</td>\n",
       "      <td>SPXW</td>\n",
       "      <td>100</td>\n",
       "      <td>[20200406, 20200408, 20200409, 20200413, 20200...</td>\n",
       "      <td>[100.0, 200.0, 300.0, 400.0, 500.0, 600.0, 700...</td>\n",
       "    </tr>\n",
       "    <tr>\n",
       "      <th>2</th>\n",
       "      <td>SMART</td>\n",
       "      <td>416904</td>\n",
       "      <td>SPXW</td>\n",
       "      <td>100</td>\n",
       "      <td>[20200406, 20200408, 20200409, 20200413, 20200...</td>\n",
       "      <td>[100.0, 200.0, 300.0, 400.0, 500.0, 600.0, 700...</td>\n",
       "    </tr>\n",
       "    <tr>\n",
       "      <th>3</th>\n",
       "      <td>CBOE</td>\n",
       "      <td>416904</td>\n",
       "      <td>SPX</td>\n",
       "      <td>100</td>\n",
       "      <td>[20200416, 20200514, 20200618, 20200716, 20200...</td>\n",
       "      <td>[100.0, 200.0, 300.0, 400.0, 500.0, 600.0, 650...</td>\n",
       "    </tr>\n",
       "  </tbody>\n",
       "</table>\n",
       "</div>"
      ],
      "text/plain": [
       "  exchange underlyingConId tradingClass multiplier  \\\n",
       "0    SMART          416904          SPX        100   \n",
       "1     CBOE          416904         SPXW        100   \n",
       "2    SMART          416904         SPXW        100   \n",
       "3     CBOE          416904          SPX        100   \n",
       "\n",
       "                                         expirations  \\\n",
       "0  [20200416, 20200514, 20200618, 20200716, 20200...   \n",
       "1  [20200406, 20200408, 20200409, 20200413, 20200...   \n",
       "2  [20200406, 20200408, 20200409, 20200413, 20200...   \n",
       "3  [20200416, 20200514, 20200618, 20200716, 20200...   \n",
       "\n",
       "                                             strikes  \n",
       "0  [100.0, 200.0, 300.0, 400.0, 500.0, 600.0, 650...  \n",
       "1  [100.0, 200.0, 300.0, 400.0, 500.0, 600.0, 700...  \n",
       "2  [100.0, 200.0, 300.0, 400.0, 500.0, 600.0, 700...  \n",
       "3  [100.0, 200.0, 300.0, 400.0, 500.0, 600.0, 650...  "
      ]
     },
     "execution_count": 97,
     "metadata": {},
     "output_type": "execute_result"
    }
   ],
   "source": [
    "#尝试调取option数据\n",
    "spx = Index('SPX')\n",
    "ib.qualifyContracts(spx)\n",
    "chains= ib.reqSecDefOptParams(spx.symbol, '', spx.secType, spx.conId)\n",
    "\n",
    "util.df(chains)"
   ]
  },
  {
   "cell_type": "code",
   "execution_count": 101,
   "metadata": {},
   "outputs": [],
   "source": [
    "options_chain = util.df(chains)"
   ]
  },
  {
   "cell_type": "code",
   "execution_count": 102,
   "metadata": {},
   "outputs": [
    {
     "data": {
      "text/html": [
       "<div>\n",
       "<style scoped>\n",
       "    .dataframe tbody tr th:only-of-type {\n",
       "        vertical-align: middle;\n",
       "    }\n",
       "\n",
       "    .dataframe tbody tr th {\n",
       "        vertical-align: top;\n",
       "    }\n",
       "\n",
       "    .dataframe thead th {\n",
       "        text-align: right;\n",
       "    }\n",
       "</style>\n",
       "<table border=\"1\" class=\"dataframe\">\n",
       "  <thead>\n",
       "    <tr style=\"text-align: right;\">\n",
       "      <th></th>\n",
       "      <th>exchange</th>\n",
       "      <th>underlyingConId</th>\n",
       "      <th>tradingClass</th>\n",
       "      <th>multiplier</th>\n",
       "      <th>expirations</th>\n",
       "      <th>strikes</th>\n",
       "    </tr>\n",
       "  </thead>\n",
       "  <tbody>\n",
       "    <tr>\n",
       "      <th>0</th>\n",
       "      <td>SMART</td>\n",
       "      <td>416904</td>\n",
       "      <td>SPX</td>\n",
       "      <td>100</td>\n",
       "      <td>[20200416, 20200514, 20200618, 20200716, 20200...</td>\n",
       "      <td>[100.0, 200.0, 300.0, 400.0, 500.0, 600.0, 650...</td>\n",
       "    </tr>\n",
       "    <tr>\n",
       "      <th>1</th>\n",
       "      <td>CBOE</td>\n",
       "      <td>416904</td>\n",
       "      <td>SPXW</td>\n",
       "      <td>100</td>\n",
       "      <td>[20200406, 20200408, 20200409, 20200413, 20200...</td>\n",
       "      <td>[100.0, 200.0, 300.0, 400.0, 500.0, 600.0, 700...</td>\n",
       "    </tr>\n",
       "    <tr>\n",
       "      <th>2</th>\n",
       "      <td>SMART</td>\n",
       "      <td>416904</td>\n",
       "      <td>SPXW</td>\n",
       "      <td>100</td>\n",
       "      <td>[20200406, 20200408, 20200409, 20200413, 20200...</td>\n",
       "      <td>[100.0, 200.0, 300.0, 400.0, 500.0, 600.0, 700...</td>\n",
       "    </tr>\n",
       "    <tr>\n",
       "      <th>3</th>\n",
       "      <td>CBOE</td>\n",
       "      <td>416904</td>\n",
       "      <td>SPX</td>\n",
       "      <td>100</td>\n",
       "      <td>[20200416, 20200514, 20200618, 20200716, 20200...</td>\n",
       "      <td>[100.0, 200.0, 300.0, 400.0, 500.0, 600.0, 650...</td>\n",
       "    </tr>\n",
       "  </tbody>\n",
       "</table>\n",
       "</div>"
      ],
      "text/plain": [
       "  exchange underlyingConId tradingClass multiplier  \\\n",
       "0    SMART          416904          SPX        100   \n",
       "1     CBOE          416904         SPXW        100   \n",
       "2    SMART          416904         SPXW        100   \n",
       "3     CBOE          416904          SPX        100   \n",
       "\n",
       "                                         expirations  \\\n",
       "0  [20200416, 20200514, 20200618, 20200716, 20200...   \n",
       "1  [20200406, 20200408, 20200409, 20200413, 20200...   \n",
       "2  [20200406, 20200408, 20200409, 20200413, 20200...   \n",
       "3  [20200416, 20200514, 20200618, 20200716, 20200...   \n",
       "\n",
       "                                             strikes  \n",
       "0  [100.0, 200.0, 300.0, 400.0, 500.0, 600.0, 650...  \n",
       "1  [100.0, 200.0, 300.0, 400.0, 500.0, 600.0, 700...  \n",
       "2  [100.0, 200.0, 300.0, 400.0, 500.0, 600.0, 700...  \n",
       "3  [100.0, 200.0, 300.0, 400.0, 500.0, 600.0, 650...  "
      ]
     },
     "execution_count": 102,
     "metadata": {},
     "output_type": "execute_result"
    }
   ],
   "source": [
    "options_chain"
   ]
  },
  {
   "cell_type": "code",
   "execution_count": 117,
   "metadata": {},
   "outputs": [
    {
     "name": "stdout",
     "output_type": "stream",
     "text": [
      "FundamentalRatios(TTMNPMGN=12.41899, NLOW=90.56, ACFSHR=17.51766, ALTCL=37701, TTMPRCFPS=6.24839, TTMCFSHR=17.51766, ASFCF=98, AEPSNORM=13.70387, TTMRECTURN=10.08339, AATCA=38420, QCSHPS=9.9965, TTMFCF=6157, LATESTADATE='2019-12-31', APTMGNPCT=13.17744, TTMNIAC=9580, EV_Cur=151755.9, QATCA=38420, PR2TANBK=-1.85461, TTMFCFSHR=6.89618, NPRICE=110, ASICF=-24029, REVTRENDGR=-3.6258, QSCEX=-729, PRICE2BK=4.68222, ALSTD=1275, AOTLO=14771, TTMPAYRAT=59.56159, QPR2REV=4.480973, TTMREVCHG=-3.07066, TTMROAPCT=6.95364, QTOTCE=20841, APENORM=8.02693, QLTCL=37701, QSFCF=nan, TTMROIPCT=9.61166, DIVGRPCT=5.34552, QOTLO=3451, TTMEPSCHG=-6.960603, YIELD=5.890909, TTMREVPS=86.41, TTMEBT=10166, ADIV5YAVG=5.808, Frac52Wk=0.2515693, NHIG=158.75, ASCEX=-2907, QTA=152186, TTMGROSMGN=47.2974, QTL=131345, AFPRD=16284, QCURRATIO=1.01907, TTMREV=77148, TTMINVTURN=24.63435, QCASH=8868, QLSTD=1275, TTMOPMGN=13.17857, TTMPR2REV=1.26672, QSICF=857, TTMNIPEREM=27172.43, EPSCHNGYR=-4.99567, TTMPRFCFPS=15.87216, TTMPTMGN=13.17727, AREVPS=86.40887, AEBTNORM=10721, ASOPI=10166, NetDebt_I=54031, PRYTDPCTR=4.92467, TTMEBITD=17504, AFEEPSNTM=12.952, EPSTRENDGR=-7.20325, QTOTD2EQ=301.8041, QSOPI=3993, QBVPS=23.49313, YLD5YAVG=4.12067, PR13WKPCT=-17.92303, PR52WKPCT=-19.35976, AROAPCT=6.953638, QTOTLTD=53951, TTMEPSXCLX=10.73002, QPRCFPS=nan, QTANBVPS=-59.31167, AROIPCT=9.611661, QEBIT=4225, QEBITDA=5875, MKTCAP=97724.88, TTMINTCOV=18.20885, TTMROEPCT=50.9087, TTMREVPERE=218797.5, AEPSXCLXOR=10.73125, QFPRD=-4181, REVCHNGYR=0.07353, AFPSS=-1633, CURRENCY='USD', EV2EBITDA_Cur=25.83079, PEEXCLXOR=10.25161, QQUICKRATI=0.97613, ASINN=485, QFPSS=-154, BETA=1.25703, ANIACNORM=12235, PR1WKPCT=-2.560014, QLTD2EQ=259.5941, QSINN=215, PR4WKPCT=-15.0907, AEBIT=10651)\n"
     ]
    },
    {
     "name": "stderr",
     "output_type": "stream",
     "text": [
      "Peer closed connection\n"
     ]
    }
   ],
   "source": [
    "contract = Stock('IBM', 'SMART', 'USD') \n",
    "ticker = ib.reqMktData(contract, '258') \n",
    "ib.sleep(2) \n",
    "print(ticker.fundamentalRatios)"
   ]
  },
  {
   "cell_type": "code",
   "execution_count": 109,
   "metadata": {},
   "outputs": [
    {
     "data": {
      "text/plain": [
       "48"
      ]
     },
     "execution_count": 109,
     "metadata": {},
     "output_type": "execute_result"
    }
   ],
   "source": [
    "#由于是demo mode 所以报错了，TWS setup 文件里最后一个链接中有具体的demo\n",
    "[ticker] = ib.reqTickers(spx)\n",
    "ticker\n",
    "spxValue = ticker.marketPrice()\n",
    "spxValue\n",
    "\n",
    "chain = next(c for c in chains if c.tradingClass == 'SPX' and c.exchange == 'SMART')\n",
    "chain\n",
    "strikes = [strike for strike in chain.strikes\n",
    "        if strike % 5 == 0\n",
    "        and spxValue - 20 < strike < spxValue + 20]\n",
    "expirations = sorted(exp for exp in chain.expirations)[:3]\n",
    "rights = ['P', 'C']\n",
    "\n",
    "contracts = [Option('SPX', expiration, strike, right, 'SMART', tradingClass='SPX')\n",
    "        for right in rights\n",
    "        for expiration in expirations\n",
    "        for strike in strikes]\n",
    "\n",
    "contracts = ib.qualifyContracts(*contracts)\n",
    "len(contracts)"
   ]
  },
  {
   "cell_type": "code",
   "execution_count": 114,
   "metadata": {},
   "outputs": [
    {
     "data": {
      "text/plain": [
       "[Option(conId=388458744, symbol='SPX', lastTradeDateOrContractMonth='20200416', strike=2510.0, right='P', multiplier='100', exchange='SMART', currency='USD', localSymbol='SPX   200417P02510000', tradingClass='SPX'),\n",
       " Option(conId=388458749, symbol='SPX', lastTradeDateOrContractMonth='20200416', strike=2515.0, right='P', multiplier='100', exchange='SMART', currency='USD', localSymbol='SPX   200417P02515000', tradingClass='SPX'),\n",
       " Option(conId=388458755, symbol='SPX', lastTradeDateOrContractMonth='20200416', strike=2520.0, right='P', multiplier='100', exchange='SMART', currency='USD', localSymbol='SPX   200417P02520000', tradingClass='SPX'),\n",
       " Option(conId=388458758, symbol='SPX', lastTradeDateOrContractMonth='20200416', strike=2525.0, right='P', multiplier='100', exchange='SMART', currency='USD', localSymbol='SPX   200417P02525000', tradingClass='SPX'),\n",
       " Option(conId=388458761, symbol='SPX', lastTradeDateOrContractMonth='20200416', strike=2530.0, right='P', multiplier='100', exchange='SMART', currency='USD', localSymbol='SPX   200417P02530000', tradingClass='SPX'),\n",
       " Option(conId=388458764, symbol='SPX', lastTradeDateOrContractMonth='20200416', strike=2535.0, right='P', multiplier='100', exchange='SMART', currency='USD', localSymbol='SPX   200417P02535000', tradingClass='SPX'),\n",
       " Option(conId=388458770, symbol='SPX', lastTradeDateOrContractMonth='20200416', strike=2540.0, right='P', multiplier='100', exchange='SMART', currency='USD', localSymbol='SPX   200417P02540000', tradingClass='SPX'),\n",
       " Option(conId=388458775, symbol='SPX', lastTradeDateOrContractMonth='20200416', strike=2545.0, right='P', multiplier='100', exchange='SMART', currency='USD', localSymbol='SPX   200417P02545000', tradingClass='SPX'),\n",
       " Option(conId=392130924, symbol='SPX', lastTradeDateOrContractMonth='20200514', strike=2510.0, right='P', multiplier='100', exchange='SMART', currency='USD', localSymbol='SPX   200515P02510000', tradingClass='SPX'),\n",
       " Option(conId=392130930, symbol='SPX', lastTradeDateOrContractMonth='20200514', strike=2515.0, right='P', multiplier='100', exchange='SMART', currency='USD', localSymbol='SPX   200515P02515000', tradingClass='SPX'),\n",
       " Option(conId=392130936, symbol='SPX', lastTradeDateOrContractMonth='20200514', strike=2520.0, right='P', multiplier='100', exchange='SMART', currency='USD', localSymbol='SPX   200515P02520000', tradingClass='SPX'),\n",
       " Option(conId=392130946, symbol='SPX', lastTradeDateOrContractMonth='20200514', strike=2525.0, right='P', multiplier='100', exchange='SMART', currency='USD', localSymbol='SPX   200515P02525000', tradingClass='SPX'),\n",
       " Option(conId=392130952, symbol='SPX', lastTradeDateOrContractMonth='20200514', strike=2530.0, right='P', multiplier='100', exchange='SMART', currency='USD', localSymbol='SPX   200515P02530000', tradingClass='SPX'),\n",
       " Option(conId=392130957, symbol='SPX', lastTradeDateOrContractMonth='20200514', strike=2535.0, right='P', multiplier='100', exchange='SMART', currency='USD', localSymbol='SPX   200515P02535000', tradingClass='SPX'),\n",
       " Option(conId=392130966, symbol='SPX', lastTradeDateOrContractMonth='20200514', strike=2540.0, right='P', multiplier='100', exchange='SMART', currency='USD', localSymbol='SPX   200515P02540000', tradingClass='SPX'),\n",
       " Option(conId=392130969, symbol='SPX', lastTradeDateOrContractMonth='20200514', strike=2545.0, right='P', multiplier='100', exchange='SMART', currency='USD', localSymbol='SPX   200515P02545000', tradingClass='SPX'),\n",
       " Option(conId=405430660, symbol='SPX', lastTradeDateOrContractMonth='20200618', strike=2510.0, right='P', multiplier='100', exchange='SMART', currency='USD', localSymbol='SPX   200619P02510000', tradingClass='SPX'),\n",
       " Option(conId=406338460, symbol='SPX', lastTradeDateOrContractMonth='20200618', strike=2515.0, right='P', multiplier='100', exchange='SMART', currency='USD', localSymbol='SPX   200619P02515000', tradingClass='SPX'),\n",
       " Option(conId=405430667, symbol='SPX', lastTradeDateOrContractMonth='20200618', strike=2520.0, right='P', multiplier='100', exchange='SMART', currency='USD', localSymbol='SPX   200619P02520000', tradingClass='SPX'),\n",
       " Option(conId=322551240, symbol='SPX', lastTradeDateOrContractMonth='20200618', strike=2525.0, right='P', multiplier='100', exchange='SMART', currency='USD', localSymbol='SPX   200619P02525000', tradingClass='SPX'),\n",
       " Option(conId=405430670, symbol='SPX', lastTradeDateOrContractMonth='20200618', strike=2530.0, right='P', multiplier='100', exchange='SMART', currency='USD', localSymbol='SPX   200619P02530000', tradingClass='SPX'),\n",
       " Option(conId=406338464, symbol='SPX', lastTradeDateOrContractMonth='20200618', strike=2535.0, right='P', multiplier='100', exchange='SMART', currency='USD', localSymbol='SPX   200619P02535000', tradingClass='SPX'),\n",
       " Option(conId=405430672, symbol='SPX', lastTradeDateOrContractMonth='20200618', strike=2540.0, right='P', multiplier='100', exchange='SMART', currency='USD', localSymbol='SPX   200619P02540000', tradingClass='SPX'),\n",
       " Option(conId=406338469, symbol='SPX', lastTradeDateOrContractMonth='20200618', strike=2545.0, right='P', multiplier='100', exchange='SMART', currency='USD', localSymbol='SPX   200619P02545000', tradingClass='SPX'),\n",
       " Option(conId=388456458, symbol='SPX', lastTradeDateOrContractMonth='20200416', strike=2510.0, right='C', multiplier='100', exchange='SMART', currency='USD', localSymbol='SPX   200417C02510000', tradingClass='SPX'),\n",
       " Option(conId=388456463, symbol='SPX', lastTradeDateOrContractMonth='20200416', strike=2515.0, right='C', multiplier='100', exchange='SMART', currency='USD', localSymbol='SPX   200417C02515000', tradingClass='SPX'),\n",
       " Option(conId=388456475, symbol='SPX', lastTradeDateOrContractMonth='20200416', strike=2520.0, right='C', multiplier='100', exchange='SMART', currency='USD', localSymbol='SPX   200417C02520000', tradingClass='SPX'),\n",
       " Option(conId=388456482, symbol='SPX', lastTradeDateOrContractMonth='20200416', strike=2525.0, right='C', multiplier='100', exchange='SMART', currency='USD', localSymbol='SPX   200417C02525000', tradingClass='SPX'),\n",
       " Option(conId=388456493, symbol='SPX', lastTradeDateOrContractMonth='20200416', strike=2530.0, right='C', multiplier='100', exchange='SMART', currency='USD', localSymbol='SPX   200417C02530000', tradingClass='SPX'),\n",
       " Option(conId=388456499, symbol='SPX', lastTradeDateOrContractMonth='20200416', strike=2535.0, right='C', multiplier='100', exchange='SMART', currency='USD', localSymbol='SPX   200417C02535000', tradingClass='SPX'),\n",
       " Option(conId=388456505, symbol='SPX', lastTradeDateOrContractMonth='20200416', strike=2540.0, right='C', multiplier='100', exchange='SMART', currency='USD', localSymbol='SPX   200417C02540000', tradingClass='SPX'),\n",
       " Option(conId=388456513, symbol='SPX', lastTradeDateOrContractMonth='20200416', strike=2545.0, right='C', multiplier='100', exchange='SMART', currency='USD', localSymbol='SPX   200417C02545000', tradingClass='SPX'),\n",
       " Option(conId=392129249, symbol='SPX', lastTradeDateOrContractMonth='20200514', strike=2510.0, right='C', multiplier='100', exchange='SMART', currency='USD', localSymbol='SPX   200515C02510000', tradingClass='SPX'),\n",
       " Option(conId=392129252, symbol='SPX', lastTradeDateOrContractMonth='20200514', strike=2515.0, right='C', multiplier='100', exchange='SMART', currency='USD', localSymbol='SPX   200515C02515000', tradingClass='SPX'),\n",
       " Option(conId=392129264, symbol='SPX', lastTradeDateOrContractMonth='20200514', strike=2520.0, right='C', multiplier='100', exchange='SMART', currency='USD', localSymbol='SPX   200515C02520000', tradingClass='SPX'),\n",
       " Option(conId=392129269, symbol='SPX', lastTradeDateOrContractMonth='20200514', strike=2525.0, right='C', multiplier='100', exchange='SMART', currency='USD', localSymbol='SPX   200515C02525000', tradingClass='SPX'),\n",
       " Option(conId=392129281, symbol='SPX', lastTradeDateOrContractMonth='20200514', strike=2530.0, right='C', multiplier='100', exchange='SMART', currency='USD', localSymbol='SPX   200515C02530000', tradingClass='SPX'),\n",
       " Option(conId=392129294, symbol='SPX', lastTradeDateOrContractMonth='20200514', strike=2535.0, right='C', multiplier='100', exchange='SMART', currency='USD', localSymbol='SPX   200515C02535000', tradingClass='SPX'),\n",
       " Option(conId=392129301, symbol='SPX', lastTradeDateOrContractMonth='20200514', strike=2540.0, right='C', multiplier='100', exchange='SMART', currency='USD', localSymbol='SPX   200515C02540000', tradingClass='SPX'),\n",
       " Option(conId=392129306, symbol='SPX', lastTradeDateOrContractMonth='20200514', strike=2545.0, right='C', multiplier='100', exchange='SMART', currency='USD', localSymbol='SPX   200515C02545000', tradingClass='SPX'),\n",
       " Option(conId=405429940, symbol='SPX', lastTradeDateOrContractMonth='20200618', strike=2510.0, right='C', multiplier='100', exchange='SMART', currency='USD', localSymbol='SPX   200619C02510000', tradingClass='SPX'),\n",
       " Option(conId=406338406, symbol='SPX', lastTradeDateOrContractMonth='20200618', strike=2515.0, right='C', multiplier='100', exchange='SMART', currency='USD', localSymbol='SPX   200619C02515000', tradingClass='SPX'),\n",
       " Option(conId=405429947, symbol='SPX', lastTradeDateOrContractMonth='20200618', strike=2520.0, right='C', multiplier='100', exchange='SMART', currency='USD', localSymbol='SPX   200619C02520000', tradingClass='SPX'),\n",
       " Option(conId=322550869, symbol='SPX', lastTradeDateOrContractMonth='20200618', strike=2525.0, right='C', multiplier='100', exchange='SMART', currency='USD', localSymbol='SPX   200619C02525000', tradingClass='SPX'),\n",
       " Option(conId=405429950, symbol='SPX', lastTradeDateOrContractMonth='20200618', strike=2530.0, right='C', multiplier='100', exchange='SMART', currency='USD', localSymbol='SPX   200619C02530000', tradingClass='SPX'),\n",
       " Option(conId=406338409, symbol='SPX', lastTradeDateOrContractMonth='20200618', strike=2535.0, right='C', multiplier='100', exchange='SMART', currency='USD', localSymbol='SPX   200619C02535000', tradingClass='SPX'),\n",
       " Option(conId=405429955, symbol='SPX', lastTradeDateOrContractMonth='20200618', strike=2540.0, right='C', multiplier='100', exchange='SMART', currency='USD', localSymbol='SPX   200619C02540000', tradingClass='SPX'),\n",
       " Option(conId=406338412, symbol='SPX', lastTradeDateOrContractMonth='20200618', strike=2545.0, right='C', multiplier='100', exchange='SMART', currency='USD', localSymbol='SPX   200619C02545000', tradingClass='SPX')]"
      ]
     },
     "execution_count": 114,
     "metadata": {},
     "output_type": "execute_result"
    }
   ],
   "source": [
    "contracts"
   ]
  }
 ],
 "metadata": {
  "file_extension": ".py",
  "kernelspec": {
   "display_name": "Python 3",
   "language": "python",
   "name": "python3"
  },
  "language_info": {
   "codemirror_mode": {
    "name": "ipython",
    "version": 3
   },
   "file_extension": ".py",
   "mimetype": "text/x-python",
   "name": "python",
   "nbconvert_exporter": "python",
   "pygments_lexer": "ipython3",
   "version": "3.8.5"
  },
  "mimetype": "text/x-python",
  "name": "python",
  "npconvert_exporter": "python",
  "pygments_lexer": "ipython3",
  "version": 3
 },
 "nbformat": 4,
 "nbformat_minor": 2
}
