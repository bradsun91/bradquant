{
 "cells": [
  {
   "cell_type": "code",
   "execution_count": 2,
   "metadata": {},
   "outputs": [],
   "source": [
    "import pandas as pd, numpy as np\n",
    "import matplotlib.pyplot as plt\n",
    "import urllib,time\n",
    "import tushare as ts"
   ]
  },
  {
   "cell_type": "markdown",
   "metadata": {},
   "source": [
    "# 1. 极端值涨跌幅预测因子"
   ]
  },
  {
   "cell_type": "code",
   "execution_count": 4,
   "metadata": {},
   "outputs": [
    {
     "name": "stdout",
     "output_type": "stream",
     "text": [
      "timed out\n"
     ]
    }
   ],
   "source": [
    "#!/usr/bin/env python3\n",
    "# -*- coding: utf-8 -*-\n",
    "\"\"\"\n",
    "Created on Tue Aug  6 14:31:49 2019\n",
    "\n",
    "@author: hurenjie\n",
    "\"\"\"\n",
    "\n",
    "# 极端值因子：当大盘(或者其他股票)日涨幅/跌幅绝对值超过2%，下一天上涨或者下跌的概率/历史上的次数有多少\n",
    "#%%\n",
    "\n",
    "token='2f31c3932ead9fcc3830879132cc3ec8df3566550f711889d4a30f67'\n",
    "pro = ts.pro_api(token)\n",
    "df = ts.get_hist_data('sh').sort_index()\n",
    "\n",
    "#%%\n",
    "def extreme_value(df, threshold): # threshold 在此应该定义为一个百分数,代表我们认为的涨跌幅度阈值\n",
    "    df['close_pct_ch'] = df['close'].pct_change().shift(-1)\n",
    "    df['close_diff'] = df['close'].diff().shift(-2)\n",
    "    df_up = df[df['close_diff'] > 0]\n",
    "    df_down = df[df['close_diff'] < 0]\n",
    "    \n",
    "    up = df_up[df_up['close_pct_ch'] > threshold]\n",
    "    down = df_down[df_down['close_pct_ch'] < -threshold]\n",
    "    \n",
    "    prob_up = np.shape(up)[0]/np.shape(df_up)[0]\n",
    "    prob_down = np.shape(down)[0]/np.shape(df_down)[0]\n",
    "        \n",
    "    if df['close_diff'].iloc[-3] > 0:\n",
    "        result = prob_up # 当天价格上涨，利用极端值因子估计法估计出第二天继续上涨的概率\n",
    "        print('当天价格上涨,该函数计算的是第二天价格继续上涨的概率')\n",
    "    else:\n",
    "        result = prob_down # 当天价格下跌，利用极端值因子估计法估计出第二天继续下跌的概率\n",
    "        print('当天价格下跌,该函数计算的是第二天价格继续下跌的概率')\n",
    "    df.drop(columns = ['close_pct_ch', 'close_diff'], inplace = True)\n",
    "    return result"
   ]
  },
  {
   "cell_type": "code",
   "execution_count": 5,
   "metadata": {},
   "outputs": [
    {
     "name": "stdout",
     "output_type": "stream",
     "text": [
      "当天价格下跌,该函数计算的是第二天价格继续下跌的概率\n"
     ]
    },
    {
     "data": {
      "text/plain": [
       "0.3082191780821918"
      ]
     },
     "execution_count": 5,
     "metadata": {},
     "output_type": "execute_result"
    }
   ],
   "source": [
    "extreme_value(df, 0.0032)"
   ]
  },
  {
   "cell_type": "code",
   "execution_count": 6,
   "metadata": {},
   "outputs": [],
   "source": [
    "# threshold = 0.0156\n",
    "# df['close_pct_ch'] = df['close'].pct_change().shift(-1)\n",
    "# df['close_diff'] = df['close'].diff().shift(-2)\n",
    "# df_up = df[df['close_diff'] > 0]\n",
    "# df_down = df[df['close_diff'] < 0]\n",
    "\n",
    "# up = df_up[df_up['close_pct_ch'] > threshold]\n",
    "# down = df_down[df_down['close_pct_ch'] < -threshold]\n",
    "\n",
    "# prob_up = np.shape(up)[0]/np.shape(df_up)[0]\n",
    "# prob_down = np.shape(down)[0]/np.shape(df_down)[0]\n",
    "\n",
    "# if df['close_diff'].iloc[-3] > 0:\n",
    "#     result = prob_up # 当天价格上涨，利用极端值因子估计法估计出第二天继续上涨的概率\n",
    "#     print('当天价格上涨,该函数计算的是第二天价格继续上涨的概率')\n",
    "# else:\n",
    "#     result = prob_down # 当天价格下跌，利用极端值因子估计法估计出第二天继续下跌的概率\n",
    "#     print('当天价格下跌,该函数计算的事第二天价格继续下跌的概率')\n",
    "# # df.drop(columns = ['close_pct_ch', 'close_diff'], inplace = True)"
   ]
  },
  {
   "cell_type": "markdown",
   "metadata": {},
   "source": [
    "# 2. 简单连续涨跌预测因子"
   ]
  },
  {
   "cell_type": "code",
   "execution_count": 19,
   "metadata": {},
   "outputs": [],
   "source": [
    "#!/usr/bin/env python3\n",
    "# -*- coding: utf-8 -*-\n",
    "\"\"\"\n",
    "Created on Tue Aug  6 16:15:22 2019\n",
    "\n",
    "@author: hurenjie\n",
    "\"\"\"\n",
    "# 简单连续涨跌因子：连续涨/跌N（3、4、5、6）天之后，下一天涨/跌的概率\n",
    "#%% \n",
    "import pandas as pd, numpy as np\n",
    "import matplotlib.pyplot as plt\n",
    "# import tushare as ts\n",
    "\n",
    "#token='2f31c3932ead9fcc3830879132cc3ec8df3566550f711889d4a30f67'\n",
    "#pro = ts.pro_api(token)\n",
    "#df = ts.get_hist_data('sh').sort_index()\n",
    "\n",
    "#%%\n",
    "def simple_predict_up_or_down(df, N): # N代表我们认为的连续多少天持续的涨或者跌\n",
    "    df.reset_index(inplace = True)\n",
    "    df['close_diff'] = df['close'].diff()\n",
    "    df['signal'] = 0\n",
    "    for i in df.index:\n",
    "        if df['close_diff'][i] < 0:\n",
    "            df['signal'][i] = -1\n",
    "        elif df['close_diff'][i] > 0:\n",
    "            df['signal'][i] = 1\n",
    "    \n",
    "    df['signal_sum'] = df['signal'].rolling(N).sum()\n",
    "    df_up_Ndays = df[df['signal_sum'] == N]\n",
    "    next_day_is_up = 0\n",
    "    \n",
    "    df_down_Ndays = df[df['signal_sum'] == -N]\n",
    "    next_day_is_down = 0\n",
    "    \n",
    "    for i in df_up_Ndays.index:\n",
    "        if i!=df.index[-1]:\n",
    "            if df['close_diff'][i+1] > 0:\n",
    "                next_day_is_up += 1\n",
    "    \n",
    "    for i in df_down_Ndays.index:\n",
    "        if i!=df.index[-1]:\n",
    "            if df['close_diff'][i+1] < 0:\n",
    "                next_day_is_down += 1\n",
    "    df.drop(columns = ['close_diff', 'signal', 'signal_sum'], inplace = True)\n",
    "    df.set_index('date', inplace = True)\n",
    "    \n",
    "    prob_up = next_day_is_up/np.shape(df_up_Ndays)[0]\n",
    "    prob_down = next_day_is_down/np.shape(df_down_Ndays)[0]\n",
    "    \n",
    "    return {'连续'+ str(N) +'天上涨后第二天上涨的概率': prob_up, '连续'+ str(N) +'天下跌后第二天下跌的概率':prob_down}"
   ]
  },
  {
   "cell_type": "code",
   "execution_count": 20,
   "metadata": {},
   "outputs": [
    {
     "name": "stderr",
     "output_type": "stream",
     "text": [
      "C:\\Users\\bradsun91\\Anaconda3\\lib\\site-packages\\ipykernel_launcher.py:25: SettingWithCopyWarning: \n",
      "A value is trying to be set on a copy of a slice from a DataFrame\n",
      "\n",
      "See the caveats in the documentation: http://pandas.pydata.org/pandas-docs/stable/indexing.html#indexing-view-versus-copy\n",
      "C:\\Users\\bradsun91\\Anaconda3\\lib\\site-packages\\ipykernel_launcher.py:27: SettingWithCopyWarning: \n",
      "A value is trying to be set on a copy of a slice from a DataFrame\n",
      "\n",
      "See the caveats in the documentation: http://pandas.pydata.org/pandas-docs/stable/indexing.html#indexing-view-versus-copy\n"
     ]
    },
    {
     "data": {
      "text/plain": [
       "{'连续4天上涨后第二天上涨的概率': 0.5, '连续4天下跌后第二天下跌的概率': 0.3235294117647059}"
      ]
     },
     "execution_count": 20,
     "metadata": {},
     "output_type": "execute_result"
    }
   ],
   "source": [
    "simple_predict_up_or_down(df, 4)"
   ]
  },
  {
   "cell_type": "markdown",
   "metadata": {},
   "source": [
    "# 3. 乖离率反弹因子"
   ]
  },
  {
   "cell_type": "code",
   "execution_count": 1,
   "metadata": {},
   "outputs": [
    {
     "ename": "ModuleNotFoundError",
     "evalue": "No module named 'talib'",
     "output_type": "error",
     "traceback": [
      "\u001b[1;31m---------------------------------------------------------------------------\u001b[0m",
      "\u001b[1;31mModuleNotFoundError\u001b[0m                       Traceback (most recent call last)",
      "\u001b[1;32m<ipython-input-1-9e527faf014c>\u001b[0m in \u001b[0;36m<module>\u001b[1;34m\u001b[0m\n\u001b[0;32m     11\u001b[0m \u001b[1;32mimport\u001b[0m \u001b[0mmatplotlib\u001b[0m\u001b[1;33m.\u001b[0m\u001b[0mpyplot\u001b[0m \u001b[1;32mas\u001b[0m \u001b[0mplt\u001b[0m\u001b[1;33m\u001b[0m\u001b[1;33m\u001b[0m\u001b[0m\n\u001b[0;32m     12\u001b[0m \u001b[1;32mimport\u001b[0m \u001b[0mtushare\u001b[0m \u001b[1;32mas\u001b[0m \u001b[0mts\u001b[0m\u001b[1;33m\u001b[0m\u001b[1;33m\u001b[0m\u001b[0m\n\u001b[1;32m---> 13\u001b[1;33m \u001b[1;32mimport\u001b[0m \u001b[0mtalib\u001b[0m\u001b[1;33m\u001b[0m\u001b[1;33m\u001b[0m\u001b[0m\n\u001b[0m\u001b[0;32m     14\u001b[0m \u001b[1;33m\u001b[0m\u001b[0m\n\u001b[0;32m     15\u001b[0m \u001b[0mtoken\u001b[0m\u001b[1;33m=\u001b[0m\u001b[1;34m'2f31c3932ead9fcc3830879132cc3ec8df3566550f711889d4a30f67'\u001b[0m\u001b[1;33m\u001b[0m\u001b[1;33m\u001b[0m\u001b[0m\n",
      "\u001b[1;31mModuleNotFoundError\u001b[0m: No module named 'talib'"
     ]
    }
   ],
   "source": [
    "#!/usr/bin/env python3\n",
    "# -*- coding: utf-8 -*-\n",
    "\"\"\"\n",
    "Created on Wed Aug  7 10:26:08 2019\n",
    "\n",
    "@author: hurenjie\n",
    "\"\"\"\n",
    "# 乖离率绝对值太大时，或者大到什么幅度时，大概率回归？\n",
    "#%%\n",
    "import pandas as pd, numpy as np\n",
    "import matplotlib.pyplot as plt\n",
    "import tushare as ts\n",
    "import talib\n",
    "\n",
    "token='2f31c3932ead9fcc3830879132cc3ec8df3566550f711889d4a30f67'\n",
    "pro = ts.pro_api(token)\n",
    "df = ts.get_hist_data('sh').sort_index()\n",
    "df.index = pd.to_datetime(df.index)\n",
    "#%%\n",
    "def bias_next_day_prediction(df, zscorethreshold, bias_time_window=30, zscore_time_window=30, return_date = False):\n",
    "    df['close_diff'] = df['close'].diff().shift(-1)\n",
    "    \n",
    "#    compute bias\n",
    "    ave = df['close'].rolling(bias_time_window).mean()\n",
    "    bias = (df['close']-ave)/ave\n",
    "    \n",
    "#    compute zscore\n",
    "    df['bias'] = bias\n",
    "    df['zscore'] = (df['bias'] - df['bias'].rolling(zscore_time_window).mean())/df['bias'].rolling(zscore_time_window).apply(np.std)\n",
    "    \n",
    "    larger_than_positive_threshold = df[df['zscore'] >= zscorethreshold]\n",
    "    smaller_than_negative_threshold = df[df['zscore'] <= zscorethreshold]\n",
    "    \n",
    "    larger_than_positive_threshold_nextday_down = larger_than_positive_threshold[larger_than_positive_threshold['close_diff']<0]\n",
    "    smaller_than_negative_threshold_nextday_up = smaller_than_negative_threshold[smaller_than_negative_threshold['close_diff']>0]\n",
    "    \n",
    "    if (df.index[-1] not in larger_than_positive_threshold.index) & (df.index[-1] not in smaller_than_negative_threshold.index):\n",
    "        print(str(df.index[-1].date()) + '并没有发生z-score超出阈值'+str(zscorethreshold)+'的现象')\n",
    "    elif (df.index[-1] in larger_than_positive_threshold.index):\n",
    "        print(str(df.index[-1].date()) + '向上超出了z-score设定的阈值'+str(zscorethreshold))\n",
    "    elif (df.index[-1] in smaller_than_negative_threshold.index):\n",
    "        print(str(df.index[-1].date()) + '向下超出了z-score设定的阈值'+str(zscorethreshold))\n",
    "    \n",
    "    try:\n",
    "        larger_than_positive_threshold_nextday_down_prob = larger_than_positive_threshold_nextday_down.shape[0]/larger_than_positive_threshold.shape[0]\n",
    "        smaller_than_negative_threshold_nextday_up_prob = smaller_than_negative_threshold_nextday_up.shape[0]/smaller_than_negative_threshold.shape[0]\n",
    "#        df.drop(columns = ['close_diff', 'bias', 'zscore'], inplace =  True)\n",
    "    except:\n",
    "        print('阈值选取不合适，请选取小一点的阈值 zscorethreshold')\n",
    "        df.drop(columns = ['close_diff', 'bias', 'zscore'], inplace =  True)\n",
    "    else:\n",
    "        df.drop(columns = ['close_diff', 'bias', 'zscore'], inplace =  True)\n",
    "        if return_date == False:\n",
    "            return {'输入的数据中乖离率zscore大于'+str(zscorethreshold)+'时第二天下跌的概率':larger_than_positive_threshold_nextday_down_prob,\n",
    "                    '输入的数据中乖离率zscore小于'+str(zscorethreshold)+'时第二天上涨的概率':smaller_than_negative_threshold_nextday_up_prob}\n",
    "        elif return_date == True :\n",
    "            return {'输入的数据中乖离率zscore大于'+str(zscorethreshold)+'时第二天下跌的概率':larger_than_positive_threshold_nextday_down_prob,\n",
    "                    '输入的数据中乖离率zscore小于'+str(zscorethreshold)+'时第二天上涨的概率':smaller_than_negative_threshold_nextday_up_prob,\n",
    "                    '向上超出zscore阈值'+str(zscorethreshold)+'的时间点':list(larger_than_positive_threshold.index),\n",
    "                    '向下超出zscore阈值'+str(zscorethreshold)+'的时间点':list(smaller_than_negative_threshold.index)}\n",
    "    \n",
    "\n",
    "#%%\n",
    "bias_next_day_prediction(df, zscorethreshold=2, return_date = True)"
   ]
  },
  {
   "cell_type": "markdown",
   "metadata": {},
   "source": [
    "# 网易爬数据"
   ]
  },
  {
   "cell_type": "code",
   "execution_count": 25,
   "metadata": {},
   "outputs": [],
   "source": [
    "def get_page(url):  #获取页面数据\n",
    "    req=urllib.request.Request(url,headers={\n",
    "        'Connection': 'Keep-Alive',\n",
    "        'Accept': 'text/html, application/xhtml+xml, */*',\n",
    "        'Accept-Language':'zh-CN,zh;q=0.8',\n",
    "        'User-Agent': 'Mozilla/5.0 (Windows NT 6.3; WOW64; Trident/7.0; rv:11.0) like Gecko'\n",
    "    })\n",
    "    opener=urllib.request.urlopen(req)\n",
    "    page=opener.read()\n",
    "    return page\n",
    "\n",
    "def get_index_history_byNetease(index_temp):\n",
    "    \"\"\"\n",
    "    :param index_temp: for example, 'sh000001' 上证指数\n",
    "    :return:\n",
    "    \"\"\"\n",
    "    index_type=index_temp[0:2]\n",
    "    index_id=index_temp[2:]\n",
    "    if index_type=='sh':\n",
    "        index_id='0'+index_id\n",
    "    if index_type==\"sz\":\n",
    "        index_id='1'+index_id\n",
    "    url='http://quotes.money.163.com/service/chddata.html?code=%s&start=19900101&end=%s&fields=TCLOSE;HIGH;LOW;TOPEN;LCLOSE;CHG;PCHG;VOTURNOVER;VATURNOVER'%(index_id,time.strftime(\"%Y%m%d\"))\n",
    "\n",
    "    page=get_page(url).decode('gb2312') #该段获取原始数据\n",
    "    page=page.split('\\r\\n')\n",
    "    col_info=page[0].split(',')   #各列的含义\n",
    "    index_data=page[1:]     #真正的数据\n",
    "\n",
    "    #为了与现有的数据库对应，这里我还修改了列名，大家不改也没关系\n",
    "    col_info[col_info.index('日期')]='交易日期'   #该段更改列名称\n",
    "    col_info[col_info.index('股票代码')]='指数代码'\n",
    "    col_info[col_info.index('名称')]='指数名称'\n",
    "    col_info[col_info.index('成交金额')]='成交额'\n",
    "\n",
    "    index_data=[x.replace(\"'\",'') for x in index_data]  #去掉指数编号前的“'”\n",
    "    index_data=[x.split(',') for x in index_data]\n",
    "\n",
    "    index_data=index_data[0:index_data.__len__()-1]   #最后一行为空，需要去掉\n",
    "    pos1=col_info.index('涨跌幅')\n",
    "    pos2=col_info.index('涨跌额')\n",
    "    posclose=col_info.index('收盘价')\n",
    "    index_data[index_data.__len__()-1][pos1]=0      #最下面行涨跌额和涨跌幅为None改为0\n",
    "    index_data[index_data.__len__()-1][pos2]=0\n",
    "    for i in range(0,index_data.__len__()-1):       #这两列中有些值莫名其妙为None 现在补全\n",
    "        if index_data[i][pos2]=='None':\n",
    "            index_data[i][pos2]=float(index_data[i][posclose])-float(index_data[i+1][posclose])\n",
    "        if index_data[i][pos1]=='None':\n",
    "            index_data[i][pos1]=(float(index_data[i][posclose])-float(index_data[i+1][posclose]))/float(index_data[i+1][posclose])\n",
    "\n",
    "    # print(col_info)\n",
    "    return [index_data,col_info]\n",
    "# --------------------- \n",
    "# 版权声明：本文为CSDN博主「multiangle」的原创文章，遵循CC 4.0 by-sa版权协议，转载请附上原文出处链接及本声明。\n",
    "# 原文链接：https://blog.csdn.net/u014595019/article/details/48445223"
   ]
  },
  {
   "cell_type": "code",
   "execution_count": 26,
   "metadata": {},
   "outputs": [],
   "source": [
    "sh = get_index_history_byNetease(\"sh000001\") \n",
    "df_ne = pd.DataFrame()\n",
    "df_ne['columns_to_split'] = pd.DataFrame(sh).T[0]\n",
    "col_list = list(pd.DataFrame(sh).T[1])[:12]\n",
    "df_ne['columns_to_split'] = df_ne['columns_to_split'].apply(lambda x: str(x))\n",
    "df_ne['columns_to_split'] = df_ne['columns_to_split'].apply(lambda x: x.replace(\"[\", \"\"))\n",
    "df_ne['columns_to_split'] = df_ne['columns_to_split'].apply(lambda x: x.replace(\"]\", \"\"))"
   ]
  },
  {
   "cell_type": "code",
   "execution_count": 90,
   "metadata": {},
   "outputs": [],
   "source": [
    "df_ne = df_ne['columns_to_split'].str.split(\",\", 12, expand = True)\n",
    "df_ne.columns = col_list\n",
    "df_ne.sort_values(\"交易日期\").tail()"
   ]
  },
  {
   "cell_type": "code",
   "execution_count": null,
   "metadata": {},
   "outputs": [],
   "source": []
  }
 ],
 "metadata": {
  "kernelspec": {
   "display_name": "Python 3",
   "language": "python",
   "name": "python3"
  },
  "language_info": {
   "codemirror_mode": {
    "name": "ipython",
    "version": 3
   },
   "file_extension": ".py",
   "mimetype": "text/x-python",
   "name": "python",
   "nbconvert_exporter": "python",
   "pygments_lexer": "ipython3",
   "version": "3.7.3"
  }
 },
 "nbformat": 4,
 "nbformat_minor": 2
}
