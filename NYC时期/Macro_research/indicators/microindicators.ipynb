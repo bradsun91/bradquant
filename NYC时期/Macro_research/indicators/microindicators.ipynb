{
 "cells": [
  {
   "cell_type": "markdown",
   "metadata": {},
   "source": [
    "# MACD"
   ]
  },
  {
   "cell_type": "markdown",
   "metadata": {},
   "source": [
    "Blue line = MACD = 12DayEMA - 29DayEMA\n",
    "\n",
    "White line = 9day EMA of MACD\n",
    "\n",
    "Diff(Red/Green CHarts) = MACD - white line"
   ]
  },
  {
   "cell_type": "code",
   "execution_count": null,
   "metadata": {
    "collapsed": true
   },
   "outputs": [],
   "source": [
    "# Create Blue line\n",
    "def macd(series, fast_line_lookback, slow_line_lookback, macd_ema_lookback, diff_lookback):\n",
    "    fast_ema = series.ewm(span = fast_line_lookback).mean()\n",
    "    slow_ema = series.ewm(span = slow_line_lookback).mean()\n",
    "    macd = fast_ema - slow_ema"
   ]
  },
  {
   "cell_type": "code",
   "execution_count": null,
   "metadata": {
    "collapsed": true
   },
   "outputs": [],
   "source": [
    "# Create White line\n",
    "    macd_ema = macd.ewm(span = macd_ema_lookback).mean()"
   ]
  },
  {
   "cell_type": "code",
   "execution_count": null,
   "metadata": {
    "collapsed": true
   },
   "outputs": [],
   "source": [
    "# Create Diff\n",
    "    diff = macd - macd_ema"
   ]
  },
  {
   "cell_type": "code",
   "execution_count": null,
   "metadata": {
    "collapsed": true
   },
   "outputs": [],
   "source": [
    "# Create diff's 7-day moving average\n",
    "    diff_7ema = diff.ewm(span = 7).mean()"
   ]
  },
  {
   "cell_type": "code",
   "execution_count": null,
   "metadata": {
    "collapsed": true
   },
   "outputs": [],
   "source": [
    "    diff.plot(figsize = (16,8))"
   ]
  },
  {
   "cell_type": "code",
   "execution_count": 4,
   "metadata": {
    "collapsed": false
   },
   "outputs": [],
   "source": [
    "# So the combined/complete MACD code is:\n",
    "\n",
    "def macd(series, fast_line_lookback, slow_line_lookback, macd_ema_lookback, diff_lookback):\n",
    "    fast_ema = series.ewm(span = fast_line_lookback).mean()\n",
    "    slow_ema = series.ewm(span = slow_line_lookback).mean()\n",
    "    macd = fast_ema - slow_ema\n",
    "    macd_ema = macd.ewm(span = macd_ema_lookback).mean()\n",
    "    diff = macd - macd_ema\n",
    "    \n",
    "    return diff"
   ]
  },
  {
   "cell_type": "markdown",
   "metadata": {},
   "source": [
    "# Z-score"
   ]
  },
  {
   "cell_type": "code",
   "execution_count": 4,
   "metadata": {
    "collapsed": true
   },
   "outputs": [],
   "source": [
    "import pandas as pd\n",
    "\n",
    "def z_score(series, look_back_window):\n",
    "    mean = pd.ewma(series, span = look_back_window)\n",
    "    std = pd.rolling_std(series, window = look_back_window)\n",
    "    zs = (series - mean)/std\n",
    "    return zs"
   ]
  },
  {
   "cell_type": "code",
   "execution_count": null,
   "metadata": {
    "collapsed": true
   },
   "outputs": [],
   "source": []
  },
  {
   "cell_type": "markdown",
   "metadata": {},
   "source": [
    "# Stock's exp_slope_signs"
   ]
  },
  {
   "cell_type": "code",
   "execution_count": 1,
   "metadata": {
    "collapsed": true
   },
   "outputs": [],
   "source": [
    "# Create a function that identifies slope's positive or negative signs\n",
    "\n",
    "def show_slope(pct_chg):\n",
    "    sign_list = []\n",
    "    for item in pct_chg:\n",
    "        if item < 0:\n",
    "            sign = -1\n",
    "        elif item > 0:\n",
    "            sign = 1\n",
    "        else:\n",
    "            sign = 0\n",
    "        sign_list.append(sign)\n",
    "    signs_with_index = pd.Series(sign_list, index = pct_chg.index)\n",
    "#     signs_with_index.plot(figsize = (30, 5))\n",
    "    return signs_with_index\n",
    "    \n",
    "\n",
    "# slope_signs = show_slope(exp_slope)\n",
    "# three_graphs(qqq_spy, qs_exp_spread, slope_signs)"
   ]
  },
  {
   "cell_type": "code",
   "execution_count": null,
   "metadata": {
    "collapsed": true
   },
   "outputs": [],
   "source": []
  },
  {
   "cell_type": "markdown",
   "metadata": {},
   "source": [
    "# Filtered_large_spread"
   ]
  },
  {
   "cell_type": "code",
   "execution_count": 3,
   "metadata": {
    "collapsed": false
   },
   "outputs": [],
   "source": [
    "def large_spread(spread, min_threshold, max_threshold, mid_value):\n",
    "    large_spread_list = []\n",
    "    for item in spread:\n",
    "        if item <= min_threshold:\n",
    "            sprd = item\n",
    "        elif item >= max_threshold:\n",
    "            sprd = item\n",
    "        else:\n",
    "            sprd = mid_value\n",
    "        large_spread_list.append(sprd)\n",
    "    filtered_list = pd.Series(large_spread_list, index = spread.index)\n",
    "    \n",
    "    return filtered_list\n",
    "#     filtered_list.plot(figsize = (25, 10))\n",
    "    \n",
    "# filtered_spread = large_spread(qs_exp_spread, -0.01, 0.01, 0)"
   ]
  },
  {
   "cell_type": "markdown",
   "metadata": {},
   "source": [
    "# Bollinnger Bands"
   ]
  },
  {
   "cell_type": "code",
   "execution_count": 5,
   "metadata": {
    "collapsed": true
   },
   "outputs": [],
   "source": [
    "def bollinger_bands_mean(stock_price, window_size, num_of_std):\n",
    "\n",
    "    rolling_mean = stock_price.ewm(span=window_size).mean()\n",
    "    rolling_std  = stock_price.rolling(window=window_size).std()\n",
    "    upper_band = rolling_mean + (rolling_std*num_of_std)\n",
    "    lower_band = rolling_mean - (rolling_std*num_of_std)\n",
    "    return rolling_mean\n",
    "# m = bollinger_bands_mean(qqq_spy, 40, 2)\n",
    "\n",
    "\n",
    "def bollinger_bands_upper(stock_price, window_size, num_of_std):\n",
    "\n",
    "    rolling_mean = stock_price.ewm(span=window_size).mean()\n",
    "    rolling_std  = stock_price.rolling(window=window_size).std()\n",
    "    upper_band = rolling_mean + (rolling_std*num_of_std)\n",
    "    lower_band = rolling_mean - (rolling_std*num_of_std)\n",
    "    return upper_band\n",
    "# u = bollinger_bands_upper(qqq_spy, 40, 2)\n",
    "\n",
    "\n",
    "def bollinger_bands_lower(stock_price, window_size, num_of_std):\n",
    "\n",
    "    rolling_mean = stock_price.ewm(span=window_size).mean()\n",
    "    rolling_std  = stock_price.rolling(window=window_size).std()\n",
    "    upper_band = rolling_mean + (rolling_std*num_of_std)\n",
    "    lower_band = rolling_mean - (rolling_std*num_of_std)\n",
    "    return lower_band\n",
    "# l = bollinger_bands_lower(qqq_spy, 40, 2)\n",
    "\n",
    "\n",
    "# def four_graphs(series1, series2, series3, series4):\n",
    "\n",
    "#     fig, ax1 = plt.subplots(1,1, figsize=(25,10), sharex=True)\n",
    "    \n",
    "#     series1.plot(ax = ax1, color = 'blue', lw=1)\n",
    "#     series2.plot(ax = ax1, color = 'red', lw=1)\n",
    "#     series3.plot(ax = ax1, color = 'green', lw = 1)\n",
    "#     series4.plot(ax = ax1, color = 'purple', lw = 1)\n",
    "# four_graphs(qqq_spy, m, u, l)"
   ]
  },
  {
   "cell_type": "markdown",
   "metadata": {
    "collapsed": true
   },
   "source": [
    "# Exponential Moving Average"
   ]
  },
  {
   "cell_type": "code",
   "execution_count": 1,
   "metadata": {
    "collapsed": true
   },
   "outputs": [],
   "source": [
    "def series_ema(series, window_span):\n",
    "    expmovingavg = series.ewm(span = window_span).mean()\n",
    "    return expmovingavg"
   ]
  },
  {
   "cell_type": "markdown",
   "metadata": {
    "collapsed": true
   },
   "source": [
    "# Watermark and Resistance"
   ]
  },
  {
   "cell_type": "code",
   "execution_count": null,
   "metadata": {
    "collapsed": true
   },
   "outputs": [],
   "source": [
    "def resistance(pnl, how='high'):\n",
    "    mark = np.maximum if how == 'high' else np.minimum\n",
    "    return mark.accumulate(pnl.fillna(pnl.min()))"
   ]
  },
  {
   "cell_type": "markdown",
   "metadata": {
    "collapsed": true
   },
   "source": [
    "# Anomalies"
   ]
  },
  {
   "cell_type": "code",
   "execution_count": null,
   "metadata": {
    "collapsed": true
   },
   "outputs": [],
   "source": [
    "def anomalies(series, pct_lower_threshold, pct_upper_threshold, mid_value):\n",
    "    anomaly_list = []\n",
    "    for item in series:\n",
    "        if item <= pct_lower_threshold:\n",
    "            pct = item\n",
    "        elif item >= pct_upper_threshold:\n",
    "            pct = item\n",
    "        else:\n",
    "            pct = mid_value\n",
    "        anomaly_list.append(pct)\n",
    "    filtered_list = pd.Series(anomaly_list, index = series.index)\n",
    "    \n",
    "    return filtered_list "
   ]
  },
  {
   "cell_type": "markdown",
   "metadata": {},
   "source": [
    "# Up-Down Volume Ratio"
   ]
  },
  {
   "cell_type": "markdown",
   "metadata": {},
   "source": [
    "It's a metric derived by dividing a stock's volume on up days by its volume on down days during the past 50 days."
   ]
  },
  {
   "cell_type": "code",
   "execution_count": null,
   "metadata": {
    "collapsed": true
   },
   "outputs": [],
   "source": []
  },
  {
   "cell_type": "code",
   "execution_count": null,
   "metadata": {
    "collapsed": true
   },
   "outputs": [],
   "source": []
  },
  {
   "cell_type": "code",
   "execution_count": null,
   "metadata": {
    "collapsed": true
   },
   "outputs": [],
   "source": []
  },
  {
   "cell_type": "code",
   "execution_count": null,
   "metadata": {
    "collapsed": true
   },
   "outputs": [],
   "source": []
  },
  {
   "cell_type": "code",
   "execution_count": null,
   "metadata": {
    "collapsed": true
   },
   "outputs": [],
   "source": []
  },
  {
   "cell_type": "code",
   "execution_count": null,
   "metadata": {
    "collapsed": true
   },
   "outputs": [],
   "source": []
  }
 ],
 "metadata": {
  "anaconda-cloud": {},
  "hide_input": false,
  "kernelspec": {
   "display_name": "Python [conda root]",
   "language": "python",
   "name": "conda-root-py"
  },
  "language_info": {
   "codemirror_mode": {
    "name": "ipython",
    "version": 3
   },
   "file_extension": ".py",
   "mimetype": "text/x-python",
   "name": "python",
   "nbconvert_exporter": "python",
   "pygments_lexer": "ipython3",
   "version": "3.4.5"
  },
  "nav_menu": {},
  "toc": {
   "navigate_menu": true,
   "number_sections": true,
   "sideBar": true,
   "threshold": 6,
   "toc_cell": false,
   "toc_section_display": "block",
   "toc_window_display": false
  }
 },
 "nbformat": 4,
 "nbformat_minor": 2
}
