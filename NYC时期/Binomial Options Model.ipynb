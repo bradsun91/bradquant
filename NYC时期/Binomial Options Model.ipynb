{
 "cells": [
  {
   "cell_type": "code",
   "execution_count": 2,
   "metadata": {
    "collapsed": false
   },
   "outputs": [
    {
     "name": "stdout",
     "output_type": "stream",
     "text": [
      "6.574365023895367\n"
     ]
    }
   ],
   "source": [
    "import math\n",
    "\n",
    "def nCr(n,r):\n",
    "    f = math.factorial\n",
    "    return f(n) / f(r) / f(n-r)\n",
    "\n",
    "class Option(object):\n",
    "\n",
    "    def __init__(self,s0,u,d,r,t,strike):\n",
    "        self.s0=s0\n",
    "        self.u=u\n",
    "        self.d=d\n",
    "        self.r=r\n",
    "        self.t=t\n",
    "        self.strike=strike\n",
    "\n",
    "    def price(self):\n",
    "        q = (self.r - self.d) / (self.u - self.d)\n",
    "        prc = 0\n",
    "        temp_stock = 0\n",
    "        temp_payout = 0\n",
    "        for x in range(1,self.t+1):\n",
    "            temp_stock = self.strike*(self.u**(4-x))*(self.d**(x-1))\n",
    "            temp_payout = max(temp_stock-self.strike,0)\n",
    "            prc += nCr(self.t,x-1)*(q**(4-x))*((1-q)**(x-1))*temp_payout\n",
    "        prc = prc / (self.r**self.t)\n",
    "        return prc\n",
    "\n",
    "\n",
    "newOption = Option(100,1.07,0.93458,1.01,3,100)\n",
    "print (newOption.price())"
   ]
  }
 ],
 "metadata": {
  "hide_input": false,
  "kernelspec": {
   "display_name": "Python [default]",
   "language": "python",
   "name": "python3"
  },
  "nav_menu": {},
  "toc": {
   "navigate_menu": true,
   "number_sections": true,
   "sideBar": true,
   "threshold": 6,
   "toc_cell": false,
   "toc_section_display": "block",
   "toc_window_display": false
  }
 },
 "nbformat": 4,
 "nbformat_minor": 0
}
