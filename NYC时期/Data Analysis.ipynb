import quandl, numpy as np, pandas as pd
from decimal import Decimal
import matplotlib.pyplot as plt

key = 'Q2sfWJ9spWkWvbuYkUZe'
df = quandl.get('USTREASURY/YIELD', api_key=key)

def cum_pct_chg(sr, zero_fill=0.000001):
    sr_ = sr.replace(0, zero_fill).pct_change()
    return (1 + sr_).cumprod()

sr = df['3 MO']['2014-09':]
sr_ = cum_pct_chg(sr)

fig, (ax1, ax2) = plt.subplots(1, 2, figsize=(12,4))
sr_.plot(ax=ax1); ax1.set_title('After')
(1+sr.pct_change()).cumprod().plot(ax=ax2); ax2.set_title('Before')
