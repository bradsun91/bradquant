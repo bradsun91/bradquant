{
 "cells": [
  {
   "cell_type": "code",
   "execution_count": 48,
   "metadata": {
    "collapsed": false
   },
   "outputs": [],
   "source": [
    "import numpy as np\n",
    "import pandas as pd\n",
    "from pandas import DataFrame"
   ]
  },
  {
   "cell_type": "code",
   "execution_count": 49,
   "metadata": {
    "collapsed": false
   },
   "outputs": [
    {
     "data": {
      "text/plain": [
       "MultiIndex(levels=[['Arm', 'Back', 'Legs'], ['Behind-Neck Triceps Curl', 'Biceps Barbell Curl', 'Biceps DB Spin Curl', 'Biceps DB Vertal Curl', 'Calve Lifting', 'Narrow-Sit-Vertical-Grip', 'Pull-Up', 'Squat', 'Triceps Crawl Curl', 'Triceps Pull-Down', 'Wide-Sit-Vertical-Grip']],\n",
       "           labels=[[1, 1, 1, 0, 0, 0, 0, 0, 0, 2, 2], [5, 10, 6, 1, 3, 2, 9, 0, 8, 7, 4]],\n",
       "           names=['Parts', 'Sub-Parts'])"
      ]
     },
     "execution_count": 49,
     "metadata": {},
     "output_type": "execute_result"
    }
   ],
   "source": [
    "rows = pd.MultiIndex.from_arrays([['Back','Back','Back', 'Arm','Arm','Arm','Arm','Arm','Arm', 'Legs','Legs'],\n",
    "    ['Narrow-Sit-Vertical-Grip', 'Wide-Sit-Vertical-Grip', 'Pull-Up', 'Biceps Barbell Curl','Biceps DB Vertal Curl',\n",
    "     'Biceps DB Spin Curl', 'Triceps Pull-Down', 'Behind-Neck Triceps Curl', 'Triceps Crawl Curl', 'Squat', 'Calve Lifting']], \n",
    "                                 names=['Parts', 'Sub-Parts'])\n",
    "rows"
   ]
  },
  {
   "cell_type": "code",
   "execution_count": 50,
   "metadata": {
    "collapsed": false
   },
   "outputs": [],
   "source": [
    "hier_df = DataFrame(np.random.randn(11,4), index=rows, columns = ['Max Weights', 'Max Sets', 'Max Reps', 'Most Updated Dates'])"
   ]
  },
  {
   "cell_type": "code",
   "execution_count": 51,
   "metadata": {
    "collapsed": false
   },
   "outputs": [
    {
     "data": {
      "text/html": [
       "<div>\n",
       "<table border=\"1\" class=\"dataframe\">\n",
       "  <thead>\n",
       "    <tr style=\"text-align: right;\">\n",
       "      <th></th>\n",
       "      <th></th>\n",
       "      <th>Max Weights</th>\n",
       "      <th>Max Sets</th>\n",
       "      <th>Max Reps</th>\n",
       "      <th>Most Updated Dates</th>\n",
       "    </tr>\n",
       "    <tr>\n",
       "      <th>Parts</th>\n",
       "      <th>Sub-Parts</th>\n",
       "      <th></th>\n",
       "      <th></th>\n",
       "      <th></th>\n",
       "      <th></th>\n",
       "    </tr>\n",
       "  </thead>\n",
       "  <tbody>\n",
       "    <tr>\n",
       "      <th rowspan=\"3\" valign=\"top\">Back</th>\n",
       "      <th>Narrow-Sit-Vertical-Grip</th>\n",
       "      <td>1.015617</td>\n",
       "      <td>-0.072576</td>\n",
       "      <td>-0.278330</td>\n",
       "      <td>0.534867</td>\n",
       "    </tr>\n",
       "    <tr>\n",
       "      <th>Wide-Sit-Vertical-Grip</th>\n",
       "      <td>2.101781</td>\n",
       "      <td>1.909791</td>\n",
       "      <td>-0.092167</td>\n",
       "      <td>1.713610</td>\n",
       "    </tr>\n",
       "    <tr>\n",
       "      <th>Pull-Up</th>\n",
       "      <td>-0.389903</td>\n",
       "      <td>2.437976</td>\n",
       "      <td>-1.423317</td>\n",
       "      <td>-0.464995</td>\n",
       "    </tr>\n",
       "    <tr>\n",
       "      <th rowspan=\"6\" valign=\"top\">Arm</th>\n",
       "      <th>Biceps Barbell Curl</th>\n",
       "      <td>0.201029</td>\n",
       "      <td>1.737024</td>\n",
       "      <td>0.314844</td>\n",
       "      <td>0.606908</td>\n",
       "    </tr>\n",
       "    <tr>\n",
       "      <th>Biceps DB Vertal Curl</th>\n",
       "      <td>-0.007936</td>\n",
       "      <td>-0.808374</td>\n",
       "      <td>1.857468</td>\n",
       "      <td>0.606147</td>\n",
       "    </tr>\n",
       "    <tr>\n",
       "      <th>Biceps DB Spin Curl</th>\n",
       "      <td>-0.231548</td>\n",
       "      <td>2.099924</td>\n",
       "      <td>1.126435</td>\n",
       "      <td>0.241578</td>\n",
       "    </tr>\n",
       "    <tr>\n",
       "      <th>Triceps Pull-Down</th>\n",
       "      <td>0.795097</td>\n",
       "      <td>-0.309405</td>\n",
       "      <td>0.824863</td>\n",
       "      <td>-1.262305</td>\n",
       "    </tr>\n",
       "    <tr>\n",
       "      <th>Behind-Neck Triceps Curl</th>\n",
       "      <td>-0.454556</td>\n",
       "      <td>-1.769564</td>\n",
       "      <td>-1.278833</td>\n",
       "      <td>0.924928</td>\n",
       "    </tr>\n",
       "    <tr>\n",
       "      <th>Triceps Crawl Curl</th>\n",
       "      <td>-1.115257</td>\n",
       "      <td>0.614069</td>\n",
       "      <td>-1.941737</td>\n",
       "      <td>0.067616</td>\n",
       "    </tr>\n",
       "    <tr>\n",
       "      <th rowspan=\"2\" valign=\"top\">Legs</th>\n",
       "      <th>Squat</th>\n",
       "      <td>1.696714</td>\n",
       "      <td>-1.300520</td>\n",
       "      <td>0.287917</td>\n",
       "      <td>-1.345971</td>\n",
       "    </tr>\n",
       "    <tr>\n",
       "      <th>Calve Lifting</th>\n",
       "      <td>1.404842</td>\n",
       "      <td>1.348745</td>\n",
       "      <td>1.420873</td>\n",
       "      <td>-0.289135</td>\n",
       "    </tr>\n",
       "  </tbody>\n",
       "</table>\n",
       "</div>"
      ],
      "text/plain": [
       "                                Max Weights  Max Sets  Max Reps  \\\n",
       "Parts Sub-Parts                                                   \n",
       "Back  Narrow-Sit-Vertical-Grip     1.015617 -0.072576 -0.278330   \n",
       "      Wide-Sit-Vertical-Grip       2.101781  1.909791 -0.092167   \n",
       "      Pull-Up                     -0.389903  2.437976 -1.423317   \n",
       "Arm   Biceps Barbell Curl          0.201029  1.737024  0.314844   \n",
       "      Biceps DB Vertal Curl       -0.007936 -0.808374  1.857468   \n",
       "      Biceps DB Spin Curl         -0.231548  2.099924  1.126435   \n",
       "      Triceps Pull-Down            0.795097 -0.309405  0.824863   \n",
       "      Behind-Neck Triceps Curl    -0.454556 -1.769564 -1.278833   \n",
       "      Triceps Crawl Curl          -1.115257  0.614069 -1.941737   \n",
       "Legs  Squat                        1.696714 -1.300520  0.287917   \n",
       "      Calve Lifting                1.404842  1.348745  1.420873   \n",
       "\n",
       "                                Most Updated Dates  \n",
       "Parts Sub-Parts                                     \n",
       "Back  Narrow-Sit-Vertical-Grip            0.534867  \n",
       "      Wide-Sit-Vertical-Grip              1.713610  \n",
       "      Pull-Up                            -0.464995  \n",
       "Arm   Biceps Barbell Curl                 0.606908  \n",
       "      Biceps DB Vertal Curl               0.606147  \n",
       "      Biceps DB Spin Curl                 0.241578  \n",
       "      Triceps Pull-Down                  -1.262305  \n",
       "      Behind-Neck Triceps Curl            0.924928  \n",
       "      Triceps Crawl Curl                  0.067616  \n",
       "Legs  Squat                              -1.345971  \n",
       "      Calve Lifting                      -0.289135  "
      ]
     },
     "execution_count": 51,
     "metadata": {},
     "output_type": "execute_result"
    }
   ],
   "source": [
    "hier_df"
   ]
  },
  {
   "cell_type": "code",
   "execution_count": 67,
   "metadata": {
    "collapsed": false
   },
   "outputs": [
    {
     "data": {
      "text/html": [
       "<div>\n",
       "<table border=\"1\" class=\"dataframe\">\n",
       "  <thead>\n",
       "    <tr style=\"text-align: right;\">\n",
       "      <th></th>\n",
       "      <th>(kg)/(lbs)</th>\n",
       "      <th>Max Weights</th>\n",
       "      <th>Units</th>\n",
       "      <th>Max Sets</th>\n",
       "      <th>Max Reps</th>\n",
       "      <th>Most Updated Dates</th>\n",
       "    </tr>\n",
       "    <tr>\n",
       "      <th>Workout Updates</th>\n",
       "      <th></th>\n",
       "      <th></th>\n",
       "      <th></th>\n",
       "      <th></th>\n",
       "      <th></th>\n",
       "      <th></th>\n",
       "    </tr>\n",
       "  </thead>\n",
       "  <tbody>\n",
       "    <tr>\n",
       "      <th>Parts</th>\n",
       "      <td>Sub-Parts</td>\n",
       "      <td>NaN</td>\n",
       "      <td>NaN</td>\n",
       "      <td>NaN</td>\n",
       "      <td>NaN</td>\n",
       "      <td>NaN</td>\n",
       "    </tr>\n",
       "    <tr>\n",
       "      <th>Back</th>\n",
       "      <td>Narrow-Sit-Vertical-Grip</td>\n",
       "      <td>NaN</td>\n",
       "      <td>NaN</td>\n",
       "      <td>NaN</td>\n",
       "      <td>NaN</td>\n",
       "      <td>NaN</td>\n",
       "    </tr>\n",
       "    <tr>\n",
       "      <th>Back</th>\n",
       "      <td>Wide-Sit-Vertical-Grip</td>\n",
       "      <td>140.0</td>\n",
       "      <td>lbs</td>\n",
       "      <td>NaN</td>\n",
       "      <td>NaN</td>\n",
       "      <td>NaN</td>\n",
       "    </tr>\n",
       "    <tr>\n",
       "      <th>Back</th>\n",
       "      <td>Pull-Up</td>\n",
       "      <td>NaN</td>\n",
       "      <td>NaN</td>\n",
       "      <td>NaN</td>\n",
       "      <td>NaN</td>\n",
       "      <td>NaN</td>\n",
       "    </tr>\n",
       "    <tr>\n",
       "      <th>Arm</th>\n",
       "      <td>Biceps Barbell Curl</td>\n",
       "      <td>NaN</td>\n",
       "      <td>NaN</td>\n",
       "      <td>NaN</td>\n",
       "      <td>NaN</td>\n",
       "      <td>NaN</td>\n",
       "    </tr>\n",
       "    <tr>\n",
       "      <th>Arm</th>\n",
       "      <td>Biceps DB Vertal Curl</td>\n",
       "      <td>50.0</td>\n",
       "      <td>kg</td>\n",
       "      <td>NaN</td>\n",
       "      <td>12.0</td>\n",
       "      <td>NaN</td>\n",
       "    </tr>\n",
       "    <tr>\n",
       "      <th>Arm</th>\n",
       "      <td>Biceps DB Spin Curl</td>\n",
       "      <td>NaN</td>\n",
       "      <td>NaN</td>\n",
       "      <td>NaN</td>\n",
       "      <td>NaN</td>\n",
       "      <td>NaN</td>\n",
       "    </tr>\n",
       "    <tr>\n",
       "      <th>Arm</th>\n",
       "      <td>Triceps Pull-Down</td>\n",
       "      <td>NaN</td>\n",
       "      <td>NaN</td>\n",
       "      <td>NaN</td>\n",
       "      <td>NaN</td>\n",
       "      <td>NaN</td>\n",
       "    </tr>\n",
       "    <tr>\n",
       "      <th>Arm</th>\n",
       "      <td>Behind-Neck Triceps Curl</td>\n",
       "      <td>NaN</td>\n",
       "      <td>NaN</td>\n",
       "      <td>NaN</td>\n",
       "      <td>NaN</td>\n",
       "      <td>NaN</td>\n",
       "    </tr>\n",
       "    <tr>\n",
       "      <th>Arm</th>\n",
       "      <td>Triceps Crawl Curl</td>\n",
       "      <td>NaN</td>\n",
       "      <td>NaN</td>\n",
       "      <td>NaN</td>\n",
       "      <td>NaN</td>\n",
       "      <td>NaN</td>\n",
       "    </tr>\n",
       "    <tr>\n",
       "      <th>Legs</th>\n",
       "      <td>Squat</td>\n",
       "      <td>120.0</td>\n",
       "      <td>kg</td>\n",
       "      <td>NaN</td>\n",
       "      <td>NaN</td>\n",
       "      <td>NaN</td>\n",
       "    </tr>\n",
       "    <tr>\n",
       "      <th>Legs</th>\n",
       "      <td>Calve Lifting</td>\n",
       "      <td>NaN</td>\n",
       "      <td>NaN</td>\n",
       "      <td>NaN</td>\n",
       "      <td>NaN</td>\n",
       "      <td>NaN</td>\n",
       "    </tr>\n",
       "  </tbody>\n",
       "</table>\n",
       "</div>"
      ],
      "text/plain": [
       "                               (kg)/(lbs)  Max Weights Units  Max Sets  \\\n",
       "Workout Updates                                                          \n",
       "Parts                           Sub-Parts          NaN   NaN       NaN   \n",
       "Back             Narrow-Sit-Vertical-Grip          NaN   NaN       NaN   \n",
       "Back               Wide-Sit-Vertical-Grip        140.0   lbs       NaN   \n",
       "Back                              Pull-Up          NaN   NaN       NaN   \n",
       "Arm                   Biceps Barbell Curl          NaN   NaN       NaN   \n",
       "Arm                 Biceps DB Vertal Curl         50.0    kg       NaN   \n",
       "Arm                   Biceps DB Spin Curl          NaN   NaN       NaN   \n",
       "Arm                     Triceps Pull-Down          NaN   NaN       NaN   \n",
       "Arm              Behind-Neck Triceps Curl          NaN   NaN       NaN   \n",
       "Arm                    Triceps Crawl Curl          NaN   NaN       NaN   \n",
       "Legs                                Squat        120.0    kg       NaN   \n",
       "Legs                        Calve Lifting          NaN   NaN       NaN   \n",
       "\n",
       "                 Max Reps  Most Updated Dates  \n",
       "Workout Updates                                \n",
       "Parts                 NaN                 NaN  \n",
       "Back                  NaN                 NaN  \n",
       "Back                  NaN                 NaN  \n",
       "Back                  NaN                 NaN  \n",
       "Arm                   NaN                 NaN  \n",
       "Arm                  12.0                 NaN  \n",
       "Arm                   NaN                 NaN  \n",
       "Arm                   NaN                 NaN  \n",
       "Arm                   NaN                 NaN  \n",
       "Arm                   NaN                 NaN  \n",
       "Legs                  NaN                 NaN  \n",
       "Legs                  NaN                 NaN  "
      ]
     },
     "execution_count": 67,
     "metadata": {},
     "output_type": "execute_result"
    }
   ],
   "source": [
    "csv = pd.read_csv('workout.csv', index_col = 0)\n",
    "csv"
   ]
  },
  {
   "cell_type": "code",
   "execution_count": null,
   "metadata": {
    "collapsed": true
   },
   "outputs": [],
   "source": [
    "# Next problem, how to glue csv's partial data with python's rows and columns or something like this?"
   ]
  },
  {
   "cell_type": "code",
   "execution_count": null,
   "metadata": {
    "collapsed": true
   },
   "outputs": [],
   "source": []
  },
  {
   "cell_type": "code",
   "execution_count": null,
   "metadata": {
    "collapsed": true
   },
   "outputs": [],
   "source": []
  },
  {
   "cell_type": "code",
   "execution_count": null,
   "metadata": {
    "collapsed": true
   },
   "outputs": [],
   "source": []
  },
  {
   "cell_type": "code",
   "execution_count": null,
   "metadata": {
    "collapsed": true
   },
   "outputs": [],
   "source": []
  }
 ],
 "metadata": {
  "anaconda-cloud": {},
  "hide_input": false,
  "kernelspec": {
   "display_name": "Python [conda root]",
   "language": "python",
   "name": "conda-root-py"
  },
  "language_info": {
   "codemirror_mode": {
    "name": "ipython",
    "version": 3
   },
   "file_extension": ".py",
   "mimetype": "text/x-python",
   "name": "python",
   "nbconvert_exporter": "python",
   "pygments_lexer": "ipython3",
   "version": "3.4.5"
  },
  "nav_menu": {},
  "toc": {
   "navigate_menu": true,
   "number_sections": true,
   "sideBar": true,
   "threshold": 6,
   "toc_cell": false,
   "toc_section_display": "block",
   "toc_window_display": false
  }
 },
 "nbformat": 4,
 "nbformat_minor": 0
}
