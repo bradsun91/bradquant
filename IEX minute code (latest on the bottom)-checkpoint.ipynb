{
 "cells": [
  {
   "cell_type": "code",
   "execution_count": 3,
   "metadata": {},
   "outputs": [
    {
     "name": "stdout",
     "output_type": "stream",
     "text": [
      "\n",
      "The following command must be run outside of the IPython shell:\n",
      "\n",
      "    $ pip install iexfinance\n",
      "\n",
      "The Python package manager (pip) can only be used from outside of IPython.\n",
      "Please reissue the `pip` command in a separate terminal or command prompt.\n",
      "\n",
      "See the Python documentation for more information on how to install packages:\n",
      "\n",
      "    https://docs.python.org/3/installing/\n"
     ]
    }
   ],
   "source": [
    "pip install iexfinance"
   ]
  },
  {
   "cell_type": "code",
   "execution_count": 7,
   "metadata": {},
   "outputs": [
    {
     "name": "stdout",
     "output_type": "stream",
     "text": [
      "\n",
      "The following command must be run outside of the IPython shell:\n",
      "\n",
      "    $ pip install pandas\n",
      "\n",
      "The Python package manager (pip) can only be used from outside of IPython.\n",
      "Please reissue the `pip` command in a separate terminal or command prompt.\n",
      "\n",
      "See the Python documentation for more information on how to install packages:\n",
      "\n",
      "    https://docs.python.org/3/installing/\n"
     ]
    }
   ],
   "source": [
    "pip install pandas"
   ]
  },
  {
   "cell_type": "code",
   "execution_count": 2,
   "metadata": {},
   "outputs": [],
   "source": [
    "import pandas as pd\n",
    "import datetime"
   ]
  },
  {
   "cell_type": "code",
   "execution_count": 1,
   "metadata": {},
   "outputs": [],
   "source": [
    "from iexfinance.stocks import get_historical_intraday"
   ]
  },
  {
   "cell_type": "code",
   "execution_count": 3,
   "metadata": {},
   "outputs": [],
   "source": [
    "start = datetime.date(2021,7,26)"
   ]
  },
  {
   "cell_type": "code",
   "execution_count": 4,
   "metadata": {},
   "outputs": [],
   "source": [
    "api_key='pk_a46d5aecc6674d019b4973b996213060 '"
   ]
  },
  {
   "cell_type": "code",
   "execution_count": 5,
   "metadata": {},
   "outputs": [
    {
     "name": "stderr",
     "output_type": "stream",
     "text": [
      "/Users/miaoyuesun/anaconda3/lib/python3.5/site-packages/pandas/compat/_optional.py:106: UserWarning: Pandas requires version '2.6.2' or newer of 'numexpr' (version '2.6.1' currently installed).\n",
      "  warnings.warn(msg, UserWarning)\n"
     ]
    }
   ],
   "source": [
    "df = get_historical_intraday(\"MSFT\",output_format='pandas',token='pk_a46d5aecc6674d019b4973b996213060')"
   ]
  },
  {
   "cell_type": "code",
   "execution_count": 6,
   "metadata": {},
   "outputs": [
    {
     "data": {
      "text/html": [
       "<div>\n",
       "<style scoped>\n",
       "    .dataframe tbody tr th:only-of-type {\n",
       "        vertical-align: middle;\n",
       "    }\n",
       "\n",
       "    .dataframe tbody tr th {\n",
       "        vertical-align: top;\n",
       "    }\n",
       "\n",
       "    .dataframe thead th {\n",
       "        text-align: right;\n",
       "    }\n",
       "</style>\n",
       "<table border=\"1\" class=\"dataframe\">\n",
       "  <thead>\n",
       "    <tr style=\"text-align: right;\">\n",
       "      <th></th>\n",
       "      <th>average</th>\n",
       "      <th>close</th>\n",
       "      <th>date</th>\n",
       "      <th>high</th>\n",
       "      <th>label</th>\n",
       "      <th>low</th>\n",
       "      <th>notional</th>\n",
       "      <th>numberOfTrades</th>\n",
       "      <th>open</th>\n",
       "      <th>volume</th>\n",
       "    </tr>\n",
       "  </thead>\n",
       "  <tbody>\n",
       "    <tr>\n",
       "      <th>2021-08-17 13:02:00</th>\n",
       "      <td>292.482</td>\n",
       "      <td>292.49</td>\n",
       "      <td>2021-08-17</td>\n",
       "      <td>292.54</td>\n",
       "      <td>1:02 PM</td>\n",
       "      <td>292.465</td>\n",
       "      <td>250949.58</td>\n",
       "      <td>15</td>\n",
       "      <td>292.465</td>\n",
       "      <td>858</td>\n",
       "    </tr>\n",
       "    <tr>\n",
       "      <th>2021-08-17 13:03:00</th>\n",
       "      <td>292.385</td>\n",
       "      <td>292.34</td>\n",
       "      <td>2021-08-17</td>\n",
       "      <td>292.48</td>\n",
       "      <td>1:03 PM</td>\n",
       "      <td>292.340</td>\n",
       "      <td>183033.04</td>\n",
       "      <td>9</td>\n",
       "      <td>292.480</td>\n",
       "      <td>626</td>\n",
       "    </tr>\n",
       "    <tr>\n",
       "      <th>2021-08-17 13:04:00</th>\n",
       "      <td>292.206</td>\n",
       "      <td>292.22</td>\n",
       "      <td>2021-08-17</td>\n",
       "      <td>292.29</td>\n",
       "      <td>1:04 PM</td>\n",
       "      <td>292.160</td>\n",
       "      <td>228213.03</td>\n",
       "      <td>15</td>\n",
       "      <td>292.190</td>\n",
       "      <td>781</td>\n",
       "    </tr>\n",
       "    <tr>\n",
       "      <th>2021-08-17 13:05:00</th>\n",
       "      <td>292.134</td>\n",
       "      <td>292.12</td>\n",
       "      <td>2021-08-17</td>\n",
       "      <td>292.17</td>\n",
       "      <td>1:05 PM</td>\n",
       "      <td>292.110</td>\n",
       "      <td>208875.48</td>\n",
       "      <td>13</td>\n",
       "      <td>292.150</td>\n",
       "      <td>715</td>\n",
       "    </tr>\n",
       "    <tr>\n",
       "      <th>2021-08-17 13:06:00</th>\n",
       "      <td>292.135</td>\n",
       "      <td>292.19</td>\n",
       "      <td>2021-08-17</td>\n",
       "      <td>292.19</td>\n",
       "      <td>1:06 PM</td>\n",
       "      <td>292.070</td>\n",
       "      <td>183168.66</td>\n",
       "      <td>6</td>\n",
       "      <td>292.070</td>\n",
       "      <td>627</td>\n",
       "    </tr>\n",
       "  </tbody>\n",
       "</table>\n",
       "</div>"
      ],
      "text/plain": [
       "                     average   close        date    high    label      low  \\\n",
       "2021-08-17 13:02:00  292.482  292.49  2021-08-17  292.54  1:02 PM  292.465   \n",
       "2021-08-17 13:03:00  292.385  292.34  2021-08-17  292.48  1:03 PM  292.340   \n",
       "2021-08-17 13:04:00  292.206  292.22  2021-08-17  292.29  1:04 PM  292.160   \n",
       "2021-08-17 13:05:00  292.134  292.12  2021-08-17  292.17  1:05 PM  292.110   \n",
       "2021-08-17 13:06:00  292.135  292.19  2021-08-17  292.19  1:06 PM  292.070   \n",
       "\n",
       "                      notional  numberOfTrades     open  volume  \n",
       "2021-08-17 13:02:00  250949.58              15  292.465     858  \n",
       "2021-08-17 13:03:00  183033.04               9  292.480     626  \n",
       "2021-08-17 13:04:00  228213.03              15  292.190     781  \n",
       "2021-08-17 13:05:00  208875.48              13  292.150     715  \n",
       "2021-08-17 13:06:00  183168.66               6  292.070     627  "
      ]
     },
     "execution_count": 6,
     "metadata": {},
     "output_type": "execute_result"
    }
   ],
   "source": [
    "df.sort_index().tail()"
   ]
  },
  {
   "cell_type": "code",
   "execution_count": null,
   "metadata": {},
   "outputs": [],
   "source": []
  },
  {
   "cell_type": "code",
   "execution_count": 3,
   "metadata": {},
   "outputs": [
    {
     "ename": "NameError",
     "evalue": "name 'df' is not defined",
     "output_type": "error",
     "traceback": [
      "\u001b[0;31m---------------------------------------------------------------------------\u001b[0m",
      "\u001b[0;31mNameError\u001b[0m                                 Traceback (most recent call last)",
      "\u001b[0;32m<ipython-input-3-873aa293d964>\u001b[0m in \u001b[0;36m<module>\u001b[0;34m()\u001b[0m\n\u001b[0;32m----> 1\u001b[0;31m \u001b[0mprint\u001b[0m\u001b[0;34m(\u001b[0m\u001b[0mdf\u001b[0m\u001b[0;34m.\u001b[0m\u001b[0mhead\u001b[0m\u001b[0;34m(\u001b[0m\u001b[0;34m)\u001b[0m\u001b[0;34m)\u001b[0m\u001b[0;34m\u001b[0m\u001b[0m\n\u001b[0m",
      "\u001b[0;31mNameError\u001b[0m: name 'df' is not defined"
     ]
    }
   ],
   "source": [
    "print(df.head())"
   ]
  },
  {
   "cell_type": "code",
   "execution_count": null,
   "metadata": {},
   "outputs": [],
   "source": []
  }
 ],
 "metadata": {
  "kernelspec": {
   "display_name": "Python 3",
   "language": "python",
   "name": "python3"
  },
  "language_info": {
   "codemirror_mode": {
    "name": "ipython",
    "version": 3
   },
   "file_extension": ".py",
   "mimetype": "text/x-python",
   "name": "python",
   "nbconvert_exporter": "python",
   "pygments_lexer": "ipython3",
   "version": "3.5.6"
  }
 },
 "nbformat": 4,
 "nbformat_minor": 5
}
