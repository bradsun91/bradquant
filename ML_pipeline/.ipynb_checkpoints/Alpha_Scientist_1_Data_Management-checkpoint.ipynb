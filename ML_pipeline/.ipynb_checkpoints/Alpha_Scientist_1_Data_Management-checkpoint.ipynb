{
 "cells": [
  {
   "cell_type": "code",
   "execution_count": 1,
   "metadata": {},
   "outputs": [],
   "source": [
    "#ignore\n",
    "from IPython.core.display import HTML,Image\n",
    "import sys\n",
    "sys.path.append('/anaconda/')\n",
    "import config\n",
    "# HTML('<style>{}</style>'.format(config.CSS))"
   ]
  },
  {
   "cell_type": "markdown",
   "metadata": {},
   "source": [
    "https://github.com/bradsun91/alpha-scientist/blob/master/content/01_Data_management.ipynb"
   ]
  },
  {
   "cell_type": "markdown",
   "metadata": {},
   "source": [
    "# About this tutorial"
   ]
  },
  {
   "cell_type": "markdown",
   "metadata": {},
   "source": [
    "This is the first in a six-part series on the mechanics of applying machine learning techniques to the unique domain of stock market price prediction.\n",
    "\n",
    "Use of machine learning in the quantitative investment field is, by all indications, skyrocketing. The proliferation of easily accessible data - both traditional and alternative - along with some very approachable frameworks for machine learning models - is encouraging many to explore the arena.\n",
    "\n",
    "However, usage of machine learning in stock market prediction requires much more than a good grasp of the concepts and techniques for supervised machine learning. As I describe further in [this post], stock prediction is a challenging domain which requires some special techniques to overcome issues like non-stationarity, collinearity, and low signal-to-noise.\n",
    "\n",
    "In this and following posts, I'll present the design of an end-to-end system for developing, testing, and applying machine learning models in a way which addresses each of these problems in a very practical way.\n",
    "\n",
    "These tutorials are not intended offer any \"secret sauce\" or strategies which I use in live trading, but will offer a more valuable and more generalized set of techniques which will allow you to create your own strategies in a robust manner."
   ]
  },
  {
   "cell_type": "markdown",
   "metadata": {},
   "source": [
    "- Part 2: Feature engineering\n",
    "- Part 3: Feature selection\n",
    "- Part 4: Walk-forward modeling and out-of-sample testing\n",
    "- Part 5: Evaluating model performance\n",
    "- Part 6: Building ensemble models to combine many models and factors into an overall prediction"
   ]
  },
  {
   "cell_type": "markdown",
   "metadata": {},
   "source": [
    "In future, I also plan to make tutorials on:\n",
    "\n",
    "- Using Pandas, scikit-learn, and pandas plus scikit-learn\n",
    "- Techniques for improving model predictive power\n",
    "- Techniques for improving model robustness out-of-sample ... and probably others (please feel free to suggest in below comments)\n",
    "\n",
    "For this, I will assume readers have a good working knowledge of python and pandas as well as basic supervised machine learning concepts."
   ]
  },
  {
   "cell_type": "markdown",
   "metadata": {},
   "source": [
    "# About this post"
   ]
  },
  {
   "cell_type": "markdown",
   "metadata": {},
   "source": [
    "In this first post, I will present a framework for organizing and working with data. Perhaps not the most electrifying of topics, but it's a precondition for comprehending later modeling tutorials.\n",
    "\n",
    "It's also, as any practitioner of the field will agree, of critical significance and importance. I've heard it said that 90% of time in real-world quant finance is spent on data rather than models. That may be a bit of an exagggeration, but not far off.\n",
    "\n",
    "Following a coherent data management schema (mine or otherwise) will save countless hours of frustration and will allow you to scale your projects to teams of contributors"
   ]
  },
  {
   "cell_type": "markdown",
   "metadata": {},
   "source": [
    "# Types of Data Structures"
   ]
  },
  {
   "cell_type": "markdown",
   "metadata": {},
   "source": [
    "My system for handling data makes heavy use of three main types of data collections:\n",
    "\n",
    "- features: This is a dataframe which contains all features or values which we will allow models to use in the course of learning relationships - and later making predictions. All features must be values which would have been known at the point in time when the model needed to make predictions.\n",
    "In other words, next_12_months_returns would be a bad feature since it would not become known at the time needed. The features dataframe has a multi-index of date/symbol and column names unique to each feature. More on this later.\n",
    "\n",
    "2. outcomes: This is a dataframe of all possible future outcomes which we may be interested in predicting, magically shifted back in time to T-zero. For instance, we may want to predict the total_return for a symbol over the year following T=0 (the time of prediction). We would look ahead into the future, calculate what ultimately did happen to this metric, and log it onto time T=0. I'll explain why in a minute.\n",
    "Just like features, this dataframe has rows indexed by date/symbol and columns named with a convention which describes the feature.\n",
    "\n",
    "3. master: The final data structure type is the master dataframe. This contains any static information about each symbol in the universe, such as the SIC code, the number of shares outstanding, beta factors, etc...\n",
    "In practice, things in the master may change over time (SIC codes and shares out can both change...) but I've found it sufficient for my purposes to take the current static values for the current point in time.\n",
    "This dataframe uses row index of symbol only. You could, of course, add a date/symbol index if you wanted to reflect changing values over time."
   ]
  },
  {
   "cell_type": "markdown",
   "metadata": {},
   "source": [
    "# Why this data scheme?"
   ]
  },
  {
   "cell_type": "markdown",
   "metadata": {},
   "source": [
    "It may seem odd to split the features and outcomes into distinct dataframes, and odd to create a dataframe of several different possible \"outcomes\". Most important, it may seem odd to record on t=0 what will happen in the next day, week, month, etc...\n",
    "\n",
    "There are several reasons for this approach:\n",
    "\n",
    "- This makes it trivial to extract the X's and y's when training models. Just slice some columns from features for the X and slice one column of outcomes in y. They're already aligned and ready for fitting.\n",
    "- This makes it trivial to toggle between various time horizons - just change the column of outcomes used for y.\n",
    "- This helps us guard against inadvertent \"peeking\" at the future. We only ever use features columns in X.\n",
    "- This allows us to use the incredibly efficient pandas join, merge, and concat methods to quickly align data for purposes of training models.\n",
    "\n",
    "Trust me. This will save you many, many hours of debugging and brute force coding down the road."
   ]
  },
  {
   "cell_type": "markdown",
   "metadata": {},
   "source": [
    "# An example"
   ]
  },
  {
   "cell_type": "code",
   "execution_count": 6,
   "metadata": {},
   "outputs": [],
   "source": [
    "import pandas as pd, numpy as np"
   ]
  },
  {
   "cell_type": "code",
   "execution_count": 7,
   "metadata": {},
   "outputs": [],
   "source": [
    "location = \"C:/Users/workspace/brad_public_workspace_on_win/SH_tongliang/data/commodities_data/12_28_commodities_daily/\" \n",
    "j = \"j9000_d.csv\"\n",
    "jm = \"jm000_d.csv\"\n"
   ]
  },
  {
   "cell_type": "code",
   "execution_count": 8,
   "metadata": {},
   "outputs": [],
   "source": [
    "j_df = pd.read_csv(location+j, engine=\"python\", header=None)\n",
    "jm_df = pd.read_csv(location+jm, engine='python', header=None)\n",
    "j_df.columns = ['date', 'open', 'high', 'low', 'close', 'volume', 'holdings']\n",
    "jm_df.columns = ['date', 'open', 'high', 'low', 'close', 'volume', 'holdings']\n",
    "\n",
    "jm_df_cols = jm_df[['date', 'open', 'high', 'low', 'close', 'volume']]\n",
    "j_df_cols = j_df[['date', 'open', 'high', 'low', 'close', 'volume']]\n",
    "\n",
    "jm_df_cols['symbol'] = 'jm'\n",
    "j_df_cols['symbol'] = 'j'\n",
    "\n",
    "jm_df_cols['date'] = pd.to_datetime(jm_df_cols['date'])\n",
    "j_df_cols['date'] = pd.to_datetime(j_df_cols['date'])\n",
    "\n",
    "jm_df_cols = jm_df_cols.set_index(['date','symbol'])\n",
    "j_df_cols = j_df_cols.set_index(['date', 'symbol'])\n",
    "\n",
    "prices = pd.concat([jm_df_cols, j_df_cols]).sort_index()"
   ]
  },
  {
   "cell_type": "markdown",
   "metadata": {},
   "source": [
    "Now, we will create some toy features. If the syntax is unclear, I'll cover that in more depth in the next post. For now, just note that we've created five features for both symbols using only data that would be available as of the end of day T.\n",
    "\n",
    "Also note that I've dropped any rows which contain any nulls for simplicity, since scikit-learn can't handle those out of the box."
   ]
  },
  {
   "cell_type": "code",
   "execution_count": 9,
   "metadata": {},
   "outputs": [
    {
     "data": {
      "text/html": [
       "<div>\n",
       "<style scoped>\n",
       "    .dataframe tbody tr th:only-of-type {\n",
       "        vertical-align: middle;\n",
       "    }\n",
       "\n",
       "    .dataframe tbody tr th {\n",
       "        vertical-align: top;\n",
       "    }\n",
       "\n",
       "    .dataframe thead th {\n",
       "        text-align: right;\n",
       "    }\n",
       "</style>\n",
       "<table border=\"1\" class=\"dataframe\">\n",
       "  <thead>\n",
       "    <tr style=\"text-align: right;\">\n",
       "      <th></th>\n",
       "      <th></th>\n",
       "      <th>volume_change_ratio</th>\n",
       "      <th>momentum_5_day</th>\n",
       "      <th>intraday_chg</th>\n",
       "      <th>day_of_week</th>\n",
       "      <th>day_of_month</th>\n",
       "    </tr>\n",
       "    <tr>\n",
       "      <th>date</th>\n",
       "      <th>symbol</th>\n",
       "      <th></th>\n",
       "      <th></th>\n",
       "      <th></th>\n",
       "      <th></th>\n",
       "      <th></th>\n",
       "    </tr>\n",
       "  </thead>\n",
       "  <tbody>\n",
       "    <tr>\n",
       "      <th rowspan=\"2\" valign=\"top\">2018-12-24</th>\n",
       "      <th>j</th>\n",
       "      <td>-0.171161</td>\n",
       "      <td>0.619944</td>\n",
       "      <td>-0.009064</td>\n",
       "      <td>0</td>\n",
       "      <td>24</td>\n",
       "    </tr>\n",
       "    <tr>\n",
       "      <th>jm</th>\n",
       "      <td>-0.289314</td>\n",
       "      <td>-0.389818</td>\n",
       "      <td>-0.000805</td>\n",
       "      <td>0</td>\n",
       "      <td>24</td>\n",
       "    </tr>\n",
       "    <tr>\n",
       "      <th rowspan=\"2\" valign=\"top\">2018-12-25</th>\n",
       "      <th>j</th>\n",
       "      <td>0.504967</td>\n",
       "      <td>0.547101</td>\n",
       "      <td>-0.048527</td>\n",
       "      <td>1</td>\n",
       "      <td>25</td>\n",
       "    </tr>\n",
       "    <tr>\n",
       "      <th>jm</th>\n",
       "      <td>0.266255</td>\n",
       "      <td>-0.406480</td>\n",
       "      <td>-0.021845</td>\n",
       "      <td>1</td>\n",
       "      <td>25</td>\n",
       "    </tr>\n",
       "    <tr>\n",
       "      <th rowspan=\"2\" valign=\"top\">2018-12-26</th>\n",
       "      <th>j</th>\n",
       "      <td>-0.398052</td>\n",
       "      <td>0.545637</td>\n",
       "      <td>0.001824</td>\n",
       "      <td>2</td>\n",
       "      <td>26</td>\n",
       "    </tr>\n",
       "    <tr>\n",
       "      <th>jm</th>\n",
       "      <td>-0.396825</td>\n",
       "      <td>-0.400494</td>\n",
       "      <td>0.004141</td>\n",
       "      <td>2</td>\n",
       "      <td>26</td>\n",
       "    </tr>\n",
       "    <tr>\n",
       "      <th rowspan=\"2\" valign=\"top\">2018-12-27</th>\n",
       "      <th>j</th>\n",
       "      <td>0.413417</td>\n",
       "      <td>0.540911</td>\n",
       "      <td>-0.005204</td>\n",
       "      <td>3</td>\n",
       "      <td>27</td>\n",
       "    </tr>\n",
       "    <tr>\n",
       "      <th>jm</th>\n",
       "      <td>0.236256</td>\n",
       "      <td>-0.370544</td>\n",
       "      <td>-0.002885</td>\n",
       "      <td>3</td>\n",
       "      <td>27</td>\n",
       "    </tr>\n",
       "    <tr>\n",
       "      <th rowspan=\"2\" valign=\"top\">2018-12-28</th>\n",
       "      <th>j</th>\n",
       "      <td>-0.452933</td>\n",
       "      <td>0.571960</td>\n",
       "      <td>-0.009640</td>\n",
       "      <td>4</td>\n",
       "      <td>28</td>\n",
       "    </tr>\n",
       "    <tr>\n",
       "      <th>jm</th>\n",
       "      <td>-0.387674</td>\n",
       "      <td>-0.372529</td>\n",
       "      <td>-0.006999</td>\n",
       "      <td>4</td>\n",
       "      <td>28</td>\n",
       "    </tr>\n",
       "  </tbody>\n",
       "</table>\n",
       "</div>"
      ],
      "text/plain": [
       "                   volume_change_ratio  momentum_5_day  intraday_chg  \\\n",
       "date       symbol                                                      \n",
       "2018-12-24 j                 -0.171161        0.619944     -0.009064   \n",
       "           jm                -0.289314       -0.389818     -0.000805   \n",
       "2018-12-25 j                  0.504967        0.547101     -0.048527   \n",
       "           jm                 0.266255       -0.406480     -0.021845   \n",
       "2018-12-26 j                 -0.398052        0.545637      0.001824   \n",
       "           jm                -0.396825       -0.400494      0.004141   \n",
       "2018-12-27 j                  0.413417        0.540911     -0.005204   \n",
       "           jm                 0.236256       -0.370544     -0.002885   \n",
       "2018-12-28 j                 -0.452933        0.571960     -0.009640   \n",
       "           jm                -0.387674       -0.372529     -0.006999   \n",
       "\n",
       "                   day_of_week  day_of_month  \n",
       "date       symbol                             \n",
       "2018-12-24 j                 0            24  \n",
       "           jm                0            24  \n",
       "2018-12-25 j                 1            25  \n",
       "           jm                1            25  \n",
       "2018-12-26 j                 2            26  \n",
       "           jm                2            26  \n",
       "2018-12-27 j                 3            27  \n",
       "           jm                3            27  \n",
       "2018-12-28 j                 4            28  \n",
       "           jm                4            28  "
      ]
     },
     "execution_count": 9,
     "metadata": {},
     "output_type": "execute_result"
    }
   ],
   "source": [
    "features = pd.DataFrame(index=prices.index)\n",
    "features['volume_change_ratio'] = prices.groupby(level='symbol').volume\\\n",
    ".diff(1) / prices.groupby(level='symbol').shift(1).volume\n",
    "features['momentum_5_day'] = prices.groupby(level='symbol').close\\\n",
    ".pct_change(5) \n",
    "\n",
    "features['intraday_chg'] = (prices.groupby(level='symbol').close\\\n",
    "                            .shift(0) - prices.groupby(level='symbol').open\\\n",
    "                            .shift(0))/prices.groupby(level='symbol').open.shift(0)\n",
    "\n",
    "features['day_of_week'] = features.index.get_level_values('date').weekday\n",
    "\n",
    "features['day_of_month'] = features.index.get_level_values('date').day\n",
    "\n",
    "features.dropna(inplace=True)\n",
    "features.tail(10)"
   ]
  },
  {
   "cell_type": "markdown",
   "metadata": {},
   "source": [
    "Next, we'll create outcomes. Note that the seemingly unnecessary lambda function is needed because of this issue with pandas"
   ]
  },
  {
   "cell_type": "code",
   "execution_count": 10,
   "metadata": {},
   "outputs": [
    {
     "data": {
      "text/html": [
       "<div>\n",
       "<style scoped>\n",
       "    .dataframe tbody tr th:only-of-type {\n",
       "        vertical-align: middle;\n",
       "    }\n",
       "\n",
       "    .dataframe tbody tr th {\n",
       "        vertical-align: top;\n",
       "    }\n",
       "\n",
       "    .dataframe thead th {\n",
       "        text-align: right;\n",
       "    }\n",
       "</style>\n",
       "<table border=\"1\" class=\"dataframe\">\n",
       "  <thead>\n",
       "    <tr style=\"text-align: right;\">\n",
       "      <th></th>\n",
       "      <th></th>\n",
       "      <th>open_1</th>\n",
       "      <th>close_1</th>\n",
       "      <th>close_5</th>\n",
       "    </tr>\n",
       "    <tr>\n",
       "      <th>date</th>\n",
       "      <th>symbol</th>\n",
       "      <th></th>\n",
       "      <th></th>\n",
       "      <th></th>\n",
       "    </tr>\n",
       "  </thead>\n",
       "  <tbody>\n",
       "    <tr>\n",
       "      <th>2018-12-19</th>\n",
       "      <th>jm</th>\n",
       "      <td>-0.000801</td>\n",
       "      <td>0.005233</td>\n",
       "      <td>0.029691</td>\n",
       "    </tr>\n",
       "    <tr>\n",
       "      <th rowspan=\"2\" valign=\"top\">2018-12-20</th>\n",
       "      <th>j</th>\n",
       "      <td>0.002459</td>\n",
       "      <td>-0.001964</td>\n",
       "      <td>0.063563</td>\n",
       "    </tr>\n",
       "    <tr>\n",
       "      <th>jm</th>\n",
       "      <td>-0.000403</td>\n",
       "      <td>-0.001206</td>\n",
       "      <td>0.026871</td>\n",
       "    </tr>\n",
       "    <tr>\n",
       "      <th rowspan=\"2\" valign=\"top\">2018-12-21</th>\n",
       "      <th>j</th>\n",
       "      <td>0.001964</td>\n",
       "      <td>0.007169</td>\n",
       "      <td>0.071823</td>\n",
       "    </tr>\n",
       "    <tr>\n",
       "      <th>jm</th>\n",
       "      <td>-0.001608</td>\n",
       "      <td>0.002418</td>\n",
       "      <td>0.031095</td>\n",
       "    </tr>\n",
       "    <tr>\n",
       "      <th rowspan=\"2\" valign=\"top\">2018-12-24</th>\n",
       "      <th>j</th>\n",
       "      <td>-0.001483</td>\n",
       "      <td>0.052563</td>\n",
       "      <td>NaN</td>\n",
       "    </tr>\n",
       "    <tr>\n",
       "      <th>jm</th>\n",
       "      <td>-0.003628</td>\n",
       "      <td>0.026055</td>\n",
       "      <td>NaN</td>\n",
       "    </tr>\n",
       "    <tr>\n",
       "      <th rowspan=\"2\" valign=\"top\">2018-12-25</th>\n",
       "      <th>j</th>\n",
       "      <td>-0.001561</td>\n",
       "      <td>-0.000260</td>\n",
       "      <td>NaN</td>\n",
       "    </tr>\n",
       "    <tr>\n",
       "      <th>jm</th>\n",
       "      <td>-0.001241</td>\n",
       "      <td>-0.002887</td>\n",
       "      <td>NaN</td>\n",
       "    </tr>\n",
       "    <tr>\n",
       "      <th rowspan=\"2\" valign=\"top\">2018-12-26</th>\n",
       "      <th>j</th>\n",
       "      <td>-0.000260</td>\n",
       "      <td>0.005493</td>\n",
       "      <td>NaN</td>\n",
       "    </tr>\n",
       "    <tr>\n",
       "      <th>jm</th>\n",
       "      <td>0.000412</td>\n",
       "      <td>0.002480</td>\n",
       "      <td>NaN</td>\n",
       "    </tr>\n",
       "    <tr>\n",
       "      <th rowspan=\"2\" valign=\"top\">2018-12-27</th>\n",
       "      <th>j</th>\n",
       "      <td>0.003924</td>\n",
       "      <td>0.005788</td>\n",
       "      <td>NaN</td>\n",
       "    </tr>\n",
       "    <tr>\n",
       "      <th>jm</th>\n",
       "      <td>0.004134</td>\n",
       "      <td>0.002902</td>\n",
       "      <td>NaN</td>\n",
       "    </tr>\n",
       "    <tr>\n",
       "      <th rowspan=\"2\" valign=\"top\">2018-12-28</th>\n",
       "      <th>j</th>\n",
       "      <td>NaN</td>\n",
       "      <td>NaN</td>\n",
       "      <td>NaN</td>\n",
       "    </tr>\n",
       "    <tr>\n",
       "      <th>jm</th>\n",
       "      <td>NaN</td>\n",
       "      <td>NaN</td>\n",
       "      <td>NaN</td>\n",
       "    </tr>\n",
       "  </tbody>\n",
       "</table>\n",
       "</div>"
      ],
      "text/plain": [
       "                     open_1   close_1   close_5\n",
       "date       symbol                              \n",
       "2018-12-19 jm     -0.000801  0.005233  0.029691\n",
       "2018-12-20 j       0.002459 -0.001964  0.063563\n",
       "           jm     -0.000403 -0.001206  0.026871\n",
       "2018-12-21 j       0.001964  0.007169  0.071823\n",
       "           jm     -0.001608  0.002418  0.031095\n",
       "2018-12-24 j      -0.001483  0.052563       NaN\n",
       "           jm     -0.003628  0.026055       NaN\n",
       "2018-12-25 j      -0.001561 -0.000260       NaN\n",
       "           jm     -0.001241 -0.002887       NaN\n",
       "2018-12-26 j      -0.000260  0.005493       NaN\n",
       "           jm      0.000412  0.002480       NaN\n",
       "2018-12-27 j       0.003924  0.005788       NaN\n",
       "           jm      0.004134  0.002902       NaN\n",
       "2018-12-28 j            NaN       NaN       NaN\n",
       "           jm           NaN       NaN       NaN"
      ]
     },
     "execution_count": 10,
     "metadata": {},
     "output_type": "execute_result"
    }
   ],
   "source": [
    "outcomes = pd.DataFrame(index=prices.index)\n",
    "# next day's opening change\n",
    "outcomes['open_1'] = prices.groupby(level='symbol').open.shift(-1)\\\n",
    "/prices.groupby(level='symbol').close.shift(0)-1\n",
    "# next day's closing change\n",
    "func_one_day_ahead = lambda x: x.pct_change(-1)\n",
    "outcomes['close_1'] = prices.groupby(level='symbol').close\\\n",
    ".apply(func_one_day_ahead)\n",
    "func_five_day_ahead = lambda x: x.pct_change(-5)\n",
    "outcomes['close_5'] = prices.groupby(level='symbol').close\\\n",
    ".apply(func_five_day_ahead)\n",
    "\n",
    "(outcomes.tail(15))"
   ]
  },
  {
   "cell_type": "markdown",
   "metadata": {},
   "source": [
    "Note that the shifted periods are negative, which in pandas convention looks ahead in time. This means that at the ending of our time period we will have nulls - and more nulls in the outcome colums that need to look further into the future. We don't dropna() here since we may want to use open_1 and there's no reason to throw away data from that column just because a different outcome didn't have data. But I digress.\n",
    "\n",
    "Now, to put it together, we'll train a simple linear model in scikit-learn, using all features to predict close_1"
   ]
  },
  {
   "cell_type": "code",
   "execution_count": 11,
   "metadata": {},
   "outputs": [
    {
     "name": "stdout",
     "output_type": "stream",
     "text": [
      "(3279,)\n",
      "(3279, 5)\n"
     ]
    }
   ],
   "source": [
    "# first, create y (a series) and X (a dataframe), with only rows where \n",
    "# a valid value exists for both y and X\n",
    "y = outcomes.close_1\n",
    "X = features\n",
    "Xy = X.join(y).dropna()\n",
    "y = Xy[y.name]\n",
    "X = Xy[X.columns]\n",
    "print(y.shape)\n",
    "print(X.shape)"
   ]
  },
  {
   "cell_type": "markdown",
   "metadata": {},
   "source": [
    "Note that all of these slightly tedious steps have left us with properly sized, identically indexed data objects. At this point, the modeling is dead simple:"
   ]
  },
  {
   "cell_type": "code",
   "execution_count": 12,
   "metadata": {},
   "outputs": [
    {
     "name": "stdout",
     "output_type": "stream",
     "text": [
      "Model RSQ: 0.000630748930678493\n",
      "Coefficients: \n"
     ]
    },
    {
     "data": {
      "text/plain": [
       "intraday_chg           0.017348\n",
       "day_of_month           0.000025\n",
       "momentum_5_day        -0.000008\n",
       "day_of_week           -0.000151\n",
       "volume_change_ratio   -0.000348\n",
       "dtype: float64"
      ]
     },
     "execution_count": 12,
     "metadata": {},
     "output_type": "execute_result"
    }
   ],
   "source": [
    "from sklearn.linear_model import LinearRegression\n",
    "\n",
    "model = LinearRegression()\n",
    "model.fit(X,y)\n",
    "print(\"Model RSQ: \"+ str(model.score(X,y)))\n",
    "\n",
    "print(\"Coefficients: \")\n",
    "pd.Series(model.coef_,index=X.columns).sort_values(ascending=False)"
   ]
  },
  {
   "cell_type": "markdown",
   "metadata": {},
   "source": [
    "Clearly, this model isn't very useful but illustrates the workflow.\n",
    "\n",
    "If we wanted to instead try a random forest to predict tomorrow's open, it'd be mostly copy-paste:"
   ]
  },
  {
   "cell_type": "code",
   "execution_count": 13,
   "metadata": {},
   "outputs": [
    {
     "name": "stderr",
     "output_type": "stream",
     "text": [
      "C:\\Users\\Brad Sun\\Anaconda3\\lib\\site-packages\\sklearn\\ensemble\\weight_boosting.py:29: DeprecationWarning: numpy.core.umath_tests is an internal NumPy module and should not be imported. It will be removed in a future NumPy release.\n",
      "  from numpy.core.umath_tests import inner1d\n"
     ]
    },
    {
     "name": "stdout",
     "output_type": "stream",
     "text": [
      "(3279,)\n",
      "(3279, 5)\n",
      "Model Score: 0.7922056831375218\n",
      "Feature Importance: \n"
     ]
    },
    {
     "data": {
      "text/plain": [
       "intraday_chg           0.292827\n",
       "volume_change_ratio    0.268522\n",
       "momentum_5_day         0.211110\n",
       "day_of_month           0.163730\n",
       "day_of_week            0.063811\n",
       "dtype: float64"
      ]
     },
     "execution_count": 13,
     "metadata": {},
     "output_type": "execute_result"
    }
   ],
   "source": [
    "from sklearn.ensemble import RandomForestRegressor\n",
    "\n",
    "y = outcomes.open_1\n",
    "X = features\n",
    "Xy = X.join(y).dropna()\n",
    "y = Xy[y.name]\n",
    "X = Xy[X.columns]\n",
    "print(y.shape)\n",
    "print(X.shape)\n",
    "\n",
    "model = RandomForestRegressor(max_features=3)\n",
    "model.fit(X,y)\n",
    "print(\"Model Score: \"+ str(model.score(X,y)))\n",
    "\n",
    "print(\"Feature Importance: \")\n",
    "pd.Series(model.feature_importances_,index=X.columns)\\\n",
    ".sort_values(ascending=False)"
   ]
  },
  {
   "cell_type": "markdown",
   "metadata": {},
   "source": [
    "This yields a vastly improved RSQ but note that it is almost certainly ridiculously overfitted, as random forests are prone to do.\n",
    "\n",
    "We'll cover ways to systematically avoid allowing the model to overfit in future posts, but that requires going a bit further down the rabbit hole."
   ]
  },
  {
   "cell_type": "markdown",
   "metadata": {},
   "source": [
    "Side note: in this example (and often, in real life) we've mixed together all observations from AAPL and CSCO into one dataset. We could have alternatively trained two different models for the two symbols, which may have achieved better fit, but almost certainly at the cost of worse generalization out of sample. The bias-variance trade-off in action!"
   ]
  },
  {
   "cell_type": "markdown",
   "metadata": {},
   "source": [
    "# Prediction"
   ]
  },
  {
   "cell_type": "markdown",
   "metadata": {},
   "source": [
    "Once the model is trained, it becomes a one-liner to make predictions from a set of feature values. In this case, we'll simply feed the same X values used to train the model, but in live usage, of course, we'd want to apply the trained model to new X values."
   ]
  },
  {
   "cell_type": "code",
   "execution_count": 14,
   "metadata": {},
   "outputs": [
    {
     "data": {
      "text/plain": [
       "date        symbol\n",
       "2018-12-21  j         0.001884\n",
       "            jm       -0.000882\n",
       "2018-12-24  j        -0.001555\n",
       "            jm       -0.000842\n",
       "2018-12-25  j        -0.000797\n",
       "            jm       -0.000879\n",
       "2018-12-26  j         0.001398\n",
       "            jm        0.000418\n",
       "2018-12-27  j         0.002720\n",
       "            jm        0.002015\n",
       "dtype: float64"
      ]
     },
     "execution_count": 14,
     "metadata": {},
     "output_type": "execute_result"
    }
   ],
   "source": [
    "pd.Series(model.predict(X),index=X.index).tail(10)"
   ]
  },
  {
   "cell_type": "markdown",
   "metadata": {},
   "source": [
    "Let me pause here to emphasize the most critical point to understand about this framework. Read this twice!\n",
    "\n",
    "The date of a feature row represents the day when a value would be known after that day's trading, using the feature value date as T=0. The date of an outcome row represents what will happen in the n days following that date.\n",
    "\n",
    "- Predictions are indexed to the date of the evening when the model could have been run. \n",
    "\n",
    "In other words, the prediction indexed to 2016-12-23 represents what the model believes will happen in some time period after 12/23. In practical usage, we can't start using the trading signal until T+1 (since predictions are generated after markets are closed on T+0)."
   ]
  },
  {
   "cell_type": "markdown",
   "metadata": {},
   "source": [
    "# Summary"
   ]
  },
  {
   "cell_type": "markdown",
   "metadata": {},
   "source": [
    "This post presented the concept of organizing data into a features dataframe and outcome dataframe, and then showed how simple it is to join these two dataframes together to train a model.\n",
    "\n",
    "True, the convention may take a few examples to get used to. However, after trial and error, I've found this to be the most error-resistant, flexible, and high-performance way to go.\n",
    "\n",
    "In the next post, I will share some methods of feature engineering and feature selection."
   ]
  },
  {
   "cell_type": "markdown",
   "metadata": {},
   "source": [
    "# One last thing..."
   ]
  },
  {
   "cell_type": "markdown",
   "metadata": {},
   "source": [
    "If you've found this post useful, please follow @data2alpha on twitter and forward to a friend or colleague who may also find this topic interesting.\n",
    "\n",
    "Finally, take a minute to leave a comment below - either to discuss this post or to offer an idea for future posts. Thanks for reading!"
   ]
  }
 ],
 "metadata": {
  "hide_input": false,
  "kernelspec": {
   "display_name": "Python 3",
   "language": "python",
   "name": "python3"
  },
  "language_info": {
   "codemirror_mode": {
    "name": "ipython",
    "version": 3
   },
   "file_extension": ".py",
   "mimetype": "text/x-python",
   "name": "python",
   "nbconvert_exporter": "python",
   "pygments_lexer": "ipython3",
   "version": "3.8.5"
  },
  "nav_menu": {},
  "toc": {
   "navigate_menu": true,
   "number_sections": true,
   "sideBar": true,
   "threshold": 6,
   "toc_cell": false,
   "toc_section_display": "block",
   "toc_window_display": false
  }
 },
 "nbformat": 4,
 "nbformat_minor": 2
}
