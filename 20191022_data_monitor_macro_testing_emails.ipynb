{
 "cells": [
  {
   "cell_type": "code",
   "execution_count": 1,
   "metadata": {},
   "outputs": [],
   "source": [
    "import tushare as ts\n",
    "import pandas as pd, numpy as np\n",
    "import matplotlib.pyplot as plt\n",
    "import seaborn as sns\n",
    "sns.set_style(\"darkgrid\") \n",
    "%matplotlib inline"
   ]
  },
  {
   "cell_type": "markdown",
   "metadata": {},
   "source": [
    "1. Oil Index (collected: https://fred.stlouisfed.org/series/DCOILWTICO) (important since also mentioned in Ernest's book),\n",
    "2. Dollar Index (collected: https://fred.stlouisfed.org/series/DTWEXB),\n",
    "3. Gold Vol Index (collected: https://fred.stlouisfed.org/series/GVZCLS),\n",
    "4. Moody's Aaa Corporate Bond Index (collected: https://fred.stlouisfed.org/series/DAAA),\n",
    "5. VIX Index (collected: https://fred.stlouisfed.org/series/VIXCLS),\n",
    "6. Consumer Confidence Measure (such as the Conference Board’s February survey) with other macro indexes (important, since mentioned also in the Ernest's book),\n",
    "7. Times of hitting record high by several major stock market indexes,\n",
    "8. Times of market trading price compare with its historical average earnings,\n",
    "9. Years of lasting for the bull market compared with the historical average years of bull market right before each bear market,\n",
    "10. Spread between short and long term T-bill (3-month and 10-year) compared with pre-2008 (collected: https://fred.stlouisfed.org/series/T10Y3M),\n",
    "11. Job losses index and data: \\\"Unemployment Rate: Job Losers\\\": (collected: https://fred.stlouisfed.org/series/U2RATE),\n",
    "12. Real Personal Consuming Expenditures including food and energy: (collected: https://fred.stlouisfed.org/series/PCEC96),\n",
    "13. Real Personal Consuming Expenditures excluding food and energy: (collected: https://fred.stlouisfed.org/series/DPCCRX1M020SBEA),\n",
    "14. Squeezing corporate profits *very useful in predicting big market drawdown: (collected: https://fred.stlouisfed.org/series/CP),\n",
    "15. Conference Board’s Leading Economic Index,  which consists of 10 data points that predict future economic performance.\n",
    "16. Quarterly GDP slowing down (collected: https://fred.stlouisfed.org/series/GDPC1),\n",
    "17. Real Manufacturing Output: (Collected: https://fred.stlouisfed.org/series/OUTMS),\n",
    "18. Servicing segments of the economy: (Collected: https://fred.stlouisfed.org/series/SRVPRD),\n",
    "19. Major industry leaders' profits turning down for consecutive quarters\n",
    "20. Wilshire 5000 Total Market Cap Price Index & market valuation: (Collected: https://fred.stlouisfed.org/series/WILL5000PRFC),\n",
    "    (Collected: https://www.gurufocus.com/stock-market-valuations.php),\n",
    "21. Financial distress condition index: (collected: https://fred.stlouisfed.org/series/NFCI),\n",
    "21. Ones that do best when times are good, such as banks, transportation companies and businesses that sell stuff to consumers that isn’t needed for daily survival.\n",
    "22. New housing starts: (Collected: https://fred.stlouisfed.org/series/NFCI)\n",
    "23. A rising market driven by fewer and fewer stocks is a bearish sign. Clues  include more stocks going down than up on a daily basis and more stocks hitting 52-week lows than highs. “It is one of the most reliable bear market warning flags,” says Stack.\n",
    "24. When the number of stocks hitting their lowest price levels in a year starts to swell, and if the new low list grows day after day, it’s a sign that the \\\"smart money,\\\" or professional investors, are bailing out of the market. “It means investors are becoming desperate to sell, even ... at a loss,” Stack says.\n",
    "25. U.S. Retirement fund\n",
    "26. Balance Sheet\n",
    "27. U.S. Weekly Leading Index: (Collected: https://www.quandl.com/data/ECRI/USLEADING-U-S-Weekly-Leading-Index)\n",
    "28. Household Debt to GDP: (Collected: https://fred.stlouisfed.org/series/HDTGPDUSQ163N?utm_source=series_page&utm_medium=related_content&utm_term=related_resources&utm_campaign=categories)\n",
    "29. US Econ Coincident Index: (Collected: https://www.quandl.com/data/ECRI/USCOIN-U-S-Coincident-Index)\n",
    "30. Put-call ratio on SPY\\n\",\n",
    "31. Fed Reserve sentiment signals: https://www.quantopian.com/posts/does-federal-reserve-sentiment-predict-prices-of-macro-tracking-etfs\n",
    "32. Inflation level: Trigger of the Feb 3, 2018 market crash\n",
    "33. Cyclically adjusted price to earnings, https://www.rt.com/op-ed/418057-us-stock-crash-banks/\n",
    "34. Increasing chatter about impending boom or bust may actually be a good predictor of a coming turning point. (suggested by Robert Schiller (2007), in Ernest's book Quant Trading)\n",
    "35. Predict volatility regime change (to enter high/low regime) using GARCH model"
   ]
  },
  {
   "cell_type": "code",
   "execution_count": 2,
   "metadata": {},
   "outputs": [],
   "source": [
    "from fredapi import Fred     \n",
    "from datetime import datetime\n",
    "\n",
    "# generate a series of interest rate\n",
    "def fred_3mon_ir(start, end):\n",
    "    fred = Fred(api_key='3de60b3b483033f57252b59f497000cf')\n",
    "    s = fred.get_series('DTB3', observation_start=start, observation_end=end)\n",
    "    return s\n",
    "\n",
    "# generate the most updated interest rate\n",
    "def fred_3mon_ir_today(end = datetime.now()):\n",
    "    fred = Fred(api_key='3de60b3b483033f57252b59f497000cf')\n",
    "    s = fred.get_series('DTB3', observation_end=end)\n",
    "    return s[-1]/100\n",
    "\n",
    "def fred_1r_ir_today(end = datetime.now()):\n",
    "    if USE_API:\n",
    "        fred = Fred(api_key='3de60b3b483033f57252b59f497000cf')\n",
    "        s = fred.get_series('DGS1', observation_end=end)\n",
    "        return s[-1]/100\n",
    "    else:\n",
    "        return 1.2/100\n",
    "\n",
    "# fred_data('DTB3', '2012-09-02', '2014-09-05')\n",
    "\n",
    "def ten_yr_rate(start, end):\n",
    "    fred = Fred(api_key='3de60b3b483033f57252b59f497000cf')\n",
    "    s = fred.get_series('DGS10', observation_start=start, observation_end=end)\n",
    "    return s\n",
    "\n",
    "def three_fin_rate(start, end):\n",
    "    fred = Fred(api_key='3de60b3b483033f57252b59f497000cf')\n",
    "    s = fred.get_series('DCPF3M', observation_start=start, observation_end=end)\n",
    "    return s\n",
    "\n",
    "def three_nonfin_rate(start, end):\n",
    "    fred = Fred(api_key='3de60b3b483033f57252b59f497000cf')\n",
    "    s = fred.get_series('CPN3M', observation_start=start, observation_end=end)\n",
    "    return s\n",
    "\n",
    "def three_rate(start, end):\n",
    "    fred = Fred(api_key='3de60b3b483033f57252b59f497000cf')\n",
    "    s = fred.get_series('TB3MS', observation_start=start, observation_end=end)\n",
    "    return s\n",
    "\n",
    "def fed_total_asset(start, end):\n",
    "    fred = Fred(api_key='3de60b3b483033f57252b59f497000cf')\n",
    "    s = fred.get_series('WALCL', observation_start=start, observation_end=end)\n",
    "    return s\n",
    "\n",
    "def high_yield_rate(start, end):\n",
    "    fred = Fred(api_key='3de60b3b483033f57252b59f497000cf')\n",
    "    s = fred.get_series('BAMLH0A0HYM2EY', observation_start=start, observation_end=end)\n",
    "    return s\n",
    "\n",
    "def spx(start, end):\n",
    "    fred = Fred(api_key='3de60b3b483033f57252b59f497000cf')\n",
    "    s = fred.get_series('SP500', observation_start=start, observation_end=end)\n",
    "    return s\n",
    "\n",
    "def unemployment(start, end):\n",
    "    fred = Fred(api_key='3de60b3b483033f57252b59f497000cf')\n",
    "    s = fred.get_series('UNRATE', observation_start=start, observation_end=end)\n",
    "    return s\n",
    "\n",
    "def cpi(start, end):\n",
    "    fred = Fred(api_key='3de60b3b483033f57252b59f497000cf')\n",
    "    s = fred.get_series('CPIAUCSL', observation_start=start, observation_end=end)\n",
    "    return s\n",
    "\n",
    "def effective_fed_rate(start, end):\n",
    "    fred = Fred(api_key='3de60b3b483033f57252b59f497000cf')\n",
    "    s = fred.get_series('FEDFUNDS', observation_start=start, observation_end=end)\n",
    "    return s\n",
    "\n",
    "# industrial production index\n",
    "def ipi(start, end):\n",
    "    fred = Fred(api_key='3de60b3b483033f57252b59f497000cf')\n",
    "    s = fred.get_series('INDPRO', observation_start=start, observation_end=end)\n",
    "    return s\n",
    "\n",
    "def m2(start, end):\n",
    "    fred = Fred(api_key='3de60b3b483033f57252b59f497000cf')\n",
    "    s = fred.get_series('M2', observation_start=start, observation_end=end)\n",
    "    return s\n",
    "\n",
    "def ppi(start, end):\n",
    "    fred = Fred(api_key='3de60b3b483033f57252b59f497000cf')\n",
    "    s = fred.get_series('PCUOMFGOMFG', observation_start=start, observation_end=end)\n",
    "    return s\n",
    "\n",
    "def gdp(start, end):\n",
    "    fred = Fred(api_key='3de60b3b483033f57252b59f497000cf')\n",
    "    s = fred.get_series('A191RL1Q225SBEA', observation_start=start, observation_end=end)\n",
    "    return s\n",
    "\n",
    "def debt_to_equity(start, end):\n",
    "    fred = Fred(api_key='3de60b3b483033f57252b59f497000cf')\n",
    "    s = fred.get_series('TOTDTEUSQ163N', observation_start=start, observation_end=end)\n",
    "    return s\n",
    "\n",
    "# import urllib.request, urllib.error, urllib.parse\n",
    "\n",
    "def put_call(start, end):\n",
    "    urlStr = 'http://www.cboe.com/publish/ScheduledTask/MktData/datahouse/totalpc.csv'\n",
    "    df_ = pd.read_csv(urllib.request.urlopen(urlStr), header = 2, index_col=0,parse_dates=True)\n",
    "    df = df_['P/C Ratio']\n",
    "    return df[start:end]\n",
    "\n",
    "def ten_yr_3_month_rate_sprd(start, end):\n",
    "    fred = Fred(api_key='3de60b3b483033f57252b59f497000cf')\n",
    "    s = fred.get_series('T10Y3M', observation_start=start, observation_end=end)\n",
    "    return s"
   ]
  },
  {
   "cell_type": "code",
   "execution_count": 4,
   "metadata": {},
   "outputs": [],
   "source": [
    "start = \"2018-01-01\"\n",
    "end = \"2019-10-22\""
   ]
  },
  {
   "cell_type": "code",
   "execution_count": 5,
   "metadata": {},
   "outputs": [],
   "source": [
    "une_ = unemployment(start, end)"
   ]
  },
  {
   "cell_type": "code",
   "execution_count": 6,
   "metadata": {},
   "outputs": [],
   "source": [
    "gdp_ = gdp(start, end)"
   ]
  },
  {
   "cell_type": "code",
   "execution_count": 7,
   "metadata": {},
   "outputs": [],
   "source": [
    "cpi_ = cpi(start, end)"
   ]
  },
  {
   "cell_type": "code",
   "execution_count": 8,
   "metadata": {},
   "outputs": [],
   "source": [
    "spx_ = spx(start, end)"
   ]
  },
  {
   "cell_type": "code",
   "execution_count": 22,
   "metadata": {},
   "outputs": [],
   "source": [
    "# Unemployment：\n",
    "une_df = pd.DataFrame(une_)\n",
    "une_df.columns = ['us_unemployment_rate(%)']\n",
    "une_df.reset_index(inplace = True)\n",
    "une_df['une_chg'] = une_df['us_unemployment_rate(%)'].pct_change()\n",
    "une_df.columns = [\"ts\",\"us_unemployment_rate(%)\",\"une_chg\"]\n",
    "last_une = une_df['us_unemployment_rate(%)'].iloc[-1]\n",
    "last_une_ts = str(pd.to_datetime(une_df['ts'].iloc[-1]))[:10]\n",
    "last_une_chg = une_df['une_chg'].iloc[-1]"
   ]
  },
  {
   "cell_type": "code",
   "execution_count": 24,
   "metadata": {},
   "outputs": [],
   "source": [
    "# GDP：\n",
    "gdp_df = pd.DataFrame(gdp_)\n",
    "gdp_df.columns = ['us_gdp(%)']\n",
    "gdp_df.reset_index(inplace = True)\n",
    "gdp_df['gdp_chg'] = gdp_df['us_gdp(%)'].pct_change()\n",
    "gdp_df.columns = [\"ts\",\"us_gdp(%)\",\"gdp_chg\"]\n",
    "last_gdp = gdp_df['us_gdp(%)'].iloc[-1]\n",
    "last_gdp_ts = str(pd.to_datetime(gdp_df['ts'].iloc[-1]))[:10]\n",
    "last_gdp_chg = gdp_df['gdp_chg'].iloc[-1]"
   ]
  },
  {
   "cell_type": "code",
   "execution_count": 25,
   "metadata": {},
   "outputs": [],
   "source": [
    "# CPI：\n",
    "cpi_df = pd.DataFrame(cpi_)\n",
    "cpi_df.columns = ['us_cpi(%)']\n",
    "cpi_df.reset_index(inplace = True)\n",
    "cpi_df['cpi_chg'] = cpi_df['us_cpi(%)'].pct_change()\n",
    "cpi_df.columns = [\"ts\",\"us_cpi(%)\",\"cpi_chg\"]\n",
    "last_cpi = cpi_df['us_cpi(%)'].iloc[-1]\n",
    "last_cpi_ts = str(pd.to_datetime(cpi_df['ts'].iloc[-1]))[:10]\n",
    "last_cpi_chg = cpi_df['cpi_chg'].iloc[-1]"
   ]
  },
  {
   "cell_type": "code",
   "execution_count": 26,
   "metadata": {},
   "outputs": [],
   "source": [
    "# SPX\n",
    "spx_df = pd.DataFrame(spx_)\n",
    "spx_df.columns = ['标普500指数']\n",
    "spx_df.reset_index(inplace = True)\n",
    "spx_df['spx_chg'] = spx_df['标普500指数'].pct_change()\n",
    "spx_df.columns = [\"ts\",\"标普500指数\",\"spx_chg\"]\n",
    "last_spx = spx_df['标普500指数'].iloc[-1]\n",
    "last_spx_ts = str(pd.to_datetime(spx_df['ts'].iloc[-1]))[:10]\n",
    "last_spx_chg = spx_df['spx_chg'].iloc[-1]"
   ]
  },
  {
   "cell_type": "code",
   "execution_count": 28,
   "metadata": {},
   "outputs": [
    {
     "data": {
      "text/plain": [
       "0.006871609403255041"
      ]
     },
     "execution_count": 28,
     "metadata": {},
     "output_type": "execute_result"
    }
   ],
   "source": [
    "last_spx_chg"
   ]
  },
  {
   "cell_type": "code",
   "execution_count": 47,
   "metadata": {},
   "outputs": [],
   "source": [
    "current_dt = str(dt.datetime.now().date())"
   ]
  },
  {
   "cell_type": "code",
   "execution_count": 53,
   "metadata": {},
   "outputs": [],
   "source": [
    "subject_ = \"{}-API数据调用测试\".format(current_dt)"
   ]
  },
  {
   "cell_type": "code",
   "execution_count": 50,
   "metadata": {},
   "outputs": [],
   "source": [
    "latest_data = \"\"\"{}-API数据调用测试：\n",
    "\n",
    "截至{}, US失业率:{}, 较上期变化{}%; \n",
    "\n",
    "截至{}, US GDP:{}, 较上期变化{}%;\n",
    "\n",
    "截至{}, US CPI:{}, 较上期变化{}%;\n",
    "\n",
    "截至{}, 标普500指数:{}, 较上一交易日变化{}%;\n",
    "\n",
    "\"\"\".format(current_dt, last_une_ts, last_une, 100*last_une_chg, \\\n",
    "          last_gdp_ts, last_gdp, 100*last_gdp_chg, \\\n",
    "          last_cpi_ts, last_cpi, 100*last_cpi_chg, \\\n",
    "          last_spx_ts, last_spx, 100*last_spx_chg\n",
    "          )"
   ]
  },
  {
   "cell_type": "code",
   "execution_count": 51,
   "metadata": {},
   "outputs": [
    {
     "name": "stdout",
     "output_type": "stream",
     "text": [
      "2019-10-22-API数据调用测试：\n",
      "\n",
      "截至2019-09-01, US失业率:3.5, 较上期变化-5.405405405405405%; \n",
      "\n",
      "截至2019-04-01, US GDP:2.0, 较上期变化-35.483870967741936%;\n",
      "\n",
      "截至2019-09-01, US CPI:256.358, 较上期变化0.022629730784240465%;\n",
      "\n",
      "截至2019-10-21, 标普500指数:3006.72, 较上一交易日变化0.6871609403255041%;\n",
      "\n",
      "\n"
     ]
    }
   ],
   "source": [
    "print(latest_data)"
   ]
  },
  {
   "cell_type": "code",
   "execution_count": 55,
   "metadata": {},
   "outputs": [],
   "source": [
    "# coding: utf-8\n",
    "import smtplib\n",
    "from email.mime.multipart import MIMEMultipart\n",
    "from email.mime.text import MIMEText\n",
    "from email.mime.base import MIMEBase\n",
    "from email import encoders\n",
    "import datetime as dt"
   ]
  },
  {
   "cell_type": "code",
   "execution_count": 57,
   "metadata": {},
   "outputs": [
    {
     "data": {
      "text/plain": [
       "(221, b'Bye')"
      ]
     },
     "execution_count": 57,
     "metadata": {},
     "output_type": "execute_result"
    }
   ],
   "source": [
    "sender = 'bradsun9108@163.com'\n",
    "receiver = list(['bradsun91@163.com','sunmy1991811@qq.com'])#接收者列表\n",
    "copyReceive = list()#抄送者列表\n",
    "copyReceive.append(sender)#将发件人添加到抄送列表\n",
    "username = 'bradsun9108@163.com'#发件人邮箱账号\n",
    "password = '1q2w3e4rasdf'#授权密码\n",
    "mailall=MIMEMultipart()\n",
    "mailall['Subject'] = subject_ #记住一定要设置，并且要稍微正式点\n",
    "mailall['From'] = sender #发件人邮箱\n",
    "mailall['To'] = ';'.join(receiver) #收件人邮箱,不同收件人邮箱之间用;分割\n",
    "mailall['CC'] = ';'.join(copyReceive)  #抄送邮箱\n",
    "mailcontent = latest_data\n",
    "mailall.attach(MIMEText(mailcontent, 'plain', 'utf-8'))\n",
    "mailAttach = '测试邮件附件内容'\n",
    "contype = 'application/octet-stream'\n",
    "maintype, subtype = contype.split('/', 1)\n",
    "# filename = '附加文件.txt'#附件文件所在路径\n",
    "# attfile = MIMEBase(maintype, subtype)\n",
    "# attfile.set_payload(open(filename, 'rb').read())\n",
    "# attfile.add_header('Content-Disposition', 'attachment',filename=('utf-8', '', filename))#必须加上第三个参数，用于格式化输出\n",
    "# mailall.attach(attfile)\n",
    "fullmailtext = mailall.as_string()\n",
    "smtp = smtplib.SMTP()\n",
    "smtp.connect('smtp.163.com')\n",
    "smtp.login(username, password)\n",
    "smtp.sendmail(sender, receiver+copyReceive, fullmailtext)#发送的时候需要将收件人和抄送者全部添加到函数第二个参数里\n",
    "smtp.quit()\n",
    "# ————————————————\n",
    "# 版权声明：本文为CSDN博主「jxhaha」的原创文章，遵循 CC 4.0 BY-SA 版权协议，转载请附上原文出处链接及本声明。\n",
    "# 原文链接：https://blog.csdn.net/jxhaha/article/details/78590621"
   ]
  }
 ],
 "metadata": {
  "kernelspec": {
   "display_name": "Python 3",
   "language": "python",
   "name": "python3"
  },
  "language_info": {
   "codemirror_mode": {
    "name": "ipython",
    "version": 3
   },
   "file_extension": ".py",
   "mimetype": "text/x-python",
   "name": "python",
   "nbconvert_exporter": "python",
   "pygments_lexer": "ipython3",
   "version": "3.5.6"
  }
 },
 "nbformat": 4,
 "nbformat_minor": 2
}
