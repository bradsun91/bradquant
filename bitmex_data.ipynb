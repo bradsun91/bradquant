{
 "cells": [
  {
   "cell_type": "code",
   "execution_count": 6,
   "metadata": {},
   "outputs": [],
   "source": [
    "# made by Ajay_Luo\n",
    "import pandas as pd\n",
    "import requests\n",
    "import json\n",
    "import time"
   ]
  },
  {
   "cell_type": "markdown",
   "metadata": {},
   "source": [
    "# Bitmex"
   ]
  },
  {
   "cell_type": "code",
   "execution_count": 7,
   "metadata": {},
   "outputs": [
    {
     "name": "stdout",
     "output_type": "stream",
     "text": [
      "输入格式为y-m-d\n",
      "请输入起始时间：2019-08-01\n",
      "请输入结束时间：2019-08-11\n",
      "时间间隔的格式为: 1m, 5m, 1h, 或者1d\n",
      "请输入需要爬取的时间间隔: 1m\n",
      "https://www.bitmex.com/api/v1/trade/bucketed?binSize=1m&count=720&partial=false&symbol=.BADAXBT&reverse=false&startTime=2019-08-01 00:00:00失败\n",
      "https://www.bitmex.com/api/v1/trade/bucketed?binSize=1m&count=720&partial=false&symbol=.BADAXBT&reverse=false&startTime=2019-08-01 12:00:00失败\n"
     ]
    },
    {
     "ename": "TypeError",
     "evalue": "the JSON object must be str, bytes or bytearray, not NoneType",
     "output_type": "error",
     "traceback": [
      "\u001b[1;31m---------------------------------------------------------------------------\u001b[0m",
      "\u001b[1;31mTypeError\u001b[0m                                 Traceback (most recent call last)",
      "\u001b[1;32m<ipython-input-7-d110f70f31d1>\u001b[0m in \u001b[0;36m<module>\u001b[1;34m\u001b[0m\n\u001b[0;32m     76\u001b[0m \u001b[0mtimeperiod\u001b[0m \u001b[1;33m=\u001b[0m \u001b[0mget_time_period\u001b[0m\u001b[1;33m(\u001b[0m\u001b[1;33m)\u001b[0m\u001b[1;33m\u001b[0m\u001b[1;33m\u001b[0m\u001b[0m\n\u001b[0;32m     77\u001b[0m \u001b[1;32mfor\u001b[0m \u001b[0mname\u001b[0m \u001b[1;32min\u001b[0m \u001b[0mname_list\u001b[0m\u001b[1;33m:\u001b[0m\u001b[1;33m\u001b[0m\u001b[1;33m\u001b[0m\u001b[0m\n\u001b[1;32m---> 78\u001b[1;33m     \u001b[0mget_info\u001b[0m\u001b[1;33m(\u001b[0m\u001b[0mtime_list\u001b[0m\u001b[1;33m,\u001b[0m \u001b[0mname\u001b[0m\u001b[1;33m,\u001b[0m \u001b[0mtimeperiod\u001b[0m\u001b[1;33m)\u001b[0m\u001b[1;33m\u001b[0m\u001b[1;33m\u001b[0m\u001b[0m\n\u001b[0m\u001b[0;32m     79\u001b[0m \u001b[1;31m# get_info(time_list, 'XBTU19')\u001b[0m\u001b[1;33m\u001b[0m\u001b[1;33m\u001b[0m\u001b[1;33m\u001b[0m\u001b[0m\n\u001b[0;32m     80\u001b[0m \u001b[1;31m# 1 m, 5 m, 1 h, 1 d\u001b[0m\u001b[1;33m\u001b[0m\u001b[1;33m\u001b[0m\u001b[1;33m\u001b[0m\u001b[0m\n",
      "\u001b[1;32m<ipython-input-7-d110f70f31d1>\u001b[0m in \u001b[0;36mget_info\u001b[1;34m(time_list, name, time_period)\u001b[0m\n\u001b[0;32m     54\u001b[0m             \u001b[0mj01\u001b[0m \u001b[1;33m=\u001b[0m \u001b[0mget_json\u001b[0m\u001b[1;33m(\u001b[0m\u001b[0murl01\u001b[0m\u001b[1;33m)\u001b[0m\u001b[1;33m\u001b[0m\u001b[1;33m\u001b[0m\u001b[0m\n\u001b[0;32m     55\u001b[0m             \u001b[0mj02\u001b[0m \u001b[1;33m=\u001b[0m \u001b[0mget_json\u001b[0m\u001b[1;33m(\u001b[0m\u001b[0murl02\u001b[0m\u001b[1;33m)\u001b[0m\u001b[1;33m\u001b[0m\u001b[1;33m\u001b[0m\u001b[0m\n\u001b[1;32m---> 56\u001b[1;33m             \u001b[0mdata_list01\u001b[0m \u001b[1;33m=\u001b[0m \u001b[0mjson\u001b[0m\u001b[1;33m.\u001b[0m\u001b[0mloads\u001b[0m\u001b[1;33m(\u001b[0m\u001b[0mj01\u001b[0m\u001b[1;33m)\u001b[0m\u001b[1;33m\u001b[0m\u001b[1;33m\u001b[0m\u001b[0m\n\u001b[0m\u001b[0;32m     57\u001b[0m             \u001b[0mdata_list02\u001b[0m \u001b[1;33m=\u001b[0m \u001b[0mjson\u001b[0m\u001b[1;33m.\u001b[0m\u001b[0mloads\u001b[0m\u001b[1;33m(\u001b[0m\u001b[0mj02\u001b[0m\u001b[1;33m)\u001b[0m\u001b[1;33m\u001b[0m\u001b[1;33m\u001b[0m\u001b[0m\n\u001b[0;32m     58\u001b[0m \u001b[1;33m\u001b[0m\u001b[0m\n",
      "\u001b[1;32m~\\Anaconda3\\lib\\json\\__init__.py\u001b[0m in \u001b[0;36mloads\u001b[1;34m(s, encoding, cls, object_hook, parse_float, parse_int, parse_constant, object_pairs_hook, **kw)\u001b[0m\n\u001b[0;32m    339\u001b[0m     \u001b[1;32melse\u001b[0m\u001b[1;33m:\u001b[0m\u001b[1;33m\u001b[0m\u001b[1;33m\u001b[0m\u001b[0m\n\u001b[0;32m    340\u001b[0m         \u001b[1;32mif\u001b[0m \u001b[1;32mnot\u001b[0m \u001b[0misinstance\u001b[0m\u001b[1;33m(\u001b[0m\u001b[0ms\u001b[0m\u001b[1;33m,\u001b[0m \u001b[1;33m(\u001b[0m\u001b[0mbytes\u001b[0m\u001b[1;33m,\u001b[0m \u001b[0mbytearray\u001b[0m\u001b[1;33m)\u001b[0m\u001b[1;33m)\u001b[0m\u001b[1;33m:\u001b[0m\u001b[1;33m\u001b[0m\u001b[1;33m\u001b[0m\u001b[0m\n\u001b[1;32m--> 341\u001b[1;33m             raise TypeError(f'the JSON object must be str, bytes or bytearray, '\n\u001b[0m\u001b[0;32m    342\u001b[0m                             f'not {s.__class__.__name__}')\n\u001b[0;32m    343\u001b[0m         \u001b[0ms\u001b[0m \u001b[1;33m=\u001b[0m \u001b[0ms\u001b[0m\u001b[1;33m.\u001b[0m\u001b[0mdecode\u001b[0m\u001b[1;33m(\u001b[0m\u001b[0mdetect_encoding\u001b[0m\u001b[1;33m(\u001b[0m\u001b[0ms\u001b[0m\u001b[1;33m)\u001b[0m\u001b[1;33m,\u001b[0m \u001b[1;34m'surrogatepass'\u001b[0m\u001b[1;33m)\u001b[0m\u001b[1;33m\u001b[0m\u001b[1;33m\u001b[0m\u001b[0m\n",
      "\u001b[1;31mTypeError\u001b[0m: the JSON object must be str, bytes or bytearray, not NoneType"
     ]
    }
   ],
   "source": [
    "def get_list():\n",
    "    print('输入格式为y-m-d')\n",
    "    start = str(input('请输入起始时间：'))\n",
    "    end = str(input('请输入结束时间：'))\n",
    "    #name = str(input('请输入名字：'))\n",
    "    T = pd.date_range(start=start, end=end)\n",
    "    time_list = [str(list(T)[i]) for i in range(len(T))]\n",
    "    return time_list  # ,  name\n",
    "\n",
    "def get_time_period():\n",
    "    print('时间间隔的格式为: 1m, 5m, 1h, 或者1d')\n",
    "    timeperiod = str(input('请输入需要爬取的时间间隔: '))\n",
    "    return timeperiod\n",
    "\n",
    "def get_json(url):\n",
    "    try:\n",
    "        time.sleep(2)\n",
    "        r = requests.get(url, headers={'user_agent' : 'IE=edge'})\n",
    "        r.raise_for_status()\n",
    "        r.encoding='utf-8'\n",
    "        return r.text\n",
    "    except:\n",
    "        print(\"{}失败\".format(url))\n",
    "        exit()\n",
    "\n",
    "\n",
    "\n",
    "def get_info(time_list, name, time_period):\n",
    "    time_period = timeperiod\n",
    "    for i in range(len(time_list)):\n",
    "        if time_period == '1h':\n",
    "            url = 'https://www.bitmex.com/api/v1/trade/bucketed?binSize=1h&count=24&partial=false&symbol' \\\n",
    "            '=.'+str(name)+'&reverse=false&startTime='+time_list[i]\n",
    "        elif time_period == '5m':\n",
    "            url = 'https://www.bitmex.com/api/v1/trade/bucketed?binSize=5m&count=288&partial=false&symbol' \\\n",
    "            '=.'+str(name)+'&reverse=false&startTime='+time_list[i]\n",
    "        elif time_period == '1d':\n",
    "            url = 'https://www.bitmex.com/api/v1/trade/bucketed?binSize=1d&count=1&partial=false&symbol' \\\n",
    "            '=.'+str(name)+'&reverse=false&startTime='+time_list[i]\n",
    "          \n",
    "            \n",
    "        if time_period != '1m':\n",
    "            j = get_json(url)\n",
    "            data_list = json.loads(j)\n",
    "            data = pd.DataFrame(data_list)\n",
    "            \n",
    "        elif time_period == '1m':\n",
    "            url01 = 'https://www.bitmex.com/api/v1/trade/bucketed?binSize=1m&count=720&partial=false&symbol' \\\n",
    "            '=.'+str(name)+'&reverse=false&startTime='+time_list[i]\n",
    "            \n",
    "            url02 = 'https://www.bitmex.com/api/v1/trade/bucketed?binSize=1m&count=720&partial=false&symbol' \\\n",
    "            '=.'+str(name)+'&reverse=false&startTime='+time_list[i].split(' ')[0] + ' 12:00:00'\n",
    "            \n",
    "            j01 = get_json(url01)\n",
    "            j02 = get_json(url02)\n",
    "            data_list01 = json.loads(j01)\n",
    "            data_list02 = json.loads(j02)\n",
    "            \n",
    "            data01 = pd.DataFrame(data_list01)\n",
    "            data02 = pd.DataFrame(data_list02)\n",
    "            \n",
    "            data = pd.concat([data01, data02], axis = 0)\n",
    "        \n",
    "        if i == 0:\n",
    "            data.to_csv('./'+str(name)+' D.csv', header=True)\n",
    "            print(time_list[i])\n",
    "        else:\n",
    "            data.to_csv('./'+str(name)+' D.csv', mode='a', header=False)\n",
    "            print(time_list[i])\n",
    "\n",
    "\n",
    "name_list = ['BADAXBT', 'BBCHXBT', 'BEOSXBT', 'BETHXBT', 'BLTCXBT', 'BXBT', 'BXRPXBT', 'TRXXBT']\n",
    "\n",
    "time_list = get_list()\n",
    "\n",
    "timeperiod = get_time_period()\n",
    "for name in name_list:\n",
    "    get_info(time_list, name, timeperiod)\n",
    "# get_info(time_list, 'XBTU19')\n",
    "# 1 m, 5 m, 1 h, 1 d"
   ]
  },
  {
   "cell_type": "markdown",
   "metadata": {},
   "source": [
    "# Tushare"
   ]
  },
  {
   "cell_type": "code",
   "execution_count": 2,
   "metadata": {},
   "outputs": [],
   "source": [
    "import tushare as ts\n",
    "pro = ts.pro_api('2f31c3932ead9fcc3830879132cc3ec8df3566550f711889d4a30f67')"
   ]
  },
  {
   "cell_type": "code",
   "execution_count": 4,
   "metadata": {},
   "outputs": [
    {
     "ename": "Exception",
     "evalue": "抱歉，您没有权限访问该接口，权限的具体详情访问：https://tushare.pro/document/1?doc_id=108。",
     "output_type": "error",
     "traceback": [
      "\u001b[1;31m---------------------------------------------------------------------------\u001b[0m",
      "\u001b[1;31mException\u001b[0m                                 Traceback (most recent call last)",
      "\u001b[1;32m<ipython-input-4-a0149dcdf38c>\u001b[0m in \u001b[0;36m<module>\u001b[1;34m\u001b[0m\n\u001b[1;32m----> 1\u001b[1;33m \u001b[0mdf\u001b[0m \u001b[1;33m=\u001b[0m \u001b[0mpro\u001b[0m\u001b[1;33m.\u001b[0m\u001b[0mcoinbar\u001b[0m\u001b[1;33m(\u001b[0m\u001b[0mexchange\u001b[0m\u001b[1;33m=\u001b[0m\u001b[1;34m'huobi'\u001b[0m\u001b[1;33m,\u001b[0m \u001b[0msymbol\u001b[0m\u001b[1;33m=\u001b[0m\u001b[1;34m'btcusdt'\u001b[0m\u001b[1;33m,\u001b[0m \u001b[0mfreq\u001b[0m\u001b[1;33m=\u001b[0m\u001b[1;34m'daily'\u001b[0m\u001b[1;33m,\u001b[0m \u001b[0mstart_date\u001b[0m\u001b[1;33m=\u001b[0m\u001b[1;34m'20180801'\u001b[0m\u001b[1;33m,\u001b[0m \u001b[0mend_date\u001b[0m\u001b[1;33m=\u001b[0m\u001b[1;34m'20180802'\u001b[0m\u001b[1;33m)\u001b[0m\u001b[1;33m\u001b[0m\u001b[1;33m\u001b[0m\u001b[0m\n\u001b[0m",
      "\u001b[1;32m~\\Anaconda3\\lib\\site-packages\\tushare\\pro\\client.py\u001b[0m in \u001b[0;36mquery\u001b[1;34m(self, api_name, fields, **kwargs)\u001b[0m\n\u001b[0;32m     41\u001b[0m         \u001b[0mresult\u001b[0m \u001b[1;33m=\u001b[0m \u001b[0mjson\u001b[0m\u001b[1;33m.\u001b[0m\u001b[0mloads\u001b[0m\u001b[1;33m(\u001b[0m\u001b[0mres\u001b[0m\u001b[1;33m.\u001b[0m\u001b[0mtext\u001b[0m\u001b[1;33m)\u001b[0m\u001b[1;33m\u001b[0m\u001b[1;33m\u001b[0m\u001b[0m\n\u001b[0;32m     42\u001b[0m         \u001b[1;32mif\u001b[0m \u001b[0mresult\u001b[0m\u001b[1;33m[\u001b[0m\u001b[1;34m'code'\u001b[0m\u001b[1;33m]\u001b[0m \u001b[1;33m!=\u001b[0m \u001b[1;36m0\u001b[0m\u001b[1;33m:\u001b[0m\u001b[1;33m\u001b[0m\u001b[1;33m\u001b[0m\u001b[0m\n\u001b[1;32m---> 43\u001b[1;33m             \u001b[1;32mraise\u001b[0m \u001b[0mException\u001b[0m\u001b[1;33m(\u001b[0m\u001b[0mresult\u001b[0m\u001b[1;33m[\u001b[0m\u001b[1;34m'msg'\u001b[0m\u001b[1;33m]\u001b[0m\u001b[1;33m)\u001b[0m\u001b[1;33m\u001b[0m\u001b[1;33m\u001b[0m\u001b[0m\n\u001b[0m\u001b[0;32m     44\u001b[0m         \u001b[0mdata\u001b[0m \u001b[1;33m=\u001b[0m \u001b[0mresult\u001b[0m\u001b[1;33m[\u001b[0m\u001b[1;34m'data'\u001b[0m\u001b[1;33m]\u001b[0m\u001b[1;33m\u001b[0m\u001b[1;33m\u001b[0m\u001b[0m\n\u001b[0;32m     45\u001b[0m         \u001b[0mcolumns\u001b[0m \u001b[1;33m=\u001b[0m \u001b[0mdata\u001b[0m\u001b[1;33m[\u001b[0m\u001b[1;34m'fields'\u001b[0m\u001b[1;33m]\u001b[0m\u001b[1;33m\u001b[0m\u001b[1;33m\u001b[0m\u001b[0m\n",
      "\u001b[1;31mException\u001b[0m: 抱歉，您没有权限访问该接口，权限的具体详情访问：https://tushare.pro/document/1?doc_id=108。"
     ]
    }
   ],
   "source": [
    "df = pro.coinbar(exchange='bitmex', symbol='btcusdt', freq='daily', start_date='20180801', end_date='20180802')"
   ]
  },
  {
   "cell_type": "code",
   "execution_count": null,
   "metadata": {},
   "outputs": [],
   "source": []
  }
 ],
 "metadata": {
  "kernelspec": {
   "display_name": "Python 3",
   "language": "python",
   "name": "python3"
  },
  "language_info": {
   "codemirror_mode": {
    "name": "ipython",
    "version": 3
   },
   "file_extension": ".py",
   "mimetype": "text/x-python",
   "name": "python",
   "nbconvert_exporter": "python",
   "pygments_lexer": "ipython3",
   "version": "3.7.3"
  }
 },
 "nbformat": 4,
 "nbformat_minor": 2
}
